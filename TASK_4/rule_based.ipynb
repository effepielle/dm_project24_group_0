{
 "cells": [
  {
   "cell_type": "markdown",
   "metadata": {},
   "source": [
    "# Rule-based classifier"
   ]
  },
  {
   "cell_type": "code",
   "execution_count": 32,
   "metadata": {},
   "outputs": [],
   "source": [
    "from sklearn.preprocessing import StandardScaler, KBinsDiscretizer, OneHotEncoder\n",
    "import wittgenstein as lw\n",
    "from sklearn.compose import ColumnTransformer\n",
    "from sklearn.pipeline import Pipeline\n",
    "import pandas as pd"
   ]
  },
  {
   "cell_type": "code",
   "execution_count": 33,
   "metadata": {},
   "outputs": [],
   "source": [
    "train_data = pd.read_csv('../dataset/train_data.csv')\n",
    "train_labels = pd.read_csv('../dataset/train_labels.csv')\n",
    "train_labels = np.ravel(train_labels)\n",
    "\n",
    "test_data = pd.read_csv('../dataset/test_data.csv')\n",
    "test_labels = pd.read_csv('../dataset/test_labels.csv')"
   ]
  },
  {
   "cell_type": "markdown",
   "metadata": {},
   "source": [
    "## Preprocessing Pipeline"
   ]
  },
  {
   "cell_type": "code",
   "execution_count": 34,
   "metadata": {},
   "outputs": [],
   "source": [
    "cat_features = ['is_tarmac', 'length_cat', 'climb_cat']\n",
    "num_features = [col for col in train_data.columns if col not in cat_features]\n",
    "\n",
    "num_transformer = StandardScaler()\n",
    "cat_transformer = OneHotEncoder(handle_unknown='ignore')\n",
    "\n",
    "# preprocessing pipeline\n",
    "preprocessor = ColumnTransformer(\n",
    "    transformers=[\n",
    "        ('num', num_transformer, num_features),\n",
    "        ('cat', cat_transformer, cat_features)\n",
    "    ]\n",
    ")"
   ]
  },
  {
   "cell_type": "markdown",
   "metadata": {},
   "source": [
    "## RIPPER Model"
   ]
  },
  {
   "cell_type": "code",
   "execution_count": 38,
   "metadata": {},
   "outputs": [
    {
     "name": "stdout",
     "output_type": "stream",
     "text": [
      "Fitting 5 folds for each of 3 candidates, totalling 15 fits\n",
      "[CV] END classifier__dl_allowance=0.5, classifier__k=2, classifier__prune_size=0.5; total time= 1.4min\n",
      "[CV] END classifier__dl_allowance=0.3, classifier__k=8, classifier__prune_size=0.1; total time= 1.6min\n",
      "[CV] END classifier__dl_allowance=0.1, classifier__k=3, classifier__prune_size=0.5; total time= 1.6min\n",
      "[CV] END classifier__dl_allowance=0.1, classifier__k=3, classifier__prune_size=0.5; total time= 1.6min\n",
      "[CV] END classifier__dl_allowance=0.5, classifier__k=2, classifier__prune_size=0.5; total time= 1.9min\n",
      "[CV] END classifier__dl_allowance=0.5, classifier__k=2, classifier__prune_size=0.5; total time= 2.9min\n",
      "[CV] END classifier__dl_allowance=0.1, classifier__k=3, classifier__prune_size=0.5; total time= 3.2min\n",
      "[CV] END classifier__dl_allowance=0.5, classifier__k=2, classifier__prune_size=0.5; total time= 3.5min\n",
      "[CV] END classifier__dl_allowance=0.3, classifier__k=8, classifier__prune_size=0.1; total time= 2.2min\n",
      "[CV] END classifier__dl_allowance=0.5, classifier__k=2, classifier__prune_size=0.5; total time= 4.1min\n",
      "[CV] END classifier__dl_allowance=0.1, classifier__k=3, classifier__prune_size=0.5; total time= 4.1min\n",
      "[CV] END classifier__dl_allowance=0.3, classifier__k=8, classifier__prune_size=0.1; total time= 2.7min\n",
      "[CV] END classifier__dl_allowance=0.1, classifier__k=3, classifier__prune_size=0.5; total time= 4.2min\n",
      "[CV] END classifier__dl_allowance=0.3, classifier__k=8, classifier__prune_size=0.1; total time= 2.8min\n",
      "[CV] END classifier__dl_allowance=0.3, classifier__k=8, classifier__prune_size=0.1; total time= 4.5min\n",
      "Best parameters found:  {'classifier__prune_size': 0.5, 'classifier__k': 3, 'classifier__dl_allowance': 0.1}\n",
      "Best score found:  0.8705651127709444\n"
     ]
    }
   ],
   "source": [
    "#pipeline\n",
    "from weakref import ref\n",
    "from sklearn.model_selection import GridSearchCV, RandomizedSearchCV\n",
    "\n",
    "\n",
    "pipe = Pipeline(steps=[('preprocessor', preprocessor),\n",
    "                       ('classifier', lw.RIPPER())])\n",
    "param_grid = {\n",
    "    'classifier__prune_size': [0.1, 0.2, 0.3, 0.4, 0.5],\n",
    "    'classifier__dl_allowance': [0.1, 0.2, 0.3, 0.4, 0.5],\n",
    "    'classifier__k': [2, 3, 4, 5, 6, 7, 8, 9, 10],\n",
    "}\n",
    "\n",
    "scoring = ['accuracy', 'precision', 'recall', 'f1']\n",
    "\n",
    "#random grid\n",
    "random_search = RandomizedSearchCV(pipe, \n",
    "                                   param_distributions=param_grid, \n",
    "                                   n_iter=3, \n",
    "                                   cv=5, verbose=2, \n",
    "                                   random_state=42, \n",
    "                                   n_jobs=-1,\n",
    "                                   scoring=scoring, \n",
    "                                   refit='accuracy')\n",
    "random_search.fit(train_data, train_labels)\n",
    "\n",
    "print(\"Best parameters found: \", random_search.best_params_)\n",
    "print(\"Best score found: \", random_search.best_score_)"
   ]
  },
  {
   "cell_type": "code",
   "execution_count": 39,
   "metadata": {},
   "outputs": [
    {
     "name": "stdout",
     "output_type": "stream",
     "text": [
      "Accuracy  0.8590735347651984\n",
      "Precision  0.5574614065180102\n",
      "Recall  0.1027180783817952\n",
      "F1 Score  0.17347211102215104\n"
     ]
    }
   ],
   "source": [
    "from sklearn.metrics import f1_score, precision_score, recall_score, accuracy_score\n",
    "\n",
    "model = random_search.best_estimator_\n",
    "\n",
    "predictions = model.predict(test_data)\n",
    "\n",
    "print('Accuracy ', accuracy_score(test_labels, predictions))\n",
    "print('Precision ', precision_score(test_labels, predictions))\n",
    "print('Recall ', recall_score(test_labels, predictions))\n",
    "print('F1 Score ', f1_score(test_labels, predictions))"
   ]
  }
 ],
 "metadata": {
  "kernelspec": {
   "display_name": ".venv",
   "language": "python",
   "name": "python3"
  },
  "language_info": {
   "codemirror_mode": {
    "name": "ipython",
    "version": 3
   },
   "file_extension": ".py",
   "mimetype": "text/x-python",
   "name": "python",
   "nbconvert_exporter": "python",
   "pygments_lexer": "ipython3",
   "version": "3.12.7"
  }
 },
 "nbformat": 4,
 "nbformat_minor": 2
}
