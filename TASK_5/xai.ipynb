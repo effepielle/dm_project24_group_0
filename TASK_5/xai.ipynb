{
 "cells": [
  {
   "cell_type": "markdown",
   "metadata": {},
   "source": [
    "# **XAI for Best Classifier (gbm)**"
   ]
  },
  {
   "cell_type": "markdown",
   "metadata": {},
   "source": [
    "Main goal of this notebook is to try to explain decisions made by Gradient Boosting Machine classifier in out binary classification task"
   ]
  },
  {
   "cell_type": "code",
   "execution_count": 1,
   "metadata": {},
   "outputs": [],
   "source": [
    "%load_ext autoreload\n",
    "%autoreload 2"
   ]
  },
  {
   "cell_type": "code",
   "execution_count": 2,
   "metadata": {},
   "outputs": [],
   "source": [
    "import joblib\n",
    "import pandas as pd\n",
    "import numpy as np\n",
    "from sklearn.metrics import classification_report"
   ]
  },
  {
   "cell_type": "code",
   "execution_count": 3,
   "metadata": {},
   "outputs": [],
   "source": [
    "# load data\n",
    "train_df = pd.read_csv('../dataset/train_data.csv')\n",
    "train_labels = pd.read_csv('../dataset/train_labels.csv')\n",
    "test_df = pd.read_csv('../dataset/test_data.csv')\n",
    "test_labels = pd.read_csv('../dataset/test_labels.csv')\n",
    "\n",
    "# Load the model\n",
    "best_model = joblib.load('../TASK_4/best_models/gbm.pkl')"
   ]
  },
  {
   "cell_type": "code",
   "execution_count": 4,
   "metadata": {},
   "outputs": [],
   "source": [
    "columns_to_drop = ['_url', 'name',  'profile', 'length',\n",
    "                            'startlist_quality', 'position', 'cyclist', 'cyclist_team', \n",
    "                            'duration', 'cyclist_experience_profile',\n",
    "                            'cyclist_experience_length', 'cyclist_experience_climb', \n",
    "                            'avg_rel_position_length', 'avg_rel_position_climb', \n",
    "                            'relative_position_sum', 'relative_position',\n",
    "                            \"climb_cat\", \"length_cat\", \"cyclist_number\", \n",
    "                            \"avg_rel_position_profile\", \"points\", 'is_tarmac', \n",
    "                            'avg_cyclist_level']\n",
    "\n",
    "train_data = train_df.drop(columns=columns_to_drop, inplace=False)\n",
    "test_data = test_df.drop(columns=columns_to_drop, inplace=False)\n",
    "train_data = train_data[:400]\n",
    "train_labels = train_labels[:400]\n",
    "test_data = test_data[:400]\n",
    "test_labels = test_labels[:400]"
   ]
  },
  {
   "cell_type": "code",
   "execution_count": 5,
   "metadata": {},
   "outputs": [
    {
     "data": {
      "text/html": [
       "<div>\n",
       "<style scoped>\n",
       "    .dataframe tbody tr th:only-of-type {\n",
       "        vertical-align: middle;\n",
       "    }\n",
       "\n",
       "    .dataframe tbody tr th {\n",
       "        vertical-align: top;\n",
       "    }\n",
       "\n",
       "    .dataframe thead th {\n",
       "        text-align: right;\n",
       "    }\n",
       "</style>\n",
       "<table border=\"1\" class=\"dataframe\">\n",
       "  <thead>\n",
       "    <tr style=\"text-align: right;\">\n",
       "      <th></th>\n",
       "      <th>precision</th>\n",
       "      <th>recall</th>\n",
       "      <th>f1-score</th>\n",
       "      <th>support</th>\n",
       "    </tr>\n",
       "  </thead>\n",
       "  <tbody>\n",
       "    <tr>\n",
       "      <th>0</th>\n",
       "      <td>0.919014</td>\n",
       "      <td>0.783784</td>\n",
       "      <td>0.846029</td>\n",
       "      <td>333.0000</td>\n",
       "    </tr>\n",
       "    <tr>\n",
       "      <th>1</th>\n",
       "      <td>0.379310</td>\n",
       "      <td>0.656716</td>\n",
       "      <td>0.480874</td>\n",
       "      <td>67.0000</td>\n",
       "    </tr>\n",
       "    <tr>\n",
       "      <th>accuracy</th>\n",
       "      <td>0.762500</td>\n",
       "      <td>0.762500</td>\n",
       "      <td>0.762500</td>\n",
       "      <td>0.7625</td>\n",
       "    </tr>\n",
       "    <tr>\n",
       "      <th>macro avg</th>\n",
       "      <td>0.649162</td>\n",
       "      <td>0.720250</td>\n",
       "      <td>0.663452</td>\n",
       "      <td>400.0000</td>\n",
       "    </tr>\n",
       "    <tr>\n",
       "      <th>weighted avg</th>\n",
       "      <td>0.828614</td>\n",
       "      <td>0.762500</td>\n",
       "      <td>0.784866</td>\n",
       "      <td>400.0000</td>\n",
       "    </tr>\n",
       "  </tbody>\n",
       "</table>\n",
       "</div>"
      ],
      "text/plain": [
       "              precision    recall  f1-score   support\n",
       "0              0.919014  0.783784  0.846029  333.0000\n",
       "1              0.379310  0.656716  0.480874   67.0000\n",
       "accuracy       0.762500  0.762500  0.762500    0.7625\n",
       "macro avg      0.649162  0.720250  0.663452  400.0000\n",
       "weighted avg   0.828614  0.762500  0.784866  400.0000"
      ]
     },
     "execution_count": 5,
     "metadata": {},
     "output_type": "execute_result"
    }
   ],
   "source": [
    "train_prediction = best_model.predict(train_data)\n",
    "test_prediction = best_model.predict(test_data)\n",
    "\n",
    "validation = classification_report(test_labels, test_prediction, output_dict=True)\n",
    "pd.DataFrame(validation).transpose()"
   ]
  },
  {
   "cell_type": "code",
   "execution_count": 6,
   "metadata": {},
   "outputs": [],
   "source": [
    "perturbation_data = train_data\n",
    "perturbation_labels = train_labels\n",
    "perturbation_predictions = train_prediction\n",
    "\n",
    "explanation_data = test_data\n",
    "explanation_labels = test_labels\n",
    "explanation_predictions = test_prediction\n",
    "\n",
    "explanations = dict()"
   ]
  },
  {
   "cell_type": "markdown",
   "metadata": {},
   "source": [
    "## **GBM Feature Importance**"
   ]
  },
  {
   "cell_type": "code",
   "execution_count": 7,
   "metadata": {},
   "outputs": [
    {
     "data": {
      "image/png": "[encoded data removed]",
      "text/plain": [
       "<Figure size 1000x600 with 1 Axes>"
      ]
     },
     "metadata": {},
     "output_type": "display_data"
    }
   ],
   "source": [
    "import matplotlib.pyplot as plt\n",
    "\n",
    "gbm_model = best_model.named_steps['clf']\n",
    "\n",
    "# Print feature importance\n",
    "feature_importances = gbm_model.feature_importances_\n",
    "\n",
    "# Plot feature importance\n",
    "plt.figure(figsize=(10, 6))\n",
    "plt.barh(train_data.columns, feature_importances)\n",
    "plt.xlabel('Feature Importance')\n",
    "plt.ylabel('Feature')\n",
    "plt.title('Feature Importances from Gradient Boosting Machine')\n",
    "plt.show()"
   ]
  },
  {
   "cell_type": "code",
   "execution_count": 8,
   "metadata": {},
   "outputs": [
    {
     "name": "stdout",
     "output_type": "stream",
     "text": [
      "gbm feture importance:\n",
      "climb_total: 36338.73665381968\n",
      "cyclist_age: 200057.82809996605\n",
      "cyclist_level: 7410.736044220626\n",
      "cyclist_experience: 9882.760590434074\n",
      "avg_relative_position: 32676.535688221455\n",
      "position_entropy: 9019.091836452484\n",
      "top_20_entropy: 248606.06138264015\n"
     ]
    }
   ],
   "source": [
    "print(\"gbm feture importance:\")\n",
    "for feature, importance in zip(train_data.columns, feature_importances):\n",
    "    print(f\"{feature}: {importance}\")"
   ]
  },
  {
   "cell_type": "markdown",
   "metadata": {},
   "source": [
    "Recalling this is importance coming from GBM library"
   ]
  },
  {
   "cell_type": "markdown",
   "metadata": {},
   "source": [
    "## **SHAP**"
   ]
  },
  {
   "cell_type": "code",
   "execution_count": 9,
   "metadata": {},
   "outputs": [
    {
     "name": "stderr",
     "output_type": "stream",
     "text": [
      "/Users/francesco/miniconda3/envs/dm/lib/python3.12/site-packages/tqdm/auto.py:21: TqdmWarning: IProgress not found. Please update jupyter and ipywidgets. See https://ipywidgets.readthedocs.io/en/stable/user_install.html\n",
      "  from .autonotebook import tqdm as notebook_tqdm\n"
     ]
    }
   ],
   "source": [
    "import shap"
   ]
  },
  {
   "cell_type": "code",
   "execution_count": 10,
   "metadata": {},
   "outputs": [],
   "source": [
    "# Extract the underlying model from the pipeline\n",
    "gbm_model = best_model.named_steps['clf']\n",
    "\n",
    "interventional_explanation_algorithm = shap.TreeExplainer(\n",
    "    model=gbm_model,\n",
    "    data=train_data,                       # perturb on a causal model induced on perturbation data\n",
    "    feature_perturbation=\"interventional\"  # use a causal model\n",
    ")\n",
    "\n",
    "distributional_explanation_algorithm = shap.TreeExplainer(\n",
    "    model=gbm_model,\n",
    "    feature_perturbation=\"tree_path_dependent\"  # condition on the distribution learned on the train data\n",
    ")\n"
   ]
  },
  {
   "cell_type": "code",
   "execution_count": 11,
   "metadata": {},
   "outputs": [],
   "source": [
    "interventional_explanations = interventional_explanation_algorithm(explanation_data)\n",
    "distributional_explanations = distributional_explanation_algorithm(explanation_data)\n",
    "\n",
    "explanations[\"shap_interventional\"] = interventional_explanations.values\n",
    "explanations[\"shap_distributional\"] = distributional_explanations.values"
   ]
  },
  {
   "cell_type": "code",
   "execution_count": 12,
   "metadata": {},
   "outputs": [
    {
     "data": {
      "image/png": "[encoded data removed]",
      "text/plain": [
       "<Figure size 800x430 with 2 Axes>"
      ]
     },
     "metadata": {},
     "output_type": "display_data"
    }
   ],
   "source": [
    "shap.plots.beeswarm(interventional_explanations)"
   ]
  },
  {
   "cell_type": "markdown",
   "metadata": {},
   "source": [
    "The plot shows that `climb_total` and `avg_relative_position` have the strongest influence on predictions, with high climb totals contributing positively. Features like `cyclist_level` and `cyclist_experience` show less impact, while `cyclist_age` has minimal influence."
   ]
  },
  {
   "cell_type": "markdown",
   "metadata": {},
   "source": [
    "The discrepancy arises because GBM importance measures feature impact based on split frequency and impurity reduction, favoring features like `top_20_entropy`, while SHAP evaluates individual prediction contributions, offering a more balanced perspective."
   ]
  },
  {
   "cell_type": "code",
   "execution_count": 13,
   "metadata": {},
   "outputs": [
    {
     "data": {
      "image/png": "[encoded data removed]",
      "text/plain": [
       "<Figure size 800x430 with 2 Axes>"
      ]
     },
     "metadata": {},
     "output_type": "display_data"
    }
   ],
   "source": [
    "shap.plots.beeswarm(distributional_explanations)"
   ]
  },
  {
   "cell_type": "markdown",
   "metadata": {},
   "source": [
    "Here’s a concise feature-by-feature summary of the SHAP plot:\n",
    "\n",
    "1. **Cyclist Age**: Older cyclists (red) have a **negative impact** on the model’s output.\n",
    "2. **Climb Total**: More climbs (red) are associated with **worse predictions** (negative SHAP values).\n",
    "3. **Position Entropy**: Higher entropy (red) leads to **negative SHAP values**, indicating uncertainty in position hurts predictions.\n",
    "4. **Average Relative Position**: Better positions (blue) correspond to **positive SHAP values**, predicting better performance.\n",
    "5. **Cyclist Level**: Higher levels (red) lead to **positive SHAP values**, indicating better performance predictions.\n",
    "6. **Cyclist Experience**: More experience (red) correlates with **negative SHAP values**, predicting worse outcomes.\n",
    "7. **Top 20 Entropy**: Higher entropy (red) results in **negative SHAP values**, suggesting uncertainty in top rankings decreases predictions.\n",
    "\n",
    "Overall, features like **cyclist level** and **relative position** show positive impacts, while **age**, **climb total**, and **experience** correlate with negative impacts."
   ]
  },
  {
   "cell_type": "code",
   "execution_count": 14,
   "metadata": {},
   "outputs": [
    {
     "name": "stdout",
     "output_type": "stream",
     "text": [
      "Features sorted by decreasing importance for interventional method:\n",
      "avg_relative_position    0.439445\n",
      "climb_total              0.427925\n",
      "top_20_entropy           0.258287\n",
      "position_entropy         0.063045\n",
      "cyclist_level            0.031866\n",
      "cyclist_experience       0.011327\n",
      "cyclist_age              0.000000\n",
      "dtype: float64\n",
      "\n",
      "Features sorted by decreasing importance for distributional method:\n",
      "cyclist_age              1.342098\n",
      "climb_total              0.965981\n",
      "position_entropy         0.794868\n",
      "avg_relative_position    0.683794\n",
      "cyclist_level            0.498500\n",
      "cyclist_experience       0.240513\n",
      "top_20_entropy           0.151461\n",
      "dtype: float64\n"
     ]
    }
   ],
   "source": [
    "print(\"Features sorted by decreasing importance for interventional method:\")\n",
    "interventional_explanations_df = pd.DataFrame(interventional_explanations.values, columns=train_data.columns.tolist())\n",
    "print(interventional_explanations_df.abs().mean().sort_values(ascending=False))\n",
    "\n",
    "print(\"\\nFeatures sorted by decreasing importance for distributional method:\")\n",
    "distributional_explanations_df = pd.DataFrame(distributional_explanations.values, columns=train_data.columns.tolist())\n",
    "print(distributional_explanations_df.abs().mean().sort_values(ascending=False))"
   ]
  },
  {
   "cell_type": "markdown",
   "metadata": {},
   "source": [
    "Let's analyze feature importance according to shap values"
   ]
  },
  {
   "cell_type": "code",
   "execution_count": 15,
   "metadata": {},
   "outputs": [
    {
     "name": "stdout",
     "output_type": "stream",
     "text": [
      "\n",
      "Features sorted by decreasing importance for interventional method:\n"
     ]
    },
    {
     "data": {
      "image/png": "[encoded data removed]",
      "text/plain": [
       "<Figure size 800x430 with 1 Axes>"
      ]
     },
     "metadata": {},
     "output_type": "display_data"
    },
    {
     "name": "stdout",
     "output_type": "stream",
     "text": [
      "\n",
      "Features sorted by decreasing importance for distributional method:\n"
     ]
    },
    {
     "data": {
      "image/png": "[encoded data removed]",
      "text/plain": [
       "<Figure size 800x430 with 1 Axes>"
      ]
     },
     "metadata": {},
     "output_type": "display_data"
    }
   ],
   "source": [
    "print(\"\\nFeatures sorted by decreasing importance for interventional method:\")\n",
    "shap.summary_plot(interventional_explanations, test_data, plot_type=\"bar\")\n",
    "print(\"\\nFeatures sorted by decreasing importance for distributional method:\")\n",
    "shap.summary_plot(distributional_explanations, test_data, plot_type=\"bar\")"
   ]
  },
  {
   "cell_type": "code",
   "execution_count": 16,
   "metadata": {},
   "outputs": [
    {
     "name": "stdout",
     "output_type": "stream",
     "text": [
      "Features sorted by decreasing importance for interventional method:\n",
      "avg_relative_position    0.439445\n",
      "climb_total              0.427925\n",
      "top_20_entropy           0.258287\n",
      "position_entropy         0.063045\n",
      "cyclist_level            0.031866\n",
      "cyclist_experience       0.011327\n",
      "cyclist_age              0.000000\n",
      "dtype: float64\n",
      "\n",
      "Features sorted by decreasing importance for distributional method:\n",
      "cyclist_age              1.342098\n",
      "climb_total              0.965981\n",
      "position_entropy         0.794868\n",
      "avg_relative_position    0.683794\n",
      "cyclist_level            0.498500\n",
      "cyclist_experience       0.240513\n",
      "top_20_entropy           0.151461\n",
      "dtype: float64\n"
     ]
    }
   ],
   "source": [
    "print(\"Features sorted by decreasing importance for interventional method:\")\n",
    "interventional_explanations_df = pd.DataFrame(interventional_explanations.values, columns=train_data.columns.tolist())\n",
    "print(interventional_explanations_df.abs().mean().sort_values(ascending=False))\n",
    "\n",
    "print(\"\\nFeatures sorted by decreasing importance for distributional method:\")\n",
    "distributional_explanations_df = pd.DataFrame(distributional_explanations.values, columns=train_data.columns.tolist())\n",
    "print(distributional_explanations_df.abs().mean().sort_values(ascending=False))"
   ]
  },
  {
   "cell_type": "code",
   "execution_count": 17,
   "metadata": {},
   "outputs": [
    {
     "data": {
      "image/png": "[encoded data removed]",
      "text/plain": [
       "<Figure size 1500x500 with 4 Axes>"
      ]
     },
     "metadata": {},
     "output_type": "display_data"
    }
   ],
   "source": [
    "fig, ax = plt.subplots(1, 2, figsize=(15, 5))\n",
    "\n",
    "shap.dependence_plot(\"avg_relative_position\", explanations[\"shap_interventional\"], test_data, ax=ax[0], show=False)\n",
    "ax[0].set_title('Interventional Explanation')\n",
    "\n",
    "shap.dependence_plot(\"avg_relative_position\", explanations[\"shap_distributional\"], test_data, ax=ax[1], show=False)\n",
    "ax[1].set_title('Distributional Explanation')\n",
    "\n",
    "plt.tight_layout()\n",
    "plt.show()"
   ]
  },
  {
   "cell_type": "markdown",
   "metadata": {},
   "source": [
    "The results show a positive correlation between `top_20_entropy` and the SHAP values of `avg_relative_position`, with higher entropy values tending to lead to higher SHAP values. On the other hand, the `climb_total` variable appears to have a negative relationship with `avg_relative_position`, as higher `climb_total` values are associated with lower SHAP values. These results suggest that `top_20_entropy` has a positive influence on the model, while `climb_total` has a negative effect on the prediction of `avg_relative_position`."
   ]
  },
  {
   "cell_type": "markdown",
   "metadata": {},
   "source": [
    "### Let's visualize some decisions made one sample for classe with different explainer"
   ]
  },
  {
   "cell_type": "markdown",
   "metadata": {},
   "source": [
    "let's consider negative instance 32, predicted as positive"
   ]
  },
  {
   "cell_type": "code",
   "execution_count": 18,
   "metadata": {},
   "outputs": [
    {
     "name": "stdout",
     "output_type": "stream",
     "text": [
      "Label for instance 32: 0\n",
      "Prediction for instance 32: 1\n"
     ]
    },
    {
     "data": {
      "image/png": "[encoded data removed]",
      "text/plain": [
       "<Figure size 1500x500 with 2 Axes>"
      ]
     },
     "metadata": {},
     "output_type": "display_data"
    },
    {
     "name": "stdout",
     "output_type": "stream",
     "text": [
      "Predicted value: 1\n",
      "Real value: 0\n"
     ]
    }
   ],
   "source": [
    "instance_index = 32\n",
    "print(\"Label for instance 32:\", test_labels.iloc[instance_index].values[0])\n",
    "print(\"Prediction for instance 32:\", test_prediction[instance_index])\n",
    "fig, ax = plt.subplots(1, 2, figsize=(15, 5))\n",
    "\n",
    "shap.plots.bar(interventional_explanations[instance_index], show=False, ax=ax[0])\n",
    "ax[0].set_title('Interventional Explanation')\n",
    "\n",
    "shap.plots.bar(distributional_explanations[instance_index], show=False, ax=ax[1])\n",
    "ax[1].set_title('Distributional Explanation')\n",
    "\n",
    "plt.tight_layout()\n",
    "plt.show()\n",
    "\n",
    "print(\"Predicted value:\", explanation_predictions[instance_index])\n",
    "print(\"Real value:\", explanation_labels.iloc[instance_index].values[0])"
   ]
  },
  {
   "cell_type": "markdown",
   "metadata": {},
   "source": [
    "This plot is a local explanation for a negative data point, classified as positive. Concerning Interventional explanation, it shows that the models gives greater weight to \"avg_relative_position\" feature. This positively influenced the final prediction, outweighing the impact of other features, which contributed to lowering the probability of this classification.\n",
    "\n",
    "We can hypothesize that \"avg_relative_position\" is closely related to high cyclist performance, such as good average race placements indicates its strength on average. As a result, the model interpreted these high values as indicators of a top-level cyclist, classifying them as class 1.\n",
    "\n",
    "Concerning Distributional explanation the model shows that only \"top_20_entropy\" column countributes in leading to a positive label while others not."
   ]
  },
  {
   "cell_type": "markdown",
   "metadata": {},
   "source": [
    "----\n"
   ]
  },
  {
   "cell_type": "code",
   "execution_count": 19,
   "metadata": {},
   "outputs": [],
   "source": [
    "import seaborn\n",
    "\n",
    "explanation_differences = interventional_explanations.values - distributional_explanations.values\n",
    "maximum_differences_per_instance = explanation_differences.max(axis=1)\n",
    "maximum_differences_per_feature = explanation_differences.max(axis=0)"
   ]
  },
  {
   "cell_type": "code",
   "execution_count": 20,
   "metadata": {},
   "outputs": [
    {
     "data": {
      "text/plain": [
       "<Axes: ylabel='Density'>"
      ]
     },
     "execution_count": 20,
     "metadata": {},
     "output_type": "execute_result"
    },
    {
     "data": {
      "image/png": "[encoded data removed]",
      "text/plain": [
       "<Figure size 640x480 with 1 Axes>"
      ]
     },
     "metadata": {},
     "output_type": "display_data"
    }
   ],
   "source": [
    "seaborn.kdeplot(maximum_differences_per_instance)"
   ]
  },
  {
   "cell_type": "markdown",
   "metadata": {},
   "source": [
    "This plot shows that the most common difference in the interpretations of the two explainers falls between 1.4 and 1.5. Smaller and larger differences are less frequently observed across the instances."
   ]
  },
  {
   "cell_type": "code",
   "execution_count": 21,
   "metadata": {},
   "outputs": [
    {
     "data": {
      "image/png": "[encoded data removed]",
      "text/plain": [
       "<Figure size 640x480 with 1 Axes>"
      ]
     },
     "metadata": {},
     "output_type": "display_data"
    }
   ],
   "source": [
    "# Create a dataframte for better plotting\n",
    "feature_differences = pd.DataFrame({\n",
    "    'Feature': train_data.columns,\n",
    "    'Max Difference': maximum_differences_per_feature\n",
    "})\n",
    "\n",
    "seaborn.scatterplot(data=feature_differences, x='Feature', y='Max Difference')\n",
    "plt.xticks(rotation=45)\n",
    "plt.show()"
   ]
  },
  {
   "cell_type": "markdown",
   "metadata": {},
   "source": [
    "There is greater inconsistency between the two explanation methods for the \"total climb\" feature, which is considered important in both methods, while its importance is not as high in the native GBM model. In contrast, the inconsistency is lower for the \"cyclist experience\" feature, as it is rarely utilized by the model, which is reflected in its feature importance in the GBM model."
   ]
  },
  {
   "cell_type": "markdown",
   "metadata": {},
   "source": [
    "### Explanation analysis"
   ]
  },
  {
   "cell_type": "markdown",
   "metadata": {},
   "source": [
    "Let analyze if some features generally more impactful then others adding noise to the feature and analyizing how much it impacts model's predctions "
   ]
  },
  {
   "cell_type": "markdown",
   "metadata": {},
   "source": [
    "Starting performances are:"
   ]
  },
  {
   "cell_type": "code",
   "execution_count": 22,
   "metadata": {},
   "outputs": [
    {
     "data": {
      "text/html": [
       "<div>\n",
       "<style scoped>\n",
       "    .dataframe tbody tr th:only-of-type {\n",
       "        vertical-align: middle;\n",
       "    }\n",
       "\n",
       "    .dataframe tbody tr th {\n",
       "        vertical-align: top;\n",
       "    }\n",
       "\n",
       "    .dataframe thead th {\n",
       "        text-align: right;\n",
       "    }\n",
       "</style>\n",
       "<table border=\"1\" class=\"dataframe\">\n",
       "  <thead>\n",
       "    <tr style=\"text-align: right;\">\n",
       "      <th></th>\n",
       "      <th>0</th>\n",
       "      <th>1</th>\n",
       "      <th>accuracy</th>\n",
       "      <th>macro avg</th>\n",
       "      <th>weighted avg</th>\n",
       "    </tr>\n",
       "  </thead>\n",
       "  <tbody>\n",
       "    <tr>\n",
       "      <th>precision</th>\n",
       "      <td>0.919014</td>\n",
       "      <td>0.379310</td>\n",
       "      <td>0.7625</td>\n",
       "      <td>0.649162</td>\n",
       "      <td>0.828614</td>\n",
       "    </tr>\n",
       "    <tr>\n",
       "      <th>recall</th>\n",
       "      <td>0.783784</td>\n",
       "      <td>0.656716</td>\n",
       "      <td>0.7625</td>\n",
       "      <td>0.720250</td>\n",
       "      <td>0.762500</td>\n",
       "    </tr>\n",
       "    <tr>\n",
       "      <th>f1-score</th>\n",
       "      <td>0.846029</td>\n",
       "      <td>0.480874</td>\n",
       "      <td>0.7625</td>\n",
       "      <td>0.663452</td>\n",
       "      <td>0.784866</td>\n",
       "    </tr>\n",
       "    <tr>\n",
       "      <th>support</th>\n",
       "      <td>333.000000</td>\n",
       "      <td>67.000000</td>\n",
       "      <td>0.7625</td>\n",
       "      <td>400.000000</td>\n",
       "      <td>400.000000</td>\n",
       "    </tr>\n",
       "  </tbody>\n",
       "</table>\n",
       "</div>"
      ],
      "text/plain": [
       "                    0          1  accuracy   macro avg  weighted avg\n",
       "precision    0.919014   0.379310    0.7625    0.649162      0.828614\n",
       "recall       0.783784   0.656716    0.7625    0.720250      0.762500\n",
       "f1-score     0.846029   0.480874    0.7625    0.663452      0.784866\n",
       "support    333.000000  67.000000    0.7625  400.000000    400.000000"
      ]
     },
     "execution_count": 22,
     "metadata": {},
     "output_type": "execute_result"
    }
   ],
   "source": [
    "pd.DataFrame(validation)"
   ]
  },
  {
   "cell_type": "markdown",
   "metadata": {},
   "source": [
    "Let's sort features accordind to interventional explanation (we prefer this because match more with gbm importance)"
   ]
  },
  {
   "cell_type": "code",
   "execution_count": 23,
   "metadata": {},
   "outputs": [
    {
     "name": "stdout",
     "output_type": "stream",
     "text": [
      "Features sorted by decreasing importance for interventional method:\n",
      "- avg_relative_position\n",
      "- climb_total\n",
      "- top_20_entropy\n",
      "- position_entropy\n",
      "- cyclist_level\n",
      "- cyclist_experience\n",
      "- cyclist_age\n"
     ]
    }
   ],
   "source": [
    "interventional_explanations_df = pd.DataFrame(interventional_explanations.values, columns=train_data.columns.tolist())\n",
    "features_by_importance = interventional_explanations_df.abs().mean().sort_values(ascending=False).index\n",
    "\n",
    "print(\"Features sorted by decreasing importance for interventional method:\")\n",
    "for feature in features_by_importance:\n",
    "    print(\"-\",feature)"
   ]
  },
  {
   "cell_type": "markdown",
   "metadata": {},
   "source": [
    "Let's construct a set of corrupted datasets where noise at different magnitudes is inserted into the original dataset"
   ]
  },
  {
   "cell_type": "code",
   "execution_count": 24,
   "metadata": {},
   "outputs": [],
   "source": [
    "from sklearn.preprocessing import StandardScaler\n",
    "\n",
    "scaler = StandardScaler()\n",
    "test_data_norm = pd.DataFrame(scaler.fit_transform(test_data), columns=test_data.columns)\n",
    "\n",
    "random_noise = np.random.rand(test_data_norm.shape[0],)\n",
    "noise_magnitudes = [eps / 10 for eps in range(2, 10)]\n",
    "\n",
    "corruptions_by_feature_and_noise = dict()\n",
    "for feature in features_by_importance:\n",
    "    for noise_magnitude in noise_magnitudes:\n",
    "        corruptions_by_feature_and_noise[(feature, noise_magnitude)] = test_data_norm.copy()\n",
    "        corruptions_by_feature_and_noise[(feature, noise_magnitude)][feature] = corruptions_by_feature_and_noise[(feature, noise_magnitude)][feature] + random_noise * noise_magnitude"
   ]
  },
  {
   "cell_type": "markdown",
   "metadata": {},
   "source": [
    "Validate the model on the altered data"
   ]
  },
  {
   "cell_type": "code",
   "execution_count": 25,
   "metadata": {},
   "outputs": [],
   "source": [
    "validations_by_feature_and_noise = dict()\n",
    "for (feature, noise), corruption in corruptions_by_feature_and_noise.items():\n",
    "    validations_by_feature_and_noise[(feature, noise)] = classification_report(test_labels, gbm_model.predict(corruption), output_dict=True, zero_division=0)"
   ]
  },
  {
   "cell_type": "code",
   "execution_count": 26,
   "metadata": {},
   "outputs": [
    {
     "data": {
      "text/html": [
       "<div>\n",
       "<style scoped>\n",
       "    .dataframe tbody tr th:only-of-type {\n",
       "        vertical-align: middle;\n",
       "    }\n",
       "\n",
       "    .dataframe tbody tr th {\n",
       "        vertical-align: top;\n",
       "    }\n",
       "\n",
       "    .dataframe thead th {\n",
       "        text-align: right;\n",
       "    }\n",
       "</style>\n",
       "<table border=\"1\" class=\"dataframe\">\n",
       "  <thead>\n",
       "    <tr style=\"text-align: right;\">\n",
       "      <th></th>\n",
       "      <th>feature</th>\n",
       "      <th>noise_magnitude</th>\n",
       "      <th>performance</th>\n",
       "      <th>algorithm</th>\n",
       "      <th>difference</th>\n",
       "    </tr>\n",
       "  </thead>\n",
       "  <tbody>\n",
       "    <tr>\n",
       "      <th>0</th>\n",
       "      <td>avg_relative_position</td>\n",
       "      <td>0.2</td>\n",
       "      <td>0.287611</td>\n",
       "      <td>shap</td>\n",
       "      <td>-0.193264</td>\n",
       "    </tr>\n",
       "    <tr>\n",
       "      <th>1</th>\n",
       "      <td>avg_relative_position</td>\n",
       "      <td>0.3</td>\n",
       "      <td>0.288889</td>\n",
       "      <td>shap</td>\n",
       "      <td>-0.191985</td>\n",
       "    </tr>\n",
       "    <tr>\n",
       "      <th>2</th>\n",
       "      <td>avg_relative_position</td>\n",
       "      <td>0.4</td>\n",
       "      <td>0.289532</td>\n",
       "      <td>shap</td>\n",
       "      <td>-0.191342</td>\n",
       "    </tr>\n",
       "    <tr>\n",
       "      <th>3</th>\n",
       "      <td>avg_relative_position</td>\n",
       "      <td>0.5</td>\n",
       "      <td>0.288889</td>\n",
       "      <td>shap</td>\n",
       "      <td>-0.191985</td>\n",
       "    </tr>\n",
       "    <tr>\n",
       "      <th>4</th>\n",
       "      <td>avg_relative_position</td>\n",
       "      <td>0.6</td>\n",
       "      <td>0.288889</td>\n",
       "      <td>shap</td>\n",
       "      <td>-0.191985</td>\n",
       "    </tr>\n",
       "    <tr>\n",
       "      <th>5</th>\n",
       "      <td>avg_relative_position</td>\n",
       "      <td>0.7</td>\n",
       "      <td>0.288889</td>\n",
       "      <td>shap</td>\n",
       "      <td>-0.191985</td>\n",
       "    </tr>\n",
       "    <tr>\n",
       "      <th>6</th>\n",
       "      <td>avg_relative_position</td>\n",
       "      <td>0.8</td>\n",
       "      <td>0.288889</td>\n",
       "      <td>shap</td>\n",
       "      <td>-0.191985</td>\n",
       "    </tr>\n",
       "    <tr>\n",
       "      <th>7</th>\n",
       "      <td>avg_relative_position</td>\n",
       "      <td>0.9</td>\n",
       "      <td>0.289532</td>\n",
       "      <td>shap</td>\n",
       "      <td>-0.191342</td>\n",
       "    </tr>\n",
       "    <tr>\n",
       "      <th>8</th>\n",
       "      <td>climb_total</td>\n",
       "      <td>0.2</td>\n",
       "      <td>0.286344</td>\n",
       "      <td>shap</td>\n",
       "      <td>-0.194531</td>\n",
       "    </tr>\n",
       "    <tr>\n",
       "      <th>9</th>\n",
       "      <td>climb_total</td>\n",
       "      <td>0.3</td>\n",
       "      <td>0.286344</td>\n",
       "      <td>shap</td>\n",
       "      <td>-0.194531</td>\n",
       "    </tr>\n",
       "    <tr>\n",
       "      <th>10</th>\n",
       "      <td>climb_total</td>\n",
       "      <td>0.4</td>\n",
       "      <td>0.286344</td>\n",
       "      <td>shap</td>\n",
       "      <td>-0.194531</td>\n",
       "    </tr>\n",
       "    <tr>\n",
       "      <th>11</th>\n",
       "      <td>climb_total</td>\n",
       "      <td>0.5</td>\n",
       "      <td>0.285714</td>\n",
       "      <td>shap</td>\n",
       "      <td>-0.195160</td>\n",
       "    </tr>\n",
       "    <tr>\n",
       "      <th>12</th>\n",
       "      <td>climb_total</td>\n",
       "      <td>0.6</td>\n",
       "      <td>0.287611</td>\n",
       "      <td>shap</td>\n",
       "      <td>-0.193264</td>\n",
       "    </tr>\n",
       "    <tr>\n",
       "      <th>13</th>\n",
       "      <td>climb_total</td>\n",
       "      <td>0.7</td>\n",
       "      <td>0.287611</td>\n",
       "      <td>shap</td>\n",
       "      <td>-0.193264</td>\n",
       "    </tr>\n",
       "    <tr>\n",
       "      <th>14</th>\n",
       "      <td>climb_total</td>\n",
       "      <td>0.8</td>\n",
       "      <td>0.287611</td>\n",
       "      <td>shap</td>\n",
       "      <td>-0.193264</td>\n",
       "    </tr>\n",
       "    <tr>\n",
       "      <th>15</th>\n",
       "      <td>climb_total</td>\n",
       "      <td>0.9</td>\n",
       "      <td>0.287611</td>\n",
       "      <td>shap</td>\n",
       "      <td>-0.193264</td>\n",
       "    </tr>\n",
       "    <tr>\n",
       "      <th>16</th>\n",
       "      <td>top_20_entropy</td>\n",
       "      <td>0.2</td>\n",
       "      <td>0.288248</td>\n",
       "      <td>shap</td>\n",
       "      <td>-0.192626</td>\n",
       "    </tr>\n",
       "    <tr>\n",
       "      <th>17</th>\n",
       "      <td>top_20_entropy</td>\n",
       "      <td>0.3</td>\n",
       "      <td>0.288248</td>\n",
       "      <td>shap</td>\n",
       "      <td>-0.192626</td>\n",
       "    </tr>\n",
       "    <tr>\n",
       "      <th>18</th>\n",
       "      <td>top_20_entropy</td>\n",
       "      <td>0.4</td>\n",
       "      <td>0.288248</td>\n",
       "      <td>shap</td>\n",
       "      <td>-0.192626</td>\n",
       "    </tr>\n",
       "    <tr>\n",
       "      <th>19</th>\n",
       "      <td>top_20_entropy</td>\n",
       "      <td>0.5</td>\n",
       "      <td>0.288248</td>\n",
       "      <td>shap</td>\n",
       "      <td>-0.192626</td>\n",
       "    </tr>\n",
       "    <tr>\n",
       "      <th>20</th>\n",
       "      <td>top_20_entropy</td>\n",
       "      <td>0.6</td>\n",
       "      <td>0.288248</td>\n",
       "      <td>shap</td>\n",
       "      <td>-0.192626</td>\n",
       "    </tr>\n",
       "    <tr>\n",
       "      <th>21</th>\n",
       "      <td>top_20_entropy</td>\n",
       "      <td>0.7</td>\n",
       "      <td>0.288889</td>\n",
       "      <td>shap</td>\n",
       "      <td>-0.191985</td>\n",
       "    </tr>\n",
       "    <tr>\n",
       "      <th>22</th>\n",
       "      <td>top_20_entropy</td>\n",
       "      <td>0.8</td>\n",
       "      <td>0.288889</td>\n",
       "      <td>shap</td>\n",
       "      <td>-0.191985</td>\n",
       "    </tr>\n",
       "    <tr>\n",
       "      <th>23</th>\n",
       "      <td>top_20_entropy</td>\n",
       "      <td>0.9</td>\n",
       "      <td>0.289532</td>\n",
       "      <td>shap</td>\n",
       "      <td>-0.191342</td>\n",
       "    </tr>\n",
       "    <tr>\n",
       "      <th>24</th>\n",
       "      <td>position_entropy</td>\n",
       "      <td>0.2</td>\n",
       "      <td>0.286976</td>\n",
       "      <td>shap</td>\n",
       "      <td>-0.193899</td>\n",
       "    </tr>\n",
       "    <tr>\n",
       "      <th>25</th>\n",
       "      <td>position_entropy</td>\n",
       "      <td>0.3</td>\n",
       "      <td>0.286344</td>\n",
       "      <td>shap</td>\n",
       "      <td>-0.194531</td>\n",
       "    </tr>\n",
       "    <tr>\n",
       "      <th>26</th>\n",
       "      <td>position_entropy</td>\n",
       "      <td>0.4</td>\n",
       "      <td>0.286344</td>\n",
       "      <td>shap</td>\n",
       "      <td>-0.194531</td>\n",
       "    </tr>\n",
       "    <tr>\n",
       "      <th>27</th>\n",
       "      <td>position_entropy</td>\n",
       "      <td>0.5</td>\n",
       "      <td>0.286344</td>\n",
       "      <td>shap</td>\n",
       "      <td>-0.194531</td>\n",
       "    </tr>\n",
       "    <tr>\n",
       "      <th>28</th>\n",
       "      <td>position_entropy</td>\n",
       "      <td>0.6</td>\n",
       "      <td>0.286344</td>\n",
       "      <td>shap</td>\n",
       "      <td>-0.194531</td>\n",
       "    </tr>\n",
       "    <tr>\n",
       "      <th>29</th>\n",
       "      <td>position_entropy</td>\n",
       "      <td>0.7</td>\n",
       "      <td>0.286976</td>\n",
       "      <td>shap</td>\n",
       "      <td>-0.193899</td>\n",
       "    </tr>\n",
       "    <tr>\n",
       "      <th>30</th>\n",
       "      <td>position_entropy</td>\n",
       "      <td>0.8</td>\n",
       "      <td>0.286976</td>\n",
       "      <td>shap</td>\n",
       "      <td>-0.193899</td>\n",
       "    </tr>\n",
       "    <tr>\n",
       "      <th>31</th>\n",
       "      <td>position_entropy</td>\n",
       "      <td>0.9</td>\n",
       "      <td>0.286976</td>\n",
       "      <td>shap</td>\n",
       "      <td>-0.193899</td>\n",
       "    </tr>\n",
       "    <tr>\n",
       "      <th>32</th>\n",
       "      <td>cyclist_level</td>\n",
       "      <td>0.2</td>\n",
       "      <td>0.287611</td>\n",
       "      <td>shap</td>\n",
       "      <td>-0.193264</td>\n",
       "    </tr>\n",
       "    <tr>\n",
       "      <th>33</th>\n",
       "      <td>cyclist_level</td>\n",
       "      <td>0.3</td>\n",
       "      <td>0.286976</td>\n",
       "      <td>shap</td>\n",
       "      <td>-0.193899</td>\n",
       "    </tr>\n",
       "    <tr>\n",
       "      <th>34</th>\n",
       "      <td>cyclist_level</td>\n",
       "      <td>0.4</td>\n",
       "      <td>0.283186</td>\n",
       "      <td>shap</td>\n",
       "      <td>-0.197688</td>\n",
       "    </tr>\n",
       "    <tr>\n",
       "      <th>35</th>\n",
       "      <td>cyclist_level</td>\n",
       "      <td>0.5</td>\n",
       "      <td>0.283186</td>\n",
       "      <td>shap</td>\n",
       "      <td>-0.197688</td>\n",
       "    </tr>\n",
       "    <tr>\n",
       "      <th>36</th>\n",
       "      <td>cyclist_level</td>\n",
       "      <td>0.6</td>\n",
       "      <td>0.286976</td>\n",
       "      <td>shap</td>\n",
       "      <td>-0.193899</td>\n",
       "    </tr>\n",
       "    <tr>\n",
       "      <th>37</th>\n",
       "      <td>cyclist_level</td>\n",
       "      <td>0.7</td>\n",
       "      <td>0.286344</td>\n",
       "      <td>shap</td>\n",
       "      <td>-0.194531</td>\n",
       "    </tr>\n",
       "    <tr>\n",
       "      <th>38</th>\n",
       "      <td>cyclist_level</td>\n",
       "      <td>0.8</td>\n",
       "      <td>0.286344</td>\n",
       "      <td>shap</td>\n",
       "      <td>-0.194531</td>\n",
       "    </tr>\n",
       "    <tr>\n",
       "      <th>39</th>\n",
       "      <td>cyclist_level</td>\n",
       "      <td>0.9</td>\n",
       "      <td>0.286344</td>\n",
       "      <td>shap</td>\n",
       "      <td>-0.194531</td>\n",
       "    </tr>\n",
       "    <tr>\n",
       "      <th>40</th>\n",
       "      <td>cyclist_experience</td>\n",
       "      <td>0.2</td>\n",
       "      <td>0.288248</td>\n",
       "      <td>shap</td>\n",
       "      <td>-0.192626</td>\n",
       "    </tr>\n",
       "    <tr>\n",
       "      <th>41</th>\n",
       "      <td>cyclist_experience</td>\n",
       "      <td>0.3</td>\n",
       "      <td>0.284444</td>\n",
       "      <td>shap</td>\n",
       "      <td>-0.196430</td>\n",
       "    </tr>\n",
       "    <tr>\n",
       "      <th>42</th>\n",
       "      <td>cyclist_experience</td>\n",
       "      <td>0.4</td>\n",
       "      <td>0.288248</td>\n",
       "      <td>shap</td>\n",
       "      <td>-0.192626</td>\n",
       "    </tr>\n",
       "    <tr>\n",
       "      <th>43</th>\n",
       "      <td>cyclist_experience</td>\n",
       "      <td>0.5</td>\n",
       "      <td>0.288889</td>\n",
       "      <td>shap</td>\n",
       "      <td>-0.191985</td>\n",
       "    </tr>\n",
       "    <tr>\n",
       "      <th>44</th>\n",
       "      <td>cyclist_experience</td>\n",
       "      <td>0.6</td>\n",
       "      <td>0.288889</td>\n",
       "      <td>shap</td>\n",
       "      <td>-0.191985</td>\n",
       "    </tr>\n",
       "    <tr>\n",
       "      <th>45</th>\n",
       "      <td>cyclist_experience</td>\n",
       "      <td>0.7</td>\n",
       "      <td>0.289532</td>\n",
       "      <td>shap</td>\n",
       "      <td>-0.191342</td>\n",
       "    </tr>\n",
       "    <tr>\n",
       "      <th>46</th>\n",
       "      <td>cyclist_experience</td>\n",
       "      <td>0.8</td>\n",
       "      <td>0.288889</td>\n",
       "      <td>shap</td>\n",
       "      <td>-0.191985</td>\n",
       "    </tr>\n",
       "    <tr>\n",
       "      <th>47</th>\n",
       "      <td>cyclist_experience</td>\n",
       "      <td>0.9</td>\n",
       "      <td>0.288889</td>\n",
       "      <td>shap</td>\n",
       "      <td>-0.191985</td>\n",
       "    </tr>\n",
       "    <tr>\n",
       "      <th>48</th>\n",
       "      <td>cyclist_age</td>\n",
       "      <td>0.2</td>\n",
       "      <td>0.296296</td>\n",
       "      <td>shap</td>\n",
       "      <td>-0.184578</td>\n",
       "    </tr>\n",
       "    <tr>\n",
       "      <th>49</th>\n",
       "      <td>cyclist_age</td>\n",
       "      <td>0.3</td>\n",
       "      <td>0.294253</td>\n",
       "      <td>shap</td>\n",
       "      <td>-0.186621</td>\n",
       "    </tr>\n",
       "    <tr>\n",
       "      <th>50</th>\n",
       "      <td>cyclist_age</td>\n",
       "      <td>0.4</td>\n",
       "      <td>0.289720</td>\n",
       "      <td>shap</td>\n",
       "      <td>-0.191155</td>\n",
       "    </tr>\n",
       "    <tr>\n",
       "      <th>51</th>\n",
       "      <td>cyclist_age</td>\n",
       "      <td>0.5</td>\n",
       "      <td>0.295612</td>\n",
       "      <td>shap</td>\n",
       "      <td>-0.185262</td>\n",
       "    </tr>\n",
       "    <tr>\n",
       "      <th>52</th>\n",
       "      <td>cyclist_age</td>\n",
       "      <td>0.6</td>\n",
       "      <td>0.291080</td>\n",
       "      <td>shap</td>\n",
       "      <td>-0.189795</td>\n",
       "    </tr>\n",
       "    <tr>\n",
       "      <th>53</th>\n",
       "      <td>cyclist_age</td>\n",
       "      <td>0.7</td>\n",
       "      <td>0.301176</td>\n",
       "      <td>shap</td>\n",
       "      <td>-0.179698</td>\n",
       "    </tr>\n",
       "    <tr>\n",
       "      <th>54</th>\n",
       "      <td>cyclist_age</td>\n",
       "      <td>0.8</td>\n",
       "      <td>0.301887</td>\n",
       "      <td>shap</td>\n",
       "      <td>-0.178988</td>\n",
       "    </tr>\n",
       "    <tr>\n",
       "      <th>55</th>\n",
       "      <td>cyclist_age</td>\n",
       "      <td>0.9</td>\n",
       "      <td>0.299065</td>\n",
       "      <td>shap</td>\n",
       "      <td>-0.181809</td>\n",
       "    </tr>\n",
       "  </tbody>\n",
       "</table>\n",
       "</div>"
      ],
      "text/plain": [
       "                  feature  noise_magnitude  performance algorithm  difference\n",
       "0   avg_relative_position              0.2     0.287611      shap   -0.193264\n",
       "1   avg_relative_position              0.3     0.288889      shap   -0.191985\n",
       "2   avg_relative_position              0.4     0.289532      shap   -0.191342\n",
       "3   avg_relative_position              0.5     0.288889      shap   -0.191985\n",
       "4   avg_relative_position              0.6     0.288889      shap   -0.191985\n",
       "5   avg_relative_position              0.7     0.288889      shap   -0.191985\n",
       "6   avg_relative_position              0.8     0.288889      shap   -0.191985\n",
       "7   avg_relative_position              0.9     0.289532      shap   -0.191342\n",
       "8             climb_total              0.2     0.286344      shap   -0.194531\n",
       "9             climb_total              0.3     0.286344      shap   -0.194531\n",
       "10            climb_total              0.4     0.286344      shap   -0.194531\n",
       "11            climb_total              0.5     0.285714      shap   -0.195160\n",
       "12            climb_total              0.6     0.287611      shap   -0.193264\n",
       "13            climb_total              0.7     0.287611      shap   -0.193264\n",
       "14            climb_total              0.8     0.287611      shap   -0.193264\n",
       "15            climb_total              0.9     0.287611      shap   -0.193264\n",
       "16         top_20_entropy              0.2     0.288248      shap   -0.192626\n",
       "17         top_20_entropy              0.3     0.288248      shap   -0.192626\n",
       "18         top_20_entropy              0.4     0.288248      shap   -0.192626\n",
       "19         top_20_entropy              0.5     0.288248      shap   -0.192626\n",
       "20         top_20_entropy              0.6     0.288248      shap   -0.192626\n",
       "21         top_20_entropy              0.7     0.288889      shap   -0.191985\n",
       "22         top_20_entropy              0.8     0.288889      shap   -0.191985\n",
       "23         top_20_entropy              0.9     0.289532      shap   -0.191342\n",
       "24       position_entropy              0.2     0.286976      shap   -0.193899\n",
       "25       position_entropy              0.3     0.286344      shap   -0.194531\n",
       "26       position_entropy              0.4     0.286344      shap   -0.194531\n",
       "27       position_entropy              0.5     0.286344      shap   -0.194531\n",
       "28       position_entropy              0.6     0.286344      shap   -0.194531\n",
       "29       position_entropy              0.7     0.286976      shap   -0.193899\n",
       "30       position_entropy              0.8     0.286976      shap   -0.193899\n",
       "31       position_entropy              0.9     0.286976      shap   -0.193899\n",
       "32          cyclist_level              0.2     0.287611      shap   -0.193264\n",
       "33          cyclist_level              0.3     0.286976      shap   -0.193899\n",
       "34          cyclist_level              0.4     0.283186      shap   -0.197688\n",
       "35          cyclist_level              0.5     0.283186      shap   -0.197688\n",
       "36          cyclist_level              0.6     0.286976      shap   -0.193899\n",
       "37          cyclist_level              0.7     0.286344      shap   -0.194531\n",
       "38          cyclist_level              0.8     0.286344      shap   -0.194531\n",
       "39          cyclist_level              0.9     0.286344      shap   -0.194531\n",
       "40     cyclist_experience              0.2     0.288248      shap   -0.192626\n",
       "41     cyclist_experience              0.3     0.284444      shap   -0.196430\n",
       "42     cyclist_experience              0.4     0.288248      shap   -0.192626\n",
       "43     cyclist_experience              0.5     0.288889      shap   -0.191985\n",
       "44     cyclist_experience              0.6     0.288889      shap   -0.191985\n",
       "45     cyclist_experience              0.7     0.289532      shap   -0.191342\n",
       "46     cyclist_experience              0.8     0.288889      shap   -0.191985\n",
       "47     cyclist_experience              0.9     0.288889      shap   -0.191985\n",
       "48            cyclist_age              0.2     0.296296      shap   -0.184578\n",
       "49            cyclist_age              0.3     0.294253      shap   -0.186621\n",
       "50            cyclist_age              0.4     0.289720      shap   -0.191155\n",
       "51            cyclist_age              0.5     0.295612      shap   -0.185262\n",
       "52            cyclist_age              0.6     0.291080      shap   -0.189795\n",
       "53            cyclist_age              0.7     0.301176      shap   -0.179698\n",
       "54            cyclist_age              0.8     0.301887      shap   -0.178988\n",
       "55            cyclist_age              0.9     0.299065      shap   -0.181809"
      ]
     },
     "execution_count": 26,
     "metadata": {},
     "output_type": "execute_result"
    }
   ],
   "source": [
    "metric = \"f1-score\"\n",
    "corruption_validation = pd.DataFrame([\n",
    "    (feature, noise_magnitude, validations_by_feature_and_noise[(feature, noise_magnitude)][\"1\"][metric], \"shap\")\n",
    "    for feature, noise_magnitude in validations_by_feature_and_noise\n",
    "    ],\n",
    "    columns=[\"feature\", \"noise_magnitude\", \"performance\", \"algorithm\"]\n",
    ")\n",
    "corruption_validation[\"difference\"] = corruption_validation[\"performance\"] - validation[\"1\"][metric]\n",
    "corruption_validation"
   ]
  },
  {
   "cell_type": "markdown",
   "metadata": {},
   "source": [
    "The results suggest that the model generalises poorly, as even small alterations in each features cause a significant drop in performance. This suggests that the model may be overly dependent on specific feature details, compromising the overall robustness of decisions. "
   ]
  },
  {
   "cell_type": "code",
   "execution_count": 27,
   "metadata": {},
   "outputs": [
    {
     "data": {
      "text/html": [
       "<div>\n",
       "<style scoped>\n",
       "    .dataframe tbody tr th:only-of-type {\n",
       "        vertical-align: middle;\n",
       "    }\n",
       "\n",
       "    .dataframe tbody tr th {\n",
       "        vertical-align: top;\n",
       "    }\n",
       "\n",
       "    .dataframe thead tr th {\n",
       "        text-align: left;\n",
       "    }\n",
       "\n",
       "    .dataframe thead tr:last-of-type th {\n",
       "        text-align: right;\n",
       "    }\n",
       "</style>\n",
       "<table border=\"1\" class=\"dataframe\">\n",
       "  <thead>\n",
       "    <tr>\n",
       "      <th></th>\n",
       "      <th colspan=\"8\" halign=\"left\">performance</th>\n",
       "      <th colspan=\"8\" halign=\"left\">difference</th>\n",
       "    </tr>\n",
       "    <tr>\n",
       "      <th></th>\n",
       "      <th>count</th>\n",
       "      <th>mean</th>\n",
       "      <th>std</th>\n",
       "      <th>min</th>\n",
       "      <th>25%</th>\n",
       "      <th>50%</th>\n",
       "      <th>75%</th>\n",
       "      <th>max</th>\n",
       "      <th>count</th>\n",
       "      <th>mean</th>\n",
       "      <th>std</th>\n",
       "      <th>min</th>\n",
       "      <th>25%</th>\n",
       "      <th>50%</th>\n",
       "      <th>75%</th>\n",
       "      <th>max</th>\n",
       "    </tr>\n",
       "    <tr>\n",
       "      <th>feature</th>\n",
       "      <th></th>\n",
       "      <th></th>\n",
       "      <th></th>\n",
       "      <th></th>\n",
       "      <th></th>\n",
       "      <th></th>\n",
       "      <th></th>\n",
       "      <th></th>\n",
       "      <th></th>\n",
       "      <th></th>\n",
       "      <th></th>\n",
       "      <th></th>\n",
       "      <th></th>\n",
       "      <th></th>\n",
       "      <th></th>\n",
       "      <th></th>\n",
       "    </tr>\n",
       "  </thead>\n",
       "  <tbody>\n",
       "    <tr>\n",
       "      <th>avg_relative_position</th>\n",
       "      <td>8.0</td>\n",
       "      <td>0.288890</td>\n",
       "      <td>0.000593</td>\n",
       "      <td>0.287611</td>\n",
       "      <td>0.288889</td>\n",
       "      <td>0.288889</td>\n",
       "      <td>0.289050</td>\n",
       "      <td>0.289532</td>\n",
       "      <td>8.0</td>\n",
       "      <td>-0.191984</td>\n",
       "      <td>0.000593</td>\n",
       "      <td>-0.193264</td>\n",
       "      <td>-0.191985</td>\n",
       "      <td>-0.191985</td>\n",
       "      <td>-0.191825</td>\n",
       "      <td>-0.191342</td>\n",
       "    </tr>\n",
       "    <tr>\n",
       "      <th>climb_total</th>\n",
       "      <td>8.0</td>\n",
       "      <td>0.286898</td>\n",
       "      <td>0.000789</td>\n",
       "      <td>0.285714</td>\n",
       "      <td>0.286344</td>\n",
       "      <td>0.286977</td>\n",
       "      <td>0.287611</td>\n",
       "      <td>0.287611</td>\n",
       "      <td>8.0</td>\n",
       "      <td>-0.193976</td>\n",
       "      <td>0.000789</td>\n",
       "      <td>-0.195160</td>\n",
       "      <td>-0.194531</td>\n",
       "      <td>-0.193897</td>\n",
       "      <td>-0.193264</td>\n",
       "      <td>-0.193264</td>\n",
       "    </tr>\n",
       "    <tr>\n",
       "      <th>cyclist_age</th>\n",
       "      <td>8.0</td>\n",
       "      <td>0.296136</td>\n",
       "      <td>0.004434</td>\n",
       "      <td>0.289720</td>\n",
       "      <td>0.293460</td>\n",
       "      <td>0.295954</td>\n",
       "      <td>0.299593</td>\n",
       "      <td>0.301887</td>\n",
       "      <td>8.0</td>\n",
       "      <td>-0.184738</td>\n",
       "      <td>0.004434</td>\n",
       "      <td>-0.191155</td>\n",
       "      <td>-0.187415</td>\n",
       "      <td>-0.184920</td>\n",
       "      <td>-0.181281</td>\n",
       "      <td>-0.178988</td>\n",
       "    </tr>\n",
       "    <tr>\n",
       "      <th>cyclist_experience</th>\n",
       "      <td>8.0</td>\n",
       "      <td>0.288254</td>\n",
       "      <td>0.001593</td>\n",
       "      <td>0.284444</td>\n",
       "      <td>0.288248</td>\n",
       "      <td>0.288889</td>\n",
       "      <td>0.288889</td>\n",
       "      <td>0.289532</td>\n",
       "      <td>8.0</td>\n",
       "      <td>-0.192621</td>\n",
       "      <td>0.001593</td>\n",
       "      <td>-0.196430</td>\n",
       "      <td>-0.192626</td>\n",
       "      <td>-0.191985</td>\n",
       "      <td>-0.191985</td>\n",
       "      <td>-0.191342</td>\n",
       "    </tr>\n",
       "    <tr>\n",
       "      <th>cyclist_level</th>\n",
       "      <td>8.0</td>\n",
       "      <td>0.285871</td>\n",
       "      <td>0.001714</td>\n",
       "      <td>0.283186</td>\n",
       "      <td>0.285554</td>\n",
       "      <td>0.286344</td>\n",
       "      <td>0.286976</td>\n",
       "      <td>0.287611</td>\n",
       "      <td>8.0</td>\n",
       "      <td>-0.195004</td>\n",
       "      <td>0.001714</td>\n",
       "      <td>-0.197688</td>\n",
       "      <td>-0.195320</td>\n",
       "      <td>-0.194531</td>\n",
       "      <td>-0.193899</td>\n",
       "      <td>-0.193264</td>\n",
       "    </tr>\n",
       "    <tr>\n",
       "      <th>position_entropy</th>\n",
       "      <td>8.0</td>\n",
       "      <td>0.286660</td>\n",
       "      <td>0.000338</td>\n",
       "      <td>0.286344</td>\n",
       "      <td>0.286344</td>\n",
       "      <td>0.286660</td>\n",
       "      <td>0.286976</td>\n",
       "      <td>0.286976</td>\n",
       "      <td>8.0</td>\n",
       "      <td>-0.194215</td>\n",
       "      <td>0.000338</td>\n",
       "      <td>-0.194531</td>\n",
       "      <td>-0.194531</td>\n",
       "      <td>-0.194215</td>\n",
       "      <td>-0.193899</td>\n",
       "      <td>-0.193899</td>\n",
       "    </tr>\n",
       "    <tr>\n",
       "      <th>top_20_entropy</th>\n",
       "      <td>8.0</td>\n",
       "      <td>0.288569</td>\n",
       "      <td>0.000485</td>\n",
       "      <td>0.288248</td>\n",
       "      <td>0.288248</td>\n",
       "      <td>0.288248</td>\n",
       "      <td>0.288889</td>\n",
       "      <td>0.289532</td>\n",
       "      <td>8.0</td>\n",
       "      <td>-0.192305</td>\n",
       "      <td>0.000485</td>\n",
       "      <td>-0.192626</td>\n",
       "      <td>-0.192626</td>\n",
       "      <td>-0.192626</td>\n",
       "      <td>-0.191985</td>\n",
       "      <td>-0.191342</td>\n",
       "    </tr>\n",
       "  </tbody>\n",
       "</table>\n",
       "</div>"
      ],
      "text/plain": [
       "                      performance                                          \\\n",
       "                            count      mean       std       min       25%   \n",
       "feature                                                                     \n",
       "avg_relative_position         8.0  0.288890  0.000593  0.287611  0.288889   \n",
       "climb_total                   8.0  0.286898  0.000789  0.285714  0.286344   \n",
       "cyclist_age                   8.0  0.296136  0.004434  0.289720  0.293460   \n",
       "cyclist_experience            8.0  0.288254  0.001593  0.284444  0.288248   \n",
       "cyclist_level                 8.0  0.285871  0.001714  0.283186  0.285554   \n",
       "position_entropy              8.0  0.286660  0.000338  0.286344  0.286344   \n",
       "top_20_entropy                8.0  0.288569  0.000485  0.288248  0.288248   \n",
       "\n",
       "                                                    difference            \\\n",
       "                            50%       75%       max      count      mean   \n",
       "feature                                                                    \n",
       "avg_relative_position  0.288889  0.289050  0.289532        8.0 -0.191984   \n",
       "climb_total            0.286977  0.287611  0.287611        8.0 -0.193976   \n",
       "cyclist_age            0.295954  0.299593  0.301887        8.0 -0.184738   \n",
       "cyclist_experience     0.288889  0.288889  0.289532        8.0 -0.192621   \n",
       "cyclist_level          0.286344  0.286976  0.287611        8.0 -0.195004   \n",
       "position_entropy       0.286660  0.286976  0.286976        8.0 -0.194215   \n",
       "top_20_entropy         0.288248  0.288889  0.289532        8.0 -0.192305   \n",
       "\n",
       "                                                                         \\\n",
       "                            std       min       25%       50%       75%   \n",
       "feature                                                                   \n",
       "avg_relative_position  0.000593 -0.193264 -0.191985 -0.191985 -0.191825   \n",
       "climb_total            0.000789 -0.195160 -0.194531 -0.193897 -0.193264   \n",
       "cyclist_age            0.004434 -0.191155 -0.187415 -0.184920 -0.181281   \n",
       "cyclist_experience     0.001593 -0.196430 -0.192626 -0.191985 -0.191985   \n",
       "cyclist_level          0.001714 -0.197688 -0.195320 -0.194531 -0.193899   \n",
       "position_entropy       0.000338 -0.194531 -0.194531 -0.194215 -0.193899   \n",
       "top_20_entropy         0.000485 -0.192626 -0.192626 -0.192626 -0.191985   \n",
       "\n",
       "                                 \n",
       "                            max  \n",
       "feature                          \n",
       "avg_relative_position -0.191342  \n",
       "climb_total           -0.193264  \n",
       "cyclist_age           -0.178988  \n",
       "cyclist_experience    -0.191342  \n",
       "cyclist_level         -0.193264  \n",
       "position_entropy      -0.193899  \n",
       "top_20_entropy        -0.191342  "
      ]
     },
     "execution_count": 27,
     "metadata": {},
     "output_type": "execute_result"
    }
   ],
   "source": [
    "corruption_validation.groupby(\"feature\").describe()[[\"performance\", \"difference\"]]"
   ]
  },
  {
   "cell_type": "code",
   "execution_count": 28,
   "metadata": {},
   "outputs": [
    {
     "data": {
      "text/html": [
       "<div>\n",
       "<style scoped>\n",
       "    .dataframe tbody tr th:only-of-type {\n",
       "        vertical-align: middle;\n",
       "    }\n",
       "\n",
       "    .dataframe tbody tr th {\n",
       "        vertical-align: top;\n",
       "    }\n",
       "\n",
       "    .dataframe thead tr th {\n",
       "        text-align: left;\n",
       "    }\n",
       "\n",
       "    .dataframe thead tr:last-of-type th {\n",
       "        text-align: right;\n",
       "    }\n",
       "</style>\n",
       "<table border=\"1\" class=\"dataframe\">\n",
       "  <thead>\n",
       "    <tr>\n",
       "      <th></th>\n",
       "      <th colspan=\"8\" halign=\"left\">performance</th>\n",
       "      <th colspan=\"8\" halign=\"left\">difference</th>\n",
       "    </tr>\n",
       "    <tr>\n",
       "      <th></th>\n",
       "      <th>count</th>\n",
       "      <th>mean</th>\n",
       "      <th>std</th>\n",
       "      <th>min</th>\n",
       "      <th>25%</th>\n",
       "      <th>50%</th>\n",
       "      <th>75%</th>\n",
       "      <th>max</th>\n",
       "      <th>count</th>\n",
       "      <th>mean</th>\n",
       "      <th>std</th>\n",
       "      <th>min</th>\n",
       "      <th>25%</th>\n",
       "      <th>50%</th>\n",
       "      <th>75%</th>\n",
       "      <th>max</th>\n",
       "    </tr>\n",
       "    <tr>\n",
       "      <th>noise_magnitude</th>\n",
       "      <th></th>\n",
       "      <th></th>\n",
       "      <th></th>\n",
       "      <th></th>\n",
       "      <th></th>\n",
       "      <th></th>\n",
       "      <th></th>\n",
       "      <th></th>\n",
       "      <th></th>\n",
       "      <th></th>\n",
       "      <th></th>\n",
       "      <th></th>\n",
       "      <th></th>\n",
       "      <th></th>\n",
       "      <th></th>\n",
       "      <th></th>\n",
       "    </tr>\n",
       "  </thead>\n",
       "  <tbody>\n",
       "    <tr>\n",
       "      <th>0.2</th>\n",
       "      <td>7.0</td>\n",
       "      <td>0.288762</td>\n",
       "      <td>0.003391</td>\n",
       "      <td>0.286344</td>\n",
       "      <td>0.287293</td>\n",
       "      <td>0.287611</td>\n",
       "      <td>0.288248</td>\n",
       "      <td>0.296296</td>\n",
       "      <td>7.0</td>\n",
       "      <td>-0.192112</td>\n",
       "      <td>0.003391</td>\n",
       "      <td>-0.194531</td>\n",
       "      <td>-0.193581</td>\n",
       "      <td>-0.193264</td>\n",
       "      <td>-0.192626</td>\n",
       "      <td>-0.184578</td>\n",
       "    </tr>\n",
       "    <tr>\n",
       "      <th>0.3</th>\n",
       "      <td>7.0</td>\n",
       "      <td>0.287928</td>\n",
       "      <td>0.003138</td>\n",
       "      <td>0.284444</td>\n",
       "      <td>0.286344</td>\n",
       "      <td>0.286976</td>\n",
       "      <td>0.288569</td>\n",
       "      <td>0.294253</td>\n",
       "      <td>7.0</td>\n",
       "      <td>-0.192946</td>\n",
       "      <td>0.003138</td>\n",
       "      <td>-0.196430</td>\n",
       "      <td>-0.194531</td>\n",
       "      <td>-0.193899</td>\n",
       "      <td>-0.192306</td>\n",
       "      <td>-0.186621</td>\n",
       "    </tr>\n",
       "    <tr>\n",
       "      <th>0.4</th>\n",
       "      <td>7.0</td>\n",
       "      <td>0.287375</td>\n",
       "      <td>0.002286</td>\n",
       "      <td>0.283186</td>\n",
       "      <td>0.286344</td>\n",
       "      <td>0.288248</td>\n",
       "      <td>0.288890</td>\n",
       "      <td>0.289720</td>\n",
       "      <td>7.0</td>\n",
       "      <td>-0.193500</td>\n",
       "      <td>0.002286</td>\n",
       "      <td>-0.197688</td>\n",
       "      <td>-0.194531</td>\n",
       "      <td>-0.192626</td>\n",
       "      <td>-0.191984</td>\n",
       "      <td>-0.191155</td>\n",
       "    </tr>\n",
       "    <tr>\n",
       "      <th>0.5</th>\n",
       "      <td>7.0</td>\n",
       "      <td>0.288126</td>\n",
       "      <td>0.003886</td>\n",
       "      <td>0.283186</td>\n",
       "      <td>0.286029</td>\n",
       "      <td>0.288248</td>\n",
       "      <td>0.288889</td>\n",
       "      <td>0.295612</td>\n",
       "      <td>7.0</td>\n",
       "      <td>-0.192748</td>\n",
       "      <td>0.003886</td>\n",
       "      <td>-0.197688</td>\n",
       "      <td>-0.194845</td>\n",
       "      <td>-0.192626</td>\n",
       "      <td>-0.191985</td>\n",
       "      <td>-0.185262</td>\n",
       "    </tr>\n",
       "    <tr>\n",
       "      <th>0.6</th>\n",
       "      <td>7.0</td>\n",
       "      <td>0.288291</td>\n",
       "      <td>0.001553</td>\n",
       "      <td>0.286344</td>\n",
       "      <td>0.287293</td>\n",
       "      <td>0.288248</td>\n",
       "      <td>0.288889</td>\n",
       "      <td>0.291080</td>\n",
       "      <td>7.0</td>\n",
       "      <td>-0.192583</td>\n",
       "      <td>0.001553</td>\n",
       "      <td>-0.194531</td>\n",
       "      <td>-0.193581</td>\n",
       "      <td>-0.192626</td>\n",
       "      <td>-0.191985</td>\n",
       "      <td>-0.189795</td>\n",
       "    </tr>\n",
       "    <tr>\n",
       "      <th>0.7</th>\n",
       "      <td>7.0</td>\n",
       "      <td>0.289917</td>\n",
       "      <td>0.005095</td>\n",
       "      <td>0.286344</td>\n",
       "      <td>0.287293</td>\n",
       "      <td>0.288889</td>\n",
       "      <td>0.289211</td>\n",
       "      <td>0.301176</td>\n",
       "      <td>7.0</td>\n",
       "      <td>-0.190958</td>\n",
       "      <td>0.005095</td>\n",
       "      <td>-0.194531</td>\n",
       "      <td>-0.193581</td>\n",
       "      <td>-0.191985</td>\n",
       "      <td>-0.191664</td>\n",
       "      <td>-0.179698</td>\n",
       "    </tr>\n",
       "    <tr>\n",
       "      <th>0.8</th>\n",
       "      <td>7.0</td>\n",
       "      <td>0.289926</td>\n",
       "      <td>0.005373</td>\n",
       "      <td>0.286344</td>\n",
       "      <td>0.287293</td>\n",
       "      <td>0.288889</td>\n",
       "      <td>0.288889</td>\n",
       "      <td>0.301887</td>\n",
       "      <td>7.0</td>\n",
       "      <td>-0.190948</td>\n",
       "      <td>0.005373</td>\n",
       "      <td>-0.194531</td>\n",
       "      <td>-0.193581</td>\n",
       "      <td>-0.191985</td>\n",
       "      <td>-0.191985</td>\n",
       "      <td>-0.178988</td>\n",
       "    </tr>\n",
       "    <tr>\n",
       "      <th>0.9</th>\n",
       "      <td>7.0</td>\n",
       "      <td>0.289707</td>\n",
       "      <td>0.004310</td>\n",
       "      <td>0.286344</td>\n",
       "      <td>0.287293</td>\n",
       "      <td>0.288889</td>\n",
       "      <td>0.289532</td>\n",
       "      <td>0.299065</td>\n",
       "      <td>7.0</td>\n",
       "      <td>-0.191167</td>\n",
       "      <td>0.004310</td>\n",
       "      <td>-0.194531</td>\n",
       "      <td>-0.193581</td>\n",
       "      <td>-0.191985</td>\n",
       "      <td>-0.191342</td>\n",
       "      <td>-0.181809</td>\n",
       "    </tr>\n",
       "  </tbody>\n",
       "</table>\n",
       "</div>"
      ],
      "text/plain": [
       "                performance                                                    \\\n",
       "                      count      mean       std       min       25%       50%   \n",
       "noise_magnitude                                                                 \n",
       "0.2                     7.0  0.288762  0.003391  0.286344  0.287293  0.287611   \n",
       "0.3                     7.0  0.287928  0.003138  0.284444  0.286344  0.286976   \n",
       "0.4                     7.0  0.287375  0.002286  0.283186  0.286344  0.288248   \n",
       "0.5                     7.0  0.288126  0.003886  0.283186  0.286029  0.288248   \n",
       "0.6                     7.0  0.288291  0.001553  0.286344  0.287293  0.288248   \n",
       "0.7                     7.0  0.289917  0.005095  0.286344  0.287293  0.288889   \n",
       "0.8                     7.0  0.289926  0.005373  0.286344  0.287293  0.288889   \n",
       "0.9                     7.0  0.289707  0.004310  0.286344  0.287293  0.288889   \n",
       "\n",
       "                                    difference                                \\\n",
       "                      75%       max      count      mean       std       min   \n",
       "noise_magnitude                                                                \n",
       "0.2              0.288248  0.296296        7.0 -0.192112  0.003391 -0.194531   \n",
       "0.3              0.288569  0.294253        7.0 -0.192946  0.003138 -0.196430   \n",
       "0.4              0.288890  0.289720        7.0 -0.193500  0.002286 -0.197688   \n",
       "0.5              0.288889  0.295612        7.0 -0.192748  0.003886 -0.197688   \n",
       "0.6              0.288889  0.291080        7.0 -0.192583  0.001553 -0.194531   \n",
       "0.7              0.289211  0.301176        7.0 -0.190958  0.005095 -0.194531   \n",
       "0.8              0.288889  0.301887        7.0 -0.190948  0.005373 -0.194531   \n",
       "0.9              0.289532  0.299065        7.0 -0.191167  0.004310 -0.194531   \n",
       "\n",
       "                                                         \n",
       "                      25%       50%       75%       max  \n",
       "noise_magnitude                                          \n",
       "0.2             -0.193581 -0.193264 -0.192626 -0.184578  \n",
       "0.3             -0.194531 -0.193899 -0.192306 -0.186621  \n",
       "0.4             -0.194531 -0.192626 -0.191984 -0.191155  \n",
       "0.5             -0.194845 -0.192626 -0.191985 -0.185262  \n",
       "0.6             -0.193581 -0.192626 -0.191985 -0.189795  \n",
       "0.7             -0.193581 -0.191985 -0.191664 -0.179698  \n",
       "0.8             -0.193581 -0.191985 -0.191985 -0.178988  \n",
       "0.9             -0.193581 -0.191985 -0.191342 -0.181809  "
      ]
     },
     "execution_count": 28,
     "metadata": {},
     "output_type": "execute_result"
    }
   ],
   "source": [
    "corruption_validation.groupby(\"noise_magnitude\").describe()[[\"performance\", \"difference\"]]"
   ]
  },
  {
   "cell_type": "code",
   "execution_count": 29,
   "metadata": {},
   "outputs": [
    {
     "name": "stdout",
     "output_type": "stream",
     "text": [
      "                 Feature  Performance Drop\n",
      "3     cyclist_experience         -0.228571\n",
      "1            cyclist_age         -0.235294\n",
      "2          cyclist_level         -0.240741\n",
      "4  avg_relative_position         -0.247619\n",
      "5       position_entropy         -0.256881\n",
      "6         top_20_entropy         -0.270833\n",
      "0            climb_total         -0.285714\n"
     ]
    }
   ],
   "source": [
    "from lightgbm import LGBMClassifier\n",
    "from sklearn.metrics import classification_report\n",
    "\n",
    "# Define the metric to assess performance drop\n",
    "metric = \"f1-score\"\n",
    "\n",
    "# Initialize a list to store performance drops\n",
    "performance_drops = []\n",
    "\n",
    "# Get the original performance\n",
    "original_performance = classification_report(test_labels, gbm_model.predict(test_data), output_dict=True, zero_division=0)\n",
    "original_metric_value = original_performance[\"1\"][metric]\n",
    "\n",
    "# Iterate over each feature\n",
    "for feature in test_data.columns:\n",
    "    # Drop the feature from the training and test data\n",
    "    train_data_dropped = train_data.drop(columns=[feature])\n",
    "    test_data_dropped = test_data.drop(columns=[feature])\n",
    "    \n",
    "    # Train a new GBM model with the same parameters\n",
    "    gbm_model_dropped = LGBMClassifier(**gbm_model.get_params())\n",
    "    gbm_model_dropped.fit(train_data_dropped, train_labels.values.ravel())\n",
    "    \n",
    "    # Predict and assess performance\n",
    "    test_predictions_dropped = gbm_model_dropped.predict(test_data_dropped)\n",
    "    performance_dropped = classification_report(test_labels, test_predictions_dropped, output_dict=True, zero_division=0)\n",
    "    dropped_metric_value = performance_dropped[\"1\"][metric]\n",
    "    \n",
    "    # Calculate performance drop\n",
    "    performance_drop = original_metric_value - dropped_metric_value\n",
    "    performance_drops.append((feature, performance_drop))\n",
    "\n",
    "# Create a dataframe to store the results\n",
    "performance_drop_df = pd.DataFrame(performance_drops, columns=[\"Feature\", \"Performance Drop\"])\n",
    "performance_drop_df = performance_drop_df.sort_values(by=\"Performance Drop\", ascending=False)\n",
    "print(performance_drop_df)"
   ]
  },
  {
   "cell_type": "markdown",
   "metadata": {},
   "source": [
    "By removing one feature at a time, we observe a significant drop in the F1-score for class 1. This indicates that eliminating even a single feature from the training set substantially impacts overall performance, particularly the model's ability to balance its predictions. Specifically, it diminishes the model's effectiveness in handling class 1."
   ]
  },
  {
   "cell_type": "markdown",
   "metadata": {},
   "source": [
    "## **LORE**"
   ]
  },
  {
   "cell_type": "markdown",
   "metadata": {},
   "source": [
    "Support functions"
   ]
  },
  {
   "cell_type": "code",
   "execution_count": 30,
   "metadata": {},
   "outputs": [],
   "source": [
    "feature_indices = {\n",
    "    'climb_total': 0,\n",
    "    'cyclist_age': 1,\n",
    "    'cyclist_level': 2,\n",
    "    'cyclist_experience': 3,\n",
    "    'avg_relative_position': 4,\n",
    "    'position_entropy': 5,\n",
    "    'top_20_entropy': 6\n",
    "}\n",
    "\n",
    "def format_counterfactual_explanation(explanation):\n",
    "    formatted_explanation = []\n",
    "    for rule in explanation:\n",
    "        premises = \" AND \".join([f\"{condition['att']} {condition['op']} {(condition['thr']*scaler.scale_[feature_indices[condition[\"att\"]]]) + scaler.mean_[feature_indices[condition[\"att\"]]]}\" for condition in rule['premise']])\n",
    "        formatted_explanation.append(f\"IF {premises} THEN {rule['class_name']} = {rule['cons']}\")\n",
    "    return formatted_explanation\n",
    "\n",
    "def reverse_transform(record, var, mean):\n",
    "    return record * var + mean\n",
    "\n",
    "def normalize_premise(premise, feature_indices, scaler):\n",
    "    return {\n",
    "        'thr': reverse_transform(premise['thr'], scaler.scale_[feature_indices[premise[\"att\"]]], scaler.mean_[feature_indices[premise[\"att\"]]]),\n",
    "        'att': premise['att'],\n",
    "        'op': premise['op'],\n",
    "        'is_continuous': premise['is_continuous']\n",
    "    }\n",
    "\n",
    "def format_explanation(explanation):\n",
    "    explanation.expDict['rule']['premise'] = list(map(\n",
    "        lambda x: normalize_premise(x, feature_indices, scaler),\n",
    "        explanation.expDict['rule']['premise']\n",
    "    ))\n",
    "\n",
    "    explanation.expDict['crules'][0]['premise'] = list(map(\n",
    "        lambda x: normalize_premise(x, feature_indices, scaler),\n",
    "        explanation.expDict['crules'][0]['premise']\n",
    "    ))\n",
    "    \n",
    "    return explanation\n"
   ]
  },
  {
   "cell_type": "code",
   "execution_count": 31,
   "metadata": {},
   "outputs": [],
   "source": [
    "from xailib.explainers.lore_explainer import LoreTabularExplainer\n",
    "\n",
    "\n",
    "lime_explanation_algorithm = LoreTabularExplainer(gbm_model)\n",
    "configuration = {\n",
    "    \"neigh_type\": \"rndgen\",\n",
    "    \"size\": 1000,\n",
    "    \"ocr\": 0.1,\n",
    "    \"ngen\": 100\n",
    "}\n",
    "\n",
    "train_data = StandardScaler().fit_transform(train_data)\n",
    "train_data = pd.DataFrame(train_data, columns=train_df.drop(columns=columns_to_drop).columns)\n",
    "lore_train_data = pd.concat((train_data, train_labels), axis=\"columns\")\n",
    "lime_explanation_algorithm.fit(lore_train_data, \"top_20\", config=configuration)"
   ]
  },
  {
   "cell_type": "markdown",
   "metadata": {},
   "source": [
    "### Explaining a data from class 0, predicted as class 1"
   ]
  },
  {
   "cell_type": "code",
   "execution_count": 32,
   "metadata": {},
   "outputs": [
    {
     "name": "stdout",
     "output_type": "stream",
     "text": [
      "Indexes in training data with both test and predicted label being 1:\n",
      "[9, 12, 19, 24, 34, 38, 49, 71, 101, 102, 106, 115, 134, 145, 148, 153, 165, 166, 226, 227, 228, 234, 239, 241, 248, 255, 261, 264, 276, 297, 299, 303, 338, 343, 348, 358, 360, 361, 362, 364, 372, 388, 390, 397]\n"
     ]
    }
   ],
   "source": [
    "indexes = test_labels[(test_labels['top_20'] == 1) & test_prediction==1].index\n",
    "print(\"Indexes in training data with both test and predicted label being 1:\")\n",
    "print(indexes.tolist())"
   ]
  },
  {
   "cell_type": "code",
   "execution_count": 33,
   "metadata": {},
   "outputs": [],
   "source": [
    "explanation = lime_explanation_algorithm.explain(train_data.iloc[32].values)\n",
    "explanation = format_explanation(explanation)"
   ]
  },
  {
   "cell_type": "markdown",
   "metadata": {},
   "source": [
    "Extracting rules from the tree"
   ]
  },
  {
   "cell_type": "code",
   "execution_count": 34,
   "metadata": {},
   "outputs": [
    {
     "data": {
      "text/html": [
       "\n",
       "                <style>\n",
       "                .red {\n",
       "                background-color:firebrick;\n",
       "                padding:3px 5px 3px 5px;\n",
       "                border-radius:5px;\n",
       "\n",
       "                color:white;\n",
       "                }\n",
       "                .rules{\n",
       "                    margin-top:10px;\n",
       "                    font-weight: 400;\n",
       "                }\n",
       "                .rule{\n",
       "                padding:5px 20px 5px 20px;\n",
       "                border-radius:5px;\n",
       "                margin-right:5px;\n",
       "                font-size:12px;\n",
       "                line-height:20px;\n",
       "                display: block;\n",
       "                margin-bottom: 10px;\n",
       "                width: fit-content;\n",
       "                \n",
       "                color:white;\n",
       "                background-color:firebrick;\n",
       "                opacity:0.8;\n",
       "                }\n",
       "                </style>\n",
       "                "
      ],
      "text/plain": [
       "<IPython.core.display.HTML object>"
      ]
     },
     "metadata": {},
     "output_type": "display_data"
    },
    {
     "data": {
      "text/html": [
       "\n",
       "            <h3>Why the predicted value for class <span class='red'>top_20</span> is <span class='red'>1</span> ?</h3>\n",
       "            "
      ],
      "text/plain": [
       "<IPython.core.display.HTML object>"
      ]
     },
     "metadata": {},
     "output_type": "display_data"
    },
    {
     "data": {
      "text/html": [
       "\n",
       "            <p>Because all the following conditions happen:</p>\n",
       "            "
      ],
      "text/plain": [
       "<IPython.core.display.HTML object>"
      ]
     },
     "metadata": {},
     "output_type": "display_data"
    },
    {
     "data": {
      "text/html": [
       "<p class='rules'><span class='rule'>cyclist age <strong><=</strong> 31.38</span><span class='rule'>cyclist age <strong>></strong> 24.92</span><span class='rule'>avg relative position <strong><=</strong> 0.71</span><span class='rule'>avg relative position <strong>></strong> 0.38</span><span class='rule'>top 20 entropy <strong><=</strong> 1.07</span><span class='rule'>top 20 entropy <strong>></strong> 0.42</span><span class='rule'>climb total <strong><=</strong> 3.48</span><span class='rule'>cyclist level <strong>></strong> -1526.67</span></p>"
      ],
      "text/plain": [
       "<IPython.core.display.HTML object>"
      ]
     },
     "metadata": {},
     "output_type": "display_data"
    }
   ],
   "source": [
    "rule = explanation.plotRules()"
   ]
  },
  {
   "cell_type": "markdown",
   "metadata": {},
   "source": [
    "Extracting counterfactual rules from the tree"
   ]
  },
  {
   "cell_type": "code",
   "execution_count": 35,
   "metadata": {},
   "outputs": [
    {
     "data": {
      "text/html": [
       "\n",
       "                <style>\n",
       "                .red {\n",
       "                background-color:firebrick;\n",
       "                padding:3px 5px 3px 5px;\n",
       "                border-radius:5px;\n",
       "                color:white;\n",
       "                }\n",
       "                .crules{\n",
       "                    margin-top:10px;\n",
       "                    font-weight: 400;\n",
       "                }\n",
       "                .crule{            \n",
       "                padding:5px 20px 5px 20px;\n",
       "                border-radius:5px;\n",
       "                margin-right:5px;\n",
       "                font-size:12px;\n",
       "                line-height:20px;\n",
       "                display: block;\n",
       "                margin-bottom: 10px;\n",
       "                width: fit-content;\n",
       "                \n",
       "                color:#202020;\n",
       "                background-color:gold;\n",
       "                }\n",
       "                </style>\n",
       "                "
      ],
      "text/plain": [
       "<IPython.core.display.HTML object>"
      ]
     },
     "metadata": {},
     "output_type": "display_data"
    },
    {
     "data": {
      "text/html": [
       "\n",
       "            <h3>The predicted value for class <span class='red'>top_20</span> is <span class='red'>1</span>.</h3>\n",
       "            <h3>It would have been:</h3>\n",
       "            "
      ],
      "text/plain": [
       "<IPython.core.display.HTML object>"
      ]
     },
     "metadata": {},
     "output_type": "display_data"
    },
    {
     "data": {
      "text/html": [
       "\n",
       "                <div class='crules'>\n",
       "                    <div>\n",
       "                        <h4><span class='red'>0</span> if the following condition holds</h4>\n",
       "                    </br><span class='crule'>cyclist age <= 21.37</span>\n",
       "                    </div>\n",
       "                </div>\n",
       "            "
      ],
      "text/plain": [
       "<IPython.core.display.HTML object>"
      ]
     },
     "metadata": {},
     "output_type": "display_data"
    },
    {
     "data": {
      "text/html": [
       "\n",
       "                <div class='crules'>\n",
       "                    <div>\n",
       "                        <h4><span class='red'>0</span> if the following condition holds</h4>\n",
       "                    </br><span class='crule'>cyclist age > 1.88</span><span class='crule'>top 20 entropy <= 1.41</span><span class='crule'>position entropy > -1.01</span><span class='crule'>avg relative position > -0.95</span>\n",
       "                    </div>\n",
       "                </div>\n",
       "            "
      ],
      "text/plain": [
       "<IPython.core.display.HTML object>"
      ]
     },
     "metadata": {},
     "output_type": "display_data"
    }
   ],
   "source": [
    "rule = explanation.plotCounterfactualRules()"
   ]
  },
  {
   "cell_type": "markdown",
   "metadata": {},
   "source": [
    "Local Fidelity (accuracy of the model w.r.t. the model, computed on the generated neighborhood)"
   ]
  },
  {
   "cell_type": "code",
   "execution_count": 36,
   "metadata": {},
   "outputs": [
    {
     "data": {
      "text/plain": [
       "0.9786055883827756"
      ]
     },
     "execution_count": 36,
     "metadata": {},
     "output_type": "execute_result"
    }
   ],
   "source": [
    "explanation.expDict[\"fidelity\"]"
   ]
  },
  {
   "cell_type": "markdown",
   "metadata": {},
   "source": [
    "### Explaining a data from class 0, predicted as class 0"
   ]
  },
  {
   "cell_type": "code",
   "execution_count": 37,
   "metadata": {},
   "outputs": [
    {
     "name": "stdout",
     "output_type": "stream",
     "text": [
      "Indexes in training data with both test and predicted label being 0:\n",
      "[1, 2, 3, 4, 5, 6, 8, 9, 10, 11, 12, 13, 14, 15, 16, 17, 19, 21, 22, 23, 24, 25, 26, 27, 29, 30, 33, 34, 35, 36, 37, 38, 39, 40, 42, 43, 45, 46, 48, 49, 50, 51, 52, 54, 55, 56, 57, 58, 59, 60, 61, 63, 64, 65, 66, 67, 68, 69, 70, 71, 72, 74, 75, 76, 77, 78, 79, 80, 81, 83, 84, 85, 86, 87, 88, 90, 91, 93, 94, 95, 96, 97, 98, 99, 101, 102, 103, 104, 105, 106, 107, 110, 111, 112, 113, 114, 115, 117, 119, 120, 121, 122, 124, 125, 126, 127, 128, 129, 130, 131, 132, 133, 134, 136, 137, 139, 140, 141, 143, 144, 145, 147, 148, 149, 150, 153, 154, 157, 158, 159, 160, 161, 162, 163, 165, 166, 167, 168, 169, 170, 171, 174, 175, 176, 177, 178, 179, 180, 181, 182, 184, 186, 188, 190, 192, 193, 195, 196, 197, 198, 199, 200, 201, 202, 203, 204, 205, 206, 207, 208, 209, 211, 213, 214, 215, 216, 217, 218, 219, 220, 221, 222, 223, 224, 225, 226, 227, 228, 229, 230, 231, 232, 233, 234, 235, 236, 237, 238, 239, 240, 241, 242, 244, 246, 247, 248, 249, 250, 252, 254, 255, 257, 258, 259, 260, 261, 262, 263, 264, 265, 266, 267, 268, 269, 270, 272, 273, 274, 275, 276, 277, 278, 279, 280, 281, 282, 283, 284, 285, 286, 287, 288, 290, 291, 292, 293, 294, 296, 297, 298, 299, 300, 301, 302, 303, 305, 306, 311, 313, 315, 318, 320, 321, 322, 323, 324, 325, 326, 327, 328, 329, 330, 331, 332, 333, 334, 335, 336, 337, 338, 340, 341, 342, 343, 345, 347, 348, 350, 353, 355, 356, 357, 358, 359, 360, 361, 362, 364, 365, 366, 367, 368, 369, 370, 372, 374, 375, 376, 378, 379, 380, 382, 383, 384, 385, 386, 387, 388, 389, 390, 391, 392, 393, 394, 395, 396, 397, 399]\n",
      "Indexes with cyclist_age < 21:\n",
      "[356]\n"
     ]
    }
   ],
   "source": [
    "indexes = test_labels[(test_labels['top_20'] == 0) & test_prediction==0].index\n",
    "print(\"Indexes in training data with both test and predicted label being 0:\")\n",
    "print(indexes.tolist())\n",
    "young_cyclists_indexes = test_data.loc[indexes][test_data['cyclist_age'] < 21].index\n",
    "print(\"Indexes with cyclist_age < 21:\")\n",
    "print(young_cyclists_indexes.tolist())"
   ]
  },
  {
   "cell_type": "code",
   "execution_count": 38,
   "metadata": {},
   "outputs": [],
   "source": [
    "explanation = lime_explanation_algorithm.explain(train_data.iloc[399].values)\n",
    "explanation = format_explanation(explanation)"
   ]
  },
  {
   "cell_type": "markdown",
   "metadata": {},
   "source": [
    "Extracting rules from the tree"
   ]
  },
  {
   "cell_type": "code",
   "execution_count": 39,
   "metadata": {},
   "outputs": [
    {
     "data": {
      "text/html": [
       "\n",
       "                <style>\n",
       "                .red {\n",
       "                background-color:firebrick;\n",
       "                padding:3px 5px 3px 5px;\n",
       "                border-radius:5px;\n",
       "\n",
       "                color:white;\n",
       "                }\n",
       "                .rules{\n",
       "                    margin-top:10px;\n",
       "                    font-weight: 400;\n",
       "                }\n",
       "                .rule{\n",
       "                padding:5px 20px 5px 20px;\n",
       "                border-radius:5px;\n",
       "                margin-right:5px;\n",
       "                font-size:12px;\n",
       "                line-height:20px;\n",
       "                display: block;\n",
       "                margin-bottom: 10px;\n",
       "                width: fit-content;\n",
       "                \n",
       "                color:white;\n",
       "                background-color:firebrick;\n",
       "                opacity:0.8;\n",
       "                }\n",
       "                </style>\n",
       "                "
      ],
      "text/plain": [
       "<IPython.core.display.HTML object>"
      ]
     },
     "metadata": {},
     "output_type": "display_data"
    },
    {
     "data": {
      "text/html": [
       "\n",
       "            <h3>Why the predicted value for class <span class='red'>top_20</span> is <span class='red'>1</span> ?</h3>\n",
       "            "
      ],
      "text/plain": [
       "<IPython.core.display.HTML object>"
      ]
     },
     "metadata": {},
     "output_type": "display_data"
    },
    {
     "data": {
      "text/html": [
       "\n",
       "            <p>Because all the following conditions happen:</p>\n",
       "            "
      ],
      "text/plain": [
       "<IPython.core.display.HTML object>"
      ]
     },
     "metadata": {},
     "output_type": "display_data"
    },
    {
     "data": {
      "text/html": [
       "<p class='rules'><span class='rule'>climb total <strong><=</strong> 3.70</span><span class='rule'>climb total <strong>></strong> -0.41</span><span class='rule'>cyclist age <strong><=</strong> 25.86</span><span class='rule'>cyclist age <strong>></strong> 21.54</span><span class='rule'>avg relative position <strong><=</strong> 0.83</span><span class='rule'>top 20 entropy <strong><=</strong> 1.20</span><span class='rule'>top 20 entropy <strong>></strong> 0.03</span><span class='rule'>position entropy <strong><=</strong> 9.31</span></p>"
      ],
      "text/plain": [
       "<IPython.core.display.HTML object>"
      ]
     },
     "metadata": {},
     "output_type": "display_data"
    }
   ],
   "source": [
    "rule = explanation.plotRules()"
   ]
  },
  {
   "cell_type": "markdown",
   "metadata": {},
   "source": [
    "Extracting counterfactual rules from the tree"
   ]
  },
  {
   "cell_type": "code",
   "execution_count": 40,
   "metadata": {},
   "outputs": [
    {
     "data": {
      "text/html": [
       "\n",
       "                <style>\n",
       "                .red {\n",
       "                background-color:firebrick;\n",
       "                padding:3px 5px 3px 5px;\n",
       "                border-radius:5px;\n",
       "                color:white;\n",
       "                }\n",
       "                .crules{\n",
       "                    margin-top:10px;\n",
       "                    font-weight: 400;\n",
       "                }\n",
       "                .crule{            \n",
       "                padding:5px 20px 5px 20px;\n",
       "                border-radius:5px;\n",
       "                margin-right:5px;\n",
       "                font-size:12px;\n",
       "                line-height:20px;\n",
       "                display: block;\n",
       "                margin-bottom: 10px;\n",
       "                width: fit-content;\n",
       "                \n",
       "                color:#202020;\n",
       "                background-color:gold;\n",
       "                }\n",
       "                </style>\n",
       "                "
      ],
      "text/plain": [
       "<IPython.core.display.HTML object>"
      ]
     },
     "metadata": {},
     "output_type": "display_data"
    },
    {
     "data": {
      "text/html": [
       "\n",
       "            <h3>The predicted value for class <span class='red'>top_20</span> is <span class='red'>1</span>.</h3>\n",
       "            <h3>It would have been:</h3>\n",
       "            "
      ],
      "text/plain": [
       "<IPython.core.display.HTML object>"
      ]
     },
     "metadata": {},
     "output_type": "display_data"
    },
    {
     "data": {
      "text/html": [
       "\n",
       "                <div class='crules'>\n",
       "                    <div>\n",
       "                        <h4><span class='red'>0</span> if the following condition holds</h4>\n",
       "                    </br><span class='crule'>climb total <= 3.70</span><span class='crule'>cyclist age > 37.02</span><span class='crule'>top 20 entropy <= 0.93</span><span class='crule'>avg relative position > 0.37</span>\n",
       "                    </div>\n",
       "                </div>\n",
       "            "
      ],
      "text/plain": [
       "<IPython.core.display.HTML object>"
      ]
     },
     "metadata": {},
     "output_type": "display_data"
    }
   ],
   "source": [
    "rule = explanation.plotCounterfactualRules()"
   ]
  },
  {
   "cell_type": "markdown",
   "metadata": {},
   "source": [
    "Local Fidelity (accuracy of the model w.r.t. the model, computed on the generated neighborhood)"
   ]
  },
  {
   "cell_type": "code",
   "execution_count": 41,
   "metadata": {},
   "outputs": [
    {
     "data": {
      "text/plain": [
       "0.9836919334568681"
      ]
     },
     "execution_count": 41,
     "metadata": {},
     "output_type": "execute_result"
    }
   ],
   "source": [
    "explanation.expDict[\"fidelity\"]"
   ]
  },
  {
   "cell_type": "markdown",
   "metadata": {},
   "source": [
    "## **LIME**"
   ]
  },
  {
   "cell_type": "code",
   "execution_count": 48,
   "metadata": {},
   "outputs": [],
   "source": [
    "from interpret import set_visualize_provider\n",
    "from interpret.provider import InlineProvider\n",
    "from interpret import show\n",
    "from tqdm import tqdm\n",
    "\n",
    "\n",
    "set_visualize_provider(InlineProvider())"
   ]
  },
  {
   "cell_type": "code",
   "execution_count": 49,
   "metadata": {},
   "outputs": [
    {
     "name": "stdout",
     "output_type": "stream",
     "text": [
      "Index(['_url', 'name', 'cyclist', 'cyclist_team', 'duration'], dtype='object')\n"
     ]
    }
   ],
   "source": [
    "non_numeric_features = train_df.select_dtypes(include=['object']).columns\n",
    "print(non_numeric_features)"
   ]
  },
  {
   "cell_type": "markdown",
   "metadata": {},
   "source": [
    "Only numerical features are taken"
   ]
  },
  {
   "cell_type": "code",
   "execution_count": 50,
   "metadata": {},
   "outputs": [],
   "source": [
    "train_data= train_data.select_dtypes(include=[np.number])  "
   ]
  },
  {
   "cell_type": "code",
   "execution_count": 54,
   "metadata": {},
   "outputs": [
    {
     "name": "stderr",
     "output_type": "stream",
     "text": [
      "100%|██████████| 400/400 [00:00<00:00, 1476867.61it/s]\n"
     ]
    }
   ],
   "source": [
    "from interpret.blackbox import LimeTabular\n",
    "explanations = dict()\n",
    "\n",
    "train_data_norm = pd.DataFrame(scaler.transform(train_data), columns=train_data.columns)\n",
    "\n",
    "lime_explanation_algorithm = LimeTabular(best_model, train_data_norm)\n",
    "explanations[\"lime\"] = np.array([np.array(e[\"scores\"])\n",
    "                                 for e in tqdm(lime_explanation_algorithm.explain_local(train_data_norm, train_labels)._internal_obj[\"specific\"])])"
   ]
  },
  {
   "cell_type": "code",
   "execution_count": 55,
   "metadata": {},
   "outputs": [
    {
     "data": {
      "text/html": [
       "<div>\n",
       "<style scoped>\n",
       "    .dataframe tbody tr th:only-of-type {\n",
       "        vertical-align: middle;\n",
       "    }\n",
       "\n",
       "    .dataframe tbody tr th {\n",
       "        vertical-align: top;\n",
       "    }\n",
       "\n",
       "    .dataframe thead th {\n",
       "        text-align: right;\n",
       "    }\n",
       "</style>\n",
       "<table border=\"1\" class=\"dataframe\">\n",
       "  <thead>\n",
       "    <tr style=\"text-align: right;\">\n",
       "      <th></th>\n",
       "      <th>feature</th>\n",
       "      <th>noise_magnitude</th>\n",
       "      <th>performance</th>\n",
       "      <th>algorithm</th>\n",
       "      <th>difference</th>\n",
       "    </tr>\n",
       "  </thead>\n",
       "  <tbody>\n",
       "    <tr>\n",
       "      <th>0</th>\n",
       "      <td>avg_relative_position</td>\n",
       "      <td>0.2</td>\n",
       "      <td>0.110373</td>\n",
       "      <td>lime</td>\n",
       "      <td>-0.674493</td>\n",
       "    </tr>\n",
       "    <tr>\n",
       "      <th>1</th>\n",
       "      <td>avg_relative_position</td>\n",
       "      <td>0.3</td>\n",
       "      <td>0.119746</td>\n",
       "      <td>lime</td>\n",
       "      <td>-0.665120</td>\n",
       "    </tr>\n",
       "    <tr>\n",
       "      <th>2</th>\n",
       "      <td>avg_relative_position</td>\n",
       "      <td>0.4</td>\n",
       "      <td>0.124394</td>\n",
       "      <td>lime</td>\n",
       "      <td>-0.660472</td>\n",
       "    </tr>\n",
       "    <tr>\n",
       "      <th>3</th>\n",
       "      <td>avg_relative_position</td>\n",
       "      <td>0.5</td>\n",
       "      <td>0.119746</td>\n",
       "      <td>lime</td>\n",
       "      <td>-0.665120</td>\n",
       "    </tr>\n",
       "    <tr>\n",
       "      <th>4</th>\n",
       "      <td>avg_relative_position</td>\n",
       "      <td>0.6</td>\n",
       "      <td>0.119746</td>\n",
       "      <td>lime</td>\n",
       "      <td>-0.665120</td>\n",
       "    </tr>\n",
       "    <tr>\n",
       "      <th>5</th>\n",
       "      <td>avg_relative_position</td>\n",
       "      <td>0.7</td>\n",
       "      <td>0.119746</td>\n",
       "      <td>lime</td>\n",
       "      <td>-0.665120</td>\n",
       "    </tr>\n",
       "    <tr>\n",
       "      <th>6</th>\n",
       "      <td>avg_relative_position</td>\n",
       "      <td>0.8</td>\n",
       "      <td>0.119746</td>\n",
       "      <td>lime</td>\n",
       "      <td>-0.665120</td>\n",
       "    </tr>\n",
       "    <tr>\n",
       "      <th>7</th>\n",
       "      <td>avg_relative_position</td>\n",
       "      <td>0.9</td>\n",
       "      <td>0.124394</td>\n",
       "      <td>lime</td>\n",
       "      <td>-0.660472</td>\n",
       "    </tr>\n",
       "    <tr>\n",
       "      <th>8</th>\n",
       "      <td>climb_total</td>\n",
       "      <td>0.2</td>\n",
       "      <td>0.100896</td>\n",
       "      <td>lime</td>\n",
       "      <td>-0.683970</td>\n",
       "    </tr>\n",
       "    <tr>\n",
       "      <th>9</th>\n",
       "      <td>climb_total</td>\n",
       "      <td>0.3</td>\n",
       "      <td>0.100896</td>\n",
       "      <td>lime</td>\n",
       "      <td>-0.683970</td>\n",
       "    </tr>\n",
       "    <tr>\n",
       "      <th>10</th>\n",
       "      <td>climb_total</td>\n",
       "      <td>0.4</td>\n",
       "      <td>0.100896</td>\n",
       "      <td>lime</td>\n",
       "      <td>-0.683970</td>\n",
       "    </tr>\n",
       "    <tr>\n",
       "      <th>11</th>\n",
       "      <td>climb_total</td>\n",
       "      <td>0.5</td>\n",
       "      <td>0.096118</td>\n",
       "      <td>lime</td>\n",
       "      <td>-0.688748</td>\n",
       "    </tr>\n",
       "    <tr>\n",
       "      <th>12</th>\n",
       "      <td>climb_total</td>\n",
       "      <td>0.6</td>\n",
       "      <td>0.110373</td>\n",
       "      <td>lime</td>\n",
       "      <td>-0.674493</td>\n",
       "    </tr>\n",
       "    <tr>\n",
       "      <th>13</th>\n",
       "      <td>climb_total</td>\n",
       "      <td>0.7</td>\n",
       "      <td>0.110373</td>\n",
       "      <td>lime</td>\n",
       "      <td>-0.674493</td>\n",
       "    </tr>\n",
       "    <tr>\n",
       "      <th>14</th>\n",
       "      <td>climb_total</td>\n",
       "      <td>0.8</td>\n",
       "      <td>0.110373</td>\n",
       "      <td>lime</td>\n",
       "      <td>-0.674493</td>\n",
       "    </tr>\n",
       "    <tr>\n",
       "      <th>15</th>\n",
       "      <td>climb_total</td>\n",
       "      <td>0.9</td>\n",
       "      <td>0.110373</td>\n",
       "      <td>lime</td>\n",
       "      <td>-0.674493</td>\n",
       "    </tr>\n",
       "    <tr>\n",
       "      <th>16</th>\n",
       "      <td>top_20_entropy</td>\n",
       "      <td>0.2</td>\n",
       "      <td>0.115072</td>\n",
       "      <td>lime</td>\n",
       "      <td>-0.669793</td>\n",
       "    </tr>\n",
       "    <tr>\n",
       "      <th>17</th>\n",
       "      <td>top_20_entropy</td>\n",
       "      <td>0.3</td>\n",
       "      <td>0.115072</td>\n",
       "      <td>lime</td>\n",
       "      <td>-0.669793</td>\n",
       "    </tr>\n",
       "    <tr>\n",
       "      <th>18</th>\n",
       "      <td>top_20_entropy</td>\n",
       "      <td>0.4</td>\n",
       "      <td>0.115072</td>\n",
       "      <td>lime</td>\n",
       "      <td>-0.669793</td>\n",
       "    </tr>\n",
       "    <tr>\n",
       "      <th>19</th>\n",
       "      <td>top_20_entropy</td>\n",
       "      <td>0.5</td>\n",
       "      <td>0.115072</td>\n",
       "      <td>lime</td>\n",
       "      <td>-0.669793</td>\n",
       "    </tr>\n",
       "    <tr>\n",
       "      <th>20</th>\n",
       "      <td>top_20_entropy</td>\n",
       "      <td>0.6</td>\n",
       "      <td>0.115072</td>\n",
       "      <td>lime</td>\n",
       "      <td>-0.669793</td>\n",
       "    </tr>\n",
       "    <tr>\n",
       "      <th>21</th>\n",
       "      <td>top_20_entropy</td>\n",
       "      <td>0.7</td>\n",
       "      <td>0.119746</td>\n",
       "      <td>lime</td>\n",
       "      <td>-0.665120</td>\n",
       "    </tr>\n",
       "    <tr>\n",
       "      <th>22</th>\n",
       "      <td>top_20_entropy</td>\n",
       "      <td>0.8</td>\n",
       "      <td>0.119746</td>\n",
       "      <td>lime</td>\n",
       "      <td>-0.665120</td>\n",
       "    </tr>\n",
       "    <tr>\n",
       "      <th>23</th>\n",
       "      <td>top_20_entropy</td>\n",
       "      <td>0.9</td>\n",
       "      <td>0.124394</td>\n",
       "      <td>lime</td>\n",
       "      <td>-0.660472</td>\n",
       "    </tr>\n",
       "    <tr>\n",
       "      <th>24</th>\n",
       "      <td>position_entropy</td>\n",
       "      <td>0.2</td>\n",
       "      <td>0.105648</td>\n",
       "      <td>lime</td>\n",
       "      <td>-0.679218</td>\n",
       "    </tr>\n",
       "    <tr>\n",
       "      <th>25</th>\n",
       "      <td>position_entropy</td>\n",
       "      <td>0.3</td>\n",
       "      <td>0.100896</td>\n",
       "      <td>lime</td>\n",
       "      <td>-0.683970</td>\n",
       "    </tr>\n",
       "    <tr>\n",
       "      <th>26</th>\n",
       "      <td>position_entropy</td>\n",
       "      <td>0.4</td>\n",
       "      <td>0.100896</td>\n",
       "      <td>lime</td>\n",
       "      <td>-0.683970</td>\n",
       "    </tr>\n",
       "    <tr>\n",
       "      <th>27</th>\n",
       "      <td>position_entropy</td>\n",
       "      <td>0.5</td>\n",
       "      <td>0.100896</td>\n",
       "      <td>lime</td>\n",
       "      <td>-0.683970</td>\n",
       "    </tr>\n",
       "    <tr>\n",
       "      <th>28</th>\n",
       "      <td>position_entropy</td>\n",
       "      <td>0.6</td>\n",
       "      <td>0.100896</td>\n",
       "      <td>lime</td>\n",
       "      <td>-0.683970</td>\n",
       "    </tr>\n",
       "    <tr>\n",
       "      <th>29</th>\n",
       "      <td>position_entropy</td>\n",
       "      <td>0.7</td>\n",
       "      <td>0.105648</td>\n",
       "      <td>lime</td>\n",
       "      <td>-0.679218</td>\n",
       "    </tr>\n",
       "    <tr>\n",
       "      <th>30</th>\n",
       "      <td>position_entropy</td>\n",
       "      <td>0.8</td>\n",
       "      <td>0.105648</td>\n",
       "      <td>lime</td>\n",
       "      <td>-0.679218</td>\n",
       "    </tr>\n",
       "    <tr>\n",
       "      <th>31</th>\n",
       "      <td>position_entropy</td>\n",
       "      <td>0.9</td>\n",
       "      <td>0.105648</td>\n",
       "      <td>lime</td>\n",
       "      <td>-0.679218</td>\n",
       "    </tr>\n",
       "    <tr>\n",
       "      <th>32</th>\n",
       "      <td>cyclist_level</td>\n",
       "      <td>0.2</td>\n",
       "      <td>0.110373</td>\n",
       "      <td>lime</td>\n",
       "      <td>-0.674493</td>\n",
       "    </tr>\n",
       "    <tr>\n",
       "      <th>33</th>\n",
       "      <td>cyclist_level</td>\n",
       "      <td>0.3</td>\n",
       "      <td>0.105648</td>\n",
       "      <td>lime</td>\n",
       "      <td>-0.679218</td>\n",
       "    </tr>\n",
       "    <tr>\n",
       "      <th>34</th>\n",
       "      <td>cyclist_level</td>\n",
       "      <td>0.4</td>\n",
       "      <td>0.104847</td>\n",
       "      <td>lime</td>\n",
       "      <td>-0.680018</td>\n",
       "    </tr>\n",
       "    <tr>\n",
       "      <th>35</th>\n",
       "      <td>cyclist_level</td>\n",
       "      <td>0.5</td>\n",
       "      <td>0.104847</td>\n",
       "      <td>lime</td>\n",
       "      <td>-0.680018</td>\n",
       "    </tr>\n",
       "    <tr>\n",
       "      <th>36</th>\n",
       "      <td>cyclist_level</td>\n",
       "      <td>0.6</td>\n",
       "      <td>0.105648</td>\n",
       "      <td>lime</td>\n",
       "      <td>-0.679218</td>\n",
       "    </tr>\n",
       "    <tr>\n",
       "      <th>37</th>\n",
       "      <td>cyclist_level</td>\n",
       "      <td>0.7</td>\n",
       "      <td>0.100896</td>\n",
       "      <td>lime</td>\n",
       "      <td>-0.683970</td>\n",
       "    </tr>\n",
       "    <tr>\n",
       "      <th>38</th>\n",
       "      <td>cyclist_level</td>\n",
       "      <td>0.8</td>\n",
       "      <td>0.100896</td>\n",
       "      <td>lime</td>\n",
       "      <td>-0.683970</td>\n",
       "    </tr>\n",
       "    <tr>\n",
       "      <th>39</th>\n",
       "      <td>cyclist_level</td>\n",
       "      <td>0.9</td>\n",
       "      <td>0.100896</td>\n",
       "      <td>lime</td>\n",
       "      <td>-0.683970</td>\n",
       "    </tr>\n",
       "    <tr>\n",
       "      <th>40</th>\n",
       "      <td>cyclist_experience</td>\n",
       "      <td>0.2</td>\n",
       "      <td>0.115072</td>\n",
       "      <td>lime</td>\n",
       "      <td>-0.669793</td>\n",
       "    </tr>\n",
       "    <tr>\n",
       "      <th>41</th>\n",
       "      <td>cyclist_experience</td>\n",
       "      <td>0.3</td>\n",
       "      <td>0.114244</td>\n",
       "      <td>lime</td>\n",
       "      <td>-0.670621</td>\n",
       "    </tr>\n",
       "    <tr>\n",
       "      <th>42</th>\n",
       "      <td>cyclist_experience</td>\n",
       "      <td>0.4</td>\n",
       "      <td>0.115072</td>\n",
       "      <td>lime</td>\n",
       "      <td>-0.669793</td>\n",
       "    </tr>\n",
       "    <tr>\n",
       "      <th>43</th>\n",
       "      <td>cyclist_experience</td>\n",
       "      <td>0.5</td>\n",
       "      <td>0.119746</td>\n",
       "      <td>lime</td>\n",
       "      <td>-0.665120</td>\n",
       "    </tr>\n",
       "    <tr>\n",
       "      <th>44</th>\n",
       "      <td>cyclist_experience</td>\n",
       "      <td>0.6</td>\n",
       "      <td>0.119746</td>\n",
       "      <td>lime</td>\n",
       "      <td>-0.665120</td>\n",
       "    </tr>\n",
       "    <tr>\n",
       "      <th>45</th>\n",
       "      <td>cyclist_experience</td>\n",
       "      <td>0.7</td>\n",
       "      <td>0.124394</td>\n",
       "      <td>lime</td>\n",
       "      <td>-0.660472</td>\n",
       "    </tr>\n",
       "    <tr>\n",
       "      <th>46</th>\n",
       "      <td>cyclist_experience</td>\n",
       "      <td>0.8</td>\n",
       "      <td>0.119746</td>\n",
       "      <td>lime</td>\n",
       "      <td>-0.665120</td>\n",
       "    </tr>\n",
       "    <tr>\n",
       "      <th>47</th>\n",
       "      <td>cyclist_experience</td>\n",
       "      <td>0.9</td>\n",
       "      <td>0.119746</td>\n",
       "      <td>lime</td>\n",
       "      <td>-0.665120</td>\n",
       "    </tr>\n",
       "    <tr>\n",
       "      <th>48</th>\n",
       "      <td>cyclist_age</td>\n",
       "      <td>0.2</td>\n",
       "      <td>0.194412</td>\n",
       "      <td>lime</td>\n",
       "      <td>-0.590453</td>\n",
       "    </tr>\n",
       "    <tr>\n",
       "      <th>49</th>\n",
       "      <td>cyclist_age</td>\n",
       "      <td>0.3</td>\n",
       "      <td>0.181575</td>\n",
       "      <td>lime</td>\n",
       "      <td>-0.603291</td>\n",
       "    </tr>\n",
       "    <tr>\n",
       "      <th>50</th>\n",
       "      <td>cyclist_age</td>\n",
       "      <td>0.4</td>\n",
       "      <td>0.200705</td>\n",
       "      <td>lime</td>\n",
       "      <td>-0.584160</td>\n",
       "    </tr>\n",
       "    <tr>\n",
       "      <th>51</th>\n",
       "      <td>cyclist_age</td>\n",
       "      <td>0.5</td>\n",
       "      <td>0.190155</td>\n",
       "      <td>lime</td>\n",
       "      <td>-0.594710</td>\n",
       "    </tr>\n",
       "    <tr>\n",
       "      <th>52</th>\n",
       "      <td>cyclist_age</td>\n",
       "      <td>0.6</td>\n",
       "      <td>0.209023</td>\n",
       "      <td>lime</td>\n",
       "      <td>-0.575842</td>\n",
       "    </tr>\n",
       "    <tr>\n",
       "      <th>53</th>\n",
       "      <td>cyclist_age</td>\n",
       "      <td>0.7</td>\n",
       "      <td>0.223607</td>\n",
       "      <td>lime</td>\n",
       "      <td>-0.561259</td>\n",
       "    </tr>\n",
       "    <tr>\n",
       "      <th>54</th>\n",
       "      <td>cyclist_age</td>\n",
       "      <td>0.8</td>\n",
       "      <td>0.227694</td>\n",
       "      <td>lime</td>\n",
       "      <td>-0.557172</td>\n",
       "    </tr>\n",
       "    <tr>\n",
       "      <th>55</th>\n",
       "      <td>cyclist_age</td>\n",
       "      <td>0.9</td>\n",
       "      <td>0.211222</td>\n",
       "      <td>lime</td>\n",
       "      <td>-0.573643</td>\n",
       "    </tr>\n",
       "  </tbody>\n",
       "</table>\n",
       "</div>"
      ],
      "text/plain": [
       "                  feature  noise_magnitude  performance algorithm  difference\n",
       "0   avg_relative_position              0.2     0.110373      lime   -0.674493\n",
       "1   avg_relative_position              0.3     0.119746      lime   -0.665120\n",
       "2   avg_relative_position              0.4     0.124394      lime   -0.660472\n",
       "3   avg_relative_position              0.5     0.119746      lime   -0.665120\n",
       "4   avg_relative_position              0.6     0.119746      lime   -0.665120\n",
       "5   avg_relative_position              0.7     0.119746      lime   -0.665120\n",
       "6   avg_relative_position              0.8     0.119746      lime   -0.665120\n",
       "7   avg_relative_position              0.9     0.124394      lime   -0.660472\n",
       "8             climb_total              0.2     0.100896      lime   -0.683970\n",
       "9             climb_total              0.3     0.100896      lime   -0.683970\n",
       "10            climb_total              0.4     0.100896      lime   -0.683970\n",
       "11            climb_total              0.5     0.096118      lime   -0.688748\n",
       "12            climb_total              0.6     0.110373      lime   -0.674493\n",
       "13            climb_total              0.7     0.110373      lime   -0.674493\n",
       "14            climb_total              0.8     0.110373      lime   -0.674493\n",
       "15            climb_total              0.9     0.110373      lime   -0.674493\n",
       "16         top_20_entropy              0.2     0.115072      lime   -0.669793\n",
       "17         top_20_entropy              0.3     0.115072      lime   -0.669793\n",
       "18         top_20_entropy              0.4     0.115072      lime   -0.669793\n",
       "19         top_20_entropy              0.5     0.115072      lime   -0.669793\n",
       "20         top_20_entropy              0.6     0.115072      lime   -0.669793\n",
       "21         top_20_entropy              0.7     0.119746      lime   -0.665120\n",
       "22         top_20_entropy              0.8     0.119746      lime   -0.665120\n",
       "23         top_20_entropy              0.9     0.124394      lime   -0.660472\n",
       "24       position_entropy              0.2     0.105648      lime   -0.679218\n",
       "25       position_entropy              0.3     0.100896      lime   -0.683970\n",
       "26       position_entropy              0.4     0.100896      lime   -0.683970\n",
       "27       position_entropy              0.5     0.100896      lime   -0.683970\n",
       "28       position_entropy              0.6     0.100896      lime   -0.683970\n",
       "29       position_entropy              0.7     0.105648      lime   -0.679218\n",
       "30       position_entropy              0.8     0.105648      lime   -0.679218\n",
       "31       position_entropy              0.9     0.105648      lime   -0.679218\n",
       "32          cyclist_level              0.2     0.110373      lime   -0.674493\n",
       "33          cyclist_level              0.3     0.105648      lime   -0.679218\n",
       "34          cyclist_level              0.4     0.104847      lime   -0.680018\n",
       "35          cyclist_level              0.5     0.104847      lime   -0.680018\n",
       "36          cyclist_level              0.6     0.105648      lime   -0.679218\n",
       "37          cyclist_level              0.7     0.100896      lime   -0.683970\n",
       "38          cyclist_level              0.8     0.100896      lime   -0.683970\n",
       "39          cyclist_level              0.9     0.100896      lime   -0.683970\n",
       "40     cyclist_experience              0.2     0.115072      lime   -0.669793\n",
       "41     cyclist_experience              0.3     0.114244      lime   -0.670621\n",
       "42     cyclist_experience              0.4     0.115072      lime   -0.669793\n",
       "43     cyclist_experience              0.5     0.119746      lime   -0.665120\n",
       "44     cyclist_experience              0.6     0.119746      lime   -0.665120\n",
       "45     cyclist_experience              0.7     0.124394      lime   -0.660472\n",
       "46     cyclist_experience              0.8     0.119746      lime   -0.665120\n",
       "47     cyclist_experience              0.9     0.119746      lime   -0.665120\n",
       "48            cyclist_age              0.2     0.194412      lime   -0.590453\n",
       "49            cyclist_age              0.3     0.181575      lime   -0.603291\n",
       "50            cyclist_age              0.4     0.200705      lime   -0.584160\n",
       "51            cyclist_age              0.5     0.190155      lime   -0.594710\n",
       "52            cyclist_age              0.6     0.209023      lime   -0.575842\n",
       "53            cyclist_age              0.7     0.223607      lime   -0.561259\n",
       "54            cyclist_age              0.8     0.227694      lime   -0.557172\n",
       "55            cyclist_age              0.9     0.211222      lime   -0.573643"
      ]
     },
     "execution_count": 55,
     "metadata": {},
     "output_type": "execute_result"
    }
   ],
   "source": [
    "import pandas\n",
    "\n",
    "\n",
    "metric = \"f1-score\"\n",
    "corruption_validation_lime = pandas.DataFrame([\n",
    "    (feature, noise_magnitude, validations_by_feature_and_noise[(feature, noise_magnitude)][\"weighted avg\"][metric], \"lime\")\n",
    "    for feature, noise_magnitude in validations_by_feature_and_noise\n",
    "    ],\n",
    "    columns=[\"feature\", \"noise_magnitude\", \"performance\", \"algorithm\"]\n",
    ")\n",
    "corruption_validation_lime[\"difference\"] = corruption_validation_lime[\"performance\"] - validation[\"weighted avg\"][metric]\n",
    "\n",
    "corruption_validation = pandas.concat((corruption_validation, corruption_validation_lime))\n",
    "corruption_validation_lime"
   ]
  },
  {
   "cell_type": "markdown",
   "metadata": {},
   "source": [
    "\n",
    "\n",
    "#### **Stable and Robust Features**\n",
    "\n",
    "- **avg_relative_position** and **climb_total** <br> \n",
    "  These features are highly stable. Adding noise does not significantly impact the model's performance, indicating that their contribution to the predictions is insignificant. \n",
    "\n",
    "- **top_20_entropy** <br>\n",
    "  This feature is completely insensitive to noise, suggesting that it is either irrelevant to the model or not utilized in its decision-making process.\n",
    "\n",
    "\n",
    "#### **Sensitive or Complex Features**\n",
    "\n",
    "- **position_entropy** <br>\n",
    "  This feature is influential but also sensitive to noise. The model's performance drops as noise increases.\n",
    "\n",
    "- **cyclist_level** and **cyclist_experience** <br>\n",
    "  Both features show improved performance as noise increases, indicating they capture more complex or nonlinear relationships in the data. The noise helps the model generalize better, probabily reducing overfitting. Cyclist_level shows a slight improvement instead Cyclist_experience shows a more consistent improvement, indicating that it is a more significant feature for the model.\n",
    "\n",
    "- **cyclist_age** <br>\n",
    "  This feature exhibits moderate instability, with performance variations becoming more significant at higher noise levels. \n",
    "\n",
    "The introduction of noise had varying effects on the analyzed variables, revealing that some features are stable, while others show greater or more complex impacts. These results suggest that variables like cyclist_experience are key to the model and require particular attention, while others might be less significant or even unused by the model. "
   ]
  },
  {
   "cell_type": "markdown",
   "metadata": {},
   "source": [
    "### Explaining data with 0 label and prediction being 1"
   ]
  },
  {
   "cell_type": "markdown",
   "metadata": {},
   "source": [
    "Nota: the data is the same instances explained in LORE"
   ]
  },
  {
   "cell_type": "code",
   "execution_count": 56,
   "metadata": {},
   "outputs": [
    {
     "name": "stdout",
     "output_type": "stream",
     "text": [
      "Label:  0\n",
      "Predicted value:  1\n"
     ]
    },
    {
     "data": {
      "application/vnd.plotly.v1+json": {
       "config": {
        "plotlyServerURL": "https://plot.ly"
       },
       "data": [
        {
         "marker": {
          "color": [
           "#1f77b4",
           "#ff7f0e",
           "#ff7f0e",
           "#1f77b4",
           "#1f77b4",
           "#ff7f0e",
           "#ff7f0e",
           "#808080"
          ]
         },
         "orientation": "h",
         "type": "bar",
         "x": [
          -0.0020898658010479005,
          0.00516412369809743,
          0.006047456130489006,
          -0.006072865911125623,
          -0.04238682391739503,
          0.061882689819169695,
          0.14732666254052768,
          0.2662846050746089
         ],
         "y": [
          "cyclist_level (5970.53)",
          "cyclist_age (25.00)",
          "cyclist_experience (103.00)",
          "position_entropy (5.94)",
          "avg_relative_position (0.32)",
          "climb_total (3.26)",
          "top_20_entropy (0.75)",
          "Intercept"
         ]
        }
       ],
       "layout": {
        "template": {
         "data": {
          "bar": [
           {
            "error_x": {
             "color": "#2a3f5f"
            },
            "error_y": {
             "color": "#2a3f5f"
            },
            "marker": {
             "line": {
              "color": "#E5ECF6",
              "width": 0.5
             },
             "pattern": {
              "fillmode": "overlay",
              "size": 10,
              "solidity": 0.2
             }
            },
            "type": "bar"
           }
          ],
          "barpolar": [
           {
            "marker": {
             "line": {
              "color": "#E5ECF6",
              "width": 0.5
             },
             "pattern": {
              "fillmode": "overlay",
              "size": 10,
              "solidity": 0.2
             }
            },
            "type": "barpolar"
           }
          ],
          "carpet": [
           {
            "aaxis": {
             "endlinecolor": "#2a3f5f",
             "gridcolor": "white",
             "linecolor": "white",
             "minorgridcolor": "white",
             "startlinecolor": "#2a3f5f"
            },
            "baxis": {
             "endlinecolor": "#2a3f5f",
             "gridcolor": "white",
             "linecolor": "white",
             "minorgridcolor": "white",
             "startlinecolor": "#2a3f5f"
            },
            "type": "carpet"
           }
          ],
          "choropleth": [
           {
            "colorbar": {
             "outlinewidth": 0,
             "ticks": ""
            },
            "type": "choropleth"
           }
          ],
          "contour": [
           {
            "colorbar": {
             "outlinewidth": 0,
             "ticks": ""
            },
            "colorscale": [
             [
              0,
              "#0d0887"
             ],
             [
              0.1111111111111111,
              "#46039f"
             ],
             [
              0.2222222222222222,
              "#7201a8"
             ],
             [
              0.3333333333333333,
              "#9c179e"
             ],
             [
              0.4444444444444444,
              "#bd3786"
             ],
             [
              0.5555555555555556,
              "#d8576b"
             ],
             [
              0.6666666666666666,
              "#ed7953"
             ],
             [
              0.7777777777777778,
              "#fb9f3a"
             ],
             [
              0.8888888888888888,
              "#fdca26"
             ],
             [
              1,
              "#f0f921"
             ]
            ],
            "type": "contour"
           }
          ],
          "contourcarpet": [
           {
            "colorbar": {
             "outlinewidth": 0,
             "ticks": ""
            },
            "type": "contourcarpet"
           }
          ],
          "heatmap": [
           {
            "colorbar": {
             "outlinewidth": 0,
             "ticks": ""
            },
            "colorscale": [
             [
              0,
              "#0d0887"
             ],
             [
              0.1111111111111111,
              "#46039f"
             ],
             [
              0.2222222222222222,
              "#7201a8"
             ],
             [
              0.3333333333333333,
              "#9c179e"
             ],
             [
              0.4444444444444444,
              "#bd3786"
             ],
             [
              0.5555555555555556,
              "#d8576b"
             ],
             [
              0.6666666666666666,
              "#ed7953"
             ],
             [
              0.7777777777777778,
              "#fb9f3a"
             ],
             [
              0.8888888888888888,
              "#fdca26"
             ],
             [
              1,
              "#f0f921"
             ]
            ],
            "type": "heatmap"
           }
          ],
          "heatmapgl": [
           {
            "colorbar": {
             "outlinewidth": 0,
             "ticks": ""
            },
            "colorscale": [
             [
              0,
              "#0d0887"
             ],
             [
              0.1111111111111111,
              "#46039f"
             ],
             [
              0.2222222222222222,
              "#7201a8"
             ],
             [
              0.3333333333333333,
              "#9c179e"
             ],
             [
              0.4444444444444444,
              "#bd3786"
             ],
             [
              0.5555555555555556,
              "#d8576b"
             ],
             [
              0.6666666666666666,
              "#ed7953"
             ],
             [
              0.7777777777777778,
              "#fb9f3a"
             ],
             [
              0.8888888888888888,
              "#fdca26"
             ],
             [
              1,
              "#f0f921"
             ]
            ],
            "type": "heatmapgl"
           }
          ],
          "histogram": [
           {
            "marker": {
             "pattern": {
              "fillmode": "overlay",
              "size": 10,
              "solidity": 0.2
             }
            },
            "type": "histogram"
           }
          ],
          "histogram2d": [
           {
            "colorbar": {
             "outlinewidth": 0,
             "ticks": ""
            },
            "colorscale": [
             [
              0,
              "#0d0887"
             ],
             [
              0.1111111111111111,
              "#46039f"
             ],
             [
              0.2222222222222222,
              "#7201a8"
             ],
             [
              0.3333333333333333,
              "#9c179e"
             ],
             [
              0.4444444444444444,
              "#bd3786"
             ],
             [
              0.5555555555555556,
              "#d8576b"
             ],
             [
              0.6666666666666666,
              "#ed7953"
             ],
             [
              0.7777777777777778,
              "#fb9f3a"
             ],
             [
              0.8888888888888888,
              "#fdca26"
             ],
             [
              1,
              "#f0f921"
             ]
            ],
            "type": "histogram2d"
           }
          ],
          "histogram2dcontour": [
           {
            "colorbar": {
             "outlinewidth": 0,
             "ticks": ""
            },
            "colorscale": [
             [
              0,
              "#0d0887"
             ],
             [
              0.1111111111111111,
              "#46039f"
             ],
             [
              0.2222222222222222,
              "#7201a8"
             ],
             [
              0.3333333333333333,
              "#9c179e"
             ],
             [
              0.4444444444444444,
              "#bd3786"
             ],
             [
              0.5555555555555556,
              "#d8576b"
             ],
             [
              0.6666666666666666,
              "#ed7953"
             ],
             [
              0.7777777777777778,
              "#fb9f3a"
             ],
             [
              0.8888888888888888,
              "#fdca26"
             ],
             [
              1,
              "#f0f921"
             ]
            ],
            "type": "histogram2dcontour"
           }
          ],
          "mesh3d": [
           {
            "colorbar": {
             "outlinewidth": 0,
             "ticks": ""
            },
            "type": "mesh3d"
           }
          ],
          "parcoords": [
           {
            "line": {
             "colorbar": {
              "outlinewidth": 0,
              "ticks": ""
             }
            },
            "type": "parcoords"
           }
          ],
          "pie": [
           {
            "automargin": true,
            "type": "pie"
           }
          ],
          "scatter": [
           {
            "fillpattern": {
             "fillmode": "overlay",
             "size": 10,
             "solidity": 0.2
            },
            "type": "scatter"
           }
          ],
          "scatter3d": [
           {
            "line": {
             "colorbar": {
              "outlinewidth": 0,
              "ticks": ""
             }
            },
            "marker": {
             "colorbar": {
              "outlinewidth": 0,
              "ticks": ""
             }
            },
            "type": "scatter3d"
           }
          ],
          "scattercarpet": [
           {
            "marker": {
             "colorbar": {
              "outlinewidth": 0,
              "ticks": ""
             }
            },
            "type": "scattercarpet"
           }
          ],
          "scattergeo": [
           {
            "marker": {
             "colorbar": {
              "outlinewidth": 0,
              "ticks": ""
             }
            },
            "type": "scattergeo"
           }
          ],
          "scattergl": [
           {
            "marker": {
             "colorbar": {
              "outlinewidth": 0,
              "ticks": ""
             }
            },
            "type": "scattergl"
           }
          ],
          "scattermapbox": [
           {
            "marker": {
             "colorbar": {
              "outlinewidth": 0,
              "ticks": ""
             }
            },
            "type": "scattermapbox"
           }
          ],
          "scatterpolar": [
           {
            "marker": {
             "colorbar": {
              "outlinewidth": 0,
              "ticks": ""
             }
            },
            "type": "scatterpolar"
           }
          ],
          "scatterpolargl": [
           {
            "marker": {
             "colorbar": {
              "outlinewidth": 0,
              "ticks": ""
             }
            },
            "type": "scatterpolargl"
           }
          ],
          "scatterternary": [
           {
            "marker": {
             "colorbar": {
              "outlinewidth": 0,
              "ticks": ""
             }
            },
            "type": "scatterternary"
           }
          ],
          "surface": [
           {
            "colorbar": {
             "outlinewidth": 0,
             "ticks": ""
            },
            "colorscale": [
             [
              0,
              "#0d0887"
             ],
             [
              0.1111111111111111,
              "#46039f"
             ],
             [
              0.2222222222222222,
              "#7201a8"
             ],
             [
              0.3333333333333333,
              "#9c179e"
             ],
             [
              0.4444444444444444,
              "#bd3786"
             ],
             [
              0.5555555555555556,
              "#d8576b"
             ],
             [
              0.6666666666666666,
              "#ed7953"
             ],
             [
              0.7777777777777778,
              "#fb9f3a"
             ],
             [
              0.8888888888888888,
              "#fdca26"
             ],
             [
              1,
              "#f0f921"
             ]
            ],
            "type": "surface"
           }
          ],
          "table": [
           {
            "cells": {
             "fill": {
              "color": "#EBF0F8"
             },
             "line": {
              "color": "white"
             }
            },
            "header": {
             "fill": {
              "color": "#C8D4E3"
             },
             "line": {
              "color": "white"
             }
            },
            "type": "table"
           }
          ]
         },
         "layout": {
          "annotationdefaults": {
           "arrowcolor": "#2a3f5f",
           "arrowhead": 0,
           "arrowwidth": 1
          },
          "autotypenumbers": "strict",
          "coloraxis": {
           "colorbar": {
            "outlinewidth": 0,
            "ticks": ""
           }
          },
          "colorscale": {
           "diverging": [
            [
             0,
             "#8e0152"
            ],
            [
             0.1,
             "#c51b7d"
            ],
            [
             0.2,
             "#de77ae"
            ],
            [
             0.3,
             "#f1b6da"
            ],
            [
             0.4,
             "#fde0ef"
            ],
            [
             0.5,
             "#f7f7f7"
            ],
            [
             0.6,
             "#e6f5d0"
            ],
            [
             0.7,
             "#b8e186"
            ],
            [
             0.8,
             "#7fbc41"
            ],
            [
             0.9,
             "#4d9221"
            ],
            [
             1,
             "#276419"
            ]
           ],
           "sequential": [
            [
             0,
             "#0d0887"
            ],
            [
             0.1111111111111111,
             "#46039f"
            ],
            [
             0.2222222222222222,
             "#7201a8"
            ],
            [
             0.3333333333333333,
             "#9c179e"
            ],
            [
             0.4444444444444444,
             "#bd3786"
            ],
            [
             0.5555555555555556,
             "#d8576b"
            ],
            [
             0.6666666666666666,
             "#ed7953"
            ],
            [
             0.7777777777777778,
             "#fb9f3a"
            ],
            [
             0.8888888888888888,
             "#fdca26"
            ],
            [
             1,
             "#f0f921"
            ]
           ],
           "sequentialminus": [
            [
             0,
             "#0d0887"
            ],
            [
             0.1111111111111111,
             "#46039f"
            ],
            [
             0.2222222222222222,
             "#7201a8"
            ],
            [
             0.3333333333333333,
             "#9c179e"
            ],
            [
             0.4444444444444444,
             "#bd3786"
            ],
            [
             0.5555555555555556,
             "#d8576b"
            ],
            [
             0.6666666666666666,
             "#ed7953"
            ],
            [
             0.7777777777777778,
             "#fb9f3a"
            ],
            [
             0.8888888888888888,
             "#fdca26"
            ],
            [
             1,
             "#f0f921"
            ]
           ]
          },
          "colorway": [
           "#636efa",
           "#EF553B",
           "#00cc96",
           "#ab63fa",
           "#FFA15A",
           "#19d3f3",
           "#FF6692",
           "#B6E880",
           "#FF97FF",
           "#FECB52"
          ],
          "font": {
           "color": "#2a3f5f"
          },
          "geo": {
           "bgcolor": "white",
           "lakecolor": "white",
           "landcolor": "#E5ECF6",
           "showlakes": true,
           "showland": true,
           "subunitcolor": "white"
          },
          "hoverlabel": {
           "align": "left"
          },
          "hovermode": "closest",
          "mapbox": {
           "style": "light"
          },
          "paper_bgcolor": "white",
          "plot_bgcolor": "#E5ECF6",
          "polar": {
           "angularaxis": {
            "gridcolor": "white",
            "linecolor": "white",
            "ticks": ""
           },
           "bgcolor": "#E5ECF6",
           "radialaxis": {
            "gridcolor": "white",
            "linecolor": "white",
            "ticks": ""
           }
          },
          "scene": {
           "xaxis": {
            "backgroundcolor": "#E5ECF6",
            "gridcolor": "white",
            "gridwidth": 2,
            "linecolor": "white",
            "showbackground": true,
            "ticks": "",
            "zerolinecolor": "white"
           },
           "yaxis": {
            "backgroundcolor": "#E5ECF6",
            "gridcolor": "white",
            "gridwidth": 2,
            "linecolor": "white",
            "showbackground": true,
            "ticks": "",
            "zerolinecolor": "white"
           },
           "zaxis": {
            "backgroundcolor": "#E5ECF6",
            "gridcolor": "white",
            "gridwidth": 2,
            "linecolor": "white",
            "showbackground": true,
            "ticks": "",
            "zerolinecolor": "white"
           }
          },
          "shapedefaults": {
           "line": {
            "color": "#2a3f5f"
           }
          },
          "ternary": {
           "aaxis": {
            "gridcolor": "white",
            "linecolor": "white",
            "ticks": ""
           },
           "baxis": {
            "gridcolor": "white",
            "linecolor": "white",
            "ticks": ""
           },
           "bgcolor": "#E5ECF6",
           "caxis": {
            "gridcolor": "white",
            "linecolor": "white",
            "ticks": ""
           }
          },
          "title": {
           "x": 0.05
          },
          "xaxis": {
           "automargin": true,
           "gridcolor": "white",
           "linecolor": "white",
           "ticks": "",
           "title": {
            "standoff": 15
           },
           "zerolinecolor": "white",
           "zerolinewidth": 2
          },
          "yaxis": {
           "automargin": true,
           "gridcolor": "white",
           "linecolor": "white",
           "ticks": "",
           "title": {
            "standoff": 15
           },
           "zerolinecolor": "white",
           "zerolinewidth": 2
          }
         }
        },
        "title": {
         "text": "Predicted: 0.732"
        },
        "xaxis": {
         "range": [
          -0.2662846050746089,
          0.2662846050746089
         ],
         "title": {
          "text": ""
         }
        },
        "yaxis": {
         "automargin": true,
         "dtick": 1,
         "title": {
          "text": ""
         }
        }
       }
      }
     },
     "metadata": {},
     "output_type": "display_data"
    }
   ],
   "source": [
    "instance_index = 32\n",
    "print(\"Label: \",test_labels.iloc[instance_index].values[0])\n",
    "print(\"Predicted value: \", test_prediction[instance_index])\n",
    "\n",
    "instance = test_data.iloc[[instance_index]]\n",
    "\n",
    "explanation_0 = lime_explanation_algorithm.explain_local(instance)\n",
    "explanation_0.visualize(0)"
   ]
  },
  {
   "cell_type": "markdown",
   "metadata": {},
   "source": [
    "### Explaining data with label and prediction being 0"
   ]
  },
  {
   "cell_type": "markdown",
   "metadata": {},
   "source": [
    "Nota: the data is the same instances explained in LORE"
   ]
  }
 ],
 "metadata": {
  "kernelspec": {
   "display_name": "dm",
   "language": "python",
   "name": "python3"
  },
  "language_info": {
   "codemirror_mode": {
    "name": "ipython",
    "version": 3
   },
   "file_extension": ".py",
   "mimetype": "text/x-python",
   "name": "python",
   "nbconvert_exporter": "python",
   "pygments_lexer": "ipython3",
   "version": "3.12.7"
  }
 },
 "nbformat": 4,
 "nbformat_minor": 2
}
