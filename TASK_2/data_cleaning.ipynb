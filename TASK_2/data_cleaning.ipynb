{
 "cells": [
  {
   "cell_type": "markdown",
   "metadata": {},
   "source": [
    "- rimozione outlier\n",
    "- rimozione errori (-1 su delta) --> NaN\n",
    "- controllare che non ci siano righe con valori completmente nulli\n",
    "- rimozione cobbled, gravel perchè sono tutti true e false\n",
    "- rimuovere i ciclisti dal dataframe dei ciclisti che non hanno partecipato a gare ???\n",
    "- rimozione delle feature correlate \n",
    "- drop temperatura"
   ]
  },
  {
   "cell_type": "markdown",
   "metadata": {},
   "source": [
    "Columns containing null values in the cyclist dataset:\n",
    "- birth_year\n",
    "- weight\n",
    "- height\n"
   ]
  },
  {
   "cell_type": "markdown",
   "metadata": {},
   "source": [
    "Outliers in cyclist dataset:\n",
    "- weight\n",
    "- height"
   ]
  },
  {
   "cell_type": "markdown",
   "metadata": {},
   "source": [
    "Columns containing null values in the races dataset:\n",
    "- points\n",
    "- uci_points\n",
    "- climb_total\n",
    "- profile\n",
    "- cyclist age\n",
    "- cyclist_team\n",
    "\n"
   ]
  },
  {
   "cell_type": "markdown",
   "metadata": {},
   "source": [
    "Outliers in races dataset:\n",
    "- points\n",
    "- uci_points\n",
    "- length\n",
    "- climb_total\n",
    "- start_list quality\n",
    "- race_year\n",
    "- cyclist_age\n",
    "- delta\n",
    "\n",
    "\n",
    "\n",
    "\n",
    "\n"
   ]
  },
  {
   "cell_type": "markdown",
   "metadata": {},
   "source": [
    "Duplicates in races dataset:\n",
    "- cyclists\n",
    "- "
   ]
  },
  {
   "cell_type": "markdown",
   "metadata": {},
   "source": [
    "Inconsistencies:\n",
    "- cyclist_age\n",
    "- delta"
   ]
  },
  {
   "cell_type": "markdown",
   "metadata": {},
   "source": [
    "# Data Cleaning"
   ]
  },
  {
   "cell_type": "markdown",
   "metadata": {},
   "source": []
  }
 ],
 "metadata": {
  "kernelspec": {
   "display_name": ".venv",
   "language": "python",
   "name": "python3"
  },
  "language_info": {
   "codemirror_mode": {
    "name": "ipython",
    "version": 3
   },
   "file_extension": ".py",
   "mimetype": "text/x-python",
   "name": "python",
   "nbconvert_exporter": "python",
   "pygments_lexer": "ipython3",
   "version": "3.12.7"
  }
 },
 "nbformat": 4,
 "nbformat_minor": 2
}
