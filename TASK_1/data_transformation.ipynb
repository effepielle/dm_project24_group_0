{
 "cells": [
  {
   "cell_type": "markdown",
   "metadata": {},
   "source": [
    "# **Feature engeneering**"
   ]
  },
  {
   "cell_type": "code",
   "execution_count": 1,
   "metadata": {},
   "outputs": [],
   "source": [
    "import pandas as pd\n",
    "import matplotlib.pyplot as plt\n",
    "import seaborn as sns\n",
    "import numpy as np\n",
    "import pycountry_convert as pc"
   ]
  },
  {
   "cell_type": "code",
   "execution_count": 2,
   "metadata": {},
   "outputs": [],
   "source": [
    "# Dataset download\n",
    "cyclists_df = pd.read_csv('../dataset/cyclists.csv')\n",
    "races_df = pd.read_csv('../dataset/races.csv')"
   ]
  },
  {
   "cell_type": "markdown",
   "metadata": {},
   "source": [
    "#### ```categorical_height``` column\n"
   ]
  },
  {
   "cell_type": "markdown",
   "metadata": {},
   "source": [
    "Since cycling is a sport in which, on average for the same height, the weight is similar, we group height by category with 5cm intervals to look for possible outliers in weight using conditional boxplots."
   ]
  },
  {
   "cell_type": "code",
   "execution_count": null,
   "metadata": {},
   "outputs": [],
   "source": [
    "# Define the bins for the height category and create the feature\n",
    "bins = [154, 159, 164, 169, 174, 179, 184, 189, 194, 199, 204]\n",
    "labels = list(range(10))\n",
    "\n",
    "cyclists_df['categorical_height'] = pd.cut(cyclists_df['height'], bins=bins, labels=labels, right=False, include_lowest=True)\n",
    "\n",
    "print(cyclists_df[['height', 'categorical_height']].head(10))"
   ]
  },
  {
   "cell_type": "markdown",
   "metadata": {},
   "source": [
    "Conditional Box Plot"
   ]
  },
  {
   "cell_type": "code",
   "execution_count": null,
   "metadata": {},
   "outputs": [],
   "source": [
    "plt.figure(figsize=(12, 6))\n",
    "sns.boxplot(x='categorical_height', y='weight', data=cyclists_df)\n",
    "plt.title('Boxplot of Weight Conditioned on Height Category')\n",
    "plt.xlabel('Height Category')\n",
    "plt.ylabel('Weight')\n",
    "\n",
    "# Set y-axis intervals\n",
    "plt.yticks(np.arange(50, cyclists_df['weight'].max() + 5, 5))\n",
    "\n",
    "plt.show()"
   ]
  },
  {
   "cell_type": "markdown",
   "metadata": {},
   "source": [
    "We show the number of cyclists in each defined category (excluding those with zero weight) to evaluate the significance of the outliers identified from the boxplots."
   ]
  },
  {
   "cell_type": "code",
   "execution_count": null,
   "metadata": {},
   "outputs": [],
   "source": [
    "# Exclude cyclists with null weight\n",
    "cyclists_df_non_null_weight = cyclists_df[cyclists_df['weight'].notnull()]\n",
    "\n",
    "# Count the number of cyclists in each height category\n",
    "categorical_height_counts = cyclists_df_non_null_weight['categorical_height'].value_counts().sort_index()\n",
    "\n",
    "# Plot the results\n",
    "plt.figure(figsize=(10, 6))\n",
    "ax = categorical_height_counts.plot(kind='bar')\n",
    "plt.title('Number of Cyclists per Height Category (Excluding Null Weights)')\n",
    "plt.xlabel('Height Category')\n",
    "plt.ylabel('Number of Cyclists')\n",
    "\n",
    "# Add the count above each bin\n",
    "for i, count in enumerate(categorical_height_counts):\n",
    "    ax.text(i, count + 5, str(count), ha='center', va='bottom')\n",
    "\n",
    "# Rotate x-axis labels to horizontal\n",
    "plt.xticks(rotation=0)\n",
    "\n",
    "plt.show()"
   ]
  },
  {
   "cell_type": "markdown",
   "metadata": {},
   "source": [
    "#### ```BMI_idx``` column"
   ]
  },
  {
   "cell_type": "code",
   "execution_count": null,
   "metadata": {},
   "outputs": [],
   "source": [
    "from utils import compute_bmi\n",
    "\n",
    "# Apply the function to compute BMI index for each cyclist\n",
    "cyclists_df['BMI_idx'] = cyclists_df.apply(\n",
    "    lambda row: compute_bmi(row['weight'], row['height']),\n",
    "    axis=1\n",
    ")\n",
    "\n",
    "print(cyclists_df[['weight', 'height', 'BMI_idx']].head(10))"
   ]
  },
  {
   "cell_type": "markdown",
   "metadata": {},
   "source": [
    "Categorizing BMI index"
   ]
  },
  {
   "cell_type": "code",
   "execution_count": null,
   "metadata": {},
   "outputs": [],
   "source": [
    "# Define the BMI categories and their corresponding labels\n",
    "bmi_bins = [0, 18.5, 24.9, 29.9, np.inf]\n",
    "bmi_labels = ['Underweight', 'Normal weight', 'Overweight', 'Obese']\n",
    "\n",
    "# Create the 'BMI' categorical column\n",
    "cyclists_df['BMI'] = pd.cut(cyclists_df['BMI_idx'], bins=bmi_bins, labels=bmi_labels, right=False, include_lowest=True)\n",
    "\n",
    "# Display the first few rows to verify\n",
    "print(cyclists_df[['_url', 'BMI_idx', 'BMI']].head(10))"
   ]
  },
  {
   "cell_type": "code",
   "execution_count": null,
   "metadata": {},
   "outputs": [],
   "source": [
    "# Count the number of cyclists per BMI category\n",
    "bmi_category_counts = cyclists_df['BMI'].value_counts().sort_index()\n",
    "\n",
    "# Plot the results\n",
    "plt.figure(figsize=(10, 6))\n",
    "ax = bmi_category_counts.plot(kind='bar')\n",
    "plt.title('Number of Cyclists per BMI Category')\n",
    "plt.xlabel('BMI Category')\n",
    "plt.ylabel('Number of Cyclists')\n",
    "\n",
    "# Add the count above each bin\n",
    "for i, count in enumerate(bmi_category_counts):\n",
    "    ax.text(i, count + 5, str(count), ha='center', va='bottom')\n",
    "\n",
    "# Rotate x-axis labels to horizontal\n",
    "plt.xticks(rotation=0)\n",
    "\n",
    "plt.show()"
   ]
  },
  {
   "cell_type": "markdown",
   "metadata": {},
   "source": [
    "As expected the most of the cyclists are normal weight"
   ]
  },
  {
   "cell_type": "code",
   "execution_count": null,
   "metadata": {},
   "outputs": [],
   "source": [
    "cyclists_df = cyclists_df.drop(columns=['BMI_idx'])\n",
    "# Create a pairplot excluding the 'categorical_height' column\n",
    "sns.pairplot(cyclists_df.drop(columns=[]), hue='BMI')\n",
    "plt.show()"
   ]
  },
  {
   "cell_type": "markdown",
   "metadata": {},
   "source": [
    "#### ```continent``` column"
   ]
  },
  {
   "cell_type": "code",
   "execution_count": null,
   "metadata": {},
   "outputs": [],
   "source": [
    "# Function to convert country name to continent\n",
    "def country_to_continent(country_name):\n",
    "    try:\n",
    "        country_alpha2 = pc.country_name_to_country_alpha2(country_name)\n",
    "        continent_code = pc.country_alpha2_to_continent_code(country_alpha2)\n",
    "        continent_name = pc.convert_continent_code_to_continent_name(continent_code)\n",
    "        return continent_name\n",
    "    except:\n",
    "        return 'Unknown'\n",
    "\n",
    "# Apply the function to create a new column 'continent'\n",
    "cyclists_df['continent'] = cyclists_df['nationality'].apply(country_to_continent)\n",
    "\n",
    "# Display the first few rows to verify\n",
    "print(cyclists_df[['nationality', 'continent']].head(10))"
   ]
  },
  {
   "cell_type": "code",
   "execution_count": null,
   "metadata": {},
   "outputs": [],
   "source": [
    "# Count the number of cyclists per continent\n",
    "continent_counts = cyclists_df['continent'].value_counts()\n",
    "\n",
    "# Plot the number of cyclists per continent as a histogram\n",
    "plt.figure(figsize=(8, 5))\n",
    "ax = continent_counts.plot(kind='bar')\n",
    "plt.title('Number of Cyclists per Continent')\n",
    "plt.xlabel('Continent')\n",
    "plt.ylabel('Number of Cyclists')\n",
    "plt.xticks(rotation=45)\n",
    "\n",
    "# Add the count above each bin\n",
    "for i, count in enumerate(continent_counts):\n",
    "    ax.text(i, count + 50, str(count), ha='center', va='bottom')\n",
    "\n",
    "plt.show()"
   ]
  },
  {
   "cell_type": "code",
   "execution_count": null,
   "metadata": {},
   "outputs": [],
   "source": [
    "# Create a pairplot excluding the 'categorical_height' column\n",
    "sns.pairplot(cyclists_df.drop(columns=['categorical_height']), hue='continent')\n",
    "plt.show()"
   ]
  },
  {
   "cell_type": "markdown",
   "metadata": {},
   "source": [
    "Given that majority of cyclists are european let's deep into european cyclist analysis"
   ]
  },
  {
   "cell_type": "code",
   "execution_count": 13,
   "metadata": {},
   "outputs": [],
   "source": [
    "# Filter cyclists by European continent\n",
    "european_df = cyclists_df[cyclists_df['continent'] == 'Europe'].drop(columns=['continent'])"
   ]
  },
  {
   "cell_type": "code",
   "execution_count": null,
   "metadata": {},
   "outputs": [],
   "source": [
    "# Count the number of cyclists per nationality\n",
    "nationality_counts = european_df['nationality'].value_counts()\n",
    "\n",
    "# Plot the number of cyclists per nationality as a histogram\n",
    "plt.figure(figsize=(14, 7))\n",
    "ax = nationality_counts.plot(kind='bar')\n",
    "plt.title('Number of Cyclists per Nationality')\n",
    "plt.xlabel('Nationality')\n",
    "plt.ylabel('Number of Cyclists')\n",
    "plt.xticks(rotation=90)\n",
    "\n",
    "# Add the count above each bin\n",
    "for i, count in enumerate(nationality_counts):\n",
    "    ax.text(i, count + 10, str(count), ha='center', va='bottom')\n",
    "\n",
    "plt.show()"
   ]
  },
  {
   "cell_type": "code",
   "execution_count": null,
   "metadata": {},
   "outputs": [],
   "source": [
    "# Create a pairplot excluding the 'categorical_height' column\n",
    "sns.pairplot(european_df.drop(columns=['categorical_height']), hue='nationality')\n",
    "plt.show()"
   ]
  }
 ],
 "metadata": {
  "kernelspec": {
   "display_name": "dm",
   "language": "python",
   "name": "python3"
  },
  "language_info": {
   "codemirror_mode": {
    "name": "ipython",
    "version": 3
   },
   "file_extension": ".py",
   "mimetype": "text/x-python",
   "name": "python",
   "nbconvert_exporter": "python",
   "pygments_lexer": "ipython3",
   "version": "3.12.7"
  }
 },
 "nbformat": 4,
 "nbformat_minor": 2
}
