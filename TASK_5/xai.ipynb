{
 "cells": [
  {
   "cell_type": "markdown",
   "metadata": {},
   "source": [
    "# **XAI for Best Classifier (gbm)**"
   ]
  },
  {
   "cell_type": "markdown",
   "metadata": {},
   "source": [
    "Main goal of this notebook is to try to explain decisions made by Gradient Boosting Machine classifier in out binary classification task"
   ]
  },
  {
   "cell_type": "code",
   "execution_count": 1,
   "metadata": {},
   "outputs": [],
   "source": [
    "%load_ext autoreload\n",
    "%autoreload 2"
   ]
  },
  {
   "cell_type": "code",
   "execution_count": 2,
   "metadata": {},
   "outputs": [],
   "source": [
    "import joblib\n",
    "import pandas as pd\n",
    "import numpy as np\n",
    "from sklearn.metrics import classification_report"
   ]
  },
  {
   "cell_type": "code",
   "execution_count": 3,
   "metadata": {},
   "outputs": [
    {
     "name": "stderr",
     "output_type": "stream",
     "text": [
      "d:\\miniconda3\\envs\\HLT\\Lib\\site-packages\\sklearn\\base.py:380: InconsistentVersionWarning: Trying to unpickle estimator StandardScaler from version 1.5.2 when using version 1.6.0. This might lead to breaking code or invalid results. Use at your own risk. For more info please refer to:\n",
      "https://scikit-learn.org/stable/model_persistence.html#security-maintainability-limitations\n",
      "  warnings.warn(\n",
      "d:\\miniconda3\\envs\\HLT\\Lib\\site-packages\\sklearn\\base.py:380: InconsistentVersionWarning: Trying to unpickle estimator ColumnTransformer from version 1.5.2 when using version 1.6.0. This might lead to breaking code or invalid results. Use at your own risk. For more info please refer to:\n",
      "https://scikit-learn.org/stable/model_persistence.html#security-maintainability-limitations\n",
      "  warnings.warn(\n",
      "d:\\miniconda3\\envs\\HLT\\Lib\\site-packages\\sklearn\\base.py:380: InconsistentVersionWarning: Trying to unpickle estimator NearestNeighbors from version 1.5.2 when using version 1.6.0. This might lead to breaking code or invalid results. Use at your own risk. For more info please refer to:\n",
      "https://scikit-learn.org/stable/model_persistence.html#security-maintainability-limitations\n",
      "  warnings.warn(\n",
      "d:\\miniconda3\\envs\\HLT\\Lib\\site-packages\\sklearn\\base.py:380: InconsistentVersionWarning: Trying to unpickle estimator LabelEncoder from version 1.5.2 when using version 1.6.0. This might lead to breaking code or invalid results. Use at your own risk. For more info please refer to:\n",
      "https://scikit-learn.org/stable/model_persistence.html#security-maintainability-limitations\n",
      "  warnings.warn(\n"
     ]
    }
   ],
   "source": [
    "# load data\n",
    "train_df = pd.read_csv('../dataset/train_data.csv')\n",
    "train_labels = pd.read_csv('../dataset/train_labels.csv')\n",
    "test_df = pd.read_csv('../dataset/test_data.csv')\n",
    "test_labels = pd.read_csv('../dataset/test_labels.csv')\n",
    "\n",
    "# Load the model\n",
    "best_model = joblib.load('../TASK_4/best_models/gbm.pkl')"
   ]
  },
  {
   "cell_type": "code",
   "execution_count": 4,
   "metadata": {},
   "outputs": [],
   "source": [
    "columns_to_drop = ['_url', 'name',  'profile', 'length',\n",
    "                            'startlist_quality', 'position', 'cyclist', 'cyclist_team', \n",
    "                            'duration', 'cyclist_experience_profile',\n",
    "                            'cyclist_experience_length', 'cyclist_experience_climb', \n",
    "                            'avg_rel_position_length', 'avg_rel_position_climb', \n",
    "                            'relative_position_sum', 'relative_position',\n",
    "                            \"climb_cat\", \"length_cat\", \"cyclist_number\", \n",
    "                            \"avg_rel_position_profile\", \"points\", 'is_tarmac', \n",
    "                            'avg_cyclist_level']\n",
    "\n",
    "train_data = train_df.drop(columns=columns_to_drop, inplace=False)\n",
    "test_data = test_df.drop(columns=columns_to_drop, inplace=False)\n",
    "train_data = train_data[:400]\n",
    "train_labels = train_labels[:400]\n",
    "test_data = test_data[:400]\n",
    "test_labels = test_labels[:400]"
   ]
  },
  {
   "cell_type": "code",
   "execution_count": 5,
   "metadata": {},
   "outputs": [
    {
     "name": "stderr",
     "output_type": "stream",
     "text": [
      "d:\\miniconda3\\envs\\HLT\\Lib\\site-packages\\sklearn\\utils\\deprecation.py:151: FutureWarning: 'force_all_finite' was renamed to 'ensure_all_finite' in 1.6 and will be removed in 1.8.\n",
      "  warnings.warn(\n",
      "d:\\miniconda3\\envs\\HLT\\Lib\\site-packages\\sklearn\\utils\\_tags.py:354: FutureWarning: The LGBMClassifier or classes from which it inherits use `_get_tags` and `_more_tags`. Please define the `__sklearn_tags__` method, or inherit from `sklearn.base.BaseEstimator` and/or other appropriate mixins such as `sklearn.base.TransformerMixin`, `sklearn.base.ClassifierMixin`, `sklearn.base.RegressorMixin`, and `sklearn.base.OutlierMixin`. From scikit-learn 1.7, not defining `__sklearn_tags__` will raise an error.\n",
      "  warnings.warn(\n",
      "d:\\miniconda3\\envs\\HLT\\Lib\\site-packages\\sklearn\\utils\\deprecation.py:151: FutureWarning: 'force_all_finite' was renamed to 'ensure_all_finite' in 1.6 and will be removed in 1.8.\n",
      "  warnings.warn(\n",
      "d:\\miniconda3\\envs\\HLT\\Lib\\site-packages\\sklearn\\utils\\_tags.py:354: FutureWarning: The LGBMClassifier or classes from which it inherits use `_get_tags` and `_more_tags`. Please define the `__sklearn_tags__` method, or inherit from `sklearn.base.BaseEstimator` and/or other appropriate mixins such as `sklearn.base.TransformerMixin`, `sklearn.base.ClassifierMixin`, `sklearn.base.RegressorMixin`, and `sklearn.base.OutlierMixin`. From scikit-learn 1.7, not defining `__sklearn_tags__` will raise an error.\n",
      "  warnings.warn(\n"
     ]
    },
    {
     "data": {
      "text/html": [
       "<div>\n",
       "<style scoped>\n",
       "    .dataframe tbody tr th:only-of-type {\n",
       "        vertical-align: middle;\n",
       "    }\n",
       "\n",
       "    .dataframe tbody tr th {\n",
       "        vertical-align: top;\n",
       "    }\n",
       "\n",
       "    .dataframe thead th {\n",
       "        text-align: right;\n",
       "    }\n",
       "</style>\n",
       "<table border=\"1\" class=\"dataframe\">\n",
       "  <thead>\n",
       "    <tr style=\"text-align: right;\">\n",
       "      <th></th>\n",
       "      <th>precision</th>\n",
       "      <th>recall</th>\n",
       "      <th>f1-score</th>\n",
       "      <th>support</th>\n",
       "    </tr>\n",
       "  </thead>\n",
       "  <tbody>\n",
       "    <tr>\n",
       "      <th>0</th>\n",
       "      <td>0.912727</td>\n",
       "      <td>0.753754</td>\n",
       "      <td>0.825658</td>\n",
       "      <td>333.000</td>\n",
       "    </tr>\n",
       "    <tr>\n",
       "      <th>1</th>\n",
       "      <td>0.344000</td>\n",
       "      <td>0.641791</td>\n",
       "      <td>0.447917</td>\n",
       "      <td>67.000</td>\n",
       "    </tr>\n",
       "    <tr>\n",
       "      <th>accuracy</th>\n",
       "      <td>0.735000</td>\n",
       "      <td>0.735000</td>\n",
       "      <td>0.735000</td>\n",
       "      <td>0.735</td>\n",
       "    </tr>\n",
       "    <tr>\n",
       "      <th>macro avg</th>\n",
       "      <td>0.628364</td>\n",
       "      <td>0.697772</td>\n",
       "      <td>0.636787</td>\n",
       "      <td>400.000</td>\n",
       "    </tr>\n",
       "    <tr>\n",
       "      <th>weighted avg</th>\n",
       "      <td>0.817465</td>\n",
       "      <td>0.735000</td>\n",
       "      <td>0.762386</td>\n",
       "      <td>400.000</td>\n",
       "    </tr>\n",
       "  </tbody>\n",
       "</table>\n",
       "</div>"
      ],
      "text/plain": [
       "              precision    recall  f1-score  support\n",
       "0              0.912727  0.753754  0.825658  333.000\n",
       "1              0.344000  0.641791  0.447917   67.000\n",
       "accuracy       0.735000  0.735000  0.735000    0.735\n",
       "macro avg      0.628364  0.697772  0.636787  400.000\n",
       "weighted avg   0.817465  0.735000  0.762386  400.000"
      ]
     },
     "execution_count": 5,
     "metadata": {},
     "output_type": "execute_result"
    }
   ],
   "source": [
    "train_prediction = best_model.predict(train_data)\n",
    "test_prediction = best_model.predict(test_data)\n",
    "\n",
    "validation = classification_report(test_labels, test_prediction, output_dict=True)\n",
    "pd.DataFrame(validation).transpose()"
   ]
  },
  {
   "cell_type": "code",
   "execution_count": 6,
   "metadata": {},
   "outputs": [],
   "source": [
    "perturbation_data = train_data\n",
    "perturbation_labels = train_labels\n",
    "perturbation_predictions = train_prediction\n",
    "\n",
    "explanation_data = test_data\n",
    "explanation_labels = test_labels\n",
    "explanation_predictions = test_prediction\n",
    "\n",
    "explanations = dict()"
   ]
  },
  {
   "cell_type": "markdown",
   "metadata": {},
   "source": [
    "## **GBM Feature Importance**"
   ]
  },
  {
   "cell_type": "code",
   "execution_count": 7,
   "metadata": {},
   "outputs": [
    {
     "data": {
      "image/png": "[encoded data removed]",
      "text/plain": [
       "<Figure size 1000x600 with 1 Axes>"
      ]
     },
     "metadata": {},
     "output_type": "display_data"
    }
   ],
   "source": [
    "import matplotlib.pyplot as plt\n",
    "\n",
    "gbm_model = best_model.named_steps['clf']\n",
    "\n",
    "# Print feature importance\n",
    "feature_importances = gbm_model.feature_importances_\n",
    "\n",
    "# Plot feature importance\n",
    "plt.figure(figsize=(10, 6))\n",
    "plt.barh(train_data.columns, feature_importances)\n",
    "plt.xlabel('Feature Importance')\n",
    "plt.ylabel('Feature')\n",
    "plt.title('Feature Importances from Gradient Boosting Machine')\n",
    "plt.show()"
   ]
  },
  {
   "cell_type": "code",
   "execution_count": 8,
   "metadata": {},
   "outputs": [
    {
     "name": "stdout",
     "output_type": "stream",
     "text": [
      "gbm feture importance:\n",
      "climb_total: 36338.73665381968\n",
      "cyclist_age: 200057.82809996605\n",
      "cyclist_level: 7410.736044220626\n",
      "cyclist_experience: 9882.760590434074\n",
      "avg_relative_position: 32676.535688221455\n",
      "position_entropy: 9019.091836452484\n",
      "top_20_entropy: 248606.06138264015\n"
     ]
    }
   ],
   "source": [
    "print(\"gbm feture importance:\")\n",
    "for feature, importance in zip(train_data.columns, feature_importances):\n",
    "    print(f\"{feature}: {importance}\")"
   ]
  },
  {
   "cell_type": "markdown",
   "metadata": {},
   "source": [
    "Recalling this is importance coming from GBM library"
   ]
  },
  {
   "cell_type": "markdown",
   "metadata": {},
   "source": [
    "## **SHAP**"
   ]
  },
  {
   "cell_type": "code",
   "execution_count": 9,
   "metadata": {},
   "outputs": [
    {
     "name": "stderr",
     "output_type": "stream",
     "text": [
      "d:\\miniconda3\\envs\\HLT\\Lib\\site-packages\\tqdm\\auto.py:21: TqdmWarning: IProgress not found. Please update jupyter and ipywidgets. See https://ipywidgets.readthedocs.io/en/stable/user_install.html\n",
      "  from .autonotebook import tqdm as notebook_tqdm\n"
     ]
    }
   ],
   "source": [
    "import shap"
   ]
  },
  {
   "cell_type": "code",
   "execution_count": 10,
   "metadata": {},
   "outputs": [],
   "source": [
    "# Extract the underlying model from the pipeline\n",
    "gbm_model = best_model.named_steps['clf']\n",
    "\n",
    "interventional_explanation_algorithm = shap.TreeExplainer(\n",
    "    model=gbm_model,\n",
    "    data=train_data,                       # perturb on a causal model induced on perturbation data\n",
    "    feature_perturbation=\"interventional\"  # use a causal model\n",
    ")\n",
    "\n",
    "distributional_explanation_algorithm = shap.TreeExplainer(\n",
    "    model=gbm_model,\n",
    "    feature_perturbation=\"tree_path_dependent\"  # condition on the distribution learned on the train data\n",
    ")\n"
   ]
  },
  {
   "cell_type": "code",
   "execution_count": 11,
   "metadata": {},
   "outputs": [],
   "source": [
    "interventional_explanations = interventional_explanation_algorithm(explanation_data)\n",
    "distributional_explanations = distributional_explanation_algorithm(explanation_data)\n",
    "\n",
    "explanations[\"shap_interventional\"] = interventional_explanations.values\n",
    "explanations[\"shap_distributional\"] = distributional_explanations.values"
   ]
  },
  {
   "cell_type": "code",
   "execution_count": 12,
   "metadata": {},
   "outputs": [
    {
     "data": {
      "image/png": "[encoded data removed]",
      "text/plain": [
       "<Figure size 800x430 with 2 Axes>"
      ]
     },
     "metadata": {},
     "output_type": "display_data"
    }
   ],
   "source": [
    "shap.plots.beeswarm(interventional_explanations)"
   ]
  },
  {
   "cell_type": "markdown",
   "metadata": {},
   "source": [
    "The plot shows that `climb_total` and `avg_relative_position` have the strongest influence on predictions, with high climb totals contributing positively. Features like `cyclist_level` and `cyclist_experience` show less impact, while `cyclist_age` has minimal influence."
   ]
  },
  {
   "cell_type": "markdown",
   "metadata": {},
   "source": [
    "The discrepancy arises because GBM importance measures feature impact based on split frequency and impurity reduction, favoring features like `top_20_entropy`, while SHAP evaluates individual prediction contributions, offering a more balanced perspective."
   ]
  },
  {
   "cell_type": "code",
   "execution_count": 13,
   "metadata": {},
   "outputs": [
    {
     "data": {
      "image/png": "[encoded data removed]",
      "text/plain": [
       "<Figure size 800x430 with 2 Axes>"
      ]
     },
     "metadata": {},
     "output_type": "display_data"
    }
   ],
   "source": [
    "shap.plots.beeswarm(distributional_explanations)"
   ]
  },
  {
   "cell_type": "markdown",
   "metadata": {},
   "source": [
    "Here’s a concise feature-by-feature summary of the SHAP plot:\n",
    "\n",
    "1. **Cyclist Age**: Older cyclists (red) have a **negative impact** on the model’s output.\n",
    "2. **Climb Total**: More climbs (red) are associated with **worse predictions** (negative SHAP values).\n",
    "3. **Position Entropy**: Higher entropy (red) leads to **negative SHAP values**, indicating uncertainty in position hurts predictions.\n",
    "4. **Average Relative Position**: Better positions (blue) correspond to **positive SHAP values**, predicting better performance.\n",
    "5. **Cyclist Level**: Higher levels (red) lead to **positive SHAP values**, indicating better performance predictions.\n",
    "6. **Cyclist Experience**: More experience (red) correlates with **negative SHAP values**, predicting worse outcomes.\n",
    "7. **Top 20 Entropy**: Higher entropy (red) results in **negative SHAP values**, suggesting uncertainty in top rankings decreases predictions.\n",
    "\n",
    "Overall, features like **cyclist level** and **relative position** show positive impacts, while **age**, **climb total**, and **experience** correlate with negative impacts."
   ]
  },
  {
   "cell_type": "code",
   "execution_count": 14,
   "metadata": {},
   "outputs": [
    {
     "name": "stdout",
     "output_type": "stream",
     "text": [
      "Features sorted by decreasing importance for interventional method:\n",
      "climb_total              0.457042\n",
      "avg_relative_position    0.439693\n",
      "top_20_entropy           0.278084\n",
      "position_entropy         0.076499\n",
      "cyclist_level            0.042798\n",
      "cyclist_experience       0.019707\n",
      "cyclist_age              0.000000\n",
      "dtype: float64\n",
      "\n",
      "Features sorted by decreasing importance for distributional method:\n",
      "cyclist_age              1.330707\n",
      "climb_total              0.964307\n",
      "position_entropy         0.787821\n",
      "avg_relative_position    0.680607\n",
      "cyclist_level            0.504985\n",
      "cyclist_experience       0.242375\n",
      "top_20_entropy           0.153482\n",
      "dtype: float64\n"
     ]
    }
   ],
   "source": [
    "print(\"Features sorted by decreasing importance for interventional method:\")\n",
    "interventional_explanations_df = pd.DataFrame(interventional_explanations.values, columns=train_data.columns.tolist())\n",
    "print(interventional_explanations_df.abs().mean().sort_values(ascending=False))\n",
    "\n",
    "print(\"\\nFeatures sorted by decreasing importance for distributional method:\")\n",
    "distributional_explanations_df = pd.DataFrame(distributional_explanations.values, columns=train_data.columns.tolist())\n",
    "print(distributional_explanations_df.abs().mean().sort_values(ascending=False))"
   ]
  },
  {
   "cell_type": "markdown",
   "metadata": {},
   "source": [
    "Let's analyze feature importance according to shap values"
   ]
  },
  {
   "cell_type": "code",
   "execution_count": 15,
   "metadata": {},
   "outputs": [
    {
     "name": "stdout",
     "output_type": "stream",
     "text": [
      "\n",
      "Features sorted by decreasing importance for interventional method:\n"
     ]
    },
    {
     "data": {
      "image/png": "[encoded data removed]",
      "text/plain": [
       "<Figure size 800x430 with 1 Axes>"
      ]
     },
     "metadata": {},
     "output_type": "display_data"
    },
    {
     "name": "stdout",
     "output_type": "stream",
     "text": [
      "\n",
      "Features sorted by decreasing importance for distributional method:\n"
     ]
    },
    {
     "data": {
      "image/png": "[encoded data removed]",
      "text/plain": [
       "<Figure size 800x430 with 1 Axes>"
      ]
     },
     "metadata": {},
     "output_type": "display_data"
    }
   ],
   "source": [
    "print(\"\\nFeatures sorted by decreasing importance for interventional method:\")\n",
    "shap.summary_plot(interventional_explanations, test_data, plot_type=\"bar\")\n",
    "print(\"\\nFeatures sorted by decreasing importance for distributional method:\")\n",
    "shap.summary_plot(distributional_explanations, test_data, plot_type=\"bar\")"
   ]
  },
  {
   "cell_type": "code",
   "execution_count": 16,
   "metadata": {},
   "outputs": [
    {
     "name": "stdout",
     "output_type": "stream",
     "text": [
      "Features sorted by decreasing importance for interventional method:\n",
      "climb_total              0.457042\n",
      "avg_relative_position    0.439693\n",
      "top_20_entropy           0.278084\n",
      "position_entropy         0.076499\n",
      "cyclist_level            0.042798\n",
      "cyclist_experience       0.019707\n",
      "cyclist_age              0.000000\n",
      "dtype: float64\n",
      "\n",
      "Features sorted by decreasing importance for distributional method:\n",
      "cyclist_age              1.330707\n",
      "climb_total              0.964307\n",
      "position_entropy         0.787821\n",
      "avg_relative_position    0.680607\n",
      "cyclist_level            0.504985\n",
      "cyclist_experience       0.242375\n",
      "top_20_entropy           0.153482\n",
      "dtype: float64\n"
     ]
    }
   ],
   "source": [
    "print(\"Features sorted by decreasing importance for interventional method:\")\n",
    "interventional_explanations_df = pd.DataFrame(interventional_explanations.values, columns=train_data.columns.tolist())\n",
    "print(interventional_explanations_df.abs().mean().sort_values(ascending=False))\n",
    "\n",
    "print(\"\\nFeatures sorted by decreasing importance for distributional method:\")\n",
    "distributional_explanations_df = pd.DataFrame(distributional_explanations.values, columns=train_data.columns.tolist())\n",
    "print(distributional_explanations_df.abs().mean().sort_values(ascending=False))"
   ]
  },
  {
   "cell_type": "code",
   "execution_count": 17,
   "metadata": {},
   "outputs": [
    {
     "data": {
      "image/png": "[encoded data removed]",
      "text/plain": [
       "<Figure size 1500x500 with 4 Axes>"
      ]
     },
     "metadata": {},
     "output_type": "display_data"
    }
   ],
   "source": [
    "fig, ax = plt.subplots(1, 2, figsize=(15, 5))\n",
    "\n",
    "shap.dependence_plot(\"avg_relative_position\", explanations[\"shap_interventional\"], test_data, ax=ax[0], show=False)\n",
    "ax[0].set_title('(a) SHAP Interventional Explanation')\n",
    "\n",
    "shap.dependence_plot(\"avg_relative_position\", explanations[\"shap_distributional\"], test_data, ax=ax[1], show=False)\n",
    "ax[1].set_title('(b) SHAP Distributional Explanation')\n",
    "\n",
    "plt.tight_layout()\n",
    "plt.show()"
   ]
  },
  {
   "cell_type": "markdown",
   "metadata": {},
   "source": [
    "The results show a positive correlation between `top_20_entropy` and the SHAP values of `avg_relative_position`, with higher entropy values tending to lead to higher SHAP values. On the other hand, the `climb_total` variable appears to have a negative relationship with `avg_relative_position`, as higher `climb_total` values are associated with lower SHAP values. These results suggest that `top_20_entropy` has a positive influence on the model, while `climb_total` has a negative effect on the prediction of `avg_relative_position`."
   ]
  },
  {
   "cell_type": "markdown",
   "metadata": {},
   "source": [
    "### Let's visualize some decisions made one sample for classe with different explainer"
   ]
  },
  {
   "cell_type": "markdown",
   "metadata": {},
   "source": [
    "let's consider negative instance 32, predicted as positive"
   ]
  },
  {
   "cell_type": "code",
   "execution_count": 18,
   "metadata": {},
   "outputs": [
    {
     "name": "stdout",
     "output_type": "stream",
     "text": [
      "Label for instance 32: 0\n",
      "Prediction for instance 32: 1\n"
     ]
    },
    {
     "data": {
      "image/png": "[encoded data removed]",
      "text/plain": [
       "<Figure size 1500x500 with 2 Axes>"
      ]
     },
     "metadata": {},
     "output_type": "display_data"
    },
    {
     "name": "stdout",
     "output_type": "stream",
     "text": [
      "Predicted value: 1\n",
      "Real value: 0\n"
     ]
    }
   ],
   "source": [
    "instance_index = 32\n",
    "print(\"Label for instance 32:\", test_labels.iloc[instance_index].values[0])\n",
    "print(\"Prediction for instance 32:\", test_prediction[instance_index])\n",
    "fig, ax = plt.subplots(1, 2, figsize=(15, 5))\n",
    "\n",
    "shap.plots.bar(interventional_explanations[instance_index], show=False, ax=ax[0])\n",
    "ax[0].set_title('Interventional Explanation')\n",
    "\n",
    "shap.plots.bar(distributional_explanations[instance_index], show=False, ax=ax[1])\n",
    "ax[1].set_title('Distributional Explanation')\n",
    "\n",
    "plt.tight_layout()\n",
    "plt.show()\n",
    "\n",
    "print(\"Predicted value:\", explanation_predictions[instance_index])\n",
    "print(\"Real value:\", explanation_labels.iloc[instance_index].values[0])"
   ]
  },
  {
   "cell_type": "markdown",
   "metadata": {},
   "source": [
    "This plots is a local explanation for a negative data point, classified as positive. Concerning Interventional explanation, it shows that the models gives greater weight to \"avg_relative_position\" feature. This positively influenced the final prediction, outweighing the impact of other features, which contributed to lowering the probability of this classification.\n",
    "\n",
    "We can hypothesize that \"avg_relative_position\" is closely related to high cyclist performance, such as good average race placements indicates its strength on average. As a result, the model interpreted these high values as indicators of a top-level cyclist, classifying them as class 1.\n",
    "\n",
    "Concerning Distributional explanation the model shows that only \"top_20_entropy\" column countributes in leading to a positive label while others not."
   ]
  },
  {
   "cell_type": "markdown",
   "metadata": {},
   "source": [
    "----\n"
   ]
  },
  {
   "cell_type": "code",
   "execution_count": 19,
   "metadata": {},
   "outputs": [],
   "source": [
    "import seaborn\n",
    "\n",
    "explanation_differences = interventional_explanations.values - distributional_explanations.values\n",
    "maximum_differences_per_instance = explanation_differences.max(axis=1)\n",
    "maximum_differences_per_feature = explanation_differences.max(axis=0)"
   ]
  },
  {
   "cell_type": "code",
   "execution_count": 20,
   "metadata": {},
   "outputs": [
    {
     "data": {
      "text/plain": [
       "<Axes: ylabel='Density'>"
      ]
     },
     "execution_count": 20,
     "metadata": {},
     "output_type": "execute_result"
    },
    {
     "data": {
      "image/png": "[encoded data removed]",
      "text/plain": [
       "<Figure size 640x480 with 1 Axes>"
      ]
     },
     "metadata": {},
     "output_type": "display_data"
    }
   ],
   "source": [
    "seaborn.kdeplot(maximum_differences_per_instance)"
   ]
  },
  {
   "cell_type": "markdown",
   "metadata": {},
   "source": [
    "This plot shows that the most common difference in the interpretations of the two explainers falls between 1.4 and 1.5. Smaller and larger differences are less frequently observed across the instances."
   ]
  },
  {
   "cell_type": "code",
   "execution_count": 21,
   "metadata": {},
   "outputs": [
    {
     "data": {
      "image/png": "[encoded data removed]",
      "text/plain": [
       "<Figure size 640x480 with 1 Axes>"
      ]
     },
     "metadata": {},
     "output_type": "display_data"
    }
   ],
   "source": [
    "# Create a dataframte for better plotting\n",
    "feature_differences = pd.DataFrame({\n",
    "    'Feature': train_data.columns,\n",
    "    'Max Difference': maximum_differences_per_feature\n",
    "})\n",
    "\n",
    "seaborn.scatterplot(data=feature_differences, x='Feature', y='Max Difference')\n",
    "plt.xticks(rotation=45)\n",
    "plt.show()"
   ]
  },
  {
   "cell_type": "markdown",
   "metadata": {},
   "source": [
    "There is greater inconsistency between the two explanation methods for the \"total climb\" feature, which is considered important in both methods, while its importance is not as high in the native GBM model. In contrast, the inconsistency is lower for the \"cyclist experience\" feature, as it is rarely utilized by the model, which is reflected in its feature importance in the GBM model."
   ]
  },
  {
   "cell_type": "markdown",
   "metadata": {},
   "source": [
    "### Explanation analysis"
   ]
  },
  {
   "cell_type": "markdown",
   "metadata": {},
   "source": [
    "Let analyze if some features generally more impactful then others adding noise to the feature and analyizing how much it impacts model's predctions "
   ]
  },
  {
   "cell_type": "markdown",
   "metadata": {},
   "source": [
    "Starting performances are:"
   ]
  },
  {
   "cell_type": "code",
   "execution_count": 22,
   "metadata": {},
   "outputs": [
    {
     "data": {
      "text/html": [
       "<div>\n",
       "<style scoped>\n",
       "    .dataframe tbody tr th:only-of-type {\n",
       "        vertical-align: middle;\n",
       "    }\n",
       "\n",
       "    .dataframe tbody tr th {\n",
       "        vertical-align: top;\n",
       "    }\n",
       "\n",
       "    .dataframe thead th {\n",
       "        text-align: right;\n",
       "    }\n",
       "</style>\n",
       "<table border=\"1\" class=\"dataframe\">\n",
       "  <thead>\n",
       "    <tr style=\"text-align: right;\">\n",
       "      <th></th>\n",
       "      <th>0</th>\n",
       "      <th>1</th>\n",
       "      <th>accuracy</th>\n",
       "      <th>macro avg</th>\n",
       "      <th>weighted avg</th>\n",
       "    </tr>\n",
       "  </thead>\n",
       "  <tbody>\n",
       "    <tr>\n",
       "      <th>precision</th>\n",
       "      <td>0.912727</td>\n",
       "      <td>0.344000</td>\n",
       "      <td>0.735</td>\n",
       "      <td>0.628364</td>\n",
       "      <td>0.817465</td>\n",
       "    </tr>\n",
       "    <tr>\n",
       "      <th>recall</th>\n",
       "      <td>0.753754</td>\n",
       "      <td>0.641791</td>\n",
       "      <td>0.735</td>\n",
       "      <td>0.697772</td>\n",
       "      <td>0.735000</td>\n",
       "    </tr>\n",
       "    <tr>\n",
       "      <th>f1-score</th>\n",
       "      <td>0.825658</td>\n",
       "      <td>0.447917</td>\n",
       "      <td>0.735</td>\n",
       "      <td>0.636787</td>\n",
       "      <td>0.762386</td>\n",
       "    </tr>\n",
       "    <tr>\n",
       "      <th>support</th>\n",
       "      <td>333.000000</td>\n",
       "      <td>67.000000</td>\n",
       "      <td>0.735</td>\n",
       "      <td>400.000000</td>\n",
       "      <td>400.000000</td>\n",
       "    </tr>\n",
       "  </tbody>\n",
       "</table>\n",
       "</div>"
      ],
      "text/plain": [
       "                    0          1  accuracy   macro avg  weighted avg\n",
       "precision    0.912727   0.344000     0.735    0.628364      0.817465\n",
       "recall       0.753754   0.641791     0.735    0.697772      0.735000\n",
       "f1-score     0.825658   0.447917     0.735    0.636787      0.762386\n",
       "support    333.000000  67.000000     0.735  400.000000    400.000000"
      ]
     },
     "execution_count": 22,
     "metadata": {},
     "output_type": "execute_result"
    }
   ],
   "source": [
    "pd.DataFrame(validation)"
   ]
  },
  {
   "cell_type": "markdown",
   "metadata": {},
   "source": [
    "Let's sort features accordind to interventional explanation (we prefer this because match more with gbm importance)"
   ]
  },
  {
   "cell_type": "code",
   "execution_count": 23,
   "metadata": {},
   "outputs": [
    {
     "name": "stdout",
     "output_type": "stream",
     "text": [
      "Features sorted by decreasing importance for interventional method:\n",
      "- climb_total\n",
      "- avg_relative_position\n",
      "- top_20_entropy\n",
      "- position_entropy\n",
      "- cyclist_level\n",
      "- cyclist_experience\n",
      "- cyclist_age\n"
     ]
    }
   ],
   "source": [
    "interventional_explanations_df = pd.DataFrame(interventional_explanations.values, columns=train_data.columns.tolist())\n",
    "features_by_importance = interventional_explanations_df.abs().mean().sort_values(ascending=False).index\n",
    "\n",
    "print(\"Features sorted by decreasing importance for interventional method:\")\n",
    "for feature in features_by_importance:\n",
    "    print(\"-\",feature)"
   ]
  },
  {
   "cell_type": "markdown",
   "metadata": {},
   "source": [
    "Let's construct a set of corrupted datasets where noise at different magnitudes is inserted into the original dataset"
   ]
  },
  {
   "cell_type": "code",
   "execution_count": 24,
   "metadata": {},
   "outputs": [],
   "source": [
    "from sklearn.preprocessing import StandardScaler\n",
    "\n",
    "scaler = StandardScaler()\n",
    "test_data_norm = pd.DataFrame(scaler.fit_transform(test_data), columns=test_data.columns)\n",
    "\n",
    "random_noise = np.random.rand(test_data_norm.shape[0],)\n",
    "noise_magnitudes = [eps / 10 for eps in range(2, 10)]\n",
    "\n",
    "corruptions_by_feature_and_noise = dict()\n",
    "for feature in features_by_importance:\n",
    "    for noise_magnitude in noise_magnitudes:\n",
    "        corruptions_by_feature_and_noise[(feature, noise_magnitude)] = test_data_norm.copy()\n",
    "        corruptions_by_feature_and_noise[(feature, noise_magnitude)][feature] = corruptions_by_feature_and_noise[(feature, noise_magnitude)][feature] + random_noise * noise_magnitude"
   ]
  },
  {
   "cell_type": "markdown",
   "metadata": {},
   "source": [
    "Validate the model on the altered data"
   ]
  },
  {
   "cell_type": "code",
   "execution_count": 25,
   "metadata": {},
   "outputs": [],
   "source": [
    "validations_by_feature_and_noise = dict()\n",
    "for (feature, noise), corruption in corruptions_by_feature_and_noise.items():\n",
    "    validations_by_feature_and_noise[(feature, noise)] = classification_report(test_labels, gbm_model.predict(corruption), output_dict=True, zero_division=0)"
   ]
  },
  {
   "cell_type": "code",
   "execution_count": 26,
   "metadata": {},
   "outputs": [
    {
     "data": {
      "text/html": [
       "<div>\n",
       "<style scoped>\n",
       "    .dataframe tbody tr th:only-of-type {\n",
       "        vertical-align: middle;\n",
       "    }\n",
       "\n",
       "    .dataframe tbody tr th {\n",
       "        vertical-align: top;\n",
       "    }\n",
       "\n",
       "    .dataframe thead th {\n",
       "        text-align: right;\n",
       "    }\n",
       "</style>\n",
       "<table border=\"1\" class=\"dataframe\">\n",
       "  <thead>\n",
       "    <tr style=\"text-align: right;\">\n",
       "      <th></th>\n",
       "      <th>feature</th>\n",
       "      <th>noise_magnitude</th>\n",
       "      <th>performance</th>\n",
       "      <th>algorithm</th>\n",
       "      <th>difference</th>\n",
       "    </tr>\n",
       "  </thead>\n",
       "  <tbody>\n",
       "    <tr>\n",
       "      <th>0</th>\n",
       "      <td>climb_total</td>\n",
       "      <td>0.2</td>\n",
       "      <td>0.301802</td>\n",
       "      <td>shap</td>\n",
       "      <td>-0.146115</td>\n",
       "    </tr>\n",
       "    <tr>\n",
       "      <th>1</th>\n",
       "      <td>climb_total</td>\n",
       "      <td>0.3</td>\n",
       "      <td>0.301802</td>\n",
       "      <td>shap</td>\n",
       "      <td>-0.146115</td>\n",
       "    </tr>\n",
       "    <tr>\n",
       "      <th>2</th>\n",
       "      <td>climb_total</td>\n",
       "      <td>0.4</td>\n",
       "      <td>0.301802</td>\n",
       "      <td>shap</td>\n",
       "      <td>-0.146115</td>\n",
       "    </tr>\n",
       "    <tr>\n",
       "      <th>3</th>\n",
       "      <td>climb_total</td>\n",
       "      <td>0.5</td>\n",
       "      <td>0.301802</td>\n",
       "      <td>shap</td>\n",
       "      <td>-0.146115</td>\n",
       "    </tr>\n",
       "    <tr>\n",
       "      <th>4</th>\n",
       "      <td>climb_total</td>\n",
       "      <td>0.6</td>\n",
       "      <td>0.301802</td>\n",
       "      <td>shap</td>\n",
       "      <td>-0.146115</td>\n",
       "    </tr>\n",
       "    <tr>\n",
       "      <th>5</th>\n",
       "      <td>climb_total</td>\n",
       "      <td>0.7</td>\n",
       "      <td>0.301124</td>\n",
       "      <td>shap</td>\n",
       "      <td>-0.146793</td>\n",
       "    </tr>\n",
       "    <tr>\n",
       "      <th>6</th>\n",
       "      <td>climb_total</td>\n",
       "      <td>0.8</td>\n",
       "      <td>0.301124</td>\n",
       "      <td>shap</td>\n",
       "      <td>-0.146793</td>\n",
       "    </tr>\n",
       "    <tr>\n",
       "      <th>7</th>\n",
       "      <td>climb_total</td>\n",
       "      <td>0.9</td>\n",
       "      <td>0.302483</td>\n",
       "      <td>shap</td>\n",
       "      <td>-0.145434</td>\n",
       "    </tr>\n",
       "    <tr>\n",
       "      <th>8</th>\n",
       "      <td>avg_relative_position</td>\n",
       "      <td>0.2</td>\n",
       "      <td>0.301124</td>\n",
       "      <td>shap</td>\n",
       "      <td>-0.146793</td>\n",
       "    </tr>\n",
       "    <tr>\n",
       "      <th>9</th>\n",
       "      <td>avg_relative_position</td>\n",
       "      <td>0.3</td>\n",
       "      <td>0.301124</td>\n",
       "      <td>shap</td>\n",
       "      <td>-0.146793</td>\n",
       "    </tr>\n",
       "    <tr>\n",
       "      <th>10</th>\n",
       "      <td>avg_relative_position</td>\n",
       "      <td>0.4</td>\n",
       "      <td>0.301124</td>\n",
       "      <td>shap</td>\n",
       "      <td>-0.146793</td>\n",
       "    </tr>\n",
       "    <tr>\n",
       "      <th>11</th>\n",
       "      <td>avg_relative_position</td>\n",
       "      <td>0.5</td>\n",
       "      <td>0.301124</td>\n",
       "      <td>shap</td>\n",
       "      <td>-0.146793</td>\n",
       "    </tr>\n",
       "    <tr>\n",
       "      <th>12</th>\n",
       "      <td>avg_relative_position</td>\n",
       "      <td>0.6</td>\n",
       "      <td>0.301802</td>\n",
       "      <td>shap</td>\n",
       "      <td>-0.146115</td>\n",
       "    </tr>\n",
       "    <tr>\n",
       "      <th>13</th>\n",
       "      <td>avg_relative_position</td>\n",
       "      <td>0.7</td>\n",
       "      <td>0.301802</td>\n",
       "      <td>shap</td>\n",
       "      <td>-0.146115</td>\n",
       "    </tr>\n",
       "    <tr>\n",
       "      <th>14</th>\n",
       "      <td>avg_relative_position</td>\n",
       "      <td>0.8</td>\n",
       "      <td>0.302483</td>\n",
       "      <td>shap</td>\n",
       "      <td>-0.145434</td>\n",
       "    </tr>\n",
       "    <tr>\n",
       "      <th>15</th>\n",
       "      <td>avg_relative_position</td>\n",
       "      <td>0.9</td>\n",
       "      <td>0.302483</td>\n",
       "      <td>shap</td>\n",
       "      <td>-0.145434</td>\n",
       "    </tr>\n",
       "    <tr>\n",
       "      <th>16</th>\n",
       "      <td>top_20_entropy</td>\n",
       "      <td>0.2</td>\n",
       "      <td>0.300448</td>\n",
       "      <td>shap</td>\n",
       "      <td>-0.147468</td>\n",
       "    </tr>\n",
       "    <tr>\n",
       "      <th>17</th>\n",
       "      <td>top_20_entropy</td>\n",
       "      <td>0.3</td>\n",
       "      <td>0.299776</td>\n",
       "      <td>shap</td>\n",
       "      <td>-0.148140</td>\n",
       "    </tr>\n",
       "    <tr>\n",
       "      <th>18</th>\n",
       "      <td>top_20_entropy</td>\n",
       "      <td>0.4</td>\n",
       "      <td>0.299776</td>\n",
       "      <td>shap</td>\n",
       "      <td>-0.148140</td>\n",
       "    </tr>\n",
       "    <tr>\n",
       "      <th>19</th>\n",
       "      <td>top_20_entropy</td>\n",
       "      <td>0.5</td>\n",
       "      <td>0.299107</td>\n",
       "      <td>shap</td>\n",
       "      <td>-0.148810</td>\n",
       "    </tr>\n",
       "    <tr>\n",
       "      <th>20</th>\n",
       "      <td>top_20_entropy</td>\n",
       "      <td>0.6</td>\n",
       "      <td>0.299776</td>\n",
       "      <td>shap</td>\n",
       "      <td>-0.148140</td>\n",
       "    </tr>\n",
       "    <tr>\n",
       "      <th>21</th>\n",
       "      <td>top_20_entropy</td>\n",
       "      <td>0.7</td>\n",
       "      <td>0.299776</td>\n",
       "      <td>shap</td>\n",
       "      <td>-0.148140</td>\n",
       "    </tr>\n",
       "    <tr>\n",
       "      <th>22</th>\n",
       "      <td>top_20_entropy</td>\n",
       "      <td>0.8</td>\n",
       "      <td>0.299776</td>\n",
       "      <td>shap</td>\n",
       "      <td>-0.148140</td>\n",
       "    </tr>\n",
       "    <tr>\n",
       "      <th>23</th>\n",
       "      <td>top_20_entropy</td>\n",
       "      <td>0.9</td>\n",
       "      <td>0.299776</td>\n",
       "      <td>shap</td>\n",
       "      <td>-0.148140</td>\n",
       "    </tr>\n",
       "    <tr>\n",
       "      <th>24</th>\n",
       "      <td>position_entropy</td>\n",
       "      <td>0.2</td>\n",
       "      <td>0.301802</td>\n",
       "      <td>shap</td>\n",
       "      <td>-0.146115</td>\n",
       "    </tr>\n",
       "    <tr>\n",
       "      <th>25</th>\n",
       "      <td>position_entropy</td>\n",
       "      <td>0.3</td>\n",
       "      <td>0.301802</td>\n",
       "      <td>shap</td>\n",
       "      <td>-0.146115</td>\n",
       "    </tr>\n",
       "    <tr>\n",
       "      <th>26</th>\n",
       "      <td>position_entropy</td>\n",
       "      <td>0.4</td>\n",
       "      <td>0.302483</td>\n",
       "      <td>shap</td>\n",
       "      <td>-0.145434</td>\n",
       "    </tr>\n",
       "    <tr>\n",
       "      <th>27</th>\n",
       "      <td>position_entropy</td>\n",
       "      <td>0.5</td>\n",
       "      <td>0.302483</td>\n",
       "      <td>shap</td>\n",
       "      <td>-0.145434</td>\n",
       "    </tr>\n",
       "    <tr>\n",
       "      <th>28</th>\n",
       "      <td>position_entropy</td>\n",
       "      <td>0.6</td>\n",
       "      <td>0.302483</td>\n",
       "      <td>shap</td>\n",
       "      <td>-0.145434</td>\n",
       "    </tr>\n",
       "    <tr>\n",
       "      <th>29</th>\n",
       "      <td>position_entropy</td>\n",
       "      <td>0.7</td>\n",
       "      <td>0.302483</td>\n",
       "      <td>shap</td>\n",
       "      <td>-0.145434</td>\n",
       "    </tr>\n",
       "    <tr>\n",
       "      <th>30</th>\n",
       "      <td>position_entropy</td>\n",
       "      <td>0.8</td>\n",
       "      <td>0.303167</td>\n",
       "      <td>shap</td>\n",
       "      <td>-0.144749</td>\n",
       "    </tr>\n",
       "    <tr>\n",
       "      <th>31</th>\n",
       "      <td>position_entropy</td>\n",
       "      <td>0.9</td>\n",
       "      <td>0.303167</td>\n",
       "      <td>shap</td>\n",
       "      <td>-0.144749</td>\n",
       "    </tr>\n",
       "    <tr>\n",
       "      <th>32</th>\n",
       "      <td>cyclist_level</td>\n",
       "      <td>0.2</td>\n",
       "      <td>0.301802</td>\n",
       "      <td>shap</td>\n",
       "      <td>-0.146115</td>\n",
       "    </tr>\n",
       "    <tr>\n",
       "      <th>33</th>\n",
       "      <td>cyclist_level</td>\n",
       "      <td>0.3</td>\n",
       "      <td>0.301802</td>\n",
       "      <td>shap</td>\n",
       "      <td>-0.146115</td>\n",
       "    </tr>\n",
       "    <tr>\n",
       "      <th>34</th>\n",
       "      <td>cyclist_level</td>\n",
       "      <td>0.4</td>\n",
       "      <td>0.302483</td>\n",
       "      <td>shap</td>\n",
       "      <td>-0.145434</td>\n",
       "    </tr>\n",
       "    <tr>\n",
       "      <th>35</th>\n",
       "      <td>cyclist_level</td>\n",
       "      <td>0.5</td>\n",
       "      <td>0.302483</td>\n",
       "      <td>shap</td>\n",
       "      <td>-0.145434</td>\n",
       "    </tr>\n",
       "    <tr>\n",
       "      <th>36</th>\n",
       "      <td>cyclist_level</td>\n",
       "      <td>0.6</td>\n",
       "      <td>0.303167</td>\n",
       "      <td>shap</td>\n",
       "      <td>-0.144749</td>\n",
       "    </tr>\n",
       "    <tr>\n",
       "      <th>37</th>\n",
       "      <td>cyclist_level</td>\n",
       "      <td>0.7</td>\n",
       "      <td>0.302483</td>\n",
       "      <td>shap</td>\n",
       "      <td>-0.145434</td>\n",
       "    </tr>\n",
       "    <tr>\n",
       "      <th>38</th>\n",
       "      <td>cyclist_level</td>\n",
       "      <td>0.8</td>\n",
       "      <td>0.302483</td>\n",
       "      <td>shap</td>\n",
       "      <td>-0.145434</td>\n",
       "    </tr>\n",
       "    <tr>\n",
       "      <th>39</th>\n",
       "      <td>cyclist_level</td>\n",
       "      <td>0.9</td>\n",
       "      <td>0.302483</td>\n",
       "      <td>shap</td>\n",
       "      <td>-0.145434</td>\n",
       "    </tr>\n",
       "    <tr>\n",
       "      <th>40</th>\n",
       "      <td>cyclist_experience</td>\n",
       "      <td>0.2</td>\n",
       "      <td>0.301802</td>\n",
       "      <td>shap</td>\n",
       "      <td>-0.146115</td>\n",
       "    </tr>\n",
       "    <tr>\n",
       "      <th>41</th>\n",
       "      <td>cyclist_experience</td>\n",
       "      <td>0.3</td>\n",
       "      <td>0.302483</td>\n",
       "      <td>shap</td>\n",
       "      <td>-0.145434</td>\n",
       "    </tr>\n",
       "    <tr>\n",
       "      <th>42</th>\n",
       "      <td>cyclist_experience</td>\n",
       "      <td>0.4</td>\n",
       "      <td>0.303167</td>\n",
       "      <td>shap</td>\n",
       "      <td>-0.144749</td>\n",
       "    </tr>\n",
       "    <tr>\n",
       "      <th>43</th>\n",
       "      <td>cyclist_experience</td>\n",
       "      <td>0.5</td>\n",
       "      <td>0.303855</td>\n",
       "      <td>shap</td>\n",
       "      <td>-0.144062</td>\n",
       "    </tr>\n",
       "    <tr>\n",
       "      <th>44</th>\n",
       "      <td>cyclist_experience</td>\n",
       "      <td>0.6</td>\n",
       "      <td>0.303167</td>\n",
       "      <td>shap</td>\n",
       "      <td>-0.144749</td>\n",
       "    </tr>\n",
       "    <tr>\n",
       "      <th>45</th>\n",
       "      <td>cyclist_experience</td>\n",
       "      <td>0.7</td>\n",
       "      <td>0.303167</td>\n",
       "      <td>shap</td>\n",
       "      <td>-0.144749</td>\n",
       "    </tr>\n",
       "    <tr>\n",
       "      <th>46</th>\n",
       "      <td>cyclist_experience</td>\n",
       "      <td>0.8</td>\n",
       "      <td>0.303855</td>\n",
       "      <td>shap</td>\n",
       "      <td>-0.144062</td>\n",
       "    </tr>\n",
       "    <tr>\n",
       "      <th>47</th>\n",
       "      <td>cyclist_experience</td>\n",
       "      <td>0.9</td>\n",
       "      <td>0.303855</td>\n",
       "      <td>shap</td>\n",
       "      <td>-0.144062</td>\n",
       "    </tr>\n",
       "    <tr>\n",
       "      <th>48</th>\n",
       "      <td>cyclist_age</td>\n",
       "      <td>0.2</td>\n",
       "      <td>0.304450</td>\n",
       "      <td>shap</td>\n",
       "      <td>-0.143467</td>\n",
       "    </tr>\n",
       "    <tr>\n",
       "      <th>49</th>\n",
       "      <td>cyclist_age</td>\n",
       "      <td>0.3</td>\n",
       "      <td>0.313539</td>\n",
       "      <td>shap</td>\n",
       "      <td>-0.134377</td>\n",
       "    </tr>\n",
       "    <tr>\n",
       "      <th>50</th>\n",
       "      <td>cyclist_age</td>\n",
       "      <td>0.4</td>\n",
       "      <td>0.313817</td>\n",
       "      <td>shap</td>\n",
       "      <td>-0.134099</td>\n",
       "    </tr>\n",
       "    <tr>\n",
       "      <th>51</th>\n",
       "      <td>cyclist_age</td>\n",
       "      <td>0.5</td>\n",
       "      <td>0.315789</td>\n",
       "      <td>shap</td>\n",
       "      <td>-0.132127</td>\n",
       "    </tr>\n",
       "    <tr>\n",
       "      <th>52</th>\n",
       "      <td>cyclist_age</td>\n",
       "      <td>0.6</td>\n",
       "      <td>0.304038</td>\n",
       "      <td>shap</td>\n",
       "      <td>-0.143879</td>\n",
       "    </tr>\n",
       "    <tr>\n",
       "      <th>53</th>\n",
       "      <td>cyclist_age</td>\n",
       "      <td>0.7</td>\n",
       "      <td>0.306220</td>\n",
       "      <td>shap</td>\n",
       "      <td>-0.141697</td>\n",
       "    </tr>\n",
       "    <tr>\n",
       "      <th>54</th>\n",
       "      <td>cyclist_age</td>\n",
       "      <td>0.8</td>\n",
       "      <td>0.306220</td>\n",
       "      <td>shap</td>\n",
       "      <td>-0.141697</td>\n",
       "    </tr>\n",
       "    <tr>\n",
       "      <th>55</th>\n",
       "      <td>cyclist_age</td>\n",
       "      <td>0.9</td>\n",
       "      <td>0.308789</td>\n",
       "      <td>shap</td>\n",
       "      <td>-0.139128</td>\n",
       "    </tr>\n",
       "  </tbody>\n",
       "</table>\n",
       "</div>"
      ],
      "text/plain": [
       "                  feature  noise_magnitude  performance algorithm  difference\n",
       "0             climb_total              0.2     0.301802      shap   -0.146115\n",
       "1             climb_total              0.3     0.301802      shap   -0.146115\n",
       "2             climb_total              0.4     0.301802      shap   -0.146115\n",
       "3             climb_total              0.5     0.301802      shap   -0.146115\n",
       "4             climb_total              0.6     0.301802      shap   -0.146115\n",
       "5             climb_total              0.7     0.301124      shap   -0.146793\n",
       "6             climb_total              0.8     0.301124      shap   -0.146793\n",
       "7             climb_total              0.9     0.302483      shap   -0.145434\n",
       "8   avg_relative_position              0.2     0.301124      shap   -0.146793\n",
       "9   avg_relative_position              0.3     0.301124      shap   -0.146793\n",
       "10  avg_relative_position              0.4     0.301124      shap   -0.146793\n",
       "11  avg_relative_position              0.5     0.301124      shap   -0.146793\n",
       "12  avg_relative_position              0.6     0.301802      shap   -0.146115\n",
       "13  avg_relative_position              0.7     0.301802      shap   -0.146115\n",
       "14  avg_relative_position              0.8     0.302483      shap   -0.145434\n",
       "15  avg_relative_position              0.9     0.302483      shap   -0.145434\n",
       "16         top_20_entropy              0.2     0.300448      shap   -0.147468\n",
       "17         top_20_entropy              0.3     0.299776      shap   -0.148140\n",
       "18         top_20_entropy              0.4     0.299776      shap   -0.148140\n",
       "19         top_20_entropy              0.5     0.299107      shap   -0.148810\n",
       "20         top_20_entropy              0.6     0.299776      shap   -0.148140\n",
       "21         top_20_entropy              0.7     0.299776      shap   -0.148140\n",
       "22         top_20_entropy              0.8     0.299776      shap   -0.148140\n",
       "23         top_20_entropy              0.9     0.299776      shap   -0.148140\n",
       "24       position_entropy              0.2     0.301802      shap   -0.146115\n",
       "25       position_entropy              0.3     0.301802      shap   -0.146115\n",
       "26       position_entropy              0.4     0.302483      shap   -0.145434\n",
       "27       position_entropy              0.5     0.302483      shap   -0.145434\n",
       "28       position_entropy              0.6     0.302483      shap   -0.145434\n",
       "29       position_entropy              0.7     0.302483      shap   -0.145434\n",
       "30       position_entropy              0.8     0.303167      shap   -0.144749\n",
       "31       position_entropy              0.9     0.303167      shap   -0.144749\n",
       "32          cyclist_level              0.2     0.301802      shap   -0.146115\n",
       "33          cyclist_level              0.3     0.301802      shap   -0.146115\n",
       "34          cyclist_level              0.4     0.302483      shap   -0.145434\n",
       "35          cyclist_level              0.5     0.302483      shap   -0.145434\n",
       "36          cyclist_level              0.6     0.303167      shap   -0.144749\n",
       "37          cyclist_level              0.7     0.302483      shap   -0.145434\n",
       "38          cyclist_level              0.8     0.302483      shap   -0.145434\n",
       "39          cyclist_level              0.9     0.302483      shap   -0.145434\n",
       "40     cyclist_experience              0.2     0.301802      shap   -0.146115\n",
       "41     cyclist_experience              0.3     0.302483      shap   -0.145434\n",
       "42     cyclist_experience              0.4     0.303167      shap   -0.144749\n",
       "43     cyclist_experience              0.5     0.303855      shap   -0.144062\n",
       "44     cyclist_experience              0.6     0.303167      shap   -0.144749\n",
       "45     cyclist_experience              0.7     0.303167      shap   -0.144749\n",
       "46     cyclist_experience              0.8     0.303855      shap   -0.144062\n",
       "47     cyclist_experience              0.9     0.303855      shap   -0.144062\n",
       "48            cyclist_age              0.2     0.304450      shap   -0.143467\n",
       "49            cyclist_age              0.3     0.313539      shap   -0.134377\n",
       "50            cyclist_age              0.4     0.313817      shap   -0.134099\n",
       "51            cyclist_age              0.5     0.315789      shap   -0.132127\n",
       "52            cyclist_age              0.6     0.304038      shap   -0.143879\n",
       "53            cyclist_age              0.7     0.306220      shap   -0.141697\n",
       "54            cyclist_age              0.8     0.306220      shap   -0.141697\n",
       "55            cyclist_age              0.9     0.308789      shap   -0.139128"
      ]
     },
     "execution_count": 26,
     "metadata": {},
     "output_type": "execute_result"
    }
   ],
   "source": [
    "metric = \"f1-score\"\n",
    "corruption_validation = pd.DataFrame([\n",
    "    (feature, noise_magnitude, validations_by_feature_and_noise[(feature, noise_magnitude)][\"1\"][metric], \"shap\")\n",
    "    for feature, noise_magnitude in validations_by_feature_and_noise\n",
    "    ],\n",
    "    columns=[\"feature\", \"noise_magnitude\", \"performance\", \"algorithm\"]\n",
    ")\n",
    "corruption_validation[\"difference\"] = corruption_validation[\"performance\"] - validation[\"1\"][metric]\n",
    "corruption_validation"
   ]
  },
  {
   "cell_type": "markdown",
   "metadata": {},
   "source": [
    "The results suggest that the model generalises poorly, as even small alterations in each features cause a significant drop in performance. This suggests that the model may be overly dependent on specific feature details, compromising the overall robustness of decisions. "
   ]
  },
  {
   "cell_type": "code",
   "execution_count": 27,
   "metadata": {},
   "outputs": [
    {
     "data": {
      "text/html": [
       "<div>\n",
       "<style scoped>\n",
       "    .dataframe tbody tr th:only-of-type {\n",
       "        vertical-align: middle;\n",
       "    }\n",
       "\n",
       "    .dataframe tbody tr th {\n",
       "        vertical-align: top;\n",
       "    }\n",
       "\n",
       "    .dataframe thead tr th {\n",
       "        text-align: left;\n",
       "    }\n",
       "\n",
       "    .dataframe thead tr:last-of-type th {\n",
       "        text-align: right;\n",
       "    }\n",
       "</style>\n",
       "<table border=\"1\" class=\"dataframe\">\n",
       "  <thead>\n",
       "    <tr>\n",
       "      <th></th>\n",
       "      <th colspan=\"8\" halign=\"left\">performance</th>\n",
       "      <th colspan=\"8\" halign=\"left\">difference</th>\n",
       "    </tr>\n",
       "    <tr>\n",
       "      <th></th>\n",
       "      <th>count</th>\n",
       "      <th>mean</th>\n",
       "      <th>std</th>\n",
       "      <th>min</th>\n",
       "      <th>25%</th>\n",
       "      <th>50%</th>\n",
       "      <th>75%</th>\n",
       "      <th>max</th>\n",
       "      <th>count</th>\n",
       "      <th>mean</th>\n",
       "      <th>std</th>\n",
       "      <th>min</th>\n",
       "      <th>25%</th>\n",
       "      <th>50%</th>\n",
       "      <th>75%</th>\n",
       "      <th>max</th>\n",
       "    </tr>\n",
       "    <tr>\n",
       "      <th>feature</th>\n",
       "      <th></th>\n",
       "      <th></th>\n",
       "      <th></th>\n",
       "      <th></th>\n",
       "      <th></th>\n",
       "      <th></th>\n",
       "      <th></th>\n",
       "      <th></th>\n",
       "      <th></th>\n",
       "      <th></th>\n",
       "      <th></th>\n",
       "      <th></th>\n",
       "      <th></th>\n",
       "      <th></th>\n",
       "      <th></th>\n",
       "      <th></th>\n",
       "    </tr>\n",
       "  </thead>\n",
       "  <tbody>\n",
       "    <tr>\n",
       "      <th>avg_relative_position</th>\n",
       "      <td>8.0</td>\n",
       "      <td>0.301633</td>\n",
       "      <td>0.000602</td>\n",
       "      <td>0.301124</td>\n",
       "      <td>0.301124</td>\n",
       "      <td>0.301463</td>\n",
       "      <td>0.301972</td>\n",
       "      <td>0.302483</td>\n",
       "      <td>8.0</td>\n",
       "      <td>-0.146284</td>\n",
       "      <td>0.000602</td>\n",
       "      <td>-0.146793</td>\n",
       "      <td>-0.146793</td>\n",
       "      <td>-0.146454</td>\n",
       "      <td>-0.145945</td>\n",
       "      <td>-0.145434</td>\n",
       "    </tr>\n",
       "    <tr>\n",
       "      <th>climb_total</th>\n",
       "      <td>8.0</td>\n",
       "      <td>0.301717</td>\n",
       "      <td>0.000435</td>\n",
       "      <td>0.301124</td>\n",
       "      <td>0.301632</td>\n",
       "      <td>0.301802</td>\n",
       "      <td>0.301802</td>\n",
       "      <td>0.302483</td>\n",
       "      <td>8.0</td>\n",
       "      <td>-0.146199</td>\n",
       "      <td>0.000435</td>\n",
       "      <td>-0.146793</td>\n",
       "      <td>-0.146284</td>\n",
       "      <td>-0.146115</td>\n",
       "      <td>-0.146115</td>\n",
       "      <td>-0.145434</td>\n",
       "    </tr>\n",
       "    <tr>\n",
       "      <th>cyclist_age</th>\n",
       "      <td>8.0</td>\n",
       "      <td>0.309108</td>\n",
       "      <td>0.004639</td>\n",
       "      <td>0.304038</td>\n",
       "      <td>0.305777</td>\n",
       "      <td>0.307504</td>\n",
       "      <td>0.313609</td>\n",
       "      <td>0.315789</td>\n",
       "      <td>8.0</td>\n",
       "      <td>-0.138809</td>\n",
       "      <td>0.004639</td>\n",
       "      <td>-0.143879</td>\n",
       "      <td>-0.142139</td>\n",
       "      <td>-0.140412</td>\n",
       "      <td>-0.134308</td>\n",
       "      <td>-0.132127</td>\n",
       "    </tr>\n",
       "    <tr>\n",
       "      <th>cyclist_experience</th>\n",
       "      <td>8.0</td>\n",
       "      <td>0.303169</td>\n",
       "      <td>0.000732</td>\n",
       "      <td>0.301802</td>\n",
       "      <td>0.302996</td>\n",
       "      <td>0.303167</td>\n",
       "      <td>0.303855</td>\n",
       "      <td>0.303855</td>\n",
       "      <td>8.0</td>\n",
       "      <td>-0.144748</td>\n",
       "      <td>0.000732</td>\n",
       "      <td>-0.146115</td>\n",
       "      <td>-0.144920</td>\n",
       "      <td>-0.144749</td>\n",
       "      <td>-0.144062</td>\n",
       "      <td>-0.144062</td>\n",
       "    </tr>\n",
       "    <tr>\n",
       "      <th>cyclist_level</th>\n",
       "      <td>8.0</td>\n",
       "      <td>0.302398</td>\n",
       "      <td>0.000437</td>\n",
       "      <td>0.301802</td>\n",
       "      <td>0.302313</td>\n",
       "      <td>0.302483</td>\n",
       "      <td>0.302483</td>\n",
       "      <td>0.303167</td>\n",
       "      <td>8.0</td>\n",
       "      <td>-0.145518</td>\n",
       "      <td>0.000437</td>\n",
       "      <td>-0.146115</td>\n",
       "      <td>-0.145604</td>\n",
       "      <td>-0.145434</td>\n",
       "      <td>-0.145434</td>\n",
       "      <td>-0.144749</td>\n",
       "    </tr>\n",
       "    <tr>\n",
       "      <th>position_entropy</th>\n",
       "      <td>8.0</td>\n",
       "      <td>0.302484</td>\n",
       "      <td>0.000516</td>\n",
       "      <td>0.301802</td>\n",
       "      <td>0.302313</td>\n",
       "      <td>0.302483</td>\n",
       "      <td>0.302654</td>\n",
       "      <td>0.303167</td>\n",
       "      <td>8.0</td>\n",
       "      <td>-0.145433</td>\n",
       "      <td>0.000516</td>\n",
       "      <td>-0.146115</td>\n",
       "      <td>-0.145604</td>\n",
       "      <td>-0.145434</td>\n",
       "      <td>-0.145263</td>\n",
       "      <td>-0.144749</td>\n",
       "    </tr>\n",
       "    <tr>\n",
       "      <th>top_20_entropy</th>\n",
       "      <td>8.0</td>\n",
       "      <td>0.299777</td>\n",
       "      <td>0.000358</td>\n",
       "      <td>0.299107</td>\n",
       "      <td>0.299776</td>\n",
       "      <td>0.299776</td>\n",
       "      <td>0.299776</td>\n",
       "      <td>0.300448</td>\n",
       "      <td>8.0</td>\n",
       "      <td>-0.148140</td>\n",
       "      <td>0.000358</td>\n",
       "      <td>-0.148810</td>\n",
       "      <td>-0.148140</td>\n",
       "      <td>-0.148140</td>\n",
       "      <td>-0.148140</td>\n",
       "      <td>-0.147468</td>\n",
       "    </tr>\n",
       "  </tbody>\n",
       "</table>\n",
       "</div>"
      ],
      "text/plain": [
       "                      performance                                          \\\n",
       "                            count      mean       std       min       25%   \n",
       "feature                                                                     \n",
       "avg_relative_position         8.0  0.301633  0.000602  0.301124  0.301124   \n",
       "climb_total                   8.0  0.301717  0.000435  0.301124  0.301632   \n",
       "cyclist_age                   8.0  0.309108  0.004639  0.304038  0.305777   \n",
       "cyclist_experience            8.0  0.303169  0.000732  0.301802  0.302996   \n",
       "cyclist_level                 8.0  0.302398  0.000437  0.301802  0.302313   \n",
       "position_entropy              8.0  0.302484  0.000516  0.301802  0.302313   \n",
       "top_20_entropy                8.0  0.299777  0.000358  0.299107  0.299776   \n",
       "\n",
       "                                                    difference            \\\n",
       "                            50%       75%       max      count      mean   \n",
       "feature                                                                    \n",
       "avg_relative_position  0.301463  0.301972  0.302483        8.0 -0.146284   \n",
       "climb_total            0.301802  0.301802  0.302483        8.0 -0.146199   \n",
       "cyclist_age            0.307504  0.313609  0.315789        8.0 -0.138809   \n",
       "cyclist_experience     0.303167  0.303855  0.303855        8.0 -0.144748   \n",
       "cyclist_level          0.302483  0.302483  0.303167        8.0 -0.145518   \n",
       "position_entropy       0.302483  0.302654  0.303167        8.0 -0.145433   \n",
       "top_20_entropy         0.299776  0.299776  0.300448        8.0 -0.148140   \n",
       "\n",
       "                                                                         \\\n",
       "                            std       min       25%       50%       75%   \n",
       "feature                                                                   \n",
       "avg_relative_position  0.000602 -0.146793 -0.146793 -0.146454 -0.145945   \n",
       "climb_total            0.000435 -0.146793 -0.146284 -0.146115 -0.146115   \n",
       "cyclist_age            0.004639 -0.143879 -0.142139 -0.140412 -0.134308   \n",
       "cyclist_experience     0.000732 -0.146115 -0.144920 -0.144749 -0.144062   \n",
       "cyclist_level          0.000437 -0.146115 -0.145604 -0.145434 -0.145434   \n",
       "position_entropy       0.000516 -0.146115 -0.145604 -0.145434 -0.145263   \n",
       "top_20_entropy         0.000358 -0.148810 -0.148140 -0.148140 -0.148140   \n",
       "\n",
       "                                 \n",
       "                            max  \n",
       "feature                          \n",
       "avg_relative_position -0.145434  \n",
       "climb_total           -0.145434  \n",
       "cyclist_age           -0.132127  \n",
       "cyclist_experience    -0.144062  \n",
       "cyclist_level         -0.144749  \n",
       "position_entropy      -0.144749  \n",
       "top_20_entropy        -0.147468  "
      ]
     },
     "execution_count": 27,
     "metadata": {},
     "output_type": "execute_result"
    }
   ],
   "source": [
    "corruption_validation.groupby(\"feature\").describe()[[\"performance\", \"difference\"]]"
   ]
  },
  {
   "cell_type": "code",
   "execution_count": 28,
   "metadata": {},
   "outputs": [
    {
     "data": {
      "text/html": [
       "<div>\n",
       "<style scoped>\n",
       "    .dataframe tbody tr th:only-of-type {\n",
       "        vertical-align: middle;\n",
       "    }\n",
       "\n",
       "    .dataframe tbody tr th {\n",
       "        vertical-align: top;\n",
       "    }\n",
       "\n",
       "    .dataframe thead tr th {\n",
       "        text-align: left;\n",
       "    }\n",
       "\n",
       "    .dataframe thead tr:last-of-type th {\n",
       "        text-align: right;\n",
       "    }\n",
       "</style>\n",
       "<table border=\"1\" class=\"dataframe\">\n",
       "  <thead>\n",
       "    <tr>\n",
       "      <th></th>\n",
       "      <th colspan=\"8\" halign=\"left\">performance</th>\n",
       "      <th colspan=\"8\" halign=\"left\">difference</th>\n",
       "    </tr>\n",
       "    <tr>\n",
       "      <th></th>\n",
       "      <th>count</th>\n",
       "      <th>mean</th>\n",
       "      <th>std</th>\n",
       "      <th>min</th>\n",
       "      <th>25%</th>\n",
       "      <th>50%</th>\n",
       "      <th>75%</th>\n",
       "      <th>max</th>\n",
       "      <th>count</th>\n",
       "      <th>mean</th>\n",
       "      <th>std</th>\n",
       "      <th>min</th>\n",
       "      <th>25%</th>\n",
       "      <th>50%</th>\n",
       "      <th>75%</th>\n",
       "      <th>max</th>\n",
       "    </tr>\n",
       "    <tr>\n",
       "      <th>noise_magnitude</th>\n",
       "      <th></th>\n",
       "      <th></th>\n",
       "      <th></th>\n",
       "      <th></th>\n",
       "      <th></th>\n",
       "      <th></th>\n",
       "      <th></th>\n",
       "      <th></th>\n",
       "      <th></th>\n",
       "      <th></th>\n",
       "      <th></th>\n",
       "      <th></th>\n",
       "      <th></th>\n",
       "      <th></th>\n",
       "      <th></th>\n",
       "      <th></th>\n",
       "    </tr>\n",
       "  </thead>\n",
       "  <tbody>\n",
       "    <tr>\n",
       "      <th>0.2</th>\n",
       "      <td>7.0</td>\n",
       "      <td>0.301890</td>\n",
       "      <td>0.001242</td>\n",
       "      <td>0.300448</td>\n",
       "      <td>0.301463</td>\n",
       "      <td>0.301802</td>\n",
       "      <td>0.301802</td>\n",
       "      <td>0.304450</td>\n",
       "      <td>7.0</td>\n",
       "      <td>-0.146027</td>\n",
       "      <td>0.001242</td>\n",
       "      <td>-0.147468</td>\n",
       "      <td>-0.146454</td>\n",
       "      <td>-0.146115</td>\n",
       "      <td>-0.146115</td>\n",
       "      <td>-0.143467</td>\n",
       "    </tr>\n",
       "    <tr>\n",
       "      <th>0.3</th>\n",
       "      <td>7.0</td>\n",
       "      <td>0.303190</td>\n",
       "      <td>0.004642</td>\n",
       "      <td>0.299776</td>\n",
       "      <td>0.301463</td>\n",
       "      <td>0.301802</td>\n",
       "      <td>0.302142</td>\n",
       "      <td>0.313539</td>\n",
       "      <td>7.0</td>\n",
       "      <td>-0.144727</td>\n",
       "      <td>0.004642</td>\n",
       "      <td>-0.148140</td>\n",
       "      <td>-0.146454</td>\n",
       "      <td>-0.146115</td>\n",
       "      <td>-0.145774</td>\n",
       "      <td>-0.134377</td>\n",
       "    </tr>\n",
       "    <tr>\n",
       "      <th>0.4</th>\n",
       "      <td>7.0</td>\n",
       "      <td>0.303522</td>\n",
       "      <td>0.004673</td>\n",
       "      <td>0.299776</td>\n",
       "      <td>0.301463</td>\n",
       "      <td>0.302483</td>\n",
       "      <td>0.302825</td>\n",
       "      <td>0.313817</td>\n",
       "      <td>7.0</td>\n",
       "      <td>-0.144395</td>\n",
       "      <td>0.004673</td>\n",
       "      <td>-0.148140</td>\n",
       "      <td>-0.146454</td>\n",
       "      <td>-0.145434</td>\n",
       "      <td>-0.145091</td>\n",
       "      <td>-0.134099</td>\n",
       "    </tr>\n",
       "    <tr>\n",
       "      <th>0.5</th>\n",
       "      <td>7.0</td>\n",
       "      <td>0.303806</td>\n",
       "      <td>0.005483</td>\n",
       "      <td>0.299107</td>\n",
       "      <td>0.301463</td>\n",
       "      <td>0.302483</td>\n",
       "      <td>0.303169</td>\n",
       "      <td>0.315789</td>\n",
       "      <td>7.0</td>\n",
       "      <td>-0.144111</td>\n",
       "      <td>0.005483</td>\n",
       "      <td>-0.148810</td>\n",
       "      <td>-0.146454</td>\n",
       "      <td>-0.145434</td>\n",
       "      <td>-0.144748</td>\n",
       "      <td>-0.132127</td>\n",
       "    </tr>\n",
       "    <tr>\n",
       "      <th>0.6</th>\n",
       "      <td>7.0</td>\n",
       "      <td>0.302319</td>\n",
       "      <td>0.001380</td>\n",
       "      <td>0.299776</td>\n",
       "      <td>0.301802</td>\n",
       "      <td>0.302483</td>\n",
       "      <td>0.303167</td>\n",
       "      <td>0.304038</td>\n",
       "      <td>7.0</td>\n",
       "      <td>-0.145597</td>\n",
       "      <td>0.001380</td>\n",
       "      <td>-0.148140</td>\n",
       "      <td>-0.146115</td>\n",
       "      <td>-0.145434</td>\n",
       "      <td>-0.144749</td>\n",
       "      <td>-0.143879</td>\n",
       "    </tr>\n",
       "    <tr>\n",
       "      <th>0.7</th>\n",
       "      <td>7.0</td>\n",
       "      <td>0.302436</td>\n",
       "      <td>0.002002</td>\n",
       "      <td>0.299776</td>\n",
       "      <td>0.301463</td>\n",
       "      <td>0.302483</td>\n",
       "      <td>0.302825</td>\n",
       "      <td>0.306220</td>\n",
       "      <td>7.0</td>\n",
       "      <td>-0.145480</td>\n",
       "      <td>0.002002</td>\n",
       "      <td>-0.148140</td>\n",
       "      <td>-0.146454</td>\n",
       "      <td>-0.145434</td>\n",
       "      <td>-0.145091</td>\n",
       "      <td>-0.141697</td>\n",
       "    </tr>\n",
       "    <tr>\n",
       "      <th>0.8</th>\n",
       "      <td>7.0</td>\n",
       "      <td>0.302730</td>\n",
       "      <td>0.002044</td>\n",
       "      <td>0.299776</td>\n",
       "      <td>0.301803</td>\n",
       "      <td>0.302483</td>\n",
       "      <td>0.303511</td>\n",
       "      <td>0.306220</td>\n",
       "      <td>7.0</td>\n",
       "      <td>-0.145187</td>\n",
       "      <td>0.002044</td>\n",
       "      <td>-0.148140</td>\n",
       "      <td>-0.146113</td>\n",
       "      <td>-0.145434</td>\n",
       "      <td>-0.144406</td>\n",
       "      <td>-0.141697</td>\n",
       "    </tr>\n",
       "    <tr>\n",
       "      <th>0.9</th>\n",
       "      <td>7.0</td>\n",
       "      <td>0.303291</td>\n",
       "      <td>0.002735</td>\n",
       "      <td>0.299776</td>\n",
       "      <td>0.302483</td>\n",
       "      <td>0.302483</td>\n",
       "      <td>0.303511</td>\n",
       "      <td>0.308789</td>\n",
       "      <td>7.0</td>\n",
       "      <td>-0.144626</td>\n",
       "      <td>0.002735</td>\n",
       "      <td>-0.148140</td>\n",
       "      <td>-0.145434</td>\n",
       "      <td>-0.145434</td>\n",
       "      <td>-0.144406</td>\n",
       "      <td>-0.139128</td>\n",
       "    </tr>\n",
       "  </tbody>\n",
       "</table>\n",
       "</div>"
      ],
      "text/plain": [
       "                performance                                                    \\\n",
       "                      count      mean       std       min       25%       50%   \n",
       "noise_magnitude                                                                 \n",
       "0.2                     7.0  0.301890  0.001242  0.300448  0.301463  0.301802   \n",
       "0.3                     7.0  0.303190  0.004642  0.299776  0.301463  0.301802   \n",
       "0.4                     7.0  0.303522  0.004673  0.299776  0.301463  0.302483   \n",
       "0.5                     7.0  0.303806  0.005483  0.299107  0.301463  0.302483   \n",
       "0.6                     7.0  0.302319  0.001380  0.299776  0.301802  0.302483   \n",
       "0.7                     7.0  0.302436  0.002002  0.299776  0.301463  0.302483   \n",
       "0.8                     7.0  0.302730  0.002044  0.299776  0.301803  0.302483   \n",
       "0.9                     7.0  0.303291  0.002735  0.299776  0.302483  0.302483   \n",
       "\n",
       "                                    difference                                \\\n",
       "                      75%       max      count      mean       std       min   \n",
       "noise_magnitude                                                                \n",
       "0.2              0.301802  0.304450        7.0 -0.146027  0.001242 -0.147468   \n",
       "0.3              0.302142  0.313539        7.0 -0.144727  0.004642 -0.148140   \n",
       "0.4              0.302825  0.313817        7.0 -0.144395  0.004673 -0.148140   \n",
       "0.5              0.303169  0.315789        7.0 -0.144111  0.005483 -0.148810   \n",
       "0.6              0.303167  0.304038        7.0 -0.145597  0.001380 -0.148140   \n",
       "0.7              0.302825  0.306220        7.0 -0.145480  0.002002 -0.148140   \n",
       "0.8              0.303511  0.306220        7.0 -0.145187  0.002044 -0.148140   \n",
       "0.9              0.303511  0.308789        7.0 -0.144626  0.002735 -0.148140   \n",
       "\n",
       "                                                         \n",
       "                      25%       50%       75%       max  \n",
       "noise_magnitude                                          \n",
       "0.2             -0.146454 -0.146115 -0.146115 -0.143467  \n",
       "0.3             -0.146454 -0.146115 -0.145774 -0.134377  \n",
       "0.4             -0.146454 -0.145434 -0.145091 -0.134099  \n",
       "0.5             -0.146454 -0.145434 -0.144748 -0.132127  \n",
       "0.6             -0.146115 -0.145434 -0.144749 -0.143879  \n",
       "0.7             -0.146454 -0.145434 -0.145091 -0.141697  \n",
       "0.8             -0.146113 -0.145434 -0.144406 -0.141697  \n",
       "0.9             -0.145434 -0.145434 -0.144406 -0.139128  "
      ]
     },
     "execution_count": 28,
     "metadata": {},
     "output_type": "execute_result"
    }
   ],
   "source": [
    "corruption_validation.groupby(\"noise_magnitude\").describe()[[\"performance\", \"difference\"]]"
   ]
  },
  {
   "cell_type": "code",
   "execution_count": 29,
   "metadata": {},
   "outputs": [
    {
     "name": "stdout",
     "output_type": "stream",
     "text": [
      "                 Feature  Performance Drop\n",
      "6         top_20_entropy         -0.186916\n",
      "0            climb_total         -0.232143\n",
      "1            cyclist_age         -0.233010\n",
      "5       position_entropy         -0.235294\n",
      "2          cyclist_level         -0.238532\n",
      "3     cyclist_experience         -0.280702\n",
      "4  avg_relative_position         -0.280702\n"
     ]
    }
   ],
   "source": [
    "from lightgbm import LGBMClassifier\n",
    "from sklearn.metrics import classification_report\n",
    "\n",
    "# Define the metric to assess performance drop\n",
    "metric = \"f1-score\"\n",
    "\n",
    "# Initialize a list to store performance drops\n",
    "performance_drops = []\n",
    "\n",
    "# Get the original performance\n",
    "original_performance = classification_report(test_labels, gbm_model.predict(test_data), output_dict=True, zero_division=0)\n",
    "original_metric_value = original_performance[\"1\"][metric]\n",
    "\n",
    "# Iterate over each feature\n",
    "for feature in test_data.columns:\n",
    "    # Drop the feature from the training and test data\n",
    "    train_data_dropped = train_data.drop(columns=[feature])\n",
    "    test_data_dropped = test_data.drop(columns=[feature])\n",
    "    \n",
    "    # Train a new GBM model with the same parameters\n",
    "    gbm_model_dropped = LGBMClassifier(**gbm_model.get_params())\n",
    "    gbm_model_dropped.fit(train_data_dropped, train_labels.values.ravel())\n",
    "    \n",
    "    # Predict and assess performance\n",
    "    test_predictions_dropped = gbm_model_dropped.predict(test_data_dropped)\n",
    "    performance_dropped = classification_report(test_labels, test_predictions_dropped, output_dict=True, zero_division=0)\n",
    "    dropped_metric_value = performance_dropped[\"1\"][metric]\n",
    "    \n",
    "    # Calculate performance drop\n",
    "    performance_drop = original_metric_value - dropped_metric_value\n",
    "    performance_drops.append((feature, performance_drop))\n",
    "\n",
    "# Create a dataframe to store the results\n",
    "performance_drop_df = pd.DataFrame(performance_drops, columns=[\"Feature\", \"Performance Drop\"])\n",
    "performance_drop_df = performance_drop_df.sort_values(by=\"Performance Drop\", ascending=False)\n",
    "print(performance_drop_df)"
   ]
  },
  {
   "cell_type": "markdown",
   "metadata": {},
   "source": [
    "By removing one feature at a time, we observe a significant drop in the F1-score for class 1. This indicates that eliminating even a single feature from the training set substantially impacts overall performance, particularly the model's ability to balance its predictions. Specifically, it diminishes the model's effectiveness in handling class 1."
   ]
  },
  {
   "cell_type": "markdown",
   "metadata": {},
   "source": [
    "## **LORE**"
   ]
  },
  {
   "cell_type": "markdown",
   "metadata": {},
   "source": [
    "Support functions"
   ]
  },
  {
   "cell_type": "code",
   "execution_count": 30,
   "metadata": {},
   "outputs": [],
   "source": [
    "scaler = best_model.named_steps['preprocessor'].named_transformers_['num']\n",
    "\n",
    "feature_indices = {\n",
    "    'climb_total': 0,\n",
    "    'cyclist_age': 1,\n",
    "    'cyclist_level': 2,\n",
    "    'cyclist_experience': 3,\n",
    "    'avg_relative_position': 4,\n",
    "    'position_entropy': 5,\n",
    "    'top_20_entropy': 6\n",
    "}\n",
    "\n",
    "def format_counterfactual_explanation(explanation):\n",
    "    formatted_explanation = []\n",
    "    for rule in explanation:\n",
    "        premises = \" AND \".join([f\"{condition['att']} {condition['op']} {(condition['thr']*scaler.scale_[feature_indices[condition[\"att\"]]]) + scaler.mean_[feature_indices[condition[\"att\"]]]}\" for condition in rule['premise']])\n",
    "        formatted_explanation.append(f\"IF {premises} THEN {rule['class_name']} = {rule['cons']}\")\n",
    "    return formatted_explanation\n",
    "\n",
    "def reverse_transform(record, var, mean):\n",
    "    return record * var + mean\n",
    "\n",
    "def normalize_premise(premise, feature_indices, scaler):\n",
    "    return {\n",
    "        'thr': reverse_transform(premise['thr'], scaler.scale_[feature_indices[premise[\"att\"]]], scaler.mean_[feature_indices[premise[\"att\"]]]),\n",
    "        'att': premise['att'],\n",
    "        'op': premise['op'],\n",
    "        'is_continuous': premise['is_continuous']\n",
    "    }\n",
    "\n",
    "def format_explanation(explanation):\n",
    "    explanation.expDict['rule']['premise'] = list(map(\n",
    "        lambda x: normalize_premise(x, feature_indices, scaler),\n",
    "        explanation.expDict['rule']['premise']\n",
    "    ))\n",
    "\n",
    "    explanation.expDict['crules'][0]['premise'] = list(map(\n",
    "        lambda x: normalize_premise(x, feature_indices, scaler),\n",
    "        explanation.expDict['crules'][0]['premise']\n",
    "    ))\n",
    "    \n",
    "    return explanation\n"
   ]
  },
  {
   "cell_type": "code",
   "execution_count": 31,
   "metadata": {},
   "outputs": [],
   "source": [
    "from xailib.explainers.lore_explainer import LoreTabularExplainer\n",
    "import random\n",
    "\n",
    "lore_explanation_algorithm = LoreTabularExplainer(gbm_model)\n",
    "configuration = {\n",
    "    \"neigh_type\": \"rndgen\",\n",
    "    \"size\": 1000,\n",
    "    \"ocr\": 0.1,\n",
    "    \"ngen\": 100\n",
    "}\n",
    "\n",
    "train_data = scaler.transform(train_data)\n",
    "train_data = pd.DataFrame(train_data, columns=train_df.drop(columns=columns_to_drop).columns)\n",
    "lore_train_data = pd.concat((train_data, train_labels), axis=\"columns\")\n",
    "lore_explanation_algorithm.fit(lore_train_data, \"top_20\", config=configuration)"
   ]
  },
  {
   "cell_type": "markdown",
   "metadata": {},
   "source": [
    "### Explaining True Negative Data: class 0, predicted 0"
   ]
  },
  {
   "cell_type": "code",
   "execution_count": 32,
   "metadata": {},
   "outputs": [
    {
     "name": "stdout",
     "output_type": "stream",
     "text": [
      "Indexes in training data with both train and predicted label being 0:\n",
      "[0, 1, 2, 3, 6, 7, 8, 9, 10, 11, 15, 16, 17, 18, 19, 22, 24, 25, 27, 28, 30, 31, 32, 34, 35, 36, 38, 40, 41, 42, 43, 46, 48, 49, 51, 52, 53, 56, 57, 59, 60, 61, 62, 63, 64, 65, 66, 67, 68, 69, 70, 72, 73, 77, 79, 80, 81, 82, 83, 84, 86, 88, 89, 90, 91, 92, 97, 98, 99, 100, 104, 105, 106, 108, 109, 110, 111, 112, 113, 114, 115, 116, 117, 118, 119, 121, 123, 124, 125, 127, 130, 134, 135, 136, 137, 138, 139, 140, 142, 143, 144, 145, 146, 147, 148, 149, 152, 153, 154, 155, 156, 157, 158, 159, 160, 162, 163, 164, 165, 166, 167, 168, 169, 172, 173, 174, 177, 179, 180, 181, 183, 184, 186, 187, 188, 190, 191, 192, 193, 194, 195, 197, 198, 199, 200, 202, 204, 206, 208, 210, 212, 214, 215, 216, 217, 220, 221, 222, 223, 224, 225, 226, 227, 228, 230, 231, 232, 233, 234, 235, 237, 238, 239, 240, 243, 244, 245, 246, 248, 250, 251, 254, 255, 256, 257, 259, 260, 262, 264, 266, 268, 269, 270, 271, 275, 276, 277, 278, 282, 283, 285, 286, 287, 288, 289, 290, 293, 294, 295, 296, 298, 299, 300, 302, 304, 306, 309, 310, 311, 314, 316, 318, 319, 320, 321, 324, 325, 326, 327, 328, 329, 330, 332, 333, 334, 336, 337, 338, 339, 340, 341, 342, 343, 344, 345, 347, 348, 349, 350, 352, 354, 356, 360, 361, 362, 363, 364, 365, 366, 368, 369, 370, 371, 373, 374, 375, 377, 378, 379, 380, 381, 384, 385, 386, 387, 388, 389, 390, 391, 394, 395, 396, 397]\n"
     ]
    }
   ],
   "source": [
    "indexes = train_labels[(train_labels['top_20'] == 0) & (train_prediction == 0)].index.tolist()\n",
    "print(\"Indexes in training data with both train and predicted label being 0:\")\n",
    "print(indexes)"
   ]
  },
  {
   "cell_type": "code",
   "execution_count": 33,
   "metadata": {},
   "outputs": [
    {
     "name": "stdout",
     "output_type": "stream",
     "text": [
      "Train Label for index 278: 0\n",
      "Train Prediction for index 278: 0\n"
     ]
    }
   ],
   "source": [
    "random.seed(0)\n",
    "idx = random.choice(indexes)\n",
    "print(f\"Train Label for index {idx}: {train_labels.iloc[idx].values[0]}\")\n",
    "print(f\"Train Prediction for index {idx}: {train_prediction[idx]}\")\n"
   ]
  },
  {
   "cell_type": "code",
   "execution_count": 34,
   "metadata": {},
   "outputs": [
    {
     "ename": "KeyboardInterrupt",
     "evalue": "",
     "output_type": "error",
     "traceback": [
      "\u001b[1;31m---------------------------------------------------------------------------\u001b[0m",
      "\u001b[1;31mKeyboardInterrupt\u001b[0m                         Traceback (most recent call last)",
      "Cell \u001b[1;32mIn[34], line 1\u001b[0m\n\u001b[1;32m----> 1\u001b[0m explanation \u001b[38;5;241m=\u001b[39m \u001b[43mlore_explanation_algorithm\u001b[49m\u001b[38;5;241;43m.\u001b[39;49m\u001b[43mexplain\u001b[49m\u001b[43m(\u001b[49m\u001b[43mtrain_data\u001b[49m\u001b[38;5;241;43m.\u001b[39;49m\u001b[43miloc\u001b[49m\u001b[43m[\u001b[49m\u001b[43midx\u001b[49m\u001b[43m]\u001b[49m\u001b[38;5;241;43m.\u001b[39;49m\u001b[43mvalues\u001b[49m\u001b[43m)\u001b[49m\n\u001b[0;32m      2\u001b[0m explanation \u001b[38;5;241m=\u001b[39m format_explanation(explanation)\n",
      "File \u001b[1;32md:\\miniconda3\\envs\\HLT\\Lib\\site-packages\\xailib\\explainers\\lore_explainer.py:167\u001b[0m, in \u001b[0;36mLoreTabularExplainer.explain\u001b[1;34m(self, x)\u001b[0m\n\u001b[0;32m    166\u001b[0m \u001b[38;5;28;01mdef\u001b[39;00m \u001b[38;5;21mexplain\u001b[39m(\u001b[38;5;28mself\u001b[39m, x):\n\u001b[1;32m--> 167\u001b[0m     exp \u001b[38;5;241m=\u001b[39m \u001b[38;5;28;43mself\u001b[39;49m\u001b[38;5;241;43m.\u001b[39;49m\u001b[43mlore_explainer\u001b[49m\u001b[38;5;241;43m.\u001b[39;49m\u001b[43mexplain_instance\u001b[49m\u001b[43m(\u001b[49m\u001b[43mx\u001b[49m\u001b[43m,\u001b[49m\u001b[43m \u001b[49m\u001b[43msamples\u001b[49m\u001b[38;5;241;43m=\u001b[39;49m\u001b[38;5;241;43m1000\u001b[39;49m\u001b[43m,\u001b[49m\u001b[43m \u001b[49m\u001b[43muse_weights\u001b[49m\u001b[38;5;241;43m=\u001b[39;49m\u001b[38;5;28;43;01mTrue\u001b[39;49;00m\u001b[43m)\u001b[49m\n\u001b[0;32m    168\u001b[0m     \u001b[38;5;28;01mreturn\u001b[39;00m LoreTabularExplanation(exp)\n",
      "File \u001b[1;32md:\\miniconda3\\envs\\HLT\\Lib\\site-packages\\lore_explainer\\lorem.py:70\u001b[0m, in \u001b[0;36mLOREM.explain_instance\u001b[1;34m(self, x, samples, use_weights, metric)\u001b[0m\n\u001b[0;32m     68\u001b[0m     \u001b[38;5;28;01mif\u001b[39;00m \u001b[38;5;28mself\u001b[39m\u001b[38;5;241m.\u001b[39mverbose:\n\u001b[0;32m     69\u001b[0m         \u001b[38;5;28mprint\u001b[39m(\u001b[38;5;124m'\u001b[39m\u001b[38;5;124mgenerating neighborhood - \u001b[39m\u001b[38;5;132;01m%s\u001b[39;00m\u001b[38;5;124m'\u001b[39m \u001b[38;5;241m%\u001b[39m \u001b[38;5;28mself\u001b[39m\u001b[38;5;241m.\u001b[39mneigh_type)\n\u001b[1;32m---> 70\u001b[0m     Z \u001b[38;5;241m=\u001b[39m \u001b[38;5;28;43mself\u001b[39;49m\u001b[38;5;241;43m.\u001b[39;49m\u001b[43mneighgen_fn\u001b[49m\u001b[43m(\u001b[49m\u001b[43mx\u001b[49m\u001b[43m,\u001b[49m\u001b[43m \u001b[49m\u001b[43msamples\u001b[49m\u001b[43m)\u001b[49m\n\u001b[0;32m     71\u001b[0m \u001b[38;5;28;01melse\u001b[39;00m:\n\u001b[0;32m     72\u001b[0m     Z \u001b[38;5;241m=\u001b[39m samples\n",
      "File \u001b[1;32md:\\miniconda3\\envs\\HLT\\Lib\\site-packages\\lore_explainer\\neighgen.py:354\u001b[0m, in \u001b[0;36mRandomGeneticGenerator.generate\u001b[1;34m(self, x, num_samples)\u001b[0m\n\u001b[0;32m    353\u001b[0m \u001b[38;5;28;01mdef\u001b[39;00m \u001b[38;5;21mgenerate\u001b[39m(\u001b[38;5;28mself\u001b[39m, x, num_samples\u001b[38;5;241m=\u001b[39m\u001b[38;5;241m1000\u001b[39m):\n\u001b[1;32m--> 354\u001b[0m     Zg \u001b[38;5;241m=\u001b[39m \u001b[43mGeneticGenerator\u001b[49m\u001b[38;5;241;43m.\u001b[39;49m\u001b[43mgenerate\u001b[49m\u001b[43m(\u001b[49m\u001b[38;5;28;43mself\u001b[39;49m\u001b[43m,\u001b[49m\u001b[43m \u001b[49m\u001b[43mx\u001b[49m\u001b[43m,\u001b[49m\u001b[43m \u001b[49m\u001b[43mnum_samples\u001b[49m\u001b[43m \u001b[49m\u001b[38;5;241;43m/\u001b[39;49m\u001b[38;5;241;43m/\u001b[39;49m\u001b[43m \u001b[49m\u001b[38;5;241;43m2\u001b[39;49m\u001b[43m)\u001b[49m\n\u001b[0;32m    355\u001b[0m     Zr \u001b[38;5;241m=\u001b[39m RandomGenerator\u001b[38;5;241m.\u001b[39mgenerate(\u001b[38;5;28mself\u001b[39m, x, num_samples \u001b[38;5;241m/\u001b[39m\u001b[38;5;241m/\u001b[39m \u001b[38;5;241m2\u001b[39m)\n\u001b[0;32m    356\u001b[0m     Z \u001b[38;5;241m=\u001b[39m np\u001b[38;5;241m.\u001b[39mconcatenate((Zg, Zr[\u001b[38;5;241m1\u001b[39m:]), axis\u001b[38;5;241m=\u001b[39m\u001b[38;5;241m0\u001b[39m)\n",
      "File \u001b[1;32md:\\miniconda3\\envs\\HLT\\Lib\\site-packages\\lore_explainer\\neighgen.py:135\u001b[0m, in \u001b[0;36mGeneticGenerator.generate\u001b[1;34m(self, x, num_samples)\u001b[0m\n\u001b[0;32m    132\u001b[0m num_samples_noteq \u001b[38;5;241m=\u001b[39m \u001b[38;5;28mint\u001b[39m(np\u001b[38;5;241m.\u001b[39mround(num_samples \u001b[38;5;241m*\u001b[39m \u001b[38;5;241m0.5\u001b[39m))\n\u001b[0;32m    134\u001b[0m toolbox_eq \u001b[38;5;241m=\u001b[39m \u001b[38;5;28mself\u001b[39m\u001b[38;5;241m.\u001b[39msetup_toolbox(x, \u001b[38;5;28mself\u001b[39m\u001b[38;5;241m.\u001b[39mfitness_equal, num_samples_eq)\n\u001b[1;32m--> 135\u001b[0m population_eq, halloffame_eq, logbook_eq \u001b[38;5;241m=\u001b[39m \u001b[38;5;28;43mself\u001b[39;49m\u001b[38;5;241;43m.\u001b[39;49m\u001b[43mfit\u001b[49m\u001b[43m(\u001b[49m\u001b[43mtoolbox_eq\u001b[49m\u001b[43m,\u001b[49m\u001b[43m \u001b[49m\u001b[43mnum_samples_eq\u001b[49m\u001b[43m)\u001b[49m\n\u001b[0;32m    136\u001b[0m Z_eq \u001b[38;5;241m=\u001b[39m \u001b[38;5;28mself\u001b[39m\u001b[38;5;241m.\u001b[39madd_halloffame(population_eq, halloffame_eq)\n\u001b[0;32m    137\u001b[0m \u001b[38;5;66;03m# print(logbook_eq)\u001b[39;00m\n\u001b[0;32m    138\u001b[0m \n\u001b[0;32m    139\u001b[0m \u001b[38;5;66;03m# rndgen = RandomGenerator(self.bb)\u001b[39;00m\n\u001b[1;32m   (...)\u001b[0m\n\u001b[0;32m    142\u001b[0m \u001b[38;5;66;03m# distances = cdist(Rn, Rn[0].reshape(1, -1), metric=self.metric).ravel()\u001b[39;00m\n\u001b[0;32m    143\u001b[0m \u001b[38;5;66;03m# x1 = R[np.argsort(distances)[0]]\u001b[39;00m\n",
      "File \u001b[1;32md:\\miniconda3\\envs\\HLT\\Lib\\site-packages\\lore_explainer\\neighgen.py:228\u001b[0m, in \u001b[0;36mGeneticGenerator.fit\u001b[1;34m(self, toolbox, population_size)\u001b[0m\n\u001b[0;32m    225\u001b[0m stats\u001b[38;5;241m.\u001b[39mregister(\u001b[38;5;124m\"\u001b[39m\u001b[38;5;124mmin\u001b[39m\u001b[38;5;124m\"\u001b[39m, np\u001b[38;5;241m.\u001b[39mmin)\n\u001b[0;32m    226\u001b[0m stats\u001b[38;5;241m.\u001b[39mregister(\u001b[38;5;124m\"\u001b[39m\u001b[38;5;124mmax\u001b[39m\u001b[38;5;124m\"\u001b[39m, np\u001b[38;5;241m.\u001b[39mmax)\n\u001b[1;32m--> 228\u001b[0m population, logbook \u001b[38;5;241m=\u001b[39m \u001b[43malgorithms\u001b[49m\u001b[38;5;241;43m.\u001b[39;49m\u001b[43meaSimple\u001b[49m\u001b[43m(\u001b[49m\u001b[43mpopulation\u001b[49m\u001b[43m,\u001b[49m\u001b[43m \u001b[49m\u001b[43mtoolbox\u001b[49m\u001b[43m,\u001b[49m\u001b[43m \u001b[49m\u001b[43mcxpb\u001b[49m\u001b[38;5;241;43m=\u001b[39;49m\u001b[38;5;28;43mself\u001b[39;49m\u001b[38;5;241;43m.\u001b[39;49m\u001b[43mcxpb\u001b[49m\u001b[43m,\u001b[49m\u001b[43m \u001b[49m\u001b[43mmutpb\u001b[49m\u001b[38;5;241;43m=\u001b[39;49m\u001b[38;5;28;43mself\u001b[39;49m\u001b[38;5;241;43m.\u001b[39;49m\u001b[43mmutpb\u001b[49m\u001b[43m,\u001b[49m\n\u001b[0;32m    229\u001b[0m \u001b[43m                                          \u001b[49m\u001b[43mngen\u001b[49m\u001b[38;5;241;43m=\u001b[39;49m\u001b[38;5;28;43mself\u001b[39;49m\u001b[38;5;241;43m.\u001b[39;49m\u001b[43mngen\u001b[49m\u001b[43m,\u001b[49m\u001b[43m \u001b[49m\u001b[43mstats\u001b[49m\u001b[38;5;241;43m=\u001b[39;49m\u001b[43mstats\u001b[49m\u001b[43m,\u001b[49m\u001b[43m \u001b[49m\u001b[43mhalloffame\u001b[49m\u001b[38;5;241;43m=\u001b[39;49m\u001b[43mhalloffame\u001b[49m\u001b[43m,\u001b[49m\n\u001b[0;32m    230\u001b[0m \u001b[43m                                          \u001b[49m\u001b[43mverbose\u001b[49m\u001b[38;5;241;43m=\u001b[39;49m\u001b[38;5;28;43mself\u001b[39;49m\u001b[38;5;241;43m.\u001b[39;49m\u001b[43mverbose\u001b[49m\u001b[43m)\u001b[49m\n\u001b[0;32m    232\u001b[0m \u001b[38;5;28;01mreturn\u001b[39;00m population, halloffame, logbook\n",
      "File \u001b[1;32md:\\miniconda3\\envs\\HLT\\Lib\\site-packages\\deap\\algorithms.py:173\u001b[0m, in \u001b[0;36meaSimple\u001b[1;34m(population, toolbox, cxpb, mutpb, ngen, stats, halloffame, verbose)\u001b[0m\n\u001b[0;32m    171\u001b[0m invalid_ind \u001b[38;5;241m=\u001b[39m [ind \u001b[38;5;28;01mfor\u001b[39;00m ind \u001b[38;5;129;01min\u001b[39;00m offspring \u001b[38;5;28;01mif\u001b[39;00m \u001b[38;5;129;01mnot\u001b[39;00m ind\u001b[38;5;241m.\u001b[39mfitness\u001b[38;5;241m.\u001b[39mvalid]\n\u001b[0;32m    172\u001b[0m fitnesses \u001b[38;5;241m=\u001b[39m toolbox\u001b[38;5;241m.\u001b[39mmap(toolbox\u001b[38;5;241m.\u001b[39mevaluate, invalid_ind)\n\u001b[1;32m--> 173\u001b[0m \u001b[38;5;28;01mfor\u001b[39;00m ind, fit \u001b[38;5;129;01min\u001b[39;00m \u001b[38;5;28mzip\u001b[39m(invalid_ind, fitnesses):\n\u001b[0;32m    174\u001b[0m     ind\u001b[38;5;241m.\u001b[39mfitness\u001b[38;5;241m.\u001b[39mvalues \u001b[38;5;241m=\u001b[39m fit\n\u001b[0;32m    176\u001b[0m \u001b[38;5;66;03m# Update the hall of fame with the generated individuals\u001b[39;00m\n",
      "File \u001b[1;32md:\\miniconda3\\envs\\HLT\\Lib\\site-packages\\lore_explainer\\neighgen.py:263\u001b[0m, in \u001b[0;36mGeneticGenerator.fitness_equal\u001b[1;34m(self, x, x1)\u001b[0m\n\u001b[0;32m    261\u001b[0m     y \u001b[38;5;241m=\u001b[39m \u001b[38;5;28mself\u001b[39m\u001b[38;5;241m.\u001b[39mbb_predict(x\u001b[38;5;241m.\u001b[39mreshape(\u001b[38;5;241m1\u001b[39m, \u001b[38;5;241m-\u001b[39m\u001b[38;5;241m1\u001b[39m))\n\u001b[0;32m    262\u001b[0m \u001b[38;5;28;01mif\u001b[39;00m (y1\u001b[38;5;241m.\u001b[39mshape \u001b[38;5;241m==\u001b[39m ()):\n\u001b[1;32m--> 263\u001b[0m     y1 \u001b[38;5;241m=\u001b[39m \u001b[38;5;28;43mself\u001b[39;49m\u001b[38;5;241;43m.\u001b[39;49m\u001b[43mbb_predict\u001b[49m\u001b[43m(\u001b[49m\u001b[43mx1\u001b[49m\u001b[38;5;241;43m.\u001b[39;49m\u001b[43mreshape\u001b[49m\u001b[43m(\u001b[49m\u001b[38;5;241;43m1\u001b[39;49m\u001b[43m,\u001b[49m\u001b[43m \u001b[49m\u001b[38;5;241;43m-\u001b[39;49m\u001b[38;5;241;43m1\u001b[39;49m\u001b[43m)\u001b[49m\u001b[43m)\u001b[49m\n\u001b[0;32m    265\u001b[0m target_similarity_score \u001b[38;5;241m=\u001b[39m \u001b[38;5;241m1.0\u001b[39m \u001b[38;5;241m-\u001b[39m hamming(y, y1)\n\u001b[0;32m    266\u001b[0m \u001b[38;5;66;03m# target_similarity = target_similarity_score if target_similarity_score >= self.eta2 else 0.0\u001b[39;00m\n",
      "File \u001b[1;32md:\\miniconda3\\envs\\HLT\\Lib\\site-packages\\lightgbm\\sklearn.py:1321\u001b[0m, in \u001b[0;36mLGBMClassifier.predict\u001b[1;34m(self, X, raw_score, start_iteration, num_iteration, pred_leaf, pred_contrib, validate_features, **kwargs)\u001b[0m\n\u001b[0;32m   1309\u001b[0m \u001b[38;5;28;01mdef\u001b[39;00m \u001b[38;5;21mpredict\u001b[39m(\n\u001b[0;32m   1310\u001b[0m     \u001b[38;5;28mself\u001b[39m,\n\u001b[0;32m   1311\u001b[0m     X: _LGBM_ScikitMatrixLike,\n\u001b[1;32m   (...)\u001b[0m\n\u001b[0;32m   1318\u001b[0m     \u001b[38;5;241m*\u001b[39m\u001b[38;5;241m*\u001b[39mkwargs: Any,\n\u001b[0;32m   1319\u001b[0m ):\n\u001b[0;32m   1320\u001b[0m \u001b[38;5;250m    \u001b[39m\u001b[38;5;124;03m\"\"\"Docstring is inherited from the LGBMModel.\"\"\"\u001b[39;00m\n\u001b[1;32m-> 1321\u001b[0m     result \u001b[38;5;241m=\u001b[39m \u001b[38;5;28;43mself\u001b[39;49m\u001b[38;5;241;43m.\u001b[39;49m\u001b[43mpredict_proba\u001b[49m\u001b[43m(\u001b[49m\n\u001b[0;32m   1322\u001b[0m \u001b[43m        \u001b[49m\u001b[43mX\u001b[49m\u001b[38;5;241;43m=\u001b[39;49m\u001b[43mX\u001b[49m\u001b[43m,\u001b[49m\n\u001b[0;32m   1323\u001b[0m \u001b[43m        \u001b[49m\u001b[43mraw_score\u001b[49m\u001b[38;5;241;43m=\u001b[39;49m\u001b[43mraw_score\u001b[49m\u001b[43m,\u001b[49m\n\u001b[0;32m   1324\u001b[0m \u001b[43m        \u001b[49m\u001b[43mstart_iteration\u001b[49m\u001b[38;5;241;43m=\u001b[39;49m\u001b[43mstart_iteration\u001b[49m\u001b[43m,\u001b[49m\n\u001b[0;32m   1325\u001b[0m \u001b[43m        \u001b[49m\u001b[43mnum_iteration\u001b[49m\u001b[38;5;241;43m=\u001b[39;49m\u001b[43mnum_iteration\u001b[49m\u001b[43m,\u001b[49m\n\u001b[0;32m   1326\u001b[0m \u001b[43m        \u001b[49m\u001b[43mpred_leaf\u001b[49m\u001b[38;5;241;43m=\u001b[39;49m\u001b[43mpred_leaf\u001b[49m\u001b[43m,\u001b[49m\n\u001b[0;32m   1327\u001b[0m \u001b[43m        \u001b[49m\u001b[43mpred_contrib\u001b[49m\u001b[38;5;241;43m=\u001b[39;49m\u001b[43mpred_contrib\u001b[49m\u001b[43m,\u001b[49m\n\u001b[0;32m   1328\u001b[0m \u001b[43m        \u001b[49m\u001b[43mvalidate_features\u001b[49m\u001b[38;5;241;43m=\u001b[39;49m\u001b[43mvalidate_features\u001b[49m\u001b[43m,\u001b[49m\n\u001b[0;32m   1329\u001b[0m \u001b[43m        \u001b[49m\u001b[38;5;241;43m*\u001b[39;49m\u001b[38;5;241;43m*\u001b[39;49m\u001b[43mkwargs\u001b[49m\u001b[43m,\u001b[49m\n\u001b[0;32m   1330\u001b[0m \u001b[43m    \u001b[49m\u001b[43m)\u001b[49m\n\u001b[0;32m   1331\u001b[0m     \u001b[38;5;28;01mif\u001b[39;00m \u001b[38;5;28mcallable\u001b[39m(\u001b[38;5;28mself\u001b[39m\u001b[38;5;241m.\u001b[39m_objective) \u001b[38;5;129;01mor\u001b[39;00m raw_score \u001b[38;5;129;01mor\u001b[39;00m pred_leaf \u001b[38;5;129;01mor\u001b[39;00m pred_contrib:\n\u001b[0;32m   1332\u001b[0m         \u001b[38;5;28;01mreturn\u001b[39;00m result\n",
      "File \u001b[1;32md:\\miniconda3\\envs\\HLT\\Lib\\site-packages\\lightgbm\\sklearn.py:1351\u001b[0m, in \u001b[0;36mLGBMClassifier.predict_proba\u001b[1;34m(self, X, raw_score, start_iteration, num_iteration, pred_leaf, pred_contrib, validate_features, **kwargs)\u001b[0m\n\u001b[0;32m   1339\u001b[0m \u001b[38;5;28;01mdef\u001b[39;00m \u001b[38;5;21mpredict_proba\u001b[39m(\n\u001b[0;32m   1340\u001b[0m     \u001b[38;5;28mself\u001b[39m,\n\u001b[0;32m   1341\u001b[0m     X: _LGBM_ScikitMatrixLike,\n\u001b[1;32m   (...)\u001b[0m\n\u001b[0;32m   1348\u001b[0m     \u001b[38;5;241m*\u001b[39m\u001b[38;5;241m*\u001b[39mkwargs: Any,\n\u001b[0;32m   1349\u001b[0m ):\n\u001b[0;32m   1350\u001b[0m \u001b[38;5;250m    \u001b[39m\u001b[38;5;124;03m\"\"\"Docstring is set after definition, using a template.\"\"\"\u001b[39;00m\n\u001b[1;32m-> 1351\u001b[0m     result \u001b[38;5;241m=\u001b[39m \u001b[38;5;28;43msuper\u001b[39;49m\u001b[43m(\u001b[49m\u001b[43m)\u001b[49m\u001b[38;5;241;43m.\u001b[39;49m\u001b[43mpredict\u001b[49m\u001b[43m(\u001b[49m\n\u001b[0;32m   1352\u001b[0m \u001b[43m        \u001b[49m\u001b[43mX\u001b[49m\u001b[38;5;241;43m=\u001b[39;49m\u001b[43mX\u001b[49m\u001b[43m,\u001b[49m\n\u001b[0;32m   1353\u001b[0m \u001b[43m        \u001b[49m\u001b[43mraw_score\u001b[49m\u001b[38;5;241;43m=\u001b[39;49m\u001b[43mraw_score\u001b[49m\u001b[43m,\u001b[49m\n\u001b[0;32m   1354\u001b[0m \u001b[43m        \u001b[49m\u001b[43mstart_iteration\u001b[49m\u001b[38;5;241;43m=\u001b[39;49m\u001b[43mstart_iteration\u001b[49m\u001b[43m,\u001b[49m\n\u001b[0;32m   1355\u001b[0m \u001b[43m        \u001b[49m\u001b[43mnum_iteration\u001b[49m\u001b[38;5;241;43m=\u001b[39;49m\u001b[43mnum_iteration\u001b[49m\u001b[43m,\u001b[49m\n\u001b[0;32m   1356\u001b[0m \u001b[43m        \u001b[49m\u001b[43mpred_leaf\u001b[49m\u001b[38;5;241;43m=\u001b[39;49m\u001b[43mpred_leaf\u001b[49m\u001b[43m,\u001b[49m\n\u001b[0;32m   1357\u001b[0m \u001b[43m        \u001b[49m\u001b[43mpred_contrib\u001b[49m\u001b[38;5;241;43m=\u001b[39;49m\u001b[43mpred_contrib\u001b[49m\u001b[43m,\u001b[49m\n\u001b[0;32m   1358\u001b[0m \u001b[43m        \u001b[49m\u001b[43mvalidate_features\u001b[49m\u001b[38;5;241;43m=\u001b[39;49m\u001b[43mvalidate_features\u001b[49m\u001b[43m,\u001b[49m\n\u001b[0;32m   1359\u001b[0m \u001b[43m        \u001b[49m\u001b[38;5;241;43m*\u001b[39;49m\u001b[38;5;241;43m*\u001b[39;49m\u001b[43mkwargs\u001b[49m\u001b[43m,\u001b[49m\n\u001b[0;32m   1360\u001b[0m \u001b[43m    \u001b[49m\u001b[43m)\u001b[49m\n\u001b[0;32m   1361\u001b[0m     \u001b[38;5;28;01mif\u001b[39;00m \u001b[38;5;28mcallable\u001b[39m(\u001b[38;5;28mself\u001b[39m\u001b[38;5;241m.\u001b[39m_objective) \u001b[38;5;129;01mand\u001b[39;00m \u001b[38;5;129;01mnot\u001b[39;00m (raw_score \u001b[38;5;129;01mor\u001b[39;00m pred_leaf \u001b[38;5;129;01mor\u001b[39;00m pred_contrib):\n\u001b[0;32m   1362\u001b[0m         _log_warning(\n\u001b[0;32m   1363\u001b[0m             \u001b[38;5;124m\"\u001b[39m\u001b[38;5;124mCannot compute class probabilities or labels \u001b[39m\u001b[38;5;124m\"\u001b[39m\n\u001b[0;32m   1364\u001b[0m             \u001b[38;5;124m\"\u001b[39m\u001b[38;5;124mdue to the usage of customized objective function.\u001b[39m\u001b[38;5;130;01m\\n\u001b[39;00m\u001b[38;5;124m\"\u001b[39m\n\u001b[0;32m   1365\u001b[0m             \u001b[38;5;124m\"\u001b[39m\u001b[38;5;124mReturning raw scores instead.\u001b[39m\u001b[38;5;124m\"\u001b[39m\n\u001b[0;32m   1366\u001b[0m         )\n",
      "File \u001b[1;32md:\\miniconda3\\envs\\HLT\\Lib\\site-packages\\lightgbm\\sklearn.py:1036\u001b[0m, in \u001b[0;36mLGBMModel.predict\u001b[1;34m(self, X, raw_score, start_iteration, num_iteration, pred_leaf, pred_contrib, validate_features, **kwargs)\u001b[0m\n\u001b[0;32m   1033\u001b[0m predict_params \u001b[38;5;241m=\u001b[39m _choose_param_value(\u001b[38;5;124m\"\u001b[39m\u001b[38;5;124mnum_threads\u001b[39m\u001b[38;5;124m\"\u001b[39m, predict_params, \u001b[38;5;28mself\u001b[39m\u001b[38;5;241m.\u001b[39mn_jobs)\n\u001b[0;32m   1034\u001b[0m predict_params[\u001b[38;5;124m\"\u001b[39m\u001b[38;5;124mnum_threads\u001b[39m\u001b[38;5;124m\"\u001b[39m] \u001b[38;5;241m=\u001b[39m \u001b[38;5;28mself\u001b[39m\u001b[38;5;241m.\u001b[39m_process_n_jobs(predict_params[\u001b[38;5;124m\"\u001b[39m\u001b[38;5;124mnum_threads\u001b[39m\u001b[38;5;124m\"\u001b[39m])\n\u001b[1;32m-> 1036\u001b[0m \u001b[38;5;28;01mreturn\u001b[39;00m \u001b[38;5;28;43mself\u001b[39;49m\u001b[38;5;241;43m.\u001b[39;49m\u001b[43m_Booster\u001b[49m\u001b[38;5;241;43m.\u001b[39;49m\u001b[43mpredict\u001b[49m\u001b[43m(\u001b[49m\u001b[43m  \u001b[49m\u001b[38;5;66;43;03m# type: ignore[union-attr]\u001b[39;49;00m\n\u001b[0;32m   1037\u001b[0m \u001b[43m    \u001b[49m\u001b[43mX\u001b[49m\u001b[43m,\u001b[49m\n\u001b[0;32m   1038\u001b[0m \u001b[43m    \u001b[49m\u001b[43mraw_score\u001b[49m\u001b[38;5;241;43m=\u001b[39;49m\u001b[43mraw_score\u001b[49m\u001b[43m,\u001b[49m\n\u001b[0;32m   1039\u001b[0m \u001b[43m    \u001b[49m\u001b[43mstart_iteration\u001b[49m\u001b[38;5;241;43m=\u001b[39;49m\u001b[43mstart_iteration\u001b[49m\u001b[43m,\u001b[49m\n\u001b[0;32m   1040\u001b[0m \u001b[43m    \u001b[49m\u001b[43mnum_iteration\u001b[49m\u001b[38;5;241;43m=\u001b[39;49m\u001b[43mnum_iteration\u001b[49m\u001b[43m,\u001b[49m\n\u001b[0;32m   1041\u001b[0m \u001b[43m    \u001b[49m\u001b[43mpred_leaf\u001b[49m\u001b[38;5;241;43m=\u001b[39;49m\u001b[43mpred_leaf\u001b[49m\u001b[43m,\u001b[49m\n\u001b[0;32m   1042\u001b[0m \u001b[43m    \u001b[49m\u001b[43mpred_contrib\u001b[49m\u001b[38;5;241;43m=\u001b[39;49m\u001b[43mpred_contrib\u001b[49m\u001b[43m,\u001b[49m\n\u001b[0;32m   1043\u001b[0m \u001b[43m    \u001b[49m\u001b[43mvalidate_features\u001b[49m\u001b[38;5;241;43m=\u001b[39;49m\u001b[43mvalidate_features\u001b[49m\u001b[43m,\u001b[49m\n\u001b[0;32m   1044\u001b[0m \u001b[43m    \u001b[49m\u001b[38;5;241;43m*\u001b[39;49m\u001b[38;5;241;43m*\u001b[39;49m\u001b[43mpredict_params\u001b[49m\u001b[43m,\u001b[49m\n\u001b[0;32m   1045\u001b[0m \u001b[43m\u001b[49m\u001b[43m)\u001b[49m\n",
      "File \u001b[1;32md:\\miniconda3\\envs\\HLT\\Lib\\site-packages\\lightgbm\\basic.py:4748\u001b[0m, in \u001b[0;36mBooster.predict\u001b[1;34m(self, data, start_iteration, num_iteration, raw_score, pred_leaf, pred_contrib, data_has_header, validate_features, **kwargs)\u001b[0m\n\u001b[0;32m   4746\u001b[0m     \u001b[38;5;28;01melse\u001b[39;00m:\n\u001b[0;32m   4747\u001b[0m         num_iteration \u001b[38;5;241m=\u001b[39m \u001b[38;5;241m-\u001b[39m\u001b[38;5;241m1\u001b[39m\n\u001b[1;32m-> 4748\u001b[0m \u001b[38;5;28;01mreturn\u001b[39;00m \u001b[43mpredictor\u001b[49m\u001b[38;5;241;43m.\u001b[39;49m\u001b[43mpredict\u001b[49m\u001b[43m(\u001b[49m\n\u001b[0;32m   4749\u001b[0m \u001b[43m    \u001b[49m\u001b[43mdata\u001b[49m\u001b[38;5;241;43m=\u001b[39;49m\u001b[43mdata\u001b[49m\u001b[43m,\u001b[49m\n\u001b[0;32m   4750\u001b[0m \u001b[43m    \u001b[49m\u001b[43mstart_iteration\u001b[49m\u001b[38;5;241;43m=\u001b[39;49m\u001b[43mstart_iteration\u001b[49m\u001b[43m,\u001b[49m\n\u001b[0;32m   4751\u001b[0m \u001b[43m    \u001b[49m\u001b[43mnum_iteration\u001b[49m\u001b[38;5;241;43m=\u001b[39;49m\u001b[43mnum_iteration\u001b[49m\u001b[43m,\u001b[49m\n\u001b[0;32m   4752\u001b[0m \u001b[43m    \u001b[49m\u001b[43mraw_score\u001b[49m\u001b[38;5;241;43m=\u001b[39;49m\u001b[43mraw_score\u001b[49m\u001b[43m,\u001b[49m\n\u001b[0;32m   4753\u001b[0m \u001b[43m    \u001b[49m\u001b[43mpred_leaf\u001b[49m\u001b[38;5;241;43m=\u001b[39;49m\u001b[43mpred_leaf\u001b[49m\u001b[43m,\u001b[49m\n\u001b[0;32m   4754\u001b[0m \u001b[43m    \u001b[49m\u001b[43mpred_contrib\u001b[49m\u001b[38;5;241;43m=\u001b[39;49m\u001b[43mpred_contrib\u001b[49m\u001b[43m,\u001b[49m\n\u001b[0;32m   4755\u001b[0m \u001b[43m    \u001b[49m\u001b[43mdata_has_header\u001b[49m\u001b[38;5;241;43m=\u001b[39;49m\u001b[43mdata_has_header\u001b[49m\u001b[43m,\u001b[49m\n\u001b[0;32m   4756\u001b[0m \u001b[43m    \u001b[49m\u001b[43mvalidate_features\u001b[49m\u001b[38;5;241;43m=\u001b[39;49m\u001b[43mvalidate_features\u001b[49m\u001b[43m,\u001b[49m\n\u001b[0;32m   4757\u001b[0m \u001b[43m\u001b[49m\u001b[43m)\u001b[49m\n",
      "File \u001b[1;32md:\\miniconda3\\envs\\HLT\\Lib\\site-packages\\lightgbm\\basic.py:1185\u001b[0m, in \u001b[0;36m_InnerPredictor.predict\u001b[1;34m(self, data, start_iteration, num_iteration, raw_score, pred_leaf, pred_contrib, data_has_header, validate_features)\u001b[0m\n\u001b[0;32m   1178\u001b[0m     preds, nrow \u001b[38;5;241m=\u001b[39m \u001b[38;5;28mself\u001b[39m\u001b[38;5;241m.\u001b[39m__pred_for_csc(\n\u001b[0;32m   1179\u001b[0m         csc\u001b[38;5;241m=\u001b[39mdata,\n\u001b[0;32m   1180\u001b[0m         start_iteration\u001b[38;5;241m=\u001b[39mstart_iteration,\n\u001b[0;32m   1181\u001b[0m         num_iteration\u001b[38;5;241m=\u001b[39mnum_iteration,\n\u001b[0;32m   1182\u001b[0m         predict_type\u001b[38;5;241m=\u001b[39mpredict_type,\n\u001b[0;32m   1183\u001b[0m     )\n\u001b[0;32m   1184\u001b[0m \u001b[38;5;28;01melif\u001b[39;00m \u001b[38;5;28misinstance\u001b[39m(data, np\u001b[38;5;241m.\u001b[39mndarray):\n\u001b[1;32m-> 1185\u001b[0m     preds, nrow \u001b[38;5;241m=\u001b[39m \u001b[38;5;28;43mself\u001b[39;49m\u001b[38;5;241;43m.\u001b[39;49m\u001b[43m__pred_for_np2d\u001b[49m\u001b[43m(\u001b[49m\n\u001b[0;32m   1186\u001b[0m \u001b[43m        \u001b[49m\u001b[43mmat\u001b[49m\u001b[38;5;241;43m=\u001b[39;49m\u001b[43mdata\u001b[49m\u001b[43m,\u001b[49m\n\u001b[0;32m   1187\u001b[0m \u001b[43m        \u001b[49m\u001b[43mstart_iteration\u001b[49m\u001b[38;5;241;43m=\u001b[39;49m\u001b[43mstart_iteration\u001b[49m\u001b[43m,\u001b[49m\n\u001b[0;32m   1188\u001b[0m \u001b[43m        \u001b[49m\u001b[43mnum_iteration\u001b[49m\u001b[38;5;241;43m=\u001b[39;49m\u001b[43mnum_iteration\u001b[49m\u001b[43m,\u001b[49m\n\u001b[0;32m   1189\u001b[0m \u001b[43m        \u001b[49m\u001b[43mpredict_type\u001b[49m\u001b[38;5;241;43m=\u001b[39;49m\u001b[43mpredict_type\u001b[49m\u001b[43m,\u001b[49m\n\u001b[0;32m   1190\u001b[0m \u001b[43m    \u001b[49m\u001b[43m)\u001b[49m\n\u001b[0;32m   1191\u001b[0m \u001b[38;5;28;01melif\u001b[39;00m _is_pyarrow_table(data):\n\u001b[0;32m   1192\u001b[0m     preds, nrow \u001b[38;5;241m=\u001b[39m \u001b[38;5;28mself\u001b[39m\u001b[38;5;241m.\u001b[39m__pred_for_pyarrow_table(\n\u001b[0;32m   1193\u001b[0m         table\u001b[38;5;241m=\u001b[39mdata,\n\u001b[0;32m   1194\u001b[0m         start_iteration\u001b[38;5;241m=\u001b[39mstart_iteration,\n\u001b[0;32m   1195\u001b[0m         num_iteration\u001b[38;5;241m=\u001b[39mnum_iteration,\n\u001b[0;32m   1196\u001b[0m         predict_type\u001b[38;5;241m=\u001b[39mpredict_type,\n\u001b[0;32m   1197\u001b[0m     )\n",
      "File \u001b[1;32md:\\miniconda3\\envs\\HLT\\Lib\\site-packages\\lightgbm\\basic.py:1344\u001b[0m, in \u001b[0;36m_InnerPredictor.__pred_for_np2d\u001b[1;34m(self, mat, start_iteration, num_iteration, predict_type)\u001b[0m\n\u001b[0;32m   1342\u001b[0m     \u001b[38;5;28;01mreturn\u001b[39;00m preds, nrow\n\u001b[0;32m   1343\u001b[0m \u001b[38;5;28;01melse\u001b[39;00m:\n\u001b[1;32m-> 1344\u001b[0m     \u001b[38;5;28;01mreturn\u001b[39;00m \u001b[38;5;28;43mself\u001b[39;49m\u001b[38;5;241;43m.\u001b[39;49m\u001b[43m__inner_predict_np2d\u001b[49m\u001b[43m(\u001b[49m\n\u001b[0;32m   1345\u001b[0m \u001b[43m        \u001b[49m\u001b[43mmat\u001b[49m\u001b[38;5;241;43m=\u001b[39;49m\u001b[43mmat\u001b[49m\u001b[43m,\u001b[49m\n\u001b[0;32m   1346\u001b[0m \u001b[43m        \u001b[49m\u001b[43mstart_iteration\u001b[49m\u001b[38;5;241;43m=\u001b[39;49m\u001b[43mstart_iteration\u001b[49m\u001b[43m,\u001b[49m\n\u001b[0;32m   1347\u001b[0m \u001b[43m        \u001b[49m\u001b[43mnum_iteration\u001b[49m\u001b[38;5;241;43m=\u001b[39;49m\u001b[43mnum_iteration\u001b[49m\u001b[43m,\u001b[49m\n\u001b[0;32m   1348\u001b[0m \u001b[43m        \u001b[49m\u001b[43mpredict_type\u001b[49m\u001b[38;5;241;43m=\u001b[39;49m\u001b[43mpredict_type\u001b[49m\u001b[43m,\u001b[49m\n\u001b[0;32m   1349\u001b[0m \u001b[43m        \u001b[49m\u001b[43mpreds\u001b[49m\u001b[38;5;241;43m=\u001b[39;49m\u001b[38;5;28;43;01mNone\u001b[39;49;00m\u001b[43m,\u001b[49m\n\u001b[0;32m   1350\u001b[0m \u001b[43m    \u001b[49m\u001b[43m)\u001b[49m\n",
      "File \u001b[1;32md:\\miniconda3\\envs\\HLT\\Lib\\site-packages\\lightgbm\\basic.py:1291\u001b[0m, in \u001b[0;36m_InnerPredictor.__inner_predict_np2d\u001b[1;34m(self, mat, start_iteration, num_iteration, predict_type, preds)\u001b[0m\n\u001b[0;32m   1288\u001b[0m     \u001b[38;5;28;01mraise\u001b[39;00m \u001b[38;5;167;01mValueError\u001b[39;00m(\u001b[38;5;124m\"\u001b[39m\u001b[38;5;124mWrong length of pre-allocated predict array\u001b[39m\u001b[38;5;124m\"\u001b[39m)\n\u001b[0;32m   1289\u001b[0m out_num_preds \u001b[38;5;241m=\u001b[39m ctypes\u001b[38;5;241m.\u001b[39mc_int64(\u001b[38;5;241m0\u001b[39m)\n\u001b[0;32m   1290\u001b[0m _safe_call(\n\u001b[1;32m-> 1291\u001b[0m     \u001b[43m_LIB\u001b[49m\u001b[38;5;241;43m.\u001b[39;49m\u001b[43mLGBM_BoosterPredictForMat\u001b[49m\u001b[43m(\u001b[49m\n\u001b[0;32m   1292\u001b[0m \u001b[43m        \u001b[49m\u001b[38;5;28;43mself\u001b[39;49m\u001b[38;5;241;43m.\u001b[39;49m\u001b[43m_handle\u001b[49m\u001b[43m,\u001b[49m\n\u001b[0;32m   1293\u001b[0m \u001b[43m        \u001b[49m\u001b[43mptr_data\u001b[49m\u001b[43m,\u001b[49m\n\u001b[0;32m   1294\u001b[0m \u001b[43m        \u001b[49m\u001b[43mctypes\u001b[49m\u001b[38;5;241;43m.\u001b[39;49m\u001b[43mc_int\u001b[49m\u001b[43m(\u001b[49m\u001b[43mtype_ptr_data\u001b[49m\u001b[43m)\u001b[49m\u001b[43m,\u001b[49m\n\u001b[0;32m   1295\u001b[0m \u001b[43m        \u001b[49m\u001b[43mctypes\u001b[49m\u001b[38;5;241;43m.\u001b[39;49m\u001b[43mc_int32\u001b[49m\u001b[43m(\u001b[49m\u001b[43mmat\u001b[49m\u001b[38;5;241;43m.\u001b[39;49m\u001b[43mshape\u001b[49m\u001b[43m[\u001b[49m\u001b[38;5;241;43m0\u001b[39;49m\u001b[43m]\u001b[49m\u001b[43m)\u001b[49m\u001b[43m,\u001b[49m\n\u001b[0;32m   1296\u001b[0m \u001b[43m        \u001b[49m\u001b[43mctypes\u001b[49m\u001b[38;5;241;43m.\u001b[39;49m\u001b[43mc_int32\u001b[49m\u001b[43m(\u001b[49m\u001b[43mmat\u001b[49m\u001b[38;5;241;43m.\u001b[39;49m\u001b[43mshape\u001b[49m\u001b[43m[\u001b[49m\u001b[38;5;241;43m1\u001b[39;49m\u001b[43m]\u001b[49m\u001b[43m)\u001b[49m\u001b[43m,\u001b[49m\n\u001b[0;32m   1297\u001b[0m \u001b[43m        \u001b[49m\u001b[43mctypes\u001b[49m\u001b[38;5;241;43m.\u001b[39;49m\u001b[43mc_int\u001b[49m\u001b[43m(\u001b[49m\u001b[43m_C_API_IS_ROW_MAJOR\u001b[49m\u001b[43m)\u001b[49m\u001b[43m,\u001b[49m\n\u001b[0;32m   1298\u001b[0m \u001b[43m        \u001b[49m\u001b[43mctypes\u001b[49m\u001b[38;5;241;43m.\u001b[39;49m\u001b[43mc_int\u001b[49m\u001b[43m(\u001b[49m\u001b[43mpredict_type\u001b[49m\u001b[43m)\u001b[49m\u001b[43m,\u001b[49m\n\u001b[0;32m   1299\u001b[0m \u001b[43m        \u001b[49m\u001b[43mctypes\u001b[49m\u001b[38;5;241;43m.\u001b[39;49m\u001b[43mc_int\u001b[49m\u001b[43m(\u001b[49m\u001b[43mstart_iteration\u001b[49m\u001b[43m)\u001b[49m\u001b[43m,\u001b[49m\n\u001b[0;32m   1300\u001b[0m \u001b[43m        \u001b[49m\u001b[43mctypes\u001b[49m\u001b[38;5;241;43m.\u001b[39;49m\u001b[43mc_int\u001b[49m\u001b[43m(\u001b[49m\u001b[43mnum_iteration\u001b[49m\u001b[43m)\u001b[49m\u001b[43m,\u001b[49m\n\u001b[0;32m   1301\u001b[0m \u001b[43m        \u001b[49m\u001b[43m_c_str\u001b[49m\u001b[43m(\u001b[49m\u001b[38;5;28;43mself\u001b[39;49m\u001b[38;5;241;43m.\u001b[39;49m\u001b[43mpred_parameter\u001b[49m\u001b[43m)\u001b[49m\u001b[43m,\u001b[49m\n\u001b[0;32m   1302\u001b[0m \u001b[43m        \u001b[49m\u001b[43mctypes\u001b[49m\u001b[38;5;241;43m.\u001b[39;49m\u001b[43mbyref\u001b[49m\u001b[43m(\u001b[49m\u001b[43mout_num_preds\u001b[49m\u001b[43m)\u001b[49m\u001b[43m,\u001b[49m\n\u001b[0;32m   1303\u001b[0m \u001b[43m        \u001b[49m\u001b[43mpreds\u001b[49m\u001b[38;5;241;43m.\u001b[39;49m\u001b[43mctypes\u001b[49m\u001b[38;5;241;43m.\u001b[39;49m\u001b[43mdata_as\u001b[49m\u001b[43m(\u001b[49m\u001b[43mctypes\u001b[49m\u001b[38;5;241;43m.\u001b[39;49m\u001b[43mPOINTER\u001b[49m\u001b[43m(\u001b[49m\u001b[43mctypes\u001b[49m\u001b[38;5;241;43m.\u001b[39;49m\u001b[43mc_double\u001b[49m\u001b[43m)\u001b[49m\u001b[43m)\u001b[49m\u001b[43m,\u001b[49m\n\u001b[0;32m   1304\u001b[0m \u001b[43m    \u001b[49m\u001b[43m)\u001b[49m\n\u001b[0;32m   1305\u001b[0m )\n\u001b[0;32m   1306\u001b[0m \u001b[38;5;28;01mif\u001b[39;00m n_preds \u001b[38;5;241m!=\u001b[39m out_num_preds\u001b[38;5;241m.\u001b[39mvalue:\n\u001b[0;32m   1307\u001b[0m     \u001b[38;5;28;01mraise\u001b[39;00m \u001b[38;5;167;01mValueError\u001b[39;00m(\u001b[38;5;124m\"\u001b[39m\u001b[38;5;124mWrong length for predict results\u001b[39m\u001b[38;5;124m\"\u001b[39m)\n",
      "\u001b[1;31mKeyboardInterrupt\u001b[0m: "
     ]
    }
   ],
   "source": [
    "explanation = lore_explanation_algorithm.explain(train_data.iloc[idx].values)\n",
    "explanation = format_explanation(explanation)"
   ]
  },
  {
   "cell_type": "markdown",
   "metadata": {},
   "source": [
    "Extracting rules from the tree"
   ]
  },
  {
   "cell_type": "code",
   "execution_count": 106,
   "metadata": {},
   "outputs": [
    {
     "data": {
      "text/html": [
       "\n",
       "                <style>\n",
       "                .red {\n",
       "                background-color:firebrick;\n",
       "                padding:3px 5px 3px 5px;\n",
       "                border-radius:5px;\n",
       "\n",
       "                color:white;\n",
       "                }\n",
       "                .rules{\n",
       "                    margin-top:10px;\n",
       "                    font-weight: 400;\n",
       "                }\n",
       "                .rule{\n",
       "                padding:5px 20px 5px 20px;\n",
       "                border-radius:5px;\n",
       "                margin-right:5px;\n",
       "                font-size:12px;\n",
       "                line-height:20px;\n",
       "                display: block;\n",
       "                margin-bottom: 10px;\n",
       "                width: fit-content;\n",
       "                \n",
       "                color:white;\n",
       "                background-color:firebrick;\n",
       "                opacity:0.8;\n",
       "                }\n",
       "                </style>\n",
       "                "
      ],
      "text/plain": [
       "<IPython.core.display.HTML object>"
      ]
     },
     "metadata": {},
     "output_type": "display_data"
    },
    {
     "data": {
      "text/html": [
       "\n",
       "            <h3>Why the predicted value for class <span class='red'>top_20</span> is <span class='red'>0</span> ?</h3>\n",
       "            "
      ],
      "text/plain": [
       "<IPython.core.display.HTML object>"
      ]
     },
     "metadata": {},
     "output_type": "display_data"
    },
    {
     "data": {
      "text/html": [
       "\n",
       "            <p>Because all the following conditions happen:</p>\n",
       "            "
      ],
      "text/plain": [
       "<IPython.core.display.HTML object>"
      ]
     },
     "metadata": {},
     "output_type": "display_data"
    },
    {
     "data": {
      "text/html": [
       "<p class='rules'><span class='rule'>position entropy <strong><=</strong> 1.67</span><span class='rule'>top 20 entropy <strong><=</strong> 0.24</span></p>"
      ],
      "text/plain": [
       "<IPython.core.display.HTML object>"
      ]
     },
     "metadata": {},
     "output_type": "display_data"
    }
   ],
   "source": [
    "rule = explanation.plotRules()"
   ]
  },
  {
   "cell_type": "markdown",
   "metadata": {},
   "source": [
    "Extracting counterfactual rules from the tree"
   ]
  },
  {
   "cell_type": "code",
   "execution_count": 103,
   "metadata": {},
   "outputs": [
    {
     "data": {
      "text/html": [
       "\n",
       "                <style>\n",
       "                .red {\n",
       "                background-color:firebrick;\n",
       "                padding:3px 5px 3px 5px;\n",
       "                border-radius:5px;\n",
       "                color:white;\n",
       "                }\n",
       "                .crules{\n",
       "                    margin-top:10px;\n",
       "                    font-weight: 400;\n",
       "                }\n",
       "                .crule{            \n",
       "                padding:5px 20px 5px 20px;\n",
       "                border-radius:5px;\n",
       "                margin-right:5px;\n",
       "                font-size:12px;\n",
       "                line-height:20px;\n",
       "                display: block;\n",
       "                margin-bottom: 10px;\n",
       "                width: fit-content;\n",
       "                \n",
       "                color:#202020;\n",
       "                background-color:gold;\n",
       "                }\n",
       "                </style>\n",
       "                "
      ],
      "text/plain": [
       "<IPython.core.display.HTML object>"
      ]
     },
     "metadata": {},
     "output_type": "display_data"
    },
    {
     "data": {
      "text/html": [
       "\n",
       "            <h3>The predicted value for class <span class='red'>top_20</span> is <span class='red'>0</span>.</h3>\n",
       "            <h3>It would have been:</h3>\n",
       "            "
      ],
      "text/plain": [
       "<IPython.core.display.HTML object>"
      ]
     },
     "metadata": {},
     "output_type": "display_data"
    },
    {
     "data": {
      "text/html": [
       "\n",
       "                <div class='crules'>\n",
       "                    <div>\n",
       "                        <h4><span class='red'>1</span> if the following condition holds</h4>\n",
       "                    </br><span class='crule'>climb total <= 1.72</span><span class='crule'>climb total > 1.57</span><span class='crule'>top 20 entropy > 1.00</span><span class='crule'>avg relative position <= 1.13</span>\n",
       "                    </div>\n",
       "                </div>\n",
       "            "
      ],
      "text/plain": [
       "<IPython.core.display.HTML object>"
      ]
     },
     "metadata": {},
     "output_type": "display_data"
    }
   ],
   "source": [
    "rule = explanation.plotCounterfactualRules()"
   ]
  },
  {
   "cell_type": "markdown",
   "metadata": {},
   "source": [
    "Local Fidelity (accuracy of the model w.r.t. the model, computed on the generated neighborhood)"
   ]
  },
  {
   "cell_type": "code",
   "execution_count": 104,
   "metadata": {},
   "outputs": [
    {
     "data": {
      "text/plain": [
       "0.994752138489018"
      ]
     },
     "execution_count": 104,
     "metadata": {},
     "output_type": "execute_result"
    }
   ],
   "source": [
    "explanation.expDict[\"fidelity\"]"
   ]
  },
  {
   "cell_type": "markdown",
   "metadata": {},
   "source": [
    "### Explaining False Positive Data: class 0, predicted 1"
   ]
  },
  {
   "cell_type": "code",
   "execution_count": 122,
   "metadata": {},
   "outputs": [
    {
     "name": "stdout",
     "output_type": "stream",
     "text": [
      "Indexes in training data with both train and predicted label being 0:\n",
      "[5, 13, 14, 20, 26, 29, 33, 50, 54, 55, 58, 74, 75, 85, 96, 101, 103, 120, 122, 132, 141, 151, 170, 176, 201, 203, 209, 219, 236, 241, 249, 252, 253, 261, 265, 267, 272, 279, 281, 303, 305, 323, 331, 335, 357, 359, 367, 372, 383, 398]\n"
     ]
    }
   ],
   "source": [
    "indexes = train_labels[(train_labels['top_20'] == 0) & (train_prediction == 1)].index.tolist()\n",
    "print(\"Indexes in training data with both train and predicted label being 0:\")\n",
    "print(indexes)"
   ]
  },
  {
   "cell_type": "code",
   "execution_count": 135,
   "metadata": {},
   "outputs": [
    {
     "name": "stdout",
     "output_type": "stream",
     "text": [
      "Train Label for index 201: 0\n",
      "Train Prediction for index 201: 1\n"
     ]
    }
   ],
   "source": [
    "random.seed(0)\n",
    "idx = random.choice(indexes)\n",
    "print(f\"Train Label for index {idx}: {train_labels.iloc[idx].values[0]}\")\n",
    "print(f\"Train Prediction for index {idx}: {train_prediction[idx]}\")\n"
   ]
  },
  {
   "cell_type": "code",
   "execution_count": 136,
   "metadata": {},
   "outputs": [],
   "source": [
    "explanation = lore_explanation_algorithm.explain(train_data.iloc[idx].values)\n",
    "explanation = format_explanation(explanation)"
   ]
  },
  {
   "cell_type": "markdown",
   "metadata": {},
   "source": [
    "Extracting rules from the tree"
   ]
  },
  {
   "cell_type": "code",
   "execution_count": 137,
   "metadata": {},
   "outputs": [
    {
     "data": {
      "text/html": [
       "\n",
       "                <style>\n",
       "                .red {\n",
       "                background-color:firebrick;\n",
       "                padding:3px 5px 3px 5px;\n",
       "                border-radius:5px;\n",
       "\n",
       "                color:white;\n",
       "                }\n",
       "                .rules{\n",
       "                    margin-top:10px;\n",
       "                    font-weight: 400;\n",
       "                }\n",
       "                .rule{\n",
       "                padding:5px 20px 5px 20px;\n",
       "                border-radius:5px;\n",
       "                margin-right:5px;\n",
       "                font-size:12px;\n",
       "                line-height:20px;\n",
       "                display: block;\n",
       "                margin-bottom: 10px;\n",
       "                width: fit-content;\n",
       "                \n",
       "                color:white;\n",
       "                background-color:firebrick;\n",
       "                opacity:0.8;\n",
       "                }\n",
       "                </style>\n",
       "                "
      ],
      "text/plain": [
       "<IPython.core.display.HTML object>"
      ]
     },
     "metadata": {},
     "output_type": "display_data"
    },
    {
     "data": {
      "text/html": [
       "\n",
       "            <h3>Why the predicted value for class <span class='red'>top_20</span> is <span class='red'>1</span> ?</h3>\n",
       "            "
      ],
      "text/plain": [
       "<IPython.core.display.HTML object>"
      ]
     },
     "metadata": {},
     "output_type": "display_data"
    },
    {
     "data": {
      "text/html": [
       "\n",
       "            <p>Because all the following conditions happen:</p>\n",
       "            "
      ],
      "text/plain": [
       "<IPython.core.display.HTML object>"
      ]
     },
     "metadata": {},
     "output_type": "display_data"
    },
    {
     "data": {
      "text/html": [
       "<p class='rules'><span class='rule'>top 20 entropy <strong><=</strong> 0.94</span><span class='rule'>top 20 entropy <strong>></strong> 0.92</span><span class='rule'>avg relative position <strong><=</strong> 0.44</span></p>"
      ],
      "text/plain": [
       "<IPython.core.display.HTML object>"
      ]
     },
     "metadata": {},
     "output_type": "display_data"
    }
   ],
   "source": [
    "rule = explanation.plotRules()"
   ]
  },
  {
   "cell_type": "markdown",
   "metadata": {},
   "source": [
    "Extracting counterfactual rules from the tree"
   ]
  },
  {
   "cell_type": "code",
   "execution_count": 138,
   "metadata": {},
   "outputs": [
    {
     "data": {
      "text/html": [
       "\n",
       "                <style>\n",
       "                .red {\n",
       "                background-color:firebrick;\n",
       "                padding:3px 5px 3px 5px;\n",
       "                border-radius:5px;\n",
       "                color:white;\n",
       "                }\n",
       "                .crules{\n",
       "                    margin-top:10px;\n",
       "                    font-weight: 400;\n",
       "                }\n",
       "                .crule{            \n",
       "                padding:5px 20px 5px 20px;\n",
       "                border-radius:5px;\n",
       "                margin-right:5px;\n",
       "                font-size:12px;\n",
       "                line-height:20px;\n",
       "                display: block;\n",
       "                margin-bottom: 10px;\n",
       "                width: fit-content;\n",
       "                \n",
       "                color:#202020;\n",
       "                background-color:gold;\n",
       "                }\n",
       "                </style>\n",
       "                "
      ],
      "text/plain": [
       "<IPython.core.display.HTML object>"
      ]
     },
     "metadata": {},
     "output_type": "display_data"
    },
    {
     "data": {
      "text/html": [
       "\n",
       "            <h3>The predicted value for class <span class='red'>top_20</span> is <span class='red'>1</span>.</h3>\n",
       "            <h3>It would have been:</h3>\n",
       "            "
      ],
      "text/plain": [
       "<IPython.core.display.HTML object>"
      ]
     },
     "metadata": {},
     "output_type": "display_data"
    },
    {
     "data": {
      "text/html": [
       "\n",
       "                <div class='crules'>\n",
       "                    <div>\n",
       "                        <h4><span class='red'>0</span> if the following condition holds</h4>\n",
       "                    </br><span class='crule'>top 20 entropy <= 0.94</span><span class='crule'>top 20 entropy > 0.92</span><span class='crule'>avg relative position > 0.44</span><span class='crule'>climb total <= 0.11</span><span class='crule'>position entropy <= 1.22</span>\n",
       "                    </div>\n",
       "                </div>\n",
       "            "
      ],
      "text/plain": [
       "<IPython.core.display.HTML object>"
      ]
     },
     "metadata": {},
     "output_type": "display_data"
    },
    {
     "data": {
      "text/html": [
       "\n",
       "                <div class='crules'>\n",
       "                    <div>\n",
       "                        <h4><span class='red'>0</span> if the following condition holds</h4>\n",
       "                    </br><span class='crule'>top 20 entropy <= -0.44</span><span class='crule'>position entropy <= -2.56</span>\n",
       "                    </div>\n",
       "                </div>\n",
       "            "
      ],
      "text/plain": [
       "<IPython.core.display.HTML object>"
      ]
     },
     "metadata": {},
     "output_type": "display_data"
    },
    {
     "data": {
      "text/html": [
       "\n",
       "                <div class='crules'>\n",
       "                    <div>\n",
       "                        <h4><span class='red'>0</span> if the following condition holds</h4>\n",
       "                    </br><span class='crule'>top 20 entropy > 1.72</span><span class='crule'>position entropy <= -2.01</span><span class='crule'>position entropy > -5.09</span>\n",
       "                    </div>\n",
       "                </div>\n",
       "            "
      ],
      "text/plain": [
       "<IPython.core.display.HTML object>"
      ]
     },
     "metadata": {},
     "output_type": "display_data"
    },
    {
     "data": {
      "text/html": [
       "\n",
       "                <div class='crules'>\n",
       "                    <div>\n",
       "                        <h4><span class='red'>0</span> if the following condition holds</h4>\n",
       "                    </br><span class='crule'>top 20 entropy <= 1.72</span><span class='crule'>top 20 entropy > 1.54</span><span class='crule'>cyclist age <= -7.48</span>\n",
       "                    </div>\n",
       "                </div>\n",
       "            "
      ],
      "text/plain": [
       "<IPython.core.display.HTML object>"
      ]
     },
     "metadata": {},
     "output_type": "display_data"
    },
    {
     "data": {
      "text/html": [
       "\n",
       "                <div class='crules'>\n",
       "                    <div>\n",
       "                        <h4><span class='red'>0</span> if the following condition holds</h4>\n",
       "                    </br><span class='crule'>top 20 entropy <= -0.12</span><span class='crule'>top 20 entropy > -0.44</span><span class='crule'>position entropy <= -2.56</span><span class='crule'>cyclist experience > -1.04</span>\n",
       "                    </div>\n",
       "                </div>\n",
       "            "
      ],
      "text/plain": [
       "<IPython.core.display.HTML object>"
      ]
     },
     "metadata": {},
     "output_type": "display_data"
    }
   ],
   "source": [
    "rule = explanation.plotCounterfactualRules()"
   ]
  },
  {
   "cell_type": "markdown",
   "metadata": {},
   "source": [
    "Local Fidelity (accuracy of the model w.r.t. the model, computed on the generated neighborhood)"
   ]
  },
  {
   "cell_type": "code",
   "execution_count": 139,
   "metadata": {},
   "outputs": [
    {
     "data": {
      "text/plain": [
       "0.9956556307764404"
      ]
     },
     "execution_count": 139,
     "metadata": {},
     "output_type": "execute_result"
    }
   ],
   "source": [
    "explanation.expDict[\"fidelity\"]"
   ]
  },
  {
   "cell_type": "markdown",
   "metadata": {},
   "source": [
    "### Explaining True Positive Data: class 1, predicted 1"
   ]
  },
  {
   "cell_type": "code",
   "execution_count": 154,
   "metadata": {},
   "outputs": [
    {
     "name": "stdout",
     "output_type": "stream",
     "text": [
      "Indexes in training data with both train and predicted label being 0:\n",
      "[4, 12, 47, 93, 95, 107, 126, 128, 129, 131, 150, 175, 178, 182, 189, 196, 205, 207, 211, 229, 242, 247, 258, 263, 273, 284, 292, 297, 301, 308, 322, 346, 351, 353, 358, 382, 399]\n"
     ]
    }
   ],
   "source": [
    "indexes = train_labels[(train_labels['top_20'] == 1) & (train_prediction == 1)].index.tolist()\n",
    "print(\"Indexes in training data with both train and predicted label being 0:\")\n",
    "print(indexes)"
   ]
  },
  {
   "cell_type": "code",
   "execution_count": 164,
   "metadata": {},
   "outputs": [
    {
     "name": "stdout",
     "output_type": "stream",
     "text": [
      "Train Label for index 182: 1\n",
      "Train Prediction for index 182: 1\n"
     ]
    }
   ],
   "source": [
    "random.seed(0)\n",
    "idx = random.choice(indexes)\n",
    "print(f\"Train Label for index {idx}: {train_labels.iloc[idx].values[0]}\")\n",
    "print(f\"Train Prediction for index {idx}: {train_prediction[idx]}\")\n"
   ]
  },
  {
   "cell_type": "code",
   "execution_count": 166,
   "metadata": {},
   "outputs": [],
   "source": [
    "explanation = lore_explanation_algorithm.explain(train_data.iloc[idx].values)\n",
    "explanation = format_explanation(explanation)"
   ]
  },
  {
   "cell_type": "markdown",
   "metadata": {},
   "source": [
    "Extracting rules from the tree"
   ]
  },
  {
   "cell_type": "code",
   "execution_count": 167,
   "metadata": {},
   "outputs": [
    {
     "data": {
      "text/html": [
       "\n",
       "                <style>\n",
       "                .red {\n",
       "                background-color:firebrick;\n",
       "                padding:3px 5px 3px 5px;\n",
       "                border-radius:5px;\n",
       "\n",
       "                color:white;\n",
       "                }\n",
       "                .rules{\n",
       "                    margin-top:10px;\n",
       "                    font-weight: 400;\n",
       "                }\n",
       "                .rule{\n",
       "                padding:5px 20px 5px 20px;\n",
       "                border-radius:5px;\n",
       "                margin-right:5px;\n",
       "                font-size:12px;\n",
       "                line-height:20px;\n",
       "                display: block;\n",
       "                margin-bottom: 10px;\n",
       "                width: fit-content;\n",
       "                \n",
       "                color:white;\n",
       "                background-color:firebrick;\n",
       "                opacity:0.8;\n",
       "                }\n",
       "                </style>\n",
       "                "
      ],
      "text/plain": [
       "<IPython.core.display.HTML object>"
      ]
     },
     "metadata": {},
     "output_type": "display_data"
    },
    {
     "data": {
      "text/html": [
       "\n",
       "            <h3>Why the predicted value for class <span class='red'>top_20</span> is <span class='red'>1</span> ?</h3>\n",
       "            "
      ],
      "text/plain": [
       "<IPython.core.display.HTML object>"
      ]
     },
     "metadata": {},
     "output_type": "display_data"
    },
    {
     "data": {
      "text/html": [
       "\n",
       "            <p>Because all the following conditions happen:</p>\n",
       "            "
      ],
      "text/plain": [
       "<IPython.core.display.HTML object>"
      ]
     },
     "metadata": {},
     "output_type": "display_data"
    },
    {
     "data": {
      "text/html": [
       "<p class='rules'><span class='rule'>top 20 entropy <strong><=</strong> 0.91</span><span class='rule'>top 20 entropy <strong>></strong> 0.60</span><span class='rule'>avg relative position <strong><=</strong> 0.37</span></p>"
      ],
      "text/plain": [
       "<IPython.core.display.HTML object>"
      ]
     },
     "metadata": {},
     "output_type": "display_data"
    }
   ],
   "source": [
    "rule = explanation.plotRules()"
   ]
  },
  {
   "cell_type": "markdown",
   "metadata": {},
   "source": [
    "Extracting counterfactual rules from the tree"
   ]
  },
  {
   "cell_type": "code",
   "execution_count": 144,
   "metadata": {},
   "outputs": [
    {
     "data": {
      "text/html": [
       "\n",
       "                <style>\n",
       "                .red {\n",
       "                background-color:firebrick;\n",
       "                padding:3px 5px 3px 5px;\n",
       "                border-radius:5px;\n",
       "                color:white;\n",
       "                }\n",
       "                .crules{\n",
       "                    margin-top:10px;\n",
       "                    font-weight: 400;\n",
       "                }\n",
       "                .crule{            \n",
       "                padding:5px 20px 5px 20px;\n",
       "                border-radius:5px;\n",
       "                margin-right:5px;\n",
       "                font-size:12px;\n",
       "                line-height:20px;\n",
       "                display: block;\n",
       "                margin-bottom: 10px;\n",
       "                width: fit-content;\n",
       "                \n",
       "                color:#202020;\n",
       "                background-color:gold;\n",
       "                }\n",
       "                </style>\n",
       "                "
      ],
      "text/plain": [
       "<IPython.core.display.HTML object>"
      ]
     },
     "metadata": {},
     "output_type": "display_data"
    },
    {
     "data": {
      "text/html": [
       "\n",
       "            <h3>The predicted value for class <span class='red'>top_20</span> is <span class='red'>0</span>.</h3>\n",
       "            <h3>It would have been:</h3>\n",
       "            "
      ],
      "text/plain": [
       "<IPython.core.display.HTML object>"
      ]
     },
     "metadata": {},
     "output_type": "display_data"
    },
    {
     "data": {
      "text/html": [
       "\n",
       "                <div class='crules'>\n",
       "                    <div>\n",
       "                        <h4><span class='red'>1</span> if the following condition holds</h4>\n",
       "                    </br><span class='crule'>climb total <= 1.57</span><span class='crule'>position entropy > 1.69</span><span class='crule'>cyclist experience <= 2.17</span>\n",
       "                    </div>\n",
       "                </div>\n",
       "            "
      ],
      "text/plain": [
       "<IPython.core.display.HTML object>"
      ]
     },
     "metadata": {},
     "output_type": "display_data"
    },
    {
     "data": {
      "text/html": [
       "\n",
       "                <div class='crules'>\n",
       "                    <div>\n",
       "                        <h4><span class='red'>1</span> if the following condition holds</h4>\n",
       "                    </br><span class='crule'>climb total <= -0.69</span><span class='crule'>climb total > -2.83</span><span class='crule'>position entropy <= -2.44</span><span class='crule'>top 20 entropy <= 0.19</span><span class='crule'>top 20 entropy > 0.04</span><span class='crule'>avg relative position <= -11.50</span><span class='crule'>cyclist level > -0.90</span>\n",
       "                    </div>\n",
       "                </div>\n",
       "            "
      ],
      "text/plain": [
       "<IPython.core.display.HTML object>"
      ]
     },
     "metadata": {},
     "output_type": "display_data"
    },
    {
     "data": {
      "text/html": [
       "\n",
       "                <div class='crules'>\n",
       "                    <div>\n",
       "                        <h4><span class='red'>1</span> if the following condition holds</h4>\n",
       "                    </br><span class='crule'>climb total <= -0.69</span><span class='crule'>climb total > -2.83</span><span class='crule'>position entropy <= -2.44</span><span class='crule'>top 20 entropy <= 1.41</span><span class='crule'>top 20 entropy > 0.29</span><span class='crule'>avg relative position <= -11.50</span><span class='crule'>cyclist level > -0.90</span>\n",
       "                    </div>\n",
       "                </div>\n",
       "            "
      ],
      "text/plain": [
       "<IPython.core.display.HTML object>"
      ]
     },
     "metadata": {},
     "output_type": "display_data"
    },
    {
     "data": {
      "text/html": [
       "\n",
       "                <div class='crules'>\n",
       "                    <div>\n",
       "                        <h4><span class='red'>1</span> if the following condition holds</h4>\n",
       "                    </br><span class='crule'>climb total <= -0.45</span><span class='crule'>climb total > -0.56</span><span class='crule'>top 20 entropy > -0.44</span><span class='crule'>avg relative position <= 2.67</span>\n",
       "                    </div>\n",
       "                </div>\n",
       "            "
      ],
      "text/plain": [
       "<IPython.core.display.HTML object>"
      ]
     },
     "metadata": {},
     "output_type": "display_data"
    }
   ],
   "source": [
    "rule = explanation.plotCounterfactualRules()"
   ]
  },
  {
   "cell_type": "markdown",
   "metadata": {},
   "source": [
    "Local Fidelity (accuracy of the model w.r.t. the model, computed on the generated neighborhood)"
   ]
  },
  {
   "cell_type": "code",
   "execution_count": 145,
   "metadata": {},
   "outputs": [
    {
     "data": {
      "text/plain": [
       "0.9948257297025164"
      ]
     },
     "execution_count": 145,
     "metadata": {},
     "output_type": "execute_result"
    }
   ],
   "source": [
    "explanation.expDict[\"fidelity\"]"
   ]
  },
  {
   "cell_type": "markdown",
   "metadata": {},
   "source": [
    "### Explaining False Negative Data: class 1, predicted 0"
   ]
  },
  {
   "cell_type": "code",
   "execution_count": 146,
   "metadata": {},
   "outputs": [
    {
     "name": "stdout",
     "output_type": "stream",
     "text": [
      "Indexes in training data with both train and predicted label being 0:\n",
      "[21, 23, 37, 39, 44, 45, 71, 76, 78, 87, 94, 102, 133, 161, 171, 185, 213, 218, 274, 280, 291, 307, 312, 313, 315, 317, 355, 376, 392, 393]\n"
     ]
    }
   ],
   "source": [
    "indexes = train_labels[(train_labels['top_20'] == 1) & (train_prediction == 0)].index.tolist()\n",
    "print(\"Indexes in training data with both train and predicted label being 0:\")\n",
    "print(indexes)"
   ]
  },
  {
   "cell_type": "code",
   "execution_count": 147,
   "metadata": {},
   "outputs": [
    {
     "name": "stdout",
     "output_type": "stream",
     "text": [
      "Train Label for index 376: 1\n",
      "Train Prediction for index 376: 0\n"
     ]
    }
   ],
   "source": [
    "random.seed(0)\n",
    "idx = random.choice(indexes)\n",
    "print(f\"Train Label for index {idx}: {train_labels.iloc[idx].values[0]}\")\n",
    "print(f\"Train Prediction for index {idx}: {train_prediction[idx]}\")\n"
   ]
  },
  {
   "cell_type": "code",
   "execution_count": 148,
   "metadata": {},
   "outputs": [],
   "source": [
    "explanation = lore_explanation_algorithm.explain(train_data.iloc[idx].values)\n",
    "explanation = format_explanation(explanation)"
   ]
  },
  {
   "cell_type": "markdown",
   "metadata": {},
   "source": [
    "Extracting rules from the tree"
   ]
  },
  {
   "cell_type": "code",
   "execution_count": 149,
   "metadata": {},
   "outputs": [
    {
     "data": {
      "text/html": [
       "\n",
       "                <style>\n",
       "                .red {\n",
       "                background-color:firebrick;\n",
       "                padding:3px 5px 3px 5px;\n",
       "                border-radius:5px;\n",
       "\n",
       "                color:white;\n",
       "                }\n",
       "                .rules{\n",
       "                    margin-top:10px;\n",
       "                    font-weight: 400;\n",
       "                }\n",
       "                .rule{\n",
       "                padding:5px 20px 5px 20px;\n",
       "                border-radius:5px;\n",
       "                margin-right:5px;\n",
       "                font-size:12px;\n",
       "                line-height:20px;\n",
       "                display: block;\n",
       "                margin-bottom: 10px;\n",
       "                width: fit-content;\n",
       "                \n",
       "                color:white;\n",
       "                background-color:firebrick;\n",
       "                opacity:0.8;\n",
       "                }\n",
       "                </style>\n",
       "                "
      ],
      "text/plain": [
       "<IPython.core.display.HTML object>"
      ]
     },
     "metadata": {},
     "output_type": "display_data"
    },
    {
     "data": {
      "text/html": [
       "\n",
       "            <h3>Why the predicted value for class <span class='red'>top_20</span> is <span class='red'>0</span> ?</h3>\n",
       "            "
      ],
      "text/plain": [
       "<IPython.core.display.HTML object>"
      ]
     },
     "metadata": {},
     "output_type": "display_data"
    },
    {
     "data": {
      "text/html": [
       "\n",
       "            <p>Because all the following conditions happen:</p>\n",
       "            "
      ],
      "text/plain": [
       "<IPython.core.display.HTML object>"
      ]
     },
     "metadata": {},
     "output_type": "display_data"
    },
    {
     "data": {
      "text/html": [
       "<p class='rules'><span class='rule'>position entropy <strong><=</strong> 1.67</span><span class='rule'>top 20 entropy <strong><=</strong> 0.30</span></p>"
      ],
      "text/plain": [
       "<IPython.core.display.HTML object>"
      ]
     },
     "metadata": {},
     "output_type": "display_data"
    }
   ],
   "source": [
    "rule = explanation.plotRules()"
   ]
  },
  {
   "cell_type": "markdown",
   "metadata": {},
   "source": [
    "Extracting counterfactual rules from the tree"
   ]
  },
  {
   "cell_type": "code",
   "execution_count": 150,
   "metadata": {},
   "outputs": [
    {
     "data": {
      "text/html": [
       "\n",
       "                <style>\n",
       "                .red {\n",
       "                background-color:firebrick;\n",
       "                padding:3px 5px 3px 5px;\n",
       "                border-radius:5px;\n",
       "                color:white;\n",
       "                }\n",
       "                .crules{\n",
       "                    margin-top:10px;\n",
       "                    font-weight: 400;\n",
       "                }\n",
       "                .crule{            \n",
       "                padding:5px 20px 5px 20px;\n",
       "                border-radius:5px;\n",
       "                margin-right:5px;\n",
       "                font-size:12px;\n",
       "                line-height:20px;\n",
       "                display: block;\n",
       "                margin-bottom: 10px;\n",
       "                width: fit-content;\n",
       "                \n",
       "                color:#202020;\n",
       "                background-color:gold;\n",
       "                }\n",
       "                </style>\n",
       "                "
      ],
      "text/plain": [
       "<IPython.core.display.HTML object>"
      ]
     },
     "metadata": {},
     "output_type": "display_data"
    },
    {
     "data": {
      "text/html": [
       "\n",
       "            <h3>The predicted value for class <span class='red'>top_20</span> is <span class='red'>0</span>.</h3>\n",
       "            <h3>It would have been:</h3>\n",
       "            "
      ],
      "text/plain": [
       "<IPython.core.display.HTML object>"
      ]
     },
     "metadata": {},
     "output_type": "display_data"
    },
    {
     "data": {
      "text/html": [
       "\n",
       "                <div class='crules'>\n",
       "                    <div>\n",
       "                        <h4><span class='red'>1</span> if the following condition holds</h4>\n",
       "                    </br><span class='crule'>position entropy > 1.67</span><span class='crule'>avg relative position <= 0.49</span><span class='crule'>top 20 entropy <= 1.78</span>\n",
       "                    </div>\n",
       "                </div>\n",
       "            "
      ],
      "text/plain": [
       "<IPython.core.display.HTML object>"
      ]
     },
     "metadata": {},
     "output_type": "display_data"
    }
   ],
   "source": [
    "rule = explanation.plotCounterfactualRules()"
   ]
  },
  {
   "cell_type": "markdown",
   "metadata": {},
   "source": [
    "Local Fidelity (accuracy of the model w.r.t. the model, computed on the generated neighborhood)"
   ]
  },
  {
   "cell_type": "code",
   "execution_count": 151,
   "metadata": {},
   "outputs": [
    {
     "data": {
      "text/plain": [
       "0.9853391710341138"
      ]
     },
     "execution_count": 151,
     "metadata": {},
     "output_type": "execute_result"
    }
   ],
   "source": [
    "explanation.expDict[\"fidelity\"]"
   ]
  },
  {
   "cell_type": "markdown",
   "metadata": {},
   "source": [
    "## **LIME**"
   ]
  },
  {
   "cell_type": "code",
   "execution_count": 35,
   "metadata": {},
   "outputs": [],
   "source": [
    "from interpret import set_visualize_provider\n",
    "from interpret.provider import InlineProvider\n",
    "from interpret import show\n",
    "from tqdm import tqdm\n",
    "\n",
    "\n",
    "set_visualize_provider(InlineProvider())"
   ]
  },
  {
   "cell_type": "code",
   "execution_count": 36,
   "metadata": {},
   "outputs": [
    {
     "name": "stdout",
     "output_type": "stream",
     "text": [
      "Index(['_url', 'name', 'cyclist', 'cyclist_team', 'duration'], dtype='object')\n"
     ]
    }
   ],
   "source": [
    "non_numeric_features = train_df.select_dtypes(include=['object']).columns\n",
    "print(non_numeric_features)"
   ]
  },
  {
   "cell_type": "markdown",
   "metadata": {},
   "source": [
    "Only numerical features are taken"
   ]
  },
  {
   "cell_type": "code",
   "execution_count": 37,
   "metadata": {},
   "outputs": [],
   "source": [
    "train_data = train_data.select_dtypes(include=[np.number])  "
   ]
  },
  {
   "cell_type": "code",
   "execution_count": 38,
   "metadata": {},
   "outputs": [
    {
     "name": "stderr",
     "output_type": "stream",
     "text": [
      "100%|██████████| 400/400 [00:00<?, ?it/s]\n"
     ]
    }
   ],
   "source": [
    "from interpret.blackbox import LimeTabular\n",
    "from sklearn.preprocessing import StandardScaler\n",
    "explanations = dict()\n",
    "\n",
    "train_data_norm = pd.DataFrame(scaler.transform(train_data), columns=train_data.columns)\n",
    "\n",
    "lime_explanation_algorithm = LimeTabular(best_model, train_data_norm)\n",
    "explanations[\"lime\"] = np.array([np.array(e[\"scores\"])\n",
    "                                 for e in tqdm(lime_explanation_algorithm.explain_local(train_data_norm, train_labels)._internal_obj[\"specific\"])])"
   ]
  },
  {
   "cell_type": "code",
   "execution_count": 39,
   "metadata": {},
   "outputs": [
    {
     "data": {
      "text/html": [
       "<div>\n",
       "<style scoped>\n",
       "    .dataframe tbody tr th:only-of-type {\n",
       "        vertical-align: middle;\n",
       "    }\n",
       "\n",
       "    .dataframe tbody tr th {\n",
       "        vertical-align: top;\n",
       "    }\n",
       "\n",
       "    .dataframe thead th {\n",
       "        text-align: right;\n",
       "    }\n",
       "</style>\n",
       "<table border=\"1\" class=\"dataframe\">\n",
       "  <thead>\n",
       "    <tr style=\"text-align: right;\">\n",
       "      <th></th>\n",
       "      <th>feature</th>\n",
       "      <th>noise_magnitude</th>\n",
       "      <th>performance</th>\n",
       "      <th>algorithm</th>\n",
       "      <th>difference</th>\n",
       "    </tr>\n",
       "  </thead>\n",
       "  <tbody>\n",
       "    <tr>\n",
       "      <th>0</th>\n",
       "      <td>climb_total</td>\n",
       "      <td>0.2</td>\n",
       "      <td>0.158122</td>\n",
       "      <td>lime</td>\n",
       "      <td>-0.604264</td>\n",
       "    </tr>\n",
       "    <tr>\n",
       "      <th>1</th>\n",
       "      <td>climb_total</td>\n",
       "      <td>0.3</td>\n",
       "      <td>0.158122</td>\n",
       "      <td>lime</td>\n",
       "      <td>-0.604264</td>\n",
       "    </tr>\n",
       "    <tr>\n",
       "      <th>2</th>\n",
       "      <td>climb_total</td>\n",
       "      <td>0.4</td>\n",
       "      <td>0.158122</td>\n",
       "      <td>lime</td>\n",
       "      <td>-0.604264</td>\n",
       "    </tr>\n",
       "    <tr>\n",
       "      <th>3</th>\n",
       "      <td>climb_total</td>\n",
       "      <td>0.5</td>\n",
       "      <td>0.158122</td>\n",
       "      <td>lime</td>\n",
       "      <td>-0.604264</td>\n",
       "    </tr>\n",
       "    <tr>\n",
       "      <th>4</th>\n",
       "      <td>climb_total</td>\n",
       "      <td>0.6</td>\n",
       "      <td>0.158122</td>\n",
       "      <td>lime</td>\n",
       "      <td>-0.604264</td>\n",
       "    </tr>\n",
       "    <tr>\n",
       "      <th>5</th>\n",
       "      <td>climb_total</td>\n",
       "      <td>0.7</td>\n",
       "      <td>0.153621</td>\n",
       "      <td>lime</td>\n",
       "      <td>-0.608765</td>\n",
       "    </tr>\n",
       "    <tr>\n",
       "      <th>6</th>\n",
       "      <td>climb_total</td>\n",
       "      <td>0.8</td>\n",
       "      <td>0.153621</td>\n",
       "      <td>lime</td>\n",
       "      <td>-0.608765</td>\n",
       "    </tr>\n",
       "    <tr>\n",
       "      <th>7</th>\n",
       "      <td>climb_total</td>\n",
       "      <td>0.9</td>\n",
       "      <td>0.162599</td>\n",
       "      <td>lime</td>\n",
       "      <td>-0.599788</td>\n",
       "    </tr>\n",
       "    <tr>\n",
       "      <th>8</th>\n",
       "      <td>avg_relative_position</td>\n",
       "      <td>0.2</td>\n",
       "      <td>0.153621</td>\n",
       "      <td>lime</td>\n",
       "      <td>-0.608765</td>\n",
       "    </tr>\n",
       "    <tr>\n",
       "      <th>9</th>\n",
       "      <td>avg_relative_position</td>\n",
       "      <td>0.3</td>\n",
       "      <td>0.153621</td>\n",
       "      <td>lime</td>\n",
       "      <td>-0.608765</td>\n",
       "    </tr>\n",
       "    <tr>\n",
       "      <th>10</th>\n",
       "      <td>avg_relative_position</td>\n",
       "      <td>0.4</td>\n",
       "      <td>0.153621</td>\n",
       "      <td>lime</td>\n",
       "      <td>-0.608765</td>\n",
       "    </tr>\n",
       "    <tr>\n",
       "      <th>11</th>\n",
       "      <td>avg_relative_position</td>\n",
       "      <td>0.5</td>\n",
       "      <td>0.153621</td>\n",
       "      <td>lime</td>\n",
       "      <td>-0.608765</td>\n",
       "    </tr>\n",
       "    <tr>\n",
       "      <th>12</th>\n",
       "      <td>avg_relative_position</td>\n",
       "      <td>0.6</td>\n",
       "      <td>0.158122</td>\n",
       "      <td>lime</td>\n",
       "      <td>-0.604264</td>\n",
       "    </tr>\n",
       "    <tr>\n",
       "      <th>13</th>\n",
       "      <td>avg_relative_position</td>\n",
       "      <td>0.7</td>\n",
       "      <td>0.158122</td>\n",
       "      <td>lime</td>\n",
       "      <td>-0.604264</td>\n",
       "    </tr>\n",
       "    <tr>\n",
       "      <th>14</th>\n",
       "      <td>avg_relative_position</td>\n",
       "      <td>0.8</td>\n",
       "      <td>0.162599</td>\n",
       "      <td>lime</td>\n",
       "      <td>-0.599788</td>\n",
       "    </tr>\n",
       "    <tr>\n",
       "      <th>15</th>\n",
       "      <td>avg_relative_position</td>\n",
       "      <td>0.9</td>\n",
       "      <td>0.162599</td>\n",
       "      <td>lime</td>\n",
       "      <td>-0.599788</td>\n",
       "    </tr>\n",
       "    <tr>\n",
       "      <th>16</th>\n",
       "      <td>top_20_entropy</td>\n",
       "      <td>0.2</td>\n",
       "      <td>0.149096</td>\n",
       "      <td>lime</td>\n",
       "      <td>-0.613290</td>\n",
       "    </tr>\n",
       "    <tr>\n",
       "      <th>17</th>\n",
       "      <td>top_20_entropy</td>\n",
       "      <td>0.3</td>\n",
       "      <td>0.144547</td>\n",
       "      <td>lime</td>\n",
       "      <td>-0.617839</td>\n",
       "    </tr>\n",
       "    <tr>\n",
       "      <th>18</th>\n",
       "      <td>top_20_entropy</td>\n",
       "      <td>0.4</td>\n",
       "      <td>0.144547</td>\n",
       "      <td>lime</td>\n",
       "      <td>-0.617839</td>\n",
       "    </tr>\n",
       "    <tr>\n",
       "      <th>19</th>\n",
       "      <td>top_20_entropy</td>\n",
       "      <td>0.5</td>\n",
       "      <td>0.139973</td>\n",
       "      <td>lime</td>\n",
       "      <td>-0.622414</td>\n",
       "    </tr>\n",
       "    <tr>\n",
       "      <th>20</th>\n",
       "      <td>top_20_entropy</td>\n",
       "      <td>0.6</td>\n",
       "      <td>0.144547</td>\n",
       "      <td>lime</td>\n",
       "      <td>-0.617839</td>\n",
       "    </tr>\n",
       "    <tr>\n",
       "      <th>21</th>\n",
       "      <td>top_20_entropy</td>\n",
       "      <td>0.7</td>\n",
       "      <td>0.144547</td>\n",
       "      <td>lime</td>\n",
       "      <td>-0.617839</td>\n",
       "    </tr>\n",
       "    <tr>\n",
       "      <th>22</th>\n",
       "      <td>top_20_entropy</td>\n",
       "      <td>0.8</td>\n",
       "      <td>0.144547</td>\n",
       "      <td>lime</td>\n",
       "      <td>-0.617839</td>\n",
       "    </tr>\n",
       "    <tr>\n",
       "      <th>23</th>\n",
       "      <td>top_20_entropy</td>\n",
       "      <td>0.9</td>\n",
       "      <td>0.144547</td>\n",
       "      <td>lime</td>\n",
       "      <td>-0.617839</td>\n",
       "    </tr>\n",
       "    <tr>\n",
       "      <th>24</th>\n",
       "      <td>position_entropy</td>\n",
       "      <td>0.2</td>\n",
       "      <td>0.158122</td>\n",
       "      <td>lime</td>\n",
       "      <td>-0.604264</td>\n",
       "    </tr>\n",
       "    <tr>\n",
       "      <th>25</th>\n",
       "      <td>position_entropy</td>\n",
       "      <td>0.3</td>\n",
       "      <td>0.158122</td>\n",
       "      <td>lime</td>\n",
       "      <td>-0.604264</td>\n",
       "    </tr>\n",
       "    <tr>\n",
       "      <th>26</th>\n",
       "      <td>position_entropy</td>\n",
       "      <td>0.4</td>\n",
       "      <td>0.162599</td>\n",
       "      <td>lime</td>\n",
       "      <td>-0.599788</td>\n",
       "    </tr>\n",
       "    <tr>\n",
       "      <th>27</th>\n",
       "      <td>position_entropy</td>\n",
       "      <td>0.5</td>\n",
       "      <td>0.162599</td>\n",
       "      <td>lime</td>\n",
       "      <td>-0.599788</td>\n",
       "    </tr>\n",
       "    <tr>\n",
       "      <th>28</th>\n",
       "      <td>position_entropy</td>\n",
       "      <td>0.6</td>\n",
       "      <td>0.162599</td>\n",
       "      <td>lime</td>\n",
       "      <td>-0.599788</td>\n",
       "    </tr>\n",
       "    <tr>\n",
       "      <th>29</th>\n",
       "      <td>position_entropy</td>\n",
       "      <td>0.7</td>\n",
       "      <td>0.162599</td>\n",
       "      <td>lime</td>\n",
       "      <td>-0.599788</td>\n",
       "    </tr>\n",
       "    <tr>\n",
       "      <th>30</th>\n",
       "      <td>position_entropy</td>\n",
       "      <td>0.8</td>\n",
       "      <td>0.167051</td>\n",
       "      <td>lime</td>\n",
       "      <td>-0.595335</td>\n",
       "    </tr>\n",
       "    <tr>\n",
       "      <th>31</th>\n",
       "      <td>position_entropy</td>\n",
       "      <td>0.9</td>\n",
       "      <td>0.167051</td>\n",
       "      <td>lime</td>\n",
       "      <td>-0.595335</td>\n",
       "    </tr>\n",
       "    <tr>\n",
       "      <th>32</th>\n",
       "      <td>cyclist_level</td>\n",
       "      <td>0.2</td>\n",
       "      <td>0.158122</td>\n",
       "      <td>lime</td>\n",
       "      <td>-0.604264</td>\n",
       "    </tr>\n",
       "    <tr>\n",
       "      <th>33</th>\n",
       "      <td>cyclist_level</td>\n",
       "      <td>0.3</td>\n",
       "      <td>0.158122</td>\n",
       "      <td>lime</td>\n",
       "      <td>-0.604264</td>\n",
       "    </tr>\n",
       "    <tr>\n",
       "      <th>34</th>\n",
       "      <td>cyclist_level</td>\n",
       "      <td>0.4</td>\n",
       "      <td>0.162599</td>\n",
       "      <td>lime</td>\n",
       "      <td>-0.599788</td>\n",
       "    </tr>\n",
       "    <tr>\n",
       "      <th>35</th>\n",
       "      <td>cyclist_level</td>\n",
       "      <td>0.5</td>\n",
       "      <td>0.162599</td>\n",
       "      <td>lime</td>\n",
       "      <td>-0.599788</td>\n",
       "    </tr>\n",
       "    <tr>\n",
       "      <th>36</th>\n",
       "      <td>cyclist_level</td>\n",
       "      <td>0.6</td>\n",
       "      <td>0.167051</td>\n",
       "      <td>lime</td>\n",
       "      <td>-0.595335</td>\n",
       "    </tr>\n",
       "    <tr>\n",
       "      <th>37</th>\n",
       "      <td>cyclist_level</td>\n",
       "      <td>0.7</td>\n",
       "      <td>0.162599</td>\n",
       "      <td>lime</td>\n",
       "      <td>-0.599788</td>\n",
       "    </tr>\n",
       "    <tr>\n",
       "      <th>38</th>\n",
       "      <td>cyclist_level</td>\n",
       "      <td>0.8</td>\n",
       "      <td>0.162599</td>\n",
       "      <td>lime</td>\n",
       "      <td>-0.599788</td>\n",
       "    </tr>\n",
       "    <tr>\n",
       "      <th>39</th>\n",
       "      <td>cyclist_level</td>\n",
       "      <td>0.9</td>\n",
       "      <td>0.162599</td>\n",
       "      <td>lime</td>\n",
       "      <td>-0.599788</td>\n",
       "    </tr>\n",
       "    <tr>\n",
       "      <th>40</th>\n",
       "      <td>cyclist_experience</td>\n",
       "      <td>0.2</td>\n",
       "      <td>0.158122</td>\n",
       "      <td>lime</td>\n",
       "      <td>-0.604264</td>\n",
       "    </tr>\n",
       "    <tr>\n",
       "      <th>41</th>\n",
       "      <td>cyclist_experience</td>\n",
       "      <td>0.3</td>\n",
       "      <td>0.162599</td>\n",
       "      <td>lime</td>\n",
       "      <td>-0.599788</td>\n",
       "    </tr>\n",
       "    <tr>\n",
       "      <th>42</th>\n",
       "      <td>cyclist_experience</td>\n",
       "      <td>0.4</td>\n",
       "      <td>0.167051</td>\n",
       "      <td>lime</td>\n",
       "      <td>-0.595335</td>\n",
       "    </tr>\n",
       "    <tr>\n",
       "      <th>43</th>\n",
       "      <td>cyclist_experience</td>\n",
       "      <td>0.5</td>\n",
       "      <td>0.171481</td>\n",
       "      <td>lime</td>\n",
       "      <td>-0.590906</td>\n",
       "    </tr>\n",
       "    <tr>\n",
       "      <th>44</th>\n",
       "      <td>cyclist_experience</td>\n",
       "      <td>0.6</td>\n",
       "      <td>0.167051</td>\n",
       "      <td>lime</td>\n",
       "      <td>-0.595335</td>\n",
       "    </tr>\n",
       "    <tr>\n",
       "      <th>45</th>\n",
       "      <td>cyclist_experience</td>\n",
       "      <td>0.7</td>\n",
       "      <td>0.167051</td>\n",
       "      <td>lime</td>\n",
       "      <td>-0.595335</td>\n",
       "    </tr>\n",
       "    <tr>\n",
       "      <th>46</th>\n",
       "      <td>cyclist_experience</td>\n",
       "      <td>0.8</td>\n",
       "      <td>0.171481</td>\n",
       "      <td>lime</td>\n",
       "      <td>-0.590906</td>\n",
       "    </tr>\n",
       "    <tr>\n",
       "      <th>47</th>\n",
       "      <td>cyclist_experience</td>\n",
       "      <td>0.9</td>\n",
       "      <td>0.171481</td>\n",
       "      <td>lime</td>\n",
       "      <td>-0.590906</td>\n",
       "    </tr>\n",
       "    <tr>\n",
       "      <th>48</th>\n",
       "      <td>cyclist_age</td>\n",
       "      <td>0.2</td>\n",
       "      <td>0.220620</td>\n",
       "      <td>lime</td>\n",
       "      <td>-0.541766</td>\n",
       "    </tr>\n",
       "    <tr>\n",
       "      <th>49</th>\n",
       "      <td>cyclist_age</td>\n",
       "      <td>0.3</td>\n",
       "      <td>0.250209</td>\n",
       "      <td>lime</td>\n",
       "      <td>-0.512177</td>\n",
       "    </tr>\n",
       "    <tr>\n",
       "      <th>50</th>\n",
       "      <td>cyclist_age</td>\n",
       "      <td>0.4</td>\n",
       "      <td>0.231117</td>\n",
       "      <td>lime</td>\n",
       "      <td>-0.531270</td>\n",
       "    </tr>\n",
       "    <tr>\n",
       "      <th>51</th>\n",
       "      <td>cyclist_age</td>\n",
       "      <td>0.5</td>\n",
       "      <td>0.262109</td>\n",
       "      <td>lime</td>\n",
       "      <td>-0.500277</td>\n",
       "    </tr>\n",
       "    <tr>\n",
       "      <th>52</th>\n",
       "      <td>cyclist_age</td>\n",
       "      <td>0.6</td>\n",
       "      <td>0.239831</td>\n",
       "      <td>lime</td>\n",
       "      <td>-0.522555</td>\n",
       "    </tr>\n",
       "    <tr>\n",
       "      <th>53</th>\n",
       "      <td>cyclist_age</td>\n",
       "      <td>0.7</td>\n",
       "      <td>0.251789</td>\n",
       "      <td>lime</td>\n",
       "      <td>-0.510597</td>\n",
       "    </tr>\n",
       "    <tr>\n",
       "      <th>54</th>\n",
       "      <td>cyclist_age</td>\n",
       "      <td>0.8</td>\n",
       "      <td>0.251789</td>\n",
       "      <td>lime</td>\n",
       "      <td>-0.510597</td>\n",
       "    </tr>\n",
       "    <tr>\n",
       "      <th>55</th>\n",
       "      <td>cyclist_age</td>\n",
       "      <td>0.9</td>\n",
       "      <td>0.245020</td>\n",
       "      <td>lime</td>\n",
       "      <td>-0.517366</td>\n",
       "    </tr>\n",
       "  </tbody>\n",
       "</table>\n",
       "</div>"
      ],
      "text/plain": [
       "                  feature  noise_magnitude  performance algorithm  difference\n",
       "0             climb_total              0.2     0.158122      lime   -0.604264\n",
       "1             climb_total              0.3     0.158122      lime   -0.604264\n",
       "2             climb_total              0.4     0.158122      lime   -0.604264\n",
       "3             climb_total              0.5     0.158122      lime   -0.604264\n",
       "4             climb_total              0.6     0.158122      lime   -0.604264\n",
       "5             climb_total              0.7     0.153621      lime   -0.608765\n",
       "6             climb_total              0.8     0.153621      lime   -0.608765\n",
       "7             climb_total              0.9     0.162599      lime   -0.599788\n",
       "8   avg_relative_position              0.2     0.153621      lime   -0.608765\n",
       "9   avg_relative_position              0.3     0.153621      lime   -0.608765\n",
       "10  avg_relative_position              0.4     0.153621      lime   -0.608765\n",
       "11  avg_relative_position              0.5     0.153621      lime   -0.608765\n",
       "12  avg_relative_position              0.6     0.158122      lime   -0.604264\n",
       "13  avg_relative_position              0.7     0.158122      lime   -0.604264\n",
       "14  avg_relative_position              0.8     0.162599      lime   -0.599788\n",
       "15  avg_relative_position              0.9     0.162599      lime   -0.599788\n",
       "16         top_20_entropy              0.2     0.149096      lime   -0.613290\n",
       "17         top_20_entropy              0.3     0.144547      lime   -0.617839\n",
       "18         top_20_entropy              0.4     0.144547      lime   -0.617839\n",
       "19         top_20_entropy              0.5     0.139973      lime   -0.622414\n",
       "20         top_20_entropy              0.6     0.144547      lime   -0.617839\n",
       "21         top_20_entropy              0.7     0.144547      lime   -0.617839\n",
       "22         top_20_entropy              0.8     0.144547      lime   -0.617839\n",
       "23         top_20_entropy              0.9     0.144547      lime   -0.617839\n",
       "24       position_entropy              0.2     0.158122      lime   -0.604264\n",
       "25       position_entropy              0.3     0.158122      lime   -0.604264\n",
       "26       position_entropy              0.4     0.162599      lime   -0.599788\n",
       "27       position_entropy              0.5     0.162599      lime   -0.599788\n",
       "28       position_entropy              0.6     0.162599      lime   -0.599788\n",
       "29       position_entropy              0.7     0.162599      lime   -0.599788\n",
       "30       position_entropy              0.8     0.167051      lime   -0.595335\n",
       "31       position_entropy              0.9     0.167051      lime   -0.595335\n",
       "32          cyclist_level              0.2     0.158122      lime   -0.604264\n",
       "33          cyclist_level              0.3     0.158122      lime   -0.604264\n",
       "34          cyclist_level              0.4     0.162599      lime   -0.599788\n",
       "35          cyclist_level              0.5     0.162599      lime   -0.599788\n",
       "36          cyclist_level              0.6     0.167051      lime   -0.595335\n",
       "37          cyclist_level              0.7     0.162599      lime   -0.599788\n",
       "38          cyclist_level              0.8     0.162599      lime   -0.599788\n",
       "39          cyclist_level              0.9     0.162599      lime   -0.599788\n",
       "40     cyclist_experience              0.2     0.158122      lime   -0.604264\n",
       "41     cyclist_experience              0.3     0.162599      lime   -0.599788\n",
       "42     cyclist_experience              0.4     0.167051      lime   -0.595335\n",
       "43     cyclist_experience              0.5     0.171481      lime   -0.590906\n",
       "44     cyclist_experience              0.6     0.167051      lime   -0.595335\n",
       "45     cyclist_experience              0.7     0.167051      lime   -0.595335\n",
       "46     cyclist_experience              0.8     0.171481      lime   -0.590906\n",
       "47     cyclist_experience              0.9     0.171481      lime   -0.590906\n",
       "48            cyclist_age              0.2     0.220620      lime   -0.541766\n",
       "49            cyclist_age              0.3     0.250209      lime   -0.512177\n",
       "50            cyclist_age              0.4     0.231117      lime   -0.531270\n",
       "51            cyclist_age              0.5     0.262109      lime   -0.500277\n",
       "52            cyclist_age              0.6     0.239831      lime   -0.522555\n",
       "53            cyclist_age              0.7     0.251789      lime   -0.510597\n",
       "54            cyclist_age              0.8     0.251789      lime   -0.510597\n",
       "55            cyclist_age              0.9     0.245020      lime   -0.517366"
      ]
     },
     "execution_count": 39,
     "metadata": {},
     "output_type": "execute_result"
    }
   ],
   "source": [
    "import pandas\n",
    "\n",
    "\n",
    "metric = \"f1-score\"\n",
    "corruption_validation_lime = pandas.DataFrame([\n",
    "    (feature, noise_magnitude, validations_by_feature_and_noise[(feature, noise_magnitude)][\"weighted avg\"][metric], \"lime\")\n",
    "    for feature, noise_magnitude in validations_by_feature_and_noise\n",
    "    ],\n",
    "    columns=[\"feature\", \"noise_magnitude\", \"performance\", \"algorithm\"]\n",
    ")\n",
    "corruption_validation_lime[\"difference\"] = corruption_validation_lime[\"performance\"] - validation[\"weighted avg\"][metric]\n",
    "\n",
    "corruption_validation = pandas.concat((corruption_validation, corruption_validation_lime))\n",
    "corruption_validation_lime"
   ]
  },
  {
   "cell_type": "markdown",
   "metadata": {},
   "source": [
    "This analysis highlights which features have the most impact on the model's performance in the presence of noise and which are more robust.\n",
    "\n",
    "- **Cyclist_age**: Shows significant fluctuations, with notable peaks and drops in performance as noise increases.\n",
    "\n",
    "- **Cyclist_experience**: Changes are less pronounced compared to cyclist_age, but performance improves at certain noise levels, suggesting atypical behavior.\n",
    "\n",
    "- **Position_entropy** and **top_20_entropy**: Performance remains stable across most noise levels, indicating relative robustness.\n",
    "\n",
    "- **Climb_total**, **avg_relative_position**, and **cyclist_level**: Performance remains virtually unchanged regardless of noise.\n",
    "\n",
    "Features exhibit varying sensitivity to noise, with some significantly impacting model performance, while others remain robust or unaffected."
   ]
  },
  {
   "cell_type": "markdown",
   "metadata": {},
   "source": [
    "### Explaining data with 0 label and prediction being 0"
   ]
  },
  {
   "cell_type": "markdown",
   "metadata": {},
   "source": [
    "Nota: the data is the same instances explained in LORE"
   ]
  },
  {
   "cell_type": "code",
   "execution_count": 40,
   "metadata": {},
   "outputs": [
    {
     "name": "stdout",
     "output_type": "stream",
     "text": [
      "Label:  0\n",
      "Predicted value:  0\n"
     ]
    },
    {
     "data": {
      "application/vnd.plotly.v1+json": {
       "config": {
        "plotlyServerURL": "https://plot.ly"
       },
       "data": [
        {
         "marker": {
          "color": [
           "#1f77b4",
           "#ff7f0e",
           "#ff7f0e",
           "#1f77b4",
           "#1f77b4",
           "#ff7f0e",
           "#ff7f0e",
           "#808080"
          ]
         },
         "orientation": "h",
         "type": "bar",
         "x": [
          -0.0023655017695625065,
          0.0026492334813455723,
          0.0043050259959249255,
          -0.00560368789788827,
          -0.00679714238019468,
          0.03606634998925167,
          0.03991982883341612,
          0.23585518549153925
         ],
         "y": [
          "cyclist_age (22.00)",
          "climb_total (0.01)",
          "position_entropy (2.58)",
          "cyclist_level (189.54)",
          "cyclist_experience (6.00)",
          "avg_relative_position (0.37)",
          "top_20_entropy (0.65)",
          "Intercept"
         ]
        }
       ],
       "layout": {
        "template": {
         "data": {
          "bar": [
           {
            "error_x": {
             "color": "#2a3f5f"
            },
            "error_y": {
             "color": "#2a3f5f"
            },
            "marker": {
             "line": {
              "color": "#E5ECF6",
              "width": 0.5
             },
             "pattern": {
              "fillmode": "overlay",
              "size": 10,
              "solidity": 0.2
             }
            },
            "type": "bar"
           }
          ],
          "barpolar": [
           {
            "marker": {
             "line": {
              "color": "#E5ECF6",
              "width": 0.5
             },
             "pattern": {
              "fillmode": "overlay",
              "size": 10,
              "solidity": 0.2
             }
            },
            "type": "barpolar"
           }
          ],
          "carpet": [
           {
            "aaxis": {
             "endlinecolor": "#2a3f5f",
             "gridcolor": "white",
             "linecolor": "white",
             "minorgridcolor": "white",
             "startlinecolor": "#2a3f5f"
            },
            "baxis": {
             "endlinecolor": "#2a3f5f",
             "gridcolor": "white",
             "linecolor": "white",
             "minorgridcolor": "white",
             "startlinecolor": "#2a3f5f"
            },
            "type": "carpet"
           }
          ],
          "choropleth": [
           {
            "colorbar": {
             "outlinewidth": 0,
             "ticks": ""
            },
            "type": "choropleth"
           }
          ],
          "contour": [
           {
            "colorbar": {
             "outlinewidth": 0,
             "ticks": ""
            },
            "colorscale": [
             [
              0,
              "#0d0887"
             ],
             [
              0.1111111111111111,
              "#46039f"
             ],
             [
              0.2222222222222222,
              "#7201a8"
             ],
             [
              0.3333333333333333,
              "#9c179e"
             ],
             [
              0.4444444444444444,
              "#bd3786"
             ],
             [
              0.5555555555555556,
              "#d8576b"
             ],
             [
              0.6666666666666666,
              "#ed7953"
             ],
             [
              0.7777777777777778,
              "#fb9f3a"
             ],
             [
              0.8888888888888888,
              "#fdca26"
             ],
             [
              1,
              "#f0f921"
             ]
            ],
            "type": "contour"
           }
          ],
          "contourcarpet": [
           {
            "colorbar": {
             "outlinewidth": 0,
             "ticks": ""
            },
            "type": "contourcarpet"
           }
          ],
          "heatmap": [
           {
            "colorbar": {
             "outlinewidth": 0,
             "ticks": ""
            },
            "colorscale": [
             [
              0,
              "#0d0887"
             ],
             [
              0.1111111111111111,
              "#46039f"
             ],
             [
              0.2222222222222222,
              "#7201a8"
             ],
             [
              0.3333333333333333,
              "#9c179e"
             ],
             [
              0.4444444444444444,
              "#bd3786"
             ],
             [
              0.5555555555555556,
              "#d8576b"
             ],
             [
              0.6666666666666666,
              "#ed7953"
             ],
             [
              0.7777777777777778,
              "#fb9f3a"
             ],
             [
              0.8888888888888888,
              "#fdca26"
             ],
             [
              1,
              "#f0f921"
             ]
            ],
            "type": "heatmap"
           }
          ],
          "heatmapgl": [
           {
            "colorbar": {
             "outlinewidth": 0,
             "ticks": ""
            },
            "colorscale": [
             [
              0,
              "#0d0887"
             ],
             [
              0.1111111111111111,
              "#46039f"
             ],
             [
              0.2222222222222222,
              "#7201a8"
             ],
             [
              0.3333333333333333,
              "#9c179e"
             ],
             [
              0.4444444444444444,
              "#bd3786"
             ],
             [
              0.5555555555555556,
              "#d8576b"
             ],
             [
              0.6666666666666666,
              "#ed7953"
             ],
             [
              0.7777777777777778,
              "#fb9f3a"
             ],
             [
              0.8888888888888888,
              "#fdca26"
             ],
             [
              1,
              "#f0f921"
             ]
            ],
            "type": "heatmapgl"
           }
          ],
          "histogram": [
           {
            "marker": {
             "pattern": {
              "fillmode": "overlay",
              "size": 10,
              "solidity": 0.2
             }
            },
            "type": "histogram"
           }
          ],
          "histogram2d": [
           {
            "colorbar": {
             "outlinewidth": 0,
             "ticks": ""
            },
            "colorscale": [
             [
              0,
              "#0d0887"
             ],
             [
              0.1111111111111111,
              "#46039f"
             ],
             [
              0.2222222222222222,
              "#7201a8"
             ],
             [
              0.3333333333333333,
              "#9c179e"
             ],
             [
              0.4444444444444444,
              "#bd3786"
             ],
             [
              0.5555555555555556,
              "#d8576b"
             ],
             [
              0.6666666666666666,
              "#ed7953"
             ],
             [
              0.7777777777777778,
              "#fb9f3a"
             ],
             [
              0.8888888888888888,
              "#fdca26"
             ],
             [
              1,
              "#f0f921"
             ]
            ],
            "type": "histogram2d"
           }
          ],
          "histogram2dcontour": [
           {
            "colorbar": {
             "outlinewidth": 0,
             "ticks": ""
            },
            "colorscale": [
             [
              0,
              "#0d0887"
             ],
             [
              0.1111111111111111,
              "#46039f"
             ],
             [
              0.2222222222222222,
              "#7201a8"
             ],
             [
              0.3333333333333333,
              "#9c179e"
             ],
             [
              0.4444444444444444,
              "#bd3786"
             ],
             [
              0.5555555555555556,
              "#d8576b"
             ],
             [
              0.6666666666666666,
              "#ed7953"
             ],
             [
              0.7777777777777778,
              "#fb9f3a"
             ],
             [
              0.8888888888888888,
              "#fdca26"
             ],
             [
              1,
              "#f0f921"
             ]
            ],
            "type": "histogram2dcontour"
           }
          ],
          "mesh3d": [
           {
            "colorbar": {
             "outlinewidth": 0,
             "ticks": ""
            },
            "type": "mesh3d"
           }
          ],
          "parcoords": [
           {
            "line": {
             "colorbar": {
              "outlinewidth": 0,
              "ticks": ""
             }
            },
            "type": "parcoords"
           }
          ],
          "pie": [
           {
            "automargin": true,
            "type": "pie"
           }
          ],
          "scatter": [
           {
            "fillpattern": {
             "fillmode": "overlay",
             "size": 10,
             "solidity": 0.2
            },
            "type": "scatter"
           }
          ],
          "scatter3d": [
           {
            "line": {
             "colorbar": {
              "outlinewidth": 0,
              "ticks": ""
             }
            },
            "marker": {
             "colorbar": {
              "outlinewidth": 0,
              "ticks": ""
             }
            },
            "type": "scatter3d"
           }
          ],
          "scattercarpet": [
           {
            "marker": {
             "colorbar": {
              "outlinewidth": 0,
              "ticks": ""
             }
            },
            "type": "scattercarpet"
           }
          ],
          "scattergeo": [
           {
            "marker": {
             "colorbar": {
              "outlinewidth": 0,
              "ticks": ""
             }
            },
            "type": "scattergeo"
           }
          ],
          "scattergl": [
           {
            "marker": {
             "colorbar": {
              "outlinewidth": 0,
              "ticks": ""
             }
            },
            "type": "scattergl"
           }
          ],
          "scattermapbox": [
           {
            "marker": {
             "colorbar": {
              "outlinewidth": 0,
              "ticks": ""
             }
            },
            "type": "scattermapbox"
           }
          ],
          "scatterpolar": [
           {
            "marker": {
             "colorbar": {
              "outlinewidth": 0,
              "ticks": ""
             }
            },
            "type": "scatterpolar"
           }
          ],
          "scatterpolargl": [
           {
            "marker": {
             "colorbar": {
              "outlinewidth": 0,
              "ticks": ""
             }
            },
            "type": "scatterpolargl"
           }
          ],
          "scatterternary": [
           {
            "marker": {
             "colorbar": {
              "outlinewidth": 0,
              "ticks": ""
             }
            },
            "type": "scatterternary"
           }
          ],
          "surface": [
           {
            "colorbar": {
             "outlinewidth": 0,
             "ticks": ""
            },
            "colorscale": [
             [
              0,
              "#0d0887"
             ],
             [
              0.1111111111111111,
              "#46039f"
             ],
             [
              0.2222222222222222,
              "#7201a8"
             ],
             [
              0.3333333333333333,
              "#9c179e"
             ],
             [
              0.4444444444444444,
              "#bd3786"
             ],
             [
              0.5555555555555556,
              "#d8576b"
             ],
             [
              0.6666666666666666,
              "#ed7953"
             ],
             [
              0.7777777777777778,
              "#fb9f3a"
             ],
             [
              0.8888888888888888,
              "#fdca26"
             ],
             [
              1,
              "#f0f921"
             ]
            ],
            "type": "surface"
           }
          ],
          "table": [
           {
            "cells": {
             "fill": {
              "color": "#EBF0F8"
             },
             "line": {
              "color": "white"
             }
            },
            "header": {
             "fill": {
              "color": "#C8D4E3"
             },
             "line": {
              "color": "white"
             }
            },
            "type": "table"
           }
          ]
         },
         "layout": {
          "annotationdefaults": {
           "arrowcolor": "#2a3f5f",
           "arrowhead": 0,
           "arrowwidth": 1
          },
          "autotypenumbers": "strict",
          "coloraxis": {
           "colorbar": {
            "outlinewidth": 0,
            "ticks": ""
           }
          },
          "colorscale": {
           "diverging": [
            [
             0,
             "#8e0152"
            ],
            [
             0.1,
             "#c51b7d"
            ],
            [
             0.2,
             "#de77ae"
            ],
            [
             0.3,
             "#f1b6da"
            ],
            [
             0.4,
             "#fde0ef"
            ],
            [
             0.5,
             "#f7f7f7"
            ],
            [
             0.6,
             "#e6f5d0"
            ],
            [
             0.7,
             "#b8e186"
            ],
            [
             0.8,
             "#7fbc41"
            ],
            [
             0.9,
             "#4d9221"
            ],
            [
             1,
             "#276419"
            ]
           ],
           "sequential": [
            [
             0,
             "#0d0887"
            ],
            [
             0.1111111111111111,
             "#46039f"
            ],
            [
             0.2222222222222222,
             "#7201a8"
            ],
            [
             0.3333333333333333,
             "#9c179e"
            ],
            [
             0.4444444444444444,
             "#bd3786"
            ],
            [
             0.5555555555555556,
             "#d8576b"
            ],
            [
             0.6666666666666666,
             "#ed7953"
            ],
            [
             0.7777777777777778,
             "#fb9f3a"
            ],
            [
             0.8888888888888888,
             "#fdca26"
            ],
            [
             1,
             "#f0f921"
            ]
           ],
           "sequentialminus": [
            [
             0,
             "#0d0887"
            ],
            [
             0.1111111111111111,
             "#46039f"
            ],
            [
             0.2222222222222222,
             "#7201a8"
            ],
            [
             0.3333333333333333,
             "#9c179e"
            ],
            [
             0.4444444444444444,
             "#bd3786"
            ],
            [
             0.5555555555555556,
             "#d8576b"
            ],
            [
             0.6666666666666666,
             "#ed7953"
            ],
            [
             0.7777777777777778,
             "#fb9f3a"
            ],
            [
             0.8888888888888888,
             "#fdca26"
            ],
            [
             1,
             "#f0f921"
            ]
           ]
          },
          "colorway": [
           "#636efa",
           "#EF553B",
           "#00cc96",
           "#ab63fa",
           "#FFA15A",
           "#19d3f3",
           "#FF6692",
           "#B6E880",
           "#FF97FF",
           "#FECB52"
          ],
          "font": {
           "color": "#2a3f5f"
          },
          "geo": {
           "bgcolor": "white",
           "lakecolor": "white",
           "landcolor": "#E5ECF6",
           "showlakes": true,
           "showland": true,
           "subunitcolor": "white"
          },
          "hoverlabel": {
           "align": "left"
          },
          "hovermode": "closest",
          "mapbox": {
           "style": "light"
          },
          "paper_bgcolor": "white",
          "plot_bgcolor": "#E5ECF6",
          "polar": {
           "angularaxis": {
            "gridcolor": "white",
            "linecolor": "white",
            "ticks": ""
           },
           "bgcolor": "#E5ECF6",
           "radialaxis": {
            "gridcolor": "white",
            "linecolor": "white",
            "ticks": ""
           }
          },
          "scene": {
           "xaxis": {
            "backgroundcolor": "#E5ECF6",
            "gridcolor": "white",
            "gridwidth": 2,
            "linecolor": "white",
            "showbackground": true,
            "ticks": "",
            "zerolinecolor": "white"
           },
           "yaxis": {
            "backgroundcolor": "#E5ECF6",
            "gridcolor": "white",
            "gridwidth": 2,
            "linecolor": "white",
            "showbackground": true,
            "ticks": "",
            "zerolinecolor": "white"
           },
           "zaxis": {
            "backgroundcolor": "#E5ECF6",
            "gridcolor": "white",
            "gridwidth": 2,
            "linecolor": "white",
            "showbackground": true,
            "ticks": "",
            "zerolinecolor": "white"
           }
          },
          "shapedefaults": {
           "line": {
            "color": "#2a3f5f"
           }
          },
          "ternary": {
           "aaxis": {
            "gridcolor": "white",
            "linecolor": "white",
            "ticks": ""
           },
           "baxis": {
            "gridcolor": "white",
            "linecolor": "white",
            "ticks": ""
           },
           "bgcolor": "#E5ECF6",
           "caxis": {
            "gridcolor": "white",
            "linecolor": "white",
            "ticks": ""
           }
          },
          "title": {
           "x": 0.05
          },
          "xaxis": {
           "automargin": true,
           "gridcolor": "white",
           "linecolor": "white",
           "ticks": "",
           "title": {
            "standoff": 15
           },
           "zerolinecolor": "white",
           "zerolinewidth": 2
          },
          "yaxis": {
           "automargin": true,
           "gridcolor": "white",
           "linecolor": "white",
           "ticks": "",
           "title": {
            "standoff": 15
           },
           "zerolinecolor": "white",
           "zerolinewidth": 2
          }
         }
        },
        "title": {
         "text": "Predicted: 0.265"
        },
        "xaxis": {
         "range": [
          -0.23585518549153925,
          0.23585518549153925
         ],
         "title": {
          "text": ""
         }
        },
        "yaxis": {
         "automargin": true,
         "dtick": 1,
         "title": {
          "text": ""
         }
        }
       }
      }
     },
     "metadata": {},
     "output_type": "display_data"
    }
   ],
   "source": [
    "instance_index = 73\n",
    "print(\"Label: \",test_labels.iloc[instance_index].values[0])\n",
    "print(\"Predicted value: \", test_prediction[instance_index])\n",
    "\n",
    "instance = test_data.iloc[[instance_index]]\n",
    "\n",
    "explanation_0 = lime_explanation_algorithm.explain_local(instance)\n",
    "explanation_0.visualize(0)"
   ]
  },
  {
   "cell_type": "markdown",
   "metadata": {},
   "source": [
    "### Explaining data with 0 label and prediction being 1"
   ]
  },
  {
   "cell_type": "markdown",
   "metadata": {},
   "source": [
    "Nota: the data is the same instances explained in LORE"
   ]
  },
  {
   "cell_type": "code",
   "execution_count": 41,
   "metadata": {},
   "outputs": [
    {
     "name": "stdout",
     "output_type": "stream",
     "text": [
      "Label:  0\n",
      "Predicted value:  1\n"
     ]
    },
    {
     "data": {
      "application/vnd.plotly.v1+json": {
       "config": {
        "plotlyServerURL": "https://plot.ly"
       },
       "data": [
        {
         "marker": {
          "color": [
           "#1f77b4",
           "#ff7f0e",
           "#1f77b4",
           "#1f77b4",
           "#1f77b4",
           "#ff7f0e",
           "#1f77b4",
           "#808080"
          ]
         },
         "orientation": "h",
         "type": "bar",
         "x": [
          -0.0000031475027242041126,
          0.0002478880608701548,
          -0.0011553248255528055,
          -0.0015380184119495237,
          -0.003857431933904579,
          0.03870118746974862,
          -0.07534984549849323,
          0.2640128456871622
         ],
         "y": [
          "climb_total (2.43)",
          "cyclist_level (2399.68)",
          "cyclist_experience (85.00)",
          "cyclist_age (25.00)",
          "position_entropy (5.77)",
          "avg_relative_position (0.56)",
          "top_20_entropy (0.84)",
          "Intercept"
         ]
        }
       ],
       "layout": {
        "template": {
         "data": {
          "bar": [
           {
            "error_x": {
             "color": "#2a3f5f"
            },
            "error_y": {
             "color": "#2a3f5f"
            },
            "marker": {
             "line": {
              "color": "#E5ECF6",
              "width": 0.5
             },
             "pattern": {
              "fillmode": "overlay",
              "size": 10,
              "solidity": 0.2
             }
            },
            "type": "bar"
           }
          ],
          "barpolar": [
           {
            "marker": {
             "line": {
              "color": "#E5ECF6",
              "width": 0.5
             },
             "pattern": {
              "fillmode": "overlay",
              "size": 10,
              "solidity": 0.2
             }
            },
            "type": "barpolar"
           }
          ],
          "carpet": [
           {
            "aaxis": {
             "endlinecolor": "#2a3f5f",
             "gridcolor": "white",
             "linecolor": "white",
             "minorgridcolor": "white",
             "startlinecolor": "#2a3f5f"
            },
            "baxis": {
             "endlinecolor": "#2a3f5f",
             "gridcolor": "white",
             "linecolor": "white",
             "minorgridcolor": "white",
             "startlinecolor": "#2a3f5f"
            },
            "type": "carpet"
           }
          ],
          "choropleth": [
           {
            "colorbar": {
             "outlinewidth": 0,
             "ticks": ""
            },
            "type": "choropleth"
           }
          ],
          "contour": [
           {
            "colorbar": {
             "outlinewidth": 0,
             "ticks": ""
            },
            "colorscale": [
             [
              0,
              "#0d0887"
             ],
             [
              0.1111111111111111,
              "#46039f"
             ],
             [
              0.2222222222222222,
              "#7201a8"
             ],
             [
              0.3333333333333333,
              "#9c179e"
             ],
             [
              0.4444444444444444,
              "#bd3786"
             ],
             [
              0.5555555555555556,
              "#d8576b"
             ],
             [
              0.6666666666666666,
              "#ed7953"
             ],
             [
              0.7777777777777778,
              "#fb9f3a"
             ],
             [
              0.8888888888888888,
              "#fdca26"
             ],
             [
              1,
              "#f0f921"
             ]
            ],
            "type": "contour"
           }
          ],
          "contourcarpet": [
           {
            "colorbar": {
             "outlinewidth": 0,
             "ticks": ""
            },
            "type": "contourcarpet"
           }
          ],
          "heatmap": [
           {
            "colorbar": {
             "outlinewidth": 0,
             "ticks": ""
            },
            "colorscale": [
             [
              0,
              "#0d0887"
             ],
             [
              0.1111111111111111,
              "#46039f"
             ],
             [
              0.2222222222222222,
              "#7201a8"
             ],
             [
              0.3333333333333333,
              "#9c179e"
             ],
             [
              0.4444444444444444,
              "#bd3786"
             ],
             [
              0.5555555555555556,
              "#d8576b"
             ],
             [
              0.6666666666666666,
              "#ed7953"
             ],
             [
              0.7777777777777778,
              "#fb9f3a"
             ],
             [
              0.8888888888888888,
              "#fdca26"
             ],
             [
              1,
              "#f0f921"
             ]
            ],
            "type": "heatmap"
           }
          ],
          "heatmapgl": [
           {
            "colorbar": {
             "outlinewidth": 0,
             "ticks": ""
            },
            "colorscale": [
             [
              0,
              "#0d0887"
             ],
             [
              0.1111111111111111,
              "#46039f"
             ],
             [
              0.2222222222222222,
              "#7201a8"
             ],
             [
              0.3333333333333333,
              "#9c179e"
             ],
             [
              0.4444444444444444,
              "#bd3786"
             ],
             [
              0.5555555555555556,
              "#d8576b"
             ],
             [
              0.6666666666666666,
              "#ed7953"
             ],
             [
              0.7777777777777778,
              "#fb9f3a"
             ],
             [
              0.8888888888888888,
              "#fdca26"
             ],
             [
              1,
              "#f0f921"
             ]
            ],
            "type": "heatmapgl"
           }
          ],
          "histogram": [
           {
            "marker": {
             "pattern": {
              "fillmode": "overlay",
              "size": 10,
              "solidity": 0.2
             }
            },
            "type": "histogram"
           }
          ],
          "histogram2d": [
           {
            "colorbar": {
             "outlinewidth": 0,
             "ticks": ""
            },
            "colorscale": [
             [
              0,
              "#0d0887"
             ],
             [
              0.1111111111111111,
              "#46039f"
             ],
             [
              0.2222222222222222,
              "#7201a8"
             ],
             [
              0.3333333333333333,
              "#9c179e"
             ],
             [
              0.4444444444444444,
              "#bd3786"
             ],
             [
              0.5555555555555556,
              "#d8576b"
             ],
             [
              0.6666666666666666,
              "#ed7953"
             ],
             [
              0.7777777777777778,
              "#fb9f3a"
             ],
             [
              0.8888888888888888,
              "#fdca26"
             ],
             [
              1,
              "#f0f921"
             ]
            ],
            "type": "histogram2d"
           }
          ],
          "histogram2dcontour": [
           {
            "colorbar": {
             "outlinewidth": 0,
             "ticks": ""
            },
            "colorscale": [
             [
              0,
              "#0d0887"
             ],
             [
              0.1111111111111111,
              "#46039f"
             ],
             [
              0.2222222222222222,
              "#7201a8"
             ],
             [
              0.3333333333333333,
              "#9c179e"
             ],
             [
              0.4444444444444444,
              "#bd3786"
             ],
             [
              0.5555555555555556,
              "#d8576b"
             ],
             [
              0.6666666666666666,
              "#ed7953"
             ],
             [
              0.7777777777777778,
              "#fb9f3a"
             ],
             [
              0.8888888888888888,
              "#fdca26"
             ],
             [
              1,
              "#f0f921"
             ]
            ],
            "type": "histogram2dcontour"
           }
          ],
          "mesh3d": [
           {
            "colorbar": {
             "outlinewidth": 0,
             "ticks": ""
            },
            "type": "mesh3d"
           }
          ],
          "parcoords": [
           {
            "line": {
             "colorbar": {
              "outlinewidth": 0,
              "ticks": ""
             }
            },
            "type": "parcoords"
           }
          ],
          "pie": [
           {
            "automargin": true,
            "type": "pie"
           }
          ],
          "scatter": [
           {
            "fillpattern": {
             "fillmode": "overlay",
             "size": 10,
             "solidity": 0.2
            },
            "type": "scatter"
           }
          ],
          "scatter3d": [
           {
            "line": {
             "colorbar": {
              "outlinewidth": 0,
              "ticks": ""
             }
            },
            "marker": {
             "colorbar": {
              "outlinewidth": 0,
              "ticks": ""
             }
            },
            "type": "scatter3d"
           }
          ],
          "scattercarpet": [
           {
            "marker": {
             "colorbar": {
              "outlinewidth": 0,
              "ticks": ""
             }
            },
            "type": "scattercarpet"
           }
          ],
          "scattergeo": [
           {
            "marker": {
             "colorbar": {
              "outlinewidth": 0,
              "ticks": ""
             }
            },
            "type": "scattergeo"
           }
          ],
          "scattergl": [
           {
            "marker": {
             "colorbar": {
              "outlinewidth": 0,
              "ticks": ""
             }
            },
            "type": "scattergl"
           }
          ],
          "scattermapbox": [
           {
            "marker": {
             "colorbar": {
              "outlinewidth": 0,
              "ticks": ""
             }
            },
            "type": "scattermapbox"
           }
          ],
          "scatterpolar": [
           {
            "marker": {
             "colorbar": {
              "outlinewidth": 0,
              "ticks": ""
             }
            },
            "type": "scatterpolar"
           }
          ],
          "scatterpolargl": [
           {
            "marker": {
             "colorbar": {
              "outlinewidth": 0,
              "ticks": ""
             }
            },
            "type": "scatterpolargl"
           }
          ],
          "scatterternary": [
           {
            "marker": {
             "colorbar": {
              "outlinewidth": 0,
              "ticks": ""
             }
            },
            "type": "scatterternary"
           }
          ],
          "surface": [
           {
            "colorbar": {
             "outlinewidth": 0,
             "ticks": ""
            },
            "colorscale": [
             [
              0,
              "#0d0887"
             ],
             [
              0.1111111111111111,
              "#46039f"
             ],
             [
              0.2222222222222222,
              "#7201a8"
             ],
             [
              0.3333333333333333,
              "#9c179e"
             ],
             [
              0.4444444444444444,
              "#bd3786"
             ],
             [
              0.5555555555555556,
              "#d8576b"
             ],
             [
              0.6666666666666666,
              "#ed7953"
             ],
             [
              0.7777777777777778,
              "#fb9f3a"
             ],
             [
              0.8888888888888888,
              "#fdca26"
             ],
             [
              1,
              "#f0f921"
             ]
            ],
            "type": "surface"
           }
          ],
          "table": [
           {
            "cells": {
             "fill": {
              "color": "#EBF0F8"
             },
             "line": {
              "color": "white"
             }
            },
            "header": {
             "fill": {
              "color": "#C8D4E3"
             },
             "line": {
              "color": "white"
             }
            },
            "type": "table"
           }
          ]
         },
         "layout": {
          "annotationdefaults": {
           "arrowcolor": "#2a3f5f",
           "arrowhead": 0,
           "arrowwidth": 1
          },
          "autotypenumbers": "strict",
          "coloraxis": {
           "colorbar": {
            "outlinewidth": 0,
            "ticks": ""
           }
          },
          "colorscale": {
           "diverging": [
            [
             0,
             "#8e0152"
            ],
            [
             0.1,
             "#c51b7d"
            ],
            [
             0.2,
             "#de77ae"
            ],
            [
             0.3,
             "#f1b6da"
            ],
            [
             0.4,
             "#fde0ef"
            ],
            [
             0.5,
             "#f7f7f7"
            ],
            [
             0.6,
             "#e6f5d0"
            ],
            [
             0.7,
             "#b8e186"
            ],
            [
             0.8,
             "#7fbc41"
            ],
            [
             0.9,
             "#4d9221"
            ],
            [
             1,
             "#276419"
            ]
           ],
           "sequential": [
            [
             0,
             "#0d0887"
            ],
            [
             0.1111111111111111,
             "#46039f"
            ],
            [
             0.2222222222222222,
             "#7201a8"
            ],
            [
             0.3333333333333333,
             "#9c179e"
            ],
            [
             0.4444444444444444,
             "#bd3786"
            ],
            [
             0.5555555555555556,
             "#d8576b"
            ],
            [
             0.6666666666666666,
             "#ed7953"
            ],
            [
             0.7777777777777778,
             "#fb9f3a"
            ],
            [
             0.8888888888888888,
             "#fdca26"
            ],
            [
             1,
             "#f0f921"
            ]
           ],
           "sequentialminus": [
            [
             0,
             "#0d0887"
            ],
            [
             0.1111111111111111,
             "#46039f"
            ],
            [
             0.2222222222222222,
             "#7201a8"
            ],
            [
             0.3333333333333333,
             "#9c179e"
            ],
            [
             0.4444444444444444,
             "#bd3786"
            ],
            [
             0.5555555555555556,
             "#d8576b"
            ],
            [
             0.6666666666666666,
             "#ed7953"
            ],
            [
             0.7777777777777778,
             "#fb9f3a"
            ],
            [
             0.8888888888888888,
             "#fdca26"
            ],
            [
             1,
             "#f0f921"
            ]
           ]
          },
          "colorway": [
           "#636efa",
           "#EF553B",
           "#00cc96",
           "#ab63fa",
           "#FFA15A",
           "#19d3f3",
           "#FF6692",
           "#B6E880",
           "#FF97FF",
           "#FECB52"
          ],
          "font": {
           "color": "#2a3f5f"
          },
          "geo": {
           "bgcolor": "white",
           "lakecolor": "white",
           "landcolor": "#E5ECF6",
           "showlakes": true,
           "showland": true,
           "subunitcolor": "white"
          },
          "hoverlabel": {
           "align": "left"
          },
          "hovermode": "closest",
          "mapbox": {
           "style": "light"
          },
          "paper_bgcolor": "white",
          "plot_bgcolor": "#E5ECF6",
          "polar": {
           "angularaxis": {
            "gridcolor": "white",
            "linecolor": "white",
            "ticks": ""
           },
           "bgcolor": "#E5ECF6",
           "radialaxis": {
            "gridcolor": "white",
            "linecolor": "white",
            "ticks": ""
           }
          },
          "scene": {
           "xaxis": {
            "backgroundcolor": "#E5ECF6",
            "gridcolor": "white",
            "gridwidth": 2,
            "linecolor": "white",
            "showbackground": true,
            "ticks": "",
            "zerolinecolor": "white"
           },
           "yaxis": {
            "backgroundcolor": "#E5ECF6",
            "gridcolor": "white",
            "gridwidth": 2,
            "linecolor": "white",
            "showbackground": true,
            "ticks": "",
            "zerolinecolor": "white"
           },
           "zaxis": {
            "backgroundcolor": "#E5ECF6",
            "gridcolor": "white",
            "gridwidth": 2,
            "linecolor": "white",
            "showbackground": true,
            "ticks": "",
            "zerolinecolor": "white"
           }
          },
          "shapedefaults": {
           "line": {
            "color": "#2a3f5f"
           }
          },
          "ternary": {
           "aaxis": {
            "gridcolor": "white",
            "linecolor": "white",
            "ticks": ""
           },
           "baxis": {
            "gridcolor": "white",
            "linecolor": "white",
            "ticks": ""
           },
           "bgcolor": "#E5ECF6",
           "caxis": {
            "gridcolor": "white",
            "linecolor": "white",
            "ticks": ""
           }
          },
          "title": {
           "x": 0.05
          },
          "xaxis": {
           "automargin": true,
           "gridcolor": "white",
           "linecolor": "white",
           "ticks": "",
           "title": {
            "standoff": 15
           },
           "zerolinecolor": "white",
           "zerolinewidth": 2
          },
          "yaxis": {
           "automargin": true,
           "gridcolor": "white",
           "linecolor": "white",
           "ticks": "",
           "title": {
            "standoff": 15
           },
           "zerolinecolor": "white",
           "zerolinewidth": 2
          }
         }
        },
        "title": {
         "text": "Predicted: 0.659"
        },
        "xaxis": {
         "range": [
          -0.2640128456871622,
          0.2640128456871622
         ],
         "title": {
          "text": ""
         }
        },
        "yaxis": {
         "automargin": true,
         "dtick": 1,
         "title": {
          "text": ""
         }
        }
       }
      }
     },
     "metadata": {},
     "output_type": "display_data"
    }
   ],
   "source": [
    "instance_index = 32\n",
    "print(\"Label: \",test_labels.iloc[instance_index].values[0])\n",
    "print(\"Predicted value: \", test_prediction[instance_index])\n",
    "\n",
    "instance = test_data.iloc[[instance_index]]\n",
    "\n",
    "explanation_0 = lime_explanation_algorithm.explain_local(instance)\n",
    "explanation_0.visualize(0)"
   ]
  },
  {
   "cell_type": "markdown",
   "metadata": {},
   "source": [
    "### Explaining data with 1 label and prediction being 1"
   ]
  },
  {
   "cell_type": "code",
   "execution_count": 42,
   "metadata": {},
   "outputs": [
    {
     "name": "stdout",
     "output_type": "stream",
     "text": [
      "Label:  1\n",
      "Predicted value:  1\n"
     ]
    },
    {
     "data": {
      "application/vnd.plotly.v1+json": {
       "config": {
        "plotlyServerURL": "https://plot.ly"
       },
       "data": [
        {
         "marker": {
          "color": [
           "#1f77b4",
           "#1f77b4",
           "#ff7f0e",
           "#ff7f0e",
           "#1f77b4",
           "#ff7f0e",
           "#1f77b4",
           "#808080"
          ]
         },
         "orientation": "h",
         "type": "bar",
         "x": [
          -0.000726507820208826,
          -0.0011257834363376717,
          0.00279961204930708,
          0.003340118956840673,
          -0.0037740698076670818,
          0.03595055664461757,
          -0.07700722324034737,
          0.26375524448495924
         ],
         "y": [
          "cyclist_experience (369.00)",
          "climb_total (2.53)",
          "position_entropy (6.41)",
          "cyclist_level (21641.00)",
          "cyclist_age (30.00)",
          "avg_relative_position (0.26)",
          "top_20_entropy (0.98)",
          "Intercept"
         ]
        }
       ],
       "layout": {
        "template": {
         "data": {
          "bar": [
           {
            "error_x": {
             "color": "#2a3f5f"
            },
            "error_y": {
             "color": "#2a3f5f"
            },
            "marker": {
             "line": {
              "color": "#E5ECF6",
              "width": 0.5
             },
             "pattern": {
              "fillmode": "overlay",
              "size": 10,
              "solidity": 0.2
             }
            },
            "type": "bar"
           }
          ],
          "barpolar": [
           {
            "marker": {
             "line": {
              "color": "#E5ECF6",
              "width": 0.5
             },
             "pattern": {
              "fillmode": "overlay",
              "size": 10,
              "solidity": 0.2
             }
            },
            "type": "barpolar"
           }
          ],
          "carpet": [
           {
            "aaxis": {
             "endlinecolor": "#2a3f5f",
             "gridcolor": "white",
             "linecolor": "white",
             "minorgridcolor": "white",
             "startlinecolor": "#2a3f5f"
            },
            "baxis": {
             "endlinecolor": "#2a3f5f",
             "gridcolor": "white",
             "linecolor": "white",
             "minorgridcolor": "white",
             "startlinecolor": "#2a3f5f"
            },
            "type": "carpet"
           }
          ],
          "choropleth": [
           {
            "colorbar": {
             "outlinewidth": 0,
             "ticks": ""
            },
            "type": "choropleth"
           }
          ],
          "contour": [
           {
            "colorbar": {
             "outlinewidth": 0,
             "ticks": ""
            },
            "colorscale": [
             [
              0,
              "#0d0887"
             ],
             [
              0.1111111111111111,
              "#46039f"
             ],
             [
              0.2222222222222222,
              "#7201a8"
             ],
             [
              0.3333333333333333,
              "#9c179e"
             ],
             [
              0.4444444444444444,
              "#bd3786"
             ],
             [
              0.5555555555555556,
              "#d8576b"
             ],
             [
              0.6666666666666666,
              "#ed7953"
             ],
             [
              0.7777777777777778,
              "#fb9f3a"
             ],
             [
              0.8888888888888888,
              "#fdca26"
             ],
             [
              1,
              "#f0f921"
             ]
            ],
            "type": "contour"
           }
          ],
          "contourcarpet": [
           {
            "colorbar": {
             "outlinewidth": 0,
             "ticks": ""
            },
            "type": "contourcarpet"
           }
          ],
          "heatmap": [
           {
            "colorbar": {
             "outlinewidth": 0,
             "ticks": ""
            },
            "colorscale": [
             [
              0,
              "#0d0887"
             ],
             [
              0.1111111111111111,
              "#46039f"
             ],
             [
              0.2222222222222222,
              "#7201a8"
             ],
             [
              0.3333333333333333,
              "#9c179e"
             ],
             [
              0.4444444444444444,
              "#bd3786"
             ],
             [
              0.5555555555555556,
              "#d8576b"
             ],
             [
              0.6666666666666666,
              "#ed7953"
             ],
             [
              0.7777777777777778,
              "#fb9f3a"
             ],
             [
              0.8888888888888888,
              "#fdca26"
             ],
             [
              1,
              "#f0f921"
             ]
            ],
            "type": "heatmap"
           }
          ],
          "heatmapgl": [
           {
            "colorbar": {
             "outlinewidth": 0,
             "ticks": ""
            },
            "colorscale": [
             [
              0,
              "#0d0887"
             ],
             [
              0.1111111111111111,
              "#46039f"
             ],
             [
              0.2222222222222222,
              "#7201a8"
             ],
             [
              0.3333333333333333,
              "#9c179e"
             ],
             [
              0.4444444444444444,
              "#bd3786"
             ],
             [
              0.5555555555555556,
              "#d8576b"
             ],
             [
              0.6666666666666666,
              "#ed7953"
             ],
             [
              0.7777777777777778,
              "#fb9f3a"
             ],
             [
              0.8888888888888888,
              "#fdca26"
             ],
             [
              1,
              "#f0f921"
             ]
            ],
            "type": "heatmapgl"
           }
          ],
          "histogram": [
           {
            "marker": {
             "pattern": {
              "fillmode": "overlay",
              "size": 10,
              "solidity": 0.2
             }
            },
            "type": "histogram"
           }
          ],
          "histogram2d": [
           {
            "colorbar": {
             "outlinewidth": 0,
             "ticks": ""
            },
            "colorscale": [
             [
              0,
              "#0d0887"
             ],
             [
              0.1111111111111111,
              "#46039f"
             ],
             [
              0.2222222222222222,
              "#7201a8"
             ],
             [
              0.3333333333333333,
              "#9c179e"
             ],
             [
              0.4444444444444444,
              "#bd3786"
             ],
             [
              0.5555555555555556,
              "#d8576b"
             ],
             [
              0.6666666666666666,
              "#ed7953"
             ],
             [
              0.7777777777777778,
              "#fb9f3a"
             ],
             [
              0.8888888888888888,
              "#fdca26"
             ],
             [
              1,
              "#f0f921"
             ]
            ],
            "type": "histogram2d"
           }
          ],
          "histogram2dcontour": [
           {
            "colorbar": {
             "outlinewidth": 0,
             "ticks": ""
            },
            "colorscale": [
             [
              0,
              "#0d0887"
             ],
             [
              0.1111111111111111,
              "#46039f"
             ],
             [
              0.2222222222222222,
              "#7201a8"
             ],
             [
              0.3333333333333333,
              "#9c179e"
             ],
             [
              0.4444444444444444,
              "#bd3786"
             ],
             [
              0.5555555555555556,
              "#d8576b"
             ],
             [
              0.6666666666666666,
              "#ed7953"
             ],
             [
              0.7777777777777778,
              "#fb9f3a"
             ],
             [
              0.8888888888888888,
              "#fdca26"
             ],
             [
              1,
              "#f0f921"
             ]
            ],
            "type": "histogram2dcontour"
           }
          ],
          "mesh3d": [
           {
            "colorbar": {
             "outlinewidth": 0,
             "ticks": ""
            },
            "type": "mesh3d"
           }
          ],
          "parcoords": [
           {
            "line": {
             "colorbar": {
              "outlinewidth": 0,
              "ticks": ""
             }
            },
            "type": "parcoords"
           }
          ],
          "pie": [
           {
            "automargin": true,
            "type": "pie"
           }
          ],
          "scatter": [
           {
            "fillpattern": {
             "fillmode": "overlay",
             "size": 10,
             "solidity": 0.2
            },
            "type": "scatter"
           }
          ],
          "scatter3d": [
           {
            "line": {
             "colorbar": {
              "outlinewidth": 0,
              "ticks": ""
             }
            },
            "marker": {
             "colorbar": {
              "outlinewidth": 0,
              "ticks": ""
             }
            },
            "type": "scatter3d"
           }
          ],
          "scattercarpet": [
           {
            "marker": {
             "colorbar": {
              "outlinewidth": 0,
              "ticks": ""
             }
            },
            "type": "scattercarpet"
           }
          ],
          "scattergeo": [
           {
            "marker": {
             "colorbar": {
              "outlinewidth": 0,
              "ticks": ""
             }
            },
            "type": "scattergeo"
           }
          ],
          "scattergl": [
           {
            "marker": {
             "colorbar": {
              "outlinewidth": 0,
              "ticks": ""
             }
            },
            "type": "scattergl"
           }
          ],
          "scattermapbox": [
           {
            "marker": {
             "colorbar": {
              "outlinewidth": 0,
              "ticks": ""
             }
            },
            "type": "scattermapbox"
           }
          ],
          "scatterpolar": [
           {
            "marker": {
             "colorbar": {
              "outlinewidth": 0,
              "ticks": ""
             }
            },
            "type": "scatterpolar"
           }
          ],
          "scatterpolargl": [
           {
            "marker": {
             "colorbar": {
              "outlinewidth": 0,
              "ticks": ""
             }
            },
            "type": "scatterpolargl"
           }
          ],
          "scatterternary": [
           {
            "marker": {
             "colorbar": {
              "outlinewidth": 0,
              "ticks": ""
             }
            },
            "type": "scatterternary"
           }
          ],
          "surface": [
           {
            "colorbar": {
             "outlinewidth": 0,
             "ticks": ""
            },
            "colorscale": [
             [
              0,
              "#0d0887"
             ],
             [
              0.1111111111111111,
              "#46039f"
             ],
             [
              0.2222222222222222,
              "#7201a8"
             ],
             [
              0.3333333333333333,
              "#9c179e"
             ],
             [
              0.4444444444444444,
              "#bd3786"
             ],
             [
              0.5555555555555556,
              "#d8576b"
             ],
             [
              0.6666666666666666,
              "#ed7953"
             ],
             [
              0.7777777777777778,
              "#fb9f3a"
             ],
             [
              0.8888888888888888,
              "#fdca26"
             ],
             [
              1,
              "#f0f921"
             ]
            ],
            "type": "surface"
           }
          ],
          "table": [
           {
            "cells": {
             "fill": {
              "color": "#EBF0F8"
             },
             "line": {
              "color": "white"
             }
            },
            "header": {
             "fill": {
              "color": "#C8D4E3"
             },
             "line": {
              "color": "white"
             }
            },
            "type": "table"
           }
          ]
         },
         "layout": {
          "annotationdefaults": {
           "arrowcolor": "#2a3f5f",
           "arrowhead": 0,
           "arrowwidth": 1
          },
          "autotypenumbers": "strict",
          "coloraxis": {
           "colorbar": {
            "outlinewidth": 0,
            "ticks": ""
           }
          },
          "colorscale": {
           "diverging": [
            [
             0,
             "#8e0152"
            ],
            [
             0.1,
             "#c51b7d"
            ],
            [
             0.2,
             "#de77ae"
            ],
            [
             0.3,
             "#f1b6da"
            ],
            [
             0.4,
             "#fde0ef"
            ],
            [
             0.5,
             "#f7f7f7"
            ],
            [
             0.6,
             "#e6f5d0"
            ],
            [
             0.7,
             "#b8e186"
            ],
            [
             0.8,
             "#7fbc41"
            ],
            [
             0.9,
             "#4d9221"
            ],
            [
             1,
             "#276419"
            ]
           ],
           "sequential": [
            [
             0,
             "#0d0887"
            ],
            [
             0.1111111111111111,
             "#46039f"
            ],
            [
             0.2222222222222222,
             "#7201a8"
            ],
            [
             0.3333333333333333,
             "#9c179e"
            ],
            [
             0.4444444444444444,
             "#bd3786"
            ],
            [
             0.5555555555555556,
             "#d8576b"
            ],
            [
             0.6666666666666666,
             "#ed7953"
            ],
            [
             0.7777777777777778,
             "#fb9f3a"
            ],
            [
             0.8888888888888888,
             "#fdca26"
            ],
            [
             1,
             "#f0f921"
            ]
           ],
           "sequentialminus": [
            [
             0,
             "#0d0887"
            ],
            [
             0.1111111111111111,
             "#46039f"
            ],
            [
             0.2222222222222222,
             "#7201a8"
            ],
            [
             0.3333333333333333,
             "#9c179e"
            ],
            [
             0.4444444444444444,
             "#bd3786"
            ],
            [
             0.5555555555555556,
             "#d8576b"
            ],
            [
             0.6666666666666666,
             "#ed7953"
            ],
            [
             0.7777777777777778,
             "#fb9f3a"
            ],
            [
             0.8888888888888888,
             "#fdca26"
            ],
            [
             1,
             "#f0f921"
            ]
           ]
          },
          "colorway": [
           "#636efa",
           "#EF553B",
           "#00cc96",
           "#ab63fa",
           "#FFA15A",
           "#19d3f3",
           "#FF6692",
           "#B6E880",
           "#FF97FF",
           "#FECB52"
          ],
          "font": {
           "color": "#2a3f5f"
          },
          "geo": {
           "bgcolor": "white",
           "lakecolor": "white",
           "landcolor": "#E5ECF6",
           "showlakes": true,
           "showland": true,
           "subunitcolor": "white"
          },
          "hoverlabel": {
           "align": "left"
          },
          "hovermode": "closest",
          "mapbox": {
           "style": "light"
          },
          "paper_bgcolor": "white",
          "plot_bgcolor": "#E5ECF6",
          "polar": {
           "angularaxis": {
            "gridcolor": "white",
            "linecolor": "white",
            "ticks": ""
           },
           "bgcolor": "#E5ECF6",
           "radialaxis": {
            "gridcolor": "white",
            "linecolor": "white",
            "ticks": ""
           }
          },
          "scene": {
           "xaxis": {
            "backgroundcolor": "#E5ECF6",
            "gridcolor": "white",
            "gridwidth": 2,
            "linecolor": "white",
            "showbackground": true,
            "ticks": "",
            "zerolinecolor": "white"
           },
           "yaxis": {
            "backgroundcolor": "#E5ECF6",
            "gridcolor": "white",
            "gridwidth": 2,
            "linecolor": "white",
            "showbackground": true,
            "ticks": "",
            "zerolinecolor": "white"
           },
           "zaxis": {
            "backgroundcolor": "#E5ECF6",
            "gridcolor": "white",
            "gridwidth": 2,
            "linecolor": "white",
            "showbackground": true,
            "ticks": "",
            "zerolinecolor": "white"
           }
          },
          "shapedefaults": {
           "line": {
            "color": "#2a3f5f"
           }
          },
          "ternary": {
           "aaxis": {
            "gridcolor": "white",
            "linecolor": "white",
            "ticks": ""
           },
           "baxis": {
            "gridcolor": "white",
            "linecolor": "white",
            "ticks": ""
           },
           "bgcolor": "#E5ECF6",
           "caxis": {
            "gridcolor": "white",
            "linecolor": "white",
            "ticks": ""
           }
          },
          "title": {
           "x": 0.05
          },
          "xaxis": {
           "automargin": true,
           "gridcolor": "white",
           "linecolor": "white",
           "ticks": "",
           "title": {
            "standoff": 15
           },
           "zerolinecolor": "white",
           "zerolinewidth": 2
          },
          "yaxis": {
           "automargin": true,
           "gridcolor": "white",
           "linecolor": "white",
           "ticks": "",
           "title": {
            "standoff": 15
           },
           "zerolinecolor": "white",
           "zerolinewidth": 2
          }
         }
        },
        "title": {
         "text": "Predicted: 0.85"
        },
        "xaxis": {
         "range": [
          -0.26375524448495924,
          0.26375524448495924
         ],
         "title": {
          "text": ""
         }
        },
        "yaxis": {
         "automargin": true,
         "dtick": 1,
         "title": {
          "text": ""
         }
        }
       }
      }
     },
     "metadata": {},
     "output_type": "display_data"
    }
   ],
   "source": [
    "instance_index = 98\n",
    "print(\"Label: \",test_labels.iloc[instance_index].values[0])\n",
    "print(\"Predicted value: \", test_prediction[instance_index])\n",
    "\n",
    "instance = test_data.iloc[[instance_index]]\n",
    "\n",
    "explanation_0 = lime_explanation_algorithm.explain_local(instance)\n",
    "explanation_0.visualize(0)"
   ]
  },
  {
   "cell_type": "markdown",
   "metadata": {},
   "source": [
    "*top_20_entropy* in this example turns out to be the most influential feature, contributing negatively to the predicted value and indicating that an increase in it significantly reduces the model result. *avg_relative_position* has a moderate positive impact contributing to an increase in the predicted value although with less weight than top_20_entropy.\n",
    "\n",
    "As for the other features, almost minimal contributions are observed, some positive and some negative. "
   ]
  },
  {
   "cell_type": "markdown",
   "metadata": {},
   "source": [
    "### Explaining data with 1 label and prediction being 0"
   ]
  },
  {
   "cell_type": "code",
   "execution_count": 43,
   "metadata": {},
   "outputs": [
    {
     "name": "stdout",
     "output_type": "stream",
     "text": [
      "Label:  1\n",
      "Predicted value:  0\n"
     ]
    },
    {
     "data": {
      "application/vnd.plotly.v1+json": {
       "config": {
        "plotlyServerURL": "https://plot.ly"
       },
       "data": [
        {
         "marker": {
          "color": [
           "#ff7f0e",
           "#ff7f0e",
           "#1f77b4",
           "#ff7f0e",
           "#1f77b4",
           "#ff7f0e",
           "#ff7f0e",
           "#808080"
          ]
         },
         "orientation": "h",
         "type": "bar",
         "x": [
          0.00016790008616222911,
          0.0003107281796648493,
          -0.001731380286799851,
          0.002516308038249724,
          -0.0027951431776048713,
          0.03487477979942572,
          0.041936777852108094,
          0.23552272175459193
         ],
         "y": [
          "cyclist_age (27.00)",
          "cyclist_level (2253.33)",
          "climb_total (2.50)",
          "position_entropy (5.75)",
          "cyclist_experience (78.00)",
          "avg_relative_position (0.61)",
          "top_20_entropy (0.48)",
          "Intercept"
         ]
        }
       ],
       "layout": {
        "template": {
         "data": {
          "bar": [
           {
            "error_x": {
             "color": "#2a3f5f"
            },
            "error_y": {
             "color": "#2a3f5f"
            },
            "marker": {
             "line": {
              "color": "#E5ECF6",
              "width": 0.5
             },
             "pattern": {
              "fillmode": "overlay",
              "size": 10,
              "solidity": 0.2
             }
            },
            "type": "bar"
           }
          ],
          "barpolar": [
           {
            "marker": {
             "line": {
              "color": "#E5ECF6",
              "width": 0.5
             },
             "pattern": {
              "fillmode": "overlay",
              "size": 10,
              "solidity": 0.2
             }
            },
            "type": "barpolar"
           }
          ],
          "carpet": [
           {
            "aaxis": {
             "endlinecolor": "#2a3f5f",
             "gridcolor": "white",
             "linecolor": "white",
             "minorgridcolor": "white",
             "startlinecolor": "#2a3f5f"
            },
            "baxis": {
             "endlinecolor": "#2a3f5f",
             "gridcolor": "white",
             "linecolor": "white",
             "minorgridcolor": "white",
             "startlinecolor": "#2a3f5f"
            },
            "type": "carpet"
           }
          ],
          "choropleth": [
           {
            "colorbar": {
             "outlinewidth": 0,
             "ticks": ""
            },
            "type": "choropleth"
           }
          ],
          "contour": [
           {
            "colorbar": {
             "outlinewidth": 0,
             "ticks": ""
            },
            "colorscale": [
             [
              0,
              "#0d0887"
             ],
             [
              0.1111111111111111,
              "#46039f"
             ],
             [
              0.2222222222222222,
              "#7201a8"
             ],
             [
              0.3333333333333333,
              "#9c179e"
             ],
             [
              0.4444444444444444,
              "#bd3786"
             ],
             [
              0.5555555555555556,
              "#d8576b"
             ],
             [
              0.6666666666666666,
              "#ed7953"
             ],
             [
              0.7777777777777778,
              "#fb9f3a"
             ],
             [
              0.8888888888888888,
              "#fdca26"
             ],
             [
              1,
              "#f0f921"
             ]
            ],
            "type": "contour"
           }
          ],
          "contourcarpet": [
           {
            "colorbar": {
             "outlinewidth": 0,
             "ticks": ""
            },
            "type": "contourcarpet"
           }
          ],
          "heatmap": [
           {
            "colorbar": {
             "outlinewidth": 0,
             "ticks": ""
            },
            "colorscale": [
             [
              0,
              "#0d0887"
             ],
             [
              0.1111111111111111,
              "#46039f"
             ],
             [
              0.2222222222222222,
              "#7201a8"
             ],
             [
              0.3333333333333333,
              "#9c179e"
             ],
             [
              0.4444444444444444,
              "#bd3786"
             ],
             [
              0.5555555555555556,
              "#d8576b"
             ],
             [
              0.6666666666666666,
              "#ed7953"
             ],
             [
              0.7777777777777778,
              "#fb9f3a"
             ],
             [
              0.8888888888888888,
              "#fdca26"
             ],
             [
              1,
              "#f0f921"
             ]
            ],
            "type": "heatmap"
           }
          ],
          "heatmapgl": [
           {
            "colorbar": {
             "outlinewidth": 0,
             "ticks": ""
            },
            "colorscale": [
             [
              0,
              "#0d0887"
             ],
             [
              0.1111111111111111,
              "#46039f"
             ],
             [
              0.2222222222222222,
              "#7201a8"
             ],
             [
              0.3333333333333333,
              "#9c179e"
             ],
             [
              0.4444444444444444,
              "#bd3786"
             ],
             [
              0.5555555555555556,
              "#d8576b"
             ],
             [
              0.6666666666666666,
              "#ed7953"
             ],
             [
              0.7777777777777778,
              "#fb9f3a"
             ],
             [
              0.8888888888888888,
              "#fdca26"
             ],
             [
              1,
              "#f0f921"
             ]
            ],
            "type": "heatmapgl"
           }
          ],
          "histogram": [
           {
            "marker": {
             "pattern": {
              "fillmode": "overlay",
              "size": 10,
              "solidity": 0.2
             }
            },
            "type": "histogram"
           }
          ],
          "histogram2d": [
           {
            "colorbar": {
             "outlinewidth": 0,
             "ticks": ""
            },
            "colorscale": [
             [
              0,
              "#0d0887"
             ],
             [
              0.1111111111111111,
              "#46039f"
             ],
             [
              0.2222222222222222,
              "#7201a8"
             ],
             [
              0.3333333333333333,
              "#9c179e"
             ],
             [
              0.4444444444444444,
              "#bd3786"
             ],
             [
              0.5555555555555556,
              "#d8576b"
             ],
             [
              0.6666666666666666,
              "#ed7953"
             ],
             [
              0.7777777777777778,
              "#fb9f3a"
             ],
             [
              0.8888888888888888,
              "#fdca26"
             ],
             [
              1,
              "#f0f921"
             ]
            ],
            "type": "histogram2d"
           }
          ],
          "histogram2dcontour": [
           {
            "colorbar": {
             "outlinewidth": 0,
             "ticks": ""
            },
            "colorscale": [
             [
              0,
              "#0d0887"
             ],
             [
              0.1111111111111111,
              "#46039f"
             ],
             [
              0.2222222222222222,
              "#7201a8"
             ],
             [
              0.3333333333333333,
              "#9c179e"
             ],
             [
              0.4444444444444444,
              "#bd3786"
             ],
             [
              0.5555555555555556,
              "#d8576b"
             ],
             [
              0.6666666666666666,
              "#ed7953"
             ],
             [
              0.7777777777777778,
              "#fb9f3a"
             ],
             [
              0.8888888888888888,
              "#fdca26"
             ],
             [
              1,
              "#f0f921"
             ]
            ],
            "type": "histogram2dcontour"
           }
          ],
          "mesh3d": [
           {
            "colorbar": {
             "outlinewidth": 0,
             "ticks": ""
            },
            "type": "mesh3d"
           }
          ],
          "parcoords": [
           {
            "line": {
             "colorbar": {
              "outlinewidth": 0,
              "ticks": ""
             }
            },
            "type": "parcoords"
           }
          ],
          "pie": [
           {
            "automargin": true,
            "type": "pie"
           }
          ],
          "scatter": [
           {
            "fillpattern": {
             "fillmode": "overlay",
             "size": 10,
             "solidity": 0.2
            },
            "type": "scatter"
           }
          ],
          "scatter3d": [
           {
            "line": {
             "colorbar": {
              "outlinewidth": 0,
              "ticks": ""
             }
            },
            "marker": {
             "colorbar": {
              "outlinewidth": 0,
              "ticks": ""
             }
            },
            "type": "scatter3d"
           }
          ],
          "scattercarpet": [
           {
            "marker": {
             "colorbar": {
              "outlinewidth": 0,
              "ticks": ""
             }
            },
            "type": "scattercarpet"
           }
          ],
          "scattergeo": [
           {
            "marker": {
             "colorbar": {
              "outlinewidth": 0,
              "ticks": ""
             }
            },
            "type": "scattergeo"
           }
          ],
          "scattergl": [
           {
            "marker": {
             "colorbar": {
              "outlinewidth": 0,
              "ticks": ""
             }
            },
            "type": "scattergl"
           }
          ],
          "scattermapbox": [
           {
            "marker": {
             "colorbar": {
              "outlinewidth": 0,
              "ticks": ""
             }
            },
            "type": "scattermapbox"
           }
          ],
          "scatterpolar": [
           {
            "marker": {
             "colorbar": {
              "outlinewidth": 0,
              "ticks": ""
             }
            },
            "type": "scatterpolar"
           }
          ],
          "scatterpolargl": [
           {
            "marker": {
             "colorbar": {
              "outlinewidth": 0,
              "ticks": ""
             }
            },
            "type": "scatterpolargl"
           }
          ],
          "scatterternary": [
           {
            "marker": {
             "colorbar": {
              "outlinewidth": 0,
              "ticks": ""
             }
            },
            "type": "scatterternary"
           }
          ],
          "surface": [
           {
            "colorbar": {
             "outlinewidth": 0,
             "ticks": ""
            },
            "colorscale": [
             [
              0,
              "#0d0887"
             ],
             [
              0.1111111111111111,
              "#46039f"
             ],
             [
              0.2222222222222222,
              "#7201a8"
             ],
             [
              0.3333333333333333,
              "#9c179e"
             ],
             [
              0.4444444444444444,
              "#bd3786"
             ],
             [
              0.5555555555555556,
              "#d8576b"
             ],
             [
              0.6666666666666666,
              "#ed7953"
             ],
             [
              0.7777777777777778,
              "#fb9f3a"
             ],
             [
              0.8888888888888888,
              "#fdca26"
             ],
             [
              1,
              "#f0f921"
             ]
            ],
            "type": "surface"
           }
          ],
          "table": [
           {
            "cells": {
             "fill": {
              "color": "#EBF0F8"
             },
             "line": {
              "color": "white"
             }
            },
            "header": {
             "fill": {
              "color": "#C8D4E3"
             },
             "line": {
              "color": "white"
             }
            },
            "type": "table"
           }
          ]
         },
         "layout": {
          "annotationdefaults": {
           "arrowcolor": "#2a3f5f",
           "arrowhead": 0,
           "arrowwidth": 1
          },
          "autotypenumbers": "strict",
          "coloraxis": {
           "colorbar": {
            "outlinewidth": 0,
            "ticks": ""
           }
          },
          "colorscale": {
           "diverging": [
            [
             0,
             "#8e0152"
            ],
            [
             0.1,
             "#c51b7d"
            ],
            [
             0.2,
             "#de77ae"
            ],
            [
             0.3,
             "#f1b6da"
            ],
            [
             0.4,
             "#fde0ef"
            ],
            [
             0.5,
             "#f7f7f7"
            ],
            [
             0.6,
             "#e6f5d0"
            ],
            [
             0.7,
             "#b8e186"
            ],
            [
             0.8,
             "#7fbc41"
            ],
            [
             0.9,
             "#4d9221"
            ],
            [
             1,
             "#276419"
            ]
           ],
           "sequential": [
            [
             0,
             "#0d0887"
            ],
            [
             0.1111111111111111,
             "#46039f"
            ],
            [
             0.2222222222222222,
             "#7201a8"
            ],
            [
             0.3333333333333333,
             "#9c179e"
            ],
            [
             0.4444444444444444,
             "#bd3786"
            ],
            [
             0.5555555555555556,
             "#d8576b"
            ],
            [
             0.6666666666666666,
             "#ed7953"
            ],
            [
             0.7777777777777778,
             "#fb9f3a"
            ],
            [
             0.8888888888888888,
             "#fdca26"
            ],
            [
             1,
             "#f0f921"
            ]
           ],
           "sequentialminus": [
            [
             0,
             "#0d0887"
            ],
            [
             0.1111111111111111,
             "#46039f"
            ],
            [
             0.2222222222222222,
             "#7201a8"
            ],
            [
             0.3333333333333333,
             "#9c179e"
            ],
            [
             0.4444444444444444,
             "#bd3786"
            ],
            [
             0.5555555555555556,
             "#d8576b"
            ],
            [
             0.6666666666666666,
             "#ed7953"
            ],
            [
             0.7777777777777778,
             "#fb9f3a"
            ],
            [
             0.8888888888888888,
             "#fdca26"
            ],
            [
             1,
             "#f0f921"
            ]
           ]
          },
          "colorway": [
           "#636efa",
           "#EF553B",
           "#00cc96",
           "#ab63fa",
           "#FFA15A",
           "#19d3f3",
           "#FF6692",
           "#B6E880",
           "#FF97FF",
           "#FECB52"
          ],
          "font": {
           "color": "#2a3f5f"
          },
          "geo": {
           "bgcolor": "white",
           "lakecolor": "white",
           "landcolor": "#E5ECF6",
           "showlakes": true,
           "showland": true,
           "subunitcolor": "white"
          },
          "hoverlabel": {
           "align": "left"
          },
          "hovermode": "closest",
          "mapbox": {
           "style": "light"
          },
          "paper_bgcolor": "white",
          "plot_bgcolor": "#E5ECF6",
          "polar": {
           "angularaxis": {
            "gridcolor": "white",
            "linecolor": "white",
            "ticks": ""
           },
           "bgcolor": "#E5ECF6",
           "radialaxis": {
            "gridcolor": "white",
            "linecolor": "white",
            "ticks": ""
           }
          },
          "scene": {
           "xaxis": {
            "backgroundcolor": "#E5ECF6",
            "gridcolor": "white",
            "gridwidth": 2,
            "linecolor": "white",
            "showbackground": true,
            "ticks": "",
            "zerolinecolor": "white"
           },
           "yaxis": {
            "backgroundcolor": "#E5ECF6",
            "gridcolor": "white",
            "gridwidth": 2,
            "linecolor": "white",
            "showbackground": true,
            "ticks": "",
            "zerolinecolor": "white"
           },
           "zaxis": {
            "backgroundcolor": "#E5ECF6",
            "gridcolor": "white",
            "gridwidth": 2,
            "linecolor": "white",
            "showbackground": true,
            "ticks": "",
            "zerolinecolor": "white"
           }
          },
          "shapedefaults": {
           "line": {
            "color": "#2a3f5f"
           }
          },
          "ternary": {
           "aaxis": {
            "gridcolor": "white",
            "linecolor": "white",
            "ticks": ""
           },
           "baxis": {
            "gridcolor": "white",
            "linecolor": "white",
            "ticks": ""
           },
           "bgcolor": "#E5ECF6",
           "caxis": {
            "gridcolor": "white",
            "linecolor": "white",
            "ticks": ""
           }
          },
          "title": {
           "x": 0.05
          },
          "xaxis": {
           "automargin": true,
           "gridcolor": "white",
           "linecolor": "white",
           "ticks": "",
           "title": {
            "standoff": 15
           },
           "zerolinecolor": "white",
           "zerolinewidth": 2
          },
          "yaxis": {
           "automargin": true,
           "gridcolor": "white",
           "linecolor": "white",
           "ticks": "",
           "title": {
            "standoff": 15
           },
           "zerolinecolor": "white",
           "zerolinewidth": 2
          }
         }
        },
        "title": {
         "text": "Predicted: 0.377"
        },
        "xaxis": {
         "range": [
          -0.23552272175459193,
          0.23552272175459193
         ],
         "title": {
          "text": ""
         }
        },
        "yaxis": {
         "automargin": true,
         "dtick": 1,
         "title": {
          "text": ""
         }
        }
       }
      }
     },
     "metadata": {},
     "output_type": "display_data"
    }
   ],
   "source": [
    "instance_index = 13\n",
    "print(\"Label: \",test_labels.iloc[instance_index].values[0])\n",
    "print(\"Predicted value: \", test_prediction[instance_index])\n",
    "\n",
    "instance = test_data.iloc[[instance_index]]\n",
    "\n",
    "explanation_0 = lime_explanation_algorithm.explain_local(instance)\n",
    "explanation_0.visualize(0)"
   ]
  },
  {
   "cell_type": "markdown",
   "metadata": {},
   "source": [
    "The features *top_20_entropy* and *avg_relative_position* are the most influential for prediction, both contributing positively. The other features show significantly less contribution, with values slightly positive or negative but still close to zero. This indicates that the prediction is mainly driven by the two most influential features, with the others playing a minimal role."
   ]
  }
 ],
 "metadata": {
  "kernelspec": {
   "display_name": "dm",
   "language": "python",
   "name": "python3"
  },
  "language_info": {
   "codemirror_mode": {
    "name": "ipython",
    "version": 3
   },
   "file_extension": ".py",
   "mimetype": "text/x-python",
   "name": "python",
   "nbconvert_exporter": "python",
   "pygments_lexer": "ipython3",
   "version": "3.12.7"
  }
 },
 "nbformat": 4,
 "nbformat_minor": 2
}
