{
 "cells": [
  {
   "cell_type": "markdown",
   "metadata": {},
   "source": [
    "# **Data Understanding**"
   ]
  },
  {
   "cell_type": "code",
   "execution_count": 40,
   "metadata": {},
   "outputs": [],
   "source": [
    "import pandas as pd\n",
    "import numpy as np\n",
    "import seaborn as sns\n",
    "import matplotlib.pyplot as plt"
   ]
  },
  {
   "cell_type": "markdown",
   "metadata": {},
   "source": [
    "# **Cyclists Dataset**"
   ]
  },
  {
   "cell_type": "code",
   "execution_count": 41,
   "metadata": {},
   "outputs": [],
   "source": [
    "cyclists_df = pd.read_csv('../dataset/cyclists.csv')\n",
    "\n",
    "cyclists_numeric = [\"birth_year\", \"height\", \"weight\"]\n",
    "cyclists_categorical = [\"nationality\"]"
   ]
  },
  {
   "cell_type": "code",
   "execution_count": 42,
   "metadata": {},
   "outputs": [
    {
     "data": {
      "text/html": [
       "<div>\n",
       "<style scoped>\n",
       "    .dataframe tbody tr th:only-of-type {\n",
       "        vertical-align: middle;\n",
       "    }\n",
       "\n",
       "    .dataframe tbody tr th {\n",
       "        vertical-align: top;\n",
       "    }\n",
       "\n",
       "    .dataframe thead th {\n",
       "        text-align: right;\n",
       "    }\n",
       "</style>\n",
       "<table border=\"1\" class=\"dataframe\">\n",
       "  <thead>\n",
       "    <tr style=\"text-align: right;\">\n",
       "      <th></th>\n",
       "      <th>_url</th>\n",
       "      <th>name</th>\n",
       "      <th>birth_year</th>\n",
       "      <th>weight</th>\n",
       "      <th>height</th>\n",
       "      <th>nationality</th>\n",
       "    </tr>\n",
       "  </thead>\n",
       "  <tbody>\n",
       "    <tr>\n",
       "      <th>0</th>\n",
       "      <td>bruno-surra</td>\n",
       "      <td>Bruno  Surra</td>\n",
       "      <td>1964.0</td>\n",
       "      <td>NaN</td>\n",
       "      <td>NaN</td>\n",
       "      <td>Italy</td>\n",
       "    </tr>\n",
       "    <tr>\n",
       "      <th>1</th>\n",
       "      <td>gerard-rue</td>\n",
       "      <td>Gérard  Rué</td>\n",
       "      <td>1965.0</td>\n",
       "      <td>74.0</td>\n",
       "      <td>182.0</td>\n",
       "      <td>France</td>\n",
       "    </tr>\n",
       "    <tr>\n",
       "      <th>2</th>\n",
       "      <td>jan-maas</td>\n",
       "      <td>Jan  Maas</td>\n",
       "      <td>1996.0</td>\n",
       "      <td>69.0</td>\n",
       "      <td>189.0</td>\n",
       "      <td>Netherlands</td>\n",
       "    </tr>\n",
       "    <tr>\n",
       "      <th>3</th>\n",
       "      <td>nathan-van-hooydonck</td>\n",
       "      <td>Nathan Van Hooydonck</td>\n",
       "      <td>1995.0</td>\n",
       "      <td>78.0</td>\n",
       "      <td>192.0</td>\n",
       "      <td>Belgium</td>\n",
       "    </tr>\n",
       "    <tr>\n",
       "      <th>4</th>\n",
       "      <td>jose-felix-parra</td>\n",
       "      <td>José Félix  Parra</td>\n",
       "      <td>1997.0</td>\n",
       "      <td>55.0</td>\n",
       "      <td>171.0</td>\n",
       "      <td>Spain</td>\n",
       "    </tr>\n",
       "  </tbody>\n",
       "</table>\n",
       "</div>"
      ],
      "text/plain": [
       "                   _url                  name  birth_year  weight  height  \\\n",
       "0           bruno-surra          Bruno  Surra      1964.0     NaN     NaN   \n",
       "1            gerard-rue           Gérard  Rué      1965.0    74.0   182.0   \n",
       "2              jan-maas             Jan  Maas      1996.0    69.0   189.0   \n",
       "3  nathan-van-hooydonck  Nathan Van Hooydonck      1995.0    78.0   192.0   \n",
       "4      jose-felix-parra     José Félix  Parra      1997.0    55.0   171.0   \n",
       "\n",
       "   nationality  \n",
       "0        Italy  \n",
       "1       France  \n",
       "2  Netherlands  \n",
       "3      Belgium  \n",
       "4        Spain  "
      ]
     },
     "execution_count": 42,
     "metadata": {},
     "output_type": "execute_result"
    }
   ],
   "source": [
    "cyclists_df.head()"
   ]
  },
  {
   "cell_type": "markdown",
   "metadata": {},
   "source": [
    "### **Basic Checks**"
   ]
  },
  {
   "cell_type": "markdown",
   "metadata": {},
   "source": [
    "### • Attribute Types"
   ]
  },
  {
   "cell_type": "code",
   "execution_count": 43,
   "metadata": {},
   "outputs": [
    {
     "name": "stdout",
     "output_type": "stream",
     "text": [
      "<class 'pandas.core.frame.DataFrame'>\n",
      "RangeIndex: 6134 entries, 0 to 6133\n",
      "Data columns (total 6 columns):\n",
      " #   Column       Non-Null Count  Dtype  \n",
      "---  ------       --------------  -----  \n",
      " 0   _url         6134 non-null   object \n",
      " 1   name         6134 non-null   object \n",
      " 2   birth_year   6121 non-null   float64\n",
      " 3   weight       3078 non-null   float64\n",
      " 4   height       3143 non-null   float64\n",
      " 5   nationality  6133 non-null   object \n",
      "dtypes: float64(3), object(3)\n",
      "memory usage: 287.7+ KB\n"
     ]
    }
   ],
   "source": [
    "cyclists_df.info()"
   ]
  },
  {
   "cell_type": "markdown",
   "metadata": {},
   "source": [
    "From an initial check there are no particular anomalies in the attribute types."
   ]
  },
  {
   "cell_type": "markdown",
   "metadata": {},
   "source": [
    "### • Non-Null Values Check"
   ]
  },
  {
   "cell_type": "code",
   "execution_count": 44,
   "metadata": {},
   "outputs": [
    {
     "data": {
      "text/plain": [
       "_url           False\n",
       "name           False\n",
       "birth_year      True\n",
       "weight          True\n",
       "height          True\n",
       "nationality     True\n",
       "dtype: bool"
      ]
     },
     "execution_count": 44,
     "metadata": {},
     "output_type": "execute_result"
    }
   ],
   "source": [
    "cyclists_df.isnull().any()"
   ]
  },
  {
   "cell_type": "markdown",
   "metadata": {},
   "source": [
    "We plot a histogram showing how many null values there are for each attribute to get a more clear view."
   ]
  },
  {
   "cell_type": "code",
   "execution_count": 45,
   "metadata": {},
   "outputs": [
    {
     "data": {
      "image/png": "[encoded data removed]",
      "text/plain": [
       "<Figure size 1000x600 with 1 Axes>"
      ]
     },
     "metadata": {},
     "output_type": "display_data"
    }
   ],
   "source": [
    "# Calculate the number of null values for each column\n",
    "null_counts = cyclists_df.isnull().sum()\n",
    "\n",
    "# Plot the histogram\n",
    "null_counts.plot(kind='bar', figsize=(10, 6), title='Histogram of Null Values for Each Column in Cyclists Dataset')\n",
    "plt.xlabel('Attributes')\n",
    "plt.ylabel('Number of Null Values')\n",
    "# Add y values over the columns\n",
    "for i, v in enumerate(null_counts):\n",
    "    plt.text(i, v + 50, str(v), ha='center', va='bottom')\n",
    "\n",
    "plt.show()"
   ]
  },
  {
   "cell_type": "markdown",
   "metadata": {},
   "source": [
    "The attributes with the most null values are weight and height."
   ]
  },
  {
   "cell_type": "markdown",
   "metadata": {},
   "source": [
    "### **Basic Statistics**"
   ]
  },
  {
   "cell_type": "code",
   "execution_count": 46,
   "metadata": {},
   "outputs": [
    {
     "data": {
      "text/html": [
       "<div>\n",
       "<style scoped>\n",
       "    .dataframe tbody tr th:only-of-type {\n",
       "        vertical-align: middle;\n",
       "    }\n",
       "\n",
       "    .dataframe tbody tr th {\n",
       "        vertical-align: top;\n",
       "    }\n",
       "\n",
       "    .dataframe thead th {\n",
       "        text-align: right;\n",
       "    }\n",
       "</style>\n",
       "<table border=\"1\" class=\"dataframe\">\n",
       "  <thead>\n",
       "    <tr style=\"text-align: right;\">\n",
       "      <th></th>\n",
       "      <th>birth_year</th>\n",
       "      <th>height</th>\n",
       "      <th>weight</th>\n",
       "    </tr>\n",
       "  </thead>\n",
       "  <tbody>\n",
       "    <tr>\n",
       "      <th>count</th>\n",
       "      <td>6121.000000</td>\n",
       "      <td>3143.000000</td>\n",
       "      <td>3078.000000</td>\n",
       "    </tr>\n",
       "    <tr>\n",
       "      <th>mean</th>\n",
       "      <td>1974.071884</td>\n",
       "      <td>179.815145</td>\n",
       "      <td>68.658739</td>\n",
       "    </tr>\n",
       "    <tr>\n",
       "      <th>std</th>\n",
       "      <td>15.535834</td>\n",
       "      <td>6.443447</td>\n",
       "      <td>6.348183</td>\n",
       "    </tr>\n",
       "    <tr>\n",
       "      <th>min</th>\n",
       "      <td>1933.000000</td>\n",
       "      <td>154.000000</td>\n",
       "      <td>48.000000</td>\n",
       "    </tr>\n",
       "    <tr>\n",
       "      <th>25%</th>\n",
       "      <td>1962.000000</td>\n",
       "      <td>175.000000</td>\n",
       "      <td>64.000000</td>\n",
       "    </tr>\n",
       "    <tr>\n",
       "      <th>50%</th>\n",
       "      <td>1974.000000</td>\n",
       "      <td>180.000000</td>\n",
       "      <td>69.000000</td>\n",
       "    </tr>\n",
       "    <tr>\n",
       "      <th>75%</th>\n",
       "      <td>1987.000000</td>\n",
       "      <td>184.000000</td>\n",
       "      <td>73.000000</td>\n",
       "    </tr>\n",
       "    <tr>\n",
       "      <th>max</th>\n",
       "      <td>2004.000000</td>\n",
       "      <td>204.000000</td>\n",
       "      <td>94.000000</td>\n",
       "    </tr>\n",
       "  </tbody>\n",
       "</table>\n",
       "</div>"
      ],
      "text/plain": [
       "        birth_year       height       weight\n",
       "count  6121.000000  3143.000000  3078.000000\n",
       "mean   1974.071884   179.815145    68.658739\n",
       "std      15.535834     6.443447     6.348183\n",
       "min    1933.000000   154.000000    48.000000\n",
       "25%    1962.000000   175.000000    64.000000\n",
       "50%    1974.000000   180.000000    69.000000\n",
       "75%    1987.000000   184.000000    73.000000\n",
       "max    2004.000000   204.000000    94.000000"
      ]
     },
     "execution_count": 46,
     "metadata": {},
     "output_type": "execute_result"
    }
   ],
   "source": [
    "cyclists_df[cyclists_numeric].describe()"
   ]
  },
  {
   "cell_type": "markdown",
   "metadata": {},
   "source": [
    "We briefly validate the min/max values querying the web."
   ]
  },
  {
   "cell_type": "code",
   "execution_count": 47,
   "metadata": {},
   "outputs": [
    {
     "name": "stdout",
     "output_type": "stream",
     "text": [
      "Min values corresponding cyclists:\n",
      "- Rik Van Looy was born in 1933\n",
      "- Vicente  Belda was tall 154 cm\n",
      "- José Humberto  Rujano weighted 48 kg\n",
      "\n",
      "Max values corresponding cyclists:\n",
      "- Joshua  Tarling was born in 2004\n",
      "- Conor  Dunne was tall 204 cm\n",
      "- Magnus  Bäckstedt weighted 94 kg\n"
     ]
    }
   ],
   "source": [
    "print('Min values corresponding cyclists:')\n",
    "print(f'- {cyclists_df[cyclists_df[\"birth_year\"] == 1933][\"name\"].values[0]} was born in 1933')\n",
    "print(f'- {cyclists_df[cyclists_df[\"height\"] == 154][\"name\"].values[0]} was tall 154 cm')\n",
    "print(f'- {cyclists_df[cyclists_df[\"weight\"] == 48][\"name\"].values[0]} weighted 48 kg')\n",
    "\n",
    "print()\n",
    "\n",
    "print('Max values corresponding cyclists:')\n",
    "print(f'- {cyclists_df[cyclists_df[\"birth_year\"] == 2004][\"name\"].values[0]} was born in 2004')\n",
    "print(f'- {cyclists_df[cyclists_df[\"height\"] == 204][\"name\"].values[0]} was tall 204 cm')\n",
    "print(f'- {cyclists_df[cyclists_df[\"weight\"] == 94][\"name\"].values[0]} weighted 94 kg')"
   ]
  },
  {
   "cell_type": "markdown",
   "metadata": {},
   "source": [
    "All of this data are real according to the web."
   ]
  },
  {
   "cell_type": "markdown",
   "metadata": {},
   "source": [
    "### Column Analysis"
   ]
  },
  {
   "cell_type": "markdown",
   "metadata": {},
   "source": [
    "#### _url"
   ]
  },
  {
   "cell_type": "markdown",
   "metadata": {},
   "source": [
    "This categorical column contains the unique URL identifier of a cyclist. As we can see after a simple check, the 6134 total values are unique: there are no duplicates in the column nor null values."
   ]
  },
  {
   "cell_type": "code",
   "execution_count": 48,
   "metadata": {},
   "outputs": [
    {
     "name": "stdout",
     "output_type": "stream",
     "text": [
      "0 duplicates found\n"
     ]
    }
   ],
   "source": [
    "print(cyclists_df['_url'].duplicated().sum(), 'duplicates found')\n"
   ]
  },
  {
   "cell_type": "code",
   "execution_count": 49,
   "metadata": {},
   "outputs": [
    {
     "data": {
      "text/plain": [
       "0"
      ]
     },
     "execution_count": 49,
     "metadata": {},
     "output_type": "execute_result"
    }
   ],
   "source": [
    "cyclists_df['_url'].isnull().sum()"
   ]
  },
  {
   "cell_type": "markdown",
   "metadata": {},
   "source": [
    "#### Name"
   ]
  },
  {
   "cell_type": "markdown",
   "metadata": {},
   "source": [
    "It is a categorical column containing the name of a cyclist. As we can see by a first check, there are 7 duplicates in the column. So we analyze them in details."
   ]
  },
  {
   "cell_type": "code",
   "execution_count": 50,
   "metadata": {},
   "outputs": [
    {
     "name": "stdout",
     "output_type": "stream",
     "text": [
      "7 duplicates found\n"
     ]
    }
   ],
   "source": [
    "print(cyclists_df['name'].duplicated().sum(), 'duplicates found')"
   ]
  },
  {
   "cell_type": "markdown",
   "metadata": {},
   "source": [
    "Since the ```_url_``` values are unique we exclude that there are duplicates. Indeed, by visualising which duplicates are in the ```name``` column and their associated ```_url_``` values, we can assume that they are different people since, for istance, ```Sergio Domínguez``` is associated to ```sergio-dominguez-rodriguez``` and ```sergio-dominguez-munoz``` which are two existent and different cyclists. \n",
    "\n",
    "In this example, therefore, the value in the name column is simply a shortened name that is associated with two different cyclists. In case the extended name is the same, we can see that the ```_url_``` value contains a number in the tail to identify the two different cyclists. For example, ```Alessandro Pozzi``` or ```Andrea Peron``` are associated respectively with ```alessandro-pozzi```, ```alessandro-pozzi2``` and ```andrea-peron```, ```andrea-peron-1```. "
   ]
  },
  {
   "cell_type": "code",
   "execution_count": 51,
   "metadata": {},
   "outputs": [
    {
     "data": {
      "text/html": [
       "<div>\n",
       "<style scoped>\n",
       "    .dataframe tbody tr th:only-of-type {\n",
       "        vertical-align: middle;\n",
       "    }\n",
       "\n",
       "    .dataframe tbody tr th {\n",
       "        vertical-align: top;\n",
       "    }\n",
       "\n",
       "    .dataframe thead th {\n",
       "        text-align: right;\n",
       "    }\n",
       "</style>\n",
       "<table border=\"1\" class=\"dataframe\">\n",
       "  <thead>\n",
       "    <tr style=\"text-align: right;\">\n",
       "      <th></th>\n",
       "      <th>_url</th>\n",
       "      <th>name</th>\n",
       "    </tr>\n",
       "  </thead>\n",
       "  <tbody>\n",
       "    <tr>\n",
       "      <th>347</th>\n",
       "      <td>andrea-peron-1</td>\n",
       "      <td>Andrea  Peron</td>\n",
       "    </tr>\n",
       "    <tr>\n",
       "      <th>1745</th>\n",
       "      <td>roman-kreuziger-sr</td>\n",
       "      <td>Roman  Kreuziger</td>\n",
       "    </tr>\n",
       "    <tr>\n",
       "      <th>2235</th>\n",
       "      <td>alessandro-pozzi2</td>\n",
       "      <td>Alessandro  Pozzi</td>\n",
       "    </tr>\n",
       "    <tr>\n",
       "      <th>2601</th>\n",
       "      <td>roman-kreuziger</td>\n",
       "      <td>Roman  Kreuziger</td>\n",
       "    </tr>\n",
       "    <tr>\n",
       "      <th>2682</th>\n",
       "      <td>andrea-peron</td>\n",
       "      <td>Andrea  Peron</td>\n",
       "    </tr>\n",
       "    <tr>\n",
       "      <th>2862</th>\n",
       "      <td>antonio-cabello-baena</td>\n",
       "      <td>Antonio  Cabello</td>\n",
       "    </tr>\n",
       "    <tr>\n",
       "      <th>2939</th>\n",
       "      <td>jesus-lopez23</td>\n",
       "      <td>Jesús  López</td>\n",
       "    </tr>\n",
       "    <tr>\n",
       "      <th>2953</th>\n",
       "      <td>alberto-fernandez-sainz</td>\n",
       "      <td>Alberto  Fernández</td>\n",
       "    </tr>\n",
       "    <tr>\n",
       "      <th>3238</th>\n",
       "      <td>antonio-cabello</td>\n",
       "      <td>Antonio  Cabello</td>\n",
       "    </tr>\n",
       "    <tr>\n",
       "      <th>4917</th>\n",
       "      <td>sergio-dominguez-rodriguez</td>\n",
       "      <td>Sergio  Domínguez</td>\n",
       "    </tr>\n",
       "    <tr>\n",
       "      <th>4919</th>\n",
       "      <td>sergio-dominguez-munoz</td>\n",
       "      <td>Sergio  Domínguez</td>\n",
       "    </tr>\n",
       "    <tr>\n",
       "      <th>5040</th>\n",
       "      <td>jesus-lopez-carril</td>\n",
       "      <td>Jesús  López</td>\n",
       "    </tr>\n",
       "    <tr>\n",
       "      <th>5720</th>\n",
       "      <td>alberto-fernandez-blanco</td>\n",
       "      <td>Alberto  Fernández</td>\n",
       "    </tr>\n",
       "    <tr>\n",
       "      <th>5722</th>\n",
       "      <td>alessandro-pozzi</td>\n",
       "      <td>Alessandro  Pozzi</td>\n",
       "    </tr>\n",
       "  </tbody>\n",
       "</table>\n",
       "</div>"
      ],
      "text/plain": [
       "                            _url                name\n",
       "347               andrea-peron-1       Andrea  Peron\n",
       "1745          roman-kreuziger-sr    Roman  Kreuziger\n",
       "2235           alessandro-pozzi2   Alessandro  Pozzi\n",
       "2601             roman-kreuziger    Roman  Kreuziger\n",
       "2682                andrea-peron       Andrea  Peron\n",
       "2862       antonio-cabello-baena    Antonio  Cabello\n",
       "2939               jesus-lopez23        Jesús  López\n",
       "2953     alberto-fernandez-sainz  Alberto  Fernández\n",
       "3238             antonio-cabello    Antonio  Cabello\n",
       "4917  sergio-dominguez-rodriguez   Sergio  Domínguez\n",
       "4919      sergio-dominguez-munoz   Sergio  Domínguez\n",
       "5040          jesus-lopez-carril        Jesús  López\n",
       "5720    alberto-fernandez-blanco  Alberto  Fernández\n",
       "5722            alessandro-pozzi   Alessandro  Pozzi"
      ]
     },
     "execution_count": 51,
     "metadata": {},
     "output_type": "execute_result"
    }
   ],
   "source": [
    "cyclists_df[cyclists_df.duplicated(subset='name', keep=False)][['_url', 'name']]"
   ]
  },
  {
   "cell_type": "code",
   "execution_count": 52,
   "metadata": {},
   "outputs": [
    {
     "data": {
      "text/html": [
       "<div>\n",
       "<style scoped>\n",
       "    .dataframe tbody tr th:only-of-type {\n",
       "        vertical-align: middle;\n",
       "    }\n",
       "\n",
       "    .dataframe tbody tr th {\n",
       "        vertical-align: top;\n",
       "    }\n",
       "\n",
       "    .dataframe thead th {\n",
       "        text-align: right;\n",
       "    }\n",
       "</style>\n",
       "<table border=\"1\" class=\"dataframe\">\n",
       "  <thead>\n",
       "    <tr style=\"text-align: right;\">\n",
       "      <th></th>\n",
       "      <th>_url</th>\n",
       "      <th>name</th>\n",
       "      <th>birth_year</th>\n",
       "      <th>weight</th>\n",
       "      <th>height</th>\n",
       "      <th>nationality</th>\n",
       "    </tr>\n",
       "  </thead>\n",
       "  <tbody>\n",
       "    <tr>\n",
       "      <th>347</th>\n",
       "      <td>andrea-peron-1</td>\n",
       "      <td>Andrea  Peron</td>\n",
       "      <td>1971.0</td>\n",
       "      <td>70.0</td>\n",
       "      <td>183.0</td>\n",
       "      <td>Italy</td>\n",
       "    </tr>\n",
       "    <tr>\n",
       "      <th>2235</th>\n",
       "      <td>alessandro-pozzi2</td>\n",
       "      <td>Alessandro  Pozzi</td>\n",
       "      <td>1969.0</td>\n",
       "      <td>NaN</td>\n",
       "      <td>NaN</td>\n",
       "      <td>Italy</td>\n",
       "    </tr>\n",
       "    <tr>\n",
       "      <th>2682</th>\n",
       "      <td>andrea-peron</td>\n",
       "      <td>Andrea  Peron</td>\n",
       "      <td>1988.0</td>\n",
       "      <td>70.0</td>\n",
       "      <td>178.0</td>\n",
       "      <td>Italy</td>\n",
       "    </tr>\n",
       "    <tr>\n",
       "      <th>5722</th>\n",
       "      <td>alessandro-pozzi</td>\n",
       "      <td>Alessandro  Pozzi</td>\n",
       "      <td>1954.0</td>\n",
       "      <td>NaN</td>\n",
       "      <td>NaN</td>\n",
       "      <td>Italy</td>\n",
       "    </tr>\n",
       "  </tbody>\n",
       "</table>\n",
       "</div>"
      ],
      "text/plain": [
       "                   _url               name  birth_year  weight  height  \\\n",
       "347      andrea-peron-1      Andrea  Peron      1971.0    70.0   183.0   \n",
       "2235  alessandro-pozzi2  Alessandro  Pozzi      1969.0     NaN     NaN   \n",
       "2682       andrea-peron      Andrea  Peron      1988.0    70.0   178.0   \n",
       "5722   alessandro-pozzi  Alessandro  Pozzi      1954.0     NaN     NaN   \n",
       "\n",
       "     nationality  \n",
       "347        Italy  \n",
       "2235       Italy  \n",
       "2682       Italy  \n",
       "5722       Italy  "
      ]
     },
     "execution_count": 52,
     "metadata": {},
     "output_type": "execute_result"
    }
   ],
   "source": [
    "cyclists_df[cyclists_df['name'].isin(['Andrea  Peron', 'Alessandro  Pozzi'])]"
   ]
  },
  {
   "cell_type": "markdown",
   "metadata": {},
   "source": [
    "Again, an online search allowed us to verify that these are four different people, and also validated the data associated with them in the other columns of the dataset. \n",
    "\n",
    "Apparently no standard is used in the ```_url_``` values to mark two different cyclists. For example, there are two cyclists in the dataset:```Jesús López Carril``` (1949) and ```Jesús López Soriano``` (1955). For the fisrt one, the ```_url``` is ```jesus-lopez-carril``` as expected. For the second one we would have expected an ```_url``` value like ```jesus-lopez-soriano```, instead it is ```jesus-lopez23```"
   ]
  },
  {
   "cell_type": "code",
   "execution_count": 53,
   "metadata": {},
   "outputs": [
    {
     "data": {
      "text/html": [
       "<div>\n",
       "<style scoped>\n",
       "    .dataframe tbody tr th:only-of-type {\n",
       "        vertical-align: middle;\n",
       "    }\n",
       "\n",
       "    .dataframe tbody tr th {\n",
       "        vertical-align: top;\n",
       "    }\n",
       "\n",
       "    .dataframe thead th {\n",
       "        text-align: right;\n",
       "    }\n",
       "</style>\n",
       "<table border=\"1\" class=\"dataframe\">\n",
       "  <thead>\n",
       "    <tr style=\"text-align: right;\">\n",
       "      <th></th>\n",
       "      <th>_url</th>\n",
       "      <th>name</th>\n",
       "      <th>birth_year</th>\n",
       "      <th>weight</th>\n",
       "      <th>height</th>\n",
       "      <th>nationality</th>\n",
       "    </tr>\n",
       "  </thead>\n",
       "  <tbody>\n",
       "    <tr>\n",
       "      <th>2939</th>\n",
       "      <td>jesus-lopez23</td>\n",
       "      <td>Jesús  López</td>\n",
       "      <td>1955.0</td>\n",
       "      <td>NaN</td>\n",
       "      <td>NaN</td>\n",
       "      <td>Spain</td>\n",
       "    </tr>\n",
       "    <tr>\n",
       "      <th>5040</th>\n",
       "      <td>jesus-lopez-carril</td>\n",
       "      <td>Jesús  López</td>\n",
       "      <td>1949.0</td>\n",
       "      <td>NaN</td>\n",
       "      <td>NaN</td>\n",
       "      <td>Spain</td>\n",
       "    </tr>\n",
       "  </tbody>\n",
       "</table>\n",
       "</div>"
      ],
      "text/plain": [
       "                    _url          name  birth_year  weight  height nationality\n",
       "2939       jesus-lopez23  Jesús  López      1955.0     NaN     NaN       Spain\n",
       "5040  jesus-lopez-carril  Jesús  López      1949.0     NaN     NaN       Spain"
      ]
     },
     "execution_count": 53,
     "metadata": {},
     "output_type": "execute_result"
    }
   ],
   "source": [
    "cyclists_df[cyclists_df['name'] == 'Jesús  López']"
   ]
  },
  {
   "cell_type": "markdown",
   "metadata": {},
   "source": [
    "#### birth_year"
   ]
  },
  {
   "cell_type": "markdown",
   "metadata": {},
   "source": [
    "This is a numerical (?) attribute indicating the birth year of a cyclist. For obvious reasons duplicates are allowed. We check if there are null values."
   ]
  },
  {
   "cell_type": "code",
   "execution_count": 54,
   "metadata": {},
   "outputs": [
    {
     "data": {
      "text/plain": [
       "13"
      ]
     },
     "execution_count": 54,
     "metadata": {},
     "output_type": "execute_result"
    }
   ],
   "source": [
    "int(cyclists_df['birth_year'].isnull().sum())"
   ]
  },
  {
   "cell_type": "markdown",
   "metadata": {},
   "source": [
    "Since there are only 13 null values we show all the related rows."
   ]
  },
  {
   "cell_type": "code",
   "execution_count": 55,
   "metadata": {},
   "outputs": [
    {
     "data": {
      "text/html": [
       "<div>\n",
       "<style scoped>\n",
       "    .dataframe tbody tr th:only-of-type {\n",
       "        vertical-align: middle;\n",
       "    }\n",
       "\n",
       "    .dataframe tbody tr th {\n",
       "        vertical-align: top;\n",
       "    }\n",
       "\n",
       "    .dataframe thead th {\n",
       "        text-align: right;\n",
       "    }\n",
       "</style>\n",
       "<table border=\"1\" class=\"dataframe\">\n",
       "  <thead>\n",
       "    <tr style=\"text-align: right;\">\n",
       "      <th></th>\n",
       "      <th>_url</th>\n",
       "      <th>name</th>\n",
       "      <th>birth_year</th>\n",
       "      <th>weight</th>\n",
       "      <th>height</th>\n",
       "      <th>nationality</th>\n",
       "    </tr>\n",
       "  </thead>\n",
       "  <tbody>\n",
       "    <tr>\n",
       "      <th>9</th>\n",
       "      <td>scott-davies</td>\n",
       "      <td>Scott  Davies</td>\n",
       "      <td>NaN</td>\n",
       "      <td>NaN</td>\n",
       "      <td>NaN</td>\n",
       "      <td>NaN</td>\n",
       "    </tr>\n",
       "    <tr>\n",
       "      <th>601</th>\n",
       "      <td>vladimir-malakov</td>\n",
       "      <td>Vladimir  Malakov</td>\n",
       "      <td>NaN</td>\n",
       "      <td>NaN</td>\n",
       "      <td>NaN</td>\n",
       "      <td>Russia</td>\n",
       "    </tr>\n",
       "    <tr>\n",
       "      <th>894</th>\n",
       "      <td>antonio-zanini</td>\n",
       "      <td>Antonio  Zanini</td>\n",
       "      <td>NaN</td>\n",
       "      <td>NaN</td>\n",
       "      <td>NaN</td>\n",
       "      <td>Italy</td>\n",
       "    </tr>\n",
       "    <tr>\n",
       "      <th>2408</th>\n",
       "      <td>filippo-simonetti</td>\n",
       "      <td>Filippo  Simonetti</td>\n",
       "      <td>NaN</td>\n",
       "      <td>NaN</td>\n",
       "      <td>NaN</td>\n",
       "      <td>Italy</td>\n",
       "    </tr>\n",
       "    <tr>\n",
       "      <th>2515</th>\n",
       "      <td>carlos-garcia</td>\n",
       "      <td>Carlos  García</td>\n",
       "      <td>NaN</td>\n",
       "      <td>NaN</td>\n",
       "      <td>NaN</td>\n",
       "      <td>Spain</td>\n",
       "    </tr>\n",
       "    <tr>\n",
       "      <th>2536</th>\n",
       "      <td>alexandr-osipov</td>\n",
       "      <td>Alexandr  Osipov</td>\n",
       "      <td>NaN</td>\n",
       "      <td>NaN</td>\n",
       "      <td>NaN</td>\n",
       "      <td>Russia</td>\n",
       "    </tr>\n",
       "    <tr>\n",
       "      <th>3046</th>\n",
       "      <td>nicolai-kosyakov</td>\n",
       "      <td>Nicolai  Kosyakov</td>\n",
       "      <td>NaN</td>\n",
       "      <td>NaN</td>\n",
       "      <td>NaN</td>\n",
       "      <td>Russia</td>\n",
       "    </tr>\n",
       "    <tr>\n",
       "      <th>3551</th>\n",
       "      <td>nevens-guy</td>\n",
       "      <td>Guy  Nevens</td>\n",
       "      <td>NaN</td>\n",
       "      <td>NaN</td>\n",
       "      <td>NaN</td>\n",
       "      <td>Belgium</td>\n",
       "    </tr>\n",
       "    <tr>\n",
       "      <th>4142</th>\n",
       "      <td>oscar-pumar</td>\n",
       "      <td>Oscar  Pumar</td>\n",
       "      <td>NaN</td>\n",
       "      <td>NaN</td>\n",
       "      <td>NaN</td>\n",
       "      <td>Venezuela</td>\n",
       "    </tr>\n",
       "    <tr>\n",
       "      <th>4384</th>\n",
       "      <td>javier-luquin</td>\n",
       "      <td>Javier  Luquin</td>\n",
       "      <td>NaN</td>\n",
       "      <td>NaN</td>\n",
       "      <td>NaN</td>\n",
       "      <td>Spain</td>\n",
       "    </tr>\n",
       "    <tr>\n",
       "      <th>4756</th>\n",
       "      <td>thierry-lauder</td>\n",
       "      <td>Thierry  Lauder</td>\n",
       "      <td>NaN</td>\n",
       "      <td>NaN</td>\n",
       "      <td>NaN</td>\n",
       "      <td>France</td>\n",
       "    </tr>\n",
       "    <tr>\n",
       "      <th>6072</th>\n",
       "      <td>sergei-jermachenko</td>\n",
       "      <td>Sergei  Jermachenko</td>\n",
       "      <td>NaN</td>\n",
       "      <td>NaN</td>\n",
       "      <td>NaN</td>\n",
       "      <td>Russia</td>\n",
       "    </tr>\n",
       "    <tr>\n",
       "      <th>6080</th>\n",
       "      <td>batik-odriozola</td>\n",
       "      <td>Batik  Odriozola</td>\n",
       "      <td>NaN</td>\n",
       "      <td>NaN</td>\n",
       "      <td>NaN</td>\n",
       "      <td>Spain</td>\n",
       "    </tr>\n",
       "  </tbody>\n",
       "</table>\n",
       "</div>"
      ],
      "text/plain": [
       "                    _url                 name  birth_year  weight  height  \\\n",
       "9           scott-davies        Scott  Davies         NaN     NaN     NaN   \n",
       "601     vladimir-malakov    Vladimir  Malakov         NaN     NaN     NaN   \n",
       "894       antonio-zanini      Antonio  Zanini         NaN     NaN     NaN   \n",
       "2408   filippo-simonetti   Filippo  Simonetti         NaN     NaN     NaN   \n",
       "2515       carlos-garcia       Carlos  García         NaN     NaN     NaN   \n",
       "2536     alexandr-osipov     Alexandr  Osipov         NaN     NaN     NaN   \n",
       "3046    nicolai-kosyakov    Nicolai  Kosyakov         NaN     NaN     NaN   \n",
       "3551          nevens-guy          Guy  Nevens         NaN     NaN     NaN   \n",
       "4142         oscar-pumar         Oscar  Pumar         NaN     NaN     NaN   \n",
       "4384       javier-luquin       Javier  Luquin         NaN     NaN     NaN   \n",
       "4756      thierry-lauder      Thierry  Lauder         NaN     NaN     NaN   \n",
       "6072  sergei-jermachenko  Sergei  Jermachenko         NaN     NaN     NaN   \n",
       "6080     batik-odriozola     Batik  Odriozola         NaN     NaN     NaN   \n",
       "\n",
       "     nationality  \n",
       "9            NaN  \n",
       "601       Russia  \n",
       "894        Italy  \n",
       "2408       Italy  \n",
       "2515       Spain  \n",
       "2536      Russia  \n",
       "3046      Russia  \n",
       "3551     Belgium  \n",
       "4142   Venezuela  \n",
       "4384       Spain  \n",
       "4756      France  \n",
       "6072      Russia  \n",
       "6080       Spain  "
      ]
     },
     "execution_count": 55,
     "metadata": {},
     "output_type": "execute_result"
    }
   ],
   "source": [
    "cyclists_df[cyclists_df['birth_year'].isnull()]"
   ]
  },
  {
   "cell_type": "markdown",
   "metadata": {},
   "source": [
    "As we can see from the table above, also the ```weight``` and ```height``` values are ```NaN``` when ```birth_year``` is null."
   ]
  },
  {
   "cell_type": "markdown",
   "metadata": {},
   "source": [
    "##### Plots"
   ]
  },
  {
   "cell_type": "code",
   "execution_count": 56,
   "metadata": {},
   "outputs": [
    {
     "data": {
      "image/png": "[encoded data removed]",
      "text/plain": [
       "<Figure size 1000x600 with 1 Axes>"
      ]
     },
     "metadata": {},
     "output_type": "display_data"
    }
   ],
   "source": [
    "plt.figure(figsize=(10, 6))\n",
    "sns.histplot(cyclists_df['birth_year'].dropna())\n",
    "plt.title('birth_year distribution')\n",
    "plt.xlabel('Birth Year')\n",
    "plt.ylabel('Frequency')\n",
    "plt.show()"
   ]
  },
  {
   "cell_type": "markdown",
   "metadata": {},
   "source": [
    "TODO: comment histogram"
   ]
  },
  {
   "cell_type": "code",
   "execution_count": 57,
   "metadata": {},
   "outputs": [
    {
     "data": {
      "image/png": "[encoded data removed]",
      "text/plain": [
       "<Figure size 500x1000 with 1 Axes>"
      ]
     },
     "metadata": {},
     "output_type": "display_data"
    }
   ],
   "source": [
    "plt.figure(figsize=(5, 10))\n",
    "sns.boxplot(y=cyclists_df['birth_year'])\n",
    "plt.title('Boxplot of Birth Year')\n",
    "plt.ylabel('Birth Year')\n",
    "plt.show()"
   ]
  },
  {
   "cell_type": "code",
   "execution_count": 58,
   "metadata": {},
   "outputs": [
    {
     "data": {
      "text/plain": [
       "count    6121.000000\n",
       "mean     1974.071884\n",
       "std        15.535834\n",
       "min      1933.000000\n",
       "25%      1962.000000\n",
       "50%      1974.000000\n",
       "75%      1987.000000\n",
       "max      2004.000000\n",
       "Name: birth_year, dtype: float64"
      ]
     },
     "execution_count": 58,
     "metadata": {},
     "output_type": "execute_result"
    }
   ],
   "source": [
    "cyclists_df['birth_year'].describe()"
   ]
  },
  {
   "cell_type": "markdown",
   "metadata": {},
   "source": [
    "Overall, the distribution of ```birth_year``` is centered in 1974, with most people being born between 1962 and 1987, and the total range spans from 1933 to 2004. There don't seem to be any outliers as no individual points are plotted outside of the whiskers."
   ]
  },
  {
   "cell_type": "markdown",
   "metadata": {},
   "source": [
    "#### weight"
   ]
  },
  {
   "cell_type": "markdown",
   "metadata": {},
   "source": [
    "This is a numerical attribute. Duplicates are allowed for obvious reasons. We check null values."
   ]
  },
  {
   "cell_type": "code",
   "execution_count": 59,
   "metadata": {},
   "outputs": [
    {
     "data": {
      "text/plain": [
       "3056"
      ]
     },
     "execution_count": 59,
     "metadata": {},
     "output_type": "execute_result"
    }
   ],
   "source": [
    "int(cyclists_df['weight'].isnull().sum())"
   ]
  },
  {
   "cell_type": "code",
   "execution_count": 60,
   "metadata": {},
   "outputs": [
    {
     "data": {
      "text/html": [
       "<div>\n",
       "<style scoped>\n",
       "    .dataframe tbody tr th:only-of-type {\n",
       "        vertical-align: middle;\n",
       "    }\n",
       "\n",
       "    .dataframe tbody tr th {\n",
       "        vertical-align: top;\n",
       "    }\n",
       "\n",
       "    .dataframe thead th {\n",
       "        text-align: right;\n",
       "    }\n",
       "</style>\n",
       "<table border=\"1\" class=\"dataframe\">\n",
       "  <thead>\n",
       "    <tr style=\"text-align: right;\">\n",
       "      <th></th>\n",
       "      <th>_url</th>\n",
       "      <th>name</th>\n",
       "      <th>birth_year</th>\n",
       "      <th>weight</th>\n",
       "      <th>height</th>\n",
       "      <th>nationality</th>\n",
       "    </tr>\n",
       "  </thead>\n",
       "  <tbody>\n",
       "    <tr>\n",
       "      <th>1068</th>\n",
       "      <td>alain-bondue</td>\n",
       "      <td>Alain  Bondue</td>\n",
       "      <td>1959.0</td>\n",
       "      <td>NaN</td>\n",
       "      <td>NaN</td>\n",
       "      <td>France</td>\n",
       "    </tr>\n",
       "    <tr>\n",
       "      <th>2349</th>\n",
       "      <td>johnny-dauwe</td>\n",
       "      <td>Johnny  Dauwe</td>\n",
       "      <td>1966.0</td>\n",
       "      <td>NaN</td>\n",
       "      <td>NaN</td>\n",
       "      <td>Belgium</td>\n",
       "    </tr>\n",
       "    <tr>\n",
       "      <th>4354</th>\n",
       "      <td>hugo-van-gastel</td>\n",
       "      <td>Hugo Van Gastel</td>\n",
       "      <td>1953.0</td>\n",
       "      <td>NaN</td>\n",
       "      <td>NaN</td>\n",
       "      <td>Belgium</td>\n",
       "    </tr>\n",
       "    <tr>\n",
       "      <th>4020</th>\n",
       "      <td>julio-lopez</td>\n",
       "      <td>Julio  Lopez</td>\n",
       "      <td>1978.0</td>\n",
       "      <td>NaN</td>\n",
       "      <td>NaN</td>\n",
       "      <td>Spain</td>\n",
       "    </tr>\n",
       "    <tr>\n",
       "      <th>554</th>\n",
       "      <td>claudio-savini</td>\n",
       "      <td>Claudio  Savini</td>\n",
       "      <td>1956.0</td>\n",
       "      <td>NaN</td>\n",
       "      <td>NaN</td>\n",
       "      <td>Italy</td>\n",
       "    </tr>\n",
       "    <tr>\n",
       "      <th>3361</th>\n",
       "      <td>yvan-lamote</td>\n",
       "      <td>Yvan  Lamote</td>\n",
       "      <td>1958.0</td>\n",
       "      <td>NaN</td>\n",
       "      <td>NaN</td>\n",
       "      <td>Belgium</td>\n",
       "    </tr>\n",
       "    <tr>\n",
       "      <th>5692</th>\n",
       "      <td>stefano-dante</td>\n",
       "      <td>Stefano  Dante</td>\n",
       "      <td>1970.0</td>\n",
       "      <td>NaN</td>\n",
       "      <td>NaN</td>\n",
       "      <td>Italy</td>\n",
       "    </tr>\n",
       "    <tr>\n",
       "      <th>2239</th>\n",
       "      <td>pino-cerami-2</td>\n",
       "      <td>Pino  Cerami</td>\n",
       "      <td>1963.0</td>\n",
       "      <td>NaN</td>\n",
       "      <td>NaN</td>\n",
       "      <td>Belgium</td>\n",
       "    </tr>\n",
       "    <tr>\n",
       "      <th>5231</th>\n",
       "      <td>hubert-mathis</td>\n",
       "      <td>Hubert  Mathis</td>\n",
       "      <td>1952.0</td>\n",
       "      <td>NaN</td>\n",
       "      <td>NaN</td>\n",
       "      <td>France</td>\n",
       "    </tr>\n",
       "    <tr>\n",
       "      <th>2590</th>\n",
       "      <td>michel-klinger</td>\n",
       "      <td>Michel  Klinger</td>\n",
       "      <td>1977.0</td>\n",
       "      <td>NaN</td>\n",
       "      <td>NaN</td>\n",
       "      <td>Switzerland</td>\n",
       "    </tr>\n",
       "    <tr>\n",
       "      <th>2523</th>\n",
       "      <td>mirco-crepaldi</td>\n",
       "      <td>Mirco  Crepaldi</td>\n",
       "      <td>1972.0</td>\n",
       "      <td>NaN</td>\n",
       "      <td>NaN</td>\n",
       "      <td>Italy</td>\n",
       "    </tr>\n",
       "    <tr>\n",
       "      <th>4071</th>\n",
       "      <td>emilien-jeanniere</td>\n",
       "      <td>Emilien  Jeannière</td>\n",
       "      <td>1998.0</td>\n",
       "      <td>NaN</td>\n",
       "      <td>176.0</td>\n",
       "      <td>France</td>\n",
       "    </tr>\n",
       "    <tr>\n",
       "      <th>1309</th>\n",
       "      <td>marco-antonio-leon</td>\n",
       "      <td>Marco Antonio  León</td>\n",
       "      <td>1962.0</td>\n",
       "      <td>NaN</td>\n",
       "      <td>NaN</td>\n",
       "      <td>Colombia</td>\n",
       "    </tr>\n",
       "    <tr>\n",
       "      <th>5762</th>\n",
       "      <td>thierry-claveyrolat</td>\n",
       "      <td>Thierry  Claveyrolat</td>\n",
       "      <td>1959.0</td>\n",
       "      <td>NaN</td>\n",
       "      <td>NaN</td>\n",
       "      <td>France</td>\n",
       "    </tr>\n",
       "    <tr>\n",
       "      <th>4459</th>\n",
       "      <td>jaak-de-boever</td>\n",
       "      <td>Jaak De Boever</td>\n",
       "      <td>1937.0</td>\n",
       "      <td>NaN</td>\n",
       "      <td>NaN</td>\n",
       "      <td>Belgium</td>\n",
       "    </tr>\n",
       "    <tr>\n",
       "      <th>4694</th>\n",
       "      <td>michel-coulon</td>\n",
       "      <td>Michel  Coulon</td>\n",
       "      <td>1947.0</td>\n",
       "      <td>NaN</td>\n",
       "      <td>NaN</td>\n",
       "      <td>Belgium</td>\n",
       "    </tr>\n",
       "    <tr>\n",
       "      <th>1875</th>\n",
       "      <td>ezio-moroni</td>\n",
       "      <td>Ezio  Moroni</td>\n",
       "      <td>1961.0</td>\n",
       "      <td>NaN</td>\n",
       "      <td>NaN</td>\n",
       "      <td>Italy</td>\n",
       "    </tr>\n",
       "    <tr>\n",
       "      <th>4066</th>\n",
       "      <td>manuel-imanol-murga</td>\n",
       "      <td>Manuel Imanol  Murga</td>\n",
       "      <td>1958.0</td>\n",
       "      <td>NaN</td>\n",
       "      <td>NaN</td>\n",
       "      <td>Spain</td>\n",
       "    </tr>\n",
       "    <tr>\n",
       "      <th>1112</th>\n",
       "      <td>casper-van-der-meer</td>\n",
       "      <td>Casper Van Der Meer</td>\n",
       "      <td>1965.0</td>\n",
       "      <td>NaN</td>\n",
       "      <td>NaN</td>\n",
       "      <td>Netherlands</td>\n",
       "    </tr>\n",
       "    <tr>\n",
       "      <th>26</th>\n",
       "      <td>alain-gallopin</td>\n",
       "      <td>Alain  Gallopin</td>\n",
       "      <td>1957.0</td>\n",
       "      <td>NaN</td>\n",
       "      <td>NaN</td>\n",
       "      <td>France</td>\n",
       "    </tr>\n",
       "    <tr>\n",
       "      <th>3080</th>\n",
       "      <td>antonio-espejo</td>\n",
       "      <td>Antonio  Espejo</td>\n",
       "      <td>1968.0</td>\n",
       "      <td>NaN</td>\n",
       "      <td>NaN</td>\n",
       "      <td>Spain</td>\n",
       "    </tr>\n",
       "    <tr>\n",
       "      <th>5810</th>\n",
       "      <td>roberto-longo</td>\n",
       "      <td>Roberto  Longo</td>\n",
       "      <td>1984.0</td>\n",
       "      <td>NaN</td>\n",
       "      <td>NaN</td>\n",
       "      <td>Italy</td>\n",
       "    </tr>\n",
       "    <tr>\n",
       "      <th>2794</th>\n",
       "      <td>matteo-rabottini</td>\n",
       "      <td>Matteo  Rabottini</td>\n",
       "      <td>1987.0</td>\n",
       "      <td>NaN</td>\n",
       "      <td>NaN</td>\n",
       "      <td>Italy</td>\n",
       "    </tr>\n",
       "    <tr>\n",
       "      <th>4762</th>\n",
       "      <td>michel-balbuena</td>\n",
       "      <td>Michel  Balbuena</td>\n",
       "      <td>1954.0</td>\n",
       "      <td>NaN</td>\n",
       "      <td>NaN</td>\n",
       "      <td>France</td>\n",
       "    </tr>\n",
       "    <tr>\n",
       "      <th>3578</th>\n",
       "      <td>patrick-serra</td>\n",
       "      <td>Patrick  Serra</td>\n",
       "      <td>1962.0</td>\n",
       "      <td>NaN</td>\n",
       "      <td>NaN</td>\n",
       "      <td>Sweden</td>\n",
       "    </tr>\n",
       "  </tbody>\n",
       "</table>\n",
       "</div>"
      ],
      "text/plain": [
       "                     _url                  name  birth_year  weight  height  \\\n",
       "1068         alain-bondue         Alain  Bondue      1959.0     NaN     NaN   \n",
       "2349         johnny-dauwe         Johnny  Dauwe      1966.0     NaN     NaN   \n",
       "4354      hugo-van-gastel       Hugo Van Gastel      1953.0     NaN     NaN   \n",
       "4020          julio-lopez          Julio  Lopez      1978.0     NaN     NaN   \n",
       "554        claudio-savini       Claudio  Savini      1956.0     NaN     NaN   \n",
       "3361          yvan-lamote          Yvan  Lamote      1958.0     NaN     NaN   \n",
       "5692        stefano-dante        Stefano  Dante      1970.0     NaN     NaN   \n",
       "2239        pino-cerami-2          Pino  Cerami      1963.0     NaN     NaN   \n",
       "5231        hubert-mathis        Hubert  Mathis      1952.0     NaN     NaN   \n",
       "2590       michel-klinger       Michel  Klinger      1977.0     NaN     NaN   \n",
       "2523       mirco-crepaldi       Mirco  Crepaldi      1972.0     NaN     NaN   \n",
       "4071    emilien-jeanniere    Emilien  Jeannière      1998.0     NaN   176.0   \n",
       "1309   marco-antonio-leon   Marco Antonio  León      1962.0     NaN     NaN   \n",
       "5762  thierry-claveyrolat  Thierry  Claveyrolat      1959.0     NaN     NaN   \n",
       "4459       jaak-de-boever        Jaak De Boever      1937.0     NaN     NaN   \n",
       "4694        michel-coulon        Michel  Coulon      1947.0     NaN     NaN   \n",
       "1875          ezio-moroni          Ezio  Moroni      1961.0     NaN     NaN   \n",
       "4066  manuel-imanol-murga  Manuel Imanol  Murga      1958.0     NaN     NaN   \n",
       "1112  casper-van-der-meer   Casper Van Der Meer      1965.0     NaN     NaN   \n",
       "26         alain-gallopin       Alain  Gallopin      1957.0     NaN     NaN   \n",
       "3080       antonio-espejo       Antonio  Espejo      1968.0     NaN     NaN   \n",
       "5810        roberto-longo        Roberto  Longo      1984.0     NaN     NaN   \n",
       "2794     matteo-rabottini     Matteo  Rabottini      1987.0     NaN     NaN   \n",
       "4762      michel-balbuena      Michel  Balbuena      1954.0     NaN     NaN   \n",
       "3578        patrick-serra        Patrick  Serra      1962.0     NaN     NaN   \n",
       "\n",
       "      nationality  \n",
       "1068       France  \n",
       "2349      Belgium  \n",
       "4354      Belgium  \n",
       "4020        Spain  \n",
       "554         Italy  \n",
       "3361      Belgium  \n",
       "5692        Italy  \n",
       "2239      Belgium  \n",
       "5231       France  \n",
       "2590  Switzerland  \n",
       "2523        Italy  \n",
       "4071       France  \n",
       "1309     Colombia  \n",
       "5762       France  \n",
       "4459      Belgium  \n",
       "4694      Belgium  \n",
       "1875        Italy  \n",
       "4066        Spain  \n",
       "1112  Netherlands  \n",
       "26         France  \n",
       "3080        Spain  \n",
       "5810        Italy  \n",
       "2794        Italy  \n",
       "4762       France  \n",
       "3578       Sweden  "
      ]
     },
     "execution_count": 60,
     "metadata": {},
     "output_type": "execute_result"
    }
   ],
   "source": [
    "cyclists_df[cyclists_df['weight'].isnull()].sample(25)"
   ]
  },
  {
   "cell_type": "markdown",
   "metadata": {},
   "source": [
    "There are 3056 ```NaN``` values for the ```weight``` attribute. By picking a small random sample of the rows where  the ```weight``` attribute is ```NaN``` we notice that also the ```height``` is ```NaN```."
   ]
  },
  {
   "cell_type": "markdown",
   "metadata": {},
   "source": [
    "##### Plots"
   ]
  },
  {
   "cell_type": "code",
   "execution_count": 61,
   "metadata": {},
   "outputs": [
    {
     "data": {
      "image/png": "[encoded data removed]",
      "text/plain": [
       "<Figure size 1000x600 with 1 Axes>"
      ]
     },
     "metadata": {},
     "output_type": "display_data"
    }
   ],
   "source": [
    "plt.figure(figsize=(10, 6))\n",
    "sns.histplot(cyclists_df['weight'].dropna())\n",
    "plt.title('weight distribution')\n",
    "plt.xlabel('weight')\n",
    "plt.ylabel('Frequency')\n",
    "plt.show()"
   ]
  },
  {
   "cell_type": "markdown",
   "metadata": {},
   "source": [
    "TODO: comment the histogram"
   ]
  },
  {
   "cell_type": "code",
   "execution_count": 62,
   "metadata": {},
   "outputs": [
    {
     "data": {
      "image/png": "[encoded data removed]",
      "text/plain": [
       "<Figure size 500x1000 with 1 Axes>"
      ]
     },
     "metadata": {},
     "output_type": "display_data"
    }
   ],
   "source": [
    "plt.figure(figsize=(5, 10))\n",
    "sns.boxplot(y=cyclists_df['weight'])\n",
    "plt.title('Boxplot of weight')\n",
    "plt.ylabel('Weight')\n",
    "plt.show()"
   ]
  },
  {
   "cell_type": "code",
   "execution_count": 63,
   "metadata": {},
   "outputs": [
    {
     "data": {
      "text/plain": [
       "count    3078.000000\n",
       "mean       68.658739\n",
       "std         6.348183\n",
       "min        48.000000\n",
       "25%        64.000000\n",
       "50%        69.000000\n",
       "75%        73.000000\n",
       "max        94.000000\n",
       "Name: weight, dtype: float64"
      ]
     },
     "execution_count": 63,
     "metadata": {},
     "output_type": "execute_result"
    }
   ],
   "source": [
    "cyclists_df['weight'].describe()"
   ]
  },
  {
   "cell_type": "markdown",
   "metadata": {},
   "source": [
    "There are some outliers, more concentrated on the upper whisker. This, together with the other characteristics of the boxplot suggests positive skewness."
   ]
  },
  {
   "cell_type": "markdown",
   "metadata": {},
   "source": [
    "#### height"
   ]
  },
  {
   "cell_type": "markdown",
   "metadata": {},
   "source": [
    "This is a numerical attribute. Duplicates are allowed for obvious reasons. We check null values."
   ]
  },
  {
   "cell_type": "code",
   "execution_count": 64,
   "metadata": {},
   "outputs": [
    {
     "data": {
      "text/plain": [
       "2991"
      ]
     },
     "execution_count": 64,
     "metadata": {},
     "output_type": "execute_result"
    }
   ],
   "source": [
    "int(cyclists_df['height'].isnull().sum())"
   ]
  },
  {
   "cell_type": "markdown",
   "metadata": {},
   "source": [
    "There are 2991 ```NaN``` values for the ```height``` attribute. As mentioned above, it is very likely to find a ```NaN``` in ```height``` column when even ```weight``` is ```NaN```."
   ]
  },
  {
   "cell_type": "markdown",
   "metadata": {},
   "source": [
    "##### Plots"
   ]
  },
  {
   "cell_type": "code",
   "execution_count": 65,
   "metadata": {},
   "outputs": [
    {
     "data": {
      "image/png": "[encoded data removed]",
      "text/plain": [
       "<Figure size 1000x600 with 1 Axes>"
      ]
     },
     "metadata": {},
     "output_type": "display_data"
    }
   ],
   "source": [
    "plt.figure(figsize=(10, 6))\n",
    "sns.histplot(cyclists_df['height'].dropna())\n",
    "plt.title('height distribution')\n",
    "plt.xlabel('height')\n",
    "plt.ylabel('Frequency')\n",
    "plt.show()"
   ]
  },
  {
   "cell_type": "code",
   "execution_count": 66,
   "metadata": {},
   "outputs": [
    {
     "data": {
      "image/png": "[encoded data removed]",
      "text/plain": [
       "<Figure size 500x1000 with 1 Axes>"
      ]
     },
     "metadata": {},
     "output_type": "display_data"
    }
   ],
   "source": [
    "plt.figure(figsize=(5, 10))\n",
    "sns.boxplot(y=cyclists_df['height'])\n",
    "plt.title('Boxplot of height')\n",
    "plt.ylabel('Height')\n",
    "plt.show()"
   ]
  },
  {
   "cell_type": "code",
   "execution_count": 67,
   "metadata": {},
   "outputs": [
    {
     "data": {
      "text/plain": [
       "count    3143.000000\n",
       "mean      179.815145\n",
       "std         6.443447\n",
       "min       154.000000\n",
       "25%       175.000000\n",
       "50%       180.000000\n",
       "75%       184.000000\n",
       "max       204.000000\n",
       "Name: height, dtype: float64"
      ]
     },
     "execution_count": 67,
     "metadata": {},
     "output_type": "execute_result"
    }
   ],
   "source": [
    "cyclists_df['height'].describe()"
   ]
  },
  {
   "cell_type": "markdown",
   "metadata": {},
   "source": [
    "There are some outliers, this time concentrated more or less equally beyond both the whiskers. The boxplot, together with the histogram plotted before, suggest a relatively symmetric distribution of the ```height``` values"
   ]
  },
  {
   "cell_type": "markdown",
   "metadata": {},
   "source": [
    "#### nationality"
   ]
  },
  {
   "cell_type": "markdown",
   "metadata": {},
   "source": [
    "This is a categorical attribute. Duplicates are allowed. We check the presence of null values."
   ]
  },
  {
   "cell_type": "code",
   "execution_count": 68,
   "metadata": {},
   "outputs": [
    {
     "data": {
      "text/plain": [
       "1"
      ]
     },
     "execution_count": 68,
     "metadata": {},
     "output_type": "execute_result"
    }
   ],
   "source": [
    "int(cyclists_df['nationality'].isnull().sum())"
   ]
  },
  {
   "cell_type": "code",
   "execution_count": 69,
   "metadata": {},
   "outputs": [
    {
     "data": {
      "text/html": [
       "<div>\n",
       "<style scoped>\n",
       "    .dataframe tbody tr th:only-of-type {\n",
       "        vertical-align: middle;\n",
       "    }\n",
       "\n",
       "    .dataframe tbody tr th {\n",
       "        vertical-align: top;\n",
       "    }\n",
       "\n",
       "    .dataframe thead th {\n",
       "        text-align: right;\n",
       "    }\n",
       "</style>\n",
       "<table border=\"1\" class=\"dataframe\">\n",
       "  <thead>\n",
       "    <tr style=\"text-align: right;\">\n",
       "      <th></th>\n",
       "      <th>_url</th>\n",
       "      <th>name</th>\n",
       "      <th>birth_year</th>\n",
       "      <th>weight</th>\n",
       "      <th>height</th>\n",
       "      <th>nationality</th>\n",
       "    </tr>\n",
       "  </thead>\n",
       "  <tbody>\n",
       "    <tr>\n",
       "      <th>9</th>\n",
       "      <td>scott-davies</td>\n",
       "      <td>Scott  Davies</td>\n",
       "      <td>NaN</td>\n",
       "      <td>NaN</td>\n",
       "      <td>NaN</td>\n",
       "      <td>NaN</td>\n",
       "    </tr>\n",
       "  </tbody>\n",
       "</table>\n",
       "</div>"
      ],
      "text/plain": [
       "           _url           name  birth_year  weight  height nationality\n",
       "9  scott-davies  Scott  Davies         NaN     NaN     NaN         NaN"
      ]
     },
     "execution_count": 69,
     "metadata": {},
     "output_type": "execute_result"
    }
   ],
   "source": [
    "cyclists_df[cyclists_df['nationality'].isnull()]"
   ]
  },
  {
   "cell_type": "markdown",
   "metadata": {},
   "source": [
    "There is only one null value in the ```nationality``` column."
   ]
  },
  {
   "cell_type": "code",
   "execution_count": 70,
   "metadata": {},
   "outputs": [
    {
     "data": {
      "text/plain": [
       "array(['Italy', 'France', 'Netherlands', 'Belgium', 'Spain',\n",
       "       'United States', nan, 'Norway', 'Russia', 'Poland', 'Germany',\n",
       "       'Australia', 'Switzerland', 'Ireland', 'Denmark', 'Great Britain',\n",
       "       'Colombia', 'South Africa', 'Argentina', 'New Zealand',\n",
       "       'Lithuania', 'Portugal', 'Austria', 'Yugoslavia', 'Estonia',\n",
       "       'Romania', 'Slovenia', 'Canada', 'Latvia', 'Luxembourg', 'Sweden',\n",
       "       'Czech Republic', 'Slovakia', 'Morocco', 'Ukraine', 'Ethiopia',\n",
       "       'Belarus', 'Venezuela', 'Japan', 'Mexico', 'Croatia', 'Kazakhstan',\n",
       "       'Uruguay', 'Israel', 'Namibia', 'Eritrea', 'Costa Rica', 'Taiwan',\n",
       "       'Azerbaijan', 'Hungary', 'Moldova', 'Panama', 'Finland',\n",
       "       'Bulgaria', 'Serbia', 'Brazil', 'Iran', 'Greece', 'Chile',\n",
       "       'Ecuador', 'China', 'Albania', 'Guatemala', 'Uzbekistan',\n",
       "       'Algeria', 'Tunisia', 'Monaco', 'Rwanda', 'Dominican Republic',\n",
       "       'Liechtenstein', 'Zimbabwe', 'Puerto Rico', 'Hongkong'],\n",
       "      dtype=object)"
      ]
     },
     "execution_count": 70,
     "metadata": {},
     "output_type": "execute_result"
    }
   ],
   "source": [
    "cyclists_df['nationality'].unique()"
   ]
  },
  {
   "cell_type": "markdown",
   "metadata": {},
   "source": [
    "Displaying the unique values of ```nationality``` there are apparently no problematic values in the column. All values are semantically and syntactically (check!!!) correct."
   ]
  },
  {
   "cell_type": "markdown",
   "metadata": {},
   "source": [
    "##### Plots"
   ]
  },
  {
   "cell_type": "code",
   "execution_count": 71,
   "metadata": {},
   "outputs": [
    {
     "data": {
      "image/png": "[encoded data removed]",
      "text/plain": [
       "<Figure size 1200x600 with 1 Axes>"
      ]
     },
     "metadata": {},
     "output_type": "display_data"
    }
   ],
   "source": [
    "plt.figure(figsize=(12, 6))\n",
    "sns.countplot(x='nationality', data=cyclists_df, order=cyclists_df['nationality'].value_counts().index)\n",
    "plt.title('Histogram of Nationality')\n",
    "plt.xlabel('Nationality')\n",
    "plt.ylabel('Count')\n",
    "plt.xticks(rotation=90)  # Rotate x-axis labels for better readability\n",
    "plt.show()"
   ]
  },
  {
   "cell_type": "markdown",
   "metadata": {},
   "source": [
    "### Correlation Analysis"
   ]
  },
  {
   "cell_type": "code",
   "execution_count": 72,
   "metadata": {},
   "outputs": [
    {
     "data": {
      "image/png": "[encoded data removed]",
      "text/plain": [
       "<Figure size 1200x800 with 2 Axes>"
      ]
     },
     "metadata": {},
     "output_type": "display_data"
    }
   ],
   "source": [
    "# Calculate the correlation matrix excluding non-numeric columns\n",
    "correlation_matrix = cyclists_df[cyclists_numeric].corr()\n",
    "\n",
    "# Plot the heatmap\n",
    "plt.figure(figsize=(12, 8))\n",
    "sns.heatmap(correlation_matrix, annot=True, cmap='coolwarm', linewidths=0.5)\n",
    "plt.title('Correlation Matrix of Cyclists Dataset')\n",
    "plt.show()"
   ]
  },
  {
   "cell_type": "markdown",
   "metadata": {},
   "source": [
    "# **Races Dataset**"
   ]
  },
  {
   "cell_type": "code",
   "execution_count": 73,
   "metadata": {},
   "outputs": [],
   "source": [
    "races_df = pd.read_csv('../dataset/races.csv')\n",
    "\n",
    "races_numeric_stage = [\"length\", \"climb_total\", \"startlist_quality\", \"average_temperature\"]\n",
    "races_numeric = [\"position\", \"cyclist_age\", \"delta\"]\n",
    "races_categorical = [\"points\", \"uci_points\", \"profile\"]\n",
    "races_binary = [\"is_tarmac\", \"is_cobbled\", \"is_gravel\"]"
   ]
  },
  {
   "cell_type": "markdown",
   "metadata": {},
   "source": [
    "### **Basic Checks**"
   ]
  },
  {
   "cell_type": "markdown",
   "metadata": {},
   "source": [
    "#### • Attributes types"
   ]
  },
  {
   "cell_type": "code",
   "execution_count": 74,
   "metadata": {},
   "outputs": [
    {
     "name": "stdout",
     "output_type": "stream",
     "text": [
      "<class 'pandas.core.frame.DataFrame'>\n",
      "RangeIndex: 589865 entries, 0 to 589864\n",
      "Data columns (total 18 columns):\n",
      " #   Column               Non-Null Count   Dtype  \n",
      "---  ------               --------------   -----  \n",
      " 0   _url                 589865 non-null  object \n",
      " 1   name                 589865 non-null  object \n",
      " 2   points               589388 non-null  float64\n",
      " 3   uci_points           251086 non-null  float64\n",
      " 4   length               589865 non-null  float64\n",
      " 5   climb_total          442820 non-null  float64\n",
      " 6   profile              441671 non-null  float64\n",
      " 7   startlist_quality    589865 non-null  int64  \n",
      " 8   average_temperature  29933 non-null   float64\n",
      " 9   date                 589865 non-null  object \n",
      " 10  position             589865 non-null  int64  \n",
      " 11  cyclist              589865 non-null  object \n",
      " 12  cyclist_age          589752 non-null  float64\n",
      " 13  is_tarmac            589865 non-null  bool   \n",
      " 14  is_cobbled           589865 non-null  bool   \n",
      " 15  is_gravel            589865 non-null  bool   \n",
      " 16  cyclist_team         430704 non-null  object \n",
      " 17  delta                589865 non-null  float64\n",
      "dtypes: bool(3), float64(8), int64(2), object(5)\n",
      "memory usage: 69.2+ MB\n"
     ]
    }
   ],
   "source": [
    "races_df.info()"
   ]
  },
  {
   "cell_type": "markdown",
   "metadata": {},
   "source": [
    "#### • Check null values"
   ]
  },
  {
   "cell_type": "code",
   "execution_count": 75,
   "metadata": {},
   "outputs": [
    {
     "data": {
      "image/png": "[encoded data removed]",
      "text/plain": [
       "<Figure size 1000x600 with 1 Axes>"
      ]
     },
     "metadata": {},
     "output_type": "display_data"
    }
   ],
   "source": [
    "# Calculate the number of null values for each column\n",
    "null_counts = races_df.isnull().sum()\n",
    "\n",
    "# Plot the histogram\n",
    "ax = null_counts.plot(kind='bar', figsize=(10, 6), title='Histogram of Null Values for Each Column in Races Dataset')\n",
    "plt.xlabel('Attributes')\n",
    "plt.ylabel('Number of Null Values')\n",
    "\n",
    "# Add y values over the columns, rotating only for \"climb_total\" and \"profile\"\n",
    "for i, v in enumerate(null_counts):\n",
    "    if null_counts.index[i] in [\"climb_total\", \"profile\"]:\n",
    "        ax.text(i, v + 50, str(v), ha='center', va='bottom', rotation=45)\n",
    "    else:\n",
    "        ax.text(i, v + 50, str(v), ha='center', va='bottom')\n",
    "\n",
    "plt.show()"
   ]
  },
  {
   "cell_type": "markdown",
   "metadata": {},
   "source": [
    "#### • Duplicates"
   ]
  },
  {
   "cell_type": "markdown",
   "metadata": {},
   "source": [
    "It is easy to observe that for each entry related to a stage of a race, different cyclists should be associated. We therefore check that this is true and that there are no duplicates. "
   ]
  },
  {
   "cell_type": "code",
   "execution_count": 76,
   "metadata": {},
   "outputs": [
    {
     "name": "stdout",
     "output_type": "stream",
     "text": [
      "                                _url            cyclist  count\n",
      "9550           dauphine/2005/stage-1     ivan-gutierrez      2\n",
      "9703           dauphine/2005/stage-2     ivan-gutierrez      2\n",
      "9854           dauphine/2005/stage-3     ivan-gutierrez      2\n",
      "10002          dauphine/2005/stage-4     ivan-gutierrez      2\n",
      "10144          dauphine/2005/stage-5     ivan-gutierrez      2\n",
      "...                              ...                ...    ...\n",
      "500394  vuelta-a-espana/1997/stage-3  eleuterio-anguita      2\n",
      "500777  vuelta-a-espana/1997/stage-5  eleuterio-anguita      2\n",
      "500957  vuelta-a-espana/1997/stage-6  eleuterio-anguita      2\n",
      "501131  vuelta-a-espana/1997/stage-7  eleuterio-anguita      2\n",
      "501303  vuelta-a-espana/1997/stage-9  eleuterio-anguita      2\n",
      "\n",
      "[123 rows x 3 columns]\n"
     ]
    }
   ],
   "source": [
    "# Group by '_url' and 'cyclist' and count the occurrences\n",
    "duplicate_cyclists = races_df.groupby(['_url', 'cyclist']).size().reset_index(name='count')\n",
    "\n",
    "# Filter the groups where count is greater than 1\n",
    "duplicate_cyclists = duplicate_cyclists[duplicate_cyclists['count'] > 1]\n",
    "\n",
    "# Display the duplicate cyclists\n",
    "print(duplicate_cyclists)\n"
   ]
  },
  {
   "cell_type": "markdown",
   "metadata": {},
   "source": [
    "We assume that there are 123 duplicates in the dataset that should be handled during the data preparation process."
   ]
  },
  {
   "cell_type": "code",
   "execution_count": 77,
   "metadata": {},
   "outputs": [],
   "source": [
    "# # Count the duplicate values in the 'cyclist' column with the same value in the '_url' column\n",
    "# duplicate_counts = races_df.groupby('_url')['cyclist'].value_counts()\n",
    "\n",
    "# # filter only cyclists duplicated in the same stage\n",
    "# duplicate_counts = duplicate_counts[duplicate_counts > 1]\n",
    "\n",
    "# duplicate_counts.to_csv('../dataset/cyclist_duplicate.csv', header=True)\n",
    "\n",
    "# #count number of total duplicates in the races dataset\n",
    "# print(\"Number of total duplicates in the races dataset: \", duplicate_counts.count())"
   ]
  },
  {
   "cell_type": "markdown",
   "metadata": {},
   "source": [
    "### **Columns Analysis**"
   ]
  },
  {
   "cell_type": "markdown",
   "metadata": {},
   "source": [
    "### • Unique values"
   ]
  },
  {
   "cell_type": "markdown",
   "metadata": {},
   "source": [
    "Checking unique values for each column in the dataset"
   ]
  },
  {
   "cell_type": "code",
   "execution_count": 78,
   "metadata": {},
   "outputs": [
    {
     "name": "stdout",
     "output_type": "stream",
     "text": [
      "Number of distinct values in 'points': _url                     5281\n",
      "name                       61\n",
      "points                     14\n",
      "uci_points                 20\n",
      "length                   1280\n",
      "climb_total              2117\n",
      "profile                     5\n",
      "startlist_quality         697\n",
      "average_temperature        27\n",
      "date                   140509\n",
      "position                  210\n",
      "cyclist                  6095\n",
      "cyclist_age                29\n",
      "is_tarmac                   2\n",
      "is_cobbled                  1\n",
      "is_gravel                   1\n",
      "cyclist_team               91\n",
      "delta                    2836\n",
      "dtype: int64\n"
     ]
    }
   ],
   "source": [
    "distinct_points_count = races_df.nunique()\n",
    "print(\"Number of distinct values in 'points':\", distinct_points_count)"
   ]
  },
  {
   "cell_type": "markdown",
   "metadata": {},
   "source": [
    "Another important thing we want to assess is that details of a stage are the same i.e. there are no inconsistent entries."
   ]
  },
  {
   "cell_type": "code",
   "execution_count": 79,
   "metadata": {},
   "outputs": [
    {
     "name": "stdout",
     "output_type": "stream",
     "text": [
      "Inconsistent _url values: 0\n"
     ]
    }
   ],
   "source": [
    "race_attributes = [\"name\", \"points\", \"uci_points\", \"length\", \"climb_total\", \n",
    "                   \"startlist_quality\", \"average_temperature\", \"is_tarmac\"] #TODO: siamo sicuri che ci siano tutti gli attributi?\n",
    "\n",
    "# Initialize an empty list to store _url values where inconsistencies are found\n",
    "inconsistent_urls = []\n",
    "\n",
    "# Check for each attribute in race_attributes\n",
    "for attribute in race_attributes:\n",
    "    # Group by _url and check if all values in the group are the same\n",
    "    inconsistent = races_df.groupby('_url')[attribute].nunique() > 1\n",
    "    # Append the _url values with inconsistencies to the list\n",
    "    inconsistent_urls.extend(inconsistent[inconsistent].index.tolist())\n",
    "\n",
    "# Display the inconsistent _url values\n",
    "print(\"Inconsistent _url values:\", len(inconsistent_urls))\n",
    "\n"
   ]
  },
  {
   "cell_type": "markdown",
   "metadata": {},
   "source": [
    "Analyzing numeric columns"
   ]
  },
  {
   "cell_type": "code",
   "execution_count": 80,
   "metadata": {},
   "outputs": [
    {
     "data": {
      "text/html": [
       "<div>\n",
       "<style scoped>\n",
       "    .dataframe tbody tr th:only-of-type {\n",
       "        vertical-align: middle;\n",
       "    }\n",
       "\n",
       "    .dataframe tbody tr th {\n",
       "        vertical-align: top;\n",
       "    }\n",
       "\n",
       "    .dataframe thead th {\n",
       "        text-align: right;\n",
       "    }\n",
       "</style>\n",
       "<table border=\"1\" class=\"dataframe\">\n",
       "  <thead>\n",
       "    <tr style=\"text-align: right;\">\n",
       "      <th></th>\n",
       "      <th>length</th>\n",
       "      <th>climb_total</th>\n",
       "      <th>startlist_quality</th>\n",
       "      <th>average_temperature</th>\n",
       "    </tr>\n",
       "  </thead>\n",
       "  <tbody>\n",
       "    <tr>\n",
       "      <th>count</th>\n",
       "      <td>5281.000000</td>\n",
       "      <td>3067.000000</td>\n",
       "      <td>5281.000000</td>\n",
       "      <td>205.000000</td>\n",
       "    </tr>\n",
       "    <tr>\n",
       "      <th>mean</th>\n",
       "      <td>165685.627722</td>\n",
       "      <td>2375.650473</td>\n",
       "      <td>988.701572</td>\n",
       "      <td>21.624390</td>\n",
       "    </tr>\n",
       "    <tr>\n",
       "      <th>std</th>\n",
       "      <td>67889.860679</td>\n",
       "      <td>1394.390513</td>\n",
       "      <td>380.450977</td>\n",
       "      <td>5.959042</td>\n",
       "    </tr>\n",
       "    <tr>\n",
       "      <th>min</th>\n",
       "      <td>1000.000000</td>\n",
       "      <td>2.000000</td>\n",
       "      <td>115.000000</td>\n",
       "      <td>10.000000</td>\n",
       "    </tr>\n",
       "    <tr>\n",
       "      <th>25%</th>\n",
       "      <td>149000.000000</td>\n",
       "      <td>1333.000000</td>\n",
       "      <td>747.000000</td>\n",
       "      <td>17.000000</td>\n",
       "    </tr>\n",
       "    <tr>\n",
       "      <th>50%</th>\n",
       "      <td>179000.000000</td>\n",
       "      <td>2307.000000</td>\n",
       "      <td>917.000000</td>\n",
       "      <td>22.000000</td>\n",
       "    </tr>\n",
       "    <tr>\n",
       "      <th>75%</th>\n",
       "      <td>205500.000000</td>\n",
       "      <td>3358.000000</td>\n",
       "      <td>1165.000000</td>\n",
       "      <td>26.000000</td>\n",
       "    </tr>\n",
       "    <tr>\n",
       "      <th>max</th>\n",
       "      <td>338000.000000</td>\n",
       "      <td>6974.000000</td>\n",
       "      <td>2047.000000</td>\n",
       "      <td>36.000000</td>\n",
       "    </tr>\n",
       "  </tbody>\n",
       "</table>\n",
       "</div>"
      ],
      "text/plain": [
       "              length  climb_total  startlist_quality  average_temperature\n",
       "count    5281.000000  3067.000000        5281.000000           205.000000\n",
       "mean   165685.627722  2375.650473         988.701572            21.624390\n",
       "std     67889.860679  1394.390513         380.450977             5.959042\n",
       "min      1000.000000     2.000000         115.000000            10.000000\n",
       "25%    149000.000000  1333.000000         747.000000            17.000000\n",
       "50%    179000.000000  2307.000000         917.000000            22.000000\n",
       "75%    205500.000000  3358.000000        1165.000000            26.000000\n",
       "max    338000.000000  6974.000000        2047.000000            36.000000"
      ]
     },
     "execution_count": 80,
     "metadata": {},
     "output_type": "execute_result"
    }
   ],
   "source": [
    "races_numeric_stage = [\"length\", \"climb_total\", \"startlist_quality\", \"average_temperature\"]\n",
    "\n",
    "races_numeric_stage.append(\"_url\")\n",
    "\n",
    "numeric_df = races_df[races_numeric_stage].groupby(\"_url\").first().reset_index()\n",
    "\n",
    "numeric_df.describe()\n"
   ]
  },
  {
   "cell_type": "markdown",
   "metadata": {},
   "source": [
    "TODO: ANALISI COLONNA PER COLONNA "
   ]
  },
  {
   "cell_type": "markdown",
   "metadata": {},
   "source": [
    "### • 'url' column"
   ]
  },
  {
   "cell_type": "code",
   "execution_count": 81,
   "metadata": {},
   "outputs": [
    {
     "data": {
      "text/plain": [
       "5281"
      ]
     },
     "execution_count": 81,
     "metadata": {},
     "output_type": "execute_result"
    }
   ],
   "source": [
    "races_df['_url'].nunique()"
   ]
  },
  {
   "cell_type": "markdown",
   "metadata": {},
   "source": [
    "This column contains the unique identifier of a race's stage. There are in total 5281 different _url values. An _url is in the format \"RACE_NAME/RACE_DATE/STAGE_NUMBER\". For example, the URL \"tour-de-france/1978/stage-6\" denotes the 6th stage of the Tour de France, 1978 edition. It is associated to some race stage details TODO: evaluate adding which are the details?"
   ]
  },
  {
   "cell_type": "code",
   "execution_count": 82,
   "metadata": {},
   "outputs": [
    {
     "data": {
      "text/html": [
       "<div>\n",
       "<style scoped>\n",
       "    .dataframe tbody tr th:only-of-type {\n",
       "        vertical-align: middle;\n",
       "    }\n",
       "\n",
       "    .dataframe tbody tr th {\n",
       "        vertical-align: top;\n",
       "    }\n",
       "\n",
       "    .dataframe thead th {\n",
       "        text-align: right;\n",
       "    }\n",
       "</style>\n",
       "<table border=\"1\" class=\"dataframe\">\n",
       "  <thead>\n",
       "    <tr style=\"text-align: right;\">\n",
       "      <th></th>\n",
       "      <th>_url</th>\n",
       "      <th>name</th>\n",
       "      <th>points</th>\n",
       "      <th>uci_points</th>\n",
       "      <th>length</th>\n",
       "      <th>climb_total</th>\n",
       "      <th>profile</th>\n",
       "      <th>startlist_quality</th>\n",
       "      <th>average_temperature</th>\n",
       "      <th>date</th>\n",
       "      <th>position</th>\n",
       "      <th>cyclist</th>\n",
       "      <th>cyclist_age</th>\n",
       "      <th>is_tarmac</th>\n",
       "      <th>is_cobbled</th>\n",
       "      <th>is_gravel</th>\n",
       "      <th>cyclist_team</th>\n",
       "      <th>delta</th>\n",
       "    </tr>\n",
       "  </thead>\n",
       "  <tbody>\n",
       "    <tr>\n",
       "      <th>0</th>\n",
       "      <td>tour-de-france/1978/stage-6</td>\n",
       "      <td>Tour de France</td>\n",
       "      <td>100.0</td>\n",
       "      <td>NaN</td>\n",
       "      <td>162000.0</td>\n",
       "      <td>1101.0</td>\n",
       "      <td>1.0</td>\n",
       "      <td>1241</td>\n",
       "      <td>NaN</td>\n",
       "      <td>1978-07-05 04:02:24</td>\n",
       "      <td>0</td>\n",
       "      <td>sean-kelly</td>\n",
       "      <td>22.0</td>\n",
       "      <td>True</td>\n",
       "      <td>False</td>\n",
       "      <td>False</td>\n",
       "      <td>vini-ricordi-pinarello-sidermec-1986</td>\n",
       "      <td>0.0</td>\n",
       "    </tr>\n",
       "    <tr>\n",
       "      <th>1</th>\n",
       "      <td>tour-de-france/1978/stage-6</td>\n",
       "      <td>Tour de France</td>\n",
       "      <td>100.0</td>\n",
       "      <td>NaN</td>\n",
       "      <td>162000.0</td>\n",
       "      <td>1101.0</td>\n",
       "      <td>1.0</td>\n",
       "      <td>1241</td>\n",
       "      <td>NaN</td>\n",
       "      <td>1978-07-05 04:02:24</td>\n",
       "      <td>1</td>\n",
       "      <td>gerrie-knetemann</td>\n",
       "      <td>27.0</td>\n",
       "      <td>True</td>\n",
       "      <td>False</td>\n",
       "      <td>False</td>\n",
       "      <td>norway-1987</td>\n",
       "      <td>0.0</td>\n",
       "    </tr>\n",
       "    <tr>\n",
       "      <th>2</th>\n",
       "      <td>tour-de-france/1978/stage-6</td>\n",
       "      <td>Tour de France</td>\n",
       "      <td>100.0</td>\n",
       "      <td>NaN</td>\n",
       "      <td>162000.0</td>\n",
       "      <td>1101.0</td>\n",
       "      <td>1.0</td>\n",
       "      <td>1241</td>\n",
       "      <td>NaN</td>\n",
       "      <td>1978-07-05 04:02:24</td>\n",
       "      <td>2</td>\n",
       "      <td>rene-bittinger</td>\n",
       "      <td>24.0</td>\n",
       "      <td>True</td>\n",
       "      <td>False</td>\n",
       "      <td>False</td>\n",
       "      <td>NaN</td>\n",
       "      <td>0.0</td>\n",
       "    </tr>\n",
       "    <tr>\n",
       "      <th>3</th>\n",
       "      <td>tour-de-france/1978/stage-6</td>\n",
       "      <td>Tour de France</td>\n",
       "      <td>100.0</td>\n",
       "      <td>NaN</td>\n",
       "      <td>162000.0</td>\n",
       "      <td>1101.0</td>\n",
       "      <td>1.0</td>\n",
       "      <td>1241</td>\n",
       "      <td>NaN</td>\n",
       "      <td>1978-07-05 04:02:24</td>\n",
       "      <td>3</td>\n",
       "      <td>joseph-bruyere</td>\n",
       "      <td>30.0</td>\n",
       "      <td>True</td>\n",
       "      <td>False</td>\n",
       "      <td>False</td>\n",
       "      <td>navigare-blue-storm-1993</td>\n",
       "      <td>0.0</td>\n",
       "    </tr>\n",
       "    <tr>\n",
       "      <th>4</th>\n",
       "      <td>tour-de-france/1978/stage-6</td>\n",
       "      <td>Tour de France</td>\n",
       "      <td>100.0</td>\n",
       "      <td>NaN</td>\n",
       "      <td>162000.0</td>\n",
       "      <td>1101.0</td>\n",
       "      <td>1.0</td>\n",
       "      <td>1241</td>\n",
       "      <td>NaN</td>\n",
       "      <td>1978-07-05 04:02:24</td>\n",
       "      <td>4</td>\n",
       "      <td>sven-ake-nilsson</td>\n",
       "      <td>27.0</td>\n",
       "      <td>True</td>\n",
       "      <td>False</td>\n",
       "      <td>False</td>\n",
       "      <td>spain-1991</td>\n",
       "      <td>0.0</td>\n",
       "    </tr>\n",
       "    <tr>\n",
       "      <th>5</th>\n",
       "      <td>tour-de-france/1978/stage-6</td>\n",
       "      <td>Tour de France</td>\n",
       "      <td>100.0</td>\n",
       "      <td>NaN</td>\n",
       "      <td>162000.0</td>\n",
       "      <td>1101.0</td>\n",
       "      <td>1.0</td>\n",
       "      <td>1241</td>\n",
       "      <td>NaN</td>\n",
       "      <td>1978-07-05 04:02:51</td>\n",
       "      <td>5</td>\n",
       "      <td>jacques-esclassan</td>\n",
       "      <td>30.0</td>\n",
       "      <td>True</td>\n",
       "      <td>False</td>\n",
       "      <td>False</td>\n",
       "      <td>kelme-costa-blanca-2000</td>\n",
       "      <td>27.0</td>\n",
       "    </tr>\n",
       "    <tr>\n",
       "      <th>6</th>\n",
       "      <td>tour-de-france/1978/stage-6</td>\n",
       "      <td>Tour de France</td>\n",
       "      <td>100.0</td>\n",
       "      <td>NaN</td>\n",
       "      <td>162000.0</td>\n",
       "      <td>1101.0</td>\n",
       "      <td>1.0</td>\n",
       "      <td>1241</td>\n",
       "      <td>NaN</td>\n",
       "      <td>1978-07-05 04:02:51</td>\n",
       "      <td>6</td>\n",
       "      <td>walter-planckaert</td>\n",
       "      <td>30.0</td>\n",
       "      <td>True</td>\n",
       "      <td>False</td>\n",
       "      <td>False</td>\n",
       "      <td>navigare-blue-storm-1993</td>\n",
       "      <td>27.0</td>\n",
       "    </tr>\n",
       "    <tr>\n",
       "      <th>7</th>\n",
       "      <td>tour-de-france/1978/stage-6</td>\n",
       "      <td>Tour de France</td>\n",
       "      <td>100.0</td>\n",
       "      <td>NaN</td>\n",
       "      <td>162000.0</td>\n",
       "      <td>1101.0</td>\n",
       "      <td>1.0</td>\n",
       "      <td>1241</td>\n",
       "      <td>NaN</td>\n",
       "      <td>1978-07-05 04:02:51</td>\n",
       "      <td>7</td>\n",
       "      <td>guy-sibille</td>\n",
       "      <td>30.0</td>\n",
       "      <td>True</td>\n",
       "      <td>False</td>\n",
       "      <td>False</td>\n",
       "      <td>NaN</td>\n",
       "      <td>27.0</td>\n",
       "    </tr>\n",
       "    <tr>\n",
       "      <th>8</th>\n",
       "      <td>tour-de-france/1978/stage-6</td>\n",
       "      <td>Tour de France</td>\n",
       "      <td>100.0</td>\n",
       "      <td>NaN</td>\n",
       "      <td>162000.0</td>\n",
       "      <td>1101.0</td>\n",
       "      <td>1.0</td>\n",
       "      <td>1241</td>\n",
       "      <td>NaN</td>\n",
       "      <td>1978-07-05 04:02:51</td>\n",
       "      <td>8</td>\n",
       "      <td>jacques-bossis</td>\n",
       "      <td>26.0</td>\n",
       "      <td>True</td>\n",
       "      <td>False</td>\n",
       "      <td>False</td>\n",
       "      <td>NaN</td>\n",
       "      <td>27.0</td>\n",
       "    </tr>\n",
       "    <tr>\n",
       "      <th>9</th>\n",
       "      <td>tour-de-france/1978/stage-6</td>\n",
       "      <td>Tour de France</td>\n",
       "      <td>100.0</td>\n",
       "      <td>NaN</td>\n",
       "      <td>162000.0</td>\n",
       "      <td>1101.0</td>\n",
       "      <td>1.0</td>\n",
       "      <td>1241</td>\n",
       "      <td>NaN</td>\n",
       "      <td>1978-07-05 04:02:51</td>\n",
       "      <td>9</td>\n",
       "      <td>bernard-bourreau</td>\n",
       "      <td>27.0</td>\n",
       "      <td>True</td>\n",
       "      <td>False</td>\n",
       "      <td>False</td>\n",
       "      <td>NaN</td>\n",
       "      <td>27.0</td>\n",
       "    </tr>\n",
       "  </tbody>\n",
       "</table>\n",
       "</div>"
      ],
      "text/plain": [
       "                          _url            name  points  uci_points    length  \\\n",
       "0  tour-de-france/1978/stage-6  Tour de France   100.0         NaN  162000.0   \n",
       "1  tour-de-france/1978/stage-6  Tour de France   100.0         NaN  162000.0   \n",
       "2  tour-de-france/1978/stage-6  Tour de France   100.0         NaN  162000.0   \n",
       "3  tour-de-france/1978/stage-6  Tour de France   100.0         NaN  162000.0   \n",
       "4  tour-de-france/1978/stage-6  Tour de France   100.0         NaN  162000.0   \n",
       "5  tour-de-france/1978/stage-6  Tour de France   100.0         NaN  162000.0   \n",
       "6  tour-de-france/1978/stage-6  Tour de France   100.0         NaN  162000.0   \n",
       "7  tour-de-france/1978/stage-6  Tour de France   100.0         NaN  162000.0   \n",
       "8  tour-de-france/1978/stage-6  Tour de France   100.0         NaN  162000.0   \n",
       "9  tour-de-france/1978/stage-6  Tour de France   100.0         NaN  162000.0   \n",
       "\n",
       "   climb_total  profile  startlist_quality  average_temperature  \\\n",
       "0       1101.0      1.0               1241                  NaN   \n",
       "1       1101.0      1.0               1241                  NaN   \n",
       "2       1101.0      1.0               1241                  NaN   \n",
       "3       1101.0      1.0               1241                  NaN   \n",
       "4       1101.0      1.0               1241                  NaN   \n",
       "5       1101.0      1.0               1241                  NaN   \n",
       "6       1101.0      1.0               1241                  NaN   \n",
       "7       1101.0      1.0               1241                  NaN   \n",
       "8       1101.0      1.0               1241                  NaN   \n",
       "9       1101.0      1.0               1241                  NaN   \n",
       "\n",
       "                  date  position            cyclist  cyclist_age  is_tarmac  \\\n",
       "0  1978-07-05 04:02:24         0         sean-kelly         22.0       True   \n",
       "1  1978-07-05 04:02:24         1   gerrie-knetemann         27.0       True   \n",
       "2  1978-07-05 04:02:24         2     rene-bittinger         24.0       True   \n",
       "3  1978-07-05 04:02:24         3     joseph-bruyere         30.0       True   \n",
       "4  1978-07-05 04:02:24         4   sven-ake-nilsson         27.0       True   \n",
       "5  1978-07-05 04:02:51         5  jacques-esclassan         30.0       True   \n",
       "6  1978-07-05 04:02:51         6  walter-planckaert         30.0       True   \n",
       "7  1978-07-05 04:02:51         7        guy-sibille         30.0       True   \n",
       "8  1978-07-05 04:02:51         8     jacques-bossis         26.0       True   \n",
       "9  1978-07-05 04:02:51         9   bernard-bourreau         27.0       True   \n",
       "\n",
       "   is_cobbled  is_gravel                          cyclist_team  delta  \n",
       "0       False      False  vini-ricordi-pinarello-sidermec-1986    0.0  \n",
       "1       False      False                           norway-1987    0.0  \n",
       "2       False      False                                   NaN    0.0  \n",
       "3       False      False              navigare-blue-storm-1993    0.0  \n",
       "4       False      False                            spain-1991    0.0  \n",
       "5       False      False               kelme-costa-blanca-2000   27.0  \n",
       "6       False      False              navigare-blue-storm-1993   27.0  \n",
       "7       False      False                                   NaN   27.0  \n",
       "8       False      False                                   NaN   27.0  \n",
       "9       False      False                                   NaN   27.0  "
      ]
     },
     "execution_count": 82,
     "metadata": {},
     "output_type": "execute_result"
    }
   ],
   "source": [
    "races_df.head(10)"
   ]
  },
  {
   "cell_type": "markdown",
   "metadata": {},
   "source": [
    "Obviously, if we look only at the column itself, we will find duplicate values. However, by looking at the first ten rows of the table, we assume that there is an entry for each rider who participated in a given stage. Given this observation, we already checked that there are no duplicates for the same stage in terms of participating riders (see the above Duplicate section for the results)."
   ]
  },
  {
   "cell_type": "markdown",
   "metadata": {},
   "source": []
  },
  {
   "cell_type": "markdown",
   "metadata": {},
   "source": []
  },
  {
   "cell_type": "markdown",
   "metadata": {},
   "source": []
  },
  {
   "cell_type": "markdown",
   "metadata": {},
   "source": [
    "### • Name column"
   ]
  },
  {
   "cell_type": "markdown",
   "metadata": {},
   "source": [
    "The attribute is categorical. First of all we check if there are null values."
   ]
  },
  {
   "cell_type": "code",
   "execution_count": 83,
   "metadata": {},
   "outputs": [
    {
     "data": {
      "text/plain": [
       "0"
      ]
     },
     "execution_count": 83,
     "metadata": {},
     "output_type": "execute_result"
    }
   ],
   "source": [
    "races_df['name'].isnull().sum()"
   ]
  },
  {
   "cell_type": "code",
   "execution_count": 84,
   "metadata": {},
   "outputs": [
    {
     "data": {
      "text/plain": [
       "61"
      ]
     },
     "execution_count": 84,
     "metadata": {},
     "output_type": "execute_result"
    }
   ],
   "source": [
    "races_df['name'].nunique()"
   ]
  },
  {
   "cell_type": "markdown",
   "metadata": {},
   "source": [
    "There are no null values in the column which contains 61 unique values. They are the names of different races. We show those values to check in a qualitative way if there are some errors TODO: check the correct term to identify errors (e.g. \"asfdnajsfa\")"
   ]
  },
  {
   "cell_type": "code",
   "execution_count": 85,
   "metadata": {},
   "outputs": [
    {
     "data": {
      "text/plain": [
       "array(['Tour de France', 'Vuelta a España', 'Volta Ciclista a Catalunya',\n",
       "       'Paris - Nice', 'Tirreno-Adriatico',\n",
       "       'Critérium du Dauphiné Libéré', 'Critérium du Dauphiné',\n",
       "       'Ronde van Vlaanderen / Tour des Flandres', 'Milano-Sanremo',\n",
       "       'Tour de Suisse', \"Giro d'Italia\", 'Gran Camiño',\n",
       "       'Tour de Romandie', 'Volta a Catalunya',\n",
       "       'La Vuelta ciclista a España', 'La Flèche Wallonne',\n",
       "       'E3-Prijs Harelbeke', 'Vuelta al País Vasco',\n",
       "       'Vuelta Ciclista al País Vasco', 'Liège - Bastogne - Liège',\n",
       "       'Paris-Roubaix', 'UAE Tour', 'World Championships ME - Road Race',\n",
       "       'Amstel Gold Race', 'Dwars door België / À travers la Belgique',\n",
       "       'Itzulia Basque Country', 'World Championships - Road Race',\n",
       "       'Criterium du Dauphiné Libére', 'Omloop Het Volk',\n",
       "       'Clasica Ciclista San Sebastian', 'Paris - Roubaix',\n",
       "       'Strade Bianche', 'Giro di Lombardia', 'Criterium du Dauphiné',\n",
       "       'O Gran Camiño', 'Grand Prix Cycliste de Quebec',\n",
       "       'Grand Prix Cycliste de Montréal',\n",
       "       'Ronde van Vlaanderen - Tour des Flandres ME',\n",
       "       'Dwars door Vlaanderen - A travers la Flandre ME',\n",
       "       'Clásica Ciclista San Sebastián',\n",
       "       'Donostia San Sebastian Klasikoa', 'Dwars door Vlaanderen',\n",
       "       'Omloop Het Nieuwsblad ME', 'Il Lombardia', 'E3 Harelbeke',\n",
       "       'Ronde van Vlaanderen / Tour des Flandres ME',\n",
       "       'E3 Prijs Vlaanderen', 'E3 Saxo Bank Classic',\n",
       "       'Monte Paschi Eroica', 'Grand Prix Cycliste de Québec',\n",
       "       'E3 Prijs Vlaanderen - Harelbeke', 'Liège-Bastogne-Liège',\n",
       "       'Clásica San Sebastián',\n",
       "       'Montepaschi Strade Bianche - Eroica Toscana',\n",
       "       'Dwars door Vlaanderen / A travers la Flandre',\n",
       "       'Record Bank E3 Harelbeke', 'Omloop Het Volk ME',\n",
       "       'E3 BinckBank Classic',\n",
       "       'Dwars door Vlaanderen / A travers la Flandre ME',\n",
       "       'E3 Saxo Classic', 'Clásica Ciclista San Sebastian'], dtype=object)"
      ]
     },
     "execution_count": 85,
     "metadata": {},
     "output_type": "execute_result"
    }
   ],
   "source": [
    "races_df['name'].unique()"
   ]
  },
  {
   "cell_type": "code",
   "execution_count": 86,
   "metadata": {},
   "outputs": [
    {
     "data": {
      "text/plain": [
       "27"
      ]
     },
     "execution_count": 86,
     "metadata": {},
     "output_type": "execute_result"
    }
   ],
   "source": [
    "# Split the _url column at the first '/' and take the first part\n",
    "race_names = races_df['_url'].str.split('/', n=1).str[0]\n",
    "# Count the unique values\n",
    "race_names.nunique()\n"
   ]
  },
  {
   "cell_type": "code",
   "execution_count": 87,
   "metadata": {},
   "outputs": [
    {
     "name": "stdout",
     "output_type": "stream",
     "text": [
      "Race Name: Amstel Gold Race\n",
      "['amstel-gold-race']\n",
      "\n",
      "Race Name: Clasica Ciclista San Sebastian\n",
      "['san-sebastian']\n",
      "\n",
      "Race Name: Clásica Ciclista San Sebastian\n",
      "['san-sebastian']\n",
      "\n",
      "Race Name: Clásica Ciclista San Sebastián\n",
      "['san-sebastian']\n",
      "\n",
      "Race Name: Clásica San Sebastián\n",
      "['san-sebastian']\n",
      "\n",
      "Race Name: Criterium du Dauphiné\n",
      "['dauphine']\n",
      "\n",
      "Race Name: Criterium du Dauphiné Libére\n",
      "['dauphine']\n",
      "\n",
      "Race Name: Critérium du Dauphiné\n",
      "['dauphine']\n",
      "\n",
      "Race Name: Critérium du Dauphiné Libéré\n",
      "['dauphine']\n",
      "\n",
      "Race Name: Donostia San Sebastian Klasikoa\n",
      "['san-sebastian']\n",
      "\n",
      "Race Name: Dwars door België / À travers la Belgique\n",
      "['dwars-door-vlaanderen']\n",
      "\n",
      "Race Name: Dwars door Vlaanderen\n",
      "['dwars-door-vlaanderen']\n",
      "\n",
      "Race Name: Dwars door Vlaanderen - A travers la Flandre ME\n",
      "['dwars-door-vlaanderen']\n",
      "\n",
      "Race Name: Dwars door Vlaanderen / A travers la Flandre\n",
      "['dwars-door-vlaanderen']\n",
      "\n",
      "Race Name: Dwars door Vlaanderen / A travers la Flandre ME\n",
      "['dwars-door-vlaanderen']\n",
      "\n",
      "Race Name: E3 BinckBank Classic\n",
      "['e3-harelbeke']\n",
      "\n",
      "Race Name: E3 Harelbeke\n",
      "['e3-harelbeke']\n",
      "\n",
      "Race Name: E3 Prijs Vlaanderen\n",
      "['e3-harelbeke']\n",
      "\n",
      "Race Name: E3 Prijs Vlaanderen - Harelbeke\n",
      "['e3-harelbeke']\n",
      "\n",
      "Race Name: E3 Saxo Bank Classic\n",
      "['e3-harelbeke']\n",
      "\n",
      "Race Name: E3 Saxo Classic\n",
      "['e3-harelbeke']\n",
      "\n",
      "Race Name: E3-Prijs Harelbeke\n",
      "['e3-harelbeke']\n",
      "\n",
      "Race Name: Giro d'Italia\n",
      "['giro-d-italia']\n",
      "\n",
      "Race Name: Giro di Lombardia\n",
      "['il-lombardia']\n",
      "\n",
      "Race Name: Gran Camiño\n",
      "['gran-camino']\n",
      "\n",
      "Race Name: Grand Prix Cycliste de Montréal\n",
      "['gp-montreal']\n",
      "\n",
      "Race Name: Grand Prix Cycliste de Quebec\n",
      "['gp-quebec']\n",
      "\n",
      "Race Name: Grand Prix Cycliste de Québec\n",
      "['gp-quebec']\n",
      "\n",
      "Race Name: Il Lombardia\n",
      "['il-lombardia']\n",
      "\n",
      "Race Name: Itzulia Basque Country\n",
      "['itzulia-basque-country']\n",
      "\n",
      "Race Name: La Flèche Wallonne\n",
      "['la-fleche-wallone']\n",
      "\n",
      "Race Name: La Vuelta ciclista a España\n",
      "['vuelta-a-espana']\n",
      "\n",
      "Race Name: Liège - Bastogne - Liège\n",
      "['liege-bastogne-liege']\n",
      "\n",
      "Race Name: Liège-Bastogne-Liège\n",
      "['liege-bastogne-liege']\n",
      "\n",
      "Race Name: Milano-Sanremo\n",
      "['milano-sanremo']\n",
      "\n",
      "Race Name: Monte Paschi Eroica\n",
      "['strade-bianche']\n",
      "\n",
      "Race Name: Montepaschi Strade Bianche - Eroica Toscana\n",
      "['strade-bianche']\n",
      "\n",
      "Race Name: O Gran Camiño\n",
      "['gran-camino']\n",
      "\n",
      "Race Name: Omloop Het Nieuwsblad ME\n",
      "['omloop-het-nieuwsblad']\n",
      "\n",
      "Race Name: Omloop Het Volk\n",
      "['omloop-het-nieuwsblad']\n",
      "\n",
      "Race Name: Omloop Het Volk ME\n",
      "['omloop-het-nieuwsblad']\n",
      "\n",
      "Race Name: Paris - Nice\n",
      "['paris-nice']\n",
      "\n",
      "Race Name: Paris - Roubaix\n",
      "['paris-roubaix']\n",
      "\n",
      "Race Name: Paris-Roubaix\n",
      "['paris-roubaix']\n",
      "\n",
      "Race Name: Record Bank E3 Harelbeke\n",
      "['e3-harelbeke']\n",
      "\n",
      "Race Name: Ronde van Vlaanderen - Tour des Flandres ME\n",
      "['ronde-van-vlaanderen']\n",
      "\n",
      "Race Name: Ronde van Vlaanderen / Tour des Flandres\n",
      "['ronde-van-vlaanderen']\n",
      "\n",
      "Race Name: Ronde van Vlaanderen / Tour des Flandres ME\n",
      "['ronde-van-vlaanderen']\n",
      "\n",
      "Race Name: Strade Bianche\n",
      "['strade-bianche']\n",
      "\n",
      "Race Name: Tirreno-Adriatico\n",
      "['tirreno-adriatico']\n",
      "\n",
      "Race Name: Tour de France\n",
      "['tour-de-france']\n",
      "\n",
      "Race Name: Tour de Romandie\n",
      "['tour-de-romandie']\n",
      "\n",
      "Race Name: Tour de Suisse\n",
      "['tour-de-suisse']\n",
      "\n",
      "Race Name: UAE Tour\n",
      "['uae-tour']\n",
      "\n",
      "Race Name: Volta Ciclista a Catalunya\n",
      "['volta-a-catalunya']\n",
      "\n",
      "Race Name: Volta a Catalunya\n",
      "['volta-a-catalunya']\n",
      "\n",
      "Race Name: Vuelta Ciclista al País Vasco\n",
      "['itzulia-basque-country']\n",
      "\n",
      "Race Name: Vuelta a España\n",
      "['vuelta-a-espana']\n",
      "\n",
      "Race Name: Vuelta al País Vasco\n",
      "['itzulia-basque-country']\n",
      "\n",
      "Race Name: World Championships - Road Race\n",
      "['world-championship']\n",
      "\n",
      "Race Name: World Championships ME - Road Race\n",
      "['world-championship']\n",
      "\n"
     ]
    }
   ],
   "source": [
    "for name, group in races_df.groupby('name'):\n",
    "    print(f\"Race Name: {name}\")\n",
    "    unique_urls = group['_url'].str.split('/', n=1).str[0].unique()\n",
    "    print(unique_urls)\n",
    "    print()"
   ]
  },
  {
   "cell_type": "markdown",
   "metadata": {},
   "source": [
    "We notice that the total race names used in the unique identifier are only 27. This is because, as we show below, the same RACE_NAME part of the identifier is associated to different values in the names column. This does not mean that the same identifier is associated with different races. Rather, the values in the name column for the same race differ only by a few letters (e.g. e instead of è) or because the race has adopted a different name over the years or is simply known by different names. \n",
    "\n",
    "In particular:\n",
    "- ```san-sebastian``` is associated to _Clasica Ciclista San Sebastian_, _Clásica Ciclista San Sebastian_, _Clásica Ciclista San Sebastián_, _Clásica San Sebastián_, _Donostia San Sebastian Klasikoa_\n",
    "- ```dauphine``` is associated to _Criterium du Dauphiné_, _Criterium du Dauphiné Libére_, _Critérium du Dauphiné_, _Critérium du Dauphiné Libéré_\n",
    "- ```dwars-door-vlaanderen``` is associated to _Dwars door België / À travers la Belgique_, _Dwars door Vlaanderen_, _Dwars door Vlaanderen - A travers la Flandre ME_, _Dwars door Vlaanderen / A travers la Flandre_, _Dwars door Vlaanderen / A travers la Flandre ME_\n",
    "- ```e3-harelbeke``` is associated to _E3 BinckBank Classic_, _E3 Harelbeke_, _E3 Prijs Vlaanderen_, _E3 Prijs Vlaanderen - Harelbeke_, _E3 Saxo Bank Classic_, _E3 Saxo Classic_, _E3-Prijs Harelbek_\n",
    "- ```gp-quebec``` is associated to _Grand Prix Cycliste de Quebec_, _Grand Prix Cycliste de Québec_\n",
    "- ```liege-bastogne-liege``` is associated to _Liège - Bastogne - Liège_, _Liège-Bastogne-Liège_\n",
    "- ```strade-bianche``` is associated to _Monte Paschi Eroica_, _Montepaschi Strade Bianche - Eroica Toscana_, _Strade Bianche_\n",
    "- ```omloop-het-nieuwsblad``` is associated to _Omloop Het Nieuwsblad ME_, _Omloop Het Volk_, _Omloop Het Volk ME_\n",
    "- ```paris-roubaix``` is associated to _Paris - Roubaix_, _Paris-Roubaix_\n",
    "- ```ronde-van-vlaanderen``` is associated to _Ronde van Vlaanderen - Tour des Flandres ME_, _Ronde van Vlaanderen / Tour des Flandres_, _Ronde van Vlaanderen / Tour des Flandres ME_\n",
    "- ```volta-a-catalunya``` is associated to _Volta Ciclista a Catalunya_, _Volta a Catalunya_\n",
    "- ```itzulia-basque-country``` is associated to _Vuelta Ciclista al País Vasco_, _Vuelta al País Vasco_\n",
    "- ```world-championship``` is associated to _World Championships - Road Race_, _World Championships ME - Road Race_"
   ]
  },
  {
   "cell_type": "markdown",
   "metadata": {},
   "source": [
    "### • Points column"
   ]
  },
  {
   "cell_type": "markdown",
   "metadata": {},
   "source": [
    "This is a numerical attribute. Same points for different cyclist are supposedly allowed. We check now for null values."
   ]
  },
  {
   "cell_type": "code",
   "execution_count": 88,
   "metadata": {},
   "outputs": [
    {
     "data": {
      "text/plain": [
       "477"
      ]
     },
     "execution_count": 88,
     "metadata": {},
     "output_type": "execute_result"
    }
   ],
   "source": [
    "int(races_df['points'].isnull().sum())"
   ]
  },
  {
   "cell_type": "markdown",
   "metadata": {},
   "source": [
    "From the web: Molte gare o circuiti ciclistici hanno il proprio sistema di punteggio per premiare i ciclisti per posizioni intermedie (ad esempio, vittorie di tappa, piazzamenti in sprint intermedi o in categorie speciali).\n",
    "\n",
    "Approfondire bene la differenza ta point e uci points. I valori nulli di entrambe le colonne potrebbero essere \"corretti\" e voluti?"
   ]
  },
  {
   "cell_type": "code",
   "execution_count": 89,
   "metadata": {},
   "outputs": [
    {
     "data": {
      "text/plain": [
       "array([100.,  80.,  50., 275.,  20., 225., 125., 350.,  75.,  70.,  30.,\n",
       "       150.,  35.,  nan,  18.])"
      ]
     },
     "execution_count": 89,
     "metadata": {},
     "output_type": "execute_result"
    }
   ],
   "source": [
    "races_df['points'].unique()"
   ]
  },
  {
   "cell_type": "code",
   "execution_count": 90,
   "metadata": {},
   "outputs": [
    {
     "data": {
      "text/plain": [
       "points\n",
       "80.0     198878\n",
       "50.0     186102\n",
       "100.0    141706\n",
       "275.0     22299\n",
       "225.0     19536\n",
       "125.0      5992\n",
       "30.0       4313\n",
       "350.0      3917\n",
       "70.0       3299\n",
       "75.0       1963\n",
       "20.0        792\n",
       "18.0        292\n",
       "35.0        183\n",
       "150.0       116\n",
       "Name: count, dtype: int64"
      ]
     },
     "execution_count": 90,
     "metadata": {},
     "output_type": "execute_result"
    }
   ],
   "source": [
    "races_df['points'].value_counts()"
   ]
  },
  {
   "cell_type": "markdown",
   "metadata": {},
   "source": [
    "##### Plots (TODO: to finish)"
   ]
  },
  {
   "cell_type": "code",
   "execution_count": 91,
   "metadata": {},
   "outputs": [
    {
     "data": {
      "image/png": "[encoded data removed]",
      "text/plain": [
       "<Figure size 1000x600 with 1 Axes>"
      ]
     },
     "metadata": {},
     "output_type": "display_data"
    }
   ],
   "source": [
    "plt.figure(figsize=(10, 6))\n",
    "sns.histplot(races_df['points'].dropna(), bins=30, kde=False)\n",
    "plt.title('Histogram of Points')\n",
    "plt.ylabel('Points')\n",
    "plt.xlabel('Frequency')\n",
    "plt.show()"
   ]
  },
  {
   "cell_type": "code",
   "execution_count": 92,
   "metadata": {},
   "outputs": [
    {
     "data": {
      "image/png": "[encoded data removed]",
      "text/plain": [
       "<Figure size 1000x600 with 1 Axes>"
      ]
     },
     "metadata": {},
     "output_type": "display_data"
    }
   ],
   "source": [
    "plt.figure(figsize=(10, 6))\n",
    "sns.boxplot(y=races_df['points'])\n",
    "plt.title('Boxplot of Points')\n",
    "plt.ylabel('Points')\n",
    "plt.show()"
   ]
  },
  {
   "cell_type": "markdown",
   "metadata": {},
   "source": [
    "### • length column"
   ]
  },
  {
   "cell_type": "code",
   "execution_count": 93,
   "metadata": {},
   "outputs": [
    {
     "data": {
      "text/plain": [
       "0"
      ]
     },
     "execution_count": 93,
     "metadata": {},
     "output_type": "execute_result"
    }
   ],
   "source": [
    "int(races_df['length'].isnull().sum())"
   ]
  },
  {
   "cell_type": "code",
   "execution_count": 94,
   "metadata": {},
   "outputs": [
    {
     "data": {
      "text/plain": [
       "1280"
      ]
     },
     "execution_count": 94,
     "metadata": {},
     "output_type": "execute_result"
    }
   ],
   "source": [
    "races_df['length'].nunique()"
   ]
  },
  {
   "cell_type": "code",
   "execution_count": null,
   "metadata": {},
   "outputs": [],
   "source": []
  },
  {
   "cell_type": "markdown",
   "metadata": {},
   "source": [
    "Controllo se le lunghezze delle tappe sono consistenti. Per tutte le copie di una tappa deve risultare sempre la stessa lunghezza"
   ]
  },
  {
   "cell_type": "code",
   "execution_count": 95,
   "metadata": {},
   "outputs": [
    {
     "data": {
      "text/plain": [
       "0"
      ]
     },
     "execution_count": 95,
     "metadata": {},
     "output_type": "execute_result"
    }
   ],
   "source": [
    "# Group by '_url' and filter out null values in 'length'\n",
    "length_consistency = races_df[~races_df['length'].isnull()].groupby('_url')['length'].nunique()\n",
    "\n",
    "# Count the number of cases where the length is not consistent\n",
    "inconsistent_length_count = (length_consistency > 1).sum()\n",
    "\n",
    "inconsistent_length_count\n",
    "#print(f\"Number of cases where the length is not consistent: {inconsistent_length_count}\")"
   ]
  },
  {
   "cell_type": "markdown",
   "metadata": {},
   "source": [
    "poichè c'è coerenza è possobile raggruppare su _url per controllare le lunghezze delle tappe così da non conisderare duplicati"
   ]
  },
  {
   "cell_type": "code",
   "execution_count": 96,
   "metadata": {},
   "outputs": [],
   "source": [
    "# Raggruppa per '_url' e calcola la lunghezza media delle gare\n",
    "grouped_races_df = races_df.groupby('_url').first().reset_index()"
   ]
  },
  {
   "cell_type": "code",
   "execution_count": 106,
   "metadata": {},
   "outputs": [
    {
     "name": "stdout",
     "output_type": "stream",
     "text": [
      "La lunghezza media delle gare è: 166776.18 metri\n",
      "La lunghezza media delle gare raggruppate è: 165685.63 metri\n"
     ]
    }
   ],
   "source": [
    "average_grouped_length = grouped_races_df['length'].mean()\n",
    "print(f\"La lunghezza media delle gare raggruppate è: {average_grouped_length:.2f} metri\")\n"
   ]
  },
  {
   "cell_type": "code",
   "execution_count": 98,
   "metadata": {
    "vscode": {
     "languageId": "ruby"
    }
   },
   "outputs": [
    {
     "data": {
      "image/png": "[encoded data removed]",
      "text/plain": [
       "<Figure size 1000x600 with 1 Axes>"
      ]
     },
     "metadata": {},
     "output_type": "display_data"
    }
   ],
   "source": [
    "plt.figure(figsize=(10, 6))\n",
    "sns.boxplot(y=grouped_races_df['length'])\n",
    "plt.title('Boxplot of Race Length')\n",
    "plt.ylabel('Length (meters)')\n",
    "plt.show()"
   ]
  },
  {
   "cell_type": "markdown",
   "metadata": {},
   "source": [
    "credo sotto i 50km siano tutti da scartare ?"
   ]
  },
  {
   "cell_type": "code",
   "execution_count": 109,
   "metadata": {},
   "outputs": [
    {
     "name": "stdout",
     "output_type": "stream",
     "text": [
      "Number of stages under 50 km: 65520\n"
     ]
    }
   ],
   "source": [
    "short_stages_count = (grouped_races_df['length'] < 50000).sum()\n",
    "print(f\"Number of stages under 50 km: {short_stages_count}\")"
   ]
  },
  {
   "cell_type": "code",
   "execution_count": 111,
   "metadata": {
    "vscode": {
     "languageId": "r"
    }
   },
   "outputs": [
    {
     "name": "stdout",
     "output_type": "stream",
     "text": [
      "length_bins\n",
      "(0, 25000]           442\n",
      "(25000, 50000]       208\n",
      "(50000, 75000]        80\n",
      "(75000, 100000]       85\n",
      "(100000, 125000]     175\n",
      "(125000, 150000]     361\n",
      "(150000, 175000]    1074\n",
      "(175000, 200000]    1280\n",
      "(200000, 225000]     812\n",
      "(225000, 250000]     400\n",
      "(250000, 275000]     305\n",
      "(275000, 300000]      55\n",
      "(300000, 325000]       3\n",
      "(325000, 350000]       1\n",
      "Name: count, dtype: int64\n"
     ]
    }
   ],
   "source": [
    "# Definire i binari per gli intervalli di 25 km (25000 metri)\n",
    "bins = range(0, int(grouped_races_df['length'].max()) + 25000, 25000)\n",
    "\n",
    "# Utilizzare la funzione cut per suddividere i dati in intervalli\n",
    "grouped_races_df['length_bins'] = pd.cut(grouped_races_df['length'], bins=bins)\n",
    "\n",
    "# Contare il numero di tappe in ciascun intervallo\n",
    "length_bin_counts = grouped_races_df['length_bins'].value_counts().sort_index()\n",
    "\n",
    "# Visualizzare i risultati\n",
    "print(length_bin_counts)\n",
    "# Plot the number of stages in each length bin\n",
    "plt.figure(figsize=(12, 6))\n",
    "length_bin_counts.plot(kind='bar')\n",
    "plt.title('Number of Stages in Each Length Bin')\n",
    "plt.xlabel('Length Bin (meters)')\n",
    "plt.ylabel('Number of Stages')\n",
    "plt.xticks(rotation=45)\n",
    "plt.show()"
   ]
  },
  {
   "cell_type": "markdown",
   "metadata": {},
   "source": [
    "FEATURE ENGENEERING TODO"
   ]
  },
  {
   "cell_type": "markdown",
   "metadata": {},
   "source": [
    "Essendo il ciclismo uno sport in cui mediamente a parità di altezza il peso è simile, raggruppiamo per categoria l'altezza con intervalli di 5cm per cercare possibili outliers nel peso utilizzando dei boxplot condizionali."
   ]
  },
  {
   "cell_type": "code",
   "execution_count": 100,
   "metadata": {},
   "outputs": [
    {
     "name": "stdout",
     "output_type": "stream",
     "text": [
      "   height height_category\n",
      "0     NaN             NaN\n",
      "1   182.0               5\n",
      "2   189.0               7\n",
      "3   192.0               7\n",
      "4   171.0               3\n",
      "5   177.0               4\n",
      "6     NaN             NaN\n",
      "7   191.0               7\n",
      "8   192.0               7\n",
      "9     NaN             NaN\n"
     ]
    }
   ],
   "source": [
    "# Define the bins for the height category\n",
    "bins = [154, 159, 164, 169, 174, 179, 184, 189, 194, 199, 204]\n",
    "labels = list(range(10))\n",
    "\n",
    "# Create a new column with the height category mantaining the null values\n",
    "cyclists_df['height_category'] = pd.cut(cyclists_df['height'], bins=bins, labels=labels, right=False, include_lowest=True)\n",
    "\n",
    "# Show the first 20 rows of the height and height_category columns\n",
    "print(cyclists_df[['height', 'height_category']].head(10))"
   ]
  },
  {
   "cell_type": "code",
   "execution_count": 101,
   "metadata": {},
   "outputs": [
    {
     "data": {
      "image/png": "[encoded data removed]",
      "text/plain": [
       "<Figure size 1200x600 with 1 Axes>"
      ]
     },
     "metadata": {},
     "output_type": "display_data"
    }
   ],
   "source": [
    "plt.figure(figsize=(12, 6))\n",
    "sns.boxplot(x='height_category', y='weight', data=cyclists_df)\n",
    "plt.title('Boxplot of Weight Conditioned on Height Category')\n",
    "plt.xlabel('Height Category')\n",
    "plt.ylabel('Weight')\n",
    "\n",
    "# Set y-axis intervals\n",
    "plt.yticks(np.arange(50, cyclists_df['weight'].max() + 5, 5))\n",
    "\n",
    "plt.show()"
   ]
  },
  {
   "cell_type": "markdown",
   "metadata": {},
   "source": [
    "Visualizziamo il numero di ciclisti per ogni categoria che abbiamo definito (escludendo quelli con peso nullo) per valutare se il numero di outlier ottenuti dai boxplot è significativo."
   ]
  },
  {
   "cell_type": "code",
   "execution_count": 102,
   "metadata": {},
   "outputs": [
    {
     "data": {
      "image/png": "[encoded data removed]",
      "text/plain": [
       "<Figure size 1000x600 with 1 Axes>"
      ]
     },
     "metadata": {},
     "output_type": "display_data"
    }
   ],
   "source": [
    "# Exclude cyclists with null weight\n",
    "cyclists_df_non_null_weight = cyclists_df[cyclists_df['weight'].notnull()]\n",
    "\n",
    "# Count the number of cyclists in each height category\n",
    "height_category_counts = cyclists_df_non_null_weight['height_category'].value_counts().sort_index()\n",
    "\n",
    "# Plot the results\n",
    "plt.figure(figsize=(10, 6))\n",
    "ax = height_category_counts.plot(kind='bar')\n",
    "plt.title('Number of Cyclists per Height Category (Excluding Null Weights)')\n",
    "plt.xlabel('Height Category')\n",
    "plt.ylabel('Number of Cyclists')\n",
    "\n",
    "# Add the count above each bin\n",
    "for i, count in enumerate(height_category_counts):\n",
    "    ax.text(i, count + 5, str(count), ha='center', va='bottom')\n",
    "\n",
    "# Rotate x-axis labels to horizontal\n",
    "plt.xticks(rotation=0)\n",
    "\n",
    "plt.show()"
   ]
  },
  {
   "cell_type": "code",
   "execution_count": 104,
   "metadata": {},
   "outputs": [
    {
     "ename": "ModuleNotFoundError",
     "evalue": "No module named 'pycountry_convert'",
     "output_type": "error",
     "traceback": [
      "\u001b[1;31m---------------------------------------------------------------------------\u001b[0m",
      "\u001b[1;31mModuleNotFoundError\u001b[0m                       Traceback (most recent call last)",
      "Cell \u001b[1;32mIn[104], line 1\u001b[0m\n\u001b[1;32m----> 1\u001b[0m \u001b[38;5;28;01mimport\u001b[39;00m \u001b[38;5;21;01mpycountry_convert\u001b[39;00m \u001b[38;5;28;01mas\u001b[39;00m \u001b[38;5;21;01mpc\u001b[39;00m\n\u001b[0;32m      3\u001b[0m \u001b[38;5;66;03m# Function to convert country name to continent\u001b[39;00m\n\u001b[0;32m      4\u001b[0m \u001b[38;5;28;01mdef\u001b[39;00m \u001b[38;5;21mcountry_to_continent\u001b[39m(country_name):\n",
      "\u001b[1;31mModuleNotFoundError\u001b[0m: No module named 'pycountry_convert'"
     ]
    }
   ],
   "source": [
    "import pycountry_convert as pc\n",
    "\n",
    "# Function to convert country name to continent\n",
    "def country_to_continent(country_name):\n",
    "    try:\n",
    "        country_alpha2 = pc.country_name_to_country_alpha2(country_name)\n",
    "        continent_code = pc.country_alpha2_to_continent_code(country_alpha2)\n",
    "        continent_name = pc.convert_continent_code_to_continent_name(continent_code)\n",
    "        return continent_name\n",
    "    except:\n",
    "        return 'Unknown'\n",
    "\n",
    "# Apply the function to create a new column 'continent'\n",
    "cyclists_df['continent'] = cyclists_df['nationality'].apply(country_to_continent)\n",
    "\n",
    "# Display the first few rows to verify\n",
    "print(cyclists_df[['nationality', 'continent']].head(30))"
   ]
  },
  {
   "cell_type": "code",
   "execution_count": 105,
   "metadata": {},
   "outputs": [
    {
     "ename": "KeyError",
     "evalue": "'continent'",
     "output_type": "error",
     "traceback": [
      "\u001b[1;31m---------------------------------------------------------------------------\u001b[0m",
      "\u001b[1;31mKeyError\u001b[0m                                  Traceback (most recent call last)",
      "File \u001b[1;32md:\\miniconda3\\envs\\HLT\\Lib\\site-packages\\pandas\\core\\indexes\\base.py:3805\u001b[0m, in \u001b[0;36mIndex.get_loc\u001b[1;34m(self, key)\u001b[0m\n\u001b[0;32m   3804\u001b[0m \u001b[38;5;28;01mtry\u001b[39;00m:\n\u001b[1;32m-> 3805\u001b[0m     \u001b[38;5;28;01mreturn\u001b[39;00m \u001b[38;5;28;43mself\u001b[39;49m\u001b[38;5;241;43m.\u001b[39;49m\u001b[43m_engine\u001b[49m\u001b[38;5;241;43m.\u001b[39;49m\u001b[43mget_loc\u001b[49m\u001b[43m(\u001b[49m\u001b[43mcasted_key\u001b[49m\u001b[43m)\u001b[49m\n\u001b[0;32m   3806\u001b[0m \u001b[38;5;28;01mexcept\u001b[39;00m \u001b[38;5;167;01mKeyError\u001b[39;00m \u001b[38;5;28;01mas\u001b[39;00m err:\n",
      "File \u001b[1;32mindex.pyx:167\u001b[0m, in \u001b[0;36mpandas._libs.index.IndexEngine.get_loc\u001b[1;34m()\u001b[0m\n",
      "File \u001b[1;32mindex.pyx:196\u001b[0m, in \u001b[0;36mpandas._libs.index.IndexEngine.get_loc\u001b[1;34m()\u001b[0m\n",
      "File \u001b[1;32mpandas\\\\_libs\\\\hashtable_class_helper.pxi:7081\u001b[0m, in \u001b[0;36mpandas._libs.hashtable.PyObjectHashTable.get_item\u001b[1;34m()\u001b[0m\n",
      "File \u001b[1;32mpandas\\\\_libs\\\\hashtable_class_helper.pxi:7089\u001b[0m, in \u001b[0;36mpandas._libs.hashtable.PyObjectHashTable.get_item\u001b[1;34m()\u001b[0m\n",
      "\u001b[1;31mKeyError\u001b[0m: 'continent'",
      "\nThe above exception was the direct cause of the following exception:\n",
      "\u001b[1;31mKeyError\u001b[0m                                  Traceback (most recent call last)",
      "Cell \u001b[1;32mIn[105], line 2\u001b[0m\n\u001b[0;32m      1\u001b[0m \u001b[38;5;66;03m# Create a pairplot excluding the 'height_category' column\u001b[39;00m\n\u001b[1;32m----> 2\u001b[0m \u001b[43msns\u001b[49m\u001b[38;5;241;43m.\u001b[39;49m\u001b[43mpairplot\u001b[49m\u001b[43m(\u001b[49m\u001b[43mcyclists_df\u001b[49m\u001b[38;5;241;43m.\u001b[39;49m\u001b[43mdrop\u001b[49m\u001b[43m(\u001b[49m\u001b[43mcolumns\u001b[49m\u001b[38;5;241;43m=\u001b[39;49m\u001b[43m[\u001b[49m\u001b[38;5;124;43m'\u001b[39;49m\u001b[38;5;124;43mheight_category\u001b[39;49m\u001b[38;5;124;43m'\u001b[39;49m\u001b[43m]\u001b[49m\u001b[43m)\u001b[49m\u001b[43m,\u001b[49m\u001b[43m \u001b[49m\u001b[43mhue\u001b[49m\u001b[38;5;241;43m=\u001b[39;49m\u001b[38;5;124;43m'\u001b[39;49m\u001b[38;5;124;43mcontinent\u001b[39;49m\u001b[38;5;124;43m'\u001b[39;49m\u001b[43m)\u001b[49m\n\u001b[0;32m      3\u001b[0m plt\u001b[38;5;241m.\u001b[39mshow()\n",
      "File \u001b[1;32md:\\miniconda3\\envs\\HLT\\Lib\\site-packages\\seaborn\\axisgrid.py:2119\u001b[0m, in \u001b[0;36mpairplot\u001b[1;34m(data, hue, hue_order, palette, vars, x_vars, y_vars, kind, diag_kind, markers, height, aspect, corner, dropna, plot_kws, diag_kws, grid_kws, size)\u001b[0m\n\u001b[0;32m   2117\u001b[0m \u001b[38;5;66;03m# Set up the PairGrid\u001b[39;00m\n\u001b[0;32m   2118\u001b[0m grid_kws\u001b[38;5;241m.\u001b[39msetdefault(\u001b[38;5;124m\"\u001b[39m\u001b[38;5;124mdiag_sharey\u001b[39m\u001b[38;5;124m\"\u001b[39m, diag_kind \u001b[38;5;241m==\u001b[39m \u001b[38;5;124m\"\u001b[39m\u001b[38;5;124mhist\u001b[39m\u001b[38;5;124m\"\u001b[39m)\n\u001b[1;32m-> 2119\u001b[0m grid \u001b[38;5;241m=\u001b[39m \u001b[43mPairGrid\u001b[49m\u001b[43m(\u001b[49m\u001b[43mdata\u001b[49m\u001b[43m,\u001b[49m\u001b[43m \u001b[49m\u001b[38;5;28;43mvars\u001b[39;49m\u001b[38;5;241;43m=\u001b[39;49m\u001b[38;5;28;43mvars\u001b[39;49m\u001b[43m,\u001b[49m\u001b[43m \u001b[49m\u001b[43mx_vars\u001b[49m\u001b[38;5;241;43m=\u001b[39;49m\u001b[43mx_vars\u001b[49m\u001b[43m,\u001b[49m\u001b[43m \u001b[49m\u001b[43my_vars\u001b[49m\u001b[38;5;241;43m=\u001b[39;49m\u001b[43my_vars\u001b[49m\u001b[43m,\u001b[49m\u001b[43m \u001b[49m\u001b[43mhue\u001b[49m\u001b[38;5;241;43m=\u001b[39;49m\u001b[43mhue\u001b[49m\u001b[43m,\u001b[49m\n\u001b[0;32m   2120\u001b[0m \u001b[43m                \u001b[49m\u001b[43mhue_order\u001b[49m\u001b[38;5;241;43m=\u001b[39;49m\u001b[43mhue_order\u001b[49m\u001b[43m,\u001b[49m\u001b[43m \u001b[49m\u001b[43mpalette\u001b[49m\u001b[38;5;241;43m=\u001b[39;49m\u001b[43mpalette\u001b[49m\u001b[43m,\u001b[49m\u001b[43m \u001b[49m\u001b[43mcorner\u001b[49m\u001b[38;5;241;43m=\u001b[39;49m\u001b[43mcorner\u001b[49m\u001b[43m,\u001b[49m\n\u001b[0;32m   2121\u001b[0m \u001b[43m                \u001b[49m\u001b[43mheight\u001b[49m\u001b[38;5;241;43m=\u001b[39;49m\u001b[43mheight\u001b[49m\u001b[43m,\u001b[49m\u001b[43m \u001b[49m\u001b[43maspect\u001b[49m\u001b[38;5;241;43m=\u001b[39;49m\u001b[43maspect\u001b[49m\u001b[43m,\u001b[49m\u001b[43m \u001b[49m\u001b[43mdropna\u001b[49m\u001b[38;5;241;43m=\u001b[39;49m\u001b[43mdropna\u001b[49m\u001b[43m,\u001b[49m\u001b[43m \u001b[49m\u001b[38;5;241;43m*\u001b[39;49m\u001b[38;5;241;43m*\u001b[39;49m\u001b[43mgrid_kws\u001b[49m\u001b[43m)\u001b[49m\n\u001b[0;32m   2123\u001b[0m \u001b[38;5;66;03m# Add the markers here as PairGrid has figured out how many levels of the\u001b[39;00m\n\u001b[0;32m   2124\u001b[0m \u001b[38;5;66;03m# hue variable are needed and we don't want to duplicate that process\u001b[39;00m\n\u001b[0;32m   2125\u001b[0m \u001b[38;5;28;01mif\u001b[39;00m markers \u001b[38;5;129;01mis\u001b[39;00m \u001b[38;5;129;01mnot\u001b[39;00m \u001b[38;5;28;01mNone\u001b[39;00m:\n",
      "File \u001b[1;32md:\\miniconda3\\envs\\HLT\\Lib\\site-packages\\seaborn\\axisgrid.py:1327\u001b[0m, in \u001b[0;36mPairGrid.__init__\u001b[1;34m(self, data, hue, vars, x_vars, y_vars, hue_order, palette, hue_kws, corner, diag_sharey, height, aspect, layout_pad, despine, dropna)\u001b[0m\n\u001b[0;32m   1316\u001b[0m     \u001b[38;5;28mself\u001b[39m\u001b[38;5;241m.\u001b[39mhue_vals \u001b[38;5;241m=\u001b[39m pd\u001b[38;5;241m.\u001b[39mSeries([\u001b[38;5;124m\"\u001b[39m\u001b[38;5;124m_nolegend_\u001b[39m\u001b[38;5;124m\"\u001b[39m] \u001b[38;5;241m*\u001b[39m \u001b[38;5;28mlen\u001b[39m(data),\n\u001b[0;32m   1317\u001b[0m                               index\u001b[38;5;241m=\u001b[39mdata\u001b[38;5;241m.\u001b[39mindex)\n\u001b[0;32m   1318\u001b[0m \u001b[38;5;28;01melse\u001b[39;00m:\n\u001b[0;32m   1319\u001b[0m     \u001b[38;5;66;03m# We need hue_order and hue_names because the former is used to control\u001b[39;00m\n\u001b[0;32m   1320\u001b[0m     \u001b[38;5;66;03m# the order of drawing and the latter is used to control the order of\u001b[39;00m\n\u001b[1;32m   (...)\u001b[0m\n\u001b[0;32m   1325\u001b[0m     \u001b[38;5;66;03m# to the axes-level functions, while always handling legend creation.\u001b[39;00m\n\u001b[0;32m   1326\u001b[0m     \u001b[38;5;66;03m# See GH2307\u001b[39;00m\n\u001b[1;32m-> 1327\u001b[0m     hue_names \u001b[38;5;241m=\u001b[39m hue_order \u001b[38;5;241m=\u001b[39m categorical_order(\u001b[43mdata\u001b[49m\u001b[43m[\u001b[49m\u001b[43mhue\u001b[49m\u001b[43m]\u001b[49m, hue_order)\n\u001b[0;32m   1328\u001b[0m     \u001b[38;5;28;01mif\u001b[39;00m dropna:\n\u001b[0;32m   1329\u001b[0m         \u001b[38;5;66;03m# Filter NA from the list of unique hue names\u001b[39;00m\n\u001b[0;32m   1330\u001b[0m         hue_names \u001b[38;5;241m=\u001b[39m \u001b[38;5;28mlist\u001b[39m(\u001b[38;5;28mfilter\u001b[39m(pd\u001b[38;5;241m.\u001b[39mnotnull, hue_names))\n",
      "File \u001b[1;32md:\\miniconda3\\envs\\HLT\\Lib\\site-packages\\pandas\\core\\frame.py:4102\u001b[0m, in \u001b[0;36mDataFrame.__getitem__\u001b[1;34m(self, key)\u001b[0m\n\u001b[0;32m   4100\u001b[0m \u001b[38;5;28;01mif\u001b[39;00m \u001b[38;5;28mself\u001b[39m\u001b[38;5;241m.\u001b[39mcolumns\u001b[38;5;241m.\u001b[39mnlevels \u001b[38;5;241m>\u001b[39m \u001b[38;5;241m1\u001b[39m:\n\u001b[0;32m   4101\u001b[0m     \u001b[38;5;28;01mreturn\u001b[39;00m \u001b[38;5;28mself\u001b[39m\u001b[38;5;241m.\u001b[39m_getitem_multilevel(key)\n\u001b[1;32m-> 4102\u001b[0m indexer \u001b[38;5;241m=\u001b[39m \u001b[38;5;28;43mself\u001b[39;49m\u001b[38;5;241;43m.\u001b[39;49m\u001b[43mcolumns\u001b[49m\u001b[38;5;241;43m.\u001b[39;49m\u001b[43mget_loc\u001b[49m\u001b[43m(\u001b[49m\u001b[43mkey\u001b[49m\u001b[43m)\u001b[49m\n\u001b[0;32m   4103\u001b[0m \u001b[38;5;28;01mif\u001b[39;00m is_integer(indexer):\n\u001b[0;32m   4104\u001b[0m     indexer \u001b[38;5;241m=\u001b[39m [indexer]\n",
      "File \u001b[1;32md:\\miniconda3\\envs\\HLT\\Lib\\site-packages\\pandas\\core\\indexes\\base.py:3812\u001b[0m, in \u001b[0;36mIndex.get_loc\u001b[1;34m(self, key)\u001b[0m\n\u001b[0;32m   3807\u001b[0m     \u001b[38;5;28;01mif\u001b[39;00m \u001b[38;5;28misinstance\u001b[39m(casted_key, \u001b[38;5;28mslice\u001b[39m) \u001b[38;5;129;01mor\u001b[39;00m (\n\u001b[0;32m   3808\u001b[0m         \u001b[38;5;28misinstance\u001b[39m(casted_key, abc\u001b[38;5;241m.\u001b[39mIterable)\n\u001b[0;32m   3809\u001b[0m         \u001b[38;5;129;01mand\u001b[39;00m \u001b[38;5;28many\u001b[39m(\u001b[38;5;28misinstance\u001b[39m(x, \u001b[38;5;28mslice\u001b[39m) \u001b[38;5;28;01mfor\u001b[39;00m x \u001b[38;5;129;01min\u001b[39;00m casted_key)\n\u001b[0;32m   3810\u001b[0m     ):\n\u001b[0;32m   3811\u001b[0m         \u001b[38;5;28;01mraise\u001b[39;00m InvalidIndexError(key)\n\u001b[1;32m-> 3812\u001b[0m     \u001b[38;5;28;01mraise\u001b[39;00m \u001b[38;5;167;01mKeyError\u001b[39;00m(key) \u001b[38;5;28;01mfrom\u001b[39;00m \u001b[38;5;21;01merr\u001b[39;00m\n\u001b[0;32m   3813\u001b[0m \u001b[38;5;28;01mexcept\u001b[39;00m \u001b[38;5;167;01mTypeError\u001b[39;00m:\n\u001b[0;32m   3814\u001b[0m     \u001b[38;5;66;03m# If we have a listlike key, _check_indexing_error will raise\u001b[39;00m\n\u001b[0;32m   3815\u001b[0m     \u001b[38;5;66;03m#  InvalidIndexError. Otherwise we fall through and re-raise\u001b[39;00m\n\u001b[0;32m   3816\u001b[0m     \u001b[38;5;66;03m#  the TypeError.\u001b[39;00m\n\u001b[0;32m   3817\u001b[0m     \u001b[38;5;28mself\u001b[39m\u001b[38;5;241m.\u001b[39m_check_indexing_error(key)\n",
      "\u001b[1;31mKeyError\u001b[0m: 'continent'"
     ]
    },
    {
     "data": {
      "image/png": "[encoded data removed]",
      "text/plain": [
       "<Figure size 750x750 with 9 Axes>"
      ]
     },
     "metadata": {},
     "output_type": "display_data"
    }
   ],
   "source": [
    "# Create a pairplot excluding the 'height_category' column\n",
    "sns.pairplot(cyclists_df.drop(columns=['height_category']), hue='continent')\n",
    "plt.show()"
   ]
  },
  {
   "cell_type": "code",
   "execution_count": null,
   "metadata": {},
   "outputs": [],
   "source": []
  },
  {
   "cell_type": "code",
   "execution_count": null,
   "metadata": {},
   "outputs": [],
   "source": [
    "# Elements in 'cyclist' column of races_data and not in '_url' column of cyclists_data\n",
    "diff_races_not_in_cyclists = np.setdiff1d(races_df['cyclist'].unique(), cyclists_df['_url'].unique())\n",
    "print(\"In 'races_data' but not in 'cyclists_data':\", diff_races_not_in_cyclists)\n",
    "\n",
    "# Elements in '_url' column of cyclists_data and not in 'cyclist' column of races_data\n",
    "diff_cyclists_not_in_races = np.setdiff1d(cyclists_df['_url'].unique(), races_df['cyclist'].unique())\n",
    "print(\"In 'cyclists_data' but not in 'races_data':\", diff_cyclists_not_in_races)\n",
    "\n",
    "print(races_df['cyclist'].unique().size)\n",
    "\n",
    "len(diff_cyclists_not_in_races)"
   ]
  }
 ],
 "metadata": {
  "kernelspec": {
   "display_name": "HLT",
   "language": "python",
   "name": "python3"
  },
  "language_info": {
   "codemirror_mode": {
    "name": "ipython",
    "version": 3
   },
   "file_extension": ".py",
   "mimetype": "text/x-python",
   "name": "python",
   "nbconvert_exporter": "python",
   "pygments_lexer": "ipython3",
   "version": "3.12.3"
  }
 },
 "nbformat": 4,
 "nbformat_minor": 2
}
