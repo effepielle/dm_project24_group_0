{
 "cells": [
  {
   "cell_type": "markdown",
   "metadata": {},
   "source": [
    "# Logistic Regression"
   ]
  },
  {
   "cell_type": "code",
   "execution_count": null,
   "metadata": {},
   "outputs": [],
   "source": [
    "import pandas as pd\n",
    "import numpy as np\n",
    "from sklearn.model_selection import train_test_split\n",
    "from sklearn.linear_model import LogisticRegression\n",
    "from sklearn.model_selection import RandomizedSearchCV\n",
    "from sklearn.metrics import recall_score, f1_score, accuracy_score, roc_auc_score, confusion_matrix"
   ]
  },
  {
   "cell_type": "code",
   "execution_count": null,
   "metadata": {},
   "outputs": [],
   "source": [
    "races_df = pd.read_csv('../dataset/races_classification.csv')"
   ]
  },
  {
   "cell_type": "code",
   "execution_count": null,
   "metadata": {},
   "outputs": [],
   "source": [
    "columns_to_drop = races_df.drop(columns=['_url', 'name','length', 'climb_total', 'profile', \n",
    "                            'startlist_quality', 'position', 'cyclist', 'cyclist_team', \n",
    "                            'start_date', 'duration','cyclist_number', \n",
    "                            'cyclist_experience_profile','cyclist_experience_length', \n",
    "                            'cyclist_experience_climb', 'cyclist_experience', \n",
    "                            'avg_rel_position_length', 'avg_rel_position_climb', \n",
    "                            'relative_position_sum', 'position_entropy'])"
   ]
  },
  {
   "cell_type": "code",
   "execution_count": null,
   "metadata": {},
   "outputs": [],
   "source": [
    "test_data = races_df[races_df['start_date'] >= '2020-01-01']\n",
    "train_data = races_df.drop(test_data.index)\n",
    "\n",
    "train_labels = train_data['top_20']\n",
    "test_labels = test_data['top_20']\n",
    "\n",
    "test_data = test_data.select_dtypes(include=[np.number])\n",
    "train_data = train_data.select_dtypes(include=[np.number])"
   ]
  },
  {
   "cell_type": "code",
   "execution_count": null,
   "metadata": {},
   "outputs": [],
   "source": [
    "\n",
    "parameters = {\n",
    "    'solver': ['newton-cg', 'lbfgs', 'liblinear', 'sag', 'saga', 'newton-cholesky'],\n",
    "    'penalty': ['l1', 'l2', None],\n",
    "    'tol': [0.001, 0.0001, 1e-05],\n",
    "    'C': [1, 10, 100]\n",
    "}"
   ]
  },
  {
   "cell_type": "code",
   "execution_count": null,
   "metadata": {},
   "outputs": [],
   "source": [
    "# Define the logistic regression model\n",
    "log_reg = LogisticRegression(max_iter=10000)\n",
    "\n",
    "# Perform randomized search cross-validation\n",
    "random_search = RandomizedSearchCV(log_reg, parameters, n_iter=50, cv=5, verbose=1, n_jobs=-1, random_state=42, refit=f1_score) # already stratified!\n",
    "random_search.fit(train_data, train_labels)"
   ]
  },
  {
   "cell_type": "code",
   "execution_count": null,
   "metadata": {},
   "outputs": [],
   "source": [
    "random_search.best_params_"
   ]
  }
 ],
 "metadata": {
  "kernelspec": {
   "display_name": ".venv",
   "language": "python",
   "name": "python3"
  },
  "language_info": {
   "codemirror_mode": {
    "name": "ipython",
    "version": 3
   },
   "file_extension": ".py",
   "mimetype": "text/x-python",
   "name": "python",
   "nbconvert_exporter": "python",
   "pygments_lexer": "ipython3",
   "version": "3.12.7"
  }
 },
 "nbformat": 4,
 "nbformat_minor": 2
}
