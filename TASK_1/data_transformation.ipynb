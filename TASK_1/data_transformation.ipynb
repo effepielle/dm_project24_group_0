{
 "cells": [
  {
   "cell_type": "markdown",
   "metadata": {},
   "source": [
    "# **Feature engeneering**"
   ]
  },
  {
   "cell_type": "code",
   "execution_count": null,
   "metadata": {},
   "outputs": [],
   "source": [
    "%load_ext autoreload\n",
    "%autoreload 2"
   ]
  },
  {
   "cell_type": "code",
   "execution_count": null,
   "metadata": {},
   "outputs": [],
   "source": [
    "import pandas as pd\n",
    "import matplotlib.pyplot as plt\n",
    "import seaborn as sns\n",
    "import numpy as np\n",
    "import pycountry_convert as pc\n",
    "import os\n",
    "\n",
    "os.chdir(os.path.dirname(os.getcwd()))      # Move to parent directory\n",
    "\n",
    "from utils import compute_difficulty_index, compute_bmi\n",
    "\n"
   ]
  },
  {
   "cell_type": "code",
   "execution_count": null,
   "metadata": {},
   "outputs": [],
   "source": [
    "print(os.getcwd())\n",
    "\n",
    "# Dataset download\n",
    "cyclists_df = pd.read_csv('dataset/cyclists.csv')\n",
    "races_df = pd.read_csv('dataset/races.csv')"
   ]
  },
  {
   "cell_type": "markdown",
   "metadata": {},
   "source": [
    "#### ```categorical_height``` column\n"
   ]
  },
  {
   "cell_type": "markdown",
   "metadata": {},
   "source": [
    "Since cycling is a sport in which, on average for the same height, the weight is similar, we group height by category with 5cm intervals to look for possible outliers in weight using conditional boxplots."
   ]
  },
  {
   "cell_type": "code",
   "execution_count": null,
   "metadata": {},
   "outputs": [],
   "source": [
    "# Define the bins for the height category and create the feature\n",
    "bins = [154, 159, 164, 169, 174, 179, 184, 189, 194, 199, 204]\n",
    "labels = list(range(10))\n",
    "\n",
    "cyclists_df['categorical_height'] = pd.cut(cyclists_df['height'], bins=bins, labels=labels, right=False, include_lowest=True)\n",
    "\n",
    "print(cyclists_df[['height', 'categorical_height']].head(10))"
   ]
  },
  {
   "cell_type": "markdown",
   "metadata": {},
   "source": [
    "Conditional Box Plot"
   ]
  },
  {
   "cell_type": "code",
   "execution_count": null,
   "metadata": {},
   "outputs": [],
   "source": [
    "plt.figure(figsize=(10, 5))\n",
    "sns.boxplot(x='categorical_height', y='weight', data=cyclists_df)\n",
    "plt.title('Boxplot of Weight Conditioned on Height Category')\n",
    "plt.xlabel('Height Category')\n",
    "plt.ylabel('Weight')\n",
    "\n",
    "# Set y-axis intervals\n",
    "plt.yticks(np.arange(50, cyclists_df['weight'].max() + 5, 5))\n",
    "\n",
    "plt.show()"
   ]
  },
  {
   "cell_type": "markdown",
   "metadata": {},
   "source": [
    "We show the number of cyclists in each defined category (excluding those with zero weight) to evaluate the significance of the outliers identified from the boxplots."
   ]
  },
  {
   "cell_type": "code",
   "execution_count": null,
   "metadata": {},
   "outputs": [],
   "source": [
    "# Exclude cyclists with null weight\n",
    "cyclists_df_non_null_weight = cyclists_df[cyclists_df['weight'].notnull()]\n",
    "\n",
    "# Count the number of cyclists in each height category\n",
    "categorical_height_counts = cyclists_df_non_null_weight['categorical_height'].value_counts().sort_index()\n",
    "\n",
    "# Plot the results\n",
    "plt.figure(figsize=(8, 4))\n",
    "ax = categorical_height_counts.plot(kind='bar')\n",
    "plt.title('Number of Cyclists per Height Category (Excluding Null Weights)')\n",
    "plt.xlabel('Height Category')\n",
    "plt.ylabel('Number of Cyclists')\n",
    "\n",
    "# Add the count above each bin\n",
    "for i, count in enumerate(categorical_height_counts):\n",
    "    ax.text(i, count + 5, str(count), ha='center', va='bottom')\n",
    "\n",
    "# Rotate x-axis labels to horizontal\n",
    "plt.xticks(rotation=0)\n",
    "\n",
    "plt.show()"
   ]
  },
  {
   "cell_type": "markdown",
   "metadata": {},
   "source": [
    "#### ```BMI_idx``` column"
   ]
  },
  {
   "cell_type": "code",
   "execution_count": null,
   "metadata": {},
   "outputs": [],
   "source": [
    "cyclists_df['BMI_idx'] = cyclists_df.apply(\n",
    "    lambda row: compute_bmi(row['weight'], row['height']),\n",
    "    axis=1\n",
    ")\n",
    "\n",
    "print(cyclists_df[['weight', 'height', 'BMI_idx']].head(10))"
   ]
  },
  {
   "cell_type": "markdown",
   "metadata": {},
   "source": [
    "Categorizing BMI index"
   ]
  },
  {
   "cell_type": "code",
   "execution_count": null,
   "metadata": {},
   "outputs": [],
   "source": [
    "# Define the BMI categories and their corresponding labels\n",
    "bmi_bins = [0, 18.5, 24.9, 29.9, np.inf]\n",
    "bmi_labels = ['Underweight', 'Normal weight', 'Overweight', 'Obese']\n",
    "\n",
    "# Create the 'BMI' categorical column\n",
    "cyclists_df['BMI'] = pd.cut(cyclists_df['BMI_idx'], bins=bmi_bins, labels=bmi_labels, right=False, include_lowest=True)\n",
    "\n",
    "# Display the first few rows to verify\n",
    "print(cyclists_df[['_url', 'BMI_idx', 'BMI']].head(10))"
   ]
  },
  {
   "cell_type": "code",
   "execution_count": null,
   "metadata": {},
   "outputs": [],
   "source": [
    "# Count the number of cyclists per BMI category\n",
    "bmi_category_counts = cyclists_df['BMI'].value_counts().sort_index()\n",
    "\n",
    "# Plot the results\n",
    "plt.figure(figsize=(8, 4))\n",
    "ax = bmi_category_counts.plot(kind='bar')\n",
    "plt.title('Number of Cyclists per BMI Category')\n",
    "plt.xlabel('BMI Category')\n",
    "plt.ylabel('Number of Cyclists')\n",
    "\n",
    "# Add the count above each bin\n",
    "for i, count in enumerate(bmi_category_counts):\n",
    "    ax.text(i, count + 5, str(count), ha='center', va='bottom')\n",
    "\n",
    "# Rotate x-axis labels to horizontal\n",
    "plt.xticks(rotation=0)\n",
    "\n",
    "plt.show()"
   ]
  },
  {
   "cell_type": "markdown",
   "metadata": {},
   "source": [
    "Null values for BMI index"
   ]
  },
  {
   "cell_type": "code",
   "execution_count": null,
   "metadata": {},
   "outputs": [],
   "source": [
    "null_bmi_idx_count = cyclists_df['BMI_idx'].isnull().sum()\n",
    "print(f\"Number of null values in BMI_idx column: {null_bmi_idx_count}\")"
   ]
  },
  {
   "cell_type": "markdown",
   "metadata": {},
   "source": [
    "As expected the most of the cyclists are normal weight"
   ]
  },
  {
   "cell_type": "code",
   "execution_count": null,
   "metadata": {},
   "outputs": [],
   "source": [
    "cyclists_df = cyclists_df.drop(columns=['BMI_idx'])\n",
    "# Create a pairplot excluding the 'categorical_height' column\n",
    "sns.pairplot(cyclists_df.drop(columns=[]), hue='BMI')\n",
    "plt.show()"
   ]
  },
  {
   "cell_type": "markdown",
   "metadata": {},
   "source": [
    "#### ```continent``` column"
   ]
  },
  {
   "cell_type": "code",
   "execution_count": null,
   "metadata": {},
   "outputs": [],
   "source": [
    "# Function to convert country name to continent\n",
    "def country_to_continent(country_name):\n",
    "    try:\n",
    "        country_alpha2 = pc.country_name_to_country_alpha2(country_name)\n",
    "        continent_code = pc.country_alpha2_to_continent_code(country_alpha2)\n",
    "        continent_name = pc.convert_continent_code_to_continent_name(continent_code)\n",
    "        return continent_name\n",
    "    except:\n",
    "        return 'Unknown'\n",
    "\n",
    "# Apply the function to create a new column 'continent'\n",
    "cyclists_df['continent'] = cyclists_df['nationality'].apply(country_to_continent)\n",
    "\n",
    "# Display the first few rows to verify\n",
    "print(cyclists_df[['nationality', 'continent']].head(10))"
   ]
  },
  {
   "cell_type": "code",
   "execution_count": null,
   "metadata": {},
   "outputs": [],
   "source": [
    "# Count the number of cyclists per continent\n",
    "continent_counts = cyclists_df['continent'].value_counts()\n",
    "\n",
    "# Plot the number of cyclists per continent as a histogram\n",
    "plt.figure(figsize=(8, 5))\n",
    "ax = continent_counts.plot(kind='bar')\n",
    "plt.title('Number of Cyclists per Continent')\n",
    "plt.xlabel('Continent')\n",
    "plt.ylabel('Number of Cyclists')\n",
    "plt.xticks(rotation=45)\n",
    "\n",
    "# Add the count above each bin\n",
    "for i, count in enumerate(continent_counts):\n",
    "    ax.text(i, count + 50, str(count), ha='center', va='bottom')\n",
    "\n",
    "plt.show()"
   ]
  },
  {
   "cell_type": "code",
   "execution_count": null,
   "metadata": {},
   "outputs": [],
   "source": [
    "# Create a pairplot excluding the 'categorical_height' column\n",
    "sns.pairplot(cyclists_df.drop(columns=['categorical_height']), hue='continent')\n",
    "plt.show()"
   ]
  },
  {
   "cell_type": "markdown",
   "metadata": {},
   "source": [
    "Given that majority of cyclists are european let's deep into european cyclist analysis"
   ]
  },
  {
   "cell_type": "code",
   "execution_count": null,
   "metadata": {},
   "outputs": [],
   "source": [
    "# Filter cyclists by European continent\n",
    "european_df = cyclists_df[cyclists_df['continent'] == 'Europe'].drop(columns=['continent'])"
   ]
  },
  {
   "cell_type": "code",
   "execution_count": null,
   "metadata": {},
   "outputs": [],
   "source": [
    "# Count the number of cyclists per nationality\n",
    "nationality_counts = european_df['nationality'].value_counts()\n",
    "\n",
    "# Plot the number of cyclists per nationality as a histogram\n",
    "plt.figure(figsize=(14, 7))\n",
    "ax = nationality_counts.plot(kind='bar')\n",
    "plt.title('Number of Cyclists per Nationality')\n",
    "plt.xlabel('Nationality')\n",
    "plt.ylabel('Number of Cyclists')\n",
    "plt.xticks(rotation=90)\n",
    "\n",
    "# Add the count above each bin\n",
    "for i, count in enumerate(nationality_counts):\n",
    "    ax.text(i, count + 10, str(count), ha='center', va='bottom')\n",
    "\n",
    "plt.show()"
   ]
  },
  {
   "cell_type": "code",
   "execution_count": null,
   "metadata": {},
   "outputs": [],
   "source": [
    "# Create a pairplot excluding the 'categorical_height' column\n",
    "sns.pairplot(european_df.drop(columns=['categorical_height']), hue='nationality')\n",
    "plt.show()"
   ]
  },
  {
   "cell_type": "markdown",
   "metadata": {},
   "source": [
    "#### ```cyclist_win``` column"
   ]
  },
  {
   "cell_type": "markdown",
   "metadata": {},
   "source": [
    "Count how many stages won each cyclist"
   ]
  },
  {
   "cell_type": "code",
   "execution_count": null,
   "metadata": {},
   "outputs": [],
   "source": [
    "# Group by cyclist and count the number of times position is 0\n",
    "stages_won = races_df[races_df['position'] == 0].groupby('cyclist').size().reset_index(name='position')\n",
    "\n",
    "# Add cyclists who never had position 0 with counter set to 0\n",
    "all_cyclists = pd.DataFrame(races_df['cyclist'].unique(), columns=['cyclist'])\n",
    "stages_won_df = pd.merge(all_cyclists, stages_won, on='cyclist', how='left').fillna(0)\n",
    "\n",
    "# Ensure position is an integer\n",
    "stages_won_df['position'] = stages_won_df['position'].astype(int)\n",
    "# Merge the stages_won_df with cyclists_df to add the 'cyclist_win' column\n",
    "cyclists_df = cyclists_df.merge(stages_won_df, left_on='_url', right_on='cyclist', how='left')\n",
    "\n",
    "# Rename the 'position' column to 'cyclist_win'\n",
    "cyclists_df = cyclists_df.rename(columns={'position': 'cyclist_win'})\n",
    "\n",
    "# Drop the redundant 'cyclist' column\n",
    "cyclists_df = cyclists_df.drop(columns=['cyclist'])\n",
    "\n",
    "print(cyclists_df[[\"_url\", \"cyclist_win\"]].head(3))\n",
    "\n",
    "#check correctness of the computation (sum(races won) = num. of races)\n",
    "print(\"Total cyclist_wins:\", cyclists_df['cyclist_win'].sum())\n"
   ]
  },
  {
   "cell_type": "markdown",
   "metadata": {},
   "source": [
    "Some useful analysis on win column like max, min, counting..."
   ]
  },
  {
   "cell_type": "code",
   "execution_count": null,
   "metadata": {},
   "outputs": [],
   "source": [
    "cyclists_df['cyclist_win'].describe()"
   ]
  },
  {
   "cell_type": "markdown",
   "metadata": {},
   "source": [
    "Plot distribution of stages won"
   ]
  },
  {
   "cell_type": "code",
   "execution_count": null,
   "metadata": {},
   "outputs": [],
   "source": [
    "# Plot the distribution of stages won\n",
    "plt.figure(figsize=(8, 4))\n",
    "sns.histplot(cyclists_df['cyclist_win'], bins=range(0, int(cyclists_df['cyclist_win'].max()) + 2), kde=False)\n",
    "plt.title('Distribution of Stages Won for each Cyclist')\n",
    "plt.xlabel('Number of Stages Won')\n",
    "plt.ylabel('Number of Cyclists')\n",
    "plt.show()"
   ]
  },
  {
   "cell_type": "markdown",
   "metadata": {},
   "source": [
    "Scatter plot"
   ]
  },
  {
   "cell_type": "code",
   "execution_count": null,
   "metadata": {},
   "outputs": [],
   "source": [
    "# Create a pairplot with 'cyclist_win' as the hue\n",
    "sns.pairplot(cyclists_df.drop(columns=['categorical_height']), hue='cyclist_win')\n",
    "plt.show()"
   ]
  },
  {
   "cell_type": "markdown",
   "metadata": {},
   "source": [
    "#### ```team_win``` column"
   ]
  },
  {
   "cell_type": "code",
   "execution_count": null,
   "metadata": {},
   "outputs": [],
   "source": [
    "# Group by team and count the number of times position is 0\n",
    "stages_won_by_team = races_df[races_df['position'] == 0].groupby('cyclist_team').size().reset_index(name='position')\n",
    "\n",
    "# Add teams who never had position 0 with counter set to 0\n",
    "all_teams = pd.DataFrame(races_df['cyclist_team'].unique(), columns=['cyclist_team'])\n",
    "stages_won_team_df = pd.merge(all_teams, stages_won_by_team, on='cyclist_team', how='left').fillna(0)\n",
    "\n",
    "# Ensure position is an integer\n",
    "stages_won_team_df['position'] = stages_won_team_df['position'].astype(int)\n",
    "\n",
    "# Rename the 'position' column to 'team_win'\n",
    "stages_won_team_df = stages_won_team_df.rename(columns={'position': 'team_win'})\n",
    "\n",
    "# Merge the stages_won_team_df with races_df to add the 'team_win' column\n",
    "races_df = races_df.merge(stages_won_team_df, on='cyclist_team', how='left')\n",
    "\n",
    "print(races_df[['cyclist_team', 'team_win']].head(10))\n"
   ]
  },
  {
   "cell_type": "code",
   "execution_count": null,
   "metadata": {},
   "outputs": [],
   "source": [
    "print(f\"Null values in team_win column: {int(races_df['team_win'].isnull().sum())}\")"
   ]
  },
  {
   "cell_type": "code",
   "execution_count": null,
   "metadata": {},
   "outputs": [],
   "source": [
    "races_df['team_win'].describe()"
   ]
  },
  {
   "cell_type": "markdown",
   "metadata": {},
   "source": [
    "Distribution Plot"
   ]
  },
  {
   "cell_type": "code",
   "execution_count": null,
   "metadata": {},
   "outputs": [],
   "source": [
    "# Plot the number of races won per team as a histogram\n",
    "plt.figure(figsize=(16, 7))\n",
    "ax = stages_won_team_df.set_index('cyclist_team')['team_win'].plot(kind='bar')\n",
    "plt.title('Number of Races Won per Team')\n",
    "plt.xlabel('Team')\n",
    "plt.ylabel('Number of Races Won')\n",
    "plt.xticks(rotation=90)\n",
    "\n",
    "# Add the count above each bin\n",
    "for i, count in enumerate(stages_won_team_df['team_win']):\n",
    "    ax.text(i, count + 1, str(count), ha='center', va='bottom')\n",
    "\n",
    "plt.show()"
   ]
  },
  {
   "cell_type": "markdown",
   "metadata": {},
   "source": [
    "#### ```difficulty_idx``` column"
   ]
  },
  {
   "cell_type": "code",
   "execution_count": null,
   "metadata": {},
   "outputs": [],
   "source": [
    "races_df['difficulty_idx'] = races_df.apply(\n",
    "        lambda row: compute_difficulty_index(row['length']/1000, row['climb_total']/1000, row['profile']),\n",
    "        axis=1\n",
    "        )"
   ]
  },
  {
   "cell_type": "code",
   "execution_count": null,
   "metadata": {},
   "outputs": [],
   "source": [
    "print(f\"Null values in avg_slope column: {int(races_df['difficulty_idx'].isnull().sum())}\")"
   ]
  },
  {
   "cell_type": "code",
   "execution_count": null,
   "metadata": {},
   "outputs": [],
   "source": [
    "races_df[\"difficulty_idx\"].describe()"
   ]
  },
  {
   "cell_type": "markdown",
   "metadata": {},
   "source": [
    "Normalize this difficulty index"
   ]
  },
  {
   "cell_type": "code",
   "execution_count": null,
   "metadata": {},
   "outputs": [],
   "source": [
    "from sklearn.preprocessing import MinMaxScaler\n",
    "\n",
    "# Initialize the MinMaxScaler\n",
    "scaler = MinMaxScaler()\n",
    "\n",
    "# Fit and transform the 'difficulty_index' column\n",
    "races_df['difficulty_index_normalized'] = scaler.fit_transform(races_df[['difficulty_idx']]).round(2)\n",
    "races_df.drop(columns=['difficulty_idx'], inplace=True)\n",
    "races_df.rename(columns={'difficulty_index_normalized': 'difficulty_idx'}, inplace=True)"
   ]
  },
  {
   "cell_type": "code",
   "execution_count": null,
   "metadata": {},
   "outputs": [],
   "source": [
    "plt.figure(figsize=(4, 4))\n",
    "sns.boxplot(y='difficulty_idx', data=races_df)\n",
    "plt.title('Boxplot of Difficulty Index')\n",
    "plt.ylabel('Difficulty Index')\n",
    "plt.show()"
   ]
  },
  {
   "cell_type": "code",
   "execution_count": null,
   "metadata": {},
   "outputs": [],
   "source": [
    "# Plot the distribution of the difficulty index\n",
    "plt.figure(figsize=(8, 4))\n",
    "sns.histplot(races_df['difficulty_idx'], bins=30)\n",
    "plt.title('Distribution of Difficulty Index')\n",
    "plt.xlabel('Difficulty Index')\n",
    "plt.ylabel('Frequency')\n",
    "plt.show()"
   ]
  },
  {
   "cell_type": "markdown",
   "metadata": {},
   "source": [
    "##### ```min_duration``` column "
   ]
  },
  {
   "cell_type": "markdown",
   "metadata": {},
   "source": [
    "We decided to drop the ```delta``` column and the ```duration``` column as they contain many errors and as in the final clustering we will try to cluster stages and riders rather than riders and stages together. For this reason, we create a new feature min_duration that contains the total time taken for the first cyclist to finish the stage, as this could be another measure to assess the difficulty of the stage."
   ]
  },
  {
   "cell_type": "code",
   "execution_count": null,
   "metadata": {},
   "outputs": [],
   "source": [
    "# DROP THIS CODE WHEN THE PROJECT IS FINISHED: this split is already done in DU\n",
    "\n",
    "# Split the 'date' column into 'start_date' and 'duration'\n",
    "races_df['date'] = pd.to_datetime(races_df['date'])\n",
    "races_df['start_date'] = races_df['date'].dt.date\n",
    "races_df['duration'] = races_df['date'].dt.time"
   ]
  },
  {
   "cell_type": "code",
   "execution_count": null,
   "metadata": {},
   "outputs": [],
   "source": [
    "# Group by '_url' and take the first entry in 'duration' for each group\n",
    "races_df['min_duration'] = races_df.groupby('_url')['duration'].transform('first')\n",
    "\n",
    "# Display the first few rows to verify\n",
    "print(races_df[['duration', 'min_duration']].head(7))\n",
    "\n",
    "# Convert 'min_duration' to total seconds\n",
    "races_df['min_duration'] = races_df['min_duration'].apply(lambda x: int(pd.to_timedelta(str(x)).total_seconds()))\n",
    "\n",
    "# Display the first few rows to verify\n",
    "print(races_df[['min_duration']].head(7))"
   ]
  },
  {
   "cell_type": "code",
   "execution_count": null,
   "metadata": {},
   "outputs": [],
   "source": [
    "races_df['min_duration'].describe()"
   ]
  },
  {
   "cell_type": "code",
   "execution_count": null,
   "metadata": {},
   "outputs": [],
   "source": [
    "grouped_df = races_df.groupby('min_duration')[['length', '_url']].value_counts().sort_index()\n",
    "print(grouped_df)"
   ]
  },
  {
   "cell_type": "markdown",
   "metadata": {},
   "source": [
    "### ```season``` column "
   ]
  },
  {
   "cell_type": "code",
   "execution_count": null,
   "metadata": {},
   "outputs": [],
   "source": [
    "# Split the 'date' column into 'start_date' and 'duration'\n",
    "races_df['start_date'] = pd.to_datetime(races_df['date']).dt.date"
   ]
  },
  {
   "cell_type": "code",
   "execution_count": null,
   "metadata": {},
   "outputs": [],
   "source": [
    "\n",
    "def get_season(date):\n",
    "    month = date.month\n",
    "    day = date.day\n",
    "\n",
    "    if (month == 12 and day >= 21) or (month <= 2) or (month == 3 and day < 20):\n",
    "        return 'Winter'\n",
    "    elif (month == 3 and day >= 20) or (month <= 5) or (month == 6 and day < 21):\n",
    "        return 'Spring'\n",
    "    elif (month == 6 and day >= 21) or (month <= 8) or (month == 9 and day < 22):\n",
    "        return 'Summer'\n",
    "    else:\n",
    "        return 'Autumn'\n",
    "\n",
    "# Apply the custom get_season function to create a new column 'season'\n",
    "races_df['season'] = races_df['start_date'].apply(lambda x: get_season(pd.to_datetime(x)))\n",
    "\n",
    "# Display the first few rows to verify\n",
    "print(races_df[['start_date', 'season']].head(5))"
   ]
  },
  {
   "cell_type": "markdown",
   "metadata": {},
   "source": [
    "### ```cyclist_level``` column in races_df"
   ]
  },
  {
   "cell_type": "markdown",
   "metadata": {},
   "source": [
    "The level of the cyclist is relative to the period of the race considered "
   ]
  },
  {
   "cell_type": "code",
   "execution_count": null,
   "metadata": {},
   "outputs": [],
   "source": [
    "# Sort the `races_df` DataFrame by the '_url' and 'start_date' columns \n",
    "races_df = races_df.sort_values(by=['_url', 'start_date'], kind='mergesort')  "
   ]
  },
  {
   "cell_type": "markdown",
   "metadata": {},
   "source": [
    "**position weigth**"
   ]
  },
  {
   "cell_type": "code",
   "execution_count": null,
   "metadata": {},
   "outputs": [],
   "source": [
    "WEIGHTS = {\n",
    "    'win_points': 1.0,           # Weight for wins\n",
    "    'second_place_points': 0.95, # Weight for second places\n",
    "    'third_place_points': 0.90,  # Weight for third places\n",
    "    'fourth_place_points': 0.85, # Weight for fourth places\n",
    "}"
   ]
  },
  {
   "cell_type": "markdown",
   "metadata": {},
   "source": [
    "### **Formula for Calculating Cyclist Level**\n",
    "\n",
    "Let:\n",
    "- $ V $ = Normalized Level of the cyclist\n",
    "- $ W_i $ = Weight for each type of placement (i.e., wins, second places, third places, fourth places)\n",
    "- $ N_i $ = Number of placements of type $ i $ \n",
    "- $ T $ = Total number of races completed by the cyclist\n",
    "- $ P_{\\text{i}} $ = points of the reaces where cyslit arrived i-th\n",
    "\n",
    "The formula for the normalized level $ V $ can be expressed as:\n",
    "\n",
    "$$\n",
    "V = \\frac{1}{T} \\sum_{i=1}^{4} \\left( N_i \\cdot W_i \\cdot P_i \\right)\n",
    "$$\n",
    "\n",
    "Where:\n",
    "- \\( i \\) corresponds to the different categories:\n",
    "  - \\( P_1 \\) = Number of wins (weighted by \\( W_1 = 5 \\))\n",
    "  - \\( P_2 \\) = Number of second places (weighted by \\( W_2 = 3 \\))\n",
    "  - \\( P_3 \\) = Number of third places (weighted by \\( W_3 = 2 \\))\n",
    "  - \\( P_4 \\) = Number of fourth places (weighted by \\( W_4 = 1 \\))\n",
    "\n",
    "**OBS:**  in the case where this column is added in the races_df dataset all data are relative up to the *start_date* of the row in conisderation. In the case where the column is added in the cyclist_df all races done by the cyclist are taken, thus conisdering his whole career\n"
   ]
  },
  {
   "cell_type": "code",
   "execution_count": null,
   "metadata": {},
   "outputs": [],
   "source": [
    "import bisect\n",
    "\n",
    "# Initialize the dictionary\n",
    "cyclist_performance = {}\n",
    "\n",
    "# iteration in all races to compute the cyclist level\n",
    "for _, row in races_df.iterrows():\n",
    "\n",
    "    cyclist = row['cyclist']\n",
    "    position = row['position']\n",
    "    points = row['points']\n",
    "\n",
    "    # Initialize the nested dictionary if the cyclist is not already in the dictionary\n",
    "    if cyclist not in cyclist_performance:\n",
    "        cyclist_performance[cyclist] = {\n",
    "            'win_points': [],\n",
    "            'second_place_points': [],\n",
    "            'third_place_points': [],\n",
    "            'fourth_place_points': [],\n",
    "            'total_races': 0\n",
    "        }\n",
    "\n",
    "    cyclist_performance[cyclist]['total_races'] += 1\n",
    "    \n",
    "    # Add the date and points as a tuple to the appropriate list based on the position\n",
    "    if position == 0:\n",
    "        cyclist_performance[cyclist]['win_points'].append(points)\n",
    "    elif position == 1:\n",
    "        cyclist_performance[cyclist]['second_place_points'].append(points)\n",
    "    elif position == 2:\n",
    "        cyclist_performance[cyclist]['third_place_points'].append(points)\n",
    "    elif position == 3:\n",
    "        cyclist_performance[cyclist]['fourth_place_points'].append(points)\n",
    "    \n",
    "\n",
    "    normalized_level = 0.0\n",
    "\n",
    "    # Sum of placements weighted by their position and race score before the date\n",
    "    placement_sum = 0\n",
    "    for position, weight in WEIGHTS.items():\n",
    "        for points in cyclist_performance[cyclist].get(position, []):\n",
    "            placement_sum += weight * points\n",
    "        \n",
    "        normalized_level = placement_sum / cyclist_performance[cyclist]['total_races']\n",
    "    \n",
    "    # Update the 'cyclist_level' column for the current row\n",
    "    races_df.at[row.name, 'cyclist_level'] = normalized_level\n"
   ]
  },
  {
   "cell_type": "code",
   "execution_count": null,
   "metadata": {},
   "outputs": [],
   "source": [
    "plt.figure(figsize=(8, 4))\n",
    "sns.histplot(races_df['cyclist_level'], bins=100, kde=True)\n",
    "plt.title('Distribution of Cyclist Level')\n",
    "plt.xlabel('Cyclist Level')\n",
    "plt.ylabel('Frequency')\n",
    "plt.show()"
   ]
  },
  {
   "cell_type": "code",
   "execution_count": null,
   "metadata": {},
   "outputs": [],
   "source": [
    "plt.figure(figsize=(10, 6))\n",
    "sns.boxplot(y='cyclist_level', data=races_df)\n",
    "plt.title('Boxplot of Cyclist Level')\n",
    "plt.ylabel('Cyclist Level')\n",
    "plt.show()"
   ]
  },
  {
   "cell_type": "markdown",
   "metadata": {},
   "source": [
    "### ```cyclist_level``` column in cyclists_df"
   ]
  },
  {
   "cell_type": "markdown",
   "metadata": {},
   "source": [
    "cyclist's level is calculated by considering all his races. \n",
    "The formula for calculating the level is the same as shown above: \n",
    "$$\n",
    "V = \\frac{1}{T} \\sum_{i=1}^{4} \\left( N_i \\cdot W_i \\cdot P_i \\right)\n",
    "$$"
   ]
  },
  {
   "cell_type": "code",
   "execution_count": null,
   "metadata": {},
   "outputs": [],
   "source": [
    "\n",
    "# add a cyclist_level column to the cyclists_df\n",
    "cyclists_df['cyclist_level'] = 0.0\n",
    "\n",
    "arr = ['win_points', 'second_place_points', 'third_place_points', 'fourth_place_points', 'total_races']\n",
    "\n",
    "for cyclist, races in cyclist_performance.items():\n",
    "        placement_sum = 0\n",
    "\n",
    "        win_points = cyclist_performance[cyclist]['win_points']\n",
    "        second_points = cyclist_performance[cyclist]['second_place_points']\n",
    "        third_points = cyclist_performance[cyclist]['third_place_points']\n",
    "        fourth_points = cyclist_performance[cyclist]['fourth_place_points']\n",
    "        total_races = cyclist_performance[cyclist]['total_races']\n",
    "\n",
    "        for points in win_points:\n",
    "            placement_sum += WEIGHTS['win_points'] * points\n",
    "        for points in second_points:\n",
    "            placement_sum += WEIGHTS['second_place_points'] * points\n",
    "        for points in third_points:\n",
    "            placement_sum += WEIGHTS['third_place_points'] * points\n",
    "        for points in fourth_points:\n",
    "            placement_sum += WEIGHTS['fourth_place_points'] * points\n",
    "        \n",
    "        normalized_level = placement_sum+total_races\n",
    "\n",
    "        # Update the 'cyclist_level' in the cyclist_df\n",
    "        cyclists_df.loc[cyclists_df['_url'] == cyclist, 'cyclist_level'] = normalized_level"
   ]
  },
  {
   "cell_type": "code",
   "execution_count": null,
   "metadata": {},
   "outputs": [],
   "source": [
    "plt.figure(figsize=(8, 4))\n",
    "sns.histplot(cyclists_df['cyclist_level'], bins=110, kde=True)\n",
    "plt.title('Distribution of Cyclist Level')\n",
    "plt.xlabel('Cyclist Level')\n",
    "plt.ylabel('Frequency')\n",
    "plt.show()"
   ]
  },
  {
   "cell_type": "code",
   "execution_count": null,
   "metadata": {},
   "outputs": [],
   "source": [
    "plt.figure(figsize=(10, 6))\n",
    "sns.boxplot(y='cyclist_level', data=cyclists_df)\n",
    "plt.title('Boxplot of Cyclist Level')\n",
    "plt.ylabel('Cyclist Level')\n",
    "plt.show()"
   ]
  },
  {
   "cell_type": "markdown",
   "metadata": {},
   "source": [
    "#### ```avg_slope``` column"
   ]
  },
  {
   "cell_type": "markdown",
   "metadata": {},
   "source": [
    "Average slope of the stage can be useful as another indicator of stage complexity. We expect that the higher the slope the more complex is the race. "
   ]
  },
  {
   "cell_type": "code",
   "execution_count": null,
   "metadata": {},
   "outputs": [],
   "source": [
    "# Calculate the average slope and create the new column\n",
    "races_df['avg_slope'] = ((races_df['climb_total'] / races_df['length'])*100).round(4)\n",
    "\n",
    "# Display the first few rows to verify\n",
    "print(races_df[['climb_total', 'length', 'avg_slope']].head(10))"
   ]
  },
  {
   "cell_type": "code",
   "execution_count": null,
   "metadata": {},
   "outputs": [],
   "source": [
    "print(f\"Null values in avg_slope column: {int(races_df['avg_slope'].isnull().sum())}\")"
   ]
  },
  {
   "cell_type": "code",
   "execution_count": null,
   "metadata": {},
   "outputs": [],
   "source": [
    "races_df['avg_slope'].describe()"
   ]
  },
  {
   "cell_type": "code",
   "execution_count": null,
   "metadata": {},
   "outputs": [],
   "source": [
    "plt.figure(figsize=(4, 4))\n",
    "sns.boxplot(y='avg_slope', data=races_df)\n",
    "plt.title('Boxplot of Average Slope')\n",
    "plt.ylabel('Average Slope')\n",
    "plt.show()"
   ]
  },
  {
   "cell_type": "code",
   "execution_count": null,
   "metadata": {},
   "outputs": [],
   "source": [
    "# Plot the distribution of the average slope\n",
    "plt.figure(figsize=(8, 4))\n",
    "sns.histplot(races_df['avg_slope'], bins=30)\n",
    "plt.title('Distribution of Average Slope')\n",
    "plt.xlabel('Average Slope')\n",
    "plt.ylabel('Frequency')\n",
    "plt.show()"
   ]
  },
  {
   "cell_type": "markdown",
   "metadata": {},
   "source": [
    "#### ```strength_idx``` column"
   ]
  },
  {
   "cell_type": "markdown",
   "metadata": {},
   "source": [
    "The <b>Cyclist's  Strength</b> Indicator would essentially represent each cyclist's typical competitiveness level by averaging the startlist_quality scores across all stages they participated in. This feature can give insight into a cyclist's experience and the overall competitiveness of the races they've been involved in."
   ]
  },
  {
   "cell_type": "code",
   "execution_count": null,
   "metadata": {},
   "outputs": [],
   "source": [
    "# compute the average startlist quality for each cyclist\n",
    "cyclist_strength = races_df.groupby('cyclist')['startlist_quality'].mean().reset_index()\n",
    "cyclist_strength.rename(columns={'startlist_quality': 'strength_idx'}, inplace=True)\n",
    "\n",
    "cyclists_df = cyclists_df.merge(cyclist_strength, left_on='_url', right_on='cyclist', how='left')\n"
   ]
  },
  {
   "cell_type": "code",
   "execution_count": null,
   "metadata": {},
   "outputs": [],
   "source": [
    "print(f\"Null values in strength_idx column: {int(cyclists_df['strength_idx'].isnull().sum())}\")"
   ]
  },
  {
   "cell_type": "code",
   "execution_count": null,
   "metadata": {},
   "outputs": [],
   "source": [
    "cyclists_df['strength_idx'].describe()"
   ]
  },
  {
   "cell_type": "code",
   "execution_count": null,
   "metadata": {},
   "outputs": [],
   "source": [
    "plt.figure(figsize=(4, 4))\n",
    "sns.boxplot(y='strength_idx', data=cyclists_df)\n",
    "plt.title('Boxplot of Strength Index')\n",
    "plt.ylabel('Strength Index')\n",
    "plt.show()"
   ]
  },
  {
   "cell_type": "code",
   "execution_count": null,
   "metadata": {},
   "outputs": [],
   "source": [
    "# Plot the distribution of the strength index\n",
    "plt.figure(figsize=(8, 4))\n",
    "sns.histplot(cyclists_df['strength_idx'], bins=30)\n",
    "plt.title('Distribution of Strength Index')\n",
    "plt.xlabel('Strength Index')\n",
    "plt.ylabel('Frequency')\n",
    "plt.show()"
   ]
  },
  {
   "cell_type": "markdown",
   "metadata": {},
   "source": [
    "#### ```best_position``` column"
   ]
  },
  {
   "cell_type": "markdown",
   "metadata": {},
   "source": [
    "Given that many of them never won a stage, this column represents the best position achieved by a rider in a stage."
   ]
  },
  {
   "cell_type": "code",
   "execution_count": null,
   "metadata": {},
   "outputs": [],
   "source": [
    "best_finish_position = races_df.groupby('cyclist')['position'].min().reset_index()\n",
    "\n",
    "# Step 2: Rename the column for clarity\n",
    "best_finish_position.rename(columns={'position': 'best_position'}, inplace=True)\n",
    "\n",
    "# Step 3: Merge the result back to the original DataFrame\n",
    "cyclists_df = cyclists_df.merge(best_finish_position, left_on='_url', right_on='cyclist', how='left')\n",
    "\n",
    "cyclists_df.drop(columns=['cyclist_x'], inplace=True)"
   ]
  },
  {
   "cell_type": "code",
   "execution_count": null,
   "metadata": {},
   "outputs": [],
   "source": [
    "print(f\"Null values in best_position column: {int(cyclists_df['best_position'].isnull().sum())}\")"
   ]
  },
  {
   "cell_type": "code",
   "execution_count": null,
   "metadata": {},
   "outputs": [],
   "source": [
    "cyclists_df['best_position'].describe()"
   ]
  },
  {
   "cell_type": "code",
   "execution_count": null,
   "metadata": {},
   "outputs": [],
   "source": [
    "plt.figure(figsize=(4, 4))\n",
    "sns.boxplot(y='best_position', data=cyclists_df)\n",
    "plt.title('Boxplot of Best Position Reached by Cyclist')\n",
    "plt.ylabel('Best Position')\n",
    "plt.show()"
   ]
  },
  {
   "cell_type": "code",
   "execution_count": null,
   "metadata": {},
   "outputs": [],
   "source": [
    "# Plot the distribution of the strength index\n",
    "plt.figure(figsize=(8, 4))\n",
    "sns.histplot(cyclists_df['best_position'], bins=30)\n",
    "plt.title('Distribution of Best Position Reached by Cyclist')\n",
    "plt.xlabel('Best Position')\n",
    "plt.ylabel('Frequency')\n",
    "plt.show()"
   ]
  },
  {
   "cell_type": "markdown",
   "metadata": {},
   "source": [
    "Checking the number of races in which cyclists who have never finished above 150th position have participated, with the assumption that these are cyclists with participation limited to a few stages or a single stage."
   ]
  },
  {
   "cell_type": "code",
   "execution_count": null,
   "metadata": {},
   "outputs": [],
   "source": [
    "# Filter cyclists who have never finished above 150th position\n",
    "cyclists_never_above_150 = cyclists_df[cyclists_df['best_position'] > 150]['_url']\n",
    "\n",
    "# Filter races_df to include only these cyclists\n",
    "races_never_above_150 = races_df[races_df['cyclist'].isin(cyclists_never_above_150)]\n",
    "\n",
    "# Count the number of stages each of these cyclists has participated in\n",
    "# NOTE: at this point no cyclist has a duplicated entry in the same stage\n",
    "races_count_never_above_150 = races_never_above_150['cyclist'].value_counts()\n",
    "\n",
    "# Merge the counts with the best positions\n",
    "races_count_with_best_position = races_count_never_above_150.to_frame().merge(\n",
    "    cyclists_df, left_index=True, right_on='_url',\n",
    ").rename(columns={'_url': 'cyclist name', 'count': 'Number of Stages', 'best_position': 'Best Position'})\n",
    "\n",
    "# Display the result\n",
    "print(races_count_with_best_position[['cyclist name', 'Number of Stages', 'Best Position']])"
   ]
  },
  {
   "cell_type": "markdown",
   "metadata": {},
   "source": [
    "As expected, these cyclists will take part in very few or only one stage."
   ]
  },
  {
   "cell_type": "markdown",
   "metadata": {},
   "source": [
    "#### ```best_position_std``` column"
   ]
  },
  {
   "cell_type": "markdown",
   "metadata": {},
   "source": [
    "Given that many of them never won a stage, this column represents the best position achieved by a rider in a stage."
   ]
  },
  {
   "cell_type": "code",
   "execution_count": null,
   "metadata": {},
   "outputs": [],
   "source": [
    "best_finish_position = races_df.groupby('cyclist')['position'].std().reset_index()\n",
    "\n",
    "# Step 2: Rename the column for clarity\n",
    "best_finish_position.rename(columns={'position': 'best_position_std'}, inplace=True)\n",
    "\n",
    "# Step 3: Merge the result back to the original DataFrame\n",
    "cyclists_df = cyclists_df.merge(best_finish_position, left_on='_url', right_on='cyclist', how='left')"
   ]
  },
  {
   "cell_type": "code",
   "execution_count": null,
   "metadata": {},
   "outputs": [],
   "source": [
    "print(f\"Null values in best_position_std column: {int(cyclists_df['best_position_std'].isnull().sum())}\")"
   ]
  },
  {
   "cell_type": "code",
   "execution_count": null,
   "metadata": {},
   "outputs": [],
   "source": [
    "cyclists_df['best_position_std'].describe()"
   ]
  },
  {
   "cell_type": "code",
   "execution_count": null,
   "metadata": {},
   "outputs": [],
   "source": [
    "plt.figure(figsize=(4, 4))\n",
    "sns.boxplot(y='best_position_std', data=cyclists_df)\n",
    "plt.title('Boxplot of Best Position Standard Deviation Column')\n",
    "plt.ylabel('Best Position Standard Deviation')\n",
    "plt.show()"
   ]
  },
  {
   "cell_type": "code",
   "execution_count": null,
   "metadata": {},
   "outputs": [],
   "source": [
    "# Plot the distribution of the strength index\n",
    "plt.figure(figsize=(8, 4))\n",
    "sns.histplot(cyclists_df['best_position_std'], bins=30)\n",
    "plt.title('Distribution of Best Position Standard Deviation Column')\n",
    "plt.xlabel('Best Position Standard Deviation')\n",
    "plt.ylabel('Frequency')\n",
    "plt.show()"
   ]
  },
  {
   "cell_type": "markdown",
   "metadata": {},
   "source": [
    "TODO: comment what this results means, why high std? this probably means inconsistency trought time or similar things"
   ]
  },
  {
   "cell_type": "markdown",
   "metadata": {},
   "source": [
    "#### ```cyclist_experience``` column"
   ]
  },
  {
   "cell_type": "markdown",
   "metadata": {},
   "source": [
    "Count how many stages the cyclist partecipate as an overall experience"
   ]
  },
  {
   "cell_type": "code",
   "execution_count": null,
   "metadata": {},
   "outputs": [],
   "source": [
    "# Group by cyclist and count the number of stages each cyclist participated in \n",
    "# Note: aassuming no duplicates in same stage\n",
    "stages_participated = races_df.groupby('cyclist').size().reset_index(name='cyclist_experience')\n",
    "\n",
    "# Rename 'cyclist' in stages_participated to avoid conflicts\n",
    "stages_participated = stages_participated.rename(columns={'cyclist': 'cyclist_id'})\n",
    "\n",
    "# Merge the stages_participated with cyclists_df to add the 'cyclist_experience' column\n",
    "# Specify suffixes to avoid duplicate columns\n",
    "cyclists_df = cyclists_df.merge(stages_participated, left_on='_url', right_on='cyclist_id', how='left')\n",
    "\n",
    "# Drop the redundant 'cyclist_id' column from the merged DataFrame\n",
    "cyclists_df = cyclists_df.drop(columns=['cyclist_id'])\n",
    "\n",
    "# Replace NaN values in cyclist_experience with 0 (for cyclists with no participation records)\n",
    "cyclists_df['cyclist_experience'] = cyclists_df['cyclist_experience'].fillna(0).astype(int)\n",
    "\n",
    "# Check the output\n",
    "print(cyclists_df[[\"_url\", \"cyclist_experience\"]].head(3))\n",
    "\n",
    "# Verify correctness of the computation (sum of cyclist_experience should match number of rows in races_df)\n",
    "print(\"Total cyclist_experience:\", cyclists_df['cyclist_experience'].sum())\n",
    "\n",
    "cyclists_df.drop(columns=['cyclist_y'], inplace=True)\n",
    "cyclists_df.drop(columns=['cyclist'], inplace=True)\n"
   ]
  },
  {
   "cell_type": "markdown",
   "metadata": {},
   "source": [
    "The sum is correct as we have as many entries as the rows in the dataset"
   ]
  },
  {
   "cell_type": "code",
   "execution_count": null,
   "metadata": {},
   "outputs": [],
   "source": [
    "print(f\"Null values in cyclist_experience column: {int(cyclists_df['cyclist_experience'].isnull().sum())}\")"
   ]
  },
  {
   "cell_type": "code",
   "execution_count": null,
   "metadata": {},
   "outputs": [],
   "source": [
    "cyclists_df['cyclist_experience'].describe()"
   ]
  },
  {
   "cell_type": "code",
   "execution_count": null,
   "metadata": {},
   "outputs": [],
   "source": [
    "plt.figure(figsize=(4, 4))\n",
    "sns.boxplot(y='cyclist_experience', data=cyclists_df)\n",
    "plt.title('Boxplot of Cylist Experience Column')\n",
    "plt.ylabel('Best Position Standard Deviation')\n",
    "plt.show()"
   ]
  },
  {
   "cell_type": "code",
   "execution_count": null,
   "metadata": {},
   "outputs": [],
   "source": [
    "# Plot the distribution of the strength index\n",
    "plt.figure(figsize=(8, 4))\n",
    "sns.histplot(cyclists_df['cyclist_experience'], bins=100)\n",
    "plt.title('Distribution of Best Cyclist Experience Column')\n",
    "plt.xlabel('Best Position Standard Deviation')\n",
    "plt.ylabel('Frequency')\n",
    "plt.show()"
   ]
  },
  {
   "cell_type": "code",
   "execution_count": null,
   "metadata": {},
   "outputs": [],
   "source": [
    "cyclists_df.value_counts('cyclist_experience')"
   ]
  },
  {
   "cell_type": "markdown",
   "metadata": {},
   "source": [
    "#### ```km_per_year``` column"
   ]
  },
  {
   "cell_type": "markdown",
   "metadata": {},
   "source": [
    "This column also represents the cyclist's overall experience. It highlights the total distance raced by the cyclist over the course of their career, calculated by aggregating the distances covered in all stages in which they have participated. The overall career span is defined as the interval between the initial and final stages of the cyclist's participation in these races."
   ]
  },
  {
   "cell_type": "code",
   "execution_count": null,
   "metadata": {},
   "outputs": [],
   "source": [
    "# First compute overall Km raced by the cyclist\n",
    "\n",
    "# Group by cyclist and sum number km raced\n",
    "# Note: aassuming no duplicates in same stage\n",
    "km_raced = races_df.groupby('cyclist')[\"length\"].sum().reset_index(name='overall_km')\n",
    "km_raced[\"overall_km\"] = km_raced[\"overall_km\"] / 1000\n",
    "\n",
    "# Merge the km_raced with cyclists_df to add the 'km_per_year' column\n",
    "cyclists_df = cyclists_df.merge(km_raced, left_on='_url', right_on='cyclist', how='left')\n",
    "\n",
    "# Replace NaN values in km_per_year with 0 (for cyclists with no participation records)\n",
    "cyclists_df['overall_km'] = cyclists_df['overall_km'].fillna(0).astype(int)\n",
    "\n",
    "# Check the output\n",
    "print(cyclists_df[[\"_url\", \"overall_km\"]].head(3))\n",
    "\n",
    "cyclists_df.drop(columns=['cyclist'], inplace=True)\n"
   ]
  },
  {
   "cell_type": "code",
   "execution_count": null,
   "metadata": {},
   "outputs": [],
   "source": [
    "# Verify correctness of the computation (sum of km_per_year should match number of rows in races_df)\n",
    "print(f\"Total km_per_year: {cyclists_df['overall_km'].sum()} computed on races_df\")\n",
    "print(f\"Total km_per_year: {km_raced['overall_km'].sum()} computed on km_raced on cyclists_df\")"
   ]
  },
  {
   "cell_type": "code",
   "execution_count": null,
   "metadata": {},
   "outputs": [],
   "source": [
    "print(f\"Null values in overall_km column: {int(cyclists_df['overall_km'].isnull().sum())}\")"
   ]
  },
  {
   "cell_type": "code",
   "execution_count": null,
   "metadata": {},
   "outputs": [],
   "source": [
    "# Count total yeras of career for each cyclist\n",
    "career_span = races_df.groupby('cyclist')['start_date'].agg(['min', 'max'])\n",
    "career_span['career_years'] = (pd.to_datetime(career_span['max']) - pd.to_datetime(career_span['min'])).dt.days + 1/ 365\n",
    "\n",
    "# Merge the career_span with cyclists_df to add the 'career_years' column\n",
    "cyclists_df = cyclists_df.merge(career_span[['career_years']], left_on='_url', right_index=True, how='left')\n",
    "\n",
    "#print(cyclists_df.columns)\n",
    "\n",
    "# Replace NaN values in career_years with 0 (for cyclists with no participation records)\n",
    "cyclists_df['career_years'] = cyclists_df['career_years'].fillna(0).astype(float)\n",
    "\n",
    "# Check the output\n",
    "print(cyclists_df[[\"_url\", \"career_years\"]].head(3))\n",
    "\n"
   ]
  },
  {
   "cell_type": "code",
   "execution_count": null,
   "metadata": {},
   "outputs": [],
   "source": [
    "cyclists_df['career_years'].describe()"
   ]
  },
  {
   "cell_type": "code",
   "execution_count": null,
   "metadata": {},
   "outputs": [],
   "source": [
    "cyclists_df['km_per_year'] = cyclists_df['overall_km'] / np.where(cyclists_df['career_years'] != 0, cyclists_df['career_years'], 1)\n",
    "cyclists_df['km_per_year'] = cyclists_df['km_per_year'].round(2)"
   ]
  },
  {
   "cell_type": "code",
   "execution_count": null,
   "metadata": {},
   "outputs": [],
   "source": [
    "cyclists_df['km_per_year'].describe()"
   ]
  },
  {
   "cell_type": "code",
   "execution_count": null,
   "metadata": {},
   "outputs": [],
   "source": [
    "plt.figure(figsize=(8, 4))\n",
    "sns.histplot(total_races, bins=30)\n",
    "plt.title('Distribution of Total Races')\n",
    "plt.xlabel('Total Races')\n",
    "plt.ylabel('Frequency')\n",
    "plt.show()"
   ]
  },
  {
   "cell_type": "markdown",
   "metadata": {},
   "source": []
  },
  {
   "cell_type": "markdown",
   "metadata": {},
   "source": [
    "### CORRELATION ANALYSIS\n"
   ]
  },
  {
   "cell_type": "markdown",
   "metadata": {},
   "source": [
    "Cyclists correlation analysis\n"
   ]
  },
  {
   "cell_type": "code",
   "execution_count": null,
   "metadata": {},
   "outputs": [],
   "source": [
    "from utils import center_and_scale, correlations, plot_correlations\n",
    "\n",
    "normalized_cyclist, normalization_scalers_cyclist = center_and_scale(cyclists_df)\n",
    "cyclists_corr = correlations(normalized_cyclist)\n",
    "\n",
    "plot_correlations(cyclists_corr)"
   ]
  },
  {
   "cell_type": "markdown",
   "metadata": {},
   "source": [
    "Races correlation analysis\n"
   ]
  },
  {
   "cell_type": "code",
   "execution_count": null,
   "metadata": {},
   "outputs": [],
   "source": [
    "from utils import center_and_scale, correlations, plot_correlations\n",
    "\n",
    "normalized_cyclist, normalization_scalers_cyclist = center_and_scale(races_df)\n",
    "cyclists_corr = correlations(normalized_cyclist)\n",
    "\n",
    "plot_correlations(cyclists_corr)"
   ]
  }
 ],
 "metadata": {
  "kernelspec": {
   "display_name": "HLT",
   "language": "python",
   "name": "python3"
  },
  "language_info": {
   "codemirror_mode": {
    "name": "ipython",
    "version": 3
   },
   "file_extension": ".py",
   "mimetype": "text/x-python",
   "name": "python",
   "nbconvert_exporter": "python",
   "pygments_lexer": "ipython3",
   "version": "3.12.3"
  }
 },
 "nbformat": 4,
 "nbformat_minor": 2
}
