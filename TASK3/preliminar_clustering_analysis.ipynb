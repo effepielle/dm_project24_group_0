{
 "cells": [
  {
   "cell_type": "code",
   "execution_count": null,
   "metadata": {},
   "outputs": [],
   "source": [
    "import pandas as pd\n",
    "from sklearn.preprocessing import StandardScaler, MinMaxScaler\n",
    "from sklearn.decomposition import PCA\n",
    "from matplotlib import pyplot as plt\n",
    "from sklearn.preprocessing import LabelEncoder"
   ]
  },
  {
   "cell_type": "code",
   "execution_count": null,
   "metadata": {},
   "outputs": [],
   "source": [
    "cyclists_df = pd.read_csv('../dataset/cyclists_outlier.csv')\n",
    "races_df = pd.read_csv('../dataset/races_clustering.csv')"
   ]
  },
  {
   "cell_type": "code",
   "execution_count": null,
   "metadata": {},
   "outputs": [],
   "source": [
    "races_numerical_cols = ['points', 'length', 'climb_total', 'startlist_quality']"
   ]
  },
  {
   "cell_type": "markdown",
   "metadata": {},
   "source": [
    "## Cyclist Dataset"
   ]
  },
  {
   "cell_type": "markdown",
   "metadata": {},
   "source": [
    "First of all, we create a numerical dataset excluding the categorical ones from the original cleaned and engineered dataset."
   ]
  },
  {
   "cell_type": "code",
   "execution_count": null,
   "metadata": {},
   "outputs": [],
   "source": [
    "cluster_0_drop = [\"cyclist_win\", \"cyclist_experience\", \"avg_position\", \"best_position\", \"birth_year\", \n",
    "                  \"performance_entropy\", \"min_relative_position\", \"cyclist_win_ratio\", \"weighted_podiums\",\n",
    "                  \"best_position_std\"]\n",
    "\n",
    "numeric_dataset = cyclists_df.drop(cluster_0_drop, axis=1).select_dtypes(include=['float64', 'int64'])\n",
    "\n",
    "numeric_dataset.head()"
   ]
  },
  {
   "cell_type": "code",
   "execution_count": null,
   "metadata": {},
   "outputs": [],
   "source": [
    "scaler = StandardScaler()\n",
    "scaler.fit(numeric_dataset)\n",
    "X = scaler.transform(numeric_dataset)"
   ]
  },
  {
   "cell_type": "markdown",
   "metadata": {},
   "source": [
    "### PCA"
   ]
  },
  {
   "cell_type": "markdown",
   "metadata": {},
   "source": [
    "We do the PCA analysis to visualize in 2D the distribution of our multi-dimensional data."
   ]
  },
  {
   "cell_type": "markdown",
   "metadata": {},
   "source": [
    "TODO: add catrgories labels in the plots"
   ]
  },
  {
   "cell_type": "code",
   "execution_count": null,
   "metadata": {},
   "outputs": [],
   "source": [
    "label_encoder = LabelEncoder()\n",
    "continent_labels = label_encoder.fit_transform(cyclists_df['top_cyclists'])\n",
    "\n",
    "pca = PCA(n_components=2)\n",
    "pca_result = pca.fit_transform(X)\n",
    "\n",
    "scatter = plt.scatter(pca_result[:, 0], pca_result[:, 1], c=continent_labels, s=3)\n",
    "legend = plt.legend(*scatter.legend_elements(), title=\"top_cyclists\", loc='upper center', bbox_to_anchor=(0.5, -0.05))\n",
    "\n",
    "plt.xlabel('PCA Component 1')\n",
    "plt.ylabel('PCA Component 2')\n",
    "plt.title('PCA ')\n",
    "plt.show()"
   ]
  },
  {
   "cell_type": "code",
   "execution_count": null,
   "metadata": {},
   "outputs": [],
   "source": [
    "label_encoder = LabelEncoder()\n",
    "continent_labels = label_encoder.fit_transform(cyclists_df['categorical_height'])\n",
    "\n",
    "pca = PCA(n_components=2)\n",
    "pca_result = pca.fit_transform(X)\n",
    "\n",
    "scartter = plt.scatter(pca_result[:, 0], pca_result[:, 1], c=continent_labels, s=1)\n",
    "legend = plt.legend(*scatter.legend_elements(), title=\"Height\")\n",
    "plt.xlabel('PCA Component 1')\n",
    "plt.ylabel('PCA Component 2')\n",
    "plt.title('PCA of Cyclists Data')\n",
    "plt.show()\n"
   ]
  },
  {
   "cell_type": "code",
   "execution_count": null,
   "metadata": {},
   "outputs": [],
   "source": [
    "\n",
    "label_encoder = LabelEncoder()\n",
    "continent_labels = label_encoder.fit_transform(cyclists_df['continent'])\n",
    "\n",
    "pca = PCA(n_components=2)\n",
    "pca_result = pca.fit_transform(X)\n",
    "\n",
    "scatter = plt.scatter(pca_result[:, 0], pca_result[:, 1], c=continent_labels, s=1)\n",
    "legend = plt.legend(*scatter.legend_elements(), title=\"Continent\")\n",
    "\n",
    "plt.xlabel('PCA Component 1')\n",
    "plt.ylabel('PCA Component 2')\n",
    "plt.title('PCA ')\n",
    "plt.show()"
   ]
  },
  {
   "cell_type": "markdown",
   "metadata": {},
   "source": [
    "Saving the normalized cyclists dataset (only with numerical columns)."
   ]
  },
  {
   "cell_type": "code",
   "execution_count": null,
   "metadata": {},
   "outputs": [],
   "source": [
    "normalized_df = pd.DataFrame(X, columns=cyclists_numerical_cols)\n",
    "normalized_df.to_csv('../dataset/normalized_cyclists_dataset.csv', index=False)"
   ]
  }
 ],
 "metadata": {
  "kernelspec": {
   "display_name": "dm",
   "language": "python",
   "name": "python3"
  },
  "language_info": {
   "codemirror_mode": {
    "name": "ipython",
    "version": 3
   },
   "file_extension": ".py",
   "mimetype": "text/x-python",
   "name": "python",
   "nbconvert_exporter": "python",
   "pygments_lexer": "ipython3",
   "version": "3.12.7"
  }
 },
 "nbformat": 4,
 "nbformat_minor": 2
}
