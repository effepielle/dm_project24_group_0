{
 "cells": [
  {
   "cell_type": "markdown",
   "metadata": {},
   "source": [
    "# **XAI for Best Classifier (gbm)**"
   ]
  },
  {
   "cell_type": "markdown",
   "metadata": {},
   "source": [
    "Main goal of this notebook is to try to explain decisions made by Gradient Boosting Machine classifier in out binary classification task"
   ]
  },
  {
   "cell_type": "code",
   "execution_count": 1,
   "metadata": {},
   "outputs": [],
   "source": [
    "%load_ext autoreload\n",
    "%autoreload 2"
   ]
  },
  {
   "cell_type": "code",
   "execution_count": 2,
   "metadata": {},
   "outputs": [],
   "source": [
    "import joblib\n",
    "import pandas as pd\n",
    "import numpy as np\n",
    "from sklearn.metrics import classification_report"
   ]
  },
  {
   "cell_type": "code",
   "execution_count": 3,
   "metadata": {},
   "outputs": [
    {
     "name": "stderr",
     "output_type": "stream",
     "text": [
      "d:\\miniconda3\\envs\\HLT\\Lib\\site-packages\\sklearn\\base.py:380: InconsistentVersionWarning: Trying to unpickle estimator StandardScaler from version 1.5.2 when using version 1.6.0. This might lead to breaking code or invalid results. Use at your own risk. For more info please refer to:\n",
      "https://scikit-learn.org/stable/model_persistence.html#security-maintainability-limitations\n",
      "  warnings.warn(\n",
      "d:\\miniconda3\\envs\\HLT\\Lib\\site-packages\\sklearn\\base.py:380: InconsistentVersionWarning: Trying to unpickle estimator ColumnTransformer from version 1.5.2 when using version 1.6.0. This might lead to breaking code or invalid results. Use at your own risk. For more info please refer to:\n",
      "https://scikit-learn.org/stable/model_persistence.html#security-maintainability-limitations\n",
      "  warnings.warn(\n",
      "d:\\miniconda3\\envs\\HLT\\Lib\\site-packages\\sklearn\\base.py:380: InconsistentVersionWarning: Trying to unpickle estimator NearestNeighbors from version 1.5.2 when using version 1.6.0. This might lead to breaking code or invalid results. Use at your own risk. For more info please refer to:\n",
      "https://scikit-learn.org/stable/model_persistence.html#security-maintainability-limitations\n",
      "  warnings.warn(\n",
      "d:\\miniconda3\\envs\\HLT\\Lib\\site-packages\\sklearn\\base.py:380: InconsistentVersionWarning: Trying to unpickle estimator LabelEncoder from version 1.5.2 when using version 1.6.0. This might lead to breaking code or invalid results. Use at your own risk. For more info please refer to:\n",
      "https://scikit-learn.org/stable/model_persistence.html#security-maintainability-limitations\n",
      "  warnings.warn(\n"
     ]
    }
   ],
   "source": [
    "# load data\n",
    "train_df = pd.read_csv('../dataset/train_data.csv')\n",
    "train_labels = pd.read_csv('../dataset/train_labels.csv')\n",
    "test_df = pd.read_csv('../dataset/test_data.csv')\n",
    "test_labels = pd.read_csv('../dataset/test_labels.csv')\n",
    "\n",
    "# Load the model\n",
    "best_model = joblib.load('../TASK_4/best_models/gbm.pkl')"
   ]
  },
  {
   "cell_type": "code",
   "execution_count": 4,
   "metadata": {},
   "outputs": [],
   "source": [
    "columns_to_drop = ['_url', 'name',  'profile', 'length',\n",
    "                            'startlist_quality', 'position', 'cyclist', 'cyclist_team', \n",
    "                            'duration', 'cyclist_experience_profile',\n",
    "                            'cyclist_experience_length', 'cyclist_experience_climb', \n",
    "                            'avg_rel_position_length', 'avg_rel_position_climb', \n",
    "                            'relative_position_sum', 'relative_position',\n",
    "                            \"climb_cat\", \"length_cat\", \"cyclist_number\", \n",
    "                            \"avg_rel_position_profile\", \"points\", 'is_tarmac', \n",
    "                            'avg_cyclist_level']\n",
    "\n",
    "train_data = train_df.drop(columns=columns_to_drop, inplace=False)\n",
    "test_data = test_df.drop(columns=columns_to_drop, inplace=False)\n",
    "train_data = train_data[:400]\n",
    "train_labels = train_labels[:400]\n",
    "test_data = test_data[:400]\n",
    "test_labels = test_labels[:400]"
   ]
  },
  {
   "cell_type": "code",
   "execution_count": 5,
   "metadata": {},
   "outputs": [
    {
     "name": "stderr",
     "output_type": "stream",
     "text": [
      "d:\\miniconda3\\envs\\HLT\\Lib\\site-packages\\sklearn\\utils\\deprecation.py:151: FutureWarning: 'force_all_finite' was renamed to 'ensure_all_finite' in 1.6 and will be removed in 1.8.\n",
      "  warnings.warn(\n",
      "d:\\miniconda3\\envs\\HLT\\Lib\\site-packages\\sklearn\\utils\\_tags.py:354: FutureWarning: The LGBMClassifier or classes from which it inherits use `_get_tags` and `_more_tags`. Please define the `__sklearn_tags__` method, or inherit from `sklearn.base.BaseEstimator` and/or other appropriate mixins such as `sklearn.base.TransformerMixin`, `sklearn.base.ClassifierMixin`, `sklearn.base.RegressorMixin`, and `sklearn.base.OutlierMixin`. From scikit-learn 1.7, not defining `__sklearn_tags__` will raise an error.\n",
      "  warnings.warn(\n",
      "d:\\miniconda3\\envs\\HLT\\Lib\\site-packages\\sklearn\\utils\\deprecation.py:151: FutureWarning: 'force_all_finite' was renamed to 'ensure_all_finite' in 1.6 and will be removed in 1.8.\n",
      "  warnings.warn(\n",
      "d:\\miniconda3\\envs\\HLT\\Lib\\site-packages\\sklearn\\utils\\_tags.py:354: FutureWarning: The LGBMClassifier or classes from which it inherits use `_get_tags` and `_more_tags`. Please define the `__sklearn_tags__` method, or inherit from `sklearn.base.BaseEstimator` and/or other appropriate mixins such as `sklearn.base.TransformerMixin`, `sklearn.base.ClassifierMixin`, `sklearn.base.RegressorMixin`, and `sklearn.base.OutlierMixin`. From scikit-learn 1.7, not defining `__sklearn_tags__` will raise an error.\n",
      "  warnings.warn(\n"
     ]
    },
    {
     "data": {
      "text/html": [
       "<div>\n",
       "<style scoped>\n",
       "    .dataframe tbody tr th:only-of-type {\n",
       "        vertical-align: middle;\n",
       "    }\n",
       "\n",
       "    .dataframe tbody tr th {\n",
       "        vertical-align: top;\n",
       "    }\n",
       "\n",
       "    .dataframe thead th {\n",
       "        text-align: right;\n",
       "    }\n",
       "</style>\n",
       "<table border=\"1\" class=\"dataframe\">\n",
       "  <thead>\n",
       "    <tr style=\"text-align: right;\">\n",
       "      <th></th>\n",
       "      <th>precision</th>\n",
       "      <th>recall</th>\n",
       "      <th>f1-score</th>\n",
       "      <th>support</th>\n",
       "    </tr>\n",
       "  </thead>\n",
       "  <tbody>\n",
       "    <tr>\n",
       "      <th>0</th>\n",
       "      <td>0.974895</td>\n",
       "      <td>0.751613</td>\n",
       "      <td>0.848816</td>\n",
       "      <td>310.0000</td>\n",
       "    </tr>\n",
       "    <tr>\n",
       "      <th>1</th>\n",
       "      <td>0.521739</td>\n",
       "      <td>0.933333</td>\n",
       "      <td>0.669323</td>\n",
       "      <td>90.0000</td>\n",
       "    </tr>\n",
       "    <tr>\n",
       "      <th>accuracy</th>\n",
       "      <td>0.792500</td>\n",
       "      <td>0.792500</td>\n",
       "      <td>0.792500</td>\n",
       "      <td>0.7925</td>\n",
       "    </tr>\n",
       "    <tr>\n",
       "      <th>macro avg</th>\n",
       "      <td>0.748317</td>\n",
       "      <td>0.842473</td>\n",
       "      <td>0.759069</td>\n",
       "      <td>400.0000</td>\n",
       "    </tr>\n",
       "    <tr>\n",
       "      <th>weighted avg</th>\n",
       "      <td>0.872935</td>\n",
       "      <td>0.792500</td>\n",
       "      <td>0.808430</td>\n",
       "      <td>400.0000</td>\n",
       "    </tr>\n",
       "  </tbody>\n",
       "</table>\n",
       "</div>"
      ],
      "text/plain": [
       "              precision    recall  f1-score   support\n",
       "0              0.974895  0.751613  0.848816  310.0000\n",
       "1              0.521739  0.933333  0.669323   90.0000\n",
       "accuracy       0.792500  0.792500  0.792500    0.7925\n",
       "macro avg      0.748317  0.842473  0.759069  400.0000\n",
       "weighted avg   0.872935  0.792500  0.808430  400.0000"
      ]
     },
     "execution_count": 5,
     "metadata": {},
     "output_type": "execute_result"
    }
   ],
   "source": [
    "train_prediction = best_model.predict(train_data)\n",
    "test_prediction = best_model.predict(test_data)\n",
    "\n",
    "validation = classification_report(test_labels, test_prediction, output_dict=True)\n",
    "pd.DataFrame(validation).transpose()"
   ]
  },
  {
   "cell_type": "code",
   "execution_count": 6,
   "metadata": {},
   "outputs": [],
   "source": [
    "perturbation_data = train_data\n",
    "perturbation_labels = train_labels\n",
    "perturbation_predictions = train_prediction\n",
    "\n",
    "explanation_data = test_data\n",
    "explanation_labels = test_labels\n",
    "explanation_predictions = test_prediction\n",
    "\n",
    "explanations = dict()"
   ]
  },
  {
   "cell_type": "markdown",
   "metadata": {},
   "source": [
    "## **GBM Feature Importance**"
   ]
  },
  {
   "cell_type": "code",
   "execution_count": 7,
   "metadata": {},
   "outputs": [
    {
     "data": {
      "image/png": "[encoded data removed]",
      "text/plain": [
       "<Figure size 1000x600 with 1 Axes>"
      ]
     },
     "metadata": {},
     "output_type": "display_data"
    }
   ],
   "source": [
    "import matplotlib.pyplot as plt\n",
    "\n",
    "gbm_model = best_model.named_steps['clf']\n",
    "\n",
    "# Print feature importance\n",
    "feature_importances = gbm_model.feature_importances_\n",
    "\n",
    "# Plot feature importance\n",
    "plt.figure(figsize=(10, 6))\n",
    "plt.barh(train_data.columns, feature_importances)\n",
    "plt.xlabel('Feature Importance')\n",
    "plt.ylabel('Feature')\n",
    "plt.title('Feature Importances from Gradient Boosting Machine')\n",
    "plt.show()"
   ]
  },
  {
   "cell_type": "code",
   "execution_count": 8,
   "metadata": {},
   "outputs": [
    {
     "name": "stdout",
     "output_type": "stream",
     "text": [
      "gbm feture importance:\n",
      "climb_total: 36338.73665381968\n",
      "cyclist_age: 200057.82809996605\n",
      "cyclist_level: 7410.736044220626\n",
      "cyclist_experience: 9882.760590434074\n",
      "avg_relative_position: 32676.535688221455\n",
      "position_entropy: 9019.091836452484\n",
      "top_20_entropy: 248606.06138264015\n"
     ]
    }
   ],
   "source": [
    "print(\"gbm feture importance:\")\n",
    "for feature, importance in zip(train_data.columns, feature_importances):\n",
    "    print(f\"{feature}: {importance}\")"
   ]
  },
  {
   "cell_type": "markdown",
   "metadata": {},
   "source": [
    "Recalling this is importance coming from GBM library"
   ]
  },
  {
   "cell_type": "markdown",
   "metadata": {},
   "source": [
    "## **SHAP**"
   ]
  },
  {
   "cell_type": "code",
   "execution_count": 9,
   "metadata": {},
   "outputs": [
    {
     "name": "stderr",
     "output_type": "stream",
     "text": [
      "d:\\miniconda3\\envs\\HLT\\Lib\\site-packages\\tqdm\\auto.py:21: TqdmWarning: IProgress not found. Please update jupyter and ipywidgets. See https://ipywidgets.readthedocs.io/en/stable/user_install.html\n",
      "  from .autonotebook import tqdm as notebook_tqdm\n"
     ]
    }
   ],
   "source": [
    "import shap"
   ]
  },
  {
   "cell_type": "code",
   "execution_count": 10,
   "metadata": {},
   "outputs": [],
   "source": [
    "# Extract the underlying model from the pipeline\n",
    "gbm_model = best_model.named_steps['clf']\n",
    "\n",
    "interventional_explanation_algorithm = shap.TreeExplainer(\n",
    "    model=gbm_model,\n",
    "    data=train_data,                       # perturb on a causal model induced on perturbation data\n",
    "    feature_perturbation=\"interventional\"  # use a causal model\n",
    ")\n",
    "\n",
    "distributional_explanation_algorithm = shap.TreeExplainer(\n",
    "    model=gbm_model,\n",
    "    feature_perturbation=\"tree_path_dependent\"  # condition on the distribution learned on the train data\n",
    ")\n"
   ]
  },
  {
   "cell_type": "code",
   "execution_count": 11,
   "metadata": {},
   "outputs": [],
   "source": [
    "interventional_explanations = interventional_explanation_algorithm(explanation_data)\n",
    "distributional_explanations = distributional_explanation_algorithm(explanation_data)\n",
    "\n",
    "explanations[\"shap_interventional\"] = interventional_explanations.values\n",
    "explanations[\"shap_distributional\"] = distributional_explanations.values"
   ]
  },
  {
   "cell_type": "code",
   "execution_count": 12,
   "metadata": {},
   "outputs": [
    {
     "data": {
      "image/png": "[encoded data removed]",
      "text/plain": [
       "<Figure size 800x430 with 2 Axes>"
      ]
     },
     "metadata": {},
     "output_type": "display_data"
    }
   ],
   "source": [
    "shap.plots.beeswarm(interventional_explanations)"
   ]
  },
  {
   "cell_type": "markdown",
   "metadata": {},
   "source": [
    "The plot shows that `climb_total` and `avg_relative_position` have the strongest influence on predictions, with high climb totals contributing positively. Features like `cyclist_level` and `cyclist_experience` show less impact, while `cyclist_age` has minimal influence."
   ]
  },
  {
   "cell_type": "markdown",
   "metadata": {},
   "source": [
    "The discrepancy arises because GBM importance measures feature impact based on split frequency and impurity reduction, favoring features like `top_20_entropy`, while SHAP evaluates individual prediction contributions, offering a more balanced perspective."
   ]
  },
  {
   "cell_type": "code",
   "execution_count": 13,
   "metadata": {},
   "outputs": [
    {
     "data": {
      "image/png": "[encoded data removed]",
      "text/plain": [
       "<Figure size 800x430 with 2 Axes>"
      ]
     },
     "metadata": {},
     "output_type": "display_data"
    }
   ],
   "source": [
    "shap.plots.beeswarm(distributional_explanations)"
   ]
  },
  {
   "cell_type": "markdown",
   "metadata": {},
   "source": [
    "Here’s a concise feature-by-feature summary of the SHAP plot:\n",
    "\n",
    "1. **Cyclist Age**: Older cyclists (red) have a **negative impact** on the model’s output.\n",
    "2. **Climb Total**: More climbs (red) are associated with **worse predictions** (negative SHAP values).\n",
    "3. **Position Entropy**: Higher entropy (red) leads to **negative SHAP values**, indicating uncertainty in position hurts predictions.\n",
    "4. **Average Relative Position**: Better positions (blue) correspond to **positive SHAP values**, predicting better performance.\n",
    "5. **Cyclist Level**: Higher levels (red) lead to **positive SHAP values**, indicating better performance predictions.\n",
    "6. **Cyclist Experience**: More experience (red) correlates with **negative SHAP values**, predicting worse outcomes.\n",
    "7. **Top 20 Entropy**: Higher entropy (red) results in **negative SHAP values**, suggesting uncertainty in top rankings decreases predictions.\n",
    "\n",
    "Overall, features like **cyclist level** and **relative position** show positive impacts, while **age**, **climb total**, and **experience** correlate with negative impacts."
   ]
  },
  {
   "cell_type": "code",
   "execution_count": 14,
   "metadata": {},
   "outputs": [
    {
     "name": "stdout",
     "output_type": "stream",
     "text": [
      "Features sorted by decreasing importance for interventional method:\n",
      "avg_relative_position    0.588863\n",
      "climb_total              0.422212\n",
      "top_20_entropy           0.300246\n",
      "position_entropy         0.100238\n",
      "cyclist_level            0.026471\n",
      "cyclist_experience       0.016741\n",
      "cyclist_age              0.000000\n",
      "dtype: float64\n",
      "\n",
      "Features sorted by decreasing importance for distributional method:\n",
      "cyclist_age              1.284304\n",
      "climb_total              0.966448\n",
      "position_entropy         0.738726\n",
      "avg_relative_position    0.651293\n",
      "cyclist_level            0.459333\n",
      "cyclist_experience       0.250730\n",
      "top_20_entropy           0.151579\n",
      "dtype: float64\n"
     ]
    }
   ],
   "source": [
    "print(\"Features sorted by decreasing importance for interventional method:\")\n",
    "interventional_explanations_df = pd.DataFrame(interventional_explanations.values, columns=train_data.columns.tolist())\n",
    "print(interventional_explanations_df.abs().mean().sort_values(ascending=False))\n",
    "\n",
    "print(\"\\nFeatures sorted by decreasing importance for distributional method:\")\n",
    "distributional_explanations_df = pd.DataFrame(distributional_explanations.values, columns=train_data.columns.tolist())\n",
    "print(distributional_explanations_df.abs().mean().sort_values(ascending=False))"
   ]
  },
  {
   "cell_type": "markdown",
   "metadata": {},
   "source": [
    "Let's analyze feature importance according to shap values"
   ]
  },
  {
   "cell_type": "code",
   "execution_count": 15,
   "metadata": {},
   "outputs": [
    {
     "name": "stdout",
     "output_type": "stream",
     "text": [
      "\n",
      "Features sorted by decreasing importance for interventional method:\n"
     ]
    },
    {
     "data": {
      "image/png": "[encoded data removed]",
      "text/plain": [
       "<Figure size 800x430 with 1 Axes>"
      ]
     },
     "metadata": {},
     "output_type": "display_data"
    },
    {
     "name": "stdout",
     "output_type": "stream",
     "text": [
      "\n",
      "Features sorted by decreasing importance for distributional method:\n"
     ]
    },
    {
     "data": {
      "image/png": "[encoded data removed]",
      "text/plain": [
       "<Figure size 800x430 with 1 Axes>"
      ]
     },
     "metadata": {},
     "output_type": "display_data"
    }
   ],
   "source": [
    "print(\"\\nFeatures sorted by decreasing importance for interventional method:\")\n",
    "shap.summary_plot(interventional_explanations, test_data, plot_type=\"bar\")\n",
    "print(\"\\nFeatures sorted by decreasing importance for distributional method:\")\n",
    "shap.summary_plot(distributional_explanations, test_data, plot_type=\"bar\")"
   ]
  },
  {
   "cell_type": "code",
   "execution_count": 16,
   "metadata": {},
   "outputs": [
    {
     "name": "stdout",
     "output_type": "stream",
     "text": [
      "Features sorted by decreasing importance for interventional method:\n",
      "avg_relative_position    0.588863\n",
      "climb_total              0.422212\n",
      "top_20_entropy           0.300246\n",
      "position_entropy         0.100238\n",
      "cyclist_level            0.026471\n",
      "cyclist_experience       0.016741\n",
      "cyclist_age              0.000000\n",
      "dtype: float64\n",
      "\n",
      "Features sorted by decreasing importance for distributional method:\n",
      "cyclist_age              1.284304\n",
      "climb_total              0.966448\n",
      "position_entropy         0.738726\n",
      "avg_relative_position    0.651293\n",
      "cyclist_level            0.459333\n",
      "cyclist_experience       0.250730\n",
      "top_20_entropy           0.151579\n",
      "dtype: float64\n"
     ]
    }
   ],
   "source": [
    "print(\"Features sorted by decreasing importance for interventional method:\")\n",
    "interventional_explanations_df = pd.DataFrame(interventional_explanations.values, columns=train_data.columns.tolist())\n",
    "print(interventional_explanations_df.abs().mean().sort_values(ascending=False))\n",
    "\n",
    "print(\"\\nFeatures sorted by decreasing importance for distributional method:\")\n",
    "distributional_explanations_df = pd.DataFrame(distributional_explanations.values, columns=train_data.columns.tolist())\n",
    "print(distributional_explanations_df.abs().mean().sort_values(ascending=False))"
   ]
  },
  {
   "cell_type": "code",
   "execution_count": 17,
   "metadata": {},
   "outputs": [
    {
     "data": {
      "image/png": "[encoded data removed]",
      "text/plain": [
       "<Figure size 1500x500 with 4 Axes>"
      ]
     },
     "metadata": {},
     "output_type": "display_data"
    }
   ],
   "source": [
    "fig, ax = plt.subplots(1, 2, figsize=(15, 5))\n",
    "\n",
    "shap.dependence_plot(\"avg_relative_position\", explanations[\"shap_interventional\"], test_data, ax=ax[0], show=False)\n",
    "ax[0].set_title('Interventional Explanation')\n",
    "\n",
    "shap.dependence_plot(\"avg_relative_position\", explanations[\"shap_distributional\"], test_data, ax=ax[1], show=False)\n",
    "ax[1].set_title('Distributional Explanation')\n",
    "\n",
    "plt.tight_layout()\n",
    "plt.show()"
   ]
  },
  {
   "cell_type": "markdown",
   "metadata": {},
   "source": [
    "The results show a positive correlation between `top_20_entropy` and the SHAP values of `avg_relative_position`, with higher entropy values tending to lead to higher SHAP values. On the other hand, the `climb_total` variable appears to have a negative relationship with `avg_relative_position`, as higher `climb_total` values are associated with lower SHAP values. These results suggest that `top_20_entropy` has a positive influence on the model, while `climb_total` has a negative effect on the prediction of `avg_relative_position`."
   ]
  },
  {
   "cell_type": "markdown",
   "metadata": {},
   "source": [
    "### Let's visualize some decisions made one sample for classe with different explainer"
   ]
  },
  {
   "cell_type": "markdown",
   "metadata": {},
   "source": [
    "let's consider negative instance 32, predicted as positive"
   ]
  },
  {
   "cell_type": "code",
   "execution_count": 18,
   "metadata": {},
   "outputs": [
    {
     "name": "stdout",
     "output_type": "stream",
     "text": [
      "Label for instance 32: 0\n",
      "Prediction for instance 32: 0\n"
     ]
    },
    {
     "data": {
      "image/png": "[encoded data removed]",
      "text/plain": [
       "<Figure size 1500x500 with 2 Axes>"
      ]
     },
     "metadata": {},
     "output_type": "display_data"
    },
    {
     "name": "stdout",
     "output_type": "stream",
     "text": [
      "Predicted value: 0\n",
      "Real value: 0\n"
     ]
    }
   ],
   "source": [
    "instance_index = 32\n",
    "print(\"Label for instance 32:\", test_labels.iloc[instance_index].values[0])\n",
    "print(\"Prediction for instance 32:\", test_prediction[instance_index])\n",
    "fig, ax = plt.subplots(1, 2, figsize=(15, 5))\n",
    "\n",
    "shap.plots.bar(interventional_explanations[instance_index], show=False, ax=ax[0])\n",
    "ax[0].set_title('Interventional Explanation')\n",
    "\n",
    "shap.plots.bar(distributional_explanations[instance_index], show=False, ax=ax[1])\n",
    "ax[1].set_title('Distributional Explanation')\n",
    "\n",
    "plt.tight_layout()\n",
    "plt.show()\n",
    "\n",
    "print(\"Predicted value:\", explanation_predictions[instance_index])\n",
    "print(\"Real value:\", explanation_labels.iloc[instance_index].values[0])"
   ]
  },
  {
   "cell_type": "markdown",
   "metadata": {},
   "source": [
    "This plot is a local explanation for a negative data point, classified as positive. Concerning Interventional explanation, it shows that the models gives greater weight to \"avg_relative_position\" feature. This positively influenced the final prediction, outweighing the impact of other features, which contributed to lowering the probability of this classification.\n",
    "\n",
    "We can hypothesize that \"avg_relative_position\" is closely related to high cyclist performance, such as good average race placements indicates its strength on average. As a result, the model interpreted these high values as indicators of a top-level cyclist, classifying them as class 1.\n",
    "\n",
    "Concerning Distributional explanation the model shows that only \"top_20_entropy\" column countributes in leading to a positive label while others not."
   ]
  },
  {
   "cell_type": "markdown",
   "metadata": {},
   "source": [
    "----\n"
   ]
  },
  {
   "cell_type": "code",
   "execution_count": 19,
   "metadata": {},
   "outputs": [],
   "source": [
    "import seaborn\n",
    "\n",
    "explanation_differences = interventional_explanations.values - distributional_explanations.values\n",
    "maximum_differences_per_instance = explanation_differences.max(axis=1)\n",
    "maximum_differences_per_feature = explanation_differences.max(axis=0)"
   ]
  },
  {
   "cell_type": "code",
   "execution_count": 20,
   "metadata": {},
   "outputs": [
    {
     "data": {
      "text/plain": [
       "<Axes: ylabel='Density'>"
      ]
     },
     "execution_count": 20,
     "metadata": {},
     "output_type": "execute_result"
    },
    {
     "data": {
      "image/png": "[encoded data removed]",
      "text/plain": [
       "<Figure size 640x480 with 1 Axes>"
      ]
     },
     "metadata": {},
     "output_type": "display_data"
    }
   ],
   "source": [
    "seaborn.kdeplot(maximum_differences_per_instance)"
   ]
  },
  {
   "cell_type": "markdown",
   "metadata": {},
   "source": [
    "This plot shows that the most common difference in the interpretations of the two explainers falls between 1.4 and 1.5. Smaller and larger differences are less frequently observed across the instances."
   ]
  },
  {
   "cell_type": "code",
   "execution_count": 21,
   "metadata": {},
   "outputs": [
    {
     "data": {
      "image/png": "[encoded data removed]",
      "text/plain": [
       "<Figure size 640x480 with 1 Axes>"
      ]
     },
     "metadata": {},
     "output_type": "display_data"
    }
   ],
   "source": [
    "# Create a dataframte for better plotting\n",
    "feature_differences = pd.DataFrame({\n",
    "    'Feature': train_data.columns,\n",
    "    'Max Difference': maximum_differences_per_feature\n",
    "})\n",
    "\n",
    "seaborn.scatterplot(data=feature_differences, x='Feature', y='Max Difference')\n",
    "plt.xticks(rotation=45)\n",
    "plt.show()"
   ]
  },
  {
   "cell_type": "markdown",
   "metadata": {},
   "source": [
    "There is greater inconsistency between the two explanation methods for the \"total climb\" feature, which is considered important in both methods, while its importance is not as high in the native GBM model. In contrast, the inconsistency is lower for the \"cyclist experience\" feature, as it is rarely utilized by the model, which is reflected in its feature importance in the GBM model."
   ]
  },
  {
   "cell_type": "markdown",
   "metadata": {},
   "source": [
    "### Explanation analysis"
   ]
  },
  {
   "cell_type": "markdown",
   "metadata": {},
   "source": [
    "Let analyze if some features generally more impactful then others adding noise to the feature and analyizing how much it impacts model's predctions "
   ]
  },
  {
   "cell_type": "markdown",
   "metadata": {},
   "source": [
    "Starting performances are:"
   ]
  },
  {
   "cell_type": "code",
   "execution_count": 22,
   "metadata": {},
   "outputs": [
    {
     "data": {
      "text/html": [
       "<div>\n",
       "<style scoped>\n",
       "    .dataframe tbody tr th:only-of-type {\n",
       "        vertical-align: middle;\n",
       "    }\n",
       "\n",
       "    .dataframe tbody tr th {\n",
       "        vertical-align: top;\n",
       "    }\n",
       "\n",
       "    .dataframe thead th {\n",
       "        text-align: right;\n",
       "    }\n",
       "</style>\n",
       "<table border=\"1\" class=\"dataframe\">\n",
       "  <thead>\n",
       "    <tr style=\"text-align: right;\">\n",
       "      <th></th>\n",
       "      <th>0</th>\n",
       "      <th>1</th>\n",
       "      <th>accuracy</th>\n",
       "      <th>macro avg</th>\n",
       "      <th>weighted avg</th>\n",
       "    </tr>\n",
       "  </thead>\n",
       "  <tbody>\n",
       "    <tr>\n",
       "      <th>precision</th>\n",
       "      <td>0.974895</td>\n",
       "      <td>0.521739</td>\n",
       "      <td>0.7925</td>\n",
       "      <td>0.748317</td>\n",
       "      <td>0.872935</td>\n",
       "    </tr>\n",
       "    <tr>\n",
       "      <th>recall</th>\n",
       "      <td>0.751613</td>\n",
       "      <td>0.933333</td>\n",
       "      <td>0.7925</td>\n",
       "      <td>0.842473</td>\n",
       "      <td>0.792500</td>\n",
       "    </tr>\n",
       "    <tr>\n",
       "      <th>f1-score</th>\n",
       "      <td>0.848816</td>\n",
       "      <td>0.669323</td>\n",
       "      <td>0.7925</td>\n",
       "      <td>0.759069</td>\n",
       "      <td>0.808430</td>\n",
       "    </tr>\n",
       "    <tr>\n",
       "      <th>support</th>\n",
       "      <td>310.000000</td>\n",
       "      <td>90.000000</td>\n",
       "      <td>0.7925</td>\n",
       "      <td>400.000000</td>\n",
       "      <td>400.000000</td>\n",
       "    </tr>\n",
       "  </tbody>\n",
       "</table>\n",
       "</div>"
      ],
      "text/plain": [
       "                    0          1  accuracy   macro avg  weighted avg\n",
       "precision    0.974895   0.521739    0.7925    0.748317      0.872935\n",
       "recall       0.751613   0.933333    0.7925    0.842473      0.792500\n",
       "f1-score     0.848816   0.669323    0.7925    0.759069      0.808430\n",
       "support    310.000000  90.000000    0.7925  400.000000    400.000000"
      ]
     },
     "execution_count": 22,
     "metadata": {},
     "output_type": "execute_result"
    }
   ],
   "source": [
    "pd.DataFrame(validation)"
   ]
  },
  {
   "cell_type": "markdown",
   "metadata": {},
   "source": [
    "Let's sort features accordind to interventional explanation (we prefer this because match more with gbm importance)"
   ]
  },
  {
   "cell_type": "code",
   "execution_count": 23,
   "metadata": {},
   "outputs": [
    {
     "name": "stdout",
     "output_type": "stream",
     "text": [
      "Features sorted by decreasing importance for interventional method:\n",
      "- avg_relative_position\n",
      "- climb_total\n",
      "- top_20_entropy\n",
      "- position_entropy\n",
      "- cyclist_level\n",
      "- cyclist_experience\n",
      "- cyclist_age\n"
     ]
    }
   ],
   "source": [
    "interventional_explanations_df = pd.DataFrame(interventional_explanations.values, columns=train_data.columns.tolist())\n",
    "features_by_importance = interventional_explanations_df.abs().mean().sort_values(ascending=False).index\n",
    "\n",
    "print(\"Features sorted by decreasing importance for interventional method:\")\n",
    "for feature in features_by_importance:\n",
    "    print(\"-\",feature)"
   ]
  },
  {
   "cell_type": "markdown",
   "metadata": {},
   "source": [
    "Let's construct a set of corrupted datasets where noise at different magnitudes is inserted into the original dataset"
   ]
  },
  {
   "cell_type": "code",
   "execution_count": 24,
   "metadata": {},
   "outputs": [],
   "source": [
    "from sklearn.preprocessing import StandardScaler\n",
    "\n",
    "scaler = StandardScaler()\n",
    "test_data_norm = pd.DataFrame(scaler.fit_transform(test_data), columns=test_data.columns)\n",
    "\n",
    "random_noise = np.random.rand(test_data_norm.shape[0],)\n",
    "noise_magnitudes = [eps / 10 for eps in range(2, 10)]\n",
    "\n",
    "corruptions_by_feature_and_noise = dict()\n",
    "for feature in features_by_importance:\n",
    "    for noise_magnitude in noise_magnitudes:\n",
    "        corruptions_by_feature_and_noise[(feature, noise_magnitude)] = test_data_norm.copy()\n",
    "        corruptions_by_feature_and_noise[(feature, noise_magnitude)][feature] = corruptions_by_feature_and_noise[(feature, noise_magnitude)][feature] + random_noise * noise_magnitude"
   ]
  },
  {
   "cell_type": "markdown",
   "metadata": {},
   "source": [
    "Validate the model on the altered data"
   ]
  },
  {
   "cell_type": "code",
   "execution_count": 25,
   "metadata": {},
   "outputs": [],
   "source": [
    "validations_by_feature_and_noise = dict()\n",
    "for (feature, noise), corruption in corruptions_by_feature_and_noise.items():\n",
    "    validations_by_feature_and_noise[(feature, noise)] = classification_report(test_labels, gbm_model.predict(corruption), output_dict=True, zero_division=0)"
   ]
  },
  {
   "cell_type": "code",
   "execution_count": 26,
   "metadata": {},
   "outputs": [
    {
     "data": {
      "text/html": [
       "<div>\n",
       "<style scoped>\n",
       "    .dataframe tbody tr th:only-of-type {\n",
       "        vertical-align: middle;\n",
       "    }\n",
       "\n",
       "    .dataframe tbody tr th {\n",
       "        vertical-align: top;\n",
       "    }\n",
       "\n",
       "    .dataframe thead th {\n",
       "        text-align: right;\n",
       "    }\n",
       "</style>\n",
       "<table border=\"1\" class=\"dataframe\">\n",
       "  <thead>\n",
       "    <tr style=\"text-align: right;\">\n",
       "      <th></th>\n",
       "      <th>feature</th>\n",
       "      <th>noise_magnitude</th>\n",
       "      <th>performance</th>\n",
       "      <th>algorithm</th>\n",
       "      <th>difference</th>\n",
       "    </tr>\n",
       "  </thead>\n",
       "  <tbody>\n",
       "    <tr>\n",
       "      <th>0</th>\n",
       "      <td>avg_relative_position</td>\n",
       "      <td>0.2</td>\n",
       "      <td>0.408163</td>\n",
       "      <td>shap</td>\n",
       "      <td>-0.261159</td>\n",
       "    </tr>\n",
       "    <tr>\n",
       "      <th>1</th>\n",
       "      <td>avg_relative_position</td>\n",
       "      <td>0.3</td>\n",
       "      <td>0.408163</td>\n",
       "      <td>shap</td>\n",
       "      <td>-0.261159</td>\n",
       "    </tr>\n",
       "    <tr>\n",
       "      <th>2</th>\n",
       "      <td>avg_relative_position</td>\n",
       "      <td>0.4</td>\n",
       "      <td>0.408163</td>\n",
       "      <td>shap</td>\n",
       "      <td>-0.261159</td>\n",
       "    </tr>\n",
       "    <tr>\n",
       "      <th>3</th>\n",
       "      <td>avg_relative_position</td>\n",
       "      <td>0.5</td>\n",
       "      <td>0.408163</td>\n",
       "      <td>shap</td>\n",
       "      <td>-0.261159</td>\n",
       "    </tr>\n",
       "    <tr>\n",
       "      <th>4</th>\n",
       "      <td>avg_relative_position</td>\n",
       "      <td>0.6</td>\n",
       "      <td>0.409091</td>\n",
       "      <td>shap</td>\n",
       "      <td>-0.260232</td>\n",
       "    </tr>\n",
       "    <tr>\n",
       "      <th>5</th>\n",
       "      <td>avg_relative_position</td>\n",
       "      <td>0.7</td>\n",
       "      <td>0.409091</td>\n",
       "      <td>shap</td>\n",
       "      <td>-0.260232</td>\n",
       "    </tr>\n",
       "    <tr>\n",
       "      <th>6</th>\n",
       "      <td>avg_relative_position</td>\n",
       "      <td>0.8</td>\n",
       "      <td>0.409091</td>\n",
       "      <td>shap</td>\n",
       "      <td>-0.260232</td>\n",
       "    </tr>\n",
       "    <tr>\n",
       "      <th>7</th>\n",
       "      <td>avg_relative_position</td>\n",
       "      <td>0.9</td>\n",
       "      <td>0.411899</td>\n",
       "      <td>shap</td>\n",
       "      <td>-0.257423</td>\n",
       "    </tr>\n",
       "    <tr>\n",
       "      <th>8</th>\n",
       "      <td>climb_total</td>\n",
       "      <td>0.2</td>\n",
       "      <td>0.408163</td>\n",
       "      <td>shap</td>\n",
       "      <td>-0.261159</td>\n",
       "    </tr>\n",
       "    <tr>\n",
       "      <th>9</th>\n",
       "      <td>climb_total</td>\n",
       "      <td>0.3</td>\n",
       "      <td>0.408163</td>\n",
       "      <td>shap</td>\n",
       "      <td>-0.261159</td>\n",
       "    </tr>\n",
       "    <tr>\n",
       "      <th>10</th>\n",
       "      <td>climb_total</td>\n",
       "      <td>0.4</td>\n",
       "      <td>0.408163</td>\n",
       "      <td>shap</td>\n",
       "      <td>-0.261159</td>\n",
       "    </tr>\n",
       "    <tr>\n",
       "      <th>11</th>\n",
       "      <td>climb_total</td>\n",
       "      <td>0.5</td>\n",
       "      <td>0.408163</td>\n",
       "      <td>shap</td>\n",
       "      <td>-0.261159</td>\n",
       "    </tr>\n",
       "    <tr>\n",
       "      <th>12</th>\n",
       "      <td>climb_total</td>\n",
       "      <td>0.6</td>\n",
       "      <td>0.408163</td>\n",
       "      <td>shap</td>\n",
       "      <td>-0.261159</td>\n",
       "    </tr>\n",
       "    <tr>\n",
       "      <th>13</th>\n",
       "      <td>climb_total</td>\n",
       "      <td>0.7</td>\n",
       "      <td>0.409091</td>\n",
       "      <td>shap</td>\n",
       "      <td>-0.260232</td>\n",
       "    </tr>\n",
       "    <tr>\n",
       "      <th>14</th>\n",
       "      <td>climb_total</td>\n",
       "      <td>0.8</td>\n",
       "      <td>0.409091</td>\n",
       "      <td>shap</td>\n",
       "      <td>-0.260232</td>\n",
       "    </tr>\n",
       "    <tr>\n",
       "      <th>15</th>\n",
       "      <td>climb_total</td>\n",
       "      <td>0.9</td>\n",
       "      <td>0.409091</td>\n",
       "      <td>shap</td>\n",
       "      <td>-0.260232</td>\n",
       "    </tr>\n",
       "    <tr>\n",
       "      <th>16</th>\n",
       "      <td>top_20_entropy</td>\n",
       "      <td>0.2</td>\n",
       "      <td>0.408163</td>\n",
       "      <td>shap</td>\n",
       "      <td>-0.261159</td>\n",
       "    </tr>\n",
       "    <tr>\n",
       "      <th>17</th>\n",
       "      <td>top_20_entropy</td>\n",
       "      <td>0.3</td>\n",
       "      <td>0.408163</td>\n",
       "      <td>shap</td>\n",
       "      <td>-0.261159</td>\n",
       "    </tr>\n",
       "    <tr>\n",
       "      <th>18</th>\n",
       "      <td>top_20_entropy</td>\n",
       "      <td>0.4</td>\n",
       "      <td>0.408163</td>\n",
       "      <td>shap</td>\n",
       "      <td>-0.261159</td>\n",
       "    </tr>\n",
       "    <tr>\n",
       "      <th>19</th>\n",
       "      <td>top_20_entropy</td>\n",
       "      <td>0.5</td>\n",
       "      <td>0.408163</td>\n",
       "      <td>shap</td>\n",
       "      <td>-0.261159</td>\n",
       "    </tr>\n",
       "    <tr>\n",
       "      <th>20</th>\n",
       "      <td>top_20_entropy</td>\n",
       "      <td>0.6</td>\n",
       "      <td>0.408163</td>\n",
       "      <td>shap</td>\n",
       "      <td>-0.261159</td>\n",
       "    </tr>\n",
       "    <tr>\n",
       "      <th>21</th>\n",
       "      <td>top_20_entropy</td>\n",
       "      <td>0.7</td>\n",
       "      <td>0.408163</td>\n",
       "      <td>shap</td>\n",
       "      <td>-0.261159</td>\n",
       "    </tr>\n",
       "    <tr>\n",
       "      <th>22</th>\n",
       "      <td>top_20_entropy</td>\n",
       "      <td>0.8</td>\n",
       "      <td>0.408163</td>\n",
       "      <td>shap</td>\n",
       "      <td>-0.261159</td>\n",
       "    </tr>\n",
       "    <tr>\n",
       "      <th>23</th>\n",
       "      <td>top_20_entropy</td>\n",
       "      <td>0.9</td>\n",
       "      <td>0.407240</td>\n",
       "      <td>shap</td>\n",
       "      <td>-0.262083</td>\n",
       "    </tr>\n",
       "    <tr>\n",
       "      <th>24</th>\n",
       "      <td>position_entropy</td>\n",
       "      <td>0.2</td>\n",
       "      <td>0.407240</td>\n",
       "      <td>shap</td>\n",
       "      <td>-0.262083</td>\n",
       "    </tr>\n",
       "    <tr>\n",
       "      <th>25</th>\n",
       "      <td>position_entropy</td>\n",
       "      <td>0.3</td>\n",
       "      <td>0.406321</td>\n",
       "      <td>shap</td>\n",
       "      <td>-0.263002</td>\n",
       "    </tr>\n",
       "    <tr>\n",
       "      <th>26</th>\n",
       "      <td>position_entropy</td>\n",
       "      <td>0.4</td>\n",
       "      <td>0.406321</td>\n",
       "      <td>shap</td>\n",
       "      <td>-0.263002</td>\n",
       "    </tr>\n",
       "    <tr>\n",
       "      <th>27</th>\n",
       "      <td>position_entropy</td>\n",
       "      <td>0.5</td>\n",
       "      <td>0.406321</td>\n",
       "      <td>shap</td>\n",
       "      <td>-0.263002</td>\n",
       "    </tr>\n",
       "    <tr>\n",
       "      <th>28</th>\n",
       "      <td>position_entropy</td>\n",
       "      <td>0.6</td>\n",
       "      <td>0.405405</td>\n",
       "      <td>shap</td>\n",
       "      <td>-0.263917</td>\n",
       "    </tr>\n",
       "    <tr>\n",
       "      <th>29</th>\n",
       "      <td>position_entropy</td>\n",
       "      <td>0.7</td>\n",
       "      <td>0.405405</td>\n",
       "      <td>shap</td>\n",
       "      <td>-0.263917</td>\n",
       "    </tr>\n",
       "    <tr>\n",
       "      <th>30</th>\n",
       "      <td>position_entropy</td>\n",
       "      <td>0.8</td>\n",
       "      <td>0.405405</td>\n",
       "      <td>shap</td>\n",
       "      <td>-0.263917</td>\n",
       "    </tr>\n",
       "    <tr>\n",
       "      <th>31</th>\n",
       "      <td>position_entropy</td>\n",
       "      <td>0.9</td>\n",
       "      <td>0.404494</td>\n",
       "      <td>shap</td>\n",
       "      <td>-0.264828</td>\n",
       "    </tr>\n",
       "    <tr>\n",
       "      <th>32</th>\n",
       "      <td>cyclist_level</td>\n",
       "      <td>0.2</td>\n",
       "      <td>0.408163</td>\n",
       "      <td>shap</td>\n",
       "      <td>-0.261159</td>\n",
       "    </tr>\n",
       "    <tr>\n",
       "      <th>33</th>\n",
       "      <td>cyclist_level</td>\n",
       "      <td>0.3</td>\n",
       "      <td>0.408163</td>\n",
       "      <td>shap</td>\n",
       "      <td>-0.261159</td>\n",
       "    </tr>\n",
       "    <tr>\n",
       "      <th>34</th>\n",
       "      <td>cyclist_level</td>\n",
       "      <td>0.4</td>\n",
       "      <td>0.408163</td>\n",
       "      <td>shap</td>\n",
       "      <td>-0.261159</td>\n",
       "    </tr>\n",
       "    <tr>\n",
       "      <th>35</th>\n",
       "      <td>cyclist_level</td>\n",
       "      <td>0.5</td>\n",
       "      <td>0.409091</td>\n",
       "      <td>shap</td>\n",
       "      <td>-0.260232</td>\n",
       "    </tr>\n",
       "    <tr>\n",
       "      <th>36</th>\n",
       "      <td>cyclist_level</td>\n",
       "      <td>0.6</td>\n",
       "      <td>0.411899</td>\n",
       "      <td>shap</td>\n",
       "      <td>-0.257423</td>\n",
       "    </tr>\n",
       "    <tr>\n",
       "      <th>37</th>\n",
       "      <td>cyclist_level</td>\n",
       "      <td>0.7</td>\n",
       "      <td>0.414747</td>\n",
       "      <td>shap</td>\n",
       "      <td>-0.254576</td>\n",
       "    </tr>\n",
       "    <tr>\n",
       "      <th>38</th>\n",
       "      <td>cyclist_level</td>\n",
       "      <td>0.8</td>\n",
       "      <td>0.416667</td>\n",
       "      <td>shap</td>\n",
       "      <td>-0.252656</td>\n",
       "    </tr>\n",
       "    <tr>\n",
       "      <th>39</th>\n",
       "      <td>cyclist_level</td>\n",
       "      <td>0.9</td>\n",
       "      <td>0.415704</td>\n",
       "      <td>shap</td>\n",
       "      <td>-0.253618</td>\n",
       "    </tr>\n",
       "    <tr>\n",
       "      <th>40</th>\n",
       "      <td>cyclist_experience</td>\n",
       "      <td>0.2</td>\n",
       "      <td>0.408163</td>\n",
       "      <td>shap</td>\n",
       "      <td>-0.261159</td>\n",
       "    </tr>\n",
       "    <tr>\n",
       "      <th>41</th>\n",
       "      <td>cyclist_experience</td>\n",
       "      <td>0.3</td>\n",
       "      <td>0.408163</td>\n",
       "      <td>shap</td>\n",
       "      <td>-0.261159</td>\n",
       "    </tr>\n",
       "    <tr>\n",
       "      <th>42</th>\n",
       "      <td>cyclist_experience</td>\n",
       "      <td>0.4</td>\n",
       "      <td>0.410959</td>\n",
       "      <td>shap</td>\n",
       "      <td>-0.258364</td>\n",
       "    </tr>\n",
       "    <tr>\n",
       "      <th>43</th>\n",
       "      <td>cyclist_experience</td>\n",
       "      <td>0.5</td>\n",
       "      <td>0.414747</td>\n",
       "      <td>shap</td>\n",
       "      <td>-0.254576</td>\n",
       "    </tr>\n",
       "    <tr>\n",
       "      <th>44</th>\n",
       "      <td>cyclist_experience</td>\n",
       "      <td>0.6</td>\n",
       "      <td>0.416667</td>\n",
       "      <td>shap</td>\n",
       "      <td>-0.252656</td>\n",
       "    </tr>\n",
       "    <tr>\n",
       "      <th>45</th>\n",
       "      <td>cyclist_experience</td>\n",
       "      <td>0.7</td>\n",
       "      <td>0.418605</td>\n",
       "      <td>shap</td>\n",
       "      <td>-0.250718</td>\n",
       "    </tr>\n",
       "    <tr>\n",
       "      <th>46</th>\n",
       "      <td>cyclist_experience</td>\n",
       "      <td>0.8</td>\n",
       "      <td>0.421546</td>\n",
       "      <td>shap</td>\n",
       "      <td>-0.247777</td>\n",
       "    </tr>\n",
       "    <tr>\n",
       "      <th>47</th>\n",
       "      <td>cyclist_experience</td>\n",
       "      <td>0.9</td>\n",
       "      <td>0.422535</td>\n",
       "      <td>shap</td>\n",
       "      <td>-0.246787</td>\n",
       "    </tr>\n",
       "    <tr>\n",
       "      <th>48</th>\n",
       "      <td>cyclist_age</td>\n",
       "      <td>0.2</td>\n",
       "      <td>0.413953</td>\n",
       "      <td>shap</td>\n",
       "      <td>-0.255369</td>\n",
       "    </tr>\n",
       "    <tr>\n",
       "      <th>49</th>\n",
       "      <td>cyclist_age</td>\n",
       "      <td>0.3</td>\n",
       "      <td>0.410138</td>\n",
       "      <td>shap</td>\n",
       "      <td>-0.259184</td>\n",
       "    </tr>\n",
       "    <tr>\n",
       "      <th>50</th>\n",
       "      <td>cyclist_age</td>\n",
       "      <td>0.4</td>\n",
       "      <td>0.419580</td>\n",
       "      <td>shap</td>\n",
       "      <td>-0.249742</td>\n",
       "    </tr>\n",
       "    <tr>\n",
       "      <th>51</th>\n",
       "      <td>cyclist_age</td>\n",
       "      <td>0.5</td>\n",
       "      <td>0.410959</td>\n",
       "      <td>shap</td>\n",
       "      <td>-0.258364</td>\n",
       "    </tr>\n",
       "    <tr>\n",
       "      <th>52</th>\n",
       "      <td>cyclist_age</td>\n",
       "      <td>0.6</td>\n",
       "      <td>0.421546</td>\n",
       "      <td>shap</td>\n",
       "      <td>-0.247777</td>\n",
       "    </tr>\n",
       "    <tr>\n",
       "      <th>53</th>\n",
       "      <td>cyclist_age</td>\n",
       "      <td>0.7</td>\n",
       "      <td>0.405594</td>\n",
       "      <td>shap</td>\n",
       "      <td>-0.263728</td>\n",
       "    </tr>\n",
       "    <tr>\n",
       "      <th>54</th>\n",
       "      <td>cyclist_age</td>\n",
       "      <td>0.8</td>\n",
       "      <td>0.413953</td>\n",
       "      <td>shap</td>\n",
       "      <td>-0.255369</td>\n",
       "    </tr>\n",
       "    <tr>\n",
       "      <th>55</th>\n",
       "      <td>cyclist_age</td>\n",
       "      <td>0.9</td>\n",
       "      <td>0.401848</td>\n",
       "      <td>shap</td>\n",
       "      <td>-0.267475</td>\n",
       "    </tr>\n",
       "  </tbody>\n",
       "</table>\n",
       "</div>"
      ],
      "text/plain": [
       "                  feature  noise_magnitude  performance algorithm  difference\n",
       "0   avg_relative_position              0.2     0.408163      shap   -0.261159\n",
       "1   avg_relative_position              0.3     0.408163      shap   -0.261159\n",
       "2   avg_relative_position              0.4     0.408163      shap   -0.261159\n",
       "3   avg_relative_position              0.5     0.408163      shap   -0.261159\n",
       "4   avg_relative_position              0.6     0.409091      shap   -0.260232\n",
       "5   avg_relative_position              0.7     0.409091      shap   -0.260232\n",
       "6   avg_relative_position              0.8     0.409091      shap   -0.260232\n",
       "7   avg_relative_position              0.9     0.411899      shap   -0.257423\n",
       "8             climb_total              0.2     0.408163      shap   -0.261159\n",
       "9             climb_total              0.3     0.408163      shap   -0.261159\n",
       "10            climb_total              0.4     0.408163      shap   -0.261159\n",
       "11            climb_total              0.5     0.408163      shap   -0.261159\n",
       "12            climb_total              0.6     0.408163      shap   -0.261159\n",
       "13            climb_total              0.7     0.409091      shap   -0.260232\n",
       "14            climb_total              0.8     0.409091      shap   -0.260232\n",
       "15            climb_total              0.9     0.409091      shap   -0.260232\n",
       "16         top_20_entropy              0.2     0.408163      shap   -0.261159\n",
       "17         top_20_entropy              0.3     0.408163      shap   -0.261159\n",
       "18         top_20_entropy              0.4     0.408163      shap   -0.261159\n",
       "19         top_20_entropy              0.5     0.408163      shap   -0.261159\n",
       "20         top_20_entropy              0.6     0.408163      shap   -0.261159\n",
       "21         top_20_entropy              0.7     0.408163      shap   -0.261159\n",
       "22         top_20_entropy              0.8     0.408163      shap   -0.261159\n",
       "23         top_20_entropy              0.9     0.407240      shap   -0.262083\n",
       "24       position_entropy              0.2     0.407240      shap   -0.262083\n",
       "25       position_entropy              0.3     0.406321      shap   -0.263002\n",
       "26       position_entropy              0.4     0.406321      shap   -0.263002\n",
       "27       position_entropy              0.5     0.406321      shap   -0.263002\n",
       "28       position_entropy              0.6     0.405405      shap   -0.263917\n",
       "29       position_entropy              0.7     0.405405      shap   -0.263917\n",
       "30       position_entropy              0.8     0.405405      shap   -0.263917\n",
       "31       position_entropy              0.9     0.404494      shap   -0.264828\n",
       "32          cyclist_level              0.2     0.408163      shap   -0.261159\n",
       "33          cyclist_level              0.3     0.408163      shap   -0.261159\n",
       "34          cyclist_level              0.4     0.408163      shap   -0.261159\n",
       "35          cyclist_level              0.5     0.409091      shap   -0.260232\n",
       "36          cyclist_level              0.6     0.411899      shap   -0.257423\n",
       "37          cyclist_level              0.7     0.414747      shap   -0.254576\n",
       "38          cyclist_level              0.8     0.416667      shap   -0.252656\n",
       "39          cyclist_level              0.9     0.415704      shap   -0.253618\n",
       "40     cyclist_experience              0.2     0.408163      shap   -0.261159\n",
       "41     cyclist_experience              0.3     0.408163      shap   -0.261159\n",
       "42     cyclist_experience              0.4     0.410959      shap   -0.258364\n",
       "43     cyclist_experience              0.5     0.414747      shap   -0.254576\n",
       "44     cyclist_experience              0.6     0.416667      shap   -0.252656\n",
       "45     cyclist_experience              0.7     0.418605      shap   -0.250718\n",
       "46     cyclist_experience              0.8     0.421546      shap   -0.247777\n",
       "47     cyclist_experience              0.9     0.422535      shap   -0.246787\n",
       "48            cyclist_age              0.2     0.413953      shap   -0.255369\n",
       "49            cyclist_age              0.3     0.410138      shap   -0.259184\n",
       "50            cyclist_age              0.4     0.419580      shap   -0.249742\n",
       "51            cyclist_age              0.5     0.410959      shap   -0.258364\n",
       "52            cyclist_age              0.6     0.421546      shap   -0.247777\n",
       "53            cyclist_age              0.7     0.405594      shap   -0.263728\n",
       "54            cyclist_age              0.8     0.413953      shap   -0.255369\n",
       "55            cyclist_age              0.9     0.401848      shap   -0.267475"
      ]
     },
     "execution_count": 26,
     "metadata": {},
     "output_type": "execute_result"
    }
   ],
   "source": [
    "metric = \"f1-score\"\n",
    "corruption_validation = pd.DataFrame([\n",
    "    (feature, noise_magnitude, validations_by_feature_and_noise[(feature, noise_magnitude)][\"1\"][metric], \"shap\")\n",
    "    for feature, noise_magnitude in validations_by_feature_and_noise\n",
    "    ],\n",
    "    columns=[\"feature\", \"noise_magnitude\", \"performance\", \"algorithm\"]\n",
    ")\n",
    "corruption_validation[\"difference\"] = corruption_validation[\"performance\"] - validation[\"1\"][metric]\n",
    "corruption_validation"
   ]
  },
  {
   "cell_type": "markdown",
   "metadata": {},
   "source": [
    "The results suggest that the model generalises poorly, as even small alterations in each features cause a significant drop in performance. This suggests that the model may be overly dependent on specific feature details, compromising the overall robustness of decisions. "
   ]
  },
  {
   "cell_type": "code",
   "execution_count": 27,
   "metadata": {},
   "outputs": [
    {
     "data": {
      "text/html": [
       "<div>\n",
       "<style scoped>\n",
       "    .dataframe tbody tr th:only-of-type {\n",
       "        vertical-align: middle;\n",
       "    }\n",
       "\n",
       "    .dataframe tbody tr th {\n",
       "        vertical-align: top;\n",
       "    }\n",
       "\n",
       "    .dataframe thead tr th {\n",
       "        text-align: left;\n",
       "    }\n",
       "\n",
       "    .dataframe thead tr:last-of-type th {\n",
       "        text-align: right;\n",
       "    }\n",
       "</style>\n",
       "<table border=\"1\" class=\"dataframe\">\n",
       "  <thead>\n",
       "    <tr>\n",
       "      <th></th>\n",
       "      <th colspan=\"8\" halign=\"left\">performance</th>\n",
       "      <th colspan=\"8\" halign=\"left\">difference</th>\n",
       "    </tr>\n",
       "    <tr>\n",
       "      <th></th>\n",
       "      <th>count</th>\n",
       "      <th>mean</th>\n",
       "      <th>std</th>\n",
       "      <th>min</th>\n",
       "      <th>25%</th>\n",
       "      <th>50%</th>\n",
       "      <th>75%</th>\n",
       "      <th>max</th>\n",
       "      <th>count</th>\n",
       "      <th>mean</th>\n",
       "      <th>std</th>\n",
       "      <th>min</th>\n",
       "      <th>25%</th>\n",
       "      <th>50%</th>\n",
       "      <th>75%</th>\n",
       "      <th>max</th>\n",
       "    </tr>\n",
       "    <tr>\n",
       "      <th>feature</th>\n",
       "      <th></th>\n",
       "      <th></th>\n",
       "      <th></th>\n",
       "      <th></th>\n",
       "      <th></th>\n",
       "      <th></th>\n",
       "      <th></th>\n",
       "      <th></th>\n",
       "      <th></th>\n",
       "      <th></th>\n",
       "      <th></th>\n",
       "      <th></th>\n",
       "      <th></th>\n",
       "      <th></th>\n",
       "      <th></th>\n",
       "      <th></th>\n",
       "    </tr>\n",
       "  </thead>\n",
       "  <tbody>\n",
       "    <tr>\n",
       "      <th>avg_relative_position</th>\n",
       "      <td>8.0</td>\n",
       "      <td>0.408978</td>\n",
       "      <td>0.001266</td>\n",
       "      <td>0.408163</td>\n",
       "      <td>0.408163</td>\n",
       "      <td>0.408627</td>\n",
       "      <td>0.409091</td>\n",
       "      <td>0.411899</td>\n",
       "      <td>8.0</td>\n",
       "      <td>-0.260345</td>\n",
       "      <td>0.001266</td>\n",
       "      <td>-0.261159</td>\n",
       "      <td>-0.261159</td>\n",
       "      <td>-0.260696</td>\n",
       "      <td>-0.260232</td>\n",
       "      <td>-0.257423</td>\n",
       "    </tr>\n",
       "    <tr>\n",
       "      <th>climb_total</th>\n",
       "      <td>8.0</td>\n",
       "      <td>0.408511</td>\n",
       "      <td>0.000480</td>\n",
       "      <td>0.408163</td>\n",
       "      <td>0.408163</td>\n",
       "      <td>0.408163</td>\n",
       "      <td>0.409091</td>\n",
       "      <td>0.409091</td>\n",
       "      <td>8.0</td>\n",
       "      <td>-0.260812</td>\n",
       "      <td>0.000480</td>\n",
       "      <td>-0.261159</td>\n",
       "      <td>-0.261159</td>\n",
       "      <td>-0.261159</td>\n",
       "      <td>-0.260232</td>\n",
       "      <td>-0.260232</td>\n",
       "    </tr>\n",
       "    <tr>\n",
       "      <th>cyclist_age</th>\n",
       "      <td>8.0</td>\n",
       "      <td>0.412197</td>\n",
       "      <td>0.006596</td>\n",
       "      <td>0.401848</td>\n",
       "      <td>0.409002</td>\n",
       "      <td>0.412456</td>\n",
       "      <td>0.415360</td>\n",
       "      <td>0.421546</td>\n",
       "      <td>8.0</td>\n",
       "      <td>-0.257126</td>\n",
       "      <td>0.006596</td>\n",
       "      <td>-0.267475</td>\n",
       "      <td>-0.260320</td>\n",
       "      <td>-0.256867</td>\n",
       "      <td>-0.253962</td>\n",
       "      <td>-0.247777</td>\n",
       "    </tr>\n",
       "    <tr>\n",
       "      <th>cyclist_experience</th>\n",
       "      <td>8.0</td>\n",
       "      <td>0.415173</td>\n",
       "      <td>0.005670</td>\n",
       "      <td>0.408163</td>\n",
       "      <td>0.410260</td>\n",
       "      <td>0.415707</td>\n",
       "      <td>0.419340</td>\n",
       "      <td>0.422535</td>\n",
       "      <td>8.0</td>\n",
       "      <td>-0.254150</td>\n",
       "      <td>0.005670</td>\n",
       "      <td>-0.261159</td>\n",
       "      <td>-0.259063</td>\n",
       "      <td>-0.253616</td>\n",
       "      <td>-0.249983</td>\n",
       "      <td>-0.246787</td>\n",
       "    </tr>\n",
       "    <tr>\n",
       "      <th>cyclist_level</th>\n",
       "      <td>8.0</td>\n",
       "      <td>0.411575</td>\n",
       "      <td>0.003669</td>\n",
       "      <td>0.408163</td>\n",
       "      <td>0.408163</td>\n",
       "      <td>0.410495</td>\n",
       "      <td>0.414986</td>\n",
       "      <td>0.416667</td>\n",
       "      <td>8.0</td>\n",
       "      <td>-0.257748</td>\n",
       "      <td>0.003669</td>\n",
       "      <td>-0.261159</td>\n",
       "      <td>-0.261159</td>\n",
       "      <td>-0.258828</td>\n",
       "      <td>-0.254337</td>\n",
       "      <td>-0.252656</td>\n",
       "    </tr>\n",
       "    <tr>\n",
       "      <th>position_entropy</th>\n",
       "      <td>8.0</td>\n",
       "      <td>0.405864</td>\n",
       "      <td>0.000847</td>\n",
       "      <td>0.404494</td>\n",
       "      <td>0.405405</td>\n",
       "      <td>0.405863</td>\n",
       "      <td>0.406321</td>\n",
       "      <td>0.407240</td>\n",
       "      <td>8.0</td>\n",
       "      <td>-0.263459</td>\n",
       "      <td>0.000847</td>\n",
       "      <td>-0.264828</td>\n",
       "      <td>-0.263917</td>\n",
       "      <td>-0.263460</td>\n",
       "      <td>-0.263002</td>\n",
       "      <td>-0.262083</td>\n",
       "    </tr>\n",
       "    <tr>\n",
       "      <th>top_20_entropy</th>\n",
       "      <td>8.0</td>\n",
       "      <td>0.408048</td>\n",
       "      <td>0.000326</td>\n",
       "      <td>0.407240</td>\n",
       "      <td>0.408163</td>\n",
       "      <td>0.408163</td>\n",
       "      <td>0.408163</td>\n",
       "      <td>0.408163</td>\n",
       "      <td>8.0</td>\n",
       "      <td>-0.261275</td>\n",
       "      <td>0.000326</td>\n",
       "      <td>-0.262083</td>\n",
       "      <td>-0.261159</td>\n",
       "      <td>-0.261159</td>\n",
       "      <td>-0.261159</td>\n",
       "      <td>-0.261159</td>\n",
       "    </tr>\n",
       "  </tbody>\n",
       "</table>\n",
       "</div>"
      ],
      "text/plain": [
       "                      performance                                          \\\n",
       "                            count      mean       std       min       25%   \n",
       "feature                                                                     \n",
       "avg_relative_position         8.0  0.408978  0.001266  0.408163  0.408163   \n",
       "climb_total                   8.0  0.408511  0.000480  0.408163  0.408163   \n",
       "cyclist_age                   8.0  0.412197  0.006596  0.401848  0.409002   \n",
       "cyclist_experience            8.0  0.415173  0.005670  0.408163  0.410260   \n",
       "cyclist_level                 8.0  0.411575  0.003669  0.408163  0.408163   \n",
       "position_entropy              8.0  0.405864  0.000847  0.404494  0.405405   \n",
       "top_20_entropy                8.0  0.408048  0.000326  0.407240  0.408163   \n",
       "\n",
       "                                                    difference            \\\n",
       "                            50%       75%       max      count      mean   \n",
       "feature                                                                    \n",
       "avg_relative_position  0.408627  0.409091  0.411899        8.0 -0.260345   \n",
       "climb_total            0.408163  0.409091  0.409091        8.0 -0.260812   \n",
       "cyclist_age            0.412456  0.415360  0.421546        8.0 -0.257126   \n",
       "cyclist_experience     0.415707  0.419340  0.422535        8.0 -0.254150   \n",
       "cyclist_level          0.410495  0.414986  0.416667        8.0 -0.257748   \n",
       "position_entropy       0.405863  0.406321  0.407240        8.0 -0.263459   \n",
       "top_20_entropy         0.408163  0.408163  0.408163        8.0 -0.261275   \n",
       "\n",
       "                                                                         \\\n",
       "                            std       min       25%       50%       75%   \n",
       "feature                                                                   \n",
       "avg_relative_position  0.001266 -0.261159 -0.261159 -0.260696 -0.260232   \n",
       "climb_total            0.000480 -0.261159 -0.261159 -0.261159 -0.260232   \n",
       "cyclist_age            0.006596 -0.267475 -0.260320 -0.256867 -0.253962   \n",
       "cyclist_experience     0.005670 -0.261159 -0.259063 -0.253616 -0.249983   \n",
       "cyclist_level          0.003669 -0.261159 -0.261159 -0.258828 -0.254337   \n",
       "position_entropy       0.000847 -0.264828 -0.263917 -0.263460 -0.263002   \n",
       "top_20_entropy         0.000326 -0.262083 -0.261159 -0.261159 -0.261159   \n",
       "\n",
       "                                 \n",
       "                            max  \n",
       "feature                          \n",
       "avg_relative_position -0.257423  \n",
       "climb_total           -0.260232  \n",
       "cyclist_age           -0.247777  \n",
       "cyclist_experience    -0.246787  \n",
       "cyclist_level         -0.252656  \n",
       "position_entropy      -0.262083  \n",
       "top_20_entropy        -0.261159  "
      ]
     },
     "execution_count": 27,
     "metadata": {},
     "output_type": "execute_result"
    }
   ],
   "source": [
    "corruption_validation.groupby(\"feature\").describe()[[\"performance\", \"difference\"]]"
   ]
  },
  {
   "cell_type": "code",
   "execution_count": 28,
   "metadata": {},
   "outputs": [
    {
     "data": {
      "text/html": [
       "<div>\n",
       "<style scoped>\n",
       "    .dataframe tbody tr th:only-of-type {\n",
       "        vertical-align: middle;\n",
       "    }\n",
       "\n",
       "    .dataframe tbody tr th {\n",
       "        vertical-align: top;\n",
       "    }\n",
       "\n",
       "    .dataframe thead tr th {\n",
       "        text-align: left;\n",
       "    }\n",
       "\n",
       "    .dataframe thead tr:last-of-type th {\n",
       "        text-align: right;\n",
       "    }\n",
       "</style>\n",
       "<table border=\"1\" class=\"dataframe\">\n",
       "  <thead>\n",
       "    <tr>\n",
       "      <th></th>\n",
       "      <th colspan=\"8\" halign=\"left\">performance</th>\n",
       "      <th colspan=\"8\" halign=\"left\">difference</th>\n",
       "    </tr>\n",
       "    <tr>\n",
       "      <th></th>\n",
       "      <th>count</th>\n",
       "      <th>mean</th>\n",
       "      <th>std</th>\n",
       "      <th>min</th>\n",
       "      <th>25%</th>\n",
       "      <th>50%</th>\n",
       "      <th>75%</th>\n",
       "      <th>max</th>\n",
       "      <th>count</th>\n",
       "      <th>mean</th>\n",
       "      <th>std</th>\n",
       "      <th>min</th>\n",
       "      <th>25%</th>\n",
       "      <th>50%</th>\n",
       "      <th>75%</th>\n",
       "      <th>max</th>\n",
       "    </tr>\n",
       "    <tr>\n",
       "      <th>noise_magnitude</th>\n",
       "      <th></th>\n",
       "      <th></th>\n",
       "      <th></th>\n",
       "      <th></th>\n",
       "      <th></th>\n",
       "      <th></th>\n",
       "      <th></th>\n",
       "      <th></th>\n",
       "      <th></th>\n",
       "      <th></th>\n",
       "      <th></th>\n",
       "      <th></th>\n",
       "      <th></th>\n",
       "      <th></th>\n",
       "      <th></th>\n",
       "      <th></th>\n",
       "    </tr>\n",
       "  </thead>\n",
       "  <tbody>\n",
       "    <tr>\n",
       "      <th>0.2</th>\n",
       "      <td>7.0</td>\n",
       "      <td>0.408859</td>\n",
       "      <td>0.002273</td>\n",
       "      <td>0.407240</td>\n",
       "      <td>0.408163</td>\n",
       "      <td>0.408163</td>\n",
       "      <td>0.408163</td>\n",
       "      <td>0.413953</td>\n",
       "      <td>7.0</td>\n",
       "      <td>-0.260464</td>\n",
       "      <td>0.002273</td>\n",
       "      <td>-0.262083</td>\n",
       "      <td>-0.261159</td>\n",
       "      <td>-0.261159</td>\n",
       "      <td>-0.261159</td>\n",
       "      <td>-0.255369</td>\n",
       "    </tr>\n",
       "    <tr>\n",
       "      <th>0.3</th>\n",
       "      <td>7.0</td>\n",
       "      <td>0.408182</td>\n",
       "      <td>0.001103</td>\n",
       "      <td>0.406321</td>\n",
       "      <td>0.408163</td>\n",
       "      <td>0.408163</td>\n",
       "      <td>0.408163</td>\n",
       "      <td>0.410138</td>\n",
       "      <td>7.0</td>\n",
       "      <td>-0.261141</td>\n",
       "      <td>0.001103</td>\n",
       "      <td>-0.263002</td>\n",
       "      <td>-0.261159</td>\n",
       "      <td>-0.261159</td>\n",
       "      <td>-0.261159</td>\n",
       "      <td>-0.259184</td>\n",
       "    </tr>\n",
       "    <tr>\n",
       "      <th>0.4</th>\n",
       "      <td>7.0</td>\n",
       "      <td>0.409930</td>\n",
       "      <td>0.004467</td>\n",
       "      <td>0.406321</td>\n",
       "      <td>0.408163</td>\n",
       "      <td>0.408163</td>\n",
       "      <td>0.409561</td>\n",
       "      <td>0.419580</td>\n",
       "      <td>7.0</td>\n",
       "      <td>-0.259392</td>\n",
       "      <td>0.004467</td>\n",
       "      <td>-0.263002</td>\n",
       "      <td>-0.261159</td>\n",
       "      <td>-0.261159</td>\n",
       "      <td>-0.259762</td>\n",
       "      <td>-0.249742</td>\n",
       "    </tr>\n",
       "    <tr>\n",
       "      <th>0.5</th>\n",
       "      <td>7.0</td>\n",
       "      <td>0.409372</td>\n",
       "      <td>0.002744</td>\n",
       "      <td>0.406321</td>\n",
       "      <td>0.408163</td>\n",
       "      <td>0.408163</td>\n",
       "      <td>0.410025</td>\n",
       "      <td>0.414747</td>\n",
       "      <td>7.0</td>\n",
       "      <td>-0.259950</td>\n",
       "      <td>0.002744</td>\n",
       "      <td>-0.263002</td>\n",
       "      <td>-0.261159</td>\n",
       "      <td>-0.261159</td>\n",
       "      <td>-0.259298</td>\n",
       "      <td>-0.254576</td>\n",
       "    </tr>\n",
       "    <tr>\n",
       "      <th>0.6</th>\n",
       "      <td>7.0</td>\n",
       "      <td>0.411562</td>\n",
       "      <td>0.005671</td>\n",
       "      <td>0.405405</td>\n",
       "      <td>0.408163</td>\n",
       "      <td>0.409091</td>\n",
       "      <td>0.414283</td>\n",
       "      <td>0.421546</td>\n",
       "      <td>7.0</td>\n",
       "      <td>-0.257761</td>\n",
       "      <td>0.005671</td>\n",
       "      <td>-0.263917</td>\n",
       "      <td>-0.261159</td>\n",
       "      <td>-0.260232</td>\n",
       "      <td>-0.255040</td>\n",
       "      <td>-0.247777</td>\n",
       "    </tr>\n",
       "    <tr>\n",
       "      <th>0.7</th>\n",
       "      <td>7.0</td>\n",
       "      <td>0.410099</td>\n",
       "      <td>0.004866</td>\n",
       "      <td>0.405405</td>\n",
       "      <td>0.406879</td>\n",
       "      <td>0.409091</td>\n",
       "      <td>0.411919</td>\n",
       "      <td>0.418605</td>\n",
       "      <td>7.0</td>\n",
       "      <td>-0.259223</td>\n",
       "      <td>0.004866</td>\n",
       "      <td>-0.263917</td>\n",
       "      <td>-0.262444</td>\n",
       "      <td>-0.260232</td>\n",
       "      <td>-0.257404</td>\n",
       "      <td>-0.250718</td>\n",
       "    </tr>\n",
       "    <tr>\n",
       "      <th>0.8</th>\n",
       "      <td>7.0</td>\n",
       "      <td>0.411988</td>\n",
       "      <td>0.005655</td>\n",
       "      <td>0.405405</td>\n",
       "      <td>0.408627</td>\n",
       "      <td>0.409091</td>\n",
       "      <td>0.415310</td>\n",
       "      <td>0.421546</td>\n",
       "      <td>7.0</td>\n",
       "      <td>-0.257335</td>\n",
       "      <td>0.005655</td>\n",
       "      <td>-0.263917</td>\n",
       "      <td>-0.260696</td>\n",
       "      <td>-0.260232</td>\n",
       "      <td>-0.254013</td>\n",
       "      <td>-0.247777</td>\n",
       "    </tr>\n",
       "    <tr>\n",
       "      <th>0.9</th>\n",
       "      <td>7.0</td>\n",
       "      <td>0.410402</td>\n",
       "      <td>0.007040</td>\n",
       "      <td>0.401848</td>\n",
       "      <td>0.405867</td>\n",
       "      <td>0.409091</td>\n",
       "      <td>0.413802</td>\n",
       "      <td>0.422535</td>\n",
       "      <td>7.0</td>\n",
       "      <td>-0.258921</td>\n",
       "      <td>0.007040</td>\n",
       "      <td>-0.267475</td>\n",
       "      <td>-0.263456</td>\n",
       "      <td>-0.260232</td>\n",
       "      <td>-0.255521</td>\n",
       "      <td>-0.246787</td>\n",
       "    </tr>\n",
       "  </tbody>\n",
       "</table>\n",
       "</div>"
      ],
      "text/plain": [
       "                performance                                                    \\\n",
       "                      count      mean       std       min       25%       50%   \n",
       "noise_magnitude                                                                 \n",
       "0.2                     7.0  0.408859  0.002273  0.407240  0.408163  0.408163   \n",
       "0.3                     7.0  0.408182  0.001103  0.406321  0.408163  0.408163   \n",
       "0.4                     7.0  0.409930  0.004467  0.406321  0.408163  0.408163   \n",
       "0.5                     7.0  0.409372  0.002744  0.406321  0.408163  0.408163   \n",
       "0.6                     7.0  0.411562  0.005671  0.405405  0.408163  0.409091   \n",
       "0.7                     7.0  0.410099  0.004866  0.405405  0.406879  0.409091   \n",
       "0.8                     7.0  0.411988  0.005655  0.405405  0.408627  0.409091   \n",
       "0.9                     7.0  0.410402  0.007040  0.401848  0.405867  0.409091   \n",
       "\n",
       "                                    difference                                \\\n",
       "                      75%       max      count      mean       std       min   \n",
       "noise_magnitude                                                                \n",
       "0.2              0.408163  0.413953        7.0 -0.260464  0.002273 -0.262083   \n",
       "0.3              0.408163  0.410138        7.0 -0.261141  0.001103 -0.263002   \n",
       "0.4              0.409561  0.419580        7.0 -0.259392  0.004467 -0.263002   \n",
       "0.5              0.410025  0.414747        7.0 -0.259950  0.002744 -0.263002   \n",
       "0.6              0.414283  0.421546        7.0 -0.257761  0.005671 -0.263917   \n",
       "0.7              0.411919  0.418605        7.0 -0.259223  0.004866 -0.263917   \n",
       "0.8              0.415310  0.421546        7.0 -0.257335  0.005655 -0.263917   \n",
       "0.9              0.413802  0.422535        7.0 -0.258921  0.007040 -0.267475   \n",
       "\n",
       "                                                         \n",
       "                      25%       50%       75%       max  \n",
       "noise_magnitude                                          \n",
       "0.2             -0.261159 -0.261159 -0.261159 -0.255369  \n",
       "0.3             -0.261159 -0.261159 -0.261159 -0.259184  \n",
       "0.4             -0.261159 -0.261159 -0.259762 -0.249742  \n",
       "0.5             -0.261159 -0.261159 -0.259298 -0.254576  \n",
       "0.6             -0.261159 -0.260232 -0.255040 -0.247777  \n",
       "0.7             -0.262444 -0.260232 -0.257404 -0.250718  \n",
       "0.8             -0.260696 -0.260232 -0.254013 -0.247777  \n",
       "0.9             -0.263456 -0.260232 -0.255521 -0.246787  "
      ]
     },
     "execution_count": 28,
     "metadata": {},
     "output_type": "execute_result"
    }
   ],
   "source": [
    "corruption_validation.groupby(\"noise_magnitude\").describe()[[\"performance\", \"difference\"]]"
   ]
  },
  {
   "cell_type": "code",
   "execution_count": 29,
   "metadata": {},
   "outputs": [
    {
     "name": "stdout",
     "output_type": "stream",
     "text": [
      "                 Feature  Performance Drop\n",
      "2          cyclist_level          0.000000\n",
      "3     cyclist_experience          0.000000\n",
      "5       position_entropy          0.000000\n",
      "6         top_20_entropy          0.000000\n",
      "0            climb_total         -0.016807\n",
      "4  avg_relative_position         -0.093458\n",
      "1            cyclist_age         -0.172414\n"
     ]
    }
   ],
   "source": [
    "from lightgbm import LGBMClassifier\n",
    "from sklearn.metrics import classification_report\n",
    "\n",
    "# Define the metric to assess performance drop\n",
    "metric = \"f1-score\"\n",
    "\n",
    "# Initialize a list to store performance drops\n",
    "performance_drops = []\n",
    "\n",
    "# Get the original performance\n",
    "original_performance = classification_report(test_labels, gbm_model.predict(test_data), output_dict=True, zero_division=0)\n",
    "original_metric_value = original_performance[\"1\"][metric]\n",
    "\n",
    "# Iterate over each feature\n",
    "for feature in test_data.columns:\n",
    "    # Drop the feature from the training and test data\n",
    "    train_data_dropped = train_data.drop(columns=[feature])\n",
    "    test_data_dropped = test_data.drop(columns=[feature])\n",
    "    \n",
    "    # Train a new GBM model with the same parameters\n",
    "    gbm_model_dropped = LGBMClassifier(**gbm_model.get_params())\n",
    "    gbm_model_dropped.fit(train_data_dropped, train_labels.values.ravel())\n",
    "    \n",
    "    # Predict and assess performance\n",
    "    test_predictions_dropped = gbm_model_dropped.predict(test_data_dropped)\n",
    "    performance_dropped = classification_report(test_labels, test_predictions_dropped, output_dict=True, zero_division=0)\n",
    "    dropped_metric_value = performance_dropped[\"1\"][metric]\n",
    "    \n",
    "    # Calculate performance drop\n",
    "    performance_drop = original_metric_value - dropped_metric_value\n",
    "    performance_drops.append((feature, performance_drop))\n",
    "\n",
    "# Create a dataframe to store the results\n",
    "performance_drop_df = pd.DataFrame(performance_drops, columns=[\"Feature\", \"Performance Drop\"])\n",
    "performance_drop_df = performance_drop_df.sort_values(by=\"Performance Drop\", ascending=False)\n",
    "print(performance_drop_df)"
   ]
  },
  {
   "cell_type": "markdown",
   "metadata": {},
   "source": [
    "By removing one feature at a time, we observe a significant drop in the F1-score for class 1. This indicates that eliminating even a single feature from the training set substantially impacts overall performance, particularly the model's ability to balance its predictions. Specifically, it diminishes the model's effectiveness in handling class 1."
   ]
  },
  {
   "cell_type": "markdown",
   "metadata": {},
   "source": [
    "## **LORE**"
   ]
  },
  {
   "cell_type": "markdown",
   "metadata": {},
   "source": [
    "Support functions"
   ]
  },
  {
   "cell_type": "code",
   "execution_count": 30,
   "metadata": {},
   "outputs": [],
   "source": [
    "feature_indices = {\n",
    "    'climb_total': 0,\n",
    "    'cyclist_age': 1,\n",
    "    'cyclist_level': 2,\n",
    "    'cyclist_experience': 3,\n",
    "    'avg_relative_position': 4,\n",
    "    'position_entropy': 5,\n",
    "    'top_20_entropy': 6\n",
    "}\n",
    "\n",
    "def format_counterfactual_explanation(explanation):\n",
    "    formatted_explanation = []\n",
    "    for rule in explanation:\n",
    "        premises = \" AND \".join([f\"{condition['att']} {condition['op']} {(condition['thr']*scaler.scale_[feature_indices[condition[\"att\"]]]) + scaler.mean_[feature_indices[condition[\"att\"]]]}\" for condition in rule['premise']])\n",
    "        formatted_explanation.append(f\"IF {premises} THEN {rule['class_name']} = {rule['cons']}\")\n",
    "    return formatted_explanation\n",
    "\n",
    "def reverse_transform(record, var, mean):\n",
    "    return record * var + mean\n",
    "\n",
    "def normalize_premise(premise, feature_indices, scaler):\n",
    "    return {\n",
    "        'thr': reverse_transform(premise['thr'], scaler.scale_[feature_indices[premise[\"att\"]]], scaler.mean_[feature_indices[premise[\"att\"]]]),\n",
    "        'att': premise['att'],\n",
    "        'op': premise['op'],\n",
    "        'is_continuous': premise['is_continuous']\n",
    "    }\n",
    "\n",
    "def format_explanation(explanation):\n",
    "    explanation.expDict['rule']['premise'] = list(map(\n",
    "        lambda x: normalize_premise(x, feature_indices, scaler),\n",
    "        explanation.expDict['rule']['premise']\n",
    "    ))\n",
    "\n",
    "    explanation.expDict['crules'][0]['premise'] = list(map(\n",
    "        lambda x: normalize_premise(x, feature_indices, scaler),\n",
    "        explanation.expDict['crules'][0]['premise']\n",
    "    ))\n",
    "    \n",
    "    return explanation\n"
   ]
  },
  {
   "cell_type": "code",
   "execution_count": 31,
   "metadata": {},
   "outputs": [],
   "source": [
    "from xailib.explainers.lore_explainer import LoreTabularExplainer\n",
    "\n",
    "\n",
    "lore_explanation_algorithm = LoreTabularExplainer(gbm_model)\n",
    "configuration = {\n",
    "    \"neigh_type\": \"rndgen\",\n",
    "    \"size\": 1000,\n",
    "    \"ocr\": 0.1,\n",
    "    \"ngen\": 100\n",
    "}\n",
    "\n",
    "train_data = StandardScaler().fit_transform(train_data)\n",
    "train_data = pd.DataFrame(train_data, columns=train_df.drop(columns=columns_to_drop).columns)\n",
    "lore_train_data = pd.concat((train_data, train_labels), axis=\"columns\")\n",
    "lore_explanation_algorithm.fit(lore_train_data, \"top_20\", config=configuration)"
   ]
  },
  {
   "cell_type": "markdown",
   "metadata": {},
   "source": [
    "### Explaining a data from class 0, predicted as class 1"
   ]
  },
  {
   "cell_type": "code",
   "execution_count": 32,
   "metadata": {},
   "outputs": [
    {
     "name": "stdout",
     "output_type": "stream",
     "text": [
      "Indexes in training data with both test and predicted label being 1:\n",
      "[74, 75, 77, 82, 83, 85, 87, 91, 92, 93, 95, 96, 97, 98, 99, 102, 103, 104, 106, 108, 111, 112, 114, 116, 118, 119, 120, 122, 123, 125, 127, 130, 131, 134, 138, 139, 141, 142, 143, 144, 145, 146, 147, 148, 152, 153, 157, 158, 159, 160, 162, 163, 168, 169, 173, 174, 175, 177, 185, 186, 187, 190, 191, 193, 199, 200, 205, 206, 207, 208, 209, 210, 211, 214, 215, 218, 221, 222, 223, 224, 225, 226, 229, 261]\n"
     ]
    }
   ],
   "source": [
    "indexes = test_labels[(test_labels['top_20'] == 1) & test_prediction==1].index\n",
    "print(\"Indexes in training data with both test and predicted label being 1:\")\n",
    "print(indexes.tolist())"
   ]
  },
  {
   "cell_type": "code",
   "execution_count": 33,
   "metadata": {},
   "outputs": [
    {
     "ename": "KeyboardInterrupt",
     "evalue": "",
     "output_type": "error",
     "traceback": [
      "\u001b[1;31m---------------------------------------------------------------------------\u001b[0m",
      "\u001b[1;31mKeyboardInterrupt\u001b[0m                         Traceback (most recent call last)",
      "Cell \u001b[1;32mIn[33], line 1\u001b[0m\n\u001b[1;32m----> 1\u001b[0m explanation \u001b[38;5;241m=\u001b[39m \u001b[43mlore_explanation_algorithm\u001b[49m\u001b[38;5;241;43m.\u001b[39;49m\u001b[43mexplain\u001b[49m\u001b[43m(\u001b[49m\u001b[43mtrain_data\u001b[49m\u001b[38;5;241;43m.\u001b[39;49m\u001b[43miloc\u001b[49m\u001b[43m[\u001b[49m\u001b[38;5;241;43m32\u001b[39;49m\u001b[43m]\u001b[49m\u001b[38;5;241;43m.\u001b[39;49m\u001b[43mvalues\u001b[49m\u001b[43m)\u001b[49m\n\u001b[0;32m      2\u001b[0m explanation \u001b[38;5;241m=\u001b[39m format_explanation(explanation)\n",
      "File \u001b[1;32md:\\miniconda3\\envs\\HLT\\Lib\\site-packages\\xailib\\explainers\\lore_explainer.py:167\u001b[0m, in \u001b[0;36mLoreTabularExplainer.explain\u001b[1;34m(self, x)\u001b[0m\n\u001b[0;32m    166\u001b[0m \u001b[38;5;28;01mdef\u001b[39;00m \u001b[38;5;21mexplain\u001b[39m(\u001b[38;5;28mself\u001b[39m, x):\n\u001b[1;32m--> 167\u001b[0m     exp \u001b[38;5;241m=\u001b[39m \u001b[38;5;28;43mself\u001b[39;49m\u001b[38;5;241;43m.\u001b[39;49m\u001b[43mlore_explainer\u001b[49m\u001b[38;5;241;43m.\u001b[39;49m\u001b[43mexplain_instance\u001b[49m\u001b[43m(\u001b[49m\u001b[43mx\u001b[49m\u001b[43m,\u001b[49m\u001b[43m \u001b[49m\u001b[43msamples\u001b[49m\u001b[38;5;241;43m=\u001b[39;49m\u001b[38;5;241;43m1000\u001b[39;49m\u001b[43m,\u001b[49m\u001b[43m \u001b[49m\u001b[43muse_weights\u001b[49m\u001b[38;5;241;43m=\u001b[39;49m\u001b[38;5;28;43;01mTrue\u001b[39;49;00m\u001b[43m)\u001b[49m\n\u001b[0;32m    168\u001b[0m     \u001b[38;5;28;01mreturn\u001b[39;00m LoreTabularExplanation(exp)\n",
      "File \u001b[1;32md:\\miniconda3\\envs\\HLT\\Lib\\site-packages\\lore_explainer\\lorem.py:70\u001b[0m, in \u001b[0;36mLOREM.explain_instance\u001b[1;34m(self, x, samples, use_weights, metric)\u001b[0m\n\u001b[0;32m     68\u001b[0m     \u001b[38;5;28;01mif\u001b[39;00m \u001b[38;5;28mself\u001b[39m\u001b[38;5;241m.\u001b[39mverbose:\n\u001b[0;32m     69\u001b[0m         \u001b[38;5;28mprint\u001b[39m(\u001b[38;5;124m'\u001b[39m\u001b[38;5;124mgenerating neighborhood - \u001b[39m\u001b[38;5;132;01m%s\u001b[39;00m\u001b[38;5;124m'\u001b[39m \u001b[38;5;241m%\u001b[39m \u001b[38;5;28mself\u001b[39m\u001b[38;5;241m.\u001b[39mneigh_type)\n\u001b[1;32m---> 70\u001b[0m     Z \u001b[38;5;241m=\u001b[39m \u001b[38;5;28;43mself\u001b[39;49m\u001b[38;5;241;43m.\u001b[39;49m\u001b[43mneighgen_fn\u001b[49m\u001b[43m(\u001b[49m\u001b[43mx\u001b[49m\u001b[43m,\u001b[49m\u001b[43m \u001b[49m\u001b[43msamples\u001b[49m\u001b[43m)\u001b[49m\n\u001b[0;32m     71\u001b[0m \u001b[38;5;28;01melse\u001b[39;00m:\n\u001b[0;32m     72\u001b[0m     Z \u001b[38;5;241m=\u001b[39m samples\n",
      "File \u001b[1;32md:\\miniconda3\\envs\\HLT\\Lib\\site-packages\\lore_explainer\\neighgen.py:354\u001b[0m, in \u001b[0;36mRandomGeneticGenerator.generate\u001b[1;34m(self, x, num_samples)\u001b[0m\n\u001b[0;32m    353\u001b[0m \u001b[38;5;28;01mdef\u001b[39;00m \u001b[38;5;21mgenerate\u001b[39m(\u001b[38;5;28mself\u001b[39m, x, num_samples\u001b[38;5;241m=\u001b[39m\u001b[38;5;241m1000\u001b[39m):\n\u001b[1;32m--> 354\u001b[0m     Zg \u001b[38;5;241m=\u001b[39m \u001b[43mGeneticGenerator\u001b[49m\u001b[38;5;241;43m.\u001b[39;49m\u001b[43mgenerate\u001b[49m\u001b[43m(\u001b[49m\u001b[38;5;28;43mself\u001b[39;49m\u001b[43m,\u001b[49m\u001b[43m \u001b[49m\u001b[43mx\u001b[49m\u001b[43m,\u001b[49m\u001b[43m \u001b[49m\u001b[43mnum_samples\u001b[49m\u001b[43m \u001b[49m\u001b[38;5;241;43m/\u001b[39;49m\u001b[38;5;241;43m/\u001b[39;49m\u001b[43m \u001b[49m\u001b[38;5;241;43m2\u001b[39;49m\u001b[43m)\u001b[49m\n\u001b[0;32m    355\u001b[0m     Zr \u001b[38;5;241m=\u001b[39m RandomGenerator\u001b[38;5;241m.\u001b[39mgenerate(\u001b[38;5;28mself\u001b[39m, x, num_samples \u001b[38;5;241m/\u001b[39m\u001b[38;5;241m/\u001b[39m \u001b[38;5;241m2\u001b[39m)\n\u001b[0;32m    356\u001b[0m     Z \u001b[38;5;241m=\u001b[39m np\u001b[38;5;241m.\u001b[39mconcatenate((Zg, Zr[\u001b[38;5;241m1\u001b[39m:]), axis\u001b[38;5;241m=\u001b[39m\u001b[38;5;241m0\u001b[39m)\n",
      "File \u001b[1;32md:\\miniconda3\\envs\\HLT\\Lib\\site-packages\\lore_explainer\\neighgen.py:147\u001b[0m, in \u001b[0;36mGeneticGenerator.generate\u001b[1;34m(self, x, num_samples)\u001b[0m\n\u001b[0;32m    145\u001b[0m toolbox_noteq \u001b[38;5;241m=\u001b[39m \u001b[38;5;28mself\u001b[39m\u001b[38;5;241m.\u001b[39msetup_toolbox(x, \u001b[38;5;28mself\u001b[39m\u001b[38;5;241m.\u001b[39mfitness_notequal, num_samples_noteq)\n\u001b[0;32m    146\u001b[0m \u001b[38;5;66;03m# toolbox_noteq = self.setup_toolbox_noteq(x1, x1, self.fitness_notequal, num_samples_noteq)\u001b[39;00m\n\u001b[1;32m--> 147\u001b[0m population_noteq, halloffame_noteq, logbook_noteq \u001b[38;5;241m=\u001b[39m \u001b[38;5;28;43mself\u001b[39;49m\u001b[38;5;241;43m.\u001b[39;49m\u001b[43mfit\u001b[49m\u001b[43m(\u001b[49m\u001b[43mtoolbox_noteq\u001b[49m\u001b[43m,\u001b[49m\u001b[43m \u001b[49m\u001b[43mnum_samples_noteq\u001b[49m\u001b[43m)\u001b[49m\n\u001b[0;32m    148\u001b[0m Z_noteq \u001b[38;5;241m=\u001b[39m \u001b[38;5;28mself\u001b[39m\u001b[38;5;241m.\u001b[39madd_halloffame(population_noteq, halloffame_noteq)\n\u001b[0;32m    149\u001b[0m \u001b[38;5;66;03m# print(logbook_noteq)\u001b[39;00m\n",
      "File \u001b[1;32md:\\miniconda3\\envs\\HLT\\Lib\\site-packages\\lore_explainer\\neighgen.py:228\u001b[0m, in \u001b[0;36mGeneticGenerator.fit\u001b[1;34m(self, toolbox, population_size)\u001b[0m\n\u001b[0;32m    225\u001b[0m stats\u001b[38;5;241m.\u001b[39mregister(\u001b[38;5;124m\"\u001b[39m\u001b[38;5;124mmin\u001b[39m\u001b[38;5;124m\"\u001b[39m, np\u001b[38;5;241m.\u001b[39mmin)\n\u001b[0;32m    226\u001b[0m stats\u001b[38;5;241m.\u001b[39mregister(\u001b[38;5;124m\"\u001b[39m\u001b[38;5;124mmax\u001b[39m\u001b[38;5;124m\"\u001b[39m, np\u001b[38;5;241m.\u001b[39mmax)\n\u001b[1;32m--> 228\u001b[0m population, logbook \u001b[38;5;241m=\u001b[39m \u001b[43malgorithms\u001b[49m\u001b[38;5;241;43m.\u001b[39;49m\u001b[43meaSimple\u001b[49m\u001b[43m(\u001b[49m\u001b[43mpopulation\u001b[49m\u001b[43m,\u001b[49m\u001b[43m \u001b[49m\u001b[43mtoolbox\u001b[49m\u001b[43m,\u001b[49m\u001b[43m \u001b[49m\u001b[43mcxpb\u001b[49m\u001b[38;5;241;43m=\u001b[39;49m\u001b[38;5;28;43mself\u001b[39;49m\u001b[38;5;241;43m.\u001b[39;49m\u001b[43mcxpb\u001b[49m\u001b[43m,\u001b[49m\u001b[43m \u001b[49m\u001b[43mmutpb\u001b[49m\u001b[38;5;241;43m=\u001b[39;49m\u001b[38;5;28;43mself\u001b[39;49m\u001b[38;5;241;43m.\u001b[39;49m\u001b[43mmutpb\u001b[49m\u001b[43m,\u001b[49m\n\u001b[0;32m    229\u001b[0m \u001b[43m                                          \u001b[49m\u001b[43mngen\u001b[49m\u001b[38;5;241;43m=\u001b[39;49m\u001b[38;5;28;43mself\u001b[39;49m\u001b[38;5;241;43m.\u001b[39;49m\u001b[43mngen\u001b[49m\u001b[43m,\u001b[49m\u001b[43m \u001b[49m\u001b[43mstats\u001b[49m\u001b[38;5;241;43m=\u001b[39;49m\u001b[43mstats\u001b[49m\u001b[43m,\u001b[49m\u001b[43m \u001b[49m\u001b[43mhalloffame\u001b[49m\u001b[38;5;241;43m=\u001b[39;49m\u001b[43mhalloffame\u001b[49m\u001b[43m,\u001b[49m\n\u001b[0;32m    230\u001b[0m \u001b[43m                                          \u001b[49m\u001b[43mverbose\u001b[49m\u001b[38;5;241;43m=\u001b[39;49m\u001b[38;5;28;43mself\u001b[39;49m\u001b[38;5;241;43m.\u001b[39;49m\u001b[43mverbose\u001b[49m\u001b[43m)\u001b[49m\n\u001b[0;32m    232\u001b[0m \u001b[38;5;28;01mreturn\u001b[39;00m population, halloffame, logbook\n",
      "File \u001b[1;32md:\\miniconda3\\envs\\HLT\\Lib\\site-packages\\deap\\algorithms.py:173\u001b[0m, in \u001b[0;36meaSimple\u001b[1;34m(population, toolbox, cxpb, mutpb, ngen, stats, halloffame, verbose)\u001b[0m\n\u001b[0;32m    171\u001b[0m invalid_ind \u001b[38;5;241m=\u001b[39m [ind \u001b[38;5;28;01mfor\u001b[39;00m ind \u001b[38;5;129;01min\u001b[39;00m offspring \u001b[38;5;28;01mif\u001b[39;00m \u001b[38;5;129;01mnot\u001b[39;00m ind\u001b[38;5;241m.\u001b[39mfitness\u001b[38;5;241m.\u001b[39mvalid]\n\u001b[0;32m    172\u001b[0m fitnesses \u001b[38;5;241m=\u001b[39m toolbox\u001b[38;5;241m.\u001b[39mmap(toolbox\u001b[38;5;241m.\u001b[39mevaluate, invalid_ind)\n\u001b[1;32m--> 173\u001b[0m \u001b[38;5;28;01mfor\u001b[39;00m ind, fit \u001b[38;5;129;01min\u001b[39;00m \u001b[38;5;28mzip\u001b[39m(invalid_ind, fitnesses):\n\u001b[0;32m    174\u001b[0m     ind\u001b[38;5;241m.\u001b[39mfitness\u001b[38;5;241m.\u001b[39mvalues \u001b[38;5;241m=\u001b[39m fit\n\u001b[0;32m    176\u001b[0m \u001b[38;5;66;03m# Update the hall of fame with the generated individuals\u001b[39;00m\n",
      "File \u001b[1;32md:\\miniconda3\\envs\\HLT\\Lib\\site-packages\\lore_explainer\\neighgen.py:280\u001b[0m, in \u001b[0;36mGeneticGenerator.fitness_notequal\u001b[1;34m(self, x, x1)\u001b[0m\n\u001b[0;32m    278\u001b[0m y1 \u001b[38;5;241m=\u001b[39m \u001b[38;5;28mself\u001b[39m\u001b[38;5;241m.\u001b[39mbb_predict(x1\u001b[38;5;241m.\u001b[39mreshape(\u001b[38;5;241m1\u001b[39m, \u001b[38;5;241m-\u001b[39m\u001b[38;5;241m1\u001b[39m))[\u001b[38;5;241m0\u001b[39m]\n\u001b[0;32m    279\u001b[0m \u001b[38;5;28;01mif\u001b[39;00m (y\u001b[38;5;241m.\u001b[39mshape \u001b[38;5;241m==\u001b[39m ()):\n\u001b[1;32m--> 280\u001b[0m     y \u001b[38;5;241m=\u001b[39m \u001b[38;5;28;43mself\u001b[39;49m\u001b[38;5;241;43m.\u001b[39;49m\u001b[43mbb_predict\u001b[49m\u001b[43m(\u001b[49m\u001b[43mx\u001b[49m\u001b[38;5;241;43m.\u001b[39;49m\u001b[43mreshape\u001b[49m\u001b[43m(\u001b[49m\u001b[38;5;241;43m1\u001b[39;49m\u001b[43m,\u001b[49m\u001b[43m \u001b[49m\u001b[38;5;241;43m-\u001b[39;49m\u001b[38;5;241;43m1\u001b[39;49m\u001b[43m)\u001b[49m\u001b[43m)\u001b[49m\n\u001b[0;32m    281\u001b[0m \u001b[38;5;28;01mif\u001b[39;00m (y1\u001b[38;5;241m.\u001b[39mshape \u001b[38;5;241m==\u001b[39m ()):\n\u001b[0;32m    282\u001b[0m     y1 \u001b[38;5;241m=\u001b[39m \u001b[38;5;28mself\u001b[39m\u001b[38;5;241m.\u001b[39mbb_predict(x1\u001b[38;5;241m.\u001b[39mreshape(\u001b[38;5;241m1\u001b[39m, \u001b[38;5;241m-\u001b[39m\u001b[38;5;241m1\u001b[39m))\n",
      "File \u001b[1;32md:\\miniconda3\\envs\\HLT\\Lib\\site-packages\\lightgbm\\sklearn.py:1321\u001b[0m, in \u001b[0;36mLGBMClassifier.predict\u001b[1;34m(self, X, raw_score, start_iteration, num_iteration, pred_leaf, pred_contrib, validate_features, **kwargs)\u001b[0m\n\u001b[0;32m   1309\u001b[0m \u001b[38;5;28;01mdef\u001b[39;00m \u001b[38;5;21mpredict\u001b[39m(\n\u001b[0;32m   1310\u001b[0m     \u001b[38;5;28mself\u001b[39m,\n\u001b[0;32m   1311\u001b[0m     X: _LGBM_ScikitMatrixLike,\n\u001b[1;32m   (...)\u001b[0m\n\u001b[0;32m   1318\u001b[0m     \u001b[38;5;241m*\u001b[39m\u001b[38;5;241m*\u001b[39mkwargs: Any,\n\u001b[0;32m   1319\u001b[0m ):\n\u001b[0;32m   1320\u001b[0m \u001b[38;5;250m    \u001b[39m\u001b[38;5;124;03m\"\"\"Docstring is inherited from the LGBMModel.\"\"\"\u001b[39;00m\n\u001b[1;32m-> 1321\u001b[0m     result \u001b[38;5;241m=\u001b[39m \u001b[38;5;28;43mself\u001b[39;49m\u001b[38;5;241;43m.\u001b[39;49m\u001b[43mpredict_proba\u001b[49m\u001b[43m(\u001b[49m\n\u001b[0;32m   1322\u001b[0m \u001b[43m        \u001b[49m\u001b[43mX\u001b[49m\u001b[38;5;241;43m=\u001b[39;49m\u001b[43mX\u001b[49m\u001b[43m,\u001b[49m\n\u001b[0;32m   1323\u001b[0m \u001b[43m        \u001b[49m\u001b[43mraw_score\u001b[49m\u001b[38;5;241;43m=\u001b[39;49m\u001b[43mraw_score\u001b[49m\u001b[43m,\u001b[49m\n\u001b[0;32m   1324\u001b[0m \u001b[43m        \u001b[49m\u001b[43mstart_iteration\u001b[49m\u001b[38;5;241;43m=\u001b[39;49m\u001b[43mstart_iteration\u001b[49m\u001b[43m,\u001b[49m\n\u001b[0;32m   1325\u001b[0m \u001b[43m        \u001b[49m\u001b[43mnum_iteration\u001b[49m\u001b[38;5;241;43m=\u001b[39;49m\u001b[43mnum_iteration\u001b[49m\u001b[43m,\u001b[49m\n\u001b[0;32m   1326\u001b[0m \u001b[43m        \u001b[49m\u001b[43mpred_leaf\u001b[49m\u001b[38;5;241;43m=\u001b[39;49m\u001b[43mpred_leaf\u001b[49m\u001b[43m,\u001b[49m\n\u001b[0;32m   1327\u001b[0m \u001b[43m        \u001b[49m\u001b[43mpred_contrib\u001b[49m\u001b[38;5;241;43m=\u001b[39;49m\u001b[43mpred_contrib\u001b[49m\u001b[43m,\u001b[49m\n\u001b[0;32m   1328\u001b[0m \u001b[43m        \u001b[49m\u001b[43mvalidate_features\u001b[49m\u001b[38;5;241;43m=\u001b[39;49m\u001b[43mvalidate_features\u001b[49m\u001b[43m,\u001b[49m\n\u001b[0;32m   1329\u001b[0m \u001b[43m        \u001b[49m\u001b[38;5;241;43m*\u001b[39;49m\u001b[38;5;241;43m*\u001b[39;49m\u001b[43mkwargs\u001b[49m\u001b[43m,\u001b[49m\n\u001b[0;32m   1330\u001b[0m \u001b[43m    \u001b[49m\u001b[43m)\u001b[49m\n\u001b[0;32m   1331\u001b[0m     \u001b[38;5;28;01mif\u001b[39;00m \u001b[38;5;28mcallable\u001b[39m(\u001b[38;5;28mself\u001b[39m\u001b[38;5;241m.\u001b[39m_objective) \u001b[38;5;129;01mor\u001b[39;00m raw_score \u001b[38;5;129;01mor\u001b[39;00m pred_leaf \u001b[38;5;129;01mor\u001b[39;00m pred_contrib:\n\u001b[0;32m   1332\u001b[0m         \u001b[38;5;28;01mreturn\u001b[39;00m result\n",
      "File \u001b[1;32md:\\miniconda3\\envs\\HLT\\Lib\\site-packages\\lightgbm\\sklearn.py:1351\u001b[0m, in \u001b[0;36mLGBMClassifier.predict_proba\u001b[1;34m(self, X, raw_score, start_iteration, num_iteration, pred_leaf, pred_contrib, validate_features, **kwargs)\u001b[0m\n\u001b[0;32m   1339\u001b[0m \u001b[38;5;28;01mdef\u001b[39;00m \u001b[38;5;21mpredict_proba\u001b[39m(\n\u001b[0;32m   1340\u001b[0m     \u001b[38;5;28mself\u001b[39m,\n\u001b[0;32m   1341\u001b[0m     X: _LGBM_ScikitMatrixLike,\n\u001b[1;32m   (...)\u001b[0m\n\u001b[0;32m   1348\u001b[0m     \u001b[38;5;241m*\u001b[39m\u001b[38;5;241m*\u001b[39mkwargs: Any,\n\u001b[0;32m   1349\u001b[0m ):\n\u001b[0;32m   1350\u001b[0m \u001b[38;5;250m    \u001b[39m\u001b[38;5;124;03m\"\"\"Docstring is set after definition, using a template.\"\"\"\u001b[39;00m\n\u001b[1;32m-> 1351\u001b[0m     result \u001b[38;5;241m=\u001b[39m \u001b[38;5;28;43msuper\u001b[39;49m\u001b[43m(\u001b[49m\u001b[43m)\u001b[49m\u001b[38;5;241;43m.\u001b[39;49m\u001b[43mpredict\u001b[49m\u001b[43m(\u001b[49m\n\u001b[0;32m   1352\u001b[0m \u001b[43m        \u001b[49m\u001b[43mX\u001b[49m\u001b[38;5;241;43m=\u001b[39;49m\u001b[43mX\u001b[49m\u001b[43m,\u001b[49m\n\u001b[0;32m   1353\u001b[0m \u001b[43m        \u001b[49m\u001b[43mraw_score\u001b[49m\u001b[38;5;241;43m=\u001b[39;49m\u001b[43mraw_score\u001b[49m\u001b[43m,\u001b[49m\n\u001b[0;32m   1354\u001b[0m \u001b[43m        \u001b[49m\u001b[43mstart_iteration\u001b[49m\u001b[38;5;241;43m=\u001b[39;49m\u001b[43mstart_iteration\u001b[49m\u001b[43m,\u001b[49m\n\u001b[0;32m   1355\u001b[0m \u001b[43m        \u001b[49m\u001b[43mnum_iteration\u001b[49m\u001b[38;5;241;43m=\u001b[39;49m\u001b[43mnum_iteration\u001b[49m\u001b[43m,\u001b[49m\n\u001b[0;32m   1356\u001b[0m \u001b[43m        \u001b[49m\u001b[43mpred_leaf\u001b[49m\u001b[38;5;241;43m=\u001b[39;49m\u001b[43mpred_leaf\u001b[49m\u001b[43m,\u001b[49m\n\u001b[0;32m   1357\u001b[0m \u001b[43m        \u001b[49m\u001b[43mpred_contrib\u001b[49m\u001b[38;5;241;43m=\u001b[39;49m\u001b[43mpred_contrib\u001b[49m\u001b[43m,\u001b[49m\n\u001b[0;32m   1358\u001b[0m \u001b[43m        \u001b[49m\u001b[43mvalidate_features\u001b[49m\u001b[38;5;241;43m=\u001b[39;49m\u001b[43mvalidate_features\u001b[49m\u001b[43m,\u001b[49m\n\u001b[0;32m   1359\u001b[0m \u001b[43m        \u001b[49m\u001b[38;5;241;43m*\u001b[39;49m\u001b[38;5;241;43m*\u001b[39;49m\u001b[43mkwargs\u001b[49m\u001b[43m,\u001b[49m\n\u001b[0;32m   1360\u001b[0m \u001b[43m    \u001b[49m\u001b[43m)\u001b[49m\n\u001b[0;32m   1361\u001b[0m     \u001b[38;5;28;01mif\u001b[39;00m \u001b[38;5;28mcallable\u001b[39m(\u001b[38;5;28mself\u001b[39m\u001b[38;5;241m.\u001b[39m_objective) \u001b[38;5;129;01mand\u001b[39;00m \u001b[38;5;129;01mnot\u001b[39;00m (raw_score \u001b[38;5;129;01mor\u001b[39;00m pred_leaf \u001b[38;5;129;01mor\u001b[39;00m pred_contrib):\n\u001b[0;32m   1362\u001b[0m         _log_warning(\n\u001b[0;32m   1363\u001b[0m             \u001b[38;5;124m\"\u001b[39m\u001b[38;5;124mCannot compute class probabilities or labels \u001b[39m\u001b[38;5;124m\"\u001b[39m\n\u001b[0;32m   1364\u001b[0m             \u001b[38;5;124m\"\u001b[39m\u001b[38;5;124mdue to the usage of customized objective function.\u001b[39m\u001b[38;5;130;01m\\n\u001b[39;00m\u001b[38;5;124m\"\u001b[39m\n\u001b[0;32m   1365\u001b[0m             \u001b[38;5;124m\"\u001b[39m\u001b[38;5;124mReturning raw scores instead.\u001b[39m\u001b[38;5;124m\"\u001b[39m\n\u001b[0;32m   1366\u001b[0m         )\n",
      "File \u001b[1;32md:\\miniconda3\\envs\\HLT\\Lib\\site-packages\\lightgbm\\sklearn.py:1036\u001b[0m, in \u001b[0;36mLGBMModel.predict\u001b[1;34m(self, X, raw_score, start_iteration, num_iteration, pred_leaf, pred_contrib, validate_features, **kwargs)\u001b[0m\n\u001b[0;32m   1033\u001b[0m predict_params \u001b[38;5;241m=\u001b[39m _choose_param_value(\u001b[38;5;124m\"\u001b[39m\u001b[38;5;124mnum_threads\u001b[39m\u001b[38;5;124m\"\u001b[39m, predict_params, \u001b[38;5;28mself\u001b[39m\u001b[38;5;241m.\u001b[39mn_jobs)\n\u001b[0;32m   1034\u001b[0m predict_params[\u001b[38;5;124m\"\u001b[39m\u001b[38;5;124mnum_threads\u001b[39m\u001b[38;5;124m\"\u001b[39m] \u001b[38;5;241m=\u001b[39m \u001b[38;5;28mself\u001b[39m\u001b[38;5;241m.\u001b[39m_process_n_jobs(predict_params[\u001b[38;5;124m\"\u001b[39m\u001b[38;5;124mnum_threads\u001b[39m\u001b[38;5;124m\"\u001b[39m])\n\u001b[1;32m-> 1036\u001b[0m \u001b[38;5;28;01mreturn\u001b[39;00m \u001b[38;5;28;43mself\u001b[39;49m\u001b[38;5;241;43m.\u001b[39;49m\u001b[43m_Booster\u001b[49m\u001b[38;5;241;43m.\u001b[39;49m\u001b[43mpredict\u001b[49m\u001b[43m(\u001b[49m\u001b[43m  \u001b[49m\u001b[38;5;66;43;03m# type: ignore[union-attr]\u001b[39;49;00m\n\u001b[0;32m   1037\u001b[0m \u001b[43m    \u001b[49m\u001b[43mX\u001b[49m\u001b[43m,\u001b[49m\n\u001b[0;32m   1038\u001b[0m \u001b[43m    \u001b[49m\u001b[43mraw_score\u001b[49m\u001b[38;5;241;43m=\u001b[39;49m\u001b[43mraw_score\u001b[49m\u001b[43m,\u001b[49m\n\u001b[0;32m   1039\u001b[0m \u001b[43m    \u001b[49m\u001b[43mstart_iteration\u001b[49m\u001b[38;5;241;43m=\u001b[39;49m\u001b[43mstart_iteration\u001b[49m\u001b[43m,\u001b[49m\n\u001b[0;32m   1040\u001b[0m \u001b[43m    \u001b[49m\u001b[43mnum_iteration\u001b[49m\u001b[38;5;241;43m=\u001b[39;49m\u001b[43mnum_iteration\u001b[49m\u001b[43m,\u001b[49m\n\u001b[0;32m   1041\u001b[0m \u001b[43m    \u001b[49m\u001b[43mpred_leaf\u001b[49m\u001b[38;5;241;43m=\u001b[39;49m\u001b[43mpred_leaf\u001b[49m\u001b[43m,\u001b[49m\n\u001b[0;32m   1042\u001b[0m \u001b[43m    \u001b[49m\u001b[43mpred_contrib\u001b[49m\u001b[38;5;241;43m=\u001b[39;49m\u001b[43mpred_contrib\u001b[49m\u001b[43m,\u001b[49m\n\u001b[0;32m   1043\u001b[0m \u001b[43m    \u001b[49m\u001b[43mvalidate_features\u001b[49m\u001b[38;5;241;43m=\u001b[39;49m\u001b[43mvalidate_features\u001b[49m\u001b[43m,\u001b[49m\n\u001b[0;32m   1044\u001b[0m \u001b[43m    \u001b[49m\u001b[38;5;241;43m*\u001b[39;49m\u001b[38;5;241;43m*\u001b[39;49m\u001b[43mpredict_params\u001b[49m\u001b[43m,\u001b[49m\n\u001b[0;32m   1045\u001b[0m \u001b[43m\u001b[49m\u001b[43m)\u001b[49m\n",
      "File \u001b[1;32md:\\miniconda3\\envs\\HLT\\Lib\\site-packages\\lightgbm\\basic.py:4748\u001b[0m, in \u001b[0;36mBooster.predict\u001b[1;34m(self, data, start_iteration, num_iteration, raw_score, pred_leaf, pred_contrib, data_has_header, validate_features, **kwargs)\u001b[0m\n\u001b[0;32m   4746\u001b[0m     \u001b[38;5;28;01melse\u001b[39;00m:\n\u001b[0;32m   4747\u001b[0m         num_iteration \u001b[38;5;241m=\u001b[39m \u001b[38;5;241m-\u001b[39m\u001b[38;5;241m1\u001b[39m\n\u001b[1;32m-> 4748\u001b[0m \u001b[38;5;28;01mreturn\u001b[39;00m \u001b[43mpredictor\u001b[49m\u001b[38;5;241;43m.\u001b[39;49m\u001b[43mpredict\u001b[49m\u001b[43m(\u001b[49m\n\u001b[0;32m   4749\u001b[0m \u001b[43m    \u001b[49m\u001b[43mdata\u001b[49m\u001b[38;5;241;43m=\u001b[39;49m\u001b[43mdata\u001b[49m\u001b[43m,\u001b[49m\n\u001b[0;32m   4750\u001b[0m \u001b[43m    \u001b[49m\u001b[43mstart_iteration\u001b[49m\u001b[38;5;241;43m=\u001b[39;49m\u001b[43mstart_iteration\u001b[49m\u001b[43m,\u001b[49m\n\u001b[0;32m   4751\u001b[0m \u001b[43m    \u001b[49m\u001b[43mnum_iteration\u001b[49m\u001b[38;5;241;43m=\u001b[39;49m\u001b[43mnum_iteration\u001b[49m\u001b[43m,\u001b[49m\n\u001b[0;32m   4752\u001b[0m \u001b[43m    \u001b[49m\u001b[43mraw_score\u001b[49m\u001b[38;5;241;43m=\u001b[39;49m\u001b[43mraw_score\u001b[49m\u001b[43m,\u001b[49m\n\u001b[0;32m   4753\u001b[0m \u001b[43m    \u001b[49m\u001b[43mpred_leaf\u001b[49m\u001b[38;5;241;43m=\u001b[39;49m\u001b[43mpred_leaf\u001b[49m\u001b[43m,\u001b[49m\n\u001b[0;32m   4754\u001b[0m \u001b[43m    \u001b[49m\u001b[43mpred_contrib\u001b[49m\u001b[38;5;241;43m=\u001b[39;49m\u001b[43mpred_contrib\u001b[49m\u001b[43m,\u001b[49m\n\u001b[0;32m   4755\u001b[0m \u001b[43m    \u001b[49m\u001b[43mdata_has_header\u001b[49m\u001b[38;5;241;43m=\u001b[39;49m\u001b[43mdata_has_header\u001b[49m\u001b[43m,\u001b[49m\n\u001b[0;32m   4756\u001b[0m \u001b[43m    \u001b[49m\u001b[43mvalidate_features\u001b[49m\u001b[38;5;241;43m=\u001b[39;49m\u001b[43mvalidate_features\u001b[49m\u001b[43m,\u001b[49m\n\u001b[0;32m   4757\u001b[0m \u001b[43m\u001b[49m\u001b[43m)\u001b[49m\n",
      "File \u001b[1;32md:\\miniconda3\\envs\\HLT\\Lib\\site-packages\\lightgbm\\basic.py:1185\u001b[0m, in \u001b[0;36m_InnerPredictor.predict\u001b[1;34m(self, data, start_iteration, num_iteration, raw_score, pred_leaf, pred_contrib, data_has_header, validate_features)\u001b[0m\n\u001b[0;32m   1178\u001b[0m     preds, nrow \u001b[38;5;241m=\u001b[39m \u001b[38;5;28mself\u001b[39m\u001b[38;5;241m.\u001b[39m__pred_for_csc(\n\u001b[0;32m   1179\u001b[0m         csc\u001b[38;5;241m=\u001b[39mdata,\n\u001b[0;32m   1180\u001b[0m         start_iteration\u001b[38;5;241m=\u001b[39mstart_iteration,\n\u001b[0;32m   1181\u001b[0m         num_iteration\u001b[38;5;241m=\u001b[39mnum_iteration,\n\u001b[0;32m   1182\u001b[0m         predict_type\u001b[38;5;241m=\u001b[39mpredict_type,\n\u001b[0;32m   1183\u001b[0m     )\n\u001b[0;32m   1184\u001b[0m \u001b[38;5;28;01melif\u001b[39;00m \u001b[38;5;28misinstance\u001b[39m(data, np\u001b[38;5;241m.\u001b[39mndarray):\n\u001b[1;32m-> 1185\u001b[0m     preds, nrow \u001b[38;5;241m=\u001b[39m \u001b[38;5;28;43mself\u001b[39;49m\u001b[38;5;241;43m.\u001b[39;49m\u001b[43m__pred_for_np2d\u001b[49m\u001b[43m(\u001b[49m\n\u001b[0;32m   1186\u001b[0m \u001b[43m        \u001b[49m\u001b[43mmat\u001b[49m\u001b[38;5;241;43m=\u001b[39;49m\u001b[43mdata\u001b[49m\u001b[43m,\u001b[49m\n\u001b[0;32m   1187\u001b[0m \u001b[43m        \u001b[49m\u001b[43mstart_iteration\u001b[49m\u001b[38;5;241;43m=\u001b[39;49m\u001b[43mstart_iteration\u001b[49m\u001b[43m,\u001b[49m\n\u001b[0;32m   1188\u001b[0m \u001b[43m        \u001b[49m\u001b[43mnum_iteration\u001b[49m\u001b[38;5;241;43m=\u001b[39;49m\u001b[43mnum_iteration\u001b[49m\u001b[43m,\u001b[49m\n\u001b[0;32m   1189\u001b[0m \u001b[43m        \u001b[49m\u001b[43mpredict_type\u001b[49m\u001b[38;5;241;43m=\u001b[39;49m\u001b[43mpredict_type\u001b[49m\u001b[43m,\u001b[49m\n\u001b[0;32m   1190\u001b[0m \u001b[43m    \u001b[49m\u001b[43m)\u001b[49m\n\u001b[0;32m   1191\u001b[0m \u001b[38;5;28;01melif\u001b[39;00m _is_pyarrow_table(data):\n\u001b[0;32m   1192\u001b[0m     preds, nrow \u001b[38;5;241m=\u001b[39m \u001b[38;5;28mself\u001b[39m\u001b[38;5;241m.\u001b[39m__pred_for_pyarrow_table(\n\u001b[0;32m   1193\u001b[0m         table\u001b[38;5;241m=\u001b[39mdata,\n\u001b[0;32m   1194\u001b[0m         start_iteration\u001b[38;5;241m=\u001b[39mstart_iteration,\n\u001b[0;32m   1195\u001b[0m         num_iteration\u001b[38;5;241m=\u001b[39mnum_iteration,\n\u001b[0;32m   1196\u001b[0m         predict_type\u001b[38;5;241m=\u001b[39mpredict_type,\n\u001b[0;32m   1197\u001b[0m     )\n",
      "File \u001b[1;32md:\\miniconda3\\envs\\HLT\\Lib\\site-packages\\lightgbm\\basic.py:1344\u001b[0m, in \u001b[0;36m_InnerPredictor.__pred_for_np2d\u001b[1;34m(self, mat, start_iteration, num_iteration, predict_type)\u001b[0m\n\u001b[0;32m   1342\u001b[0m     \u001b[38;5;28;01mreturn\u001b[39;00m preds, nrow\n\u001b[0;32m   1343\u001b[0m \u001b[38;5;28;01melse\u001b[39;00m:\n\u001b[1;32m-> 1344\u001b[0m     \u001b[38;5;28;01mreturn\u001b[39;00m \u001b[38;5;28;43mself\u001b[39;49m\u001b[38;5;241;43m.\u001b[39;49m\u001b[43m__inner_predict_np2d\u001b[49m\u001b[43m(\u001b[49m\n\u001b[0;32m   1345\u001b[0m \u001b[43m        \u001b[49m\u001b[43mmat\u001b[49m\u001b[38;5;241;43m=\u001b[39;49m\u001b[43mmat\u001b[49m\u001b[43m,\u001b[49m\n\u001b[0;32m   1346\u001b[0m \u001b[43m        \u001b[49m\u001b[43mstart_iteration\u001b[49m\u001b[38;5;241;43m=\u001b[39;49m\u001b[43mstart_iteration\u001b[49m\u001b[43m,\u001b[49m\n\u001b[0;32m   1347\u001b[0m \u001b[43m        \u001b[49m\u001b[43mnum_iteration\u001b[49m\u001b[38;5;241;43m=\u001b[39;49m\u001b[43mnum_iteration\u001b[49m\u001b[43m,\u001b[49m\n\u001b[0;32m   1348\u001b[0m \u001b[43m        \u001b[49m\u001b[43mpredict_type\u001b[49m\u001b[38;5;241;43m=\u001b[39;49m\u001b[43mpredict_type\u001b[49m\u001b[43m,\u001b[49m\n\u001b[0;32m   1349\u001b[0m \u001b[43m        \u001b[49m\u001b[43mpreds\u001b[49m\u001b[38;5;241;43m=\u001b[39;49m\u001b[38;5;28;43;01mNone\u001b[39;49;00m\u001b[43m,\u001b[49m\n\u001b[0;32m   1350\u001b[0m \u001b[43m    \u001b[49m\u001b[43m)\u001b[49m\n",
      "File \u001b[1;32md:\\miniconda3\\envs\\HLT\\Lib\\site-packages\\lightgbm\\basic.py:1291\u001b[0m, in \u001b[0;36m_InnerPredictor.__inner_predict_np2d\u001b[1;34m(self, mat, start_iteration, num_iteration, predict_type, preds)\u001b[0m\n\u001b[0;32m   1288\u001b[0m     \u001b[38;5;28;01mraise\u001b[39;00m \u001b[38;5;167;01mValueError\u001b[39;00m(\u001b[38;5;124m\"\u001b[39m\u001b[38;5;124mWrong length of pre-allocated predict array\u001b[39m\u001b[38;5;124m\"\u001b[39m)\n\u001b[0;32m   1289\u001b[0m out_num_preds \u001b[38;5;241m=\u001b[39m ctypes\u001b[38;5;241m.\u001b[39mc_int64(\u001b[38;5;241m0\u001b[39m)\n\u001b[0;32m   1290\u001b[0m _safe_call(\n\u001b[1;32m-> 1291\u001b[0m     \u001b[43m_LIB\u001b[49m\u001b[38;5;241;43m.\u001b[39;49m\u001b[43mLGBM_BoosterPredictForMat\u001b[49m\u001b[43m(\u001b[49m\n\u001b[0;32m   1292\u001b[0m \u001b[43m        \u001b[49m\u001b[38;5;28;43mself\u001b[39;49m\u001b[38;5;241;43m.\u001b[39;49m\u001b[43m_handle\u001b[49m\u001b[43m,\u001b[49m\n\u001b[0;32m   1293\u001b[0m \u001b[43m        \u001b[49m\u001b[43mptr_data\u001b[49m\u001b[43m,\u001b[49m\n\u001b[0;32m   1294\u001b[0m \u001b[43m        \u001b[49m\u001b[43mctypes\u001b[49m\u001b[38;5;241;43m.\u001b[39;49m\u001b[43mc_int\u001b[49m\u001b[43m(\u001b[49m\u001b[43mtype_ptr_data\u001b[49m\u001b[43m)\u001b[49m\u001b[43m,\u001b[49m\n\u001b[0;32m   1295\u001b[0m \u001b[43m        \u001b[49m\u001b[43mctypes\u001b[49m\u001b[38;5;241;43m.\u001b[39;49m\u001b[43mc_int32\u001b[49m\u001b[43m(\u001b[49m\u001b[43mmat\u001b[49m\u001b[38;5;241;43m.\u001b[39;49m\u001b[43mshape\u001b[49m\u001b[43m[\u001b[49m\u001b[38;5;241;43m0\u001b[39;49m\u001b[43m]\u001b[49m\u001b[43m)\u001b[49m\u001b[43m,\u001b[49m\n\u001b[0;32m   1296\u001b[0m \u001b[43m        \u001b[49m\u001b[43mctypes\u001b[49m\u001b[38;5;241;43m.\u001b[39;49m\u001b[43mc_int32\u001b[49m\u001b[43m(\u001b[49m\u001b[43mmat\u001b[49m\u001b[38;5;241;43m.\u001b[39;49m\u001b[43mshape\u001b[49m\u001b[43m[\u001b[49m\u001b[38;5;241;43m1\u001b[39;49m\u001b[43m]\u001b[49m\u001b[43m)\u001b[49m\u001b[43m,\u001b[49m\n\u001b[0;32m   1297\u001b[0m \u001b[43m        \u001b[49m\u001b[43mctypes\u001b[49m\u001b[38;5;241;43m.\u001b[39;49m\u001b[43mc_int\u001b[49m\u001b[43m(\u001b[49m\u001b[43m_C_API_IS_ROW_MAJOR\u001b[49m\u001b[43m)\u001b[49m\u001b[43m,\u001b[49m\n\u001b[0;32m   1298\u001b[0m \u001b[43m        \u001b[49m\u001b[43mctypes\u001b[49m\u001b[38;5;241;43m.\u001b[39;49m\u001b[43mc_int\u001b[49m\u001b[43m(\u001b[49m\u001b[43mpredict_type\u001b[49m\u001b[43m)\u001b[49m\u001b[43m,\u001b[49m\n\u001b[0;32m   1299\u001b[0m \u001b[43m        \u001b[49m\u001b[43mctypes\u001b[49m\u001b[38;5;241;43m.\u001b[39;49m\u001b[43mc_int\u001b[49m\u001b[43m(\u001b[49m\u001b[43mstart_iteration\u001b[49m\u001b[43m)\u001b[49m\u001b[43m,\u001b[49m\n\u001b[0;32m   1300\u001b[0m \u001b[43m        \u001b[49m\u001b[43mctypes\u001b[49m\u001b[38;5;241;43m.\u001b[39;49m\u001b[43mc_int\u001b[49m\u001b[43m(\u001b[49m\u001b[43mnum_iteration\u001b[49m\u001b[43m)\u001b[49m\u001b[43m,\u001b[49m\n\u001b[0;32m   1301\u001b[0m \u001b[43m        \u001b[49m\u001b[43m_c_str\u001b[49m\u001b[43m(\u001b[49m\u001b[38;5;28;43mself\u001b[39;49m\u001b[38;5;241;43m.\u001b[39;49m\u001b[43mpred_parameter\u001b[49m\u001b[43m)\u001b[49m\u001b[43m,\u001b[49m\n\u001b[0;32m   1302\u001b[0m \u001b[43m        \u001b[49m\u001b[43mctypes\u001b[49m\u001b[38;5;241;43m.\u001b[39;49m\u001b[43mbyref\u001b[49m\u001b[43m(\u001b[49m\u001b[43mout_num_preds\u001b[49m\u001b[43m)\u001b[49m\u001b[43m,\u001b[49m\n\u001b[0;32m   1303\u001b[0m \u001b[43m        \u001b[49m\u001b[43mpreds\u001b[49m\u001b[38;5;241;43m.\u001b[39;49m\u001b[43mctypes\u001b[49m\u001b[38;5;241;43m.\u001b[39;49m\u001b[43mdata_as\u001b[49m\u001b[43m(\u001b[49m\u001b[43mctypes\u001b[49m\u001b[38;5;241;43m.\u001b[39;49m\u001b[43mPOINTER\u001b[49m\u001b[43m(\u001b[49m\u001b[43mctypes\u001b[49m\u001b[38;5;241;43m.\u001b[39;49m\u001b[43mc_double\u001b[49m\u001b[43m)\u001b[49m\u001b[43m)\u001b[49m\u001b[43m,\u001b[49m\n\u001b[0;32m   1304\u001b[0m \u001b[43m    \u001b[49m\u001b[43m)\u001b[49m\n\u001b[0;32m   1305\u001b[0m )\n\u001b[0;32m   1306\u001b[0m \u001b[38;5;28;01mif\u001b[39;00m n_preds \u001b[38;5;241m!=\u001b[39m out_num_preds\u001b[38;5;241m.\u001b[39mvalue:\n\u001b[0;32m   1307\u001b[0m     \u001b[38;5;28;01mraise\u001b[39;00m \u001b[38;5;167;01mValueError\u001b[39;00m(\u001b[38;5;124m\"\u001b[39m\u001b[38;5;124mWrong length for predict results\u001b[39m\u001b[38;5;124m\"\u001b[39m)\n",
      "\u001b[1;31mKeyboardInterrupt\u001b[0m: "
     ]
    }
   ],
   "source": [
    "explanation = lore_explanation_algorithm.explain(train_data.iloc[32].values)\n",
    "explanation = format_explanation(explanation)"
   ]
  },
  {
   "cell_type": "markdown",
   "metadata": {},
   "source": [
    "Extracting rules from the tree"
   ]
  },
  {
   "cell_type": "code",
   "execution_count": 34,
   "metadata": {},
   "outputs": [
    {
     "data": {
      "text/html": [
       "\n",
       "                <style>\n",
       "                .red {\n",
       "                background-color:firebrick;\n",
       "                padding:3px 5px 3px 5px;\n",
       "                border-radius:5px;\n",
       "\n",
       "                color:white;\n",
       "                }\n",
       "                .rules{\n",
       "                    margin-top:10px;\n",
       "                    font-weight: 400;\n",
       "                }\n",
       "                .rule{\n",
       "                padding:5px 20px 5px 20px;\n",
       "                border-radius:5px;\n",
       "                margin-right:5px;\n",
       "                font-size:12px;\n",
       "                line-height:20px;\n",
       "                display: block;\n",
       "                margin-bottom: 10px;\n",
       "                width: fit-content;\n",
       "                \n",
       "                color:white;\n",
       "                background-color:firebrick;\n",
       "                opacity:0.8;\n",
       "                }\n",
       "                </style>\n",
       "                "
      ],
      "text/plain": [
       "<IPython.core.display.HTML object>"
      ]
     },
     "metadata": {},
     "output_type": "display_data"
    },
    {
     "data": {
      "text/html": [
       "\n",
       "            <h3>Why the predicted value for class <span class='red'>top_20</span> is <span class='red'>1</span> ?</h3>\n",
       "            "
      ],
      "text/plain": [
       "<IPython.core.display.HTML object>"
      ]
     },
     "metadata": {},
     "output_type": "display_data"
    },
    {
     "data": {
      "text/html": [
       "\n",
       "            <p>Because all the following conditions happen:</p>\n",
       "            "
      ],
      "text/plain": [
       "<IPython.core.display.HTML object>"
      ]
     },
     "metadata": {},
     "output_type": "display_data"
    },
    {
     "data": {
      "text/html": [
       "<p class='rules'><span class='rule'>cyclist age <strong><=</strong> 31.38</span><span class='rule'>cyclist age <strong>></strong> 24.92</span><span class='rule'>avg relative position <strong><=</strong> 0.71</span><span class='rule'>avg relative position <strong>></strong> 0.38</span><span class='rule'>top 20 entropy <strong><=</strong> 1.07</span><span class='rule'>top 20 entropy <strong>></strong> 0.42</span><span class='rule'>climb total <strong><=</strong> 3.48</span><span class='rule'>cyclist level <strong>></strong> -1526.67</span></p>"
      ],
      "text/plain": [
       "<IPython.core.display.HTML object>"
      ]
     },
     "metadata": {},
     "output_type": "display_data"
    }
   ],
   "source": [
    "rule = explanation.plotRules()"
   ]
  },
  {
   "cell_type": "markdown",
   "metadata": {},
   "source": [
    "Extracting counterfactual rules from the tree"
   ]
  },
  {
   "cell_type": "code",
   "execution_count": 35,
   "metadata": {},
   "outputs": [
    {
     "data": {
      "text/html": [
       "\n",
       "                <style>\n",
       "                .red {\n",
       "                background-color:firebrick;\n",
       "                padding:3px 5px 3px 5px;\n",
       "                border-radius:5px;\n",
       "                color:white;\n",
       "                }\n",
       "                .crules{\n",
       "                    margin-top:10px;\n",
       "                    font-weight: 400;\n",
       "                }\n",
       "                .crule{            \n",
       "                padding:5px 20px 5px 20px;\n",
       "                border-radius:5px;\n",
       "                margin-right:5px;\n",
       "                font-size:12px;\n",
       "                line-height:20px;\n",
       "                display: block;\n",
       "                margin-bottom: 10px;\n",
       "                width: fit-content;\n",
       "                \n",
       "                color:#202020;\n",
       "                background-color:gold;\n",
       "                }\n",
       "                </style>\n",
       "                "
      ],
      "text/plain": [
       "<IPython.core.display.HTML object>"
      ]
     },
     "metadata": {},
     "output_type": "display_data"
    },
    {
     "data": {
      "text/html": [
       "\n",
       "            <h3>The predicted value for class <span class='red'>top_20</span> is <span class='red'>1</span>.</h3>\n",
       "            <h3>It would have been:</h3>\n",
       "            "
      ],
      "text/plain": [
       "<IPython.core.display.HTML object>"
      ]
     },
     "metadata": {},
     "output_type": "display_data"
    },
    {
     "data": {
      "text/html": [
       "\n",
       "                <div class='crules'>\n",
       "                    <div>\n",
       "                        <h4><span class='red'>0</span> if the following condition holds</h4>\n",
       "                    </br><span class='crule'>cyclist age <= 21.37</span>\n",
       "                    </div>\n",
       "                </div>\n",
       "            "
      ],
      "text/plain": [
       "<IPython.core.display.HTML object>"
      ]
     },
     "metadata": {},
     "output_type": "display_data"
    },
    {
     "data": {
      "text/html": [
       "\n",
       "                <div class='crules'>\n",
       "                    <div>\n",
       "                        <h4><span class='red'>0</span> if the following condition holds</h4>\n",
       "                    </br><span class='crule'>cyclist age > 1.88</span><span class='crule'>top 20 entropy <= 1.41</span><span class='crule'>position entropy > -1.01</span><span class='crule'>avg relative position > -0.95</span>\n",
       "                    </div>\n",
       "                </div>\n",
       "            "
      ],
      "text/plain": [
       "<IPython.core.display.HTML object>"
      ]
     },
     "metadata": {},
     "output_type": "display_data"
    }
   ],
   "source": [
    "rule = explanation.plotCounterfactualRules()"
   ]
  },
  {
   "cell_type": "markdown",
   "metadata": {},
   "source": [
    "Local Fidelity (accuracy of the model w.r.t. the model, computed on the generated neighborhood)"
   ]
  },
  {
   "cell_type": "code",
   "execution_count": 36,
   "metadata": {},
   "outputs": [
    {
     "data": {
      "text/plain": [
       "0.9786055883827756"
      ]
     },
     "execution_count": 36,
     "metadata": {},
     "output_type": "execute_result"
    }
   ],
   "source": [
    "explanation.expDict[\"fidelity\"]"
   ]
  },
  {
   "cell_type": "markdown",
   "metadata": {},
   "source": [
    "### Explaining a data from class 0, predicted as class 0"
   ]
  },
  {
   "cell_type": "code",
   "execution_count": 37,
   "metadata": {},
   "outputs": [
    {
     "name": "stdout",
     "output_type": "stream",
     "text": [
      "Indexes in training data with both test and predicted label being 0:\n",
      "[1, 2, 3, 4, 5, 6, 8, 9, 10, 11, 12, 13, 14, 15, 16, 17, 19, 21, 22, 23, 24, 25, 26, 27, 29, 30, 33, 34, 35, 36, 37, 38, 39, 40, 42, 43, 45, 46, 48, 49, 50, 51, 52, 54, 55, 56, 57, 58, 59, 60, 61, 63, 64, 65, 66, 67, 68, 69, 70, 71, 72, 74, 75, 76, 77, 78, 79, 80, 81, 83, 84, 85, 86, 87, 88, 90, 91, 93, 94, 95, 96, 97, 98, 99, 101, 102, 103, 104, 105, 106, 107, 110, 111, 112, 113, 114, 115, 117, 119, 120, 121, 122, 124, 125, 126, 127, 128, 129, 130, 131, 132, 133, 134, 136, 137, 139, 140, 141, 143, 144, 145, 147, 148, 149, 150, 153, 154, 157, 158, 159, 160, 161, 162, 163, 165, 166, 167, 168, 169, 170, 171, 174, 175, 176, 177, 178, 179, 180, 181, 182, 184, 186, 188, 190, 192, 193, 195, 196, 197, 198, 199, 200, 201, 202, 203, 204, 205, 206, 207, 208, 209, 211, 213, 214, 215, 216, 217, 218, 219, 220, 221, 222, 223, 224, 225, 226, 227, 228, 229, 230, 231, 232, 233, 234, 235, 236, 237, 238, 239, 240, 241, 242, 244, 246, 247, 248, 249, 250, 252, 254, 255, 257, 258, 259, 260, 261, 262, 263, 264, 265, 266, 267, 268, 269, 270, 272, 273, 274, 275, 276, 277, 278, 279, 280, 281, 282, 283, 284, 285, 286, 287, 288, 290, 291, 292, 293, 294, 296, 297, 298, 299, 300, 301, 302, 303, 305, 306, 311, 313, 315, 318, 320, 321, 322, 323, 324, 325, 326, 327, 328, 329, 330, 331, 332, 333, 334, 335, 336, 337, 338, 340, 341, 342, 343, 345, 347, 348, 350, 353, 355, 356, 357, 358, 359, 360, 361, 362, 364, 365, 366, 367, 368, 369, 370, 372, 374, 375, 376, 378, 379, 380, 382, 383, 384, 385, 386, 387, 388, 389, 390, 391, 392, 393, 394, 395, 396, 397, 399]\n",
      "Indexes with cyclist_age < 21:\n",
      "[356]\n"
     ]
    }
   ],
   "source": [
    "indexes = test_labels[(test_labels['top_20'] == 0) & test_prediction==0].index\n",
    "print(\"Indexes in training data with both test and predicted label being 0:\")\n",
    "print(indexes.tolist())\n",
    "young_cyclists_indexes = test_data.loc[indexes][test_data['cyclist_age'] < 21].index\n",
    "print(\"Indexes with cyclist_age < 21:\")\n",
    "print(young_cyclists_indexes.tolist())"
   ]
  },
  {
   "cell_type": "code",
   "execution_count": 38,
   "metadata": {},
   "outputs": [],
   "source": [
    "explanation = lore_explanation_algorithm.explain(train_data.iloc[399].values)\n",
    "explanation = format_explanation(explanation)"
   ]
  },
  {
   "cell_type": "markdown",
   "metadata": {},
   "source": [
    "Extracting rules from the tree"
   ]
  },
  {
   "cell_type": "code",
   "execution_count": 39,
   "metadata": {},
   "outputs": [
    {
     "data": {
      "text/html": [
       "\n",
       "                <style>\n",
       "                .red {\n",
       "                background-color:firebrick;\n",
       "                padding:3px 5px 3px 5px;\n",
       "                border-radius:5px;\n",
       "\n",
       "                color:white;\n",
       "                }\n",
       "                .rules{\n",
       "                    margin-top:10px;\n",
       "                    font-weight: 400;\n",
       "                }\n",
       "                .rule{\n",
       "                padding:5px 20px 5px 20px;\n",
       "                border-radius:5px;\n",
       "                margin-right:5px;\n",
       "                font-size:12px;\n",
       "                line-height:20px;\n",
       "                display: block;\n",
       "                margin-bottom: 10px;\n",
       "                width: fit-content;\n",
       "                \n",
       "                color:white;\n",
       "                background-color:firebrick;\n",
       "                opacity:0.8;\n",
       "                }\n",
       "                </style>\n",
       "                "
      ],
      "text/plain": [
       "<IPython.core.display.HTML object>"
      ]
     },
     "metadata": {},
     "output_type": "display_data"
    },
    {
     "data": {
      "text/html": [
       "\n",
       "            <h3>Why the predicted value for class <span class='red'>top_20</span> is <span class='red'>1</span> ?</h3>\n",
       "            "
      ],
      "text/plain": [
       "<IPython.core.display.HTML object>"
      ]
     },
     "metadata": {},
     "output_type": "display_data"
    },
    {
     "data": {
      "text/html": [
       "\n",
       "            <p>Because all the following conditions happen:</p>\n",
       "            "
      ],
      "text/plain": [
       "<IPython.core.display.HTML object>"
      ]
     },
     "metadata": {},
     "output_type": "display_data"
    },
    {
     "data": {
      "text/html": [
       "<p class='rules'><span class='rule'>climb total <strong><=</strong> 3.70</span><span class='rule'>climb total <strong>></strong> -0.41</span><span class='rule'>cyclist age <strong><=</strong> 25.86</span><span class='rule'>cyclist age <strong>></strong> 21.54</span><span class='rule'>avg relative position <strong><=</strong> 0.83</span><span class='rule'>top 20 entropy <strong><=</strong> 1.20</span><span class='rule'>top 20 entropy <strong>></strong> 0.03</span><span class='rule'>position entropy <strong><=</strong> 9.31</span></p>"
      ],
      "text/plain": [
       "<IPython.core.display.HTML object>"
      ]
     },
     "metadata": {},
     "output_type": "display_data"
    }
   ],
   "source": [
    "rule = explanation.plotRules()"
   ]
  },
  {
   "cell_type": "markdown",
   "metadata": {},
   "source": [
    "Extracting counterfactual rules from the tree"
   ]
  },
  {
   "cell_type": "code",
   "execution_count": 40,
   "metadata": {},
   "outputs": [
    {
     "data": {
      "text/html": [
       "\n",
       "                <style>\n",
       "                .red {\n",
       "                background-color:firebrick;\n",
       "                padding:3px 5px 3px 5px;\n",
       "                border-radius:5px;\n",
       "                color:white;\n",
       "                }\n",
       "                .crules{\n",
       "                    margin-top:10px;\n",
       "                    font-weight: 400;\n",
       "                }\n",
       "                .crule{            \n",
       "                padding:5px 20px 5px 20px;\n",
       "                border-radius:5px;\n",
       "                margin-right:5px;\n",
       "                font-size:12px;\n",
       "                line-height:20px;\n",
       "                display: block;\n",
       "                margin-bottom: 10px;\n",
       "                width: fit-content;\n",
       "                \n",
       "                color:#202020;\n",
       "                background-color:gold;\n",
       "                }\n",
       "                </style>\n",
       "                "
      ],
      "text/plain": [
       "<IPython.core.display.HTML object>"
      ]
     },
     "metadata": {},
     "output_type": "display_data"
    },
    {
     "data": {
      "text/html": [
       "\n",
       "            <h3>The predicted value for class <span class='red'>top_20</span> is <span class='red'>1</span>.</h3>\n",
       "            <h3>It would have been:</h3>\n",
       "            "
      ],
      "text/plain": [
       "<IPython.core.display.HTML object>"
      ]
     },
     "metadata": {},
     "output_type": "display_data"
    },
    {
     "data": {
      "text/html": [
       "\n",
       "                <div class='crules'>\n",
       "                    <div>\n",
       "                        <h4><span class='red'>0</span> if the following condition holds</h4>\n",
       "                    </br><span class='crule'>climb total <= 3.70</span><span class='crule'>cyclist age > 37.02</span><span class='crule'>top 20 entropy <= 0.93</span><span class='crule'>avg relative position > 0.37</span>\n",
       "                    </div>\n",
       "                </div>\n",
       "            "
      ],
      "text/plain": [
       "<IPython.core.display.HTML object>"
      ]
     },
     "metadata": {},
     "output_type": "display_data"
    }
   ],
   "source": [
    "rule = explanation.plotCounterfactualRules()"
   ]
  },
  {
   "cell_type": "markdown",
   "metadata": {},
   "source": [
    "Local Fidelity (accuracy of the model w.r.t. the model, computed on the generated neighborhood)"
   ]
  },
  {
   "cell_type": "code",
   "execution_count": 41,
   "metadata": {},
   "outputs": [
    {
     "data": {
      "text/plain": [
       "0.9836919334568681"
      ]
     },
     "execution_count": 41,
     "metadata": {},
     "output_type": "execute_result"
    }
   ],
   "source": [
    "explanation.expDict[\"fidelity\"]"
   ]
  },
  {
   "cell_type": "markdown",
   "metadata": {},
   "source": [
    "## **LIME**"
   ]
  },
  {
   "cell_type": "code",
   "execution_count": 34,
   "metadata": {},
   "outputs": [],
   "source": [
    "from interpret import set_visualize_provider\n",
    "from interpret.provider import InlineProvider\n",
    "from interpret import show\n",
    "from tqdm import tqdm\n",
    "\n",
    "\n",
    "set_visualize_provider(InlineProvider())"
   ]
  },
  {
   "cell_type": "code",
   "execution_count": 35,
   "metadata": {},
   "outputs": [
    {
     "name": "stdout",
     "output_type": "stream",
     "text": [
      "Index(['_url', 'name', 'cyclist', 'cyclist_team', 'duration'], dtype='object')\n"
     ]
    }
   ],
   "source": [
    "non_numeric_features = train_df.select_dtypes(include=['object']).columns\n",
    "print(non_numeric_features)"
   ]
  },
  {
   "cell_type": "markdown",
   "metadata": {},
   "source": [
    "Only numerical features are taken"
   ]
  },
  {
   "cell_type": "code",
   "execution_count": 36,
   "metadata": {},
   "outputs": [],
   "source": [
    "train_data = train_data.select_dtypes(include=[np.number])  "
   ]
  },
  {
   "cell_type": "code",
   "execution_count": 37,
   "metadata": {},
   "outputs": [
    {
     "name": "stderr",
     "output_type": "stream",
     "text": [
      "100%|██████████| 400/400 [00:00<00:00, 199776.33it/s]\n"
     ]
    }
   ],
   "source": [
    "from interpret.blackbox import LimeTabular\n",
    "explanations = dict()\n",
    "\n",
    "train_data_norm = pd.DataFrame(scaler.transform(train_data), columns=train_data.columns)\n",
    "\n",
    "lime_explanation_algorithm = LimeTabular(best_model, train_data_norm)\n",
    "explanations[\"lime\"] = np.array([np.array(e[\"scores\"])\n",
    "                                 for e in tqdm(lime_explanation_algorithm.explain_local(train_data_norm, train_labels)._internal_obj[\"specific\"])])"
   ]
  },
  {
   "cell_type": "code",
   "execution_count": 38,
   "metadata": {},
   "outputs": [
    {
     "data": {
      "text/html": [
       "<div>\n",
       "<style scoped>\n",
       "    .dataframe tbody tr th:only-of-type {\n",
       "        vertical-align: middle;\n",
       "    }\n",
       "\n",
       "    .dataframe tbody tr th {\n",
       "        vertical-align: top;\n",
       "    }\n",
       "\n",
       "    .dataframe thead th {\n",
       "        text-align: right;\n",
       "    }\n",
       "</style>\n",
       "<table border=\"1\" class=\"dataframe\">\n",
       "  <thead>\n",
       "    <tr style=\"text-align: right;\">\n",
       "      <th></th>\n",
       "      <th>feature</th>\n",
       "      <th>noise_magnitude</th>\n",
       "      <th>performance</th>\n",
       "      <th>algorithm</th>\n",
       "      <th>difference</th>\n",
       "    </tr>\n",
       "  </thead>\n",
       "  <tbody>\n",
       "    <tr>\n",
       "      <th>0</th>\n",
       "      <td>avg_relative_position</td>\n",
       "      <td>0.2</td>\n",
       "      <td>0.303397</td>\n",
       "      <td>lime</td>\n",
       "      <td>-0.505033</td>\n",
       "    </tr>\n",
       "    <tr>\n",
       "      <th>1</th>\n",
       "      <td>avg_relative_position</td>\n",
       "      <td>0.3</td>\n",
       "      <td>0.303397</td>\n",
       "      <td>lime</td>\n",
       "      <td>-0.505033</td>\n",
       "    </tr>\n",
       "    <tr>\n",
       "      <th>2</th>\n",
       "      <td>avg_relative_position</td>\n",
       "      <td>0.4</td>\n",
       "      <td>0.303397</td>\n",
       "      <td>lime</td>\n",
       "      <td>-0.505033</td>\n",
       "    </tr>\n",
       "    <tr>\n",
       "      <th>3</th>\n",
       "      <td>avg_relative_position</td>\n",
       "      <td>0.5</td>\n",
       "      <td>0.303397</td>\n",
       "      <td>lime</td>\n",
       "      <td>-0.505033</td>\n",
       "    </tr>\n",
       "    <tr>\n",
       "      <th>4</th>\n",
       "      <td>avg_relative_position</td>\n",
       "      <td>0.6</td>\n",
       "      <td>0.307323</td>\n",
       "      <td>lime</td>\n",
       "      <td>-0.501107</td>\n",
       "    </tr>\n",
       "    <tr>\n",
       "      <th>5</th>\n",
       "      <td>avg_relative_position</td>\n",
       "      <td>0.7</td>\n",
       "      <td>0.307323</td>\n",
       "      <td>lime</td>\n",
       "      <td>-0.501107</td>\n",
       "    </tr>\n",
       "    <tr>\n",
       "      <th>6</th>\n",
       "      <td>avg_relative_position</td>\n",
       "      <td>0.8</td>\n",
       "      <td>0.307323</td>\n",
       "      <td>lime</td>\n",
       "      <td>-0.501107</td>\n",
       "    </tr>\n",
       "    <tr>\n",
       "      <th>7</th>\n",
       "      <td>avg_relative_position</td>\n",
       "      <td>0.9</td>\n",
       "      <td>0.318986</td>\n",
       "      <td>lime</td>\n",
       "      <td>-0.489444</td>\n",
       "    </tr>\n",
       "    <tr>\n",
       "      <th>8</th>\n",
       "      <td>climb_total</td>\n",
       "      <td>0.2</td>\n",
       "      <td>0.303397</td>\n",
       "      <td>lime</td>\n",
       "      <td>-0.505033</td>\n",
       "    </tr>\n",
       "    <tr>\n",
       "      <th>9</th>\n",
       "      <td>climb_total</td>\n",
       "      <td>0.3</td>\n",
       "      <td>0.303397</td>\n",
       "      <td>lime</td>\n",
       "      <td>-0.505033</td>\n",
       "    </tr>\n",
       "    <tr>\n",
       "      <th>10</th>\n",
       "      <td>climb_total</td>\n",
       "      <td>0.4</td>\n",
       "      <td>0.303397</td>\n",
       "      <td>lime</td>\n",
       "      <td>-0.505033</td>\n",
       "    </tr>\n",
       "    <tr>\n",
       "      <th>11</th>\n",
       "      <td>climb_total</td>\n",
       "      <td>0.5</td>\n",
       "      <td>0.303397</td>\n",
       "      <td>lime</td>\n",
       "      <td>-0.505033</td>\n",
       "    </tr>\n",
       "    <tr>\n",
       "      <th>12</th>\n",
       "      <td>climb_total</td>\n",
       "      <td>0.6</td>\n",
       "      <td>0.303397</td>\n",
       "      <td>lime</td>\n",
       "      <td>-0.505033</td>\n",
       "    </tr>\n",
       "    <tr>\n",
       "      <th>13</th>\n",
       "      <td>climb_total</td>\n",
       "      <td>0.7</td>\n",
       "      <td>0.307323</td>\n",
       "      <td>lime</td>\n",
       "      <td>-0.501107</td>\n",
       "    </tr>\n",
       "    <tr>\n",
       "      <th>14</th>\n",
       "      <td>climb_total</td>\n",
       "      <td>0.8</td>\n",
       "      <td>0.307323</td>\n",
       "      <td>lime</td>\n",
       "      <td>-0.501107</td>\n",
       "    </tr>\n",
       "    <tr>\n",
       "      <th>15</th>\n",
       "      <td>climb_total</td>\n",
       "      <td>0.9</td>\n",
       "      <td>0.307323</td>\n",
       "      <td>lime</td>\n",
       "      <td>-0.501107</td>\n",
       "    </tr>\n",
       "    <tr>\n",
       "      <th>16</th>\n",
       "      <td>top_20_entropy</td>\n",
       "      <td>0.2</td>\n",
       "      <td>0.303397</td>\n",
       "      <td>lime</td>\n",
       "      <td>-0.505033</td>\n",
       "    </tr>\n",
       "    <tr>\n",
       "      <th>17</th>\n",
       "      <td>top_20_entropy</td>\n",
       "      <td>0.3</td>\n",
       "      <td>0.303397</td>\n",
       "      <td>lime</td>\n",
       "      <td>-0.505033</td>\n",
       "    </tr>\n",
       "    <tr>\n",
       "      <th>18</th>\n",
       "      <td>top_20_entropy</td>\n",
       "      <td>0.4</td>\n",
       "      <td>0.303397</td>\n",
       "      <td>lime</td>\n",
       "      <td>-0.505033</td>\n",
       "    </tr>\n",
       "    <tr>\n",
       "      <th>19</th>\n",
       "      <td>top_20_entropy</td>\n",
       "      <td>0.5</td>\n",
       "      <td>0.303397</td>\n",
       "      <td>lime</td>\n",
       "      <td>-0.505033</td>\n",
       "    </tr>\n",
       "    <tr>\n",
       "      <th>20</th>\n",
       "      <td>top_20_entropy</td>\n",
       "      <td>0.6</td>\n",
       "      <td>0.303397</td>\n",
       "      <td>lime</td>\n",
       "      <td>-0.505033</td>\n",
       "    </tr>\n",
       "    <tr>\n",
       "      <th>21</th>\n",
       "      <td>top_20_entropy</td>\n",
       "      <td>0.7</td>\n",
       "      <td>0.303397</td>\n",
       "      <td>lime</td>\n",
       "      <td>-0.505033</td>\n",
       "    </tr>\n",
       "    <tr>\n",
       "      <th>22</th>\n",
       "      <td>top_20_entropy</td>\n",
       "      <td>0.8</td>\n",
       "      <td>0.303397</td>\n",
       "      <td>lime</td>\n",
       "      <td>-0.505033</td>\n",
       "    </tr>\n",
       "    <tr>\n",
       "      <th>23</th>\n",
       "      <td>top_20_entropy</td>\n",
       "      <td>0.9</td>\n",
       "      <td>0.299450</td>\n",
       "      <td>lime</td>\n",
       "      <td>-0.508980</td>\n",
       "    </tr>\n",
       "    <tr>\n",
       "      <th>24</th>\n",
       "      <td>position_entropy</td>\n",
       "      <td>0.2</td>\n",
       "      <td>0.299450</td>\n",
       "      <td>lime</td>\n",
       "      <td>-0.508980</td>\n",
       "    </tr>\n",
       "    <tr>\n",
       "      <th>25</th>\n",
       "      <td>position_entropy</td>\n",
       "      <td>0.3</td>\n",
       "      <td>0.295484</td>\n",
       "      <td>lime</td>\n",
       "      <td>-0.512946</td>\n",
       "    </tr>\n",
       "    <tr>\n",
       "      <th>26</th>\n",
       "      <td>position_entropy</td>\n",
       "      <td>0.4</td>\n",
       "      <td>0.295484</td>\n",
       "      <td>lime</td>\n",
       "      <td>-0.512946</td>\n",
       "    </tr>\n",
       "    <tr>\n",
       "      <th>27</th>\n",
       "      <td>position_entropy</td>\n",
       "      <td>0.5</td>\n",
       "      <td>0.295484</td>\n",
       "      <td>lime</td>\n",
       "      <td>-0.512946</td>\n",
       "    </tr>\n",
       "    <tr>\n",
       "      <th>28</th>\n",
       "      <td>position_entropy</td>\n",
       "      <td>0.6</td>\n",
       "      <td>0.291497</td>\n",
       "      <td>lime</td>\n",
       "      <td>-0.516933</td>\n",
       "    </tr>\n",
       "    <tr>\n",
       "      <th>29</th>\n",
       "      <td>position_entropy</td>\n",
       "      <td>0.7</td>\n",
       "      <td>0.291497</td>\n",
       "      <td>lime</td>\n",
       "      <td>-0.516933</td>\n",
       "    </tr>\n",
       "    <tr>\n",
       "      <th>30</th>\n",
       "      <td>position_entropy</td>\n",
       "      <td>0.8</td>\n",
       "      <td>0.291497</td>\n",
       "      <td>lime</td>\n",
       "      <td>-0.516933</td>\n",
       "    </tr>\n",
       "    <tr>\n",
       "      <th>31</th>\n",
       "      <td>position_entropy</td>\n",
       "      <td>0.9</td>\n",
       "      <td>0.287490</td>\n",
       "      <td>lime</td>\n",
       "      <td>-0.520940</td>\n",
       "    </tr>\n",
       "    <tr>\n",
       "      <th>32</th>\n",
       "      <td>cyclist_level</td>\n",
       "      <td>0.2</td>\n",
       "      <td>0.303397</td>\n",
       "      <td>lime</td>\n",
       "      <td>-0.505033</td>\n",
       "    </tr>\n",
       "    <tr>\n",
       "      <th>33</th>\n",
       "      <td>cyclist_level</td>\n",
       "      <td>0.3</td>\n",
       "      <td>0.303397</td>\n",
       "      <td>lime</td>\n",
       "      <td>-0.505033</td>\n",
       "    </tr>\n",
       "    <tr>\n",
       "      <th>34</th>\n",
       "      <td>cyclist_level</td>\n",
       "      <td>0.4</td>\n",
       "      <td>0.303397</td>\n",
       "      <td>lime</td>\n",
       "      <td>-0.505033</td>\n",
       "    </tr>\n",
       "    <tr>\n",
       "      <th>35</th>\n",
       "      <td>cyclist_level</td>\n",
       "      <td>0.5</td>\n",
       "      <td>0.307323</td>\n",
       "      <td>lime</td>\n",
       "      <td>-0.501107</td>\n",
       "    </tr>\n",
       "    <tr>\n",
       "      <th>36</th>\n",
       "      <td>cyclist_level</td>\n",
       "      <td>0.6</td>\n",
       "      <td>0.318986</td>\n",
       "      <td>lime</td>\n",
       "      <td>-0.489444</td>\n",
       "    </tr>\n",
       "    <tr>\n",
       "      <th>37</th>\n",
       "      <td>cyclist_level</td>\n",
       "      <td>0.7</td>\n",
       "      <td>0.330476</td>\n",
       "      <td>lime</td>\n",
       "      <td>-0.477954</td>\n",
       "    </tr>\n",
       "    <tr>\n",
       "      <th>38</th>\n",
       "      <td>cyclist_level</td>\n",
       "      <td>0.8</td>\n",
       "      <td>0.338043</td>\n",
       "      <td>lime</td>\n",
       "      <td>-0.470387</td>\n",
       "    </tr>\n",
       "    <tr>\n",
       "      <th>39</th>\n",
       "      <td>cyclist_level</td>\n",
       "      <td>0.9</td>\n",
       "      <td>0.334269</td>\n",
       "      <td>lime</td>\n",
       "      <td>-0.474161</td>\n",
       "    </tr>\n",
       "    <tr>\n",
       "      <th>40</th>\n",
       "      <td>cyclist_experience</td>\n",
       "      <td>0.2</td>\n",
       "      <td>0.303397</td>\n",
       "      <td>lime</td>\n",
       "      <td>-0.505033</td>\n",
       "    </tr>\n",
       "    <tr>\n",
       "      <th>41</th>\n",
       "      <td>cyclist_experience</td>\n",
       "      <td>0.3</td>\n",
       "      <td>0.303397</td>\n",
       "      <td>lime</td>\n",
       "      <td>-0.505033</td>\n",
       "    </tr>\n",
       "    <tr>\n",
       "      <th>42</th>\n",
       "      <td>cyclist_experience</td>\n",
       "      <td>0.4</td>\n",
       "      <td>0.315118</td>\n",
       "      <td>lime</td>\n",
       "      <td>-0.493312</td>\n",
       "    </tr>\n",
       "    <tr>\n",
       "      <th>43</th>\n",
       "      <td>cyclist_experience</td>\n",
       "      <td>0.5</td>\n",
       "      <td>0.330476</td>\n",
       "      <td>lime</td>\n",
       "      <td>-0.477954</td>\n",
       "    </tr>\n",
       "    <tr>\n",
       "      <th>44</th>\n",
       "      <td>cyclist_experience</td>\n",
       "      <td>0.6</td>\n",
       "      <td>0.338043</td>\n",
       "      <td>lime</td>\n",
       "      <td>-0.470387</td>\n",
       "    </tr>\n",
       "    <tr>\n",
       "      <th>45</th>\n",
       "      <td>cyclist_experience</td>\n",
       "      <td>0.7</td>\n",
       "      <td>0.345537</td>\n",
       "      <td>lime</td>\n",
       "      <td>-0.462893</td>\n",
       "    </tr>\n",
       "    <tr>\n",
       "      <th>46</th>\n",
       "      <td>cyclist_experience</td>\n",
       "      <td>0.8</td>\n",
       "      <td>0.356644</td>\n",
       "      <td>lime</td>\n",
       "      <td>-0.451786</td>\n",
       "    </tr>\n",
       "    <tr>\n",
       "      <th>47</th>\n",
       "      <td>cyclist_experience</td>\n",
       "      <td>0.9</td>\n",
       "      <td>0.360311</td>\n",
       "      <td>lime</td>\n",
       "      <td>-0.448119</td>\n",
       "    </tr>\n",
       "    <tr>\n",
       "      <th>48</th>\n",
       "      <td>cyclist_age</td>\n",
       "      <td>0.2</td>\n",
       "      <td>0.340302</td>\n",
       "      <td>lime</td>\n",
       "      <td>-0.468128</td>\n",
       "    </tr>\n",
       "    <tr>\n",
       "      <th>49</th>\n",
       "      <td>cyclist_age</td>\n",
       "      <td>0.3</td>\n",
       "      <td>0.325205</td>\n",
       "      <td>lime</td>\n",
       "      <td>-0.483225</td>\n",
       "    </tr>\n",
       "    <tr>\n",
       "      <th>50</th>\n",
       "      <td>cyclist_age</td>\n",
       "      <td>0.4</td>\n",
       "      <td>0.349257</td>\n",
       "      <td>lime</td>\n",
       "      <td>-0.459173</td>\n",
       "    </tr>\n",
       "    <tr>\n",
       "      <th>51</th>\n",
       "      <td>cyclist_age</td>\n",
       "      <td>0.5</td>\n",
       "      <td>0.315118</td>\n",
       "      <td>lime</td>\n",
       "      <td>-0.493312</td>\n",
       "    </tr>\n",
       "    <tr>\n",
       "      <th>52</th>\n",
       "      <td>cyclist_age</td>\n",
       "      <td>0.6</td>\n",
       "      <td>0.356644</td>\n",
       "      <td>lime</td>\n",
       "      <td>-0.451786</td>\n",
       "    </tr>\n",
       "    <tr>\n",
       "      <th>53</th>\n",
       "      <td>cyclist_age</td>\n",
       "      <td>0.7</td>\n",
       "      <td>0.333577</td>\n",
       "      <td>lime</td>\n",
       "      <td>-0.474853</td>\n",
       "    </tr>\n",
       "    <tr>\n",
       "      <th>54</th>\n",
       "      <td>cyclist_age</td>\n",
       "      <td>0.8</td>\n",
       "      <td>0.340302</td>\n",
       "      <td>lime</td>\n",
       "      <td>-0.468128</td>\n",
       "    </tr>\n",
       "    <tr>\n",
       "      <th>55</th>\n",
       "      <td>cyclist_age</td>\n",
       "      <td>0.9</td>\n",
       "      <td>0.318481</td>\n",
       "      <td>lime</td>\n",
       "      <td>-0.489949</td>\n",
       "    </tr>\n",
       "  </tbody>\n",
       "</table>\n",
       "</div>"
      ],
      "text/plain": [
       "                  feature  noise_magnitude  performance algorithm  difference\n",
       "0   avg_relative_position              0.2     0.303397      lime   -0.505033\n",
       "1   avg_relative_position              0.3     0.303397      lime   -0.505033\n",
       "2   avg_relative_position              0.4     0.303397      lime   -0.505033\n",
       "3   avg_relative_position              0.5     0.303397      lime   -0.505033\n",
       "4   avg_relative_position              0.6     0.307323      lime   -0.501107\n",
       "5   avg_relative_position              0.7     0.307323      lime   -0.501107\n",
       "6   avg_relative_position              0.8     0.307323      lime   -0.501107\n",
       "7   avg_relative_position              0.9     0.318986      lime   -0.489444\n",
       "8             climb_total              0.2     0.303397      lime   -0.505033\n",
       "9             climb_total              0.3     0.303397      lime   -0.505033\n",
       "10            climb_total              0.4     0.303397      lime   -0.505033\n",
       "11            climb_total              0.5     0.303397      lime   -0.505033\n",
       "12            climb_total              0.6     0.303397      lime   -0.505033\n",
       "13            climb_total              0.7     0.307323      lime   -0.501107\n",
       "14            climb_total              0.8     0.307323      lime   -0.501107\n",
       "15            climb_total              0.9     0.307323      lime   -0.501107\n",
       "16         top_20_entropy              0.2     0.303397      lime   -0.505033\n",
       "17         top_20_entropy              0.3     0.303397      lime   -0.505033\n",
       "18         top_20_entropy              0.4     0.303397      lime   -0.505033\n",
       "19         top_20_entropy              0.5     0.303397      lime   -0.505033\n",
       "20         top_20_entropy              0.6     0.303397      lime   -0.505033\n",
       "21         top_20_entropy              0.7     0.303397      lime   -0.505033\n",
       "22         top_20_entropy              0.8     0.303397      lime   -0.505033\n",
       "23         top_20_entropy              0.9     0.299450      lime   -0.508980\n",
       "24       position_entropy              0.2     0.299450      lime   -0.508980\n",
       "25       position_entropy              0.3     0.295484      lime   -0.512946\n",
       "26       position_entropy              0.4     0.295484      lime   -0.512946\n",
       "27       position_entropy              0.5     0.295484      lime   -0.512946\n",
       "28       position_entropy              0.6     0.291497      lime   -0.516933\n",
       "29       position_entropy              0.7     0.291497      lime   -0.516933\n",
       "30       position_entropy              0.8     0.291497      lime   -0.516933\n",
       "31       position_entropy              0.9     0.287490      lime   -0.520940\n",
       "32          cyclist_level              0.2     0.303397      lime   -0.505033\n",
       "33          cyclist_level              0.3     0.303397      lime   -0.505033\n",
       "34          cyclist_level              0.4     0.303397      lime   -0.505033\n",
       "35          cyclist_level              0.5     0.307323      lime   -0.501107\n",
       "36          cyclist_level              0.6     0.318986      lime   -0.489444\n",
       "37          cyclist_level              0.7     0.330476      lime   -0.477954\n",
       "38          cyclist_level              0.8     0.338043      lime   -0.470387\n",
       "39          cyclist_level              0.9     0.334269      lime   -0.474161\n",
       "40     cyclist_experience              0.2     0.303397      lime   -0.505033\n",
       "41     cyclist_experience              0.3     0.303397      lime   -0.505033\n",
       "42     cyclist_experience              0.4     0.315118      lime   -0.493312\n",
       "43     cyclist_experience              0.5     0.330476      lime   -0.477954\n",
       "44     cyclist_experience              0.6     0.338043      lime   -0.470387\n",
       "45     cyclist_experience              0.7     0.345537      lime   -0.462893\n",
       "46     cyclist_experience              0.8     0.356644      lime   -0.451786\n",
       "47     cyclist_experience              0.9     0.360311      lime   -0.448119\n",
       "48            cyclist_age              0.2     0.340302      lime   -0.468128\n",
       "49            cyclist_age              0.3     0.325205      lime   -0.483225\n",
       "50            cyclist_age              0.4     0.349257      lime   -0.459173\n",
       "51            cyclist_age              0.5     0.315118      lime   -0.493312\n",
       "52            cyclist_age              0.6     0.356644      lime   -0.451786\n",
       "53            cyclist_age              0.7     0.333577      lime   -0.474853\n",
       "54            cyclist_age              0.8     0.340302      lime   -0.468128\n",
       "55            cyclist_age              0.9     0.318481      lime   -0.489949"
      ]
     },
     "execution_count": 38,
     "metadata": {},
     "output_type": "execute_result"
    }
   ],
   "source": [
    "import pandas\n",
    "\n",
    "\n",
    "metric = \"f1-score\"\n",
    "corruption_validation_lime = pandas.DataFrame([\n",
    "    (feature, noise_magnitude, validations_by_feature_and_noise[(feature, noise_magnitude)][\"weighted avg\"][metric], \"lime\")\n",
    "    for feature, noise_magnitude in validations_by_feature_and_noise\n",
    "    ],\n",
    "    columns=[\"feature\", \"noise_magnitude\", \"performance\", \"algorithm\"]\n",
    ")\n",
    "corruption_validation_lime[\"difference\"] = corruption_validation_lime[\"performance\"] - validation[\"weighted avg\"][metric]\n",
    "\n",
    "corruption_validation = pandas.concat((corruption_validation, corruption_validation_lime))\n",
    "corruption_validation_lime"
   ]
  },
  {
   "cell_type": "markdown",
   "metadata": {},
   "source": [
    "\n",
    "\n",
    "#### **Stable and Robust Features**\n",
    "\n",
    "- **avg_relative_position** and **climb_total** <br> \n",
    "  These features are highly stable. Adding noise does not significantly impact the model's performance, indicating that their contribution to the predictions is insignificant. \n",
    "\n",
    "- **top_20_entropy** <br>\n",
    "  This feature is completely insensitive to noise, suggesting that it is either irrelevant to the model or not utilized in its decision-making process.\n",
    "\n",
    "\n",
    "#### **Sensitive or Complex Features**\n",
    "\n",
    "- **position_entropy** <br>\n",
    "  This feature is influential but also sensitive to noise. The model's performance drops as noise increases.\n",
    "\n",
    "- **cyclist_level** and **cyclist_experience** <br>\n",
    "  Both features show improved performance as noise increases, indicating they capture more complex or nonlinear relationships in the data. The noise helps the model generalize better, probabily reducing overfitting. Cyclist_level shows a slight improvement instead Cyclist_experience shows a more consistent improvement, indicating that it is a more significant feature for the model.\n",
    "\n",
    "- **cyclist_age** <br>\n",
    "  This characteristic exhibits moderate instability, with performance variations becoming more significant at higher noise levels and results worsening as noise increases.\n",
    "\n",
    "The introduction of noise had varying effects on the analyzed variables, revealing that some features are stable, while others show greater or more complex impacts. These results suggest that variables like cyclist_experience are key to the model and require particular attention, while others might be less significant or even unused by the model. "
   ]
  },
  {
   "cell_type": "markdown",
   "metadata": {},
   "source": [
    "### Explaining data with 0 label and prediction being 1"
   ]
  },
  {
   "cell_type": "markdown",
   "metadata": {},
   "source": [
    "Nota: the data is the same instances explained in LORE"
   ]
  },
  {
   "cell_type": "code",
   "execution_count": 39,
   "metadata": {},
   "outputs": [
    {
     "name": "stdout",
     "output_type": "stream",
     "text": [
      "Label:  0\n",
      "Predicted value:  0\n"
     ]
    },
    {
     "data": {
      "application/vnd.plotly.v1+json": {
       "config": {
        "plotlyServerURL": "https://plot.ly"
       },
       "data": [
        {
         "marker": {
          "color": [
           "#1f77b4",
           "#1f77b4",
           "#ff7f0e",
           "#1f77b4",
           "#ff7f0e",
           "#ff7f0e",
           "#1f77b4",
           "#808080"
          ]
         },
         "orientation": "h",
         "type": "bar",
         "x": [
          -0.00025525091740843074,
          -0.00044664190636460306,
          0.0005487311288244956,
          -0.000905771475517796,
          0.006429085553012839,
          0.05093802658823136,
          -0.15417828738642197,
          0.29096765668526564
         ],
         "y": [
          "cyclist_experience (5.00)",
          "climb_total (2.33)",
          "cyclist_level (429.67)",
          "position_entropy (2.32)",
          "cyclist_age (22.00)",
          "top_20_entropy (0.00)",
          "avg_relative_position (0.52)",
          "Intercept"
         ]
        }
       ],
       "layout": {
        "template": {
         "data": {
          "bar": [
           {
            "error_x": {
             "color": "#2a3f5f"
            },
            "error_y": {
             "color": "#2a3f5f"
            },
            "marker": {
             "line": {
              "color": "#E5ECF6",
              "width": 0.5
             },
             "pattern": {
              "fillmode": "overlay",
              "size": 10,
              "solidity": 0.2
             }
            },
            "type": "bar"
           }
          ],
          "barpolar": [
           {
            "marker": {
             "line": {
              "color": "#E5ECF6",
              "width": 0.5
             },
             "pattern": {
              "fillmode": "overlay",
              "size": 10,
              "solidity": 0.2
             }
            },
            "type": "barpolar"
           }
          ],
          "carpet": [
           {
            "aaxis": {
             "endlinecolor": "#2a3f5f",
             "gridcolor": "white",
             "linecolor": "white",
             "minorgridcolor": "white",
             "startlinecolor": "#2a3f5f"
            },
            "baxis": {
             "endlinecolor": "#2a3f5f",
             "gridcolor": "white",
             "linecolor": "white",
             "minorgridcolor": "white",
             "startlinecolor": "#2a3f5f"
            },
            "type": "carpet"
           }
          ],
          "choropleth": [
           {
            "colorbar": {
             "outlinewidth": 0,
             "ticks": ""
            },
            "type": "choropleth"
           }
          ],
          "contour": [
           {
            "colorbar": {
             "outlinewidth": 0,
             "ticks": ""
            },
            "colorscale": [
             [
              0,
              "#0d0887"
             ],
             [
              0.1111111111111111,
              "#46039f"
             ],
             [
              0.2222222222222222,
              "#7201a8"
             ],
             [
              0.3333333333333333,
              "#9c179e"
             ],
             [
              0.4444444444444444,
              "#bd3786"
             ],
             [
              0.5555555555555556,
              "#d8576b"
             ],
             [
              0.6666666666666666,
              "#ed7953"
             ],
             [
              0.7777777777777778,
              "#fb9f3a"
             ],
             [
              0.8888888888888888,
              "#fdca26"
             ],
             [
              1,
              "#f0f921"
             ]
            ],
            "type": "contour"
           }
          ],
          "contourcarpet": [
           {
            "colorbar": {
             "outlinewidth": 0,
             "ticks": ""
            },
            "type": "contourcarpet"
           }
          ],
          "heatmap": [
           {
            "colorbar": {
             "outlinewidth": 0,
             "ticks": ""
            },
            "colorscale": [
             [
              0,
              "#0d0887"
             ],
             [
              0.1111111111111111,
              "#46039f"
             ],
             [
              0.2222222222222222,
              "#7201a8"
             ],
             [
              0.3333333333333333,
              "#9c179e"
             ],
             [
              0.4444444444444444,
              "#bd3786"
             ],
             [
              0.5555555555555556,
              "#d8576b"
             ],
             [
              0.6666666666666666,
              "#ed7953"
             ],
             [
              0.7777777777777778,
              "#fb9f3a"
             ],
             [
              0.8888888888888888,
              "#fdca26"
             ],
             [
              1,
              "#f0f921"
             ]
            ],
            "type": "heatmap"
           }
          ],
          "heatmapgl": [
           {
            "colorbar": {
             "outlinewidth": 0,
             "ticks": ""
            },
            "colorscale": [
             [
              0,
              "#0d0887"
             ],
             [
              0.1111111111111111,
              "#46039f"
             ],
             [
              0.2222222222222222,
              "#7201a8"
             ],
             [
              0.3333333333333333,
              "#9c179e"
             ],
             [
              0.4444444444444444,
              "#bd3786"
             ],
             [
              0.5555555555555556,
              "#d8576b"
             ],
             [
              0.6666666666666666,
              "#ed7953"
             ],
             [
              0.7777777777777778,
              "#fb9f3a"
             ],
             [
              0.8888888888888888,
              "#fdca26"
             ],
             [
              1,
              "#f0f921"
             ]
            ],
            "type": "heatmapgl"
           }
          ],
          "histogram": [
           {
            "marker": {
             "pattern": {
              "fillmode": "overlay",
              "size": 10,
              "solidity": 0.2
             }
            },
            "type": "histogram"
           }
          ],
          "histogram2d": [
           {
            "colorbar": {
             "outlinewidth": 0,
             "ticks": ""
            },
            "colorscale": [
             [
              0,
              "#0d0887"
             ],
             [
              0.1111111111111111,
              "#46039f"
             ],
             [
              0.2222222222222222,
              "#7201a8"
             ],
             [
              0.3333333333333333,
              "#9c179e"
             ],
             [
              0.4444444444444444,
              "#bd3786"
             ],
             [
              0.5555555555555556,
              "#d8576b"
             ],
             [
              0.6666666666666666,
              "#ed7953"
             ],
             [
              0.7777777777777778,
              "#fb9f3a"
             ],
             [
              0.8888888888888888,
              "#fdca26"
             ],
             [
              1,
              "#f0f921"
             ]
            ],
            "type": "histogram2d"
           }
          ],
          "histogram2dcontour": [
           {
            "colorbar": {
             "outlinewidth": 0,
             "ticks": ""
            },
            "colorscale": [
             [
              0,
              "#0d0887"
             ],
             [
              0.1111111111111111,
              "#46039f"
             ],
             [
              0.2222222222222222,
              "#7201a8"
             ],
             [
              0.3333333333333333,
              "#9c179e"
             ],
             [
              0.4444444444444444,
              "#bd3786"
             ],
             [
              0.5555555555555556,
              "#d8576b"
             ],
             [
              0.6666666666666666,
              "#ed7953"
             ],
             [
              0.7777777777777778,
              "#fb9f3a"
             ],
             [
              0.8888888888888888,
              "#fdca26"
             ],
             [
              1,
              "#f0f921"
             ]
            ],
            "type": "histogram2dcontour"
           }
          ],
          "mesh3d": [
           {
            "colorbar": {
             "outlinewidth": 0,
             "ticks": ""
            },
            "type": "mesh3d"
           }
          ],
          "parcoords": [
           {
            "line": {
             "colorbar": {
              "outlinewidth": 0,
              "ticks": ""
             }
            },
            "type": "parcoords"
           }
          ],
          "pie": [
           {
            "automargin": true,
            "type": "pie"
           }
          ],
          "scatter": [
           {
            "fillpattern": {
             "fillmode": "overlay",
             "size": 10,
             "solidity": 0.2
            },
            "type": "scatter"
           }
          ],
          "scatter3d": [
           {
            "line": {
             "colorbar": {
              "outlinewidth": 0,
              "ticks": ""
             }
            },
            "marker": {
             "colorbar": {
              "outlinewidth": 0,
              "ticks": ""
             }
            },
            "type": "scatter3d"
           }
          ],
          "scattercarpet": [
           {
            "marker": {
             "colorbar": {
              "outlinewidth": 0,
              "ticks": ""
             }
            },
            "type": "scattercarpet"
           }
          ],
          "scattergeo": [
           {
            "marker": {
             "colorbar": {
              "outlinewidth": 0,
              "ticks": ""
             }
            },
            "type": "scattergeo"
           }
          ],
          "scattergl": [
           {
            "marker": {
             "colorbar": {
              "outlinewidth": 0,
              "ticks": ""
             }
            },
            "type": "scattergl"
           }
          ],
          "scattermapbox": [
           {
            "marker": {
             "colorbar": {
              "outlinewidth": 0,
              "ticks": ""
             }
            },
            "type": "scattermapbox"
           }
          ],
          "scatterpolar": [
           {
            "marker": {
             "colorbar": {
              "outlinewidth": 0,
              "ticks": ""
             }
            },
            "type": "scatterpolar"
           }
          ],
          "scatterpolargl": [
           {
            "marker": {
             "colorbar": {
              "outlinewidth": 0,
              "ticks": ""
             }
            },
            "type": "scatterpolargl"
           }
          ],
          "scatterternary": [
           {
            "marker": {
             "colorbar": {
              "outlinewidth": 0,
              "ticks": ""
             }
            },
            "type": "scatterternary"
           }
          ],
          "surface": [
           {
            "colorbar": {
             "outlinewidth": 0,
             "ticks": ""
            },
            "colorscale": [
             [
              0,
              "#0d0887"
             ],
             [
              0.1111111111111111,
              "#46039f"
             ],
             [
              0.2222222222222222,
              "#7201a8"
             ],
             [
              0.3333333333333333,
              "#9c179e"
             ],
             [
              0.4444444444444444,
              "#bd3786"
             ],
             [
              0.5555555555555556,
              "#d8576b"
             ],
             [
              0.6666666666666666,
              "#ed7953"
             ],
             [
              0.7777777777777778,
              "#fb9f3a"
             ],
             [
              0.8888888888888888,
              "#fdca26"
             ],
             [
              1,
              "#f0f921"
             ]
            ],
            "type": "surface"
           }
          ],
          "table": [
           {
            "cells": {
             "fill": {
              "color": "#EBF0F8"
             },
             "line": {
              "color": "white"
             }
            },
            "header": {
             "fill": {
              "color": "#C8D4E3"
             },
             "line": {
              "color": "white"
             }
            },
            "type": "table"
           }
          ]
         },
         "layout": {
          "annotationdefaults": {
           "arrowcolor": "#2a3f5f",
           "arrowhead": 0,
           "arrowwidth": 1
          },
          "autotypenumbers": "strict",
          "coloraxis": {
           "colorbar": {
            "outlinewidth": 0,
            "ticks": ""
           }
          },
          "colorscale": {
           "diverging": [
            [
             0,
             "#8e0152"
            ],
            [
             0.1,
             "#c51b7d"
            ],
            [
             0.2,
             "#de77ae"
            ],
            [
             0.3,
             "#f1b6da"
            ],
            [
             0.4,
             "#fde0ef"
            ],
            [
             0.5,
             "#f7f7f7"
            ],
            [
             0.6,
             "#e6f5d0"
            ],
            [
             0.7,
             "#b8e186"
            ],
            [
             0.8,
             "#7fbc41"
            ],
            [
             0.9,
             "#4d9221"
            ],
            [
             1,
             "#276419"
            ]
           ],
           "sequential": [
            [
             0,
             "#0d0887"
            ],
            [
             0.1111111111111111,
             "#46039f"
            ],
            [
             0.2222222222222222,
             "#7201a8"
            ],
            [
             0.3333333333333333,
             "#9c179e"
            ],
            [
             0.4444444444444444,
             "#bd3786"
            ],
            [
             0.5555555555555556,
             "#d8576b"
            ],
            [
             0.6666666666666666,
             "#ed7953"
            ],
            [
             0.7777777777777778,
             "#fb9f3a"
            ],
            [
             0.8888888888888888,
             "#fdca26"
            ],
            [
             1,
             "#f0f921"
            ]
           ],
           "sequentialminus": [
            [
             0,
             "#0d0887"
            ],
            [
             0.1111111111111111,
             "#46039f"
            ],
            [
             0.2222222222222222,
             "#7201a8"
            ],
            [
             0.3333333333333333,
             "#9c179e"
            ],
            [
             0.4444444444444444,
             "#bd3786"
            ],
            [
             0.5555555555555556,
             "#d8576b"
            ],
            [
             0.6666666666666666,
             "#ed7953"
            ],
            [
             0.7777777777777778,
             "#fb9f3a"
            ],
            [
             0.8888888888888888,
             "#fdca26"
            ],
            [
             1,
             "#f0f921"
            ]
           ]
          },
          "colorway": [
           "#636efa",
           "#EF553B",
           "#00cc96",
           "#ab63fa",
           "#FFA15A",
           "#19d3f3",
           "#FF6692",
           "#B6E880",
           "#FF97FF",
           "#FECB52"
          ],
          "font": {
           "color": "#2a3f5f"
          },
          "geo": {
           "bgcolor": "white",
           "lakecolor": "white",
           "landcolor": "#E5ECF6",
           "showlakes": true,
           "showland": true,
           "subunitcolor": "white"
          },
          "hoverlabel": {
           "align": "left"
          },
          "hovermode": "closest",
          "mapbox": {
           "style": "light"
          },
          "paper_bgcolor": "white",
          "plot_bgcolor": "#E5ECF6",
          "polar": {
           "angularaxis": {
            "gridcolor": "white",
            "linecolor": "white",
            "ticks": ""
           },
           "bgcolor": "#E5ECF6",
           "radialaxis": {
            "gridcolor": "white",
            "linecolor": "white",
            "ticks": ""
           }
          },
          "scene": {
           "xaxis": {
            "backgroundcolor": "#E5ECF6",
            "gridcolor": "white",
            "gridwidth": 2,
            "linecolor": "white",
            "showbackground": true,
            "ticks": "",
            "zerolinecolor": "white"
           },
           "yaxis": {
            "backgroundcolor": "#E5ECF6",
            "gridcolor": "white",
            "gridwidth": 2,
            "linecolor": "white",
            "showbackground": true,
            "ticks": "",
            "zerolinecolor": "white"
           },
           "zaxis": {
            "backgroundcolor": "#E5ECF6",
            "gridcolor": "white",
            "gridwidth": 2,
            "linecolor": "white",
            "showbackground": true,
            "ticks": "",
            "zerolinecolor": "white"
           }
          },
          "shapedefaults": {
           "line": {
            "color": "#2a3f5f"
           }
          },
          "ternary": {
           "aaxis": {
            "gridcolor": "white",
            "linecolor": "white",
            "ticks": ""
           },
           "baxis": {
            "gridcolor": "white",
            "linecolor": "white",
            "ticks": ""
           },
           "bgcolor": "#E5ECF6",
           "caxis": {
            "gridcolor": "white",
            "linecolor": "white",
            "ticks": ""
           }
          },
          "title": {
           "x": 0.05
          },
          "xaxis": {
           "automargin": true,
           "gridcolor": "white",
           "linecolor": "white",
           "ticks": "",
           "title": {
            "standoff": 15
           },
           "zerolinecolor": "white",
           "zerolinewidth": 2
          },
          "yaxis": {
           "automargin": true,
           "gridcolor": "white",
           "linecolor": "white",
           "ticks": "",
           "title": {
            "standoff": 15
           },
           "zerolinecolor": "white",
           "zerolinewidth": 2
          }
         }
        },
        "title": {
         "text": "Predicted: 0.189"
        },
        "xaxis": {
         "range": [
          -0.29096765668526564,
          0.29096765668526564
         ],
         "title": {
          "text": ""
         }
        },
        "yaxis": {
         "automargin": true,
         "dtick": 1,
         "title": {
          "text": ""
         }
        }
       }
      }
     },
     "metadata": {},
     "output_type": "display_data"
    }
   ],
   "source": [
    "instance_index = 32\n",
    "print(\"Label: \",test_labels.iloc[instance_index].values[0])\n",
    "print(\"Predicted value: \", test_prediction[instance_index])\n",
    "\n",
    "instance = test_data.iloc[[instance_index]]\n",
    "\n",
    "explanation_0 = lime_explanation_algorithm.explain_local(instance)\n",
    "explanation_0.visualize(0)"
   ]
  },
  {
   "cell_type": "markdown",
   "metadata": {},
   "source": [
    "### Explaining data with label and prediction being 0"
   ]
  },
  {
   "cell_type": "markdown",
   "metadata": {},
   "source": [
    "Nota: the data is the same instances explained in LORE"
   ]
  }
 ],
 "metadata": {
  "kernelspec": {
   "display_name": "HLT",
   "language": "python",
   "name": "python3"
  },
  "language_info": {
   "codemirror_mode": {
    "name": "ipython",
    "version": 3
   },
   "file_extension": ".py",
   "mimetype": "text/x-python",
   "name": "python",
   "nbconvert_exporter": "python",
   "pygments_lexer": "ipython3",
   "version": "3.12.8"
  }
 },
 "nbformat": 4,
 "nbformat_minor": 2
}
