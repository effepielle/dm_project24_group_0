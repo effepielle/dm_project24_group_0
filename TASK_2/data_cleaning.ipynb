{
 "cells": [
  {
   "cell_type": "markdown",
   "metadata": {},
   "source": [
    "- rimozione outlier\n",
    "- rimozione errori (-1 su delta) --> NaN\n",
    "- controllare che non ci siano righe con valori completmente nulli\n",
    "- rimozione cobbled, gravel perchè sono tutti true e false\n",
    "- rimuovere i ciclisti dal dataframe dei ciclisti che non hanno partecipato a gare ???\n",
    "- rimozione delle feature correlate \n",
    "- drop temperatura"
   ]
  },
  {
   "cell_type": "markdown",
   "metadata": {},
   "source": [
    "Columns containing null values in the cyclist dataset:\n",
    "- birth_year\n",
    "- weight\n",
    "- height\n"
   ]
  },
  {
   "cell_type": "markdown",
   "metadata": {},
   "source": [
    "Outliers in cyclist dataset:\n",
    "- weight\n",
    "- height"
   ]
  },
  {
   "cell_type": "markdown",
   "metadata": {},
   "source": [
    "Columns containing null values in the races dataset:\n",
    "- points\n",
    "- uci_points\n",
    "- climb_total\n",
    "- profile\n",
    "- cyclist age\n",
    "- cyclist_team\n",
    "\n"
   ]
  },
  {
   "cell_type": "markdown",
   "metadata": {},
   "source": [
    "Outliers in races dataset:\n",
    "- points\n",
    "- uci_points\n",
    "- length\n",
    "- climb_total\n",
    "- start_list quality\n",
    "- race_year\n",
    "- cyclist_age\n",
    "- delta\n",
    "\n",
    "\n",
    "\n",
    "\n",
    "\n"
   ]
  },
  {
   "cell_type": "markdown",
   "metadata": {},
   "source": [
    "Duplicates in races dataset:\n",
    "- cyclists\n",
    "- "
   ]
  },
  {
   "cell_type": "markdown",
   "metadata": {},
   "source": [
    "Inconsistencies:\n",
    "- cyclist_age\n",
    "- delta"
   ]
  },
  {
   "cell_type": "markdown",
   "metadata": {},
   "source": [
    "# Data Cleaning"
   ]
  },
  {
   "cell_type": "code",
   "execution_count": 1720,
   "metadata": {},
   "outputs": [],
   "source": [
    "import pandas as pd\n",
    "import numpy as np\n",
    "import seaborn as sns\n",
    "import matplotlib.pyplot as plt"
   ]
  },
  {
   "cell_type": "markdown",
   "metadata": {},
   "source": [
    "## Data Elimination"
   ]
  },
  {
   "cell_type": "markdown",
   "metadata": {},
   "source": [
    "In this section we remove entries from both the datasets according to some criteria we define below."
   ]
  },
  {
   "cell_type": "markdown",
   "metadata": {},
   "source": [
    "As we noticed in the DU part, there are some cyclists in ```cyclists.csv``` which did not appear in ```races.csv``` i.e. we have a group of cyclists who did not participated to any races.\n",
    "Since they are not useful we decided to eliminate them. \n",
    "\n",
    "TODO: review the reason why we remove the entries."
   ]
  },
  {
   "cell_type": "code",
   "execution_count": 1721,
   "metadata": {},
   "outputs": [],
   "source": [
    "cyclists_df = pd.read_csv('../dataset/cyclists.csv')\n",
    "races_df = pd.read_csv('../dataset/races.csv')"
   ]
  },
  {
   "cell_type": "code",
   "execution_count": 1722,
   "metadata": {},
   "outputs": [
    {
     "name": "stdout",
     "output_type": "stream",
     "text": [
      "Occurrences of cyclists removed: 39\n"
     ]
    }
   ],
   "source": [
    "# Identify cyclists who did not participate in races\n",
    "cyclists_not_in_races = np.setdiff1d(cyclists_df['_url'].unique(), races_df['cyclist'].unique())\n",
    "\n",
    "initial_cyclists_count = len(cyclists_df)\n",
    "\n",
    "# Remove cyclists who did not participate\n",
    "cyclists_df = cyclists_df[~cyclists_df['_url'].isin(cyclists_not_in_races)]\n",
    "\n",
    "removed_cyclists_count = initial_cyclists_count - len(cyclists_df)\n",
    "\n",
    "print(f\"Occurrences of cyclists removed: {removed_cyclists_count}\")"
   ]
  },
  {
   "cell_type": "markdown",
   "metadata": {},
   "source": [
    "## Cyclists Dataset"
   ]
  },
  {
   "cell_type": "markdown",
   "metadata": {},
   "source": [
    "### Casting"
   ]
  },
  {
   "cell_type": "markdown",
   "metadata": {},
   "source": [
    "We force the correct type for the ```cyclists.csv``` dataset attributes."
   ]
  },
  {
   "cell_type": "markdown",
   "metadata": {},
   "source": [
    "Before the casting types are:"
   ]
  },
  {
   "cell_type": "code",
   "execution_count": 1723,
   "metadata": {},
   "outputs": [
    {
     "name": "stdout",
     "output_type": "stream",
     "text": [
      "<class 'pandas.core.frame.DataFrame'>\n",
      "Index: 6095 entries, 0 to 6133\n",
      "Data columns (total 6 columns):\n",
      " #   Column       Non-Null Count  Dtype  \n",
      "---  ------       --------------  -----  \n",
      " 0   _url         6095 non-null   object \n",
      " 1   name         6095 non-null   object \n",
      " 2   birth_year   6082 non-null   float64\n",
      " 3   weight       3062 non-null   float64\n",
      " 4   height       3127 non-null   float64\n",
      " 5   nationality  6094 non-null   object \n",
      "dtypes: float64(3), object(3)\n",
      "memory usage: 333.3+ KB\n"
     ]
    }
   ],
   "source": [
    "cyclists_df.info()"
   ]
  },
  {
   "cell_type": "markdown",
   "metadata": {},
   "source": [
    "We perform the casting:"
   ]
  },
  {
   "cell_type": "code",
   "execution_count": 1724,
   "metadata": {},
   "outputs": [],
   "source": [
    "# Cast _url, name, and nationality to string\n",
    "cyclists_df['_url'] = cyclists_df['_url'].astype(\"string\")\n",
    "cyclists_df['name'] = cyclists_df['name'].astype(\"string\")\n",
    "cyclists_df['nationality'] = cyclists_df['nationality'].astype(\"string\")"
   ]
  },
  {
   "cell_type": "code",
   "execution_count": 1725,
   "metadata": {},
   "outputs": [],
   "source": [
    "# Cast birth_year to int (more easy to manipulate)\n",
    "cyclists_df['birth_year'] = cyclists_df['birth_year'].astype('Int64')"
   ]
  },
  {
   "cell_type": "markdown",
   "metadata": {},
   "source": [
    "Check if the types are now correct:"
   ]
  },
  {
   "cell_type": "code",
   "execution_count": 1726,
   "metadata": {},
   "outputs": [
    {
     "name": "stdout",
     "output_type": "stream",
     "text": [
      "<class 'pandas.core.frame.DataFrame'>\n",
      "Index: 6095 entries, 0 to 6133\n",
      "Data columns (total 6 columns):\n",
      " #   Column       Non-Null Count  Dtype  \n",
      "---  ------       --------------  -----  \n",
      " 0   _url         6095 non-null   string \n",
      " 1   name         6095 non-null   string \n",
      " 2   birth_year   6082 non-null   Int64  \n",
      " 3   weight       3062 non-null   float64\n",
      " 4   height       3127 non-null   float64\n",
      " 5   nationality  6094 non-null   string \n",
      "dtypes: Int64(1), float64(2), string(3)\n",
      "memory usage: 339.3 KB\n"
     ]
    }
   ],
   "source": [
    "cyclists_df.info()"
   ]
  },
  {
   "cell_type": "markdown",
   "metadata": {},
   "source": [
    "### Null Values"
   ]
  },
  {
   "cell_type": "code",
   "execution_count": 1727,
   "metadata": {},
   "outputs": [
    {
     "data": {
      "text/html": [
       "<div>\n",
       "<style scoped>\n",
       "    .dataframe tbody tr th:only-of-type {\n",
       "        vertical-align: middle;\n",
       "    }\n",
       "\n",
       "    .dataframe tbody tr th {\n",
       "        vertical-align: top;\n",
       "    }\n",
       "\n",
       "    .dataframe thead th {\n",
       "        text-align: right;\n",
       "    }\n",
       "</style>\n",
       "<table border=\"1\" class=\"dataframe\">\n",
       "  <thead>\n",
       "    <tr style=\"text-align: right;\">\n",
       "      <th></th>\n",
       "      <th>_url</th>\n",
       "      <th>name</th>\n",
       "      <th>birth_year</th>\n",
       "      <th>weight</th>\n",
       "      <th>height</th>\n",
       "      <th>nationality</th>\n",
       "    </tr>\n",
       "  </thead>\n",
       "  <tbody>\n",
       "    <tr>\n",
       "      <th>9</th>\n",
       "      <td>scott-davies</td>\n",
       "      <td>Scott  Davies</td>\n",
       "      <td>&lt;NA&gt;</td>\n",
       "      <td>NaN</td>\n",
       "      <td>NaN</td>\n",
       "      <td>&lt;NA&gt;</td>\n",
       "    </tr>\n",
       "    <tr>\n",
       "      <th>601</th>\n",
       "      <td>vladimir-malakov</td>\n",
       "      <td>Vladimir  Malakov</td>\n",
       "      <td>&lt;NA&gt;</td>\n",
       "      <td>NaN</td>\n",
       "      <td>NaN</td>\n",
       "      <td>Russia</td>\n",
       "    </tr>\n",
       "    <tr>\n",
       "      <th>894</th>\n",
       "      <td>antonio-zanini</td>\n",
       "      <td>Antonio  Zanini</td>\n",
       "      <td>&lt;NA&gt;</td>\n",
       "      <td>NaN</td>\n",
       "      <td>NaN</td>\n",
       "      <td>Italy</td>\n",
       "    </tr>\n",
       "    <tr>\n",
       "      <th>2408</th>\n",
       "      <td>filippo-simonetti</td>\n",
       "      <td>Filippo  Simonetti</td>\n",
       "      <td>&lt;NA&gt;</td>\n",
       "      <td>NaN</td>\n",
       "      <td>NaN</td>\n",
       "      <td>Italy</td>\n",
       "    </tr>\n",
       "    <tr>\n",
       "      <th>2515</th>\n",
       "      <td>carlos-garcia</td>\n",
       "      <td>Carlos  García</td>\n",
       "      <td>&lt;NA&gt;</td>\n",
       "      <td>NaN</td>\n",
       "      <td>NaN</td>\n",
       "      <td>Spain</td>\n",
       "    </tr>\n",
       "    <tr>\n",
       "      <th>2536</th>\n",
       "      <td>alexandr-osipov</td>\n",
       "      <td>Alexandr  Osipov</td>\n",
       "      <td>&lt;NA&gt;</td>\n",
       "      <td>NaN</td>\n",
       "      <td>NaN</td>\n",
       "      <td>Russia</td>\n",
       "    </tr>\n",
       "    <tr>\n",
       "      <th>3046</th>\n",
       "      <td>nicolai-kosyakov</td>\n",
       "      <td>Nicolai  Kosyakov</td>\n",
       "      <td>&lt;NA&gt;</td>\n",
       "      <td>NaN</td>\n",
       "      <td>NaN</td>\n",
       "      <td>Russia</td>\n",
       "    </tr>\n",
       "    <tr>\n",
       "      <th>3551</th>\n",
       "      <td>nevens-guy</td>\n",
       "      <td>Guy  Nevens</td>\n",
       "      <td>&lt;NA&gt;</td>\n",
       "      <td>NaN</td>\n",
       "      <td>NaN</td>\n",
       "      <td>Belgium</td>\n",
       "    </tr>\n",
       "    <tr>\n",
       "      <th>4142</th>\n",
       "      <td>oscar-pumar</td>\n",
       "      <td>Oscar  Pumar</td>\n",
       "      <td>&lt;NA&gt;</td>\n",
       "      <td>NaN</td>\n",
       "      <td>NaN</td>\n",
       "      <td>Venezuela</td>\n",
       "    </tr>\n",
       "    <tr>\n",
       "      <th>4384</th>\n",
       "      <td>javier-luquin</td>\n",
       "      <td>Javier  Luquin</td>\n",
       "      <td>&lt;NA&gt;</td>\n",
       "      <td>NaN</td>\n",
       "      <td>NaN</td>\n",
       "      <td>Spain</td>\n",
       "    </tr>\n",
       "    <tr>\n",
       "      <th>4756</th>\n",
       "      <td>thierry-lauder</td>\n",
       "      <td>Thierry  Lauder</td>\n",
       "      <td>&lt;NA&gt;</td>\n",
       "      <td>NaN</td>\n",
       "      <td>NaN</td>\n",
       "      <td>France</td>\n",
       "    </tr>\n",
       "    <tr>\n",
       "      <th>6072</th>\n",
       "      <td>sergei-jermachenko</td>\n",
       "      <td>Sergei  Jermachenko</td>\n",
       "      <td>&lt;NA&gt;</td>\n",
       "      <td>NaN</td>\n",
       "      <td>NaN</td>\n",
       "      <td>Russia</td>\n",
       "    </tr>\n",
       "    <tr>\n",
       "      <th>6080</th>\n",
       "      <td>batik-odriozola</td>\n",
       "      <td>Batik  Odriozola</td>\n",
       "      <td>&lt;NA&gt;</td>\n",
       "      <td>NaN</td>\n",
       "      <td>NaN</td>\n",
       "      <td>Spain</td>\n",
       "    </tr>\n",
       "  </tbody>\n",
       "</table>\n",
       "</div>"
      ],
      "text/plain": [
       "                    _url                 name  birth_year  weight  height  \\\n",
       "9           scott-davies        Scott  Davies        <NA>     NaN     NaN   \n",
       "601     vladimir-malakov    Vladimir  Malakov        <NA>     NaN     NaN   \n",
       "894       antonio-zanini      Antonio  Zanini        <NA>     NaN     NaN   \n",
       "2408   filippo-simonetti   Filippo  Simonetti        <NA>     NaN     NaN   \n",
       "2515       carlos-garcia       Carlos  García        <NA>     NaN     NaN   \n",
       "2536     alexandr-osipov     Alexandr  Osipov        <NA>     NaN     NaN   \n",
       "3046    nicolai-kosyakov    Nicolai  Kosyakov        <NA>     NaN     NaN   \n",
       "3551          nevens-guy          Guy  Nevens        <NA>     NaN     NaN   \n",
       "4142         oscar-pumar         Oscar  Pumar        <NA>     NaN     NaN   \n",
       "4384       javier-luquin       Javier  Luquin        <NA>     NaN     NaN   \n",
       "4756      thierry-lauder      Thierry  Lauder        <NA>     NaN     NaN   \n",
       "6072  sergei-jermachenko  Sergei  Jermachenko        <NA>     NaN     NaN   \n",
       "6080     batik-odriozola     Batik  Odriozola        <NA>     NaN     NaN   \n",
       "\n",
       "     nationality  \n",
       "9           <NA>  \n",
       "601       Russia  \n",
       "894        Italy  \n",
       "2408       Italy  \n",
       "2515       Spain  \n",
       "2536      Russia  \n",
       "3046      Russia  \n",
       "3551     Belgium  \n",
       "4142   Venezuela  \n",
       "4384       Spain  \n",
       "4756      France  \n",
       "6072      Russia  \n",
       "6080       Spain  "
      ]
     },
     "execution_count": 1727,
     "metadata": {},
     "output_type": "execute_result"
    }
   ],
   "source": [
    "cyclists_df[cyclists_df['birth_year'].isnull()]\n"
   ]
  },
  {
   "cell_type": "markdown",
   "metadata": {},
   "source": [
    "As there are very few entries, we impute the missing values for the birthday by doing an online search (see the report for the complete list of sources used)."
   ]
  },
  {
   "cell_type": "code",
   "execution_count": 1728,
   "metadata": {},
   "outputs": [],
   "source": [
    "cyclists_df.loc[cyclists_df['_url'] == 'scott-davies', 'birth_year'] = 1995\n",
    "cyclists_df.loc[cyclists_df['_url'] == 'vladimir-malakov', 'birth_year'] = 1958 # no weight, height\n",
    "cyclists_df.loc[cyclists_df['_url'] == 'antonio-zanini', 'birth_year'] = 1965 # no weight, height"
   ]
  },
  {
   "cell_type": "markdown",
   "metadata": {},
   "source": [
    "To impute the ```birth_year``` value of ```javier-luqin``` we looked up the website procyclingstats.com retrieving the following race(s):"
   ]
  },
  {
   "cell_type": "code",
   "execution_count": 1729,
   "metadata": {},
   "outputs": [
    {
     "data": {
      "text/html": [
       "<div>\n",
       "<style scoped>\n",
       "    .dataframe tbody tr th:only-of-type {\n",
       "        vertical-align: middle;\n",
       "    }\n",
       "\n",
       "    .dataframe tbody tr th {\n",
       "        vertical-align: top;\n",
       "    }\n",
       "\n",
       "    .dataframe thead th {\n",
       "        text-align: right;\n",
       "    }\n",
       "</style>\n",
       "<table border=\"1\" class=\"dataframe\">\n",
       "  <thead>\n",
       "    <tr style=\"text-align: right;\">\n",
       "      <th></th>\n",
       "      <th>_url</th>\n",
       "      <th>name</th>\n",
       "      <th>points</th>\n",
       "      <th>uci_points</th>\n",
       "      <th>length</th>\n",
       "      <th>climb_total</th>\n",
       "      <th>profile</th>\n",
       "      <th>startlist_quality</th>\n",
       "      <th>average_temperature</th>\n",
       "      <th>date</th>\n",
       "      <th>position</th>\n",
       "      <th>cyclist</th>\n",
       "      <th>cyclist_age</th>\n",
       "      <th>is_tarmac</th>\n",
       "      <th>is_cobbled</th>\n",
       "      <th>is_gravel</th>\n",
       "      <th>cyclist_team</th>\n",
       "      <th>delta</th>\n",
       "    </tr>\n",
       "  </thead>\n",
       "  <tbody>\n",
       "    <tr>\n",
       "      <th>303965</th>\n",
       "      <td>giro-d-italia/1992/stage-19</td>\n",
       "      <td>Giro d'Italia</td>\n",
       "      <td>80.0</td>\n",
       "      <td>NaN</td>\n",
       "      <td>201000.0</td>\n",
       "      <td>NaN</td>\n",
       "      <td>NaN</td>\n",
       "      <td>953</td>\n",
       "      <td>NaN</td>\n",
       "      <td>1992-06-12 06:08:37</td>\n",
       "      <td>74</td>\n",
       "      <td>javier-luquin</td>\n",
       "      <td>NaN</td>\n",
       "      <td>True</td>\n",
       "      <td>False</td>\n",
       "      <td>False</td>\n",
       "      <td>NaN</td>\n",
       "      <td>966.0</td>\n",
       "    </tr>\n",
       "  </tbody>\n",
       "</table>\n",
       "</div>"
      ],
      "text/plain": [
       "                               _url           name  points  uci_points  \\\n",
       "303965  giro-d-italia/1992/stage-19  Giro d'Italia    80.0         NaN   \n",
       "\n",
       "          length  climb_total  profile  startlist_quality  \\\n",
       "303965  201000.0          NaN      NaN                953   \n",
       "\n",
       "        average_temperature                 date  position        cyclist  \\\n",
       "303965                  NaN  1992-06-12 06:08:37        74  javier-luquin   \n",
       "\n",
       "        cyclist_age  is_tarmac  is_cobbled  is_gravel cyclist_team  delta  \n",
       "303965          NaN       True       False      False          NaN  966.0  "
      ]
     },
     "execution_count": 1729,
     "metadata": {},
     "output_type": "execute_result"
    }
   ],
   "source": [
    "races_df[races_df['cyclist'] == 'javier-luquin']"
   ]
  },
  {
   "cell_type": "markdown",
   "metadata": {},
   "source": [
    "and then subsequently retrieving the card of ```javier-luquin``` to obtain his birthday. However, we noticed that Giro d'Italia '92 was participated by Luis Javier Lukin and not Luquin. We checked also ```cyclists.csv``` by noticing that Luis Javier Lukin is present and also has some races entries in ```races.csv``` the same reported in the webpage. we conclude that there is a mistake in the cyclist indentifier.\n",
    "\n",
    "We then change the cyclist identifier in ```races.csv``` and delete the wrong record in ```cyclists.csv```."
   ]
  },
  {
   "cell_type": "code",
   "execution_count": 1730,
   "metadata": {
    "vscode": {
     "languageId": "ruby"
    }
   },
   "outputs": [
    {
     "data": {
      "text/html": [
       "<div>\n",
       "<style scoped>\n",
       "    .dataframe tbody tr th:only-of-type {\n",
       "        vertical-align: middle;\n",
       "    }\n",
       "\n",
       "    .dataframe tbody tr th {\n",
       "        vertical-align: top;\n",
       "    }\n",
       "\n",
       "    .dataframe thead th {\n",
       "        text-align: right;\n",
       "    }\n",
       "</style>\n",
       "<table border=\"1\" class=\"dataframe\">\n",
       "  <thead>\n",
       "    <tr style=\"text-align: right;\">\n",
       "      <th></th>\n",
       "      <th>_url</th>\n",
       "      <th>name</th>\n",
       "      <th>birth_year</th>\n",
       "      <th>weight</th>\n",
       "      <th>height</th>\n",
       "      <th>nationality</th>\n",
       "    </tr>\n",
       "  </thead>\n",
       "  <tbody>\n",
       "  </tbody>\n",
       "</table>\n",
       "</div>"
      ],
      "text/plain": [
       "Empty DataFrame\n",
       "Columns: [_url, name, birth_year, weight, height, nationality]\n",
       "Index: []"
      ]
     },
     "execution_count": 1730,
     "metadata": {},
     "output_type": "execute_result"
    }
   ],
   "source": [
    "# Drop the row with the URL 'javier-luquin'\n",
    "cyclists_df = cyclists_df[cyclists_df['_url'] != 'javier-luquin']\n",
    "\n",
    "# Verify the row has been dropped\n",
    "(cyclists_df[cyclists_df['_url'] == 'javier-luquin'])"
   ]
  },
  {
   "cell_type": "code",
   "execution_count": 1731,
   "metadata": {},
   "outputs": [
    {
     "name": "stdout",
     "output_type": "stream",
     "text": [
      "Occurrences of 'javier-luquin': 1\n",
      "Occurrences of 'javier-lukin': 101\n"
     ]
    }
   ],
   "source": [
    "luquin_count = races_df[races_df['cyclist'] == 'javier-luquin'].shape[0]\n",
    "lukin_count = races_df[races_df['cyclist'] == 'javier-lukin'].shape[0]\n",
    "\n",
    "print(f\"Occurrences of 'javier-luquin': {luquin_count}\")\n",
    "print(f\"Occurrences of 'javier-lukin': {lukin_count}\")"
   ]
  },
  {
   "cell_type": "code",
   "execution_count": 1732,
   "metadata": {},
   "outputs": [
    {
     "name": "stdout",
     "output_type": "stream",
     "text": [
      "Occurrences of 'javier-luquin': 0\n",
      "Occurrences of 'javier-lukin': 102\n"
     ]
    }
   ],
   "source": [
    "# Replace 'javier-luquin' with 'javier-lukin' in the cyclist column\n",
    "races_df['cyclist'] = races_df['cyclist'].replace('javier-luquin', 'javier-lukin')\n",
    "\n",
    "# Verify\n",
    "luquin_count = races_df[races_df['cyclist'] == 'javier-luquin'].shape[0]\n",
    "lukin_count = races_df[races_df['cyclist'] == 'javier-lukin'].shape[0]\n",
    "\n",
    "print(f\"Occurrences of 'javier-luquin': {luquin_count}\")\n",
    "print(f\"Occurrences of 'javier-lukin': {lukin_count}\")"
   ]
  },
  {
   "cell_type": "markdown",
   "metadata": {},
   "source": [
    "The remaining cyclists participated only in one race for each so their weight on the overall data is minimum. For this reason we decide to impute their birth year using a simple approach: in the history the average debut age is between 20 and 22 years old. We take the upper bound and subtract it from the odest race date presente in the dataset, obtaining in this way an estimation of the age.\n",
    "\n",
    "TODO: why the upper bound? Is this justification sufficient?"
   ]
  },
  {
   "cell_type": "code",
   "execution_count": 1733,
   "metadata": {},
   "outputs": [
    {
     "data": {
      "text/html": [
       "<div>\n",
       "<style scoped>\n",
       "    .dataframe tbody tr th:only-of-type {\n",
       "        vertical-align: middle;\n",
       "    }\n",
       "\n",
       "    .dataframe tbody tr th {\n",
       "        vertical-align: top;\n",
       "    }\n",
       "\n",
       "    .dataframe thead th {\n",
       "        text-align: right;\n",
       "    }\n",
       "</style>\n",
       "<table border=\"1\" class=\"dataframe\">\n",
       "  <thead>\n",
       "    <tr style=\"text-align: right;\">\n",
       "      <th></th>\n",
       "      <th>_url</th>\n",
       "      <th>name</th>\n",
       "      <th>birth_year</th>\n",
       "      <th>weight</th>\n",
       "      <th>height</th>\n",
       "      <th>nationality</th>\n",
       "    </tr>\n",
       "  </thead>\n",
       "  <tbody>\n",
       "    <tr>\n",
       "      <th>2408</th>\n",
       "      <td>filippo-simonetti</td>\n",
       "      <td>Filippo  Simonetti</td>\n",
       "      <td>1975</td>\n",
       "      <td>NaN</td>\n",
       "      <td>NaN</td>\n",
       "      <td>Italy</td>\n",
       "    </tr>\n",
       "    <tr>\n",
       "      <th>2515</th>\n",
       "      <td>carlos-garcia</td>\n",
       "      <td>Carlos  García</td>\n",
       "      <td>1979</td>\n",
       "      <td>NaN</td>\n",
       "      <td>NaN</td>\n",
       "      <td>Spain</td>\n",
       "    </tr>\n",
       "    <tr>\n",
       "      <th>2536</th>\n",
       "      <td>alexandr-osipov</td>\n",
       "      <td>Alexandr  Osipov</td>\n",
       "      <td>1963</td>\n",
       "      <td>NaN</td>\n",
       "      <td>NaN</td>\n",
       "      <td>Russia</td>\n",
       "    </tr>\n",
       "    <tr>\n",
       "      <th>3046</th>\n",
       "      <td>nicolai-kosyakov</td>\n",
       "      <td>Nicolai  Kosyakov</td>\n",
       "      <td>1963</td>\n",
       "      <td>NaN</td>\n",
       "      <td>NaN</td>\n",
       "      <td>Russia</td>\n",
       "    </tr>\n",
       "    <tr>\n",
       "      <th>3551</th>\n",
       "      <td>nevens-guy</td>\n",
       "      <td>Guy  Nevens</td>\n",
       "      <td>1971</td>\n",
       "      <td>NaN</td>\n",
       "      <td>NaN</td>\n",
       "      <td>Belgium</td>\n",
       "    </tr>\n",
       "    <tr>\n",
       "      <th>4142</th>\n",
       "      <td>oscar-pumar</td>\n",
       "      <td>Oscar  Pumar</td>\n",
       "      <td>1973</td>\n",
       "      <td>NaN</td>\n",
       "      <td>NaN</td>\n",
       "      <td>Venezuela</td>\n",
       "    </tr>\n",
       "    <tr>\n",
       "      <th>4756</th>\n",
       "      <td>thierry-lauder</td>\n",
       "      <td>Thierry  Lauder</td>\n",
       "      <td>1978</td>\n",
       "      <td>NaN</td>\n",
       "      <td>NaN</td>\n",
       "      <td>France</td>\n",
       "    </tr>\n",
       "    <tr>\n",
       "      <th>6072</th>\n",
       "      <td>sergei-jermachenko</td>\n",
       "      <td>Sergei  Jermachenko</td>\n",
       "      <td>1963</td>\n",
       "      <td>NaN</td>\n",
       "      <td>NaN</td>\n",
       "      <td>Russia</td>\n",
       "    </tr>\n",
       "    <tr>\n",
       "      <th>6080</th>\n",
       "      <td>batik-odriozola</td>\n",
       "      <td>Batik  Odriozola</td>\n",
       "      <td>1975</td>\n",
       "      <td>NaN</td>\n",
       "      <td>NaN</td>\n",
       "      <td>Spain</td>\n",
       "    </tr>\n",
       "  </tbody>\n",
       "</table>\n",
       "</div>"
      ],
      "text/plain": [
       "                    _url                 name  birth_year  weight  height  \\\n",
       "2408   filippo-simonetti   Filippo  Simonetti        1975     NaN     NaN   \n",
       "2515       carlos-garcia       Carlos  García        1979     NaN     NaN   \n",
       "2536     alexandr-osipov     Alexandr  Osipov        1963     NaN     NaN   \n",
       "3046    nicolai-kosyakov    Nicolai  Kosyakov        1963     NaN     NaN   \n",
       "3551          nevens-guy          Guy  Nevens        1971     NaN     NaN   \n",
       "4142         oscar-pumar         Oscar  Pumar        1973     NaN     NaN   \n",
       "4756      thierry-lauder      Thierry  Lauder        1978     NaN     NaN   \n",
       "6072  sergei-jermachenko  Sergei  Jermachenko        1963     NaN     NaN   \n",
       "6080     batik-odriozola     Batik  Odriozola        1975     NaN     NaN   \n",
       "\n",
       "     nationality  \n",
       "2408       Italy  \n",
       "2515       Spain  \n",
       "2536      Russia  \n",
       "3046      Russia  \n",
       "3551     Belgium  \n",
       "4142   Venezuela  \n",
       "4756      France  \n",
       "6072      Russia  \n",
       "6080       Spain  "
      ]
     },
     "execution_count": 1733,
     "metadata": {},
     "output_type": "execute_result"
    }
   ],
   "source": [
    "average_debut_age = 22 # average age of a cyclist when they start racing\n",
    "\n",
    "cyclists = [\n",
    "    'filippo-simonetti',\n",
    "    'carlos-garcia',\n",
    "    'alexandr-osipov',\n",
    "    'nicolai-kosyakov',\n",
    "    'nevens-guy',\n",
    "    'oscar-pumar',\n",
    "    'thierry-lauder',\n",
    "    'sergei-jermachenko',\n",
    "    'batik-odriozola'\n",
    "]\n",
    "\n",
    "for cyclist in cyclists:\n",
    "    # Get the oldest race date for the cyclist\n",
    "    oldest_race_date = pd.to_datetime(races_df[races_df['cyclist'] == cyclist]['date']).min()\n",
    "    \n",
    "    # Calculate the birth year by subtracting the average debut age from the oldest race year\n",
    "    birth_year = oldest_race_date.year - average_debut_age\n",
    "    \n",
    "    # Update the birth year in the cyclists_df DataFrame\n",
    "    cyclists_df.loc[cyclists_df['_url'] == cyclist, 'birth_year'] = birth_year\n",
    "\n",
    "cyclists_df[cyclists_df['_url'].isin(cyclists)]"
   ]
  },
  {
   "cell_type": "markdown",
   "metadata": {},
   "source": [
    "Since ```weight``` and ```height``` columns have ~50% of null values we decide to drop the two column for the general analysis. We reserve the right to reuse them for other, more specific, analyses. TODO: fix this comment."
   ]
  },
  {
   "cell_type": "code",
   "execution_count": 1734,
   "metadata": {},
   "outputs": [
    {
     "name": "stdout",
     "output_type": "stream",
     "text": [
      "Percentage of null values in weight column: 49.75%\n",
      "Percentage of null values in height column: 48.69%\n"
     ]
    }
   ],
   "source": [
    "# Calculate the percentage of null values in the weight and height columns\n",
    "weight_null_percentage = cyclists_df['weight'].isnull().sum() / len(cyclists_df) * 100\n",
    "height_null_percentage = cyclists_df['height'].isnull().sum() / len(cyclists_df) * 100\n",
    "\n",
    "print(f\"Percentage of null values in weight column: {weight_null_percentage:.2f}%\")\n",
    "print(f\"Percentage of null values in height column: {height_null_percentage:.2f}%\")"
   ]
  },
  {
   "cell_type": "markdown",
   "metadata": {},
   "source": [
    "Now we impute the only null value for nationality which is the one associated to Scott Davies, who's from Great Britain."
   ]
  },
  {
   "cell_type": "code",
   "execution_count": 1735,
   "metadata": {},
   "outputs": [
    {
     "data": {
      "text/html": [
       "<div>\n",
       "<style scoped>\n",
       "    .dataframe tbody tr th:only-of-type {\n",
       "        vertical-align: middle;\n",
       "    }\n",
       "\n",
       "    .dataframe tbody tr th {\n",
       "        vertical-align: top;\n",
       "    }\n",
       "\n",
       "    .dataframe thead th {\n",
       "        text-align: right;\n",
       "    }\n",
       "</style>\n",
       "<table border=\"1\" class=\"dataframe\">\n",
       "  <thead>\n",
       "    <tr style=\"text-align: right;\">\n",
       "      <th></th>\n",
       "      <th>_url</th>\n",
       "      <th>name</th>\n",
       "      <th>birth_year</th>\n",
       "      <th>weight</th>\n",
       "      <th>height</th>\n",
       "      <th>nationality</th>\n",
       "    </tr>\n",
       "  </thead>\n",
       "  <tbody>\n",
       "    <tr>\n",
       "      <th>9</th>\n",
       "      <td>scott-davies</td>\n",
       "      <td>Scott  Davies</td>\n",
       "      <td>1995</td>\n",
       "      <td>NaN</td>\n",
       "      <td>NaN</td>\n",
       "      <td>&lt;NA&gt;</td>\n",
       "    </tr>\n",
       "  </tbody>\n",
       "</table>\n",
       "</div>"
      ],
      "text/plain": [
       "           _url           name  birth_year  weight  height nationality\n",
       "9  scott-davies  Scott  Davies        1995     NaN     NaN        <NA>"
      ]
     },
     "execution_count": 1735,
     "metadata": {},
     "output_type": "execute_result"
    }
   ],
   "source": [
    "cyclists_df[cyclists_df['nationality'].isnull()]"
   ]
  },
  {
   "cell_type": "code",
   "execution_count": 1736,
   "metadata": {},
   "outputs": [
    {
     "data": {
      "text/html": [
       "<div>\n",
       "<style scoped>\n",
       "    .dataframe tbody tr th:only-of-type {\n",
       "        vertical-align: middle;\n",
       "    }\n",
       "\n",
       "    .dataframe tbody tr th {\n",
       "        vertical-align: top;\n",
       "    }\n",
       "\n",
       "    .dataframe thead th {\n",
       "        text-align: right;\n",
       "    }\n",
       "</style>\n",
       "<table border=\"1\" class=\"dataframe\">\n",
       "  <thead>\n",
       "    <tr style=\"text-align: right;\">\n",
       "      <th></th>\n",
       "      <th>_url</th>\n",
       "      <th>name</th>\n",
       "      <th>birth_year</th>\n",
       "      <th>weight</th>\n",
       "      <th>height</th>\n",
       "      <th>nationality</th>\n",
       "    </tr>\n",
       "  </thead>\n",
       "  <tbody>\n",
       "    <tr>\n",
       "      <th>9</th>\n",
       "      <td>scott-davies</td>\n",
       "      <td>Scott  Davies</td>\n",
       "      <td>1995</td>\n",
       "      <td>NaN</td>\n",
       "      <td>NaN</td>\n",
       "      <td>Great Britain</td>\n",
       "    </tr>\n",
       "  </tbody>\n",
       "</table>\n",
       "</div>"
      ],
      "text/plain": [
       "           _url           name  birth_year  weight  height    nationality\n",
       "9  scott-davies  Scott  Davies        1995     NaN     NaN  Great Britain"
      ]
     },
     "execution_count": 1736,
     "metadata": {},
     "output_type": "execute_result"
    }
   ],
   "source": [
    "# Set Great Britain as the nationality for the cyclist 'scott-davies'\n",
    "cyclists_df.loc[cyclists_df['_url'] == 'scott-davies', 'nationality'] = 'Great Britain'\n",
    "\n",
    "# Verify\n",
    "cyclists_df[cyclists_df['_url'] == 'scott-davies']"
   ]
  },
  {
   "cell_type": "markdown",
   "metadata": {},
   "source": [
    "## Races Dataset"
   ]
  },
  {
   "cell_type": "markdown",
   "metadata": {},
   "source": [
    "### Points"
   ]
  },
  {
   "cell_type": "code",
   "execution_count": 1737,
   "metadata": {},
   "outputs": [
    {
     "data": {
      "text/html": [
       "<div>\n",
       "<style scoped>\n",
       "    .dataframe tbody tr th:only-of-type {\n",
       "        vertical-align: middle;\n",
       "    }\n",
       "\n",
       "    .dataframe tbody tr th {\n",
       "        vertical-align: top;\n",
       "    }\n",
       "\n",
       "    .dataframe thead th {\n",
       "        text-align: right;\n",
       "    }\n",
       "</style>\n",
       "<table border=\"1\" class=\"dataframe\">\n",
       "  <thead>\n",
       "    <tr style=\"text-align: right;\">\n",
       "      <th></th>\n",
       "      <th>_url</th>\n",
       "      <th>name</th>\n",
       "      <th>points</th>\n",
       "      <th>uci_points</th>\n",
       "      <th>length</th>\n",
       "      <th>climb_total</th>\n",
       "      <th>profile</th>\n",
       "      <th>startlist_quality</th>\n",
       "      <th>average_temperature</th>\n",
       "      <th>date</th>\n",
       "      <th>position</th>\n",
       "      <th>cyclist</th>\n",
       "      <th>cyclist_age</th>\n",
       "      <th>is_tarmac</th>\n",
       "      <th>is_cobbled</th>\n",
       "      <th>is_gravel</th>\n",
       "      <th>cyclist_team</th>\n",
       "      <th>delta</th>\n",
       "    </tr>\n",
       "  </thead>\n",
       "  <tbody>\n",
       "    <tr>\n",
       "      <th>156755</th>\n",
       "      <td>vuelta-a-espana/1994/stage-5</td>\n",
       "      <td>Vuelta a España</td>\n",
       "      <td>NaN</td>\n",
       "      <td>NaN</td>\n",
       "      <td>166900.0</td>\n",
       "      <td>1547.0</td>\n",
       "      <td>NaN</td>\n",
       "      <td>791</td>\n",
       "      <td>NaN</td>\n",
       "      <td>1994-04-29 04:24:10</td>\n",
       "      <td>0</td>\n",
       "      <td>laurent-jalabert</td>\n",
       "      <td>26.0</td>\n",
       "      <td>True</td>\n",
       "      <td>False</td>\n",
       "      <td>False</td>\n",
       "      <td>linea-md-italia-maggi-mobili-1985</td>\n",
       "      <td>0.0</td>\n",
       "    </tr>\n",
       "    <tr>\n",
       "      <th>156756</th>\n",
       "      <td>vuelta-a-espana/1994/stage-5</td>\n",
       "      <td>Vuelta a España</td>\n",
       "      <td>NaN</td>\n",
       "      <td>NaN</td>\n",
       "      <td>166900.0</td>\n",
       "      <td>1547.0</td>\n",
       "      <td>NaN</td>\n",
       "      <td>791</td>\n",
       "      <td>NaN</td>\n",
       "      <td>1994-04-29 04:24:10</td>\n",
       "      <td>1</td>\n",
       "      <td>endrio-leoni</td>\n",
       "      <td>26.0</td>\n",
       "      <td>True</td>\n",
       "      <td>False</td>\n",
       "      <td>False</td>\n",
       "      <td>luxembourg-2013</td>\n",
       "      <td>0.0</td>\n",
       "    </tr>\n",
       "    <tr>\n",
       "      <th>156757</th>\n",
       "      <td>vuelta-a-espana/1994/stage-5</td>\n",
       "      <td>Vuelta a España</td>\n",
       "      <td>NaN</td>\n",
       "      <td>NaN</td>\n",
       "      <td>166900.0</td>\n",
       "      <td>1547.0</td>\n",
       "      <td>NaN</td>\n",
       "      <td>791</td>\n",
       "      <td>NaN</td>\n",
       "      <td>1994-04-29 04:24:10</td>\n",
       "      <td>2</td>\n",
       "      <td>angel-edo</td>\n",
       "      <td>24.0</td>\n",
       "      <td>True</td>\n",
       "      <td>False</td>\n",
       "      <td>False</td>\n",
       "      <td>atala-1985</td>\n",
       "      <td>0.0</td>\n",
       "    </tr>\n",
       "    <tr>\n",
       "      <th>156758</th>\n",
       "      <td>vuelta-a-espana/1994/stage-5</td>\n",
       "      <td>Vuelta a España</td>\n",
       "      <td>NaN</td>\n",
       "      <td>NaN</td>\n",
       "      <td>166900.0</td>\n",
       "      <td>1547.0</td>\n",
       "      <td>NaN</td>\n",
       "      <td>791</td>\n",
       "      <td>NaN</td>\n",
       "      <td>1994-04-29 04:24:10</td>\n",
       "      <td>3</td>\n",
       "      <td>fabio-roscioli</td>\n",
       "      <td>29.0</td>\n",
       "      <td>True</td>\n",
       "      <td>False</td>\n",
       "      <td>False</td>\n",
       "      <td>ville-de-charleroi-new-systems-2000</td>\n",
       "      <td>0.0</td>\n",
       "    </tr>\n",
       "    <tr>\n",
       "      <th>156759</th>\n",
       "      <td>vuelta-a-espana/1994/stage-5</td>\n",
       "      <td>Vuelta a España</td>\n",
       "      <td>NaN</td>\n",
       "      <td>NaN</td>\n",
       "      <td>166900.0</td>\n",
       "      <td>1547.0</td>\n",
       "      <td>NaN</td>\n",
       "      <td>791</td>\n",
       "      <td>NaN</td>\n",
       "      <td>1994-04-29 04:24:10</td>\n",
       "      <td>4</td>\n",
       "      <td>paolo-antonio-fanelli</td>\n",
       "      <td>28.0</td>\n",
       "      <td>True</td>\n",
       "      <td>False</td>\n",
       "      <td>False</td>\n",
       "      <td>NaN</td>\n",
       "      <td>0.0</td>\n",
       "    </tr>\n",
       "    <tr>\n",
       "      <th>...</th>\n",
       "      <td>...</td>\n",
       "      <td>...</td>\n",
       "      <td>...</td>\n",
       "      <td>...</td>\n",
       "      <td>...</td>\n",
       "      <td>...</td>\n",
       "      <td>...</td>\n",
       "      <td>...</td>\n",
       "      <td>...</td>\n",
       "      <td>...</td>\n",
       "      <td>...</td>\n",
       "      <td>...</td>\n",
       "      <td>...</td>\n",
       "      <td>...</td>\n",
       "      <td>...</td>\n",
       "      <td>...</td>\n",
       "      <td>...</td>\n",
       "      <td>...</td>\n",
       "    </tr>\n",
       "    <tr>\n",
       "      <th>561463</th>\n",
       "      <td>tour-de-france/2019/stage-19</td>\n",
       "      <td>Tour de France</td>\n",
       "      <td>NaN</td>\n",
       "      <td>NaN</td>\n",
       "      <td>89000.0</td>\n",
       "      <td>2995.0</td>\n",
       "      <td>5.0</td>\n",
       "      <td>1699</td>\n",
       "      <td>NaN</td>\n",
       "      <td>2019-07-26 03:06:43</td>\n",
       "      <td>150</td>\n",
       "      <td>lars-ytting-bak</td>\n",
       "      <td>39.0</td>\n",
       "      <td>True</td>\n",
       "      <td>False</td>\n",
       "      <td>False</td>\n",
       "      <td>team-giant-shimano-2014</td>\n",
       "      <td>1572.0</td>\n",
       "    </tr>\n",
       "    <tr>\n",
       "      <th>561464</th>\n",
       "      <td>tour-de-france/2019/stage-19</td>\n",
       "      <td>Tour de France</td>\n",
       "      <td>NaN</td>\n",
       "      <td>NaN</td>\n",
       "      <td>89000.0</td>\n",
       "      <td>2995.0</td>\n",
       "      <td>5.0</td>\n",
       "      <td>1699</td>\n",
       "      <td>NaN</td>\n",
       "      <td>2019-07-26 03:06:55</td>\n",
       "      <td>151</td>\n",
       "      <td>adam-yates</td>\n",
       "      <td>27.0</td>\n",
       "      <td>True</td>\n",
       "      <td>False</td>\n",
       "      <td>False</td>\n",
       "      <td>new-zealand-1991</td>\n",
       "      <td>1584.0</td>\n",
       "    </tr>\n",
       "    <tr>\n",
       "      <th>561465</th>\n",
       "      <td>tour-de-france/2019/stage-19</td>\n",
       "      <td>Tour de France</td>\n",
       "      <td>NaN</td>\n",
       "      <td>NaN</td>\n",
       "      <td>89000.0</td>\n",
       "      <td>2995.0</td>\n",
       "      <td>5.0</td>\n",
       "      <td>1699</td>\n",
       "      <td>NaN</td>\n",
       "      <td>2019-07-26 03:06:55</td>\n",
       "      <td>152</td>\n",
       "      <td>roger-kluge</td>\n",
       "      <td>33.0</td>\n",
       "      <td>True</td>\n",
       "      <td>False</td>\n",
       "      <td>False</td>\n",
       "      <td>south-africa-1993</td>\n",
       "      <td>1584.0</td>\n",
       "    </tr>\n",
       "    <tr>\n",
       "      <th>561466</th>\n",
       "      <td>tour-de-france/2019/stage-19</td>\n",
       "      <td>Tour de France</td>\n",
       "      <td>NaN</td>\n",
       "      <td>NaN</td>\n",
       "      <td>89000.0</td>\n",
       "      <td>2995.0</td>\n",
       "      <td>5.0</td>\n",
       "      <td>1699</td>\n",
       "      <td>NaN</td>\n",
       "      <td>2019-07-26 03:11:25</td>\n",
       "      <td>153</td>\n",
       "      <td>alex-dowsett</td>\n",
       "      <td>31.0</td>\n",
       "      <td>True</td>\n",
       "      <td>False</td>\n",
       "      <td>False</td>\n",
       "      <td>teka-1988</td>\n",
       "      <td>1854.0</td>\n",
       "    </tr>\n",
       "    <tr>\n",
       "      <th>561467</th>\n",
       "      <td>tour-de-france/2019/stage-19</td>\n",
       "      <td>Tour de France</td>\n",
       "      <td>NaN</td>\n",
       "      <td>NaN</td>\n",
       "      <td>89000.0</td>\n",
       "      <td>2995.0</td>\n",
       "      <td>5.0</td>\n",
       "      <td>1699</td>\n",
       "      <td>NaN</td>\n",
       "      <td>2019-07-26 03:14:46</td>\n",
       "      <td>154</td>\n",
       "      <td>jens-debusschere</td>\n",
       "      <td>30.0</td>\n",
       "      <td>True</td>\n",
       "      <td>False</td>\n",
       "      <td>False</td>\n",
       "      <td>teka-1988</td>\n",
       "      <td>2055.0</td>\n",
       "    </tr>\n",
       "  </tbody>\n",
       "</table>\n",
       "<p>477 rows × 18 columns</p>\n",
       "</div>"
      ],
      "text/plain": [
       "                                _url             name  points  uci_points  \\\n",
       "156755  vuelta-a-espana/1994/stage-5  Vuelta a España     NaN         NaN   \n",
       "156756  vuelta-a-espana/1994/stage-5  Vuelta a España     NaN         NaN   \n",
       "156757  vuelta-a-espana/1994/stage-5  Vuelta a España     NaN         NaN   \n",
       "156758  vuelta-a-espana/1994/stage-5  Vuelta a España     NaN         NaN   \n",
       "156759  vuelta-a-espana/1994/stage-5  Vuelta a España     NaN         NaN   \n",
       "...                              ...              ...     ...         ...   \n",
       "561463  tour-de-france/2019/stage-19   Tour de France     NaN         NaN   \n",
       "561464  tour-de-france/2019/stage-19   Tour de France     NaN         NaN   \n",
       "561465  tour-de-france/2019/stage-19   Tour de France     NaN         NaN   \n",
       "561466  tour-de-france/2019/stage-19   Tour de France     NaN         NaN   \n",
       "561467  tour-de-france/2019/stage-19   Tour de France     NaN         NaN   \n",
       "\n",
       "          length  climb_total  profile  startlist_quality  \\\n",
       "156755  166900.0       1547.0      NaN                791   \n",
       "156756  166900.0       1547.0      NaN                791   \n",
       "156757  166900.0       1547.0      NaN                791   \n",
       "156758  166900.0       1547.0      NaN                791   \n",
       "156759  166900.0       1547.0      NaN                791   \n",
       "...          ...          ...      ...                ...   \n",
       "561463   89000.0       2995.0      5.0               1699   \n",
       "561464   89000.0       2995.0      5.0               1699   \n",
       "561465   89000.0       2995.0      5.0               1699   \n",
       "561466   89000.0       2995.0      5.0               1699   \n",
       "561467   89000.0       2995.0      5.0               1699   \n",
       "\n",
       "        average_temperature                 date  position  \\\n",
       "156755                  NaN  1994-04-29 04:24:10         0   \n",
       "156756                  NaN  1994-04-29 04:24:10         1   \n",
       "156757                  NaN  1994-04-29 04:24:10         2   \n",
       "156758                  NaN  1994-04-29 04:24:10         3   \n",
       "156759                  NaN  1994-04-29 04:24:10         4   \n",
       "...                     ...                  ...       ...   \n",
       "561463                  NaN  2019-07-26 03:06:43       150   \n",
       "561464                  NaN  2019-07-26 03:06:55       151   \n",
       "561465                  NaN  2019-07-26 03:06:55       152   \n",
       "561466                  NaN  2019-07-26 03:11:25       153   \n",
       "561467                  NaN  2019-07-26 03:14:46       154   \n",
       "\n",
       "                      cyclist  cyclist_age  is_tarmac  is_cobbled  is_gravel  \\\n",
       "156755       laurent-jalabert         26.0       True       False      False   \n",
       "156756           endrio-leoni         26.0       True       False      False   \n",
       "156757              angel-edo         24.0       True       False      False   \n",
       "156758         fabio-roscioli         29.0       True       False      False   \n",
       "156759  paolo-antonio-fanelli         28.0       True       False      False   \n",
       "...                       ...          ...        ...         ...        ...   \n",
       "561463        lars-ytting-bak         39.0       True       False      False   \n",
       "561464             adam-yates         27.0       True       False      False   \n",
       "561465            roger-kluge         33.0       True       False      False   \n",
       "561466           alex-dowsett         31.0       True       False      False   \n",
       "561467       jens-debusschere         30.0       True       False      False   \n",
       "\n",
       "                               cyclist_team   delta  \n",
       "156755    linea-md-italia-maggi-mobili-1985     0.0  \n",
       "156756                      luxembourg-2013     0.0  \n",
       "156757                           atala-1985     0.0  \n",
       "156758  ville-de-charleroi-new-systems-2000     0.0  \n",
       "156759                                  NaN     0.0  \n",
       "...                                     ...     ...  \n",
       "561463              team-giant-shimano-2014  1572.0  \n",
       "561464                     new-zealand-1991  1584.0  \n",
       "561465                    south-africa-1993  1584.0  \n",
       "561466                            teka-1988  1854.0  \n",
       "561467                            teka-1988  2055.0  \n",
       "\n",
       "[477 rows x 18 columns]"
      ]
     },
     "execution_count": 1737,
     "metadata": {},
     "output_type": "execute_result"
    }
   ],
   "source": [
    "races_df[races_df['points'].isnull()]"
   ]
  },
  {
   "cell_type": "code",
   "execution_count": 1738,
   "metadata": {},
   "outputs": [
    {
     "data": {
      "text/plain": [
       "_url\n",
       "vuelta-a-espana/1994/stage-5    165\n",
       "tour-de-france/2019/stage-19    155\n",
       "tour-de-france/1986/stage-19    135\n",
       "tour-de-france/1988/prologue     22\n",
       "Name: count, dtype: int64"
      ]
     },
     "execution_count": 1738,
     "metadata": {},
     "output_type": "execute_result"
    }
   ],
   "source": [
    "races_df[races_df['points'].isnull()]['_url'].value_counts()"
   ]
  },
  {
   "cell_type": "code",
   "execution_count": 1739,
   "metadata": {},
   "outputs": [
    {
     "data": {
      "text/plain": [
       "np.int64(0)"
      ]
     },
     "execution_count": 1739,
     "metadata": {},
     "output_type": "execute_result"
    }
   ],
   "source": [
    "null_urls = ['vuelta-a-espana/1994/stage-5', 'tour-de-france/2019/stage-19', 'tour-de-france/1986/stage-19', 'tour-de-france/1988/prologue']\n",
    "\n",
    "for url in null_urls:\n",
    "    # split the url by '/'\n",
    "    url_parts = url.split('/')\n",
    "    # find the urls with the same first and third parts excluding the second part\n",
    "    matching_urls = races_df['_url'].apply(lambda x: x.split('/')).apply(lambda x: x[0] == url_parts[0] and x[2] == url_parts[2] and x[1] != url_parts[1])\n",
    "    # calculate the median points for the matching urls\n",
    "    median = races_df[matching_urls]['points'].median()\n",
    "    # update the null values with the median\n",
    "    races_df.loc[races_df['_url'] == url, 'points'] = races_df.loc[races_df['_url'] == url, 'points'].fillna(median)\n",
    "    \n",
    "# Verify\n",
    "races_df['points'].isnull().sum()\n",
    " \n"
   ]
  },
  {
   "cell_type": "markdown",
   "metadata": {},
   "source": [
    "## climb_total"
   ]
  },
  {
   "cell_type": "markdown",
   "metadata": {},
   "source": [
    "TODO: add justification comment"
   ]
  },
  {
   "cell_type": "code",
   "execution_count": 1740,
   "metadata": {},
   "outputs": [
    {
     "name": "stdout",
     "output_type": "stream",
     "text": [
      "Remaining rows after dropping rows with null climb_total: 442820\n"
     ]
    }
   ],
   "source": [
    "# Drop rows where climb_total is null\n",
    "races_df = races_df.dropna(subset=['climb_total'])\n",
    "\n",
    "# Verify\n",
    "print(f\"Remaining rows after dropping rows with null climb_total: {races_df.shape[0]}\")"
   ]
  },
  {
   "cell_type": "markdown",
   "metadata": {},
   "source": [
    "## ```average_temperature```"
   ]
  },
  {
   "cell_type": "markdown",
   "metadata": {},
   "source": [
    "TODO: add comment"
   ]
  },
  {
   "cell_type": "code",
   "execution_count": 1741,
   "metadata": {},
   "outputs": [
    {
     "name": "stdout",
     "output_type": "stream",
     "text": [
      "Remaining columns after dropping 'average_temperature':\n",
      "Index(['_url', 'name', 'points', 'uci_points', 'length', 'climb_total',\n",
      "       'profile', 'startlist_quality', 'date', 'position', 'cyclist',\n",
      "       'cyclist_age', 'is_tarmac', 'is_cobbled', 'is_gravel', 'cyclist_team',\n",
      "       'delta'],\n",
      "      dtype='object')\n"
     ]
    }
   ],
   "source": [
    "races_df = races_df.drop(columns=['average_temperature'])\n",
    "print(f\"Remaining columns after dropping 'average_temperature':\")\n",
    "print(races_df.columns)"
   ]
  },
  {
   "cell_type": "markdown",
   "metadata": {},
   "source": [
    "## date"
   ]
  },
  {
   "cell_type": "code",
   "execution_count": 1742,
   "metadata": {
    "vscode": {
     "languageId": "ruby"
    }
   },
   "outputs": [
    {
     "data": {
      "text/html": [
       "<div>\n",
       "<style scoped>\n",
       "    .dataframe tbody tr th:only-of-type {\n",
       "        vertical-align: middle;\n",
       "    }\n",
       "\n",
       "    .dataframe tbody tr th {\n",
       "        vertical-align: top;\n",
       "    }\n",
       "\n",
       "    .dataframe thead th {\n",
       "        text-align: right;\n",
       "    }\n",
       "</style>\n",
       "<table border=\"1\" class=\"dataframe\">\n",
       "  <thead>\n",
       "    <tr style=\"text-align: right;\">\n",
       "      <th></th>\n",
       "      <th>race_date</th>\n",
       "      <th>race_duration</th>\n",
       "    </tr>\n",
       "  </thead>\n",
       "  <tbody>\n",
       "    <tr>\n",
       "      <th>0</th>\n",
       "      <td>1978-07-05</td>\n",
       "      <td>04:02:24</td>\n",
       "    </tr>\n",
       "    <tr>\n",
       "      <th>1</th>\n",
       "      <td>1978-07-05</td>\n",
       "      <td>04:02:24</td>\n",
       "    </tr>\n",
       "    <tr>\n",
       "      <th>2</th>\n",
       "      <td>1978-07-05</td>\n",
       "      <td>04:02:24</td>\n",
       "    </tr>\n",
       "    <tr>\n",
       "      <th>3</th>\n",
       "      <td>1978-07-05</td>\n",
       "      <td>04:02:24</td>\n",
       "    </tr>\n",
       "    <tr>\n",
       "      <th>4</th>\n",
       "      <td>1978-07-05</td>\n",
       "      <td>04:02:24</td>\n",
       "    </tr>\n",
       "    <tr>\n",
       "      <th>5</th>\n",
       "      <td>1978-07-05</td>\n",
       "      <td>04:02:51</td>\n",
       "    </tr>\n",
       "    <tr>\n",
       "      <th>6</th>\n",
       "      <td>1978-07-05</td>\n",
       "      <td>04:02:51</td>\n",
       "    </tr>\n",
       "    <tr>\n",
       "      <th>7</th>\n",
       "      <td>1978-07-05</td>\n",
       "      <td>04:02:51</td>\n",
       "    </tr>\n",
       "    <tr>\n",
       "      <th>8</th>\n",
       "      <td>1978-07-05</td>\n",
       "      <td>04:02:51</td>\n",
       "    </tr>\n",
       "    <tr>\n",
       "      <th>9</th>\n",
       "      <td>1978-07-05</td>\n",
       "      <td>04:02:51</td>\n",
       "    </tr>\n",
       "  </tbody>\n",
       "</table>\n",
       "</div>"
      ],
      "text/plain": [
       "    race_date race_duration\n",
       "0  1978-07-05      04:02:24\n",
       "1  1978-07-05      04:02:24\n",
       "2  1978-07-05      04:02:24\n",
       "3  1978-07-05      04:02:24\n",
       "4  1978-07-05      04:02:24\n",
       "5  1978-07-05      04:02:51\n",
       "6  1978-07-05      04:02:51\n",
       "7  1978-07-05      04:02:51\n",
       "8  1978-07-05      04:02:51\n",
       "9  1978-07-05      04:02:51"
      ]
     },
     "execution_count": 1742,
     "metadata": {},
     "output_type": "execute_result"
    }
   ],
   "source": [
    "# Split the 'date' column into 'race_date' and 'race_duration'\n",
    "races_df['race_date'] = pd.to_datetime(races_df['date']).dt.date\n",
    "races_df['race_duration'] = pd.to_datetime(races_df['date']).dt.time\n",
    "\n",
    "# Drop the original 'date' column\n",
    "races_df = races_df.drop(columns=['date'])\n",
    "\n",
    "# Verify the changes\n",
    "races_df[['race_date', 'race_duration']].head(10)"
   ]
  },
  {
   "cell_type": "code",
   "execution_count": 1743,
   "metadata": {},
   "outputs": [
    {
     "data": {
      "text/html": [
       "<div>\n",
       "<style scoped>\n",
       "    .dataframe tbody tr th:only-of-type {\n",
       "        vertical-align: middle;\n",
       "    }\n",
       "\n",
       "    .dataframe tbody tr th {\n",
       "        vertical-align: top;\n",
       "    }\n",
       "\n",
       "    .dataframe thead th {\n",
       "        text-align: right;\n",
       "    }\n",
       "</style>\n",
       "<table border=\"1\" class=\"dataframe\">\n",
       "  <thead>\n",
       "    <tr style=\"text-align: right;\">\n",
       "      <th></th>\n",
       "      <th>delta</th>\n",
       "      <th>race_duration</th>\n",
       "    </tr>\n",
       "  </thead>\n",
       "  <tbody>\n",
       "  </tbody>\n",
       "</table>\n",
       "</div>"
      ],
      "text/plain": [
       "Empty DataFrame\n",
       "Columns: [delta, race_duration]\n",
       "Index: []"
      ]
     },
     "execution_count": 1743,
     "metadata": {},
     "output_type": "execute_result"
    }
   ],
   "source": [
    "# Drop rows where delta is negative\n",
    "races_df = races_df[races_df['delta'] >= 0]\n",
    "\n",
    "# Verify the changes\n",
    "races_df[races_df['delta'] < 0][['delta', 'race_duration']]"
   ]
  },
  {
   "cell_type": "code",
   "execution_count": 1744,
   "metadata": {},
   "outputs": [
    {
     "name": "stdout",
     "output_type": "stream",
     "text": [
      "delta_check\n",
      "True     440386\n",
      "False      2358\n",
      "Name: count, dtype: int64\n"
     ]
    }
   ],
   "source": [
    "# For each URL, check if the corresponding delta value is greater or equal to the last greater value\n",
    "def check_delta_greater_or_equal(group):\n",
    "    last_greater_value = float('-inf')\n",
    "    result = []\n",
    "    for delta in group['delta']:\n",
    "        if delta >= last_greater_value: # this ensues that the value is compared with the last greater value e.g [10.5, 1.5, 30.5, 25.5, 27.5, -40.5, 30.4],\n",
    "            result.append(True)\n",
    "            last_greater_value = delta\n",
    "        else:\n",
    "            result.append(False)\n",
    "    return pd.DataFrame({'delta_check': result}, index=group.index)\n",
    "\n",
    "\n",
    "delta_check_df = races_df.copy()\n",
    "delta_check_df['delta_check'] = races_df.groupby('_url').apply(check_delta_greater_or_equal, include_groups=False).reset_index(level=0, drop=True)\n",
    "print(delta_check_df['delta_check'].value_counts())\n",
    "\n",
    "# Drop rows where delta_check is False\n",
    "races_df = delta_check_df[delta_check_df['delta_check']]\n"
   ]
  },
  {
   "cell_type": "code",
   "execution_count": 1745,
   "metadata": {},
   "outputs": [
    {
     "data": {
      "text/plain": [
       "delta_check\n",
       "True    440386\n",
       "Name: count, dtype: int64"
      ]
     },
     "execution_count": 1745,
     "metadata": {},
     "output_type": "execute_result"
    }
   ],
   "source": [
    "# For each URL, check if the corresponding delta value is greater or equal to the last greater value\n",
    "def check_delta_greater_or_equal(group):\n",
    "    last_greater_value = float('-inf')\n",
    "    result = []\n",
    "    for delta in group['delta']:\n",
    "        if delta >= last_greater_value: # this ensues that the value is compared with the last greater value e.g [10.5, 1.5, 30.5, 25.5, 27.5, -40.5, 30.4],\n",
    "            result.append(True)\n",
    "            last_greater_value = delta\n",
    "        else:\n",
    "            result.append(False)\n",
    "    return pd.DataFrame({'delta_check': result}, index=group.index)\n",
    "\n",
    "\n",
    "delta_check_df = races_df.copy()\n",
    "delta_check_df['delta_check'] = races_df.groupby('_url').apply(check_delta_greater_or_equal, include_groups=False).reset_index(level=0, drop=True)\n",
    "delta_check_df['delta_check'].value_counts()"
   ]
  },
  {
   "cell_type": "code",
   "execution_count": 1746,
   "metadata": {},
   "outputs": [],
   "source": [
    "# Drop delta_check column after finishing the check\n",
    "races_df = races_df.drop(columns=['delta_check'])\n"
   ]
  },
  {
   "cell_type": "code",
   "execution_count": 1747,
   "metadata": {},
   "outputs": [
    {
     "name": "stdout",
     "output_type": "stream",
     "text": [
      "Occurrences of cyclists removed: 1393\n",
      "Occurrences of cyclists removed: 0\n"
     ]
    }
   ],
   "source": [
    "# Identify cyclists who did not participate in races and vice versa\n",
    "cyclists_not_in_races = np.setdiff1d(cyclists_df['_url'].unique(), races_df['cyclist'].unique())\n",
    "cyclists_not_in_cyclists = np.setdiff1d(races_df['cyclist'].unique(), cyclists_df['_url'].unique())\n",
    "\n",
    "initial_cyclists_count = len(cyclists_df)\n",
    "initial_race_count = len(races_df)\n",
    "\n",
    "# Remove cyclists who did not participate\n",
    "cyclists_df = cyclists_df[~cyclists_df['_url'].isin(cyclists_not_in_races)]\n",
    "races_df = races_df[~races_df['_url'].isin(cyclists_not_in_cyclists)]\n",
    "\n",
    "removed_cyclists_count = initial_cyclists_count - len(cyclists_df)\n",
    "removed_cyclists_from_cyclist = initial_race_count - len(races_df)\n",
    "\n",
    "print(f\"Occurrences of cyclists removed: {removed_cyclists_count}\")\n",
    "print(f\"Occurrences of cyclists removed: {removed_cyclists_from_cyclist}\")"
   ]
  },
  {
   "cell_type": "code",
   "execution_count": 1748,
   "metadata": {},
   "outputs": [
    {
     "name": "stdout",
     "output_type": "stream",
     "text": [
      "Remaining columns after dropping 'is_cobbled' and 'is_gravel':\n",
      "Index(['_url', 'name', 'points', 'uci_points', 'length', 'climb_total',\n",
      "       'profile', 'startlist_quality', 'position', 'cyclist', 'cyclist_age',\n",
      "       'is_tarmac', 'cyclist_team', 'delta', 'race_date', 'race_duration'],\n",
      "      dtype='object')\n"
     ]
    }
   ],
   "source": [
    "races_df = races_df.drop(columns=['is_cobbled', 'is_gravel'])\n",
    "print(f\"Remaining columns after dropping 'is_cobbled' and 'is_gravel':\")\n",
    "print(races_df.columns)"
   ]
  },
  {
   "cell_type": "markdown",
   "metadata": {},
   "source": []
  },
  {
   "cell_type": "markdown",
   "metadata": {},
   "source": []
  },
  {
   "cell_type": "markdown",
   "metadata": {},
   "source": []
  },
  {
   "cell_type": "markdown",
   "metadata": {},
   "source": []
  },
  {
   "cell_type": "code",
   "execution_count": 1749,
   "metadata": {},
   "outputs": [
    {
     "data": {
      "image/png": "[encoded data removed]",
      "text/plain": [
       "<Figure size 1200x800 with 1 Axes>"
      ]
     },
     "metadata": {},
     "output_type": "display_data"
    }
   ],
   "source": [
    "# ---- heatmap of the presence of data in the cyclists_df dataset ----\n",
    "\n",
    "plt.figure(figsize=(12, 8))\n",
    "sns.heatmap(cyclists_df.isnull(), cbar=False, cmap='viridis')\n",
    "plt.title('Heatmap of Data Presence in Cyclists Dataset')\n",
    "plt.show()"
   ]
  },
  {
   "cell_type": "markdown",
   "metadata": {},
   "source": [
    "Replace outlier values with NULL"
   ]
  },
  {
   "cell_type": "code",
   "execution_count": 1750,
   "metadata": {},
   "outputs": [
    {
     "name": "stdout",
     "output_type": "stream",
     "text": [
      "Outliers replaced with NaN in the specified columns.\n"
     ]
    }
   ],
   "source": [
    "def replace_outliers_with_nan(df, column):\n",
    "    if pd.api.types.is_numeric_dtype(df[column]):\n",
    "        Q1 = df[column].quantile(0.25)\n",
    "        Q3 = df[column].quantile(0.75)\n",
    "        IQR = Q3 - Q1\n",
    "        lower_bound = Q1 - 1.5 * IQR\n",
    "        upper_bound = Q3 + 1.5 * IQR\n",
    "        df[column] = df[column].apply(lambda x: np.nan if x < lower_bound or x > upper_bound else x)\n",
    "\n",
    "# List of columns for which we want to replace outliers with NaN\n",
    "columns_to_check = ['birth_year', 'weight', 'height', 'nationality', 'name', '_url']\n",
    "\n",
    "for column in columns_to_check:\n",
    "    replace_outliers_with_nan(cyclists_df, column)\n",
    "\n",
    "print(\"Outliers replaced with NaN in the specified columns.\")"
   ]
  },
  {
   "cell_type": "code",
   "execution_count": 1751,
   "metadata": {},
   "outputs": [
    {
     "data": {
      "image/png": "[encoded data removed]",
      "text/plain": [
       "<Figure size 1200x800 with 1 Axes>"
      ]
     },
     "metadata": {},
     "output_type": "display_data"
    }
   ],
   "source": [
    "# Visualize a heatmap of the presence of data in the cyclists_df dataset\n",
    "plt.figure(figsize=(12, 8))\n",
    "sns.heatmap(cyclists_df.isnull(), cbar=False, cmap='viridis')\n",
    "plt.title('Heatmap of Data Presence in Cyclists Dataset')\n",
    "plt.show()"
   ]
  },
  {
   "cell_type": "markdown",
   "metadata": {},
   "source": []
  },
  {
   "cell_type": "markdown",
   "metadata": {},
   "source": [
    "### **0BS:** \n",
    "Since height and weight are correlated perhaps before discarding (so many nulls) we could try putting missing values of one where you have the other and see how many null values continue to remain "
   ]
  },
  {
   "cell_type": "markdown",
   "metadata": {},
   "source": []
  },
  {
   "cell_type": "markdown",
   "metadata": {},
   "source": [
    "Deletion of all rows with at least n null parameters. "
   ]
  },
  {
   "cell_type": "code",
   "execution_count": 1752,
   "metadata": {},
   "outputs": [
    {
     "name": "stdout",
     "output_type": "stream",
     "text": [
      "Number of dropped rows: 0\n"
     ]
    }
   ],
   "source": [
    "x = 3 # Minimum number of non-NA values required to keep the row\n",
    "\n",
    "initial_row_count = cyclists_df.shape[0]\n",
    "# Drop rows with at least 'x' null values\n",
    "cyclists_df= cyclists_df.dropna(thresh=cyclists_df.shape[1] - x + 1)\n",
    "# Calculate the number of dropped rows\n",
    "dropped_rows = initial_row_count - cyclists_df.shape[0]\n",
    "print(f\"Number of dropped rows: {dropped_rows}\")\n"
   ]
  },
  {
   "cell_type": "markdown",
   "metadata": {},
   "source": [
    "Deletion of all columns with at least n% null parameters. "
   ]
  },
  {
   "cell_type": "code",
   "execution_count": 1753,
   "metadata": {},
   "outputs": [
    {
     "name": "stdout",
     "output_type": "stream",
     "text": [
      "Remaining columns after dropping columns with at least 50% null values:\n",
      "Index(['_url', 'name', 'birth_year', 'weight', 'height', 'nationality'], dtype='object')\n"
     ]
    }
   ],
   "source": [
    "n = 50  # Percentage threshold for null values\n",
    "\n",
    "# Calculate the threshold for the number of null values\n",
    "threshold = len(cyclists_df) * (n / 100)\n",
    "\n",
    "# Drop columns with at least 'n%' null values\n",
    "cyclists_df = cyclists_df.dropna(axis=1, thresh=threshold)\n",
    "\n",
    "print(f\"Remaining columns after dropping columns with at least {n}% null values:\")\n",
    "print(cyclists_df.columns)"
   ]
  },
  {
   "cell_type": "markdown",
   "metadata": {},
   "source": [
    "## **Races Dataset**"
   ]
  },
  {
   "cell_type": "code",
   "execution_count": 1754,
   "metadata": {},
   "outputs": [],
   "source": [
    "races_df = pd.read_csv('../dataset/races.csv')"
   ]
  },
  {
   "cell_type": "code",
   "execution_count": 1755,
   "metadata": {},
   "outputs": [
    {
     "data": {
      "text/plain": [
       "np.int64(477)"
      ]
     },
     "execution_count": 1755,
     "metadata": {},
     "output_type": "execute_result"
    }
   ],
   "source": [
    "races_df['points'].isnull().sum()"
   ]
  },
  {
   "cell_type": "code",
   "execution_count": 1756,
   "metadata": {},
   "outputs": [
    {
     "data": {
      "text/plain": [
       "np.int64(338779)"
      ]
     },
     "execution_count": 1756,
     "metadata": {},
     "output_type": "execute_result"
    }
   ],
   "source": [
    "races_df['uci_points'].isnull().sum()"
   ]
  },
  {
   "cell_type": "code",
   "execution_count": 1757,
   "metadata": {},
   "outputs": [
    {
     "name": "stdout",
     "output_type": "stream",
     "text": [
      "Number of times both 'points' and 'uci_points' are missing: 477\n"
     ]
    }
   ],
   "source": [
    "missing_both = races_df[races_df['points'].isnull() & races_df['uci_points'].isnull()].shape[0]\n",
    "print(f\"Number of times both 'points' and 'uci_points' are missing: {missing_both}\")"
   ]
  },
  {
   "cell_type": "code",
   "execution_count": 1758,
   "metadata": {},
   "outputs": [
    {
     "data": {
      "text/plain": [
       "array(['vuelta-a-espana/1994/stage-5', 'tour-de-france/1986/stage-19',\n",
       "       'tour-de-france/1988/prologue', 'tour-de-france/2019/stage-19'],\n",
       "      dtype=object)"
      ]
     },
     "execution_count": 1758,
     "metadata": {},
     "output_type": "execute_result"
    }
   ],
   "source": [
    "races_df[races_df['points'].isnull()]['_url'].unique()"
   ]
  },
  {
   "cell_type": "code",
   "execution_count": 1759,
   "metadata": {},
   "outputs": [
    {
     "name": "stdout",
     "output_type": "stream",
     "text": [
      "vuelta-a-espana/1994/stage-5: nan\n",
      "tour-de-france/1986/stage-19: nan\n",
      "tour-de-france/1988/prologue: nan\n",
      "tour-de-france/2019/stage-19: nan\n"
     ]
    }
   ],
   "source": [
    "races = ['vuelta-a-espana/1994/stage-5', 'tour-de-france/1986/stage-19',\n",
    "       'tour-de-france/1988/prologue', 'tour-de-france/2019/stage-19']\n",
    "\n",
    "for r in races:\n",
    "    points = races_df[races_df['_url'] == r]['points'].unique()\n",
    "    points_str = ', '.join(map(str, points))\n",
    "    print(r + ': ' + points_str)"
   ]
  },
  {
   "cell_type": "code",
   "execution_count": 1760,
   "metadata": {},
   "outputs": [
    {
     "name": "stdout",
     "output_type": "stream",
     "text": [
      "<class 'pandas.core.frame.DataFrame'>\n",
      "RangeIndex: 589865 entries, 0 to 589864\n",
      "Data columns (total 18 columns):\n",
      " #   Column               Non-Null Count   Dtype  \n",
      "---  ------               --------------   -----  \n",
      " 0   _url                 589865 non-null  object \n",
      " 1   name                 589865 non-null  object \n",
      " 2   points               589388 non-null  float64\n",
      " 3   uci_points           251086 non-null  float64\n",
      " 4   length               589865 non-null  float64\n",
      " 5   climb_total          442820 non-null  float64\n",
      " 6   profile              441671 non-null  float64\n",
      " 7   startlist_quality    589865 non-null  int64  \n",
      " 8   average_temperature  29933 non-null   float64\n",
      " 9   date                 589865 non-null  object \n",
      " 10  position             589865 non-null  int64  \n",
      " 11  cyclist              589865 non-null  object \n",
      " 12  cyclist_age          589752 non-null  float64\n",
      " 13  is_tarmac            589865 non-null  bool   \n",
      " 14  is_cobbled           589865 non-null  bool   \n",
      " 15  is_gravel            589865 non-null  bool   \n",
      " 16  cyclist_team         430704 non-null  object \n",
      " 17  delta                589865 non-null  float64\n",
      "dtypes: bool(3), float64(8), int64(2), object(5)\n",
      "memory usage: 69.2+ MB\n"
     ]
    }
   ],
   "source": [
    "races_df.info()"
   ]
  },
  {
   "cell_type": "code",
   "execution_count": 1761,
   "metadata": {
    "vscode": {
     "languageId": "powershell"
    }
   },
   "outputs": [
    {
     "data": {
      "text/plain": [
       "1955"
      ]
     },
     "execution_count": 1761,
     "metadata": {},
     "output_type": "execute_result"
    }
   ],
   "source": [
    "# Filter rows where both 'climb_total' and 'profile' are null\n",
    "climb_total_and_profile_null = races_df[races_df['climb_total'].isnull() & races_df['profile'].isnull()]\n",
    "\n",
    "# Display the filtered rows\n",
    "climb_total_and_profile_null['_url'].nunique()"
   ]
  },
  {
   "cell_type": "code",
   "execution_count": 1762,
   "metadata": {
    "vscode": {
     "languageId": "powershell"
    }
   },
   "outputs": [
    {
     "data": {
      "text/html": [
       "<div>\n",
       "<style scoped>\n",
       "    .dataframe tbody tr th:only-of-type {\n",
       "        vertical-align: middle;\n",
       "    }\n",
       "\n",
       "    .dataframe tbody tr th {\n",
       "        vertical-align: top;\n",
       "    }\n",
       "\n",
       "    .dataframe thead th {\n",
       "        text-align: right;\n",
       "    }\n",
       "</style>\n",
       "<table border=\"1\" class=\"dataframe\">\n",
       "  <thead>\n",
       "    <tr style=\"text-align: right;\">\n",
       "      <th></th>\n",
       "      <th>_url</th>\n",
       "      <th>name</th>\n",
       "      <th>points</th>\n",
       "      <th>uci_points</th>\n",
       "      <th>length</th>\n",
       "      <th>climb_total</th>\n",
       "      <th>profile</th>\n",
       "      <th>startlist_quality</th>\n",
       "      <th>average_temperature</th>\n",
       "      <th>date</th>\n",
       "      <th>position</th>\n",
       "      <th>cyclist</th>\n",
       "      <th>cyclist_age</th>\n",
       "      <th>is_tarmac</th>\n",
       "      <th>is_cobbled</th>\n",
       "      <th>is_gravel</th>\n",
       "      <th>cyclist_team</th>\n",
       "      <th>delta</th>\n",
       "    </tr>\n",
       "  </thead>\n",
       "  <tbody>\n",
       "    <tr>\n",
       "      <th>0</th>\n",
       "      <td>tour-de-france/1978/stage-6</td>\n",
       "      <td>Tour de France</td>\n",
       "      <td>100.0</td>\n",
       "      <td>NaN</td>\n",
       "      <td>162000.0</td>\n",
       "      <td>1101.0</td>\n",
       "      <td>1.0</td>\n",
       "      <td>1241</td>\n",
       "      <td>NaN</td>\n",
       "      <td>1978-07-05 04:02:24</td>\n",
       "      <td>0</td>\n",
       "      <td>sean-kelly</td>\n",
       "      <td>22.0</td>\n",
       "      <td>True</td>\n",
       "      <td>False</td>\n",
       "      <td>False</td>\n",
       "      <td>vini-ricordi-pinarello-sidermec-1986</td>\n",
       "      <td>0.0</td>\n",
       "    </tr>\n",
       "    <tr>\n",
       "      <th>1</th>\n",
       "      <td>tour-de-france/1978/stage-6</td>\n",
       "      <td>Tour de France</td>\n",
       "      <td>100.0</td>\n",
       "      <td>NaN</td>\n",
       "      <td>162000.0</td>\n",
       "      <td>1101.0</td>\n",
       "      <td>1.0</td>\n",
       "      <td>1241</td>\n",
       "      <td>NaN</td>\n",
       "      <td>1978-07-05 04:02:24</td>\n",
       "      <td>1</td>\n",
       "      <td>gerrie-knetemann</td>\n",
       "      <td>27.0</td>\n",
       "      <td>True</td>\n",
       "      <td>False</td>\n",
       "      <td>False</td>\n",
       "      <td>norway-1987</td>\n",
       "      <td>0.0</td>\n",
       "    </tr>\n",
       "    <tr>\n",
       "      <th>2</th>\n",
       "      <td>tour-de-france/1978/stage-6</td>\n",
       "      <td>Tour de France</td>\n",
       "      <td>100.0</td>\n",
       "      <td>NaN</td>\n",
       "      <td>162000.0</td>\n",
       "      <td>1101.0</td>\n",
       "      <td>1.0</td>\n",
       "      <td>1241</td>\n",
       "      <td>NaN</td>\n",
       "      <td>1978-07-05 04:02:24</td>\n",
       "      <td>2</td>\n",
       "      <td>rene-bittinger</td>\n",
       "      <td>24.0</td>\n",
       "      <td>True</td>\n",
       "      <td>False</td>\n",
       "      <td>False</td>\n",
       "      <td>NaN</td>\n",
       "      <td>0.0</td>\n",
       "    </tr>\n",
       "    <tr>\n",
       "      <th>3</th>\n",
       "      <td>tour-de-france/1978/stage-6</td>\n",
       "      <td>Tour de France</td>\n",
       "      <td>100.0</td>\n",
       "      <td>NaN</td>\n",
       "      <td>162000.0</td>\n",
       "      <td>1101.0</td>\n",
       "      <td>1.0</td>\n",
       "      <td>1241</td>\n",
       "      <td>NaN</td>\n",
       "      <td>1978-07-05 04:02:24</td>\n",
       "      <td>3</td>\n",
       "      <td>joseph-bruyere</td>\n",
       "      <td>30.0</td>\n",
       "      <td>True</td>\n",
       "      <td>False</td>\n",
       "      <td>False</td>\n",
       "      <td>navigare-blue-storm-1993</td>\n",
       "      <td>0.0</td>\n",
       "    </tr>\n",
       "    <tr>\n",
       "      <th>4</th>\n",
       "      <td>tour-de-france/1978/stage-6</td>\n",
       "      <td>Tour de France</td>\n",
       "      <td>100.0</td>\n",
       "      <td>NaN</td>\n",
       "      <td>162000.0</td>\n",
       "      <td>1101.0</td>\n",
       "      <td>1.0</td>\n",
       "      <td>1241</td>\n",
       "      <td>NaN</td>\n",
       "      <td>1978-07-05 04:02:24</td>\n",
       "      <td>4</td>\n",
       "      <td>sven-ake-nilsson</td>\n",
       "      <td>27.0</td>\n",
       "      <td>True</td>\n",
       "      <td>False</td>\n",
       "      <td>False</td>\n",
       "      <td>spain-1991</td>\n",
       "      <td>0.0</td>\n",
       "    </tr>\n",
       "    <tr>\n",
       "      <th>...</th>\n",
       "      <td>...</td>\n",
       "      <td>...</td>\n",
       "      <td>...</td>\n",
       "      <td>...</td>\n",
       "      <td>...</td>\n",
       "      <td>...</td>\n",
       "      <td>...</td>\n",
       "      <td>...</td>\n",
       "      <td>...</td>\n",
       "      <td>...</td>\n",
       "      <td>...</td>\n",
       "      <td>...</td>\n",
       "      <td>...</td>\n",
       "      <td>...</td>\n",
       "      <td>...</td>\n",
       "      <td>...</td>\n",
       "      <td>...</td>\n",
       "      <td>...</td>\n",
       "    </tr>\n",
       "    <tr>\n",
       "      <th>589860</th>\n",
       "      <td>giro-d-italia/2010/stage-1</td>\n",
       "      <td>Giro d'Italia</td>\n",
       "      <td>80.0</td>\n",
       "      <td>16.0</td>\n",
       "      <td>8400.0</td>\n",
       "      <td>60.0</td>\n",
       "      <td>1.0</td>\n",
       "      <td>878</td>\n",
       "      <td>NaN</td>\n",
       "      <td>2010-05-08 00:11:38</td>\n",
       "      <td>192</td>\n",
       "      <td>anders-lund-1</td>\n",
       "      <td>25.0</td>\n",
       "      <td>True</td>\n",
       "      <td>False</td>\n",
       "      <td>False</td>\n",
       "      <td>watney-avia-1972</td>\n",
       "      <td>80.0</td>\n",
       "    </tr>\n",
       "    <tr>\n",
       "      <th>589861</th>\n",
       "      <td>giro-d-italia/2010/stage-1</td>\n",
       "      <td>Giro d'Italia</td>\n",
       "      <td>80.0</td>\n",
       "      <td>16.0</td>\n",
       "      <td>8400.0</td>\n",
       "      <td>60.0</td>\n",
       "      <td>1.0</td>\n",
       "      <td>878</td>\n",
       "      <td>NaN</td>\n",
       "      <td>2010-05-08 00:11:40</td>\n",
       "      <td>193</td>\n",
       "      <td>andrea-masciarelli</td>\n",
       "      <td>28.0</td>\n",
       "      <td>True</td>\n",
       "      <td>False</td>\n",
       "      <td>False</td>\n",
       "      <td>NaN</td>\n",
       "      <td>82.0</td>\n",
       "    </tr>\n",
       "    <tr>\n",
       "      <th>589862</th>\n",
       "      <td>giro-d-italia/2010/stage-1</td>\n",
       "      <td>Giro d'Italia</td>\n",
       "      <td>80.0</td>\n",
       "      <td>16.0</td>\n",
       "      <td>8400.0</td>\n",
       "      <td>60.0</td>\n",
       "      <td>1.0</td>\n",
       "      <td>878</td>\n",
       "      <td>NaN</td>\n",
       "      <td>2010-05-08 00:11:41</td>\n",
       "      <td>194</td>\n",
       "      <td>marco-corti</td>\n",
       "      <td>24.0</td>\n",
       "      <td>True</td>\n",
       "      <td>False</td>\n",
       "      <td>False</td>\n",
       "      <td>kazakhstan-2001</td>\n",
       "      <td>83.0</td>\n",
       "    </tr>\n",
       "    <tr>\n",
       "      <th>589863</th>\n",
       "      <td>giro-d-italia/2010/stage-1</td>\n",
       "      <td>Giro d'Italia</td>\n",
       "      <td>80.0</td>\n",
       "      <td>16.0</td>\n",
       "      <td>8400.0</td>\n",
       "      <td>60.0</td>\n",
       "      <td>1.0</td>\n",
       "      <td>878</td>\n",
       "      <td>NaN</td>\n",
       "      <td>2010-05-08 00:11:48</td>\n",
       "      <td>195</td>\n",
       "      <td>robbie-mcewen</td>\n",
       "      <td>38.0</td>\n",
       "      <td>True</td>\n",
       "      <td>False</td>\n",
       "      <td>False</td>\n",
       "      <td>radio-popular-paredes-boavista-2023</td>\n",
       "      <td>90.0</td>\n",
       "    </tr>\n",
       "    <tr>\n",
       "      <th>589864</th>\n",
       "      <td>giro-d-italia/2010/stage-1</td>\n",
       "      <td>Giro d'Italia</td>\n",
       "      <td>80.0</td>\n",
       "      <td>16.0</td>\n",
       "      <td>8400.0</td>\n",
       "      <td>60.0</td>\n",
       "      <td>1.0</td>\n",
       "      <td>878</td>\n",
       "      <td>NaN</td>\n",
       "      <td>2010-05-08 00:11:49</td>\n",
       "      <td>196</td>\n",
       "      <td>martin-pedersen</td>\n",
       "      <td>27.0</td>\n",
       "      <td>True</td>\n",
       "      <td>False</td>\n",
       "      <td>False</td>\n",
       "      <td>kazakhstan-2001</td>\n",
       "      <td>91.0</td>\n",
       "    </tr>\n",
       "  </tbody>\n",
       "</table>\n",
       "<p>589865 rows × 18 columns</p>\n",
       "</div>"
      ],
      "text/plain": [
       "                               _url            name  points  uci_points  \\\n",
       "0       tour-de-france/1978/stage-6  Tour de France   100.0         NaN   \n",
       "1       tour-de-france/1978/stage-6  Tour de France   100.0         NaN   \n",
       "2       tour-de-france/1978/stage-6  Tour de France   100.0         NaN   \n",
       "3       tour-de-france/1978/stage-6  Tour de France   100.0         NaN   \n",
       "4       tour-de-france/1978/stage-6  Tour de France   100.0         NaN   \n",
       "...                             ...             ...     ...         ...   \n",
       "589860   giro-d-italia/2010/stage-1   Giro d'Italia    80.0        16.0   \n",
       "589861   giro-d-italia/2010/stage-1   Giro d'Italia    80.0        16.0   \n",
       "589862   giro-d-italia/2010/stage-1   Giro d'Italia    80.0        16.0   \n",
       "589863   giro-d-italia/2010/stage-1   Giro d'Italia    80.0        16.0   \n",
       "589864   giro-d-italia/2010/stage-1   Giro d'Italia    80.0        16.0   \n",
       "\n",
       "          length  climb_total  profile  startlist_quality  \\\n",
       "0       162000.0       1101.0      1.0               1241   \n",
       "1       162000.0       1101.0      1.0               1241   \n",
       "2       162000.0       1101.0      1.0               1241   \n",
       "3       162000.0       1101.0      1.0               1241   \n",
       "4       162000.0       1101.0      1.0               1241   \n",
       "...          ...          ...      ...                ...   \n",
       "589860    8400.0         60.0      1.0                878   \n",
       "589861    8400.0         60.0      1.0                878   \n",
       "589862    8400.0         60.0      1.0                878   \n",
       "589863    8400.0         60.0      1.0                878   \n",
       "589864    8400.0         60.0      1.0                878   \n",
       "\n",
       "        average_temperature                 date  position  \\\n",
       "0                       NaN  1978-07-05 04:02:24         0   \n",
       "1                       NaN  1978-07-05 04:02:24         1   \n",
       "2                       NaN  1978-07-05 04:02:24         2   \n",
       "3                       NaN  1978-07-05 04:02:24         3   \n",
       "4                       NaN  1978-07-05 04:02:24         4   \n",
       "...                     ...                  ...       ...   \n",
       "589860                  NaN  2010-05-08 00:11:38       192   \n",
       "589861                  NaN  2010-05-08 00:11:40       193   \n",
       "589862                  NaN  2010-05-08 00:11:41       194   \n",
       "589863                  NaN  2010-05-08 00:11:48       195   \n",
       "589864                  NaN  2010-05-08 00:11:49       196   \n",
       "\n",
       "                   cyclist  cyclist_age  is_tarmac  is_cobbled  is_gravel  \\\n",
       "0               sean-kelly         22.0       True       False      False   \n",
       "1         gerrie-knetemann         27.0       True       False      False   \n",
       "2           rene-bittinger         24.0       True       False      False   \n",
       "3           joseph-bruyere         30.0       True       False      False   \n",
       "4         sven-ake-nilsson         27.0       True       False      False   \n",
       "...                    ...          ...        ...         ...        ...   \n",
       "589860       anders-lund-1         25.0       True       False      False   \n",
       "589861  andrea-masciarelli         28.0       True       False      False   \n",
       "589862         marco-corti         24.0       True       False      False   \n",
       "589863       robbie-mcewen         38.0       True       False      False   \n",
       "589864     martin-pedersen         27.0       True       False      False   \n",
       "\n",
       "                                cyclist_team  delta  \n",
       "0       vini-ricordi-pinarello-sidermec-1986    0.0  \n",
       "1                                norway-1987    0.0  \n",
       "2                                        NaN    0.0  \n",
       "3                   navigare-blue-storm-1993    0.0  \n",
       "4                                 spain-1991    0.0  \n",
       "...                                      ...    ...  \n",
       "589860                      watney-avia-1972   80.0  \n",
       "589861                                   NaN   82.0  \n",
       "589862                       kazakhstan-2001   83.0  \n",
       "589863   radio-popular-paredes-boavista-2023   90.0  \n",
       "589864                       kazakhstan-2001   91.0  \n",
       "\n",
       "[589865 rows x 18 columns]"
      ]
     },
     "execution_count": 1762,
     "metadata": {},
     "output_type": "execute_result"
    }
   ],
   "source": [
    "races_df"
   ]
  },
  {
   "cell_type": "markdown",
   "metadata": {},
   "source": [
    "all rows that have same '_url' and duplicate cycles are deleted "
   ]
  },
  {
   "cell_type": "code",
   "execution_count": 1763,
   "metadata": {},
   "outputs": [
    {
     "name": "stdout",
     "output_type": "stream",
     "text": [
      "Number of dropped rows: 249\n"
     ]
    }
   ],
   "source": [
    "# Group by '_url' and filter out rows where 'cyclist' is duplicated within each group\n",
    "initial_row_count = races_df.shape[0]\n",
    "races_df = races_df[~races_df.duplicated(subset=['_url', 'cyclist'], keep=False)]\n",
    "\n",
    "dropped_rows = initial_row_count - races_df.shape[0]\n",
    "print(f\"Number of dropped rows: {dropped_rows}\")"
   ]
  },
  {
   "cell_type": "markdown",
   "metadata": {},
   "source": [
    "'null' is put in place of any negative value for delta"
   ]
  },
  {
   "cell_type": "code",
   "execution_count": 1764,
   "metadata": {},
   "outputs": [
    {
     "name": "stderr",
     "output_type": "stream",
     "text": [
      "/var/folders/n8/0xyp_8ms7sx0vdtw_lzp5dv00000gn/T/ipykernel_33539/3208373160.py:1: SettingWithCopyWarning: \n",
      "A value is trying to be set on a copy of a slice from a DataFrame.\n",
      "Try using .loc[row_indexer,col_indexer] = value instead\n",
      "\n",
      "See the caveats in the documentation: https://pandas.pydata.org/pandas-docs/stable/user_guide/indexing.html#returning-a-view-versus-a-copy\n",
      "  races_df['delta'] = races_df['delta'].apply(lambda x: np.nan if x < 0 else x)\n"
     ]
    }
   ],
   "source": [
    "races_df['delta'] = races_df['delta'].apply(lambda x: np.nan if x < 0 else x)"
   ]
  },
  {
   "cell_type": "markdown",
   "metadata": {},
   "source": [
    "Drop columns 'is_cobred' and 'is_clmbed' as they are all false"
   ]
  },
  {
   "cell_type": "code",
   "execution_count": 1765,
   "metadata": {},
   "outputs": [
    {
     "name": "stdout",
     "output_type": "stream",
     "text": [
      "Remaining columns after dropping:\n",
      "Index(['_url', 'name', 'points', 'uci_points', 'length', 'climb_total',\n",
      "       'profile', 'startlist_quality', 'average_temperature', 'date',\n",
      "       'position', 'cyclist', 'cyclist_age', 'is_tarmac', 'cyclist_team',\n",
      "       'delta'],\n",
      "      dtype='object')\n"
     ]
    }
   ],
   "source": [
    "races_df = races_df.drop(columns=['is_gravel', 'is_cobbled'])\n",
    "print(f\"Remaining columns after dropping:\")\n",
    "print(races_df.columns)"
   ]
  },
  {
   "cell_type": "markdown",
   "metadata": {},
   "source": [
    "Drop race where cyclust are duplicate"
   ]
  },
  {
   "cell_type": "code",
   "execution_count": 1766,
   "metadata": {},
   "outputs": [
    {
     "name": "stdout",
     "output_type": "stream",
     "text": [
      "Remaining rows after removing duplicates within each '_url': 0\n"
     ]
    }
   ],
   "source": [
    "# Group by '_url' and filter out rows where 'cyclist' is duplicated within each group\n",
    "initial_row_count = races_df.shape[0]\n",
    "races_df = races_df[~races_df.duplicated(subset=['_url', 'cyclist'], keep=False)]\n",
    "\n",
    "dropped_rows = initial_row_count - races_df.shape[0]\n",
    "print(f\"Remaining rows after removing duplicates within each '_url': {dropped_rows}\")"
   ]
  },
  {
   "cell_type": "code",
   "execution_count": null,
   "metadata": {},
   "outputs": [],
   "source": []
  },
  {
   "cell_type": "code",
   "execution_count": 1767,
   "metadata": {},
   "outputs": [
    {
     "data": {
      "image/png": "[encoded data removed]",
      "text/plain": [
       "<Figure size 1200x800 with 1 Axes>"
      ]
     },
     "metadata": {},
     "output_type": "display_data"
    }
   ],
   "source": [
    "# Visualize a heatmap of the presence of data in the races_df dataset\n",
    "plt.figure(figsize=(12, 8))\n",
    "\n",
    "# Sample a subset of the data to avoid memory issues\n",
    "sampled_races_df = races_df.sample(frac=0.1, random_state=1)\n",
    "\n",
    "sns.heatmap(sampled_races_df.isnull(), cbar=False, cmap='viridis')\n",
    "plt.title('Heatmap of Data Presence in Races Dataset')\n",
    "plt.show()"
   ]
  },
  {
   "cell_type": "markdown",
   "metadata": {},
   "source": [
    "Replace outlier values with NULL"
   ]
  },
  {
   "cell_type": "code",
   "execution_count": 1768,
   "metadata": {},
   "outputs": [
    {
     "name": "stdout",
     "output_type": "stream",
     "text": [
      "Outliers replaced with NaN in the specified columns.\n"
     ]
    }
   ],
   "source": [
    "def replace_outliers_with_nan(df, column):\n",
    "    Q1 = df[column].quantile(0.25)\n",
    "    Q3 = df[column].quantile(0.75)\n",
    "    IQR = Q3 - Q1\n",
    "    lower_bound = Q1 - 1.5 * IQR\n",
    "    upper_bound = Q3 + 1.5 * IQR\n",
    "    df[column] = df[column].apply(lambda x: np.nan if x < lower_bound or x > upper_bound else x)\n",
    "\n",
    "# List of columns for which we want to replace outliers with NaN\n",
    "columns_to_check = ['points', 'length', 'climb_total', 'profile', 'startlist_quality', 'cyclist_age', 'delta']\n",
    "\n",
    "for column in columns_to_check:\n",
    "    replace_outliers_with_nan(races_df, column)\n",
    "\n",
    "print(\"Outliers replaced with NaN in the specified columns.\")"
   ]
  },
  {
   "cell_type": "code",
   "execution_count": 1769,
   "metadata": {},
   "outputs": [
    {
     "data": {
      "image/png": "[encoded data removed]",
      "text/plain": [
       "<Figure size 1200x800 with 1 Axes>"
      ]
     },
     "metadata": {},
     "output_type": "display_data"
    }
   ],
   "source": [
    "# Visualize a heatmap of the presence of data in the races_df dataset\n",
    "plt.figure(figsize=(12, 8))\n",
    "\n",
    "# Sample a subset of the data to avoid memory issues\n",
    "sampled_races_df = races_df.sample(frac=0.1, random_state=1)\n",
    "\n",
    "sns.heatmap(sampled_races_df.isnull(), cbar=False, cmap='viridis')\n",
    "plt.title('Heatmap of Data Presence in Races Dataset')\n",
    "plt.show()"
   ]
  },
  {
   "cell_type": "markdown",
   "metadata": {},
   "source": [
    "### **0BS:** \n",
    "Since prfile and climb_total are correlated perhaps before discarding (so many nulls) we could try putting missing values of one where you have the other and see how many null values continue to remain "
   ]
  },
  {
   "cell_type": "markdown",
   "metadata": {},
   "source": [
    "### **OBS:**\n",
    "We should put null to all invalid delta values i.e. smaller than above with same url (cyclists arrived earlier with higher delta is impossible)"
   ]
  },
  {
   "cell_type": "markdown",
   "metadata": {},
   "source": [
    "### **OBS:**\n",
    "we should check the question of deltas and dates, if indeed all deltas can be derived from deltas (which seem to represent the duration of the race) then we can discard deltas. (deltas are the differences in the dates) "
   ]
  },
  {
   "cell_type": "markdown",
   "metadata": {},
   "source": [
    "### **OBS:**\n",
    "There are many null value for uci_points but we know that uci_point and points (wich doesn't have many null value) are correlated so I think we can discard uci_point"
   ]
  },
  {
   "cell_type": "markdown",
   "metadata": {},
   "source": [
    "Deletion of all rows with at least n null parameters. "
   ]
  },
  {
   "cell_type": "code",
   "execution_count": 1770,
   "metadata": {},
   "outputs": [
    {
     "name": "stdout",
     "output_type": "stream",
     "text": [
      "Number of dropped rows: 76589\n"
     ]
    }
   ],
   "source": [
    "x = 5 # Minimum number of non-NA values required to keep the row\n",
    "\n",
    "initial_row_count = races_df.shape[0]\n",
    "# Drop rows with at least 'x' null values\n",
    "races_df = races_df.dropna(thresh=races_df.shape[1] - x + 1)\n",
    "# Calculate the number of dropped rows\n",
    "dropped_rows = initial_row_count - races_df.shape[0]\n",
    "print(f\"Number of dropped rows: {dropped_rows}\")\n"
   ]
  },
  {
   "cell_type": "markdown",
   "metadata": {},
   "source": [
    "Deletion of all columns with at least n% null parameters. "
   ]
  },
  {
   "cell_type": "code",
   "execution_count": 1771,
   "metadata": {},
   "outputs": [
    {
     "name": "stdout",
     "output_type": "stream",
     "text": [
      "Remaining columns after dropping columns with at least 50% null values:\n",
      "Index(['_url', 'name', 'points', 'length', 'climb_total', 'profile',\n",
      "       'startlist_quality', 'date', 'position', 'cyclist', 'cyclist_age',\n",
      "       'is_tarmac', 'cyclist_team', 'delta'],\n",
      "      dtype='object')\n"
     ]
    }
   ],
   "source": [
    "n = 50  # Percentage threshold for null values\n",
    "\n",
    "# Calculate the threshold for the number of null values\n",
    "threshold = len(races_df) * (n / 100)\n",
    "\n",
    "# Drop columns with at least 'n%' null values\n",
    "races_df = races_df.dropna(axis=1, thresh=threshold)\n",
    "\n",
    "print(f\"Remaining columns after dropping columns with at least {n}% null values:\")\n",
    "print(races_df.columns)"
   ]
  }
 ],
 "metadata": {
  "kernelspec": {
   "display_name": ".venv",
   "language": "python",
   "name": "python3"
  },
  "language_info": {
   "codemirror_mode": {
    "name": "ipython",
    "version": 3
   },
   "file_extension": ".py",
   "mimetype": "text/x-python",
   "name": "python",
   "nbconvert_exporter": "python",
   "pygments_lexer": "ipython3",
   "version": "3.12.7"
  }
 },
 "nbformat": 4,
 "nbformat_minor": 2
}
