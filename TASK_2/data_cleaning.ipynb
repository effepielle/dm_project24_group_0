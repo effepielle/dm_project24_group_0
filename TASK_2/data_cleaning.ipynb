{
 "cells": [
  {
   "cell_type": "markdown",
   "metadata": {},
   "source": [
    "# Data Cleaning"
   ]
  },
  {
   "cell_type": "code",
   "execution_count": 443,
   "metadata": {},
   "outputs": [],
   "source": [
    "import pandas as pd\n",
    "import numpy as np\n",
    "import seaborn as sns\n",
    "import matplotlib.pyplot as plt"
   ]
  },
  {
   "cell_type": "markdown",
   "metadata": {},
   "source": [
    "## Data Elimination"
   ]
  },
  {
   "cell_type": "markdown",
   "metadata": {},
   "source": [
    "In this section we remove entries from both the datasets according to some criteria we define below."
   ]
  },
  {
   "cell_type": "markdown",
   "metadata": {},
   "source": [
    "As we noticed in the DU part, there are some cyclists in ```cyclists.csv``` which did not appear in ```races.csv``` i.e. we have a group of cyclists who did not participated to any races.\n",
    "Since they doon't affect stages statistics we decide to drop them."
   ]
  },
  {
   "cell_type": "code",
   "execution_count": 444,
   "metadata": {},
   "outputs": [],
   "source": [
    "cyclists_df = pd.read_csv('../dataset/cyclists.csv')\n",
    "races_df = pd.read_csv('../dataset/races.csv')"
   ]
  },
  {
   "cell_type": "code",
   "execution_count": 445,
   "metadata": {},
   "outputs": [
    {
     "name": "stdout",
     "output_type": "stream",
     "text": [
      "Occurrences of cyclists removed: 39\n"
     ]
    }
   ],
   "source": [
    "# Identify cyclists who did not participate in races\n",
    "cyclists_not_in_races = np.setdiff1d(cyclists_df['_url'].unique(), races_df['cyclist'].unique())\n",
    "\n",
    "initial_cyclists_count = len(cyclists_df)\n",
    "\n",
    "# Remove cyclists who did not participate\n",
    "cyclists_df = cyclists_df[~cyclists_df['_url'].isin(cyclists_not_in_races)]\n",
    "\n",
    "removed_cyclists_count = initial_cyclists_count - len(cyclists_df)\n",
    "\n",
    "print(f\"Occurrences of cyclists removed: {removed_cyclists_count}\")"
   ]
  },
  {
   "cell_type": "code",
   "execution_count": 446,
   "metadata": {},
   "outputs": [
    {
     "name": "stdout",
     "output_type": "stream",
     "text": [
      "Occurrences of cyclists removed: 0\n"
     ]
    }
   ],
   "source": [
    "# Identify cyclists who did not participate in races\n",
    "cyclists_not_in_races = np.setdiff1d(cyclists_df['_url'].unique(), races_df['cyclist'].unique())\n",
    "\n",
    "initial_cyclists_count = len(cyclists_df)\n",
    "\n",
    "# Remove cyclists who did not participate\n",
    "cyclists_df = cyclists_df[~cyclists_df['_url'].isin(cyclists_not_in_races)]\n",
    "\n",
    "removed_cyclists_count = initial_cyclists_count - len(cyclists_df)\n",
    "\n",
    "print(f\"Occurrences of cyclists removed: {removed_cyclists_count}\")"
   ]
  },
  {
   "cell_type": "markdown",
   "metadata": {},
   "source": [
    "## Cyclists Dataset"
   ]
  },
  {
   "cell_type": "markdown",
   "metadata": {},
   "source": [
    "### Casting"
   ]
  },
  {
   "cell_type": "markdown",
   "metadata": {},
   "source": [
    "We force the correct type for the ```cyclists.csv``` dataset attributes."
   ]
  },
  {
   "cell_type": "markdown",
   "metadata": {},
   "source": [
    "Before the casting types are:"
   ]
  },
  {
   "cell_type": "code",
   "execution_count": 447,
   "metadata": {},
   "outputs": [
    {
     "name": "stdout",
     "output_type": "stream",
     "text": [
      "<class 'pandas.core.frame.DataFrame'>\n",
      "Index: 6095 entries, 0 to 6133\n",
      "Data columns (total 6 columns):\n",
      " #   Column       Non-Null Count  Dtype  \n",
      "---  ------       --------------  -----  \n",
      " 0   _url         6095 non-null   object \n",
      " 1   name         6095 non-null   object \n",
      " 2   birth_year   6082 non-null   float64\n",
      " 3   weight       3062 non-null   float64\n",
      " 4   height       3127 non-null   float64\n",
      " 5   nationality  6094 non-null   object \n",
      "dtypes: float64(3), object(3)\n",
      "memory usage: 333.3+ KB\n"
     ]
    }
   ],
   "source": [
    "cyclists_df.info()"
   ]
  },
  {
   "cell_type": "markdown",
   "metadata": {},
   "source": [
    "We perform the casting:"
   ]
  },
  {
   "cell_type": "code",
   "execution_count": 448,
   "metadata": {},
   "outputs": [],
   "source": [
    "# Cast _url, name, and nationality to string\n",
    "cyclists_df['_url'] = cyclists_df['_url'].astype(\"string\")\n",
    "cyclists_df['name'] = cyclists_df['name'].astype(\"string\")\n",
    "cyclists_df['nationality'] = cyclists_df['nationality'].astype(\"string\")"
   ]
  },
  {
   "cell_type": "code",
   "execution_count": 449,
   "metadata": {},
   "outputs": [],
   "source": [
    "# Cast birth_year to int (more easy to manipulate)\n",
    "cyclists_df['birth_year'] = cyclists_df['birth_year'].astype('Int64')"
   ]
  },
  {
   "cell_type": "markdown",
   "metadata": {},
   "source": [
    "Check if the types are now correct:"
   ]
  },
  {
   "cell_type": "code",
   "execution_count": 450,
   "metadata": {},
   "outputs": [
    {
     "name": "stdout",
     "output_type": "stream",
     "text": [
      "<class 'pandas.core.frame.DataFrame'>\n",
      "Index: 6095 entries, 0 to 6133\n",
      "Data columns (total 6 columns):\n",
      " #   Column       Non-Null Count  Dtype  \n",
      "---  ------       --------------  -----  \n",
      " 0   _url         6095 non-null   string \n",
      " 1   name         6095 non-null   string \n",
      " 2   birth_year   6082 non-null   Int64  \n",
      " 3   weight       3062 non-null   float64\n",
      " 4   height       3127 non-null   float64\n",
      " 5   nationality  6094 non-null   string \n",
      "dtypes: Int64(1), float64(2), string(3)\n",
      "memory usage: 339.3 KB\n"
     ]
    }
   ],
   "source": [
    "cyclists_df.info()"
   ]
  },
  {
   "cell_type": "markdown",
   "metadata": {},
   "source": [
    "### Null Values"
   ]
  },
  {
   "cell_type": "markdown",
   "metadata": {},
   "source": [
    "Below we plot the heatmap of the null values in the cyclists dataset. TODO: move to DU"
   ]
  },
  {
   "cell_type": "code",
   "execution_count": 451,
   "metadata": {},
   "outputs": [
    {
     "data": {
      "image/png": "[encoded data removed]",
      "text/plain": [
       "<Figure size 600x800 with 1 Axes>"
      ]
     },
     "metadata": {},
     "output_type": "display_data"
    }
   ],
   "source": [
    "# Heatmap of the presence of data in the cyclists_df dataset\n",
    "plt.figure(figsize=(6, 8))\n",
    "sns.heatmap(cyclists_df.isnull(), cbar=False, cmap='viridis')\n",
    "plt.title('Heatmap of Data Presence in Cyclists Dataset')\n",
    "plt.show()"
   ]
  },
  {
   "cell_type": "markdown",
   "metadata": {},
   "source": [
    "Now we manage the null values in each column of the cyclists dataset."
   ]
  },
  {
   "cell_type": "markdown",
   "metadata": {},
   "source": [
    "#### ```birth_year``` column"
   ]
  },
  {
   "cell_type": "code",
   "execution_count": 452,
   "metadata": {},
   "outputs": [
    {
     "data": {
      "text/html": [
       "<div>\n",
       "<style scoped>\n",
       "    .dataframe tbody tr th:only-of-type {\n",
       "        vertical-align: middle;\n",
       "    }\n",
       "\n",
       "    .dataframe tbody tr th {\n",
       "        vertical-align: top;\n",
       "    }\n",
       "\n",
       "    .dataframe thead th {\n",
       "        text-align: right;\n",
       "    }\n",
       "</style>\n",
       "<table border=\"1\" class=\"dataframe\">\n",
       "  <thead>\n",
       "    <tr style=\"text-align: right;\">\n",
       "      <th></th>\n",
       "      <th>_url</th>\n",
       "      <th>name</th>\n",
       "      <th>birth_year</th>\n",
       "      <th>weight</th>\n",
       "      <th>height</th>\n",
       "      <th>nationality</th>\n",
       "    </tr>\n",
       "  </thead>\n",
       "  <tbody>\n",
       "    <tr>\n",
       "      <th>9</th>\n",
       "      <td>scott-davies</td>\n",
       "      <td>Scott  Davies</td>\n",
       "      <td>&lt;NA&gt;</td>\n",
       "      <td>NaN</td>\n",
       "      <td>NaN</td>\n",
       "      <td>&lt;NA&gt;</td>\n",
       "    </tr>\n",
       "    <tr>\n",
       "      <th>601</th>\n",
       "      <td>vladimir-malakov</td>\n",
       "      <td>Vladimir  Malakov</td>\n",
       "      <td>&lt;NA&gt;</td>\n",
       "      <td>NaN</td>\n",
       "      <td>NaN</td>\n",
       "      <td>Russia</td>\n",
       "    </tr>\n",
       "    <tr>\n",
       "      <th>894</th>\n",
       "      <td>antonio-zanini</td>\n",
       "      <td>Antonio  Zanini</td>\n",
       "      <td>&lt;NA&gt;</td>\n",
       "      <td>NaN</td>\n",
       "      <td>NaN</td>\n",
       "      <td>Italy</td>\n",
       "    </tr>\n",
       "    <tr>\n",
       "      <th>2408</th>\n",
       "      <td>filippo-simonetti</td>\n",
       "      <td>Filippo  Simonetti</td>\n",
       "      <td>&lt;NA&gt;</td>\n",
       "      <td>NaN</td>\n",
       "      <td>NaN</td>\n",
       "      <td>Italy</td>\n",
       "    </tr>\n",
       "    <tr>\n",
       "      <th>2515</th>\n",
       "      <td>carlos-garcia</td>\n",
       "      <td>Carlos  García</td>\n",
       "      <td>&lt;NA&gt;</td>\n",
       "      <td>NaN</td>\n",
       "      <td>NaN</td>\n",
       "      <td>Spain</td>\n",
       "    </tr>\n",
       "    <tr>\n",
       "      <th>2536</th>\n",
       "      <td>alexandr-osipov</td>\n",
       "      <td>Alexandr  Osipov</td>\n",
       "      <td>&lt;NA&gt;</td>\n",
       "      <td>NaN</td>\n",
       "      <td>NaN</td>\n",
       "      <td>Russia</td>\n",
       "    </tr>\n",
       "    <tr>\n",
       "      <th>3046</th>\n",
       "      <td>nicolai-kosyakov</td>\n",
       "      <td>Nicolai  Kosyakov</td>\n",
       "      <td>&lt;NA&gt;</td>\n",
       "      <td>NaN</td>\n",
       "      <td>NaN</td>\n",
       "      <td>Russia</td>\n",
       "    </tr>\n",
       "    <tr>\n",
       "      <th>3551</th>\n",
       "      <td>nevens-guy</td>\n",
       "      <td>Guy  Nevens</td>\n",
       "      <td>&lt;NA&gt;</td>\n",
       "      <td>NaN</td>\n",
       "      <td>NaN</td>\n",
       "      <td>Belgium</td>\n",
       "    </tr>\n",
       "    <tr>\n",
       "      <th>4142</th>\n",
       "      <td>oscar-pumar</td>\n",
       "      <td>Oscar  Pumar</td>\n",
       "      <td>&lt;NA&gt;</td>\n",
       "      <td>NaN</td>\n",
       "      <td>NaN</td>\n",
       "      <td>Venezuela</td>\n",
       "    </tr>\n",
       "    <tr>\n",
       "      <th>4384</th>\n",
       "      <td>javier-luquin</td>\n",
       "      <td>Javier  Luquin</td>\n",
       "      <td>&lt;NA&gt;</td>\n",
       "      <td>NaN</td>\n",
       "      <td>NaN</td>\n",
       "      <td>Spain</td>\n",
       "    </tr>\n",
       "    <tr>\n",
       "      <th>4756</th>\n",
       "      <td>thierry-lauder</td>\n",
       "      <td>Thierry  Lauder</td>\n",
       "      <td>&lt;NA&gt;</td>\n",
       "      <td>NaN</td>\n",
       "      <td>NaN</td>\n",
       "      <td>France</td>\n",
       "    </tr>\n",
       "    <tr>\n",
       "      <th>6072</th>\n",
       "      <td>sergei-jermachenko</td>\n",
       "      <td>Sergei  Jermachenko</td>\n",
       "      <td>&lt;NA&gt;</td>\n",
       "      <td>NaN</td>\n",
       "      <td>NaN</td>\n",
       "      <td>Russia</td>\n",
       "    </tr>\n",
       "    <tr>\n",
       "      <th>6080</th>\n",
       "      <td>batik-odriozola</td>\n",
       "      <td>Batik  Odriozola</td>\n",
       "      <td>&lt;NA&gt;</td>\n",
       "      <td>NaN</td>\n",
       "      <td>NaN</td>\n",
       "      <td>Spain</td>\n",
       "    </tr>\n",
       "  </tbody>\n",
       "</table>\n",
       "</div>"
      ],
      "text/plain": [
       "                    _url                 name  birth_year  weight  height  \\\n",
       "9           scott-davies        Scott  Davies        <NA>     NaN     NaN   \n",
       "601     vladimir-malakov    Vladimir  Malakov        <NA>     NaN     NaN   \n",
       "894       antonio-zanini      Antonio  Zanini        <NA>     NaN     NaN   \n",
       "2408   filippo-simonetti   Filippo  Simonetti        <NA>     NaN     NaN   \n",
       "2515       carlos-garcia       Carlos  García        <NA>     NaN     NaN   \n",
       "2536     alexandr-osipov     Alexandr  Osipov        <NA>     NaN     NaN   \n",
       "3046    nicolai-kosyakov    Nicolai  Kosyakov        <NA>     NaN     NaN   \n",
       "3551          nevens-guy          Guy  Nevens        <NA>     NaN     NaN   \n",
       "4142         oscar-pumar         Oscar  Pumar        <NA>     NaN     NaN   \n",
       "4384       javier-luquin       Javier  Luquin        <NA>     NaN     NaN   \n",
       "4756      thierry-lauder      Thierry  Lauder        <NA>     NaN     NaN   \n",
       "6072  sergei-jermachenko  Sergei  Jermachenko        <NA>     NaN     NaN   \n",
       "6080     batik-odriozola     Batik  Odriozola        <NA>     NaN     NaN   \n",
       "\n",
       "     nationality  \n",
       "9           <NA>  \n",
       "601       Russia  \n",
       "894        Italy  \n",
       "2408       Italy  \n",
       "2515       Spain  \n",
       "2536      Russia  \n",
       "3046      Russia  \n",
       "3551     Belgium  \n",
       "4142   Venezuela  \n",
       "4384       Spain  \n",
       "4756      France  \n",
       "6072      Russia  \n",
       "6080       Spain  "
      ]
     },
     "execution_count": 452,
     "metadata": {},
     "output_type": "execute_result"
    }
   ],
   "source": [
    "cyclists_df[cyclists_df['birth_year'].isnull()]\n"
   ]
  },
  {
   "cell_type": "markdown",
   "metadata": {},
   "source": [
    "As there are very few entries, we impute the missing values for the birthday by doing an online search (see the report for the complete list of sources used)."
   ]
  },
  {
   "cell_type": "code",
   "execution_count": 453,
   "metadata": {},
   "outputs": [],
   "source": [
    "cyclists_df.loc[cyclists_df['_url'] == 'scott-davies', 'birth_year'] = 1995\n",
    "cyclists_df.loc[cyclists_df['_url'] == 'vladimir-malakov', 'birth_year'] = 1958\n",
    "cyclists_df.loc[cyclists_df['_url'] == 'antonio-zanini', 'birth_year'] = 1965"
   ]
  },
  {
   "cell_type": "markdown",
   "metadata": {},
   "source": [
    "To impute the ```birth_year``` value of ```javier-luqin``` we looked up the website procyclingstats.com retrieving the following race(s) in which he participated according to the ```races.csv``` dataset."
   ]
  },
  {
   "cell_type": "code",
   "execution_count": 454,
   "metadata": {},
   "outputs": [
    {
     "data": {
      "text/html": [
       "<div>\n",
       "<style scoped>\n",
       "    .dataframe tbody tr th:only-of-type {\n",
       "        vertical-align: middle;\n",
       "    }\n",
       "\n",
       "    .dataframe tbody tr th {\n",
       "        vertical-align: top;\n",
       "    }\n",
       "\n",
       "    .dataframe thead th {\n",
       "        text-align: right;\n",
       "    }\n",
       "</style>\n",
       "<table border=\"1\" class=\"dataframe\">\n",
       "  <thead>\n",
       "    <tr style=\"text-align: right;\">\n",
       "      <th></th>\n",
       "      <th>_url</th>\n",
       "      <th>name</th>\n",
       "      <th>points</th>\n",
       "      <th>uci_points</th>\n",
       "      <th>length</th>\n",
       "      <th>climb_total</th>\n",
       "      <th>profile</th>\n",
       "      <th>startlist_quality</th>\n",
       "      <th>average_temperature</th>\n",
       "      <th>date</th>\n",
       "      <th>position</th>\n",
       "      <th>cyclist</th>\n",
       "      <th>cyclist_age</th>\n",
       "      <th>is_tarmac</th>\n",
       "      <th>is_cobbled</th>\n",
       "      <th>is_gravel</th>\n",
       "      <th>cyclist_team</th>\n",
       "      <th>delta</th>\n",
       "    </tr>\n",
       "  </thead>\n",
       "  <tbody>\n",
       "    <tr>\n",
       "      <th>303965</th>\n",
       "      <td>giro-d-italia/1992/stage-19</td>\n",
       "      <td>Giro d'Italia</td>\n",
       "      <td>80.0</td>\n",
       "      <td>NaN</td>\n",
       "      <td>201000.0</td>\n",
       "      <td>NaN</td>\n",
       "      <td>NaN</td>\n",
       "      <td>953</td>\n",
       "      <td>NaN</td>\n",
       "      <td>1992-06-12 06:08:37</td>\n",
       "      <td>74</td>\n",
       "      <td>javier-luquin</td>\n",
       "      <td>NaN</td>\n",
       "      <td>True</td>\n",
       "      <td>False</td>\n",
       "      <td>False</td>\n",
       "      <td>NaN</td>\n",
       "      <td>966.0</td>\n",
       "    </tr>\n",
       "  </tbody>\n",
       "</table>\n",
       "</div>"
      ],
      "text/plain": [
       "                               _url           name  points  uci_points  \\\n",
       "303965  giro-d-italia/1992/stage-19  Giro d'Italia    80.0         NaN   \n",
       "\n",
       "          length  climb_total  profile  startlist_quality  \\\n",
       "303965  201000.0          NaN      NaN                953   \n",
       "\n",
       "        average_temperature                 date  position        cyclist  \\\n",
       "303965                  NaN  1992-06-12 06:08:37        74  javier-luquin   \n",
       "\n",
       "        cyclist_age  is_tarmac  is_cobbled  is_gravel cyclist_team  delta  \n",
       "303965          NaN       True       False      False          NaN  966.0  "
      ]
     },
     "execution_count": 454,
     "metadata": {},
     "output_type": "execute_result"
    }
   ],
   "source": [
    "races_df[races_df['cyclist'] == 'javier-luquin']"
   ]
  },
  {
   "cell_type": "markdown",
   "metadata": {},
   "source": [
    "Then, we retrieve the card of ```javier-luquin``` to obtain his birthday. However, we noticed that Giro d'Italia '92 was participated by Luis Javier Lukin and not Luquin. We checked also ```cyclists.csv``` by noticing that Luis Javier Lukin is present and he also has some races entries in ```races.csv``` which are the same reported in the webpage. We conclude that there is a mistake in the cyclist indentifier.\n",
    "\n",
    "We then change the cyclist identifier in ```races.csv``` and delete the wrong record in ```cyclists.csv```."
   ]
  },
  {
   "cell_type": "code",
   "execution_count": 455,
   "metadata": {},
   "outputs": [
    {
     "data": {
      "text/html": [
       "<div>\n",
       "<style scoped>\n",
       "    .dataframe tbody tr th:only-of-type {\n",
       "        vertical-align: middle;\n",
       "    }\n",
       "\n",
       "    .dataframe tbody tr th {\n",
       "        vertical-align: top;\n",
       "    }\n",
       "\n",
       "    .dataframe thead th {\n",
       "        text-align: right;\n",
       "    }\n",
       "</style>\n",
       "<table border=\"1\" class=\"dataframe\">\n",
       "  <thead>\n",
       "    <tr style=\"text-align: right;\">\n",
       "      <th></th>\n",
       "      <th>_url</th>\n",
       "      <th>name</th>\n",
       "      <th>birth_year</th>\n",
       "      <th>weight</th>\n",
       "      <th>height</th>\n",
       "      <th>nationality</th>\n",
       "    </tr>\n",
       "  </thead>\n",
       "  <tbody>\n",
       "  </tbody>\n",
       "</table>\n",
       "</div>"
      ],
      "text/plain": [
       "Empty DataFrame\n",
       "Columns: [_url, name, birth_year, weight, height, nationality]\n",
       "Index: []"
      ]
     },
     "execution_count": 455,
     "metadata": {},
     "output_type": "execute_result"
    }
   ],
   "source": [
    "# Drop the row with the URL 'javier-luquin'\n",
    "cyclists_df.drop(cyclists_df[cyclists_df['_url'] == 'javier-luquin'].index, inplace=True)\n",
    "\n",
    "# Verify the row has been dropped\n",
    "(cyclists_df[cyclists_df['_url'] == 'javier-luquin'])"
   ]
  },
  {
   "cell_type": "code",
   "execution_count": 456,
   "metadata": {},
   "outputs": [
    {
     "name": "stdout",
     "output_type": "stream",
     "text": [
      "Occurrences of 'javier-luquin': 1\n",
      "Occurrences of 'javier-lukin': 101\n"
     ]
    }
   ],
   "source": [
    "# We check how many occurrences of 'javier-luquin' and 'javier-lukin' are in the races dataset before manipulating the data\n",
    "luquin_count = races_df[races_df['cyclist'] == 'javier-luquin'].shape[0]\n",
    "lukin_count = races_df[races_df['cyclist'] == 'javier-lukin'].shape[0]\n",
    "\n",
    "print(f\"Occurrences of 'javier-luquin': {luquin_count}\")\n",
    "print(f\"Occurrences of 'javier-lukin': {lukin_count}\")"
   ]
  },
  {
   "cell_type": "code",
   "execution_count": 457,
   "metadata": {},
   "outputs": [
    {
     "name": "stdout",
     "output_type": "stream",
     "text": [
      "Occurrences of 'javier-luquin': 0\n",
      "Occurrences of 'javier-lukin': 102\n"
     ]
    }
   ],
   "source": [
    "# Replace 'javier-luquin' with 'javier-lukin' in the cyclist column\n",
    "races_df['cyclist'] = races_df['cyclist'].replace('javier-luquin', 'javier-lukin')\n",
    "\n",
    "# Verify the replacement has been made successfully\n",
    "luquin_count = races_df[races_df['cyclist'] == 'javier-luquin'].shape[0]\n",
    "lukin_count = races_df[races_df['cyclist'] == 'javier-lukin'].shape[0]\n",
    "\n",
    "print(f\"Occurrences of 'javier-luquin': {luquin_count}\")\n",
    "print(f\"Occurrences of 'javier-lukin': {lukin_count}\")"
   ]
  },
  {
   "cell_type": "markdown",
   "metadata": {},
   "source": [
    "The remaining cyclists participated only in one race for each, so their weight on the overall data is minimal. For this reason, we decided to impute their birth year using a simple approach: we calculate the average debut age of the cyclists according to our data and subtract it from the first stage date of cyclists with missing age values to obtain an approximate birth year."
   ]
  },
  {
   "cell_type": "code",
   "execution_count": 458,
   "metadata": {},
   "outputs": [
    {
     "name": "stdout",
     "output_type": "stream",
     "text": [
      "Average debut year: 24\n"
     ]
    }
   ],
   "source": [
    "# We create a temporary column to store the year of the races\n",
    "races_df['race_date'] = pd.to_datetime(races_df['date']).dt.year\n",
    "\n",
    "# Calculate the debut year for each cyclist excluding the ones with missing birth year\n",
    "valid_cyclists = cyclists_df[cyclists_df['birth_year'].notnull()]\n",
    "min_race_date_per_cyclist = races_df.groupby('cyclist')['race_date'].min()\n",
    "debut_age_per_cyclist = min_race_date_per_cyclist - valid_cyclists.set_index('_url')['birth_year']\n",
    "\n",
    "# Calculate the average debut year\n",
    "average_debut_age = int(debut_age_per_cyclist.mean())\n",
    "print(f\"Average debut year: {average_debut_age}\")\n",
    "\n",
    "# Drop race_date added column, not needed anymore\n",
    "races_df.drop(columns=['race_date'], inplace=True)"
   ]
  },
  {
   "cell_type": "markdown",
   "metadata": {},
   "source": [
    "Now we calculated the average debut age of the cyclists in the dataset, we can impute the missing values in the ```birth_year``` column."
   ]
  },
  {
   "cell_type": "code",
   "execution_count": 459,
   "metadata": {},
   "outputs": [
    {
     "data": {
      "text/html": [
       "<div>\n",
       "<style scoped>\n",
       "    .dataframe tbody tr th:only-of-type {\n",
       "        vertical-align: middle;\n",
       "    }\n",
       "\n",
       "    .dataframe tbody tr th {\n",
       "        vertical-align: top;\n",
       "    }\n",
       "\n",
       "    .dataframe thead th {\n",
       "        text-align: right;\n",
       "    }\n",
       "</style>\n",
       "<table border=\"1\" class=\"dataframe\">\n",
       "  <thead>\n",
       "    <tr style=\"text-align: right;\">\n",
       "      <th></th>\n",
       "      <th>_url</th>\n",
       "      <th>name</th>\n",
       "      <th>birth_year</th>\n",
       "      <th>weight</th>\n",
       "      <th>height</th>\n",
       "      <th>nationality</th>\n",
       "    </tr>\n",
       "  </thead>\n",
       "  <tbody>\n",
       "    <tr>\n",
       "      <th>2408</th>\n",
       "      <td>filippo-simonetti</td>\n",
       "      <td>Filippo  Simonetti</td>\n",
       "      <td>1973</td>\n",
       "      <td>NaN</td>\n",
       "      <td>NaN</td>\n",
       "      <td>Italy</td>\n",
       "    </tr>\n",
       "    <tr>\n",
       "      <th>2515</th>\n",
       "      <td>carlos-garcia</td>\n",
       "      <td>Carlos  García</td>\n",
       "      <td>1977</td>\n",
       "      <td>NaN</td>\n",
       "      <td>NaN</td>\n",
       "      <td>Spain</td>\n",
       "    </tr>\n",
       "    <tr>\n",
       "      <th>2536</th>\n",
       "      <td>alexandr-osipov</td>\n",
       "      <td>Alexandr  Osipov</td>\n",
       "      <td>1961</td>\n",
       "      <td>NaN</td>\n",
       "      <td>NaN</td>\n",
       "      <td>Russia</td>\n",
       "    </tr>\n",
       "    <tr>\n",
       "      <th>3046</th>\n",
       "      <td>nicolai-kosyakov</td>\n",
       "      <td>Nicolai  Kosyakov</td>\n",
       "      <td>1961</td>\n",
       "      <td>NaN</td>\n",
       "      <td>NaN</td>\n",
       "      <td>Russia</td>\n",
       "    </tr>\n",
       "    <tr>\n",
       "      <th>3551</th>\n",
       "      <td>nevens-guy</td>\n",
       "      <td>Guy  Nevens</td>\n",
       "      <td>1969</td>\n",
       "      <td>NaN</td>\n",
       "      <td>NaN</td>\n",
       "      <td>Belgium</td>\n",
       "    </tr>\n",
       "    <tr>\n",
       "      <th>4142</th>\n",
       "      <td>oscar-pumar</td>\n",
       "      <td>Oscar  Pumar</td>\n",
       "      <td>1971</td>\n",
       "      <td>NaN</td>\n",
       "      <td>NaN</td>\n",
       "      <td>Venezuela</td>\n",
       "    </tr>\n",
       "    <tr>\n",
       "      <th>4756</th>\n",
       "      <td>thierry-lauder</td>\n",
       "      <td>Thierry  Lauder</td>\n",
       "      <td>1976</td>\n",
       "      <td>NaN</td>\n",
       "      <td>NaN</td>\n",
       "      <td>France</td>\n",
       "    </tr>\n",
       "    <tr>\n",
       "      <th>6072</th>\n",
       "      <td>sergei-jermachenko</td>\n",
       "      <td>Sergei  Jermachenko</td>\n",
       "      <td>1961</td>\n",
       "      <td>NaN</td>\n",
       "      <td>NaN</td>\n",
       "      <td>Russia</td>\n",
       "    </tr>\n",
       "    <tr>\n",
       "      <th>6080</th>\n",
       "      <td>batik-odriozola</td>\n",
       "      <td>Batik  Odriozola</td>\n",
       "      <td>1973</td>\n",
       "      <td>NaN</td>\n",
       "      <td>NaN</td>\n",
       "      <td>Spain</td>\n",
       "    </tr>\n",
       "  </tbody>\n",
       "</table>\n",
       "</div>"
      ],
      "text/plain": [
       "                    _url                 name  birth_year  weight  height  \\\n",
       "2408   filippo-simonetti   Filippo  Simonetti        1973     NaN     NaN   \n",
       "2515       carlos-garcia       Carlos  García        1977     NaN     NaN   \n",
       "2536     alexandr-osipov     Alexandr  Osipov        1961     NaN     NaN   \n",
       "3046    nicolai-kosyakov    Nicolai  Kosyakov        1961     NaN     NaN   \n",
       "3551          nevens-guy          Guy  Nevens        1969     NaN     NaN   \n",
       "4142         oscar-pumar         Oscar  Pumar        1971     NaN     NaN   \n",
       "4756      thierry-lauder      Thierry  Lauder        1976     NaN     NaN   \n",
       "6072  sergei-jermachenko  Sergei  Jermachenko        1961     NaN     NaN   \n",
       "6080     batik-odriozola     Batik  Odriozola        1973     NaN     NaN   \n",
       "\n",
       "     nationality  \n",
       "2408       Italy  \n",
       "2515       Spain  \n",
       "2536      Russia  \n",
       "3046      Russia  \n",
       "3551     Belgium  \n",
       "4142   Venezuela  \n",
       "4756      France  \n",
       "6072      Russia  \n",
       "6080       Spain  "
      ]
     },
     "execution_count": 459,
     "metadata": {},
     "output_type": "execute_result"
    }
   ],
   "source": [
    "cyclists = [\n",
    "    'filippo-simonetti',\n",
    "    'carlos-garcia',\n",
    "    'alexandr-osipov',\n",
    "    'nicolai-kosyakov',\n",
    "    'nevens-guy',\n",
    "    'oscar-pumar',\n",
    "    'thierry-lauder',\n",
    "    'sergei-jermachenko',\n",
    "    'batik-odriozola'\n",
    "]\n",
    "\n",
    "for cyclist in cyclists:\n",
    "    # Get the oldest race date for the cyclist\n",
    "    oldest_race_date = pd.to_datetime(races_df[races_df['cyclist'] == cyclist]['date']).min()\n",
    "    \n",
    "    # Calculate the birth year by subtracting the average debut age from the oldest race year\n",
    "    birth_year = oldest_race_date.year - average_debut_age\n",
    "    \n",
    "    # Update the birth year in the cyclists_df DataFrame\n",
    "    cyclists_df.loc[cyclists_df['_url'] == cyclist, 'birth_year'] = birth_year\n",
    "\n",
    "# Verify the birth years have been updated\n",
    "cyclists_df[cyclists_df['_url'].isin(cyclists)]"
   ]
  },
  {
   "cell_type": "markdown",
   "metadata": {},
   "source": [
    "Now we merge the updated information with the dataset."
   ]
  },
  {
   "cell_type": "code",
   "execution_count": 460,
   "metadata": {
    "vscode": {
     "languageId": "ruby"
    }
   },
   "outputs": [],
   "source": [
    "# Merge races_df with cyclists_df to get the birth year of each cyclist\n",
    "merged_df = races_df.merge(cyclists_df[['birth_year', '_url']], left_on='cyclist', right_on='_url', how='left')\n",
    "\n",
    "# Calculate the age by subtracting the birth year from the race year\n",
    "merged_df['calculated_age'] = pd.to_datetime(merged_df['date']).dt.year - merged_df['birth_year']\n",
    "\n",
    "# Update the missing ages in races_df with the calculated ages\n",
    "races_df['cyclist_age'] = races_df['cyclist_age'].combine_first(merged_df['calculated_age'])"
   ]
  },
  {
   "cell_type": "code",
   "execution_count": 461,
   "metadata": {},
   "outputs": [
    {
     "data": {
      "text/html": [
       "<div>\n",
       "<style scoped>\n",
       "    .dataframe tbody tr th:only-of-type {\n",
       "        vertical-align: middle;\n",
       "    }\n",
       "\n",
       "    .dataframe tbody tr th {\n",
       "        vertical-align: top;\n",
       "    }\n",
       "\n",
       "    .dataframe thead th {\n",
       "        text-align: right;\n",
       "    }\n",
       "</style>\n",
       "<table border=\"1\" class=\"dataframe\">\n",
       "  <thead>\n",
       "    <tr style=\"text-align: right;\">\n",
       "      <th></th>\n",
       "      <th>_url</th>\n",
       "      <th>name</th>\n",
       "      <th>points</th>\n",
       "      <th>uci_points</th>\n",
       "      <th>length</th>\n",
       "      <th>climb_total</th>\n",
       "      <th>profile</th>\n",
       "      <th>startlist_quality</th>\n",
       "      <th>average_temperature</th>\n",
       "      <th>date</th>\n",
       "      <th>position</th>\n",
       "      <th>cyclist</th>\n",
       "      <th>cyclist_age</th>\n",
       "      <th>is_tarmac</th>\n",
       "      <th>is_cobbled</th>\n",
       "      <th>is_gravel</th>\n",
       "      <th>cyclist_team</th>\n",
       "      <th>delta</th>\n",
       "    </tr>\n",
       "  </thead>\n",
       "  <tbody>\n",
       "    <tr>\n",
       "      <th>27825</th>\n",
       "      <td>la-fleche-wallone/1997/result</td>\n",
       "      <td>La Flèche Wallonne</td>\n",
       "      <td>225.0</td>\n",
       "      <td>NaN</td>\n",
       "      <td>200500.0</td>\n",
       "      <td>NaN</td>\n",
       "      <td>NaN</td>\n",
       "      <td>1090</td>\n",
       "      <td>NaN</td>\n",
       "      <td>1997-04-16 05:07:05</td>\n",
       "      <td>57</td>\n",
       "      <td>filippo-simonetti</td>\n",
       "      <td>24.0</td>\n",
       "      <td>False</td>\n",
       "      <td>False</td>\n",
       "      <td>False</td>\n",
       "      <td>NaN</td>\n",
       "      <td>5.0</td>\n",
       "    </tr>\n",
       "  </tbody>\n",
       "</table>\n",
       "</div>"
      ],
      "text/plain": [
       "                                _url                name  points  uci_points  \\\n",
       "27825  la-fleche-wallone/1997/result  La Flèche Wallonne   225.0         NaN   \n",
       "\n",
       "         length  climb_total  profile  startlist_quality  average_temperature  \\\n",
       "27825  200500.0          NaN      NaN               1090                  NaN   \n",
       "\n",
       "                      date  position            cyclist  cyclist_age  \\\n",
       "27825  1997-04-16 05:07:05        57  filippo-simonetti         24.0   \n",
       "\n",
       "       is_tarmac  is_cobbled  is_gravel cyclist_team  delta  \n",
       "27825      False       False      False          NaN    5.0  "
      ]
     },
     "execution_count": 461,
     "metadata": {},
     "output_type": "execute_result"
    }
   ],
   "source": [
    "# Dumb check to see if the birth year has been updated\n",
    "races_df[races_df['cyclist'] == 'filippo-simonetti']"
   ]
  },
  {
   "cell_type": "markdown",
   "metadata": {},
   "source": [
    "#### ```weight```, ```weight``` columns"
   ]
  },
  {
   "cell_type": "markdown",
   "metadata": {},
   "source": [
    "Since ```weight``` and ```height``` columns have ~50% of null values we decide to not consider the two column for the general analysis. We reserve the right to reuse them for anthropometric/morphological analyses (in that case we will keep only rows for which we have the values)."
   ]
  },
  {
   "cell_type": "code",
   "execution_count": 462,
   "metadata": {},
   "outputs": [
    {
     "name": "stdout",
     "output_type": "stream",
     "text": [
      "Percentage of null values in weight column: 49.75%\n",
      "Percentage of null values in height column: 48.69%\n"
     ]
    }
   ],
   "source": [
    "# Calculate the percentage of null values in the weight and height columns\n",
    "weight_null_percentage = cyclists_df['weight'].isnull().sum() / len(cyclists_df) * 100\n",
    "height_null_percentage = cyclists_df['height'].isnull().sum() / len(cyclists_df) * 100\n",
    "\n",
    "print(f\"Percentage of null values in weight column: {weight_null_percentage:.2f}%\")\n",
    "print(f\"Percentage of null values in height column: {height_null_percentage:.2f}%\")"
   ]
  },
  {
   "cell_type": "markdown",
   "metadata": {},
   "source": [
    "#### ```nationality``` column column"
   ]
  },
  {
   "cell_type": "markdown",
   "metadata": {},
   "source": [
    "Now we impute the only null value for nationality which is the one associated to Scott Davies, who's from Great Britain."
   ]
  },
  {
   "cell_type": "code",
   "execution_count": 463,
   "metadata": {},
   "outputs": [
    {
     "data": {
      "text/html": [
       "<div>\n",
       "<style scoped>\n",
       "    .dataframe tbody tr th:only-of-type {\n",
       "        vertical-align: middle;\n",
       "    }\n",
       "\n",
       "    .dataframe tbody tr th {\n",
       "        vertical-align: top;\n",
       "    }\n",
       "\n",
       "    .dataframe thead th {\n",
       "        text-align: right;\n",
       "    }\n",
       "</style>\n",
       "<table border=\"1\" class=\"dataframe\">\n",
       "  <thead>\n",
       "    <tr style=\"text-align: right;\">\n",
       "      <th></th>\n",
       "      <th>_url</th>\n",
       "      <th>name</th>\n",
       "      <th>birth_year</th>\n",
       "      <th>weight</th>\n",
       "      <th>height</th>\n",
       "      <th>nationality</th>\n",
       "    </tr>\n",
       "  </thead>\n",
       "  <tbody>\n",
       "    <tr>\n",
       "      <th>9</th>\n",
       "      <td>scott-davies</td>\n",
       "      <td>Scott  Davies</td>\n",
       "      <td>1995</td>\n",
       "      <td>NaN</td>\n",
       "      <td>NaN</td>\n",
       "      <td>&lt;NA&gt;</td>\n",
       "    </tr>\n",
       "  </tbody>\n",
       "</table>\n",
       "</div>"
      ],
      "text/plain": [
       "           _url           name  birth_year  weight  height nationality\n",
       "9  scott-davies  Scott  Davies        1995     NaN     NaN        <NA>"
      ]
     },
     "execution_count": 463,
     "metadata": {},
     "output_type": "execute_result"
    }
   ],
   "source": [
    "cyclists_df[cyclists_df['nationality'].isnull()]"
   ]
  },
  {
   "cell_type": "code",
   "execution_count": 464,
   "metadata": {},
   "outputs": [
    {
     "data": {
      "text/html": [
       "<div>\n",
       "<style scoped>\n",
       "    .dataframe tbody tr th:only-of-type {\n",
       "        vertical-align: middle;\n",
       "    }\n",
       "\n",
       "    .dataframe tbody tr th {\n",
       "        vertical-align: top;\n",
       "    }\n",
       "\n",
       "    .dataframe thead th {\n",
       "        text-align: right;\n",
       "    }\n",
       "</style>\n",
       "<table border=\"1\" class=\"dataframe\">\n",
       "  <thead>\n",
       "    <tr style=\"text-align: right;\">\n",
       "      <th></th>\n",
       "      <th>_url</th>\n",
       "      <th>name</th>\n",
       "      <th>birth_year</th>\n",
       "      <th>weight</th>\n",
       "      <th>height</th>\n",
       "      <th>nationality</th>\n",
       "    </tr>\n",
       "  </thead>\n",
       "  <tbody>\n",
       "    <tr>\n",
       "      <th>9</th>\n",
       "      <td>scott-davies</td>\n",
       "      <td>Scott  Davies</td>\n",
       "      <td>1995</td>\n",
       "      <td>NaN</td>\n",
       "      <td>NaN</td>\n",
       "      <td>Great Britain</td>\n",
       "    </tr>\n",
       "  </tbody>\n",
       "</table>\n",
       "</div>"
      ],
      "text/plain": [
       "           _url           name  birth_year  weight  height    nationality\n",
       "9  scott-davies  Scott  Davies        1995     NaN     NaN  Great Britain"
      ]
     },
     "execution_count": 464,
     "metadata": {},
     "output_type": "execute_result"
    }
   ],
   "source": [
    "# Set Great Britain as the nationality for the cyclist 'scott-davies'\n",
    "cyclists_df.loc[cyclists_df['_url'] == 'scott-davies', 'nationality'] = 'Great Britain'\n",
    "\n",
    "# Verify\n",
    "cyclists_df[cyclists_df['_url'] == 'scott-davies']"
   ]
  },
  {
   "cell_type": "markdown",
   "metadata": {},
   "source": [
    "## Races Dataset"
   ]
  },
  {
   "cell_type": "markdown",
   "metadata": {},
   "source": [
    "### Duplicate removal"
   ]
  },
  {
   "cell_type": "markdown",
   "metadata": {},
   "source": [
    "All rows that have  duplicate cyclists for the same ```_url``` and are removed. We drop both the duplicates since we don't know which one is the correct one."
   ]
  },
  {
   "cell_type": "code",
   "execution_count": 465,
   "metadata": {},
   "outputs": [
    {
     "name": "stdout",
     "output_type": "stream",
     "text": [
      "Number of dropped rows: 249\n"
     ]
    }
   ],
   "source": [
    "# Group by '_url' and filter out rows where 'cyclist' is duplicated within each group\n",
    "initial_row_count = races_df.shape[0]\n",
    "races_df = races_df[~races_df.duplicated(subset=['_url', 'cyclist'], keep=False)]\n",
    "\n",
    "dropped_rows = initial_row_count - races_df.shape[0]\n",
    "print(f\"Number of dropped rows: {dropped_rows}\")"
   ]
  },
  {
   "cell_type": "markdown",
   "metadata": {},
   "source": [
    "TODO: add comment"
   ]
  },
  {
   "cell_type": "code",
   "execution_count": 466,
   "metadata": {},
   "outputs": [
    {
     "name": "stdout",
     "output_type": "stream",
     "text": [
      "Occurrences of cyclists removed: 0\n"
     ]
    }
   ],
   "source": [
    "# Identify cyclists who did not participate in races\n",
    "cyclists_not_in_races = np.setdiff1d(cyclists_df['_url'].unique(), races_df['cyclist'].unique())\n",
    "\n",
    "initial_cyclists_count = len(cyclists_df)\n",
    "\n",
    "# Remove cyclists who did not participate\n",
    "cyclists_df = cyclists_df[~cyclists_df['_url'].isin(cyclists_not_in_races)]\n",
    "\n",
    "removed_cyclists_count = initial_cyclists_count - len(cyclists_df)\n",
    "\n",
    "print(f\"Occurrences of cyclists removed: {removed_cyclists_count}\")"
   ]
  },
  {
   "cell_type": "markdown",
   "metadata": {},
   "source": [
    "### Per column cleaning"
   ]
  },
  {
   "cell_type": "markdown",
   "metadata": {},
   "source": [
    "#### ```points``` column"
   ]
  },
  {
   "cell_type": "code",
   "execution_count": 467,
   "metadata": {},
   "outputs": [
    {
     "data": {
      "text/plain": [
       "477"
      ]
     },
     "execution_count": 467,
     "metadata": {},
     "output_type": "execute_result"
    }
   ],
   "source": [
    "int(races_df['points'].isnull().sum())"
   ]
  },
  {
   "cell_type": "markdown",
   "metadata": {},
   "source": [
    "We show which races have missing points."
   ]
  },
  {
   "cell_type": "code",
   "execution_count": 468,
   "metadata": {},
   "outputs": [
    {
     "data": {
      "text/plain": [
       "_url\n",
       "vuelta-a-espana/1994/stage-5    165\n",
       "tour-de-france/2019/stage-19    155\n",
       "tour-de-france/1986/stage-19    135\n",
       "tour-de-france/1988/prologue     22\n",
       "Name: count, dtype: int64"
      ]
     },
     "execution_count": 468,
     "metadata": {},
     "output_type": "execute_result"
    }
   ],
   "source": [
    "races_df[races_df['points'].isnull()]['_url'].value_counts()"
   ]
  },
  {
   "cell_type": "markdown",
   "metadata": {},
   "source": [
    "We can notice that only four stages do not have points information. So we decide to impute missing values usign a segmentation approach: we compute the median value of that particular stage across the years."
   ]
  },
  {
   "cell_type": "code",
   "execution_count": 469,
   "metadata": {},
   "outputs": [
    {
     "data": {
      "text/plain": [
       "0"
      ]
     },
     "execution_count": 469,
     "metadata": {},
     "output_type": "execute_result"
    }
   ],
   "source": [
    "null_urls = ['vuelta-a-espana/1994/stage-5', 'tour-de-france/2019/stage-19', 'tour-de-france/1986/stage-19', 'tour-de-france/1988/prologue']\n",
    "\n",
    "for url in null_urls:\n",
    "    # split the url by '/'\n",
    "    url_parts = url.split('/')\n",
    "    # find the urls with the same first and third parts excluding the second part\n",
    "    matching_urls = races_df['_url'].apply(lambda x: x.split('/')).apply(lambda x: x[0] == url_parts[0] and x[2] == url_parts[2] and x[1] != url_parts[1])\n",
    "    # calculate the median points for the matching urls\n",
    "    median = races_df[matching_urls]['points'].median()\n",
    "    # update the null values with the median\n",
    "    races_df.loc[races_df['_url'] == url, 'points'] = races_df.loc[races_df['_url'] == url, 'points'].fillna(median)\n",
    "    \n",
    "# Verify the null values have been updated\n",
    "int(races_df['points'].isnull().sum())"
   ]
  },
  {
   "cell_type": "markdown",
   "metadata": {},
   "source": [
    "#### ```uci_points``` column"
   ]
  },
  {
   "cell_type": "markdown",
   "metadata": {},
   "source": [
    "As they have a lot of missing values and we have points infomation, we decide to drop this column."
   ]
  },
  {
   "cell_type": "code",
   "execution_count": 470,
   "metadata": {},
   "outputs": [],
   "source": [
    "races_df.drop(columns=['uci_points'], inplace=True)"
   ]
  },
  {
   "cell_type": "markdown",
   "metadata": {},
   "source": [
    "#### ```average_temperature``` column"
   ]
  },
  {
   "cell_type": "markdown",
   "metadata": {},
   "source": [
    "Since we have few known values, we decide to drop the column."
   ]
  },
  {
   "cell_type": "code",
   "execution_count": 471,
   "metadata": {},
   "outputs": [
    {
     "name": "stdout",
     "output_type": "stream",
     "text": [
      "Remaining columns after dropping 'average_temperature':\n",
      "Index(['_url', 'name', 'points', 'length', 'climb_total', 'profile',\n",
      "       'startlist_quality', 'date', 'position', 'cyclist', 'cyclist_age',\n",
      "       'is_tarmac', 'is_cobbled', 'is_gravel', 'cyclist_team', 'delta'],\n",
      "      dtype='object')\n"
     ]
    }
   ],
   "source": [
    "races_df.drop(columns=['average_temperature'], inplace=True)\n",
    "print(f\"Remaining columns after dropping 'average_temperature':\")\n",
    "print(races_df.columns)"
   ]
  },
  {
   "cell_type": "markdown",
   "metadata": {},
   "source": [
    "#### ```delta``` column"
   ]
  },
  {
   "cell_type": "markdown",
   "metadata": {},
   "source": [
    "Since the delta column contains some negative values which are not admissible and, more in general, the column is not useful for our analysis, we decide to drop it."
   ]
  },
  {
   "cell_type": "code",
   "execution_count": 472,
   "metadata": {
    "vscode": {
     "languageId": "ruby"
    }
   },
   "outputs": [
    {
     "data": {
      "text/plain": [
       "Index(['_url', 'name', 'points', 'length', 'climb_total', 'profile',\n",
       "       'startlist_quality', 'date', 'position', 'cyclist', 'cyclist_age',\n",
       "       'is_tarmac', 'is_cobbled', 'is_gravel', 'cyclist_team'],\n",
       "      dtype='object')"
      ]
     },
     "execution_count": 472,
     "metadata": {},
     "output_type": "execute_result"
    }
   ],
   "source": [
    "races_df.drop(columns=['delta'], inplace=True)\n",
    "races_df.columns"
   ]
  },
  {
   "cell_type": "markdown",
   "metadata": {},
   "source": [
    "#### ```is_cobbled```, ```is_gravel``` columns"
   ]
  },
  {
   "cell_type": "markdown",
   "metadata": {},
   "source": [
    "Since all the values are False so they are not informative, we decide to drop the columns."
   ]
  },
  {
   "cell_type": "code",
   "execution_count": 473,
   "metadata": {},
   "outputs": [
    {
     "name": "stdout",
     "output_type": "stream",
     "text": [
      "Remaining columns after dropping 'average_temperature':\n",
      "Index(['_url', 'name', 'points', 'length', 'climb_total', 'profile',\n",
      "       'startlist_quality', 'date', 'position', 'cyclist', 'cyclist_age',\n",
      "       'is_tarmac', 'cyclist_team'],\n",
      "      dtype='object')\n"
     ]
    }
   ],
   "source": [
    "races_df.drop(columns=['is_cobbled', 'is_gravel'], inplace=True)\n",
    "print(f\"Remaining columns after dropping 'average_temperature':\")\n",
    "print(races_df.columns)"
   ]
  },
  {
   "cell_type": "markdown",
   "metadata": {},
   "source": [
    "## TODO: move to DU"
   ]
  },
  {
   "cell_type": "code",
   "execution_count": 474,
   "metadata": {},
   "outputs": [
    {
     "data": {
      "image/png": "[encoded data removed]",
      "text/plain": [
       "<Figure size 1200x800 with 1 Axes>"
      ]
     },
     "metadata": {},
     "output_type": "display_data"
    }
   ],
   "source": [
    "# Visualize a heatmap of the presence of data in the races_df dataset\n",
    "plt.figure(figsize=(12, 8))\n",
    "\n",
    "# Sample a subset of the data to avoid memory issues\n",
    "sampled_races_df = races_df.sample(frac=0.1, random_state=1)\n",
    "\n",
    "sns.heatmap(sampled_races_df.isnull(), cbar=False, cmap='viridis')\n",
    "plt.title('Heatmap of Data Presence in Races Dataset')\n",
    "plt.show()"
   ]
  },
  {
   "cell_type": "markdown",
   "metadata": {},
   "source": [
    "### **OBS:**\n",
    "we should check the question of deltas and dates, if indeed all deltas can be derived from deltas (which seem to represent the duration of the race) then we can discard deltas. (deltas are the differences in the dates) "
   ]
  },
  {
   "cell_type": "markdown",
   "metadata": {},
   "source": [
    "During the data cleaning process we eliminated some rows from the races dataframe because of missing values in some columns. So now we check again if there are some cyclists that don't have any races stage associated with and we drop them if any."
   ]
  },
  {
   "cell_type": "code",
   "execution_count": 475,
   "metadata": {},
   "outputs": [
    {
     "name": "stdout",
     "output_type": "stream",
     "text": [
      "Occurrences of cyclists removed: 0\n"
     ]
    }
   ],
   "source": [
    "# Identify cyclists who did not participate in races\n",
    "cyclists_not_in_races = np.setdiff1d(cyclists_df['_url'].unique(), races_df['cyclist'].unique())\n",
    "\n",
    "initial_cyclists_count = len(cyclists_df)\n",
    "\n",
    "# Remove cyclists who did not participate\n",
    "cyclists_df = cyclists_df[~cyclists_df['_url'].isin(cyclists_not_in_races)]\n",
    "\n",
    "removed_cyclists_count = initial_cyclists_count - len(cyclists_df)\n",
    "\n",
    "print(f\"Occurrences of cyclists removed: {removed_cyclists_count}\")"
   ]
  },
  {
   "cell_type": "markdown",
   "metadata": {},
   "source": [
    "#### Store cleaned datasets"
   ]
  },
  {
   "cell_type": "code",
   "execution_count": 476,
   "metadata": {},
   "outputs": [],
   "source": [
    "cyclists_df.to_csv('../dataset/cleaned_cyclists.csv', index=False)\n",
    "races_df.to_csv('../dataset/cleaned_races.csv', index=False)"
   ]
  }
 ],
 "metadata": {
  "kernelspec": {
   "display_name": "dm",
   "language": "python",
   "name": "python3"
  },
  "language_info": {
   "codemirror_mode": {
    "name": "ipython",
    "version": 3
   },
   "file_extension": ".py",
   "mimetype": "text/x-python",
   "name": "python",
   "nbconvert_exporter": "python",
   "pygments_lexer": "ipython3",
   "version": "3.12.7"
  }
 },
 "nbformat": 4,
 "nbformat_minor": 2
}
